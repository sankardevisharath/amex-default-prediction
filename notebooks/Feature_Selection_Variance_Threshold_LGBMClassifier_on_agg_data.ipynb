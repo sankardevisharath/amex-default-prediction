{
  "cells": [
    {
      "cell_type": "markdown",
      "metadata": {
        "id": "view-in-github",
        "colab_type": "text"
      },
      "source": [
        "<a href=\"https://colab.research.google.com/github/sankardevisharath/amex-default-prediction/blob/master/notebooks/Feature_Selection_Variance_Threshold_LGBMClassifier_on_agg_data.ipynb\" target=\"_parent\"><img src=\"https://colab.research.google.com/assets/colab-badge.svg\" alt=\"Open In Colab\"/></a>"
      ]
    },
    {
      "cell_type": "code",
      "execution_count": 28,
      "metadata": {
        "id": "nx_k17C4dJpj"
      },
      "outputs": [],
      "source": [
        "import gc \n",
        "\n",
        "import numpy as np\n",
        "import pandas as pd\n",
        "import lightgbm as gbm\n",
        "from sklearn.preprocessing import OrdinalEncoder\n",
        "from sklearn.model_selection import train_test_split\n",
        "from sklearn.metrics import confusion_matrix\n",
        "from sklearn.metrics import f1_score\n",
        "from sklearn.feature_selection import SequentialFeatureSelector\n",
        "from sklearn.feature_selection import SelectPercentile, chi2, mutual_info_classif, RFECV\n",
        "from sklearn.feature_selection import VarianceThreshold\n",
        "from sklearn.metrics import classification_report\n",
        "\n",
        "import matplotlib.pyplot as plt\n",
        "from sklearn.datasets import make_classification\n",
        "from sklearn.metrics import plot_confusion_matrix"
      ]
    },
    {
      "cell_type": "code",
      "execution_count": 2,
      "metadata": {
        "id": "AUrNOiSyZ3NT"
      },
      "outputs": [],
      "source": [
        "df = pd.read_parquet(path='/content/drive/MyDrive/amex-default-prediction/data/aggr/customer-agg.parquet')"
      ]
    },
    {
      "cell_type": "code",
      "execution_count": 3,
      "metadata": {
        "colab": {
          "base_uri": "https://localhost:8080/"
        },
        "id": "X4fUCrbFaZdc",
        "outputId": "6c82df17-9a44-4e1c-ea7b-cebab8be3501"
      },
      "outputs": [
        {
          "output_type": "stream",
          "name": "stdout",
          "text": [
            "<class 'pandas.core.frame.DataFrame'>\n",
            "Int64Index: 458913 entries, 0 to 458912\n",
            "Columns: 920 entries, customer_ID to target\n",
            "dtypes: float64(891), int64(26), object(3)\n",
            "memory usage: 3.1+ GB\n"
          ]
        }
      ],
      "source": [
        "df.info()"
      ]
    },
    {
      "cell_type": "code",
      "execution_count": 4,
      "metadata": {
        "colab": {
          "base_uri": "https://localhost:8080/"
        },
        "id": "PIDBW09DahOq",
        "outputId": "3a4f1c17-d8a8-4851-acea-1d2ce49487a1"
      },
      "outputs": [
        {
          "output_type": "execute_result",
          "data": {
            "text/plain": [
              "customer_ID    object\n",
              "D_63_last      object\n",
              "D_64_last      object\n",
              "dtype: object"
            ]
          },
          "metadata": {},
          "execution_count": 4
        }
      ],
      "source": [
        "columns = df.head().dtypes\n",
        "columns[columns==object]\n"
      ]
    },
    {
      "cell_type": "code",
      "execution_count": 5,
      "metadata": {
        "id": "IdDL1GU3gPxH"
      },
      "outputs": [],
      "source": [
        "cat_cols = ['D_63', 'D_64','B_30', 'B_38', 'D_114', 'D_116', 'D_117', 'D_120', 'D_126', 'D_66', 'D_68']\n",
        "TRAIN_LABELS_PATH = '/content/train_labels.csv'"
      ]
    },
    {
      "cell_type": "code",
      "execution_count": 6,
      "metadata": {
        "id": "Ivmf5DcQc6tP"
      },
      "outputs": [],
      "source": [
        "X = pd.DataFrame()\n",
        "Y = pd.DataFrame()\n",
        "\n",
        "enc = OrdinalEncoder(handle_unknown='use_encoded_value', unknown_value=10)\n",
        "df[['D_63_last', 'D_64_last']]=enc.fit(df[['D_63_last', 'D_64_last']])\n",
        "df[['D_63_last', 'D_64_last']]=enc.transform(df[['D_63_last', 'D_64_last']])\n",
        "df.fillna(0, inplace=True)\n",
        "X= X.append(df.loc[:, ~df.columns.isin(['customer_ID', 'target'])])\n",
        "Y = Y.append(df.loc[:, df.columns == 'target'])"
      ]
    },
    {
      "cell_type": "code",
      "execution_count": 7,
      "metadata": {
        "id": "nvz7kcD8frrt"
      },
      "outputs": [],
      "source": [
        "#clf = gbm.LGBMClassifier(subsample=0.8, colsample_bytree=0.6)\n",
        "clf = gbm.LGBMClassifier()"
      ]
    },
    {
      "cell_type": "code",
      "source": [
        "sfs = VarianceThreshold()"
      ],
      "metadata": {
        "id": "SF-jn2kNMwNy"
      },
      "execution_count": 8,
      "outputs": []
    },
    {
      "cell_type": "code",
      "source": [
        "sfs = sfs.fit(X)"
      ],
      "metadata": {
        "id": "j6HaT-eiMxvK"
      },
      "execution_count": 9,
      "outputs": []
    },
    {
      "cell_type": "code",
      "source": [
        "concol = [column for column in X.columns \n",
        "          if column not in X.columns[sfs.get_support()]]\n",
        "len(concol)"
      ],
      "metadata": {
        "colab": {
          "base_uri": "https://localhost:8080/"
        },
        "id": "WH2oj9PrRlK5",
        "outputId": "2b3e5f72-3b42-4f95-93f6-19c18fd775b1"
      },
      "execution_count": 10,
      "outputs": [
        {
          "output_type": "execute_result",
          "data": {
            "text/plain": [
              "3"
            ]
          },
          "metadata": {},
          "execution_count": 10
        }
      ]
    },
    {
      "cell_type": "code",
      "source": [
        "for features in concol:\n",
        "    print(features)"
      ],
      "metadata": {
        "colab": {
          "base_uri": "https://localhost:8080/"
        },
        "id": "byPBVHc-Tzof",
        "outputId": "caa66a8f-fbdf-4c1b-ffc0-bf785c811a32"
      },
      "execution_count": 11,
      "outputs": [
        {
          "output_type": "stream",
          "name": "stdout",
          "text": [
            "D_87_std\n",
            "D_63_last\n",
            "D_64_last\n"
          ]
        }
      ]
    },
    {
      "cell_type": "code",
      "source": [
        "X.D_64_last.unique()"
      ],
      "metadata": {
        "colab": {
          "base_uri": "https://localhost:8080/"
        },
        "id": "jN7yHDsRTSc8",
        "outputId": "6a3eee88-d7c7-4c67-a99f-11c57a6735db"
      },
      "execution_count": 12,
      "outputs": [
        {
          "output_type": "execute_result",
          "data": {
            "text/plain": [
              "array([10.])"
            ]
          },
          "metadata": {},
          "execution_count": 12
        }
      ]
    },
    {
      "cell_type": "code",
      "source": [
        "X = sfs.transform(X)"
      ],
      "metadata": {
        "id": "95f8lAD_UWuH"
      },
      "execution_count": 13,
      "outputs": []
    },
    {
      "cell_type": "code",
      "source": [
        "X.shape"
      ],
      "metadata": {
        "colab": {
          "base_uri": "https://localhost:8080/"
        },
        "id": "BdP9mp2LXuIw",
        "outputId": "2e43c372-a1c4-4db0-cdea-988a9130c5b1"
      },
      "execution_count": 14,
      "outputs": [
        {
          "output_type": "execute_result",
          "data": {
            "text/plain": [
              "(458913, 915)"
            ]
          },
          "metadata": {},
          "execution_count": 14
        }
      ]
    },
    {
      "cell_type": "code",
      "source": [],
      "metadata": {
        "id": "yrmeEbK8RGzq"
      },
      "execution_count": 14,
      "outputs": []
    },
    {
      "cell_type": "code",
      "source": [
        " X_train, X_test, y_train, y_test = train_test_split(X, Y, test_size=0.2)"
      ],
      "metadata": {
        "id": "h9JLisbTQSrS"
      },
      "execution_count": 15,
      "outputs": []
    },
    {
      "cell_type": "code",
      "execution_count": 16,
      "metadata": {
        "colab": {
          "base_uri": "https://localhost:8080/"
        },
        "id": "d-Ho-fcIf3vw",
        "outputId": "e1ec1dd4-1268-4085-cb43-6d9ca66d7118"
      },
      "outputs": [
        {
          "output_type": "execute_result",
          "data": {
            "text/plain": [
              "LGBMClassifier()"
            ]
          },
          "metadata": {},
          "execution_count": 16
        }
      ],
      "source": [
        "clf.fit(X_train, y_train.values.ravel())"
      ]
    },
    {
      "cell_type": "code",
      "execution_count": 17,
      "metadata": {
        "colab": {
          "base_uri": "https://localhost:8080/"
        },
        "id": "ibJJW5MSTYwU",
        "outputId": "341b7e6e-3f90-4506-92c9-34046f7647e0"
      },
      "outputs": [
        {
          "output_type": "execute_result",
          "data": {
            "text/plain": [
              "0.9003519170216707"
            ]
          },
          "metadata": {},
          "execution_count": 17
        }
      ],
      "source": [
        "clf.score(X_test, y_test)"
      ]
    },
    {
      "cell_type": "code",
      "execution_count": 18,
      "metadata": {
        "colab": {
          "base_uri": "https://localhost:8080/"
        },
        "id": "NGMAsrrtTcWy",
        "outputId": "aa6ae635-0bcd-494d-89a7-e7bcc2590c93"
      },
      "outputs": [
        {
          "output_type": "execute_result",
          "data": {
            "text/plain": [
              "{'boosting_type': 'gbdt',\n",
              " 'class_weight': None,\n",
              " 'colsample_bytree': 1.0,\n",
              " 'importance_type': 'split',\n",
              " 'learning_rate': 0.1,\n",
              " 'max_depth': -1,\n",
              " 'min_child_samples': 20,\n",
              " 'min_child_weight': 0.001,\n",
              " 'min_split_gain': 0.0,\n",
              " 'n_estimators': 100,\n",
              " 'n_jobs': -1,\n",
              " 'num_leaves': 31,\n",
              " 'objective': None,\n",
              " 'random_state': None,\n",
              " 'reg_alpha': 0.0,\n",
              " 'reg_lambda': 0.0,\n",
              " 'silent': True,\n",
              " 'subsample': 1.0,\n",
              " 'subsample_for_bin': 200000,\n",
              " 'subsample_freq': 0}"
            ]
          },
          "metadata": {},
          "execution_count": 18
        }
      ],
      "source": [
        "clf.get_params()"
      ]
    },
    {
      "cell_type": "code",
      "execution_count": 19,
      "metadata": {
        "id": "rEZ7WJg-ri_c"
      },
      "outputs": [],
      "source": [
        "y_pred = clf.predict(X_test)"
      ]
    },
    {
      "cell_type": "code",
      "execution_count": 20,
      "metadata": {
        "id": "VpDuIcwcr-rn"
      },
      "outputs": [],
      "source": [
        "tn, fp, fn, tp = confusion_matrix(y_test, y_pred).ravel()"
      ]
    },
    {
      "cell_type": "code",
      "execution_count": 21,
      "metadata": {
        "colab": {
          "base_uri": "https://localhost:8080/"
        },
        "id": "EegTKc03sL4F",
        "outputId": "50cd9d0a-f3e7-4c5e-a9c0-1c3740de8847"
      },
      "outputs": [
        {
          "output_type": "execute_result",
          "data": {
            "text/plain": [
              "(63568, 4583, 4563, 19069)"
            ]
          },
          "metadata": {},
          "execution_count": 21
        }
      ],
      "source": [
        "tn, fp, fn, tp"
      ]
    },
    {
      "cell_type": "code",
      "execution_count": 22,
      "metadata": {
        "colab": {
          "base_uri": "https://localhost:8080/"
        },
        "id": "0h4Ph6YMsi_L",
        "outputId": "04da73c5-c369-4b83-9e17-8b51f2d1be66"
      },
      "outputs": [
        {
          "output_type": "execute_result",
          "data": {
            "text/plain": [
              "0.8065730479654851"
            ]
          },
          "metadata": {},
          "execution_count": 22
        }
      ],
      "source": [
        "f1_score(y_test, y_pred)"
      ]
    },
    {
      "cell_type": "code",
      "source": [
        "print(classification_report(y_test, y_pred, digits=4))"
      ],
      "metadata": {
        "id": "8oP9Zx1kNZjY",
        "colab": {
          "base_uri": "https://localhost:8080/"
        },
        "outputId": "6397b4da-d139-47ca-f13d-8ccfd3ffe00e"
      },
      "execution_count": 27,
      "outputs": [
        {
          "output_type": "stream",
          "name": "stdout",
          "text": [
            "              precision    recall  f1-score   support\n",
            "\n",
            "           0     0.9330    0.9328    0.9329     68151\n",
            "           1     0.8062    0.8069    0.8066     23632\n",
            "\n",
            "    accuracy                         0.9004     91783\n",
            "   macro avg     0.8696    0.8698    0.8697     91783\n",
            "weighted avg     0.9004    0.9004    0.9004     91783\n",
            "\n"
          ]
        }
      ]
    },
    {
      "cell_type": "code",
      "source": [
        "plot_confusion_matrix(clf, X_test, y_test)  \n",
        "plt.show()"
      ],
      "metadata": {
        "colab": {
          "base_uri": "https://localhost:8080/",
          "height": 334
        },
        "id": "astmi9G5W0mc",
        "outputId": "0a82ca80-88aa-4c10-c30a-e922f8bb45ed"
      },
      "execution_count": 29,
      "outputs": [
        {
          "output_type": "stream",
          "name": "stderr",
          "text": [
            "/usr/local/lib/python3.7/dist-packages/sklearn/utils/deprecation.py:87: FutureWarning: Function plot_confusion_matrix is deprecated; Function `plot_confusion_matrix` is deprecated in 1.0 and will be removed in 1.2. Use one of the class methods: ConfusionMatrixDisplay.from_predictions or ConfusionMatrixDisplay.from_estimator.\n",
            "  warnings.warn(msg, category=FutureWarning)\n"
          ]
        },
        {
          "output_type": "display_data",
          "data": {
            "text/plain": [
              "<Figure size 432x288 with 2 Axes>"
            ],
            "image/png": "[encoded data removed]"
          },
          "metadata": {
            "needs_background": "light"
          }
        }
      ]
    },
    {
      "cell_type": "markdown",
      "source": [
        "\n",
        "\n",
        "*   TN = Non defaulting customer and my model predicted that customer won't default.\n",
        "*   FP = Non defaulting customer but my model predicted that the customer will default.\n",
        "*   FN = Customer defaulted but my model predicted that the customer will not default.\n",
        "*   TP = Customer defaulted and my model predicted customer will default.\n",
        "\n"
      ],
      "metadata": {
        "id": "xyb8EMi_X8b1"
      }
    }
  ],
  "metadata": {
    "colab": {
      "collapsed_sections": [],
      "machine_shape": "hm",
      "provenance": [],
      "mount_file_id": "1t5D-zLrDjb8HPXciBZHXzd3tQYG-_4A_",
      "authorship_tag": "ABX9TyOYwOPfR0CU3w2EXZ37GbLS",
      "include_colab_link": true
    },
    "gpuClass": "standard",
    "kernelspec": {
      "display_name": "Python 3",
      "name": "python3"
    },
    "language_info": {
      "name": "python"
    }
  },
  "nbformat": 4,
  "nbformat_minor": 0
}