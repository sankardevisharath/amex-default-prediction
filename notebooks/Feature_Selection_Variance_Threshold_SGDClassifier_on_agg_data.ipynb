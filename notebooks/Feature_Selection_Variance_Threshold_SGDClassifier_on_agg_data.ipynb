{
  "cells": [
    {
      "cell_type": "markdown",
      "metadata": {
        "id": "view-in-github",
        "colab_type": "text"
      },
      "source": [
        "<a href=\"https://colab.research.google.com/github/sankardevisharath/amex-default-prediction/blob/master/notebooks/Feature_Selection_Variance_Threshold_SGDClassifier_on_agg_data.ipynb\" target=\"_parent\"><img src=\"https://colab.research.google.com/assets/colab-badge.svg\" alt=\"Open In Colab\"/></a>"
      ]
    },
    {
      "cell_type": "code",
      "execution_count": 1,
      "metadata": {
        "id": "nx_k17C4dJpj"
      },
      "outputs": [],
      "source": [
        "import gc \n",
        "\n",
        "import numpy as np\n",
        "import pandas as pd\n",
        "import lightgbm as gbm\n",
        "from sklearn.preprocessing import OrdinalEncoder\n",
        "from sklearn.model_selection import train_test_split\n",
        "from sklearn.metrics import confusion_matrix\n",
        "from sklearn.metrics import f1_score\n",
        "from sklearn.feature_selection import SequentialFeatureSelector\n",
        "from sklearn.feature_selection import SelectPercentile, chi2, mutual_info_classif, RFECV\n",
        "from sklearn.feature_selection import VarianceThreshold\n",
        "from sklearn.metrics import classification_report\n",
        "from sklearn.linear_model import SGDClassifier\n",
        "\n",
        "import matplotlib.pyplot as plt\n",
        "from sklearn.datasets import make_classification\n",
        "from sklearn.metrics import plot_confusion_matrix\n"
      ]
    },
    {
      "cell_type": "code",
      "execution_count": 2,
      "metadata": {
        "id": "AUrNOiSyZ3NT"
      },
      "outputs": [],
      "source": [
        "df = pd.read_parquet(path='/content/drive/MyDrive/amex-default-prediction/data/aggr/customer-agg.parquet')"
      ]
    },
    {
      "cell_type": "code",
      "execution_count": 3,
      "metadata": {
        "colab": {
          "base_uri": "https://localhost:8080/"
        },
        "id": "X4fUCrbFaZdc",
        "outputId": "d5f090e7-5996-464a-b4f6-8ccaab5223a2"
      },
      "outputs": [
        {
          "output_type": "stream",
          "name": "stdout",
          "text": [
            "<class 'pandas.core.frame.DataFrame'>\n",
            "Int64Index: 458913 entries, 0 to 458912\n",
            "Columns: 920 entries, customer_ID to target\n",
            "dtypes: float64(891), int64(26), object(3)\n",
            "memory usage: 3.1+ GB\n"
          ]
        }
      ],
      "source": [
        "df.info()"
      ]
    },
    {
      "cell_type": "code",
      "execution_count": 4,
      "metadata": {
        "colab": {
          "base_uri": "https://localhost:8080/"
        },
        "id": "PIDBW09DahOq",
        "outputId": "1717e3e8-986d-4613-dbf9-ddec9f0d83bb"
      },
      "outputs": [
        {
          "output_type": "execute_result",
          "data": {
            "text/plain": [
              "customer_ID    object\n",
              "D_63_last      object\n",
              "D_64_last      object\n",
              "dtype: object"
            ]
          },
          "metadata": {},
          "execution_count": 4
        }
      ],
      "source": [
        "columns = df.head().dtypes\n",
        "columns[columns==object]\n"
      ]
    },
    {
      "cell_type": "code",
      "execution_count": 5,
      "metadata": {
        "id": "IdDL1GU3gPxH"
      },
      "outputs": [],
      "source": [
        "cat_cols = ['D_63', 'D_64','B_30', 'B_38', 'D_114', 'D_116', 'D_117', 'D_120', 'D_126', 'D_66', 'D_68']\n",
        "TRAIN_LABELS_PATH = '/content/train_labels.csv'"
      ]
    },
    {
      "cell_type": "code",
      "execution_count": 6,
      "metadata": {
        "id": "Ivmf5DcQc6tP"
      },
      "outputs": [],
      "source": [
        "X = pd.DataFrame()\n",
        "Y = pd.DataFrame()\n",
        "\n",
        "enc = OrdinalEncoder(handle_unknown='use_encoded_value', unknown_value=10)\n",
        "df[['D_63_last', 'D_64_last']]=enc.fit(df[['D_63_last', 'D_64_last']])\n",
        "df[['D_63_last', 'D_64_last']]=enc.transform(df[['D_63_last', 'D_64_last']])\n",
        "df.fillna(0, inplace=True)\n",
        "X= X.append(df.loc[:, ~df.columns.isin(['customer_ID', 'target'])])\n",
        "Y = Y.append(df.loc[:, df.columns == 'target'])"
      ]
    },
    {
      "cell_type": "code",
      "source": [
        "sfs = VarianceThreshold()"
      ],
      "metadata": {
        "id": "SF-jn2kNMwNy"
      },
      "execution_count": 7,
      "outputs": []
    },
    {
      "cell_type": "code",
      "source": [
        "sfs = sfs.fit(X)"
      ],
      "metadata": {
        "id": "j6HaT-eiMxvK"
      },
      "execution_count": 8,
      "outputs": []
    },
    {
      "cell_type": "code",
      "source": [
        "concol = [column for column in X.columns \n",
        "          if column not in X.columns[sfs.get_support()]]\n",
        "len(concol)"
      ],
      "metadata": {
        "colab": {
          "base_uri": "https://localhost:8080/"
        },
        "id": "WH2oj9PrRlK5",
        "outputId": "c5e4d663-6760-49f7-e3dd-167664bab313"
      },
      "execution_count": 9,
      "outputs": [
        {
          "output_type": "execute_result",
          "data": {
            "text/plain": [
              "3"
            ]
          },
          "metadata": {},
          "execution_count": 9
        }
      ]
    },
    {
      "cell_type": "code",
      "source": [
        "for features in concol:\n",
        "    print(features)"
      ],
      "metadata": {
        "colab": {
          "base_uri": "https://localhost:8080/"
        },
        "id": "byPBVHc-Tzof",
        "outputId": "f85eceb3-152f-4290-dcb9-6c533bba3805"
      },
      "execution_count": 10,
      "outputs": [
        {
          "output_type": "stream",
          "name": "stdout",
          "text": [
            "D_87_std\n",
            "D_63_last\n",
            "D_64_last\n"
          ]
        }
      ]
    },
    {
      "cell_type": "code",
      "source": [
        "X.D_64_last.unique()"
      ],
      "metadata": {
        "colab": {
          "base_uri": "https://localhost:8080/"
        },
        "id": "jN7yHDsRTSc8",
        "outputId": "bb7f3670-e24f-4b68-fae5-e708d0bf6263"
      },
      "execution_count": 11,
      "outputs": [
        {
          "output_type": "execute_result",
          "data": {
            "text/plain": [
              "array([10.])"
            ]
          },
          "metadata": {},
          "execution_count": 11
        }
      ]
    },
    {
      "cell_type": "code",
      "source": [
        "X = sfs.transform(X)"
      ],
      "metadata": {
        "id": "95f8lAD_UWuH"
      },
      "execution_count": 12,
      "outputs": []
    },
    {
      "cell_type": "code",
      "source": [
        "cols = sfs.get_feature_names_out()"
      ],
      "metadata": {
        "id": "etZOJ4r3vBBS"
      },
      "execution_count": 13,
      "outputs": []
    },
    {
      "cell_type": "code",
      "source": [
        "X.shape"
      ],
      "metadata": {
        "colab": {
          "base_uri": "https://localhost:8080/"
        },
        "id": "BdP9mp2LXuIw",
        "outputId": "3fa2535d-44bd-48cb-a38f-8ca2595b953f"
      },
      "execution_count": 14,
      "outputs": [
        {
          "output_type": "execute_result",
          "data": {
            "text/plain": [
              "(458913, 915)"
            ]
          },
          "metadata": {},
          "execution_count": 14
        }
      ]
    },
    {
      "cell_type": "code",
      "source": [
        " X_train, X_test, y_train, y_test = train_test_split(X, Y, test_size=0.2)"
      ],
      "metadata": {
        "id": "h9JLisbTQSrS"
      },
      "execution_count": 15,
      "outputs": []
    },
    {
      "cell_type": "code",
      "source": [
        "clf = SGDClassifier(verbose=1000)"
      ],
      "metadata": {
        "id": "UG8qAG7cFGUU"
      },
      "execution_count": 16,
      "outputs": []
    },
    {
      "cell_type": "code",
      "execution_count": 17,
      "metadata": {
        "colab": {
          "base_uri": "https://localhost:8080/"
        },
        "id": "d-Ho-fcIf3vw",
        "outputId": "1013dfbf-23b3-4d24-c11d-f35c5d7113f0"
      },
      "outputs": [
        {
          "output_type": "stream",
          "name": "stdout",
          "text": [
            "-- Epoch 1\n",
            "Norm: 172.06, NNZs: 915, Bias: -47.866797, T: 367130, Avg. loss: 65.311916\n",
            "Total training time: 0.65 seconds.\n",
            "-- Epoch 2\n",
            "Norm: 175.07, NNZs: 915, Bias: -45.925029, T: 734260, Avg. loss: 9.431806\n",
            "Total training time: 1.29 seconds.\n",
            "-- Epoch 3\n",
            "Norm: 78.31, NNZs: 915, Bias: -44.619197, T: 1101390, Avg. loss: 6.351665\n",
            "Total training time: 1.93 seconds.\n",
            "-- Epoch 4\n",
            "Norm: 49.82, NNZs: 915, Bias: -43.139713, T: 1468520, Avg. loss: 3.272904\n",
            "Total training time: 2.57 seconds.\n",
            "-- Epoch 5\n",
            "Norm: 35.68, NNZs: 915, Bias: -41.913380, T: 1835650, Avg. loss: 2.097066\n",
            "Total training time: 3.22 seconds.\n",
            "-- Epoch 6\n",
            "Norm: 48.35, NNZs: 915, Bias: -40.959496, T: 2202780, Avg. loss: 3.073378\n",
            "Total training time: 3.86 seconds.\n",
            "-- Epoch 7\n",
            "Norm: 34.20, NNZs: 915, Bias: -40.033392, T: 2569910, Avg. loss: 1.873239\n",
            "Total training time: 4.51 seconds.\n",
            "-- Epoch 8\n",
            "Norm: 25.86, NNZs: 915, Bias: -39.290860, T: 2937040, Avg. loss: 1.429349\n",
            "Total training time: 5.16 seconds.\n",
            "-- Epoch 9\n",
            "Norm: 24.19, NNZs: 915, Bias: -38.567819, T: 3304170, Avg. loss: 1.666007\n",
            "Total training time: 5.81 seconds.\n",
            "-- Epoch 10\n",
            "Norm: 21.95, NNZs: 915, Bias: -37.880684, T: 3671300, Avg. loss: 1.157412\n",
            "Total training time: 6.48 seconds.\n",
            "-- Epoch 11\n",
            "Norm: 19.28, NNZs: 915, Bias: -37.233109, T: 4038430, Avg. loss: 1.038855\n",
            "Total training time: 7.17 seconds.\n",
            "-- Epoch 12\n",
            "Norm: 22.54, NNZs: 915, Bias: -36.708133, T: 4405560, Avg. loss: 1.704648\n",
            "Total training time: 7.83 seconds.\n",
            "-- Epoch 13\n",
            "Norm: 19.96, NNZs: 915, Bias: -36.190696, T: 4772690, Avg. loss: 1.013720\n",
            "Total training time: 8.49 seconds.\n",
            "-- Epoch 14\n",
            "Norm: 18.14, NNZs: 915, Bias: -35.693616, T: 5139820, Avg. loss: 0.827540\n",
            "Total training time: 9.14 seconds.\n",
            "-- Epoch 15\n",
            "Norm: 22.75, NNZs: 915, Bias: -35.245693, T: 5506950, Avg. loss: 1.360559\n",
            "Total training time: 9.80 seconds.\n",
            "-- Epoch 16\n",
            "Norm: 20.34, NNZs: 915, Bias: -34.847950, T: 5874080, Avg. loss: 0.986064\n",
            "Total training time: 10.45 seconds.\n",
            "-- Epoch 17\n",
            "Norm: 18.36, NNZs: 915, Bias: -34.404069, T: 6241210, Avg. loss: 0.786472\n",
            "Total training time: 11.10 seconds.\n",
            "-- Epoch 18\n",
            "Norm: 17.09, NNZs: 915, Bias: -33.998925, T: 6608340, Avg. loss: 0.755326\n",
            "Total training time: 11.76 seconds.\n",
            "-- Epoch 19\n",
            "Norm: 16.81, NNZs: 915, Bias: -33.617704, T: 6975470, Avg. loss: 0.780286\n",
            "Total training time: 12.42 seconds.\n",
            "-- Epoch 20\n",
            "Norm: 15.69, NNZs: 915, Bias: -33.268617, T: 7342600, Avg. loss: 0.674495\n",
            "Total training time: 13.08 seconds.\n",
            "-- Epoch 21\n",
            "Norm: 15.03, NNZs: 915, Bias: -32.920318, T: 7709730, Avg. loss: 0.589597\n",
            "Total training time: 13.75 seconds.\n",
            "-- Epoch 22\n",
            "Norm: 14.75, NNZs: 915, Bias: -32.598446, T: 8076860, Avg. loss: 0.669162\n",
            "Total training time: 14.41 seconds.\n",
            "-- Epoch 23\n",
            "Norm: 18.03, NNZs: 915, Bias: -32.300340, T: 8443990, Avg. loss: 0.999129\n",
            "Total training time: 15.07 seconds.\n",
            "-- Epoch 24\n",
            "Norm: 15.34, NNZs: 915, Bias: -32.015124, T: 8811120, Avg. loss: 0.667849\n",
            "Total training time: 15.72 seconds.\n",
            "-- Epoch 25\n",
            "Norm: 15.92, NNZs: 915, Bias: -31.743456, T: 9178250, Avg. loss: 0.631411\n",
            "Total training time: 16.38 seconds.\n",
            "-- Epoch 26\n",
            "Norm: 14.64, NNZs: 915, Bias: -31.449644, T: 9545380, Avg. loss: 0.553206\n",
            "Total training time: 17.03 seconds.\n",
            "-- Epoch 27\n",
            "Norm: 14.31, NNZs: 915, Bias: -31.181415, T: 9912510, Avg. loss: 0.509230\n",
            "Total training time: 17.70 seconds.\n",
            "-- Epoch 28\n",
            "Norm: 15.35, NNZs: 915, Bias: -30.925216, T: 10279640, Avg. loss: 0.828800\n",
            "Total training time: 18.38 seconds.\n",
            "-- Epoch 29\n",
            "Norm: 14.86, NNZs: 915, Bias: -30.676602, T: 10646770, Avg. loss: 0.584737\n",
            "Total training time: 19.04 seconds.\n",
            "-- Epoch 30\n",
            "Norm: 14.15, NNZs: 915, Bias: -30.435776, T: 11013900, Avg. loss: 0.590127\n",
            "Total training time: 19.73 seconds.\n",
            "-- Epoch 31\n",
            "Norm: 15.49, NNZs: 915, Bias: -30.214278, T: 11381030, Avg. loss: 0.758738\n",
            "Total training time: 20.40 seconds.\n",
            "-- Epoch 32\n",
            "Norm: 15.01, NNZs: 915, Bias: -29.993808, T: 11748160, Avg. loss: 0.564299\n",
            "Total training time: 21.07 seconds.\n",
            "Convergence after 32 epochs took 21.07 seconds\n",
            "CPU times: user 21.5 s, sys: 0 ns, total: 21.5 s\n",
            "Wall time: 21.4 s\n"
          ]
        },
        {
          "output_type": "execute_result",
          "data": {
            "text/plain": [
              "SGDClassifier(verbose=1000)"
            ]
          },
          "metadata": {},
          "execution_count": 17
        }
      ],
      "source": [
        "%%time\n",
        "clf.fit(X_train, y_train.values.ravel())"
      ]
    },
    {
      "cell_type": "code",
      "execution_count": 18,
      "metadata": {
        "colab": {
          "base_uri": "https://localhost:8080/"
        },
        "id": "ibJJW5MSTYwU",
        "outputId": "322b4a0f-9ee9-4cd9-df9d-e69ebf2f26c9"
      },
      "outputs": [
        {
          "output_type": "execute_result",
          "data": {
            "text/plain": [
              "0.8808602900319231"
            ]
          },
          "metadata": {},
          "execution_count": 18
        }
      ],
      "source": [
        "clf.score(X_test, y_test)"
      ]
    },
    {
      "cell_type": "code",
      "execution_count": 19,
      "metadata": {
        "colab": {
          "base_uri": "https://localhost:8080/"
        },
        "id": "NGMAsrrtTcWy",
        "outputId": "3b1b5c41-6c90-48de-872d-7e54c815cbb6"
      },
      "outputs": [
        {
          "output_type": "execute_result",
          "data": {
            "text/plain": [
              "{'alpha': 0.0001,\n",
              " 'average': False,\n",
              " 'class_weight': None,\n",
              " 'early_stopping': False,\n",
              " 'epsilon': 0.1,\n",
              " 'eta0': 0.0,\n",
              " 'fit_intercept': True,\n",
              " 'l1_ratio': 0.15,\n",
              " 'learning_rate': 'optimal',\n",
              " 'loss': 'hinge',\n",
              " 'max_iter': 1000,\n",
              " 'n_iter_no_change': 5,\n",
              " 'n_jobs': None,\n",
              " 'penalty': 'l2',\n",
              " 'power_t': 0.5,\n",
              " 'random_state': None,\n",
              " 'shuffle': True,\n",
              " 'tol': 0.001,\n",
              " 'validation_fraction': 0.1,\n",
              " 'verbose': 1000,\n",
              " 'warm_start': False}"
            ]
          },
          "metadata": {},
          "execution_count": 19
        }
      ],
      "source": [
        "clf.get_params()"
      ]
    },
    {
      "cell_type": "code",
      "execution_count": 20,
      "metadata": {
        "id": "rEZ7WJg-ri_c"
      },
      "outputs": [],
      "source": [
        "y_pred = clf.predict(X_test)"
      ]
    },
    {
      "cell_type": "code",
      "execution_count": 21,
      "metadata": {
        "id": "VpDuIcwcr-rn"
      },
      "outputs": [],
      "source": [
        "tn, fp, fn, tp = confusion_matrix(y_test, y_pred).ravel()"
      ]
    },
    {
      "cell_type": "code",
      "execution_count": 22,
      "metadata": {
        "colab": {
          "base_uri": "https://localhost:8080/"
        },
        "id": "EegTKc03sL4F",
        "outputId": "0eca893c-06dd-47de-fe10-0d5b3812656a"
      },
      "outputs": [
        {
          "output_type": "execute_result",
          "data": {
            "text/plain": [
              "(60124, 8159, 2776, 20724)"
            ]
          },
          "metadata": {},
          "execution_count": 22
        }
      ],
      "source": [
        "tn, fp, fn, tp"
      ]
    },
    {
      "cell_type": "code",
      "execution_count": 23,
      "metadata": {
        "colab": {
          "base_uri": "https://localhost:8080/"
        },
        "id": "0h4Ph6YMsi_L",
        "outputId": "479cc918-42cf-4f28-feed-81a37ff8f281"
      },
      "outputs": [
        {
          "output_type": "execute_result",
          "data": {
            "text/plain": [
              "0.7912490693545616"
            ]
          },
          "metadata": {},
          "execution_count": 23
        }
      ],
      "source": [
        "f1_score(y_test, y_pred)"
      ]
    },
    {
      "cell_type": "code",
      "source": [
        "print(classification_report(y_test, y_pred, digits=4))"
      ],
      "metadata": {
        "id": "8oP9Zx1kNZjY",
        "colab": {
          "base_uri": "https://localhost:8080/"
        },
        "outputId": "ab897dc2-3cd8-4627-e1d2-95edd81c9ef6"
      },
      "execution_count": 24,
      "outputs": [
        {
          "output_type": "stream",
          "name": "stdout",
          "text": [
            "              precision    recall  f1-score   support\n",
            "\n",
            "           0     0.9559    0.8805    0.9166     68283\n",
            "           1     0.7175    0.8819    0.7912     23500\n",
            "\n",
            "    accuracy                         0.8809     91783\n",
            "   macro avg     0.8367    0.8812    0.8539     91783\n",
            "weighted avg     0.8948    0.8809    0.8845     91783\n",
            "\n"
          ]
        }
      ]
    },
    {
      "cell_type": "code",
      "source": [
        "plot_confusion_matrix(clf, X_test, y_test)  \n",
        "plt.show()"
      ],
      "metadata": {
        "colab": {
          "base_uri": "https://localhost:8080/",
          "height": 334
        },
        "id": "astmi9G5W0mc",
        "outputId": "0a82ca80-88aa-4c10-c30a-e922f8bb45ed"
      },
      "execution_count": null,
      "outputs": [
        {
          "output_type": "stream",
          "name": "stderr",
          "text": [
            "/usr/local/lib/python3.7/dist-packages/sklearn/utils/deprecation.py:87: FutureWarning: Function plot_confusion_matrix is deprecated; Function `plot_confusion_matrix` is deprecated in 1.0 and will be removed in 1.2. Use one of the class methods: ConfusionMatrixDisplay.from_predictions or ConfusionMatrixDisplay.from_estimator.\n",
            "  warnings.warn(msg, category=FutureWarning)\n"
          ]
        },
        {
          "output_type": "display_data",
          "data": {
            "text/plain": [
              "<Figure size 432x288 with 2 Axes>"
            ],
            "image/png": "[encoded data removed]"
          },
          "metadata": {
            "needs_background": "light"
          }
        }
      ]
    },
    {
      "cell_type": "markdown",
      "source": [
        "\n",
        "\n",
        "*   TN = Non defaulting customer and my model predicted that customer won't default.\n",
        "*   FP = Non defaulting customer but my model predicted that the customer will default.\n",
        "*   FN = Customer defaulted but my model predicted that the customer will not default.\n",
        "*   TP = Customer defaulted and my model predicted customer will default.\n",
        "\n"
      ],
      "metadata": {
        "id": "xyb8EMi_X8b1"
      }
    },
    {
      "cell_type": "code",
      "source": [
        "clf.feature_importances_"
      ],
      "metadata": {
        "colab": {
          "base_uri": "https://localhost:8080/"
        },
        "id": "ukr4uY-znoTW",
        "outputId": "c8e87053-3159-4319-a888-f3bdf4f7c1bd"
      },
      "execution_count": null,
      "outputs": [
        {
          "output_type": "execute_result",
          "data": {
            "text/plain": [
              "array([ 19,   7,  12,  23, 153,   5,  16,   0,  22,  87,   0,   3,   0,\n",
              "         0,  35,  16,   0,   4,   2,  26,   8,   1,   0,   2,  23,  37,\n",
              "         3,   5,   9,  36,   0,   3,   1,   2,  23,   0,  14,   0,   8,\n",
              "        70,  42,   0,  21,  14,   4,  22,   5,   3,   2,  27,   2,   8,\n",
              "         0,   2,  24,   4,  52,   2,   4,  72,  11,   0,   0,  18,   1,\n",
              "         6,   2,   8,   8,  41,   0,   0,   0,   1,  17,  12,   0,  11,\n",
              "         4,  41,  11,   0,   3,  22,  11,   2,   3,   3,   1,  17,   5,\n",
              "         4,   2,   2,  56,   0,   1,   4,   0,   1,   6,   2,   0,   2,\n",
              "        25,   2,   2,   3,   2,   1,   9,   2,   0,  18,  12,  10,   0,\n",
              "         4,   4,   5,   5,   2,   1,   2,  12,  12,   1,   2,  12,  19,\n",
              "         3,   0,   5,   2,   4,   8,   8,   2,  10,  16,   4,   5,   3,\n",
              "         4,   7,   1,   3,   0,   0,   9,   2,   3,   2,   6,  18,   2,\n",
              "         1,   1,   4,  42,   1,   1,   1,   0,   1,   0,   2,   3,   0,\n",
              "        11,   1,   0,   0,   0,   5,   5,   2,   2,   2,   7,   2,   1,\n",
              "         0,   6,   1,   4,   1,   2,   3,   5,   5,   3,   3,   1,   1,\n",
              "         4,   1,   3,   4,   4,   6,   0,   0,   3,   1,   1,   1,   0,\n",
              "         0,  18,   2,   1,   4,   1,   1,  13,   1,   9,   2,   9,   4,\n",
              "         2,   4,   5,  13,   2,   8,   0,   7,   3,   2,   1,   1,   3,\n",
              "         8,   3,   3,   2,   0,   0,   8,   2,   0,   1,   4,  12,   0,\n",
              "         3,  14,   2,   9,   1,  11,   3,   9,  12,   8,   0,  17,   7,\n",
              "         1,   2,   1,   2,   0,   5,   2,   3,   1,  11,  15,   4,   8,\n",
              "         2,   5,   0,   1,   0,   1,   1,   3,   1,   1,   0,   8,  12,\n",
              "        17,   4,   0,   2,   0,   2,   1,   3,   1,   2,   0,   0,   3,\n",
              "         2,   7,   3,   0,   2,   0,   0,   0,   1,   1,   0,   2,   0,\n",
              "         0,   1,   3,   3,   4,   0,   4,   3,   1,   0,   0,   1,   7,\n",
              "         2,   1,   2,   1,   1,  16,   0,   5,   4,   3,   0,   0,   1,\n",
              "         0,   8,   0,   0,   0,   0,   0,   1,   1,   1,   0,   0,   2,\n",
              "         4,   0,   1,   3,   4,   3,   2,   2,   2,   1,   0,   1,   2,\n",
              "         7,   1,   1,   0,   0,   0,   1,   0,   1,   0,   5,   0,   0,\n",
              "         0,   2,   1,   0,   1,   3,   2,   0,   1,   1,   1,   3,   2,\n",
              "         1,   0,   0,   0,   0,   1,   3,   0,   0,   5,   0,   3,   0,\n",
              "         0,   0,   3,   1,   2,   3,   0,   1,   0,   0,   2,   1,   1,\n",
              "         1,   1,   1,   1,   1,   0,   0,   1,   1,   7,   2,   1,   0,\n",
              "        15,   0,   1,   1,   1,   1,   0,   0,   0,   0,   1,   3,   0,\n",
              "         3,   0,   1,   0,   0,   0,   0,   0,   0,   2,   1,   0,   6,\n",
              "         5,   0,   0,   0,   1,   0,   1,   0,   0,   1,   0,   0,   1,\n",
              "         0,   1,   1,   0,   0,   0,   0,   0,   0,   0,   3,   0,   1,\n",
              "         1,   0,   0,   0,   1,   0,   0,   0,   1,   2,   2,  13,   2,\n",
              "         2,   0,   2,   0,   1,   0,   0,   0,   0,   0,   1,   0,   0,\n",
              "         0,   0,   0,   0,   0,   1,   1,   2,   0,   0,   1,   0,   0,\n",
              "         0,   0,   0,   0,   0,   0,   0,   0,   3,   1,   0,   0,   0,\n",
              "         0,   0,   0,   0,   1,   0,   0,   0,   0,   0,   0,   3,   0,\n",
              "         0,   0,   0,   0,   0,   0,   1,   0,   2,   0,   0,   1,   1,\n",
              "         4,   0,   0,   0,   2,   0,   0,   0,   0,   2,   1,   0,   0,\n",
              "         0,   0,   0,   1,   0,   0,   1,   1,   1,   4,   2,   1,   0,\n",
              "         1,   0,   0,   0,   0,   0,   1,   0,   1,   0,   0,   0,   0,\n",
              "         1,   0,   2,   0,   0,   0,   2,   1,   0,   0,   0,   2,   0,\n",
              "         0,   1,   1,   2,   3,   2,   0,   6,   3,   3,   0,   2,  17,\n",
              "         3,   2,   2,   5,  19,   0,   5,   0,   4,   4,   7,   4,   1,\n",
              "        21,   1,   0,   3,   2,   3,   0,   0,   0,   0,   0,   0,   1,\n",
              "         0,   0,   1,   0,   0,   0,   0,  10,   1,   0,   1,   0,   1,\n",
              "         0,   0,   0,   0,   0,   1,   2,   2,   0,   0,   0,   1,   2,\n",
              "         8,   1,   9,   2,   0,   2,   1,   1,   1,   1,  12,   0,   5,\n",
              "         0,   0,   0,   0,   1,   0,   0,   0,   0,   1,   0,   0,   2,\n",
              "         3,   0,   0,   2,   1,   3,   0,   0,   0,   5,   2,   0,   5,\n",
              "         7,   1,   0,  14,   2,   4,   0,   6,   7,   0,   2,   3,   2,\n",
              "         1,   0,   0,   1,   0,   0,   0,   1,   1,   2,   1,   4,   1,\n",
              "         9,   3,   1,   2,   0,   9,   3,   2,   5,   0,  11,   9,   2,\n",
              "         8,   0,   3,   3,   5,   5,   4,   0,   3,   0,   0,   1,   6,\n",
              "         4,   0,   0,   1,   0,   0,   0,   0,   0,   1,   0,   2,   1,\n",
              "         0,   1,   0,   2,   3,   1,   5,   0,   9,   1,   0,   0,   0,\n",
              "         0,   0,   0,   0,   0,   0,   0,   3,   0,   0,   0,   0,   0,\n",
              "         0,   2,   6,   2,   1,   0,   0,   0,   1,   0,   0,   5,   3,\n",
              "         0,   0,   1,   0,   0,   2,   0,   4,   1,   0,   0,   0,   1,\n",
              "         0,   1,   0,   0,   0,   0,   0,   0,   0,   0,   0,   0,   0,\n",
              "         0,   0,   0,   0,   0,   0,   1,   2,   1,   0,   0,   2,   0,\n",
              "         8,   1,   1,   0,   5,   1,   1,   6,   0,   0,   1,   2,   0,\n",
              "         0,   1,   0,   2,   9,   0,   0,   0,   1,   0,   1,   1,   0,\n",
              "         0,   0,   0,   0,   1,   0,   0,   2,   0,   0,   0,   0,   0,\n",
              "         5,   0,   0,   5,   0,   0,   0,   0,   0,   2,   0,   0,  15,\n",
              "         7,   0,   0,   1,   0])"
            ]
          },
          "metadata": {},
          "execution_count": 30
        }
      ]
    },
    {
      "cell_type": "code",
      "source": [
        "clf.n_features_"
      ],
      "metadata": {
        "colab": {
          "base_uri": "https://localhost:8080/"
        },
        "id": "dXdzlnDpntNW",
        "outputId": "d09abb44-b220-4f33-f02a-f042f33ad214"
      },
      "execution_count": null,
      "outputs": [
        {
          "output_type": "execute_result",
          "data": {
            "text/plain": [
              "915"
            ]
          },
          "metadata": {},
          "execution_count": 36
        }
      ]
    },
    {
      "cell_type": "code",
      "source": [
        "clf.booster_"
      ],
      "metadata": {
        "colab": {
          "base_uri": "https://localhost:8080/"
        },
        "id": "LXev0jqVnxZQ",
        "outputId": "309e504d-1608-4350-f9c2-d3618f5c8490"
      },
      "execution_count": null,
      "outputs": [
        {
          "output_type": "execute_result",
          "data": {
            "text/plain": [
              "<lightgbm.basic.Booster at 0x7f2a63dfc590>"
            ]
          },
          "metadata": {},
          "execution_count": 37
        }
      ]
    },
    {
      "cell_type": "code",
      "source": [
        "gbm.__version__"
      ],
      "metadata": {
        "colab": {
          "base_uri": "https://localhost:8080/",
          "height": 36
        },
        "id": "LP1MRzIloICK",
        "outputId": "41ae646b-a24f-47ff-aa91-037dafa8dc10"
      },
      "execution_count": null,
      "outputs": [
        {
          "output_type": "execute_result",
          "data": {
            "text/plain": [
              "'2.2.3'"
            ],
            "application/vnd.google.colaboratory.intrinsic+json": {
              "type": "string"
            }
          },
          "metadata": {},
          "execution_count": 40
        }
      ]
    },
    {
      "cell_type": "code",
      "source": [
        "len(clf.feature_importances_)"
      ],
      "metadata": {
        "colab": {
          "base_uri": "https://localhost:8080/"
        },
        "id": "hB7lFfSmoNF8",
        "outputId": "270cb733-71ea-41e5-e39b-2e5da6af3327"
      },
      "execution_count": null,
      "outputs": [
        {
          "output_type": "execute_result",
          "data": {
            "text/plain": [
              "915"
            ]
          },
          "metadata": {},
          "execution_count": 46
        }
      ]
    },
    {
      "cell_type": "code",
      "source": [
        "feature_importance_df = pd.DataFrame(\n",
        "    {'feature': cols ,\n",
        "     'importance': clf.feature_importances_})"
      ],
      "metadata": {
        "id": "L3cNCBuHo2mh"
      },
      "execution_count": null,
      "outputs": []
    },
    {
      "cell_type": "code",
      "source": [
        "feature_importance_df.sort_values(by='importance', ascending=False).head(600)"
      ],
      "metadata": {
        "colab": {
          "base_uri": "https://localhost:8080/",
          "height": 423
        },
        "id": "zPrqWaCjrx8h",
        "outputId": "eb64c23a-620c-4166-c249-42d3aca5f875"
      },
      "execution_count": null,
      "outputs": [
        {
          "output_type": "execute_result",
          "data": {
            "text/plain": [
              "        feature  importance\n",
              "4      P_2_last         153\n",
              "9     D_39_last          87\n",
              "59     B_4_last          72\n",
              "39     B_3_last          70\n",
              "94    D_49_last          56\n",
              "..          ...         ...\n",
              "799  D_130_mean           0\n",
              "850   D_139_std           0\n",
              "894  D_116_last           0\n",
              "690   D_108_std           0\n",
              "849  D_139_mean           0\n",
              "\n",
              "[600 rows x 2 columns]"
            ],
            "text/html": [
              "\n",
              "  <div id=\"df-222c4a26-c057-4c55-9387-5ddcf34e4e97\">\n",
              "    <div class=\"colab-df-container\">\n",
              "      <div>\n",
              "<style scoped>\n",
              "    .dataframe tbody tr th:only-of-type {\n",
              "        vertical-align: middle;\n",
              "    }\n",
              "\n",
              "    .dataframe tbody tr th {\n",
              "        vertical-align: top;\n",
              "    }\n",
              "\n",
              "    .dataframe thead th {\n",
              "        text-align: right;\n",
              "    }\n",
              "</style>\n",
              "<table border=\"1\" class=\"dataframe\">\n",
              "  <thead>\n",
              "    <tr style=\"text-align: right;\">\n",
              "      <th></th>\n",
              "      <th>feature</th>\n",
              "      <th>importance</th>\n",
              "    </tr>\n",
              "  </thead>\n",
              "  <tbody>\n",
              "    <tr>\n",
              "      <th>4</th>\n",
              "      <td>P_2_last</td>\n",
              "      <td>153</td>\n",
              "    </tr>\n",
              "    <tr>\n",
              "      <th>9</th>\n",
              "      <td>D_39_last</td>\n",
              "      <td>87</td>\n",
              "    </tr>\n",
              "    <tr>\n",
              "      <th>59</th>\n",
              "      <td>B_4_last</td>\n",
              "      <td>72</td>\n",
              "    </tr>\n",
              "    <tr>\n",
              "      <th>39</th>\n",
              "      <td>B_3_last</td>\n",
              "      <td>70</td>\n",
              "    </tr>\n",
              "    <tr>\n",
              "      <th>94</th>\n",
              "      <td>D_49_last</td>\n",
              "      <td>56</td>\n",
              "    </tr>\n",
              "    <tr>\n",
              "      <th>...</th>\n",
              "      <td>...</td>\n",
              "      <td>...</td>\n",
              "    </tr>\n",
              "    <tr>\n",
              "      <th>799</th>\n",
              "      <td>D_130_mean</td>\n",
              "      <td>0</td>\n",
              "    </tr>\n",
              "    <tr>\n",
              "      <th>850</th>\n",
              "      <td>D_139_std</td>\n",
              "      <td>0</td>\n",
              "    </tr>\n",
              "    <tr>\n",
              "      <th>894</th>\n",
              "      <td>D_116_last</td>\n",
              "      <td>0</td>\n",
              "    </tr>\n",
              "    <tr>\n",
              "      <th>690</th>\n",
              "      <td>D_108_std</td>\n",
              "      <td>0</td>\n",
              "    </tr>\n",
              "    <tr>\n",
              "      <th>849</th>\n",
              "      <td>D_139_mean</td>\n",
              "      <td>0</td>\n",
              "    </tr>\n",
              "  </tbody>\n",
              "</table>\n",
              "<p>600 rows × 2 columns</p>\n",
              "</div>\n",
              "      <button class=\"colab-df-convert\" onclick=\"convertToInteractive('df-222c4a26-c057-4c55-9387-5ddcf34e4e97')\"\n",
              "              title=\"Convert this dataframe to an interactive table.\"\n",
              "              style=\"display:none;\">\n",
              "        \n",
              "  <svg xmlns=\"http://www.w3.org/2000/svg\" height=\"24px\"viewBox=\"0 0 24 24\"\n",
              "       width=\"24px\">\n",
              "    <path d=\"M0 0h24v24H0V0z\" fill=\"none\"/>\n",
              "    <path d=\"M18.56 5.44l.94 2.06.94-2.06 2.06-.94-2.06-.94-.94-2.06-.94 2.06-2.06.94zm-11 1L8.5 8.5l.94-2.06 2.06-.94-2.06-.94L8.5 2.5l-.94 2.06-2.06.94zm10 10l.94 2.06.94-2.06 2.06-.94-2.06-.94-.94-2.06-.94 2.06-2.06.94z\"/><path d=\"M17.41 7.96l-1.37-1.37c-.4-.4-.92-.59-1.43-.59-.52 0-1.04.2-1.43.59L10.3 9.45l-7.72 7.72c-.78.78-.78 2.05 0 2.83L4 21.41c.39.39.9.59 1.41.59.51 0 1.02-.2 1.41-.59l7.78-7.78 2.81-2.81c.8-.78.8-2.07 0-2.86zM5.41 20L4 18.59l7.72-7.72 1.47 1.35L5.41 20z\"/>\n",
              "  </svg>\n",
              "      </button>\n",
              "      \n",
              "  <style>\n",
              "    .colab-df-container {\n",
              "      display:flex;\n",
              "      flex-wrap:wrap;\n",
              "      gap: 12px;\n",
              "    }\n",
              "\n",
              "    .colab-df-convert {\n",
              "      background-color: #E8F0FE;\n",
              "      border: none;\n",
              "      border-radius: 50%;\n",
              "      cursor: pointer;\n",
              "      display: none;\n",
              "      fill: #1967D2;\n",
              "      height: 32px;\n",
              "      padding: 0 0 0 0;\n",
              "      width: 32px;\n",
              "    }\n",
              "\n",
              "    .colab-df-convert:hover {\n",
              "      background-color: #E2EBFA;\n",
              "      box-shadow: 0px 1px 2px rgba(60, 64, 67, 0.3), 0px 1px 3px 1px rgba(60, 64, 67, 0.15);\n",
              "      fill: #174EA6;\n",
              "    }\n",
              "\n",
              "    [theme=dark] .colab-df-convert {\n",
              "      background-color: #3B4455;\n",
              "      fill: #D2E3FC;\n",
              "    }\n",
              "\n",
              "    [theme=dark] .colab-df-convert:hover {\n",
              "      background-color: #434B5C;\n",
              "      box-shadow: 0px 1px 3px 1px rgba(0, 0, 0, 0.15);\n",
              "      filter: drop-shadow(0px 1px 2px rgba(0, 0, 0, 0.3));\n",
              "      fill: #FFFFFF;\n",
              "    }\n",
              "  </style>\n",
              "\n",
              "      <script>\n",
              "        const buttonEl =\n",
              "          document.querySelector('#df-222c4a26-c057-4c55-9387-5ddcf34e4e97 button.colab-df-convert');\n",
              "        buttonEl.style.display =\n",
              "          google.colab.kernel.accessAllowed ? 'block' : 'none';\n",
              "\n",
              "        async function convertToInteractive(key) {\n",
              "          const element = document.querySelector('#df-222c4a26-c057-4c55-9387-5ddcf34e4e97');\n",
              "          const dataTable =\n",
              "            await google.colab.kernel.invokeFunction('convertToInteractive',\n",
              "                                                     [key], {});\n",
              "          if (!dataTable) return;\n",
              "\n",
              "          const docLinkHtml = 'Like what you see? Visit the ' +\n",
              "            '<a target=\"_blank\" href=https://colab.research.google.com/notebooks/data_table.ipynb>data table notebook</a>'\n",
              "            + ' to learn more about interactive tables.';\n",
              "          element.innerHTML = '';\n",
              "          dataTable['output_type'] = 'display_data';\n",
              "          await google.colab.output.renderOutput(dataTable, element);\n",
              "          const docLink = document.createElement('div');\n",
              "          docLink.innerHTML = docLinkHtml;\n",
              "          element.appendChild(docLink);\n",
              "        }\n",
              "      </script>\n",
              "    </div>\n",
              "  </div>\n",
              "  "
            ]
          },
          "metadata": {},
          "execution_count": 67
        }
      ]
    },
    {
      "cell_type": "code",
      "source": [],
      "metadata": {
        "id": "31wUZL_5v4Cl"
      },
      "execution_count": null,
      "outputs": []
    }
  ],
  "metadata": {
    "colab": {
      "collapsed_sections": [],
      "machine_shape": "hm",
      "provenance": [],
      "mount_file_id": "1zAFR_kL8aA9FLy_j8BKG9PNA0U1R8m8Z",
      "authorship_tag": "ABX9TyNiewm3YTc7pJLABJx0lE9d",
      "include_colab_link": true
    },
    "gpuClass": "standard",
    "kernelspec": {
      "display_name": "Python 3",
      "name": "python3"
    },
    "language_info": {
      "name": "python"
    }
  },
  "nbformat": 4,
  "nbformat_minor": 0
}