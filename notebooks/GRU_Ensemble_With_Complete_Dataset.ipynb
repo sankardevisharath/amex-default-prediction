{
  "nbformat": 4,
  "nbformat_minor": 0,
  "metadata": {
    "colab": {
      "name": "GRU_Ensemble_With_Complete_Dataset.ipynb",
      "provenance": [],
      "collapsed_sections": [],
      "machine_shape": "hm",
      "mount_file_id": "1l9MzEOQ9Fd-R-kAFm0dh89iqIXg04EaA",
      "authorship_tag": "ABX9TyP8ywz6ZAbLc/Owx8i0j2lo",
      "include_colab_link": true
    },
    "kernelspec": {
      "name": "python3",
      "display_name": "Python 3"
    },
    "language_info": {
      "name": "python"
    },
    "gpuClass": "standard"
  },
  "cells": [
    {
      "cell_type": "markdown",
      "metadata": {
        "id": "view-in-github",
        "colab_type": "text"
      },
      "source": [
        "<a href=\"https://colab.research.google.com/github/sankardevisharath/amex-default-prediction/blob/master/notebooks/GRU_Ensemble_With_Complete_Dataset.ipynb\" target=\"_parent\"><img src=\"https://colab.research.google.com/assets/colab-badge.svg\" alt=\"Open In Colab\"/></a>"
      ]
    },
    {
      "cell_type": "code",
      "source": [
        "from os import listdir\n",
        "\n",
        "files = listdir('/content/drive/MyDrive/amex-default-prediction/data/customer_train/')\n"
      ],
      "metadata": {
        "id": "qDhpXsRkbY7g"
      },
      "execution_count": 1,
      "outputs": []
    },
    {
      "cell_type": "code",
      "source": [
        "pip install tensorflow-addons"
      ],
      "metadata": {
        "colab": {
          "base_uri": "https://localhost:8080/"
        },
        "id": "DHNGFYGOgX21",
        "outputId": "d4cbd510-7434-4326-cad2-70f40fe1aea2"
      },
      "execution_count": 2,
      "outputs": [
        {
          "output_type": "stream",
          "name": "stdout",
          "text": [
            "Looking in indexes: https://pypi.org/simple, https://us-python.pkg.dev/colab-wheels/public/simple/\n",
            "Requirement already satisfied: tensorflow-addons in /usr/local/lib/python3.7/dist-packages (0.17.1)\n",
            "Requirement already satisfied: typeguard>=2.7 in /usr/local/lib/python3.7/dist-packages (from tensorflow-addons) (2.7.1)\n",
            "Requirement already satisfied: packaging in /usr/local/lib/python3.7/dist-packages (from tensorflow-addons) (21.3)\n",
            "Requirement already satisfied: pyparsing!=3.0.5,>=2.0.2 in /usr/local/lib/python3.7/dist-packages (from packaging->tensorflow-addons) (3.0.9)\n"
          ]
        }
      ]
    },
    {
      "cell_type": "code",
      "source": [
        "import gc \n",
        "\n",
        "import numpy as np\n",
        "import pandas as pd\n",
        "from sklearn.preprocessing import OrdinalEncoder\n",
        "from sklearn.model_selection import train_test_split\n",
        "from sklearn.linear_model import SGDClassifier\n",
        "from sklearn.metrics import confusion_matrix\n",
        "from sklearn.metrics import f1_score\n",
        "\n",
        "import tensorflow as tf\n",
        "from keras.layers import GRU, Dense\n",
        "import tensorflow_addons as tfa\n"
      ],
      "metadata": {
        "id": "nx_k17C4dJpj"
      },
      "execution_count": 3,
      "outputs": []
    },
    {
      "cell_type": "code",
      "source": [
        "cat_cols = ['D_63', 'D_64','B_30', 'B_38', 'D_114', 'D_116', 'D_117', 'D_120', 'D_126', 'D_66', 'D_68']\n",
        "TRAIN_LABELS_PATH = '/content/train_labels.csv'\n",
        "AGG_DATA_ABS_PATH = '/content/drive/MyDrive/amex-default-prediction/data/aggr/customer-agg.parquet'"
      ],
      "metadata": {
        "id": "IdDL1GU3gPxH"
      },
      "execution_count": 4,
      "outputs": []
    },
    {
      "cell_type": "code",
      "source": [
        "!unzip -o /content/drive/MyDrive/amex-default-prediction/data/amex-default-prediction.zip \\\n",
        " train_labels.csv"
      ],
      "metadata": {
        "colab": {
          "base_uri": "https://localhost:8080/"
        },
        "id": "tOb-N7dCiaDi",
        "outputId": "622e1185-266d-433a-ff77-815b11809a1a"
      },
      "execution_count": 5,
      "outputs": [
        {
          "output_type": "stream",
          "name": "stdout",
          "text": [
            "Archive:  /content/drive/MyDrive/amex-default-prediction/data/amex-default-prediction.zip\n",
            "  inflating: train_labels.csv        \n"
          ]
        }
      ]
    },
    {
      "cell_type": "code",
      "source": [
        "train_labels = pd.read_csv(TRAIN_LABELS_PATH)"
      ],
      "metadata": {
        "id": "0cIgqjH2hMML"
      },
      "execution_count": 6,
      "outputs": []
    },
    {
      "cell_type": "code",
      "source": [
        "train_labels.shape"
      ],
      "metadata": {
        "colab": {
          "base_uri": "https://localhost:8080/"
        },
        "id": "P9BzLmxkCEtg",
        "outputId": "e9e0628a-95f4-4619-e836-9741f9d1c311"
      },
      "execution_count": 7,
      "outputs": [
        {
          "output_type": "execute_result",
          "data": {
            "text/plain": [
              "(458913, 2)"
            ]
          },
          "metadata": {},
          "execution_count": 7
        }
      ]
    },
    {
      "cell_type": "code",
      "source": [
        "agg_dataset = pd.read_parquet(path=AGG_DATA_ABS_PATH)"
      ],
      "metadata": {
        "id": "LQcKsDcRu6C_"
      },
      "execution_count": 8,
      "outputs": []
    },
    {
      "cell_type": "code",
      "source": [
        "enc_agg = OrdinalEncoder(handle_unknown='use_encoded_value', unknown_value=-1)\n",
        "agg_dataset[['D_63_last', 'D_64_last']]=enc_agg.fit(agg_dataset[['D_63_last', 'D_64_last']])\n",
        "agg_dataset[['D_63_last', 'D_64_last']]=enc_agg.transform(agg_dataset[['D_63_last', 'D_64_last']])\n",
        "agg_dataset.fillna(0, inplace=True)\n",
        "\n"
      ],
      "metadata": {
        "id": "QIOnPpvjBKeb"
      },
      "execution_count": 9,
      "outputs": []
    },
    {
      "cell_type": "code",
      "source": [
        "agg_dataset.drop(axis=1, columns=['target'], inplace=True)"
      ],
      "metadata": {
        "id": "GYjyiV26BmhW"
      },
      "execution_count": 10,
      "outputs": []
    },
    {
      "cell_type": "code",
      "source": [
        "agg_dataset.shape"
      ],
      "metadata": {
        "colab": {
          "base_uri": "https://localhost:8080/"
        },
        "id": "GqvtRSo-AsQ_",
        "outputId": "b93bed91-f933-457c-9111-bee7db937f04"
      },
      "execution_count": 11,
      "outputs": [
        {
          "output_type": "execute_result",
          "data": {
            "text/plain": [
              "(458913, 919)"
            ]
          },
          "metadata": {},
          "execution_count": 11
        }
      ]
    },
    {
      "cell_type": "code",
      "source": [
        "def append_label(source_df):\n",
        "  return pd.merge(left=source_df, right=train_labels, how='inner')"
      ],
      "metadata": {
        "id": "eAEoVByIgU-W"
      },
      "execution_count": 12,
      "outputs": []
    },
    {
      "cell_type": "code",
      "source": [
        "def my_generator():\n",
        "    for f in files:      \n",
        "      X = pd.DataFrame()\n",
        "      Y = pd.DataFrame()\n",
        "      df_tmp = pd.read_parquet('/content/drive/MyDrive/amex-default-prediction/data/customer_train/' + f)\n",
        "      df_tmp = append_label(df_tmp)\n",
        "      enc = OrdinalEncoder(handle_unknown='use_encoded_value', unknown_value=-1)\n",
        "      df_tmp[['D_63', 'D_64']]=enc.fit(df_tmp[['D_63', 'D_64']])\n",
        "\n",
        "      df_tmp[['D_63', 'D_64']]=enc.transform(df_tmp[['D_63', 'D_64']])\n",
        "      df_tmp.fillna(0, inplace=True)\n",
        "\n",
        "      X= X.append(df_tmp.loc[:, ~df_tmp.columns.isin(['target'])])\n",
        "      X = X[X.groupby('customer_ID')['customer_ID'].transform('count') == 13]\n",
        "      X_Cust = pd.DataFrame(X['customer_ID'].unique(), columns=['customer_ID'])\n",
        "      Y = pd.merge(left=X_Cust, right=train_labels, how='inner')\n",
        "\n",
        "      X_Agg = pd.merge(left=X_Cust, right=agg_dataset, how ='inner')\n",
        "      \n",
        "      X.drop(axis=1, columns=['customer_ID', 'S_2'], inplace=True)\n",
        "      X = X.values.reshape(X_Cust.shape[0], 13, 188)\n",
        "      Y.drop(axis=1, columns='customer_ID', inplace=True)\n",
        "\n",
        "      X_Agg.drop(axis=1, columns='customer_ID', inplace=True)\n",
        "\n",
        "      print(f'X shape = {X.shape}')\n",
        "      yield {\"input_1\": X, \"input_2\": X_Agg.to_numpy()}, Y.to_numpy()\n",
        "      \n",
        "\n",
        "\n"
      ],
      "metadata": {
        "id": "Ivmf5DcQc6tP"
      },
      "execution_count": 13,
      "outputs": []
    },
    {
      "cell_type": "code",
      "source": [
        "def my_input_fn(epochs):\n",
        "    dataset = tf.data.Dataset.from_generator(lambda: my_generator(),\n",
        "                                             output_types=({\"input_1\": tf.float64, \"input_2\": tf.float64}, tf.int64),\n",
        "                                            output_shapes=({\"input_1\": tf.TensorShape([None, 13, 188]), \"input_2\" : tf.TensorShape([None, 918])},\n",
        "                                                           tf.TensorShape([None, 1])))\n",
        "\n",
        "    dataset = dataset.repeat(epochs)\n",
        "    # dataset = dataset.batch(32)\n",
        "    return dataset\n"
      ],
      "metadata": {
        "id": "PFq3dCPWXIGR"
      },
      "execution_count": 14,
      "outputs": []
    },
    {
      "cell_type": "code",
      "source": [
        "f1_metric = tfa.metrics.F1Score(num_classes=1, threshold=0.5)\n",
        "\n",
        "gru_model = tf.keras.Sequential()\n",
        "input_1 = tf.keras.Input(shape=(13, 188))\n",
        "gru_model.add(input_1)\n",
        "gru_model.add(GRU(64, dropout=0.1, recurrent_dropout=0.5))\n",
        "\n",
        "\n",
        "agg_model = tf.keras.Sequential()\n",
        "input_2 = tf.keras.Input(shape=(None, 918))\n",
        "agg_model.add(input_2)\n",
        "agg_model.add(Dense(128, activation='relu'))\n",
        "agg_model.add(Dense(128, activation='relu'))\n",
        "\n",
        "merged_model = tf.keras.layers.Concatenate([gru_model, agg_model])\n",
        "concat_layer = tf.keras.layers.Concatenate(axis=1)([gru_model, agg_model])\n",
        "\n",
        "\n",
        "combined_model = tf.keras.Sequential()\n",
        "combined_model.add(concat_layer)\n",
        "combined_model.add(Dense(64, activation='relu'))\n",
        "combined_model.add( Dense(1, activation='relu'))\n",
        "\n",
        "combined_model.compile(optimizer='adam', loss='binary_crossentropy', metrics=['accuracy', f1_metric])\n",
        "# full_model = tf.keras.Model(inputs=[input_1, input_2], outputs=combined_model.layers[-1])"
      ],
      "metadata": {
        "id": "Hd3XRKU7XQPk"
      },
      "execution_count": null,
      "outputs": []
    },
    {
      "cell_type": "code",
      "source": [
        "f1_metric = tfa.metrics.F1Score(num_classes=1, threshold=0.5)\n",
        "\n",
        "first_input = tf.keras.Input(shape=(13, 188))\n",
        "first_dense_1 = GRU(64, dropout=0.1, recurrent_dropout=0.5)(first_input)\n",
        "first_dense_2 = Dense(64, activation='sigmoid')(first_dense_1)\n",
        "\n",
        "second_input = tf.keras.Input(shape=(918))\n",
        "second_dense_1 = Dense(128, activation='relu')(second_input)\n",
        "second_dense_2 = Dense(64, activation='sigmoid')(second_dense_1)\n",
        "\n",
        "\n",
        "merge_one = tf.keras.layers.concatenate([first_dense_2, second_dense_2])\n",
        "\n",
        "output_layer = Dense(1, activation='sigmoid')(merge_one)\n",
        "\n",
        "model = tf.keras.Model(inputs=[first_input, second_input], outputs=output_layer)\n",
        "model.compile(optimizer='adam', loss='binary_crossentropy', metrics=['accuracy'])\n"
      ],
      "metadata": {
        "id": "0IFBQUUiQBqS"
      },
      "execution_count": 15,
      "outputs": []
    },
    {
      "cell_type": "code",
      "source": [
        "epochs = 5\n",
        "dataset = my_input_fn(epochs)\n",
        "\n"
      ],
      "metadata": {
        "id": "gSTkuOjzR4Tn"
      },
      "execution_count": 16,
      "outputs": []
    },
    {
      "cell_type": "code",
      "source": [
        "model.summary()"
      ],
      "metadata": {
        "colab": {
          "base_uri": "https://localhost:8080/"
        },
        "id": "nyo0dP4jW301",
        "outputId": "ca2a5b56-0d2c-464a-c0c8-5962a5894535"
      },
      "execution_count": 17,
      "outputs": [
        {
          "output_type": "stream",
          "name": "stdout",
          "text": [
            "Model: \"model\"\n",
            "__________________________________________________________________________________________________\n",
            " Layer (type)                   Output Shape         Param #     Connected to                     \n",
            "==================================================================================================\n",
            " input_1 (InputLayer)           [(None, 13, 188)]    0           []                               \n",
            "                                                                                                  \n",
            " input_2 (InputLayer)           [(None, 918)]        0           []                               \n",
            "                                                                                                  \n",
            " gru (GRU)                      (None, 64)           48768       ['input_1[0][0]']                \n",
            "                                                                                                  \n",
            " dense_1 (Dense)                (None, 128)          117632      ['input_2[0][0]']                \n",
            "                                                                                                  \n",
            " dense (Dense)                  (None, 64)           4160        ['gru[0][0]']                    \n",
            "                                                                                                  \n",
            " dense_2 (Dense)                (None, 64)           8256        ['dense_1[0][0]']                \n",
            "                                                                                                  \n",
            " concatenate (Concatenate)      (None, 128)          0           ['dense[0][0]',                  \n",
            "                                                                  'dense_2[0][0]']                \n",
            "                                                                                                  \n",
            " dense_3 (Dense)                (None, 1)            129         ['concatenate[0][0]']            \n",
            "                                                                                                  \n",
            "==================================================================================================\n",
            "Total params: 178,945\n",
            "Trainable params: 178,945\n",
            "Non-trainable params: 0\n",
            "__________________________________________________________________________________________________\n"
          ]
        }
      ]
    },
    {
      "cell_type": "code",
      "source": [
        "model.fit(dataset, epochs=epochs)"
      ],
      "metadata": {
        "colab": {
          "base_uri": "https://localhost:8080/"
        },
        "id": "3jN_19AzU96I",
        "outputId": "16396f32-379a-4ecc-b5bb-03422bf0b885"
      },
      "execution_count": 18,
      "outputs": [
        {
          "output_type": "stream",
          "name": "stdout",
          "text": [
            "Epoch 1/5\n",
            "X shape = (7508, 13, 188)\n",
            "      1/Unknown - 7s 7s/step - loss: 0.9485 - accuracy: 0.2324X shape = (41994, 13, 188)\n",
            "      2/Unknown - 24s 17s/step - loss: 0.7640 - accuracy: 0.2507X shape = (42089, 13, 188)\n",
            "      3/Unknown - 41s 17s/step - loss: 0.6918 - accuracy: 0.4903X shape = (41911, 13, 188)\n",
            "      4/Unknown - 57s 16s/step - loss: 0.6458 - accuracy: 0.5779X shape = (42029, 13, 188)\n",
            "      5/Unknown - 74s 17s/step - loss: 0.6161 - accuracy: 0.6231X shape = (42098, 13, 188)\n",
            "      6/Unknown - 89s 16s/step - loss: 0.5954 - accuracy: 0.6518X shape = (42038, 13, 188)\n",
            "      7/Unknown - 107s 17s/step - loss: 0.5807 - accuracy: 0.6712X shape = (42037, 13, 188)\n",
            "      8/Unknown - 127s 17s/step - loss: 0.5690 - accuracy: 0.6854X shape = (7508, 13, 188)\n",
            "      9/Unknown - 131s 15s/step - loss: 0.5670 - accuracy: 0.6875X shape = (41994, 13, 188)\n",
            "     10/Unknown - 148s 16s/step - loss: 0.5554 - accuracy: 0.6980X shape = (42089, 13, 188)\n",
            "     11/Unknown - 163s 16s/step - loss: 0.5440 - accuracy: 0.7065X shape = (41911, 13, 188)\n",
            "     12/Unknown - 180s 16s/step - loss: 0.5324 - accuracy: 0.7140X shape = (42029, 13, 188)\n",
            "     13/Unknown - 197s 16s/step - loss: 0.5209 - accuracy: 0.7211X shape = (42098, 13, 188)\n",
            "     14/Unknown - 213s 16s/step - loss: 0.5095 - accuracy: 0.7285X shape = (42038, 13, 188)\n",
            "     15/Unknown - 230s 16s/step - loss: 0.4987 - accuracy: 0.7364X shape = (42037, 13, 188)\n",
            "     16/Unknown - 248s 16s/step - loss: 0.4887 - accuracy: 0.7451X shape = (7508, 13, 188)\n",
            "     17/Unknown - 253s 15s/step - loss: 0.4870 - accuracy: 0.7466X shape = (41994, 13, 188)\n",
            "     18/Unknown - 269s 15s/step - loss: 0.4774 - accuracy: 0.7552X shape = (42089, 13, 188)\n",
            "     19/Unknown - 285s 15s/step - loss: 0.4681 - accuracy: 0.7628X shape = (41911, 13, 188)\n",
            "     20/Unknown - 302s 15s/step - loss: 0.4590 - accuracy: 0.7696X shape = (42029, 13, 188)\n",
            "     21/Unknown - 320s 16s/step - loss: 0.4502 - accuracy: 0.7756X shape = (42098, 13, 188)\n",
            "     22/Unknown - 337s 16s/step - loss: 0.4416 - accuracy: 0.7810X shape = (42038, 13, 188)\n",
            "     23/Unknown - 364s 16s/step - loss: 0.4335 - accuracy: 0.7859X shape = (42037, 13, 188)\n",
            "     24/Unknown - 386s 16s/step - loss: 0.4258 - accuracy: 0.7904X shape = (7508, 13, 188)\n",
            "     25/Unknown - 391s 16s/step - loss: 0.4245 - accuracy: 0.7911X shape = (41994, 13, 188)\n",
            "     26/Unknown - 407s 16s/step - loss: 0.4176 - accuracy: 0.7951X shape = (42089, 13, 188)\n",
            "     27/Unknown - 423s 16s/step - loss: 0.4110 - accuracy: 0.7989X shape = (41911, 13, 188)\n",
            "     28/Unknown - 439s 16s/step - loss: 0.4048 - accuracy: 0.8025X shape = (42029, 13, 188)\n",
            "     29/Unknown - 456s 16s/step - loss: 0.3992 - accuracy: 0.8058X shape = (42098, 13, 188)\n",
            "     30/Unknown - 473s 16s/step - loss: 0.3937 - accuracy: 0.8090X shape = (42038, 13, 188)\n",
            "     31/Unknown - 489s 16s/step - loss: 0.3886 - accuracy: 0.8119X shape = (42037, 13, 188)\n",
            "     32/Unknown - 507s 16s/step - loss: 0.3836 - accuracy: 0.8147X shape = (7508, 13, 188)\n",
            "     33/Unknown - 512s 16s/step - loss: 0.3828 - accuracy: 0.8152X shape = (41994, 13, 188)\n",
            "     34/Unknown - 528s 16s/step - loss: 0.3784 - accuracy: 0.8177X shape = (42089, 13, 188)\n",
            "     35/Unknown - 545s 16s/step - loss: 0.3742 - accuracy: 0.8200X shape = (41911, 13, 188)\n",
            "     36/Unknown - 561s 16s/step - loss: 0.3702 - accuracy: 0.8223X shape = (42029, 13, 188)\n",
            "     37/Unknown - 578s 16s/step - loss: 0.3665 - accuracy: 0.8244X shape = (42098, 13, 188)\n",
            "     38/Unknown - 595s 16s/step - loss: 0.3628 - accuracy: 0.8264X shape = (42038, 13, 188)\n",
            "     39/Unknown - 613s 16s/step - loss: 0.3592 - accuracy: 0.8284X shape = (42037, 13, 188)\n",
            "40/40 [==============================] - 632s 16s/step - loss: 0.3558 - accuracy: 0.8303\n",
            "Epoch 2/5\n",
            "X shape = (7508, 13, 188)\n",
            " 1/40 [..............................] - ETA: 2:54 - loss: 0.2390 - accuracy: 0.8957X shape = (41994, 13, 188)\n",
            " 2/40 [>.............................] - ETA: 10:00 - loss: 0.2408 - accuracy: 0.8942X shape = (42089, 13, 188)\n",
            " 3/40 [=>............................] - ETA: 10:26 - loss: 0.2403 - accuracy: 0.8944X shape = (41911, 13, 188)\n",
            " 4/40 [==>...........................] - ETA: 10:04 - loss: 0.2386 - accuracy: 0.8951X shape = (42029, 13, 188)\n",
            " 5/40 [==>...........................] - ETA: 9:49 - loss: 0.2388 - accuracy: 0.8951 X shape = (42098, 13, 188)\n",
            " 6/40 [===>..........................] - ETA: 9:50 - loss: 0.2375 - accuracy: 0.8956X shape = (42038, 13, 188)\n",
            " 7/40 [====>.........................] - ETA: 9:31 - loss: 0.2363 - accuracy: 0.8961X shape = (42037, 13, 188)\n",
            " 8/40 [=====>........................] - ETA: 9:15 - loss: 0.2352 - accuracy: 0.8969X shape = (7508, 13, 188)\n",
            " 9/40 [=====>........................] - ETA: 8:10 - loss: 0.2351 - accuracy: 0.8969X shape = (41994, 13, 188)\n",
            "10/40 [======>.......................] - ETA: 7:58 - loss: 0.2349 - accuracy: 0.8970X shape = (42089, 13, 188)\n",
            "11/40 [=======>......................] - ETA: 7:45 - loss: 0.2346 - accuracy: 0.8971X shape = (41911, 13, 188)\n",
            "12/40 [========>.....................] - ETA: 7:31 - loss: 0.2340 - accuracy: 0.8973X shape = (42029, 13, 188)\n",
            "13/40 [========>.....................] - ETA: 7:18 - loss: 0.2339 - accuracy: 0.8975X shape = (42098, 13, 188)\n",
            "14/40 [=========>....................] - ETA: 7:03 - loss: 0.2333 - accuracy: 0.8979X shape = (42038, 13, 188)\n",
            "15/40 [==========>...................] - ETA: 6:48 - loss: 0.2327 - accuracy: 0.8981X shape = (42037, 13, 188)\n",
            "16/40 [===========>..................] - ETA: 6:36 - loss: 0.2320 - accuracy: 0.8985X shape = (7508, 13, 188)\n",
            "17/40 [===========>..................] - ETA: 6:03 - loss: 0.2320 - accuracy: 0.8985X shape = (41994, 13, 188)\n",
            "18/40 [============>.................] - ETA: 5:49 - loss: 0.2318 - accuracy: 0.8986X shape = (42089, 13, 188)\n",
            "19/40 [=============>................] - ETA: 5:34 - loss: 0.2315 - accuracy: 0.8987X shape = (41911, 13, 188)\n",
            "20/40 [==============>...............] - ETA: 5:20 - loss: 0.2311 - accuracy: 0.8989X shape = (42029, 13, 188)\n",
            "21/40 [==============>...............] - ETA: 5:05 - loss: 0.2309 - accuracy: 0.8990X shape = (42098, 13, 188)\n",
            "22/40 [===============>..............] - ETA: 4:56 - loss: 0.2305 - accuracy: 0.8992X shape = (42038, 13, 188)\n",
            "23/40 [================>.............] - ETA: 4:50 - loss: 0.2301 - accuracy: 0.8994X shape = (42037, 13, 188)\n",
            "24/40 [=================>............] - ETA: 4:34 - loss: 0.2296 - accuracy: 0.8996X shape = (7508, 13, 188)\n",
            "25/40 [=================>............] - ETA: 4:09 - loss: 0.2295 - accuracy: 0.8997X shape = (41994, 13, 188)\n",
            "26/40 [==================>...........] - ETA: 3:52 - loss: 0.2294 - accuracy: 0.8997X shape = (42089, 13, 188)\n",
            "27/40 [===================>..........] - ETA: 3:37 - loss: 0.2291 - accuracy: 0.8998X shape = (41911, 13, 188)\n",
            "28/40 [====================>.........] - ETA: 3:20 - loss: 0.2288 - accuracy: 0.9000X shape = (42029, 13, 188)\n",
            "29/40 [====================>.........] - ETA: 3:03 - loss: 0.2286 - accuracy: 0.9000X shape = (42098, 13, 188)\n",
            "30/40 [=====================>........] - ETA: 2:47 - loss: 0.2283 - accuracy: 0.9002X shape = (42038, 13, 188)\n",
            "31/40 [======================>.......] - ETA: 2:31 - loss: 0.2279 - accuracy: 0.9003X shape = (42037, 13, 188)\n",
            "32/40 [=======================>......] - ETA: 2:14 - loss: 0.2275 - accuracy: 0.9006X shape = (7508, 13, 188)\n",
            "33/40 [=======================>......] - ETA: 1:55 - loss: 0.2275 - accuracy: 0.9006X shape = (41994, 13, 188)\n",
            "34/40 [========================>.....] - ETA: 1:38 - loss: 0.2273 - accuracy: 0.9007X shape = (42089, 13, 188)\n",
            "35/40 [=========================>....] - ETA: 1:22 - loss: 0.2271 - accuracy: 0.9007X shape = (41911, 13, 188)\n",
            "36/40 [==========================>...] - ETA: 1:05 - loss: 0.2268 - accuracy: 0.9008X shape = (42029, 13, 188)\n",
            "37/40 [==========================>...] - ETA: 49s - loss: 0.2267 - accuracy: 0.9009 X shape = (42098, 13, 188)\n",
            "38/40 [===========================>..] - ETA: 33s - loss: 0.2264 - accuracy: 0.9010X shape = (42038, 13, 188)\n",
            "39/40 [============================>.] - ETA: 16s - loss: 0.2261 - accuracy: 0.9011X shape = (42037, 13, 188)\n",
            "40/40 [==============================] - 654s 17s/step - loss: 0.2258 - accuracy: 0.9013\n",
            "Epoch 3/5\n",
            "X shape = (7508, 13, 188)\n",
            " 1/40 [..............................] - ETA: 3:07 - loss: 0.2149 - accuracy: 0.9081X shape = (41994, 13, 188)\n",
            " 2/40 [>.............................] - ETA: 10:55 - loss: 0.2195 - accuracy: 0.9039X shape = (42089, 13, 188)\n",
            " 3/40 [=>............................] - ETA: 10:30 - loss: 0.2192 - accuracy: 0.9040X shape = (41911, 13, 188)\n",
            " 4/40 [==>...........................] - ETA: 10:08 - loss: 0.2179 - accuracy: 0.9048X shape = (42029, 13, 188)\n",
            " 5/40 [==>...........................] - ETA: 9:52 - loss: 0.2183 - accuracy: 0.9045 X shape = (42098, 13, 188)\n",
            " 6/40 [===>..........................] - ETA: 9:33 - loss: 0.2178 - accuracy: 0.9047X shape = (42038, 13, 188)\n",
            " 7/40 [====>.........................] - ETA: 9:15 - loss: 0.2170 - accuracy: 0.9050X shape = (42037, 13, 188)\n",
            " 8/40 [=====>........................] - ETA: 9:00 - loss: 0.2163 - accuracy: 0.9055X shape = (7508, 13, 188)\n",
            " 9/40 [=====>........................] - ETA: 7:56 - loss: 0.2162 - accuracy: 0.9056X shape = (41994, 13, 188)\n",
            "10/40 [======>.......................] - ETA: 7:44 - loss: 0.2164 - accuracy: 0.9055X shape = (42089, 13, 188)\n",
            "11/40 [=======>......................] - ETA: 7:32 - loss: 0.2165 - accuracy: 0.9053X shape = (41911, 13, 188)\n",
            "12/40 [========>.....................] - ETA: 7:21 - loss: 0.2161 - accuracy: 0.9055X shape = (42029, 13, 188)\n",
            "13/40 [========>.....................] - ETA: 7:07 - loss: 0.2162 - accuracy: 0.9055X shape = (42098, 13, 188)\n",
            "14/40 [=========>....................] - ETA: 6:54 - loss: 0.2160 - accuracy: 0.9055X shape = (42038, 13, 188)\n",
            "15/40 [==========>...................] - ETA: 6:39 - loss: 0.2156 - accuracy: 0.9057X shape = (42037, 13, 188)\n",
            "16/40 [===========>..................] - ETA: 6:21 - loss: 0.2152 - accuracy: 0.9060X shape = (7508, 13, 188)\n",
            "17/40 [===========>..................] - ETA: 5:49 - loss: 0.2152 - accuracy: 0.9060X shape = (41994, 13, 188)\n",
            "18/40 [============>.................] - ETA: 5:37 - loss: 0.2152 - accuracy: 0.9060X shape = (42089, 13, 188)\n",
            "19/40 [=============>................] - ETA: 5:23 - loss: 0.2152 - accuracy: 0.9059X shape = (41911, 13, 188)\n",
            "20/40 [==============>...............] - ETA: 5:10 - loss: 0.2150 - accuracy: 0.9060X shape = (42029, 13, 188)\n",
            "21/40 [==============>...............] - ETA: 5:04 - loss: 0.2150 - accuracy: 0.9060X shape = (42098, 13, 188)\n",
            "22/40 [===============>..............] - ETA: 4:57 - loss: 0.2149 - accuracy: 0.9060X shape = (42038, 13, 188)\n",
            "23/40 [================>.............] - ETA: 4:41 - loss: 0.2146 - accuracy: 0.9061X shape = (42037, 13, 188)\n",
            "24/40 [=================>............] - ETA: 4:25 - loss: 0.2143 - accuracy: 0.9064X shape = (7508, 13, 188)\n",
            "25/40 [=================>............] - ETA: 4:00 - loss: 0.2142 - accuracy: 0.9064X shape = (41994, 13, 188)\n",
            "26/40 [==================>...........] - ETA: 3:44 - loss: 0.2142 - accuracy: 0.9064X shape = (42089, 13, 188)\n",
            "27/40 [===================>..........] - ETA: 3:29 - loss: 0.2142 - accuracy: 0.9064X shape = (41911, 13, 188)\n",
            "28/40 [====================>.........] - ETA: 3:13 - loss: 0.2140 - accuracy: 0.9065X shape = (42029, 13, 188)\n",
            "29/40 [====================>.........] - ETA: 2:56 - loss: 0.2140 - accuracy: 0.9065X shape = (42098, 13, 188)\n",
            "30/40 [=====================>........] - ETA: 2:40 - loss: 0.2139 - accuracy: 0.9065X shape = (42038, 13, 188)\n",
            "31/40 [======================>.......] - ETA: 2:24 - loss: 0.2136 - accuracy: 0.9067X shape = (42037, 13, 188)\n",
            "32/40 [=======================>......] - ETA: 2:08 - loss: 0.2134 - accuracy: 0.9068X shape = (7508, 13, 188)\n",
            "33/40 [=======================>......] - ETA: 1:50 - loss: 0.2133 - accuracy: 0.9069X shape = (41994, 13, 188)\n",
            "34/40 [========================>.....] - ETA: 1:34 - loss: 0.2133 - accuracy: 0.9068X shape = (42089, 13, 188)\n",
            "35/40 [=========================>....] - ETA: 1:18 - loss: 0.2133 - accuracy: 0.9068X shape = (41911, 13, 188)\n",
            "36/40 [==========================>...] - ETA: 1:03 - loss: 0.2131 - accuracy: 0.9069X shape = (42029, 13, 188)\n",
            "37/40 [==========================>...] - ETA: 47s - loss: 0.2131 - accuracy: 0.9069 X shape = (42098, 13, 188)\n",
            "38/40 [===========================>..] - ETA: 31s - loss: 0.2130 - accuracy: 0.9070X shape = (42038, 13, 188)\n",
            "39/40 [============================>.] - ETA: 15s - loss: 0.2128 - accuracy: 0.9071X shape = (42037, 13, 188)\n",
            "40/40 [==============================] - 621s 16s/step - loss: 0.2126 - accuracy: 0.9072\n",
            "Epoch 4/5\n",
            "X shape = (7508, 13, 188)\n",
            " 1/40 [..............................] - ETA: 3:05 - loss: 0.2030 - accuracy: 0.9152X shape = (41994, 13, 188)\n",
            " 2/40 [>.............................] - ETA: 9:53 - loss: 0.2106 - accuracy: 0.9078X shape = (42089, 13, 188)\n",
            " 3/40 [=>............................] - ETA: 10:03 - loss: 0.2106 - accuracy: 0.9077X shape = (41911, 13, 188)\n",
            " 4/40 [==>...........................] - ETA: 9:38 - loss: 0.2094 - accuracy: 0.9085 X shape = (42029, 13, 188)\n",
            " 5/40 [==>...........................] - ETA: 9:02 - loss: 0.2098 - accuracy: 0.9082X shape = (42098, 13, 188)\n",
            " 6/40 [===>..........................] - ETA: 8:40 - loss: 0.2094 - accuracy: 0.9084X shape = (42038, 13, 188)\n",
            " 7/40 [====>.........................] - ETA: 8:45 - loss: 0.2087 - accuracy: 0.9088X shape = (42037, 13, 188)\n",
            " 8/40 [=====>........................] - ETA: 8:28 - loss: 0.2081 - accuracy: 0.9093X shape = (7508, 13, 188)\n",
            " 9/40 [=====>........................] - ETA: 7:27 - loss: 0.2079 - accuracy: 0.9095X shape = (41994, 13, 188)\n",
            "10/40 [======>.......................] - ETA: 7:20 - loss: 0.2082 - accuracy: 0.9093X shape = (42089, 13, 188)\n",
            "11/40 [=======>......................] - ETA: 7:11 - loss: 0.2084 - accuracy: 0.9090X shape = (41911, 13, 188)\n",
            "12/40 [========>.....................] - ETA: 7:02 - loss: 0.2081 - accuracy: 0.9092X shape = (42029, 13, 188)\n",
            "13/40 [========>.....................] - ETA: 6:53 - loss: 0.2083 - accuracy: 0.9091X shape = (42098, 13, 188)\n",
            "14/40 [=========>....................] - ETA: 6:41 - loss: 0.2082 - accuracy: 0.9091X shape = (42038, 13, 188)\n",
            "15/40 [==========>...................] - ETA: 6:23 - loss: 0.2079 - accuracy: 0.9093X shape = (42037, 13, 188)\n",
            "16/40 [===========>..................] - ETA: 6:10 - loss: 0.2075 - accuracy: 0.9095X shape = (7508, 13, 188)\n",
            "17/40 [===========>..................] - ETA: 5:40 - loss: 0.2074 - accuracy: 0.9096X shape = (41994, 13, 188)\n",
            "18/40 [============>.................] - ETA: 5:27 - loss: 0.2076 - accuracy: 0.9095X shape = (42089, 13, 188)\n",
            "19/40 [=============>................] - ETA: 5:17 - loss: 0.2077 - accuracy: 0.9094X shape = (41911, 13, 188)\n",
            "20/40 [==============>...............] - ETA: 5:03 - loss: 0.2075 - accuracy: 0.9095X shape = (42029, 13, 188)\n",
            "21/40 [==============>...............] - ETA: 4:49 - loss: 0.2076 - accuracy: 0.9094X shape = (42098, 13, 188)\n",
            "22/40 [===============>..............] - ETA: 4:42 - loss: 0.2075 - accuracy: 0.9094X shape = (42038, 13, 188)\n",
            "23/40 [================>.............] - ETA: 4:30 - loss: 0.2073 - accuracy: 0.9096X shape = (42037, 13, 188)\n",
            "24/40 [=================>............] - ETA: 4:14 - loss: 0.2071 - accuracy: 0.9097X shape = (7508, 13, 188)\n",
            "25/40 [=================>............] - ETA: 3:51 - loss: 0.2070 - accuracy: 0.9098X shape = (41994, 13, 188)\n",
            "26/40 [==================>...........] - ETA: 3:35 - loss: 0.2071 - accuracy: 0.9097X shape = (42089, 13, 188)\n",
            "27/40 [===================>..........] - ETA: 3:20 - loss: 0.2072 - accuracy: 0.9096X shape = (41911, 13, 188)\n",
            "28/40 [====================>.........] - ETA: 3:05 - loss: 0.2070 - accuracy: 0.9097X shape = (42029, 13, 188)\n",
            "29/40 [====================>.........] - ETA: 2:49 - loss: 0.2071 - accuracy: 0.9096X shape = (42098, 13, 188)\n",
            "30/40 [=====================>........] - ETA: 2:34 - loss: 0.2070 - accuracy: 0.9096X shape = (42038, 13, 188)\n",
            "31/40 [======================>.......] - ETA: 2:19 - loss: 0.2068 - accuracy: 0.9098X shape = (42037, 13, 188)\n",
            "32/40 [=======================>......] - ETA: 2:04 - loss: 0.2067 - accuracy: 0.9099X shape = (7508, 13, 188)\n",
            "33/40 [=======================>......] - ETA: 1:46 - loss: 0.2066 - accuracy: 0.9099X shape = (41994, 13, 188)\n",
            "34/40 [========================>.....] - ETA: 1:31 - loss: 0.2067 - accuracy: 0.9099X shape = (42089, 13, 188)\n",
            "35/40 [=========================>....] - ETA: 1:16 - loss: 0.2067 - accuracy: 0.9098X shape = (41911, 13, 188)\n",
            "36/40 [==========================>...] - ETA: 1:01 - loss: 0.2066 - accuracy: 0.9099X shape = (42029, 13, 188)\n",
            "37/40 [==========================>...] - ETA: 45s - loss: 0.2066 - accuracy: 0.9098 X shape = (42098, 13, 188)\n",
            "38/40 [===========================>..] - ETA: 30s - loss: 0.2066 - accuracy: 0.9099X shape = (42038, 13, 188)\n",
            "39/40 [============================>.] - ETA: 15s - loss: 0.2064 - accuracy: 0.9100X shape = (42037, 13, 188)\n",
            "40/40 [==============================] - 605s 15s/step - loss: 0.2063 - accuracy: 0.9101\n",
            "Epoch 5/5\n",
            "X shape = (7508, 13, 188)\n",
            " 1/40 [..............................] - ETA: 3:18 - loss: 0.1969 - accuracy: 0.9150X shape = (41994, 13, 188)\n",
            " 2/40 [>.............................] - ETA: 9:05 - loss: 0.2063 - accuracy: 0.9099X shape = (42089, 13, 188)\n",
            " 3/40 [=>............................] - ETA: 9:18 - loss: 0.2067 - accuracy: 0.9094X shape = (41911, 13, 188)\n",
            " 4/40 [==>...........................] - ETA: 9:20 - loss: 0.2055 - accuracy: 0.9102X shape = (42029, 13, 188)\n",
            " 5/40 [==>...........................] - ETA: 8:52 - loss: 0.2059 - accuracy: 0.9097X shape = (42098, 13, 188)\n",
            " 6/40 [===>..........................] - ETA: 8:33 - loss: 0.2056 - accuracy: 0.9101X shape = (42038, 13, 188)\n",
            " 7/40 [====>.........................] - ETA: 8:16 - loss: 0.2048 - accuracy: 0.9105X shape = (42037, 13, 188)\n",
            " 8/40 [=====>........................] - ETA: 8:01 - loss: 0.2041 - accuracy: 0.9110X shape = (7508, 13, 188)\n",
            " 9/40 [=====>........................] - ETA: 7:05 - loss: 0.2040 - accuracy: 0.9111X shape = (41994, 13, 188)\n",
            "10/40 [======>.......................] - ETA: 6:53 - loss: 0.2044 - accuracy: 0.9108X shape = (42089, 13, 188)\n",
            "11/40 [=======>......................] - ETA: 6:45 - loss: 0.2047 - accuracy: 0.9106X shape = (41911, 13, 188)\n",
            "12/40 [========>.....................] - ETA: 6:31 - loss: 0.2044 - accuracy: 0.9108X shape = (42029, 13, 188)\n",
            "13/40 [========>.....................] - ETA: 6:19 - loss: 0.2046 - accuracy: 0.9106X shape = (42098, 13, 188)\n",
            "14/40 [=========>....................] - ETA: 6:10 - loss: 0.2045 - accuracy: 0.9107X shape = (42038, 13, 188)\n",
            "15/40 [==========>...................] - ETA: 6:00 - loss: 0.2042 - accuracy: 0.9109X shape = (42037, 13, 188)\n",
            "16/40 [===========>..................] - ETA: 5:49 - loss: 0.2039 - accuracy: 0.9111X shape = (7508, 13, 188)\n",
            "17/40 [===========>..................] - ETA: 5:22 - loss: 0.2038 - accuracy: 0.9112X shape = (41994, 13, 188)\n",
            "18/40 [============>.................] - ETA: 5:13 - loss: 0.2040 - accuracy: 0.9111X shape = (42089, 13, 188)\n",
            "19/40 [=============>................] - ETA: 5:02 - loss: 0.2041 - accuracy: 0.9109X shape = (41911, 13, 188)\n",
            "20/40 [==============>...............] - ETA: 4:51 - loss: 0.2040 - accuracy: 0.9110X shape = (42029, 13, 188)\n",
            "21/40 [==============>...............] - ETA: 4:39 - loss: 0.2041 - accuracy: 0.9109X shape = (42098, 13, 188)\n",
            "22/40 [===============>..............] - ETA: 4:27 - loss: 0.2040 - accuracy: 0.9110X shape = (42038, 13, 188)\n",
            "23/40 [================>.............] - ETA: 4:18 - loss: 0.2038 - accuracy: 0.9111X shape = (42037, 13, 188)\n",
            "24/40 [=================>............] - ETA: 4:13 - loss: 0.2036 - accuracy: 0.9112X shape = (7508, 13, 188)\n",
            "25/40 [=================>............] - ETA: 3:51 - loss: 0.2035 - accuracy: 0.9113X shape = (41994, 13, 188)\n",
            "26/40 [==================>...........] - ETA: 3:37 - loss: 0.2037 - accuracy: 0.9112X shape = (42089, 13, 188)\n",
            "27/40 [===================>..........] - ETA: 3:23 - loss: 0.2038 - accuracy: 0.9111X shape = (41911, 13, 188)\n",
            "28/40 [====================>.........] - ETA: 3:08 - loss: 0.2037 - accuracy: 0.9112X shape = (42029, 13, 188)\n",
            "29/40 [====================>.........] - ETA: 2:53 - loss: 0.2037 - accuracy: 0.9111X shape = (42098, 13, 188)\n",
            "30/40 [=====================>........] - ETA: 2:38 - loss: 0.2037 - accuracy: 0.9111X shape = (42038, 13, 188)\n",
            "31/40 [======================>.......] - ETA: 2:23 - loss: 0.2035 - accuracy: 0.9112X shape = (42037, 13, 188)\n",
            "32/40 [=======================>......] - ETA: 2:08 - loss: 0.2034 - accuracy: 0.9113X shape = (7508, 13, 188)\n",
            "33/40 [=======================>......] - ETA: 1:50 - loss: 0.2033 - accuracy: 0.9114X shape = (41994, 13, 188)\n",
            "34/40 [========================>.....] - ETA: 1:34 - loss: 0.2034 - accuracy: 0.9113X shape = (42089, 13, 188)\n",
            "35/40 [=========================>....] - ETA: 1:19 - loss: 0.2035 - accuracy: 0.9113X shape = (41911, 13, 188)\n",
            "36/40 [==========================>...] - ETA: 1:03 - loss: 0.2034 - accuracy: 0.9113X shape = (42029, 13, 188)\n",
            "37/40 [==========================>...] - ETA: 48s - loss: 0.2034 - accuracy: 0.9113 X shape = (42098, 13, 188)\n",
            "38/40 [===========================>..] - ETA: 32s - loss: 0.2034 - accuracy: 0.9113X shape = (42038, 13, 188)\n",
            "39/40 [============================>.] - ETA: 16s - loss: 0.2033 - accuracy: 0.9113X shape = (42037, 13, 188)\n",
            "40/40 [==============================] - 640s 16s/step - loss: 0.2031 - accuracy: 0.9114\n"
          ]
        },
        {
          "output_type": "execute_result",
          "data": {
            "text/plain": [
              "<keras.callbacks.History at 0x7f9ebe258890>"
            ]
          },
          "metadata": {},
          "execution_count": 18
        }
      ]
    },
    {
      "cell_type": "code",
      "source": [
        "val_files = listdir('/content/drive/MyDrive/amex-default-prediction/data/customer_val/')"
      ],
      "metadata": {
        "id": "ld4z-43avLyZ"
      },
      "execution_count": 19,
      "outputs": []
    },
    {
      "cell_type": "code",
      "source": [
        "def my_val_generator():\n",
        "    for f in val_files:      \n",
        "      X = pd.DataFrame()\n",
        "      Y = pd.DataFrame()\n",
        "      df_tmp = pd.read_parquet('/content/drive/MyDrive/amex-default-prediction/data/customer_val/' + f)\n",
        "      df_tmp = append_label(df_tmp)\n",
        "      enc = OrdinalEncoder(handle_unknown='use_encoded_value', unknown_value=-1)\n",
        "      df_tmp[['D_63', 'D_64']]=enc.fit(df_tmp[['D_63', 'D_64']])\n",
        "\n",
        "      df_tmp[['D_63', 'D_64']]=enc.transform(df_tmp[['D_63', 'D_64']])\n",
        "      df_tmp.fillna(0, inplace=True)\n",
        "\n",
        "      X= X.append(df_tmp.loc[:, ~df_tmp.columns.isin(['target'])])\n",
        "      X = X[X.groupby('customer_ID')['customer_ID'].transform('count') == 13]\n",
        "      X_Cust = pd.DataFrame(X['customer_ID'].unique(), columns=['customer_ID'])\n",
        "      Y = pd.merge(left=X_Cust, right=train_labels, how='inner')\n",
        "\n",
        "      X_Agg = pd.merge(left=X_Cust, right=agg_dataset, how ='inner')\n",
        "      \n",
        "      X.drop(axis=1, columns=['customer_ID', 'S_2'], inplace=True)\n",
        "      X = X.values.reshape(X_Cust.shape[0], 13, 188)\n",
        "      Y.drop(axis=1, columns='customer_ID', inplace=True)\n",
        "\n",
        "      X_Agg.drop(axis=1, columns='customer_ID', inplace=True)\n",
        "\n",
        "      print(f'X shape = {X.shape}')\n",
        "      yield {\"input_1\": X, \"input_2\": X_Agg.to_numpy()}, Y.to_numpy()"
      ],
      "metadata": {
        "id": "fE0DAIxmxX21"
      },
      "execution_count": 23,
      "outputs": []
    },
    {
      "cell_type": "code",
      "source": [
        "def my_val_input_fn():\n",
        "    dataset = tf.data.Dataset.from_generator(lambda: my_val_generator(),\n",
        "                                              output_types=({\"input_1\": tf.float64, \"input_2\": tf.float64}, tf.int64),\n",
        "                                            output_shapes=({\"input_1\": tf.TensorShape([None, 13, 188]), \"input_2\" : tf.TensorShape([None, 918])},\n",
        "                                                            tf.TensorShape([None, 1])))\n",
        "\n",
        "    # dataset = dataset.repeat(epochs)\n",
        "    # dataset = dataset.batch(32)\n",
        "    return dataset"
      ],
      "metadata": {
        "id": "Dl99Wtsqxeez"
      },
      "execution_count": 27,
      "outputs": []
    },
    {
      "cell_type": "code",
      "source": [
        "val_dataset = my_val_input_fn()\n",
        "model.evaluate(val_dataset)"
      ],
      "metadata": {
        "colab": {
          "base_uri": "https://localhost:8080/"
        },
        "id": "ILKHw4zBxqMP",
        "outputId": "c29e55c3-bc8b-4ec2-cfed-64587c0207cb"
      },
      "execution_count": 28,
      "outputs": [
        {
          "output_type": "stream",
          "name": "stdout",
          "text": [
            "X shape = (42194, 13, 188)\n",
            "1/1 [==============================] - 19s 19s/step - loss: 0.2035 - accuracy: 0.9122\n"
          ]
        },
        {
          "output_type": "execute_result",
          "data": {
            "text/plain": [
              "[0.20349571108818054, 0.9122387170791626]"
            ]
          },
          "metadata": {},
          "execution_count": 28
        }
      ]
    },
    {
      "cell_type": "code",
      "source": [
        "y_pred = (model.predict(val_dataset) > 0.5).astype(\"int32\")"
      ],
      "metadata": {
        "id": "M8HXFr2AyA6E",
        "colab": {
          "base_uri": "https://localhost:8080/"
        },
        "outputId": "1cef8b7d-97f2-4902-9f7c-d73d52d49e6b"
      },
      "execution_count": 29,
      "outputs": [
        {
          "output_type": "stream",
          "name": "stdout",
          "text": [
            "X shape = (42194, 13, 188)\n"
          ]
        }
      ]
    },
    {
      "cell_type": "code",
      "source": [],
      "metadata": {
        "id": "ICBwfyQYkqUY"
      },
      "execution_count": null,
      "outputs": []
    }
  ]
}