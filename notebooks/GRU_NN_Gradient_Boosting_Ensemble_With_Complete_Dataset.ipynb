{
  "nbformat": 4,
  "nbformat_minor": 0,
  "metadata": {
    "colab": {
      "name": "GRU_NN_Gradient_Boosting_Ensemble_With_Complete_Dataset.ipynb",
      "provenance": [],
      "collapsed_sections": [],
      "machine_shape": "hm",
      "mount_file_id": "1ngWKkR7PS6E3T0XK8k6gUJs8G8zVyuGI",
      "authorship_tag": "ABX9TyNxrqhiRpt1rk/HMNnEt0xB",
      "include_colab_link": true
    },
    "kernelspec": {
      "name": "python3",
      "display_name": "Python 3"
    },
    "language_info": {
      "name": "python"
    },
    "gpuClass": "standard"
  },
  "cells": [
    {
      "cell_type": "markdown",
      "metadata": {
        "id": "view-in-github",
        "colab_type": "text"
      },
      "source": [
        "<a href=\"https://colab.research.google.com/github/sankardevisharath/amex-default-prediction/blob/master/notebooks/GRU_NN_Gradient_Boosting_Ensemble_With_Complete_Dataset.ipynb\" target=\"_parent\"><img src=\"https://colab.research.google.com/assets/colab-badge.svg\" alt=\"Open In Colab\"/></a>"
      ]
    },
    {
      "cell_type": "code",
      "source": [
        "from os import listdir\n",
        "\n",
        "files = listdir('/content/drive/MyDrive/amex-default-prediction/data/customer_train/')\n"
      ],
      "metadata": {
        "id": "qDhpXsRkbY7g"
      },
      "execution_count": 1,
      "outputs": []
    },
    {
      "cell_type": "code",
      "source": [
        "pip install tensorflow-addons"
      ],
      "metadata": {
        "colab": {
          "base_uri": "https://localhost:8080/"
        },
        "id": "DHNGFYGOgX21",
        "outputId": "2c46903a-cd12-41df-d66c-03f09be5b82a"
      },
      "execution_count": 2,
      "outputs": [
        {
          "output_type": "stream",
          "name": "stdout",
          "text": [
            "Looking in indexes: https://pypi.org/simple, https://us-python.pkg.dev/colab-wheels/public/simple/\n",
            "Collecting tensorflow-addons\n",
            "  Downloading tensorflow_addons-0.17.1-cp37-cp37m-manylinux_2_17_x86_64.manylinux2014_x86_64.whl (1.1 MB)\n",
            "\u001b[K     |████████████████████████████████| 1.1 MB 5.0 MB/s \n",
            "\u001b[?25hRequirement already satisfied: typeguard>=2.7 in /usr/local/lib/python3.7/dist-packages (from tensorflow-addons) (2.7.1)\n",
            "Requirement already satisfied: packaging in /usr/local/lib/python3.7/dist-packages (from tensorflow-addons) (21.3)\n",
            "Requirement already satisfied: pyparsing!=3.0.5,>=2.0.2 in /usr/local/lib/python3.7/dist-packages (from packaging->tensorflow-addons) (3.0.9)\n",
            "Installing collected packages: tensorflow-addons\n",
            "Successfully installed tensorflow-addons-0.17.1\n"
          ]
        }
      ]
    },
    {
      "cell_type": "code",
      "source": [
        "pip install tensorflow_decision_forests\n"
      ],
      "metadata": {
        "colab": {
          "base_uri": "https://localhost:8080/"
        },
        "id": "f_hzav9ddhNP",
        "outputId": "48423ace-ad29-434f-c605-50b61aab1afa"
      },
      "execution_count": 3,
      "outputs": [
        {
          "output_type": "stream",
          "name": "stdout",
          "text": [
            "Looking in indexes: https://pypi.org/simple, https://us-python.pkg.dev/colab-wheels/public/simple/\n",
            "Collecting tensorflow_decision_forests\n",
            "  Downloading tensorflow_decision_forests-0.2.7-cp37-cp37m-manylinux_2_17_x86_64.manylinux2014_x86_64.whl (16.0 MB)\n",
            "\u001b[K     |████████████████████████████████| 16.0 MB 5.1 MB/s \n",
            "\u001b[?25hCollecting tensorflow~=2.9.1\n",
            "  Downloading tensorflow-2.9.1-cp37-cp37m-manylinux_2_17_x86_64.manylinux2014_x86_64.whl (511.7 MB)\n",
            "\u001b[K     |████████████████████████████████| 511.7 MB 4.9 kB/s \n",
            "\u001b[?25hCollecting wurlitzer\n",
            "  Downloading wurlitzer-3.0.2-py3-none-any.whl (7.3 kB)\n",
            "Requirement already satisfied: six in /usr/local/lib/python3.7/dist-packages (from tensorflow_decision_forests) (1.15.0)\n",
            "Requirement already satisfied: absl-py in /usr/local/lib/python3.7/dist-packages (from tensorflow_decision_forests) (1.2.0)\n",
            "Requirement already satisfied: numpy in /usr/local/lib/python3.7/dist-packages (from tensorflow_decision_forests) (1.21.6)\n",
            "Requirement already satisfied: wheel in /usr/local/lib/python3.7/dist-packages (from tensorflow_decision_forests) (0.37.1)\n",
            "Requirement already satisfied: pandas in /usr/local/lib/python3.7/dist-packages (from tensorflow_decision_forests) (1.3.5)\n",
            "Collecting flatbuffers<2,>=1.12\n",
            "  Downloading flatbuffers-1.12-py2.py3-none-any.whl (15 kB)\n",
            "Requirement already satisfied: libclang>=13.0.0 in /usr/local/lib/python3.7/dist-packages (from tensorflow~=2.9.1->tensorflow_decision_forests) (14.0.6)\n",
            "Requirement already satisfied: opt-einsum>=2.3.2 in /usr/local/lib/python3.7/dist-packages (from tensorflow~=2.9.1->tensorflow_decision_forests) (3.3.0)\n",
            "Requirement already satisfied: typing-extensions>=3.6.6 in /usr/local/lib/python3.7/dist-packages (from tensorflow~=2.9.1->tensorflow_decision_forests) (4.1.1)\n",
            "Requirement already satisfied: h5py>=2.9.0 in /usr/local/lib/python3.7/dist-packages (from tensorflow~=2.9.1->tensorflow_decision_forests) (3.1.0)\n",
            "Collecting tensorflow-estimator<2.10.0,>=2.9.0rc0\n",
            "  Downloading tensorflow_estimator-2.9.0-py2.py3-none-any.whl (438 kB)\n",
            "\u001b[K     |████████████████████████████████| 438 kB 68.4 MB/s \n",
            "\u001b[?25hRequirement already satisfied: termcolor>=1.1.0 in /usr/local/lib/python3.7/dist-packages (from tensorflow~=2.9.1->tensorflow_decision_forests) (1.1.0)\n",
            "Requirement already satisfied: google-pasta>=0.1.1 in /usr/local/lib/python3.7/dist-packages (from tensorflow~=2.9.1->tensorflow_decision_forests) (0.2.0)\n",
            "Requirement already satisfied: wrapt>=1.11.0 in /usr/local/lib/python3.7/dist-packages (from tensorflow~=2.9.1->tensorflow_decision_forests) (1.14.1)\n",
            "Collecting gast<=0.4.0,>=0.2.1\n",
            "  Downloading gast-0.4.0-py3-none-any.whl (9.8 kB)\n",
            "Requirement already satisfied: setuptools in /usr/local/lib/python3.7/dist-packages (from tensorflow~=2.9.1->tensorflow_decision_forests) (57.4.0)\n",
            "Requirement already satisfied: astunparse>=1.6.0 in /usr/local/lib/python3.7/dist-packages (from tensorflow~=2.9.1->tensorflow_decision_forests) (1.6.3)\n",
            "Collecting keras<2.10.0,>=2.9.0rc0\n",
            "  Downloading keras-2.9.0-py2.py3-none-any.whl (1.6 MB)\n",
            "\u001b[K     |████████████████████████████████| 1.6 MB 56.0 MB/s \n",
            "\u001b[?25hCollecting tensorboard<2.10,>=2.9\n",
            "  Downloading tensorboard-2.9.1-py3-none-any.whl (5.8 MB)\n",
            "\u001b[K     |████████████████████████████████| 5.8 MB 55.6 MB/s \n",
            "\u001b[?25hRequirement already satisfied: packaging in /usr/local/lib/python3.7/dist-packages (from tensorflow~=2.9.1->tensorflow_decision_forests) (21.3)\n",
            "Requirement already satisfied: protobuf<3.20,>=3.9.2 in /usr/local/lib/python3.7/dist-packages (from tensorflow~=2.9.1->tensorflow_decision_forests) (3.17.3)\n",
            "Requirement already satisfied: grpcio<2.0,>=1.24.3 in /usr/local/lib/python3.7/dist-packages (from tensorflow~=2.9.1->tensorflow_decision_forests) (1.47.0)\n",
            "Requirement already satisfied: keras-preprocessing>=1.1.1 in /usr/local/lib/python3.7/dist-packages (from tensorflow~=2.9.1->tensorflow_decision_forests) (1.1.2)\n",
            "Requirement already satisfied: tensorflow-io-gcs-filesystem>=0.23.1 in /usr/local/lib/python3.7/dist-packages (from tensorflow~=2.9.1->tensorflow_decision_forests) (0.26.0)\n",
            "Requirement already satisfied: cached-property in /usr/local/lib/python3.7/dist-packages (from h5py>=2.9.0->tensorflow~=2.9.1->tensorflow_decision_forests) (1.5.2)\n",
            "Requirement already satisfied: werkzeug>=1.0.1 in /usr/local/lib/python3.7/dist-packages (from tensorboard<2.10,>=2.9->tensorflow~=2.9.1->tensorflow_decision_forests) (1.0.1)\n",
            "Requirement already satisfied: tensorboard-data-server<0.7.0,>=0.6.0 in /usr/local/lib/python3.7/dist-packages (from tensorboard<2.10,>=2.9->tensorflow~=2.9.1->tensorflow_decision_forests) (0.6.1)\n",
            "Requirement already satisfied: requests<3,>=2.21.0 in /usr/local/lib/python3.7/dist-packages (from tensorboard<2.10,>=2.9->tensorflow~=2.9.1->tensorflow_decision_forests) (2.23.0)\n",
            "Requirement already satisfied: markdown>=2.6.8 in /usr/local/lib/python3.7/dist-packages (from tensorboard<2.10,>=2.9->tensorflow~=2.9.1->tensorflow_decision_forests) (3.4.1)\n",
            "Requirement already satisfied: google-auth<3,>=1.6.3 in /usr/local/lib/python3.7/dist-packages (from tensorboard<2.10,>=2.9->tensorflow~=2.9.1->tensorflow_decision_forests) (1.35.0)\n",
            "Requirement already satisfied: tensorboard-plugin-wit>=1.6.0 in /usr/local/lib/python3.7/dist-packages (from tensorboard<2.10,>=2.9->tensorflow~=2.9.1->tensorflow_decision_forests) (1.8.1)\n",
            "Requirement already satisfied: google-auth-oauthlib<0.5,>=0.4.1 in /usr/local/lib/python3.7/dist-packages (from tensorboard<2.10,>=2.9->tensorflow~=2.9.1->tensorflow_decision_forests) (0.4.6)\n",
            "Requirement already satisfied: rsa<5,>=3.1.4 in /usr/local/lib/python3.7/dist-packages (from google-auth<3,>=1.6.3->tensorboard<2.10,>=2.9->tensorflow~=2.9.1->tensorflow_decision_forests) (4.9)\n",
            "Requirement already satisfied: pyasn1-modules>=0.2.1 in /usr/local/lib/python3.7/dist-packages (from google-auth<3,>=1.6.3->tensorboard<2.10,>=2.9->tensorflow~=2.9.1->tensorflow_decision_forests) (0.2.8)\n",
            "Requirement already satisfied: cachetools<5.0,>=2.0.0 in /usr/local/lib/python3.7/dist-packages (from google-auth<3,>=1.6.3->tensorboard<2.10,>=2.9->tensorflow~=2.9.1->tensorflow_decision_forests) (4.2.4)\n",
            "Requirement already satisfied: requests-oauthlib>=0.7.0 in /usr/local/lib/python3.7/dist-packages (from google-auth-oauthlib<0.5,>=0.4.1->tensorboard<2.10,>=2.9->tensorflow~=2.9.1->tensorflow_decision_forests) (1.3.1)\n",
            "Requirement already satisfied: importlib-metadata>=4.4 in /usr/local/lib/python3.7/dist-packages (from markdown>=2.6.8->tensorboard<2.10,>=2.9->tensorflow~=2.9.1->tensorflow_decision_forests) (4.12.0)\n",
            "Requirement already satisfied: zipp>=0.5 in /usr/local/lib/python3.7/dist-packages (from importlib-metadata>=4.4->markdown>=2.6.8->tensorboard<2.10,>=2.9->tensorflow~=2.9.1->tensorflow_decision_forests) (3.8.1)\n",
            "Requirement already satisfied: pyasn1<0.5.0,>=0.4.6 in /usr/local/lib/python3.7/dist-packages (from pyasn1-modules>=0.2.1->google-auth<3,>=1.6.3->tensorboard<2.10,>=2.9->tensorflow~=2.9.1->tensorflow_decision_forests) (0.4.8)\n",
            "Requirement already satisfied: certifi>=2017.4.17 in /usr/local/lib/python3.7/dist-packages (from requests<3,>=2.21.0->tensorboard<2.10,>=2.9->tensorflow~=2.9.1->tensorflow_decision_forests) (2022.6.15)\n",
            "Requirement already satisfied: idna<3,>=2.5 in /usr/local/lib/python3.7/dist-packages (from requests<3,>=2.21.0->tensorboard<2.10,>=2.9->tensorflow~=2.9.1->tensorflow_decision_forests) (2.10)\n",
            "Requirement already satisfied: urllib3!=1.25.0,!=1.25.1,<1.26,>=1.21.1 in /usr/local/lib/python3.7/dist-packages (from requests<3,>=2.21.0->tensorboard<2.10,>=2.9->tensorflow~=2.9.1->tensorflow_decision_forests) (1.24.3)\n",
            "Requirement already satisfied: chardet<4,>=3.0.2 in /usr/local/lib/python3.7/dist-packages (from requests<3,>=2.21.0->tensorboard<2.10,>=2.9->tensorflow~=2.9.1->tensorflow_decision_forests) (3.0.4)\n",
            "Requirement already satisfied: oauthlib>=3.0.0 in /usr/local/lib/python3.7/dist-packages (from requests-oauthlib>=0.7.0->google-auth-oauthlib<0.5,>=0.4.1->tensorboard<2.10,>=2.9->tensorflow~=2.9.1->tensorflow_decision_forests) (3.2.0)\n",
            "Requirement already satisfied: pyparsing!=3.0.5,>=2.0.2 in /usr/local/lib/python3.7/dist-packages (from packaging->tensorflow~=2.9.1->tensorflow_decision_forests) (3.0.9)\n",
            "Requirement already satisfied: pytz>=2017.3 in /usr/local/lib/python3.7/dist-packages (from pandas->tensorflow_decision_forests) (2022.2.1)\n",
            "Requirement already satisfied: python-dateutil>=2.7.3 in /usr/local/lib/python3.7/dist-packages (from pandas->tensorflow_decision_forests) (2.8.2)\n",
            "Installing collected packages: tensorflow-estimator, tensorboard, keras, gast, flatbuffers, wurlitzer, tensorflow, tensorflow-decision-forests\n",
            "  Attempting uninstall: tensorflow-estimator\n",
            "    Found existing installation: tensorflow-estimator 2.8.0\n",
            "    Uninstalling tensorflow-estimator-2.8.0:\n",
            "      Successfully uninstalled tensorflow-estimator-2.8.0\n",
            "  Attempting uninstall: tensorboard\n",
            "    Found existing installation: tensorboard 2.8.0\n",
            "    Uninstalling tensorboard-2.8.0:\n",
            "      Successfully uninstalled tensorboard-2.8.0\n",
            "  Attempting uninstall: keras\n",
            "    Found existing installation: keras 2.8.0\n",
            "    Uninstalling keras-2.8.0:\n",
            "      Successfully uninstalled keras-2.8.0\n",
            "  Attempting uninstall: gast\n",
            "    Found existing installation: gast 0.5.3\n",
            "    Uninstalling gast-0.5.3:\n",
            "      Successfully uninstalled gast-0.5.3\n",
            "  Attempting uninstall: flatbuffers\n",
            "    Found existing installation: flatbuffers 2.0.7\n",
            "    Uninstalling flatbuffers-2.0.7:\n",
            "      Successfully uninstalled flatbuffers-2.0.7\n",
            "  Attempting uninstall: tensorflow\n",
            "    Found existing installation: tensorflow 2.8.2+zzzcolab20220719082949\n",
            "    Uninstalling tensorflow-2.8.2+zzzcolab20220719082949:\n",
            "      Successfully uninstalled tensorflow-2.8.2+zzzcolab20220719082949\n",
            "Successfully installed flatbuffers-1.12 gast-0.4.0 keras-2.9.0 tensorboard-2.9.1 tensorflow-2.9.1 tensorflow-decision-forests-0.2.7 tensorflow-estimator-2.9.0 wurlitzer-3.0.2\n"
          ]
        }
      ]
    },
    {
      "cell_type": "code",
      "source": [
        "import gc \n",
        "\n",
        "import numpy as np\n",
        "import pandas as pd\n",
        "from sklearn.preprocessing import OrdinalEncoder\n",
        "from sklearn.model_selection import train_test_split\n",
        "from sklearn.linear_model import SGDClassifier\n",
        "from sklearn.metrics import confusion_matrix\n",
        "from sklearn.metrics import f1_score\n",
        "\n",
        "import tensorflow as tf\n",
        "from keras.layers import GRU, Dense\n",
        "import tensorflow_addons as tfa\n",
        "import tensorflow_decision_forests as tfdf\n",
        "\n"
      ],
      "metadata": {
        "id": "nx_k17C4dJpj"
      },
      "execution_count": 4,
      "outputs": []
    },
    {
      "cell_type": "code",
      "source": [
        "cat_cols = ['D_63', 'D_64','B_30', 'B_38', 'D_114', 'D_116', 'D_117', 'D_120', 'D_126', 'D_66', 'D_68']\n",
        "TRAIN_LABELS_PATH = '/content/train_labels.csv'\n",
        "AGG_DATA_ABS_PATH = '/content/drive/MyDrive/amex-default-prediction/data/aggr/customer-agg.parquet'"
      ],
      "metadata": {
        "id": "IdDL1GU3gPxH"
      },
      "execution_count": 5,
      "outputs": []
    },
    {
      "cell_type": "code",
      "source": [
        "!unzip -o /content/drive/MyDrive/amex-default-prediction/data/amex-default-prediction.zip \\\n",
        " train_labels.csv"
      ],
      "metadata": {
        "colab": {
          "base_uri": "https://localhost:8080/"
        },
        "id": "tOb-N7dCiaDi",
        "outputId": "987cbe7a-0ed1-4b70-b91f-63e136b64d2c"
      },
      "execution_count": 6,
      "outputs": [
        {
          "output_type": "stream",
          "name": "stdout",
          "text": [
            "Archive:  /content/drive/MyDrive/amex-default-prediction/data/amex-default-prediction.zip\n",
            "  inflating: train_labels.csv        \n"
          ]
        }
      ]
    },
    {
      "cell_type": "code",
      "source": [
        "train_labels = pd.read_csv(TRAIN_LABELS_PATH)"
      ],
      "metadata": {
        "id": "0cIgqjH2hMML"
      },
      "execution_count": 7,
      "outputs": []
    },
    {
      "cell_type": "code",
      "source": [
        "train_labels.shape"
      ],
      "metadata": {
        "colab": {
          "base_uri": "https://localhost:8080/"
        },
        "id": "P9BzLmxkCEtg",
        "outputId": "b721fa30-9a8e-45d6-dfae-64a23c394716"
      },
      "execution_count": 8,
      "outputs": [
        {
          "output_type": "execute_result",
          "data": {
            "text/plain": [
              "(458913, 2)"
            ]
          },
          "metadata": {},
          "execution_count": 8
        }
      ]
    },
    {
      "cell_type": "code",
      "source": [
        "agg_dataset = pd.read_parquet(path=AGG_DATA_ABS_PATH)"
      ],
      "metadata": {
        "id": "LQcKsDcRu6C_"
      },
      "execution_count": 9,
      "outputs": []
    },
    {
      "cell_type": "code",
      "source": [
        "enc_agg = OrdinalEncoder(handle_unknown='use_encoded_value', unknown_value=-1)\n",
        "agg_dataset[['D_63_last', 'D_64_last']]=enc_agg.fit(agg_dataset[['D_63_last', 'D_64_last']])\n",
        "agg_dataset[['D_63_last', 'D_64_last']]=enc_agg.transform(agg_dataset[['D_63_last', 'D_64_last']])\n",
        "agg_dataset.fillna(0, inplace=True)\n",
        "\n"
      ],
      "metadata": {
        "id": "QIOnPpvjBKeb"
      },
      "execution_count": 10,
      "outputs": []
    },
    {
      "cell_type": "code",
      "source": [
        "agg_dataset.drop(axis=1, columns=['target'], inplace=True)"
      ],
      "metadata": {
        "id": "GYjyiV26BmhW"
      },
      "execution_count": 11,
      "outputs": []
    },
    {
      "cell_type": "code",
      "source": [
        "agg_dataset.shape"
      ],
      "metadata": {
        "colab": {
          "base_uri": "https://localhost:8080/"
        },
        "id": "GqvtRSo-AsQ_",
        "outputId": "749a4f4d-5f7a-4d25-de46-c0514315833d"
      },
      "execution_count": 12,
      "outputs": [
        {
          "output_type": "execute_result",
          "data": {
            "text/plain": [
              "(458913, 919)"
            ]
          },
          "metadata": {},
          "execution_count": 12
        }
      ]
    },
    {
      "cell_type": "code",
      "source": [
        "def append_label(source_df):\n",
        "  return pd.merge(left=source_df, right=train_labels, how='inner')"
      ],
      "metadata": {
        "id": "eAEoVByIgU-W"
      },
      "execution_count": 13,
      "outputs": []
    },
    {
      "cell_type": "code",
      "source": [
        "def my_generator():\n",
        "    for f in files:      \n",
        "      X = pd.DataFrame()\n",
        "      Y = pd.DataFrame()\n",
        "      df_tmp = pd.read_parquet('/content/drive/MyDrive/amex-default-prediction/data/customer_train/' + f)\n",
        "      df_tmp = append_label(df_tmp)\n",
        "      enc = OrdinalEncoder(handle_unknown='use_encoded_value', unknown_value=-1)\n",
        "      df_tmp[['D_63', 'D_64']]=enc.fit(df_tmp[['D_63', 'D_64']])\n",
        "\n",
        "      df_tmp[['D_63', 'D_64']]=enc.transform(df_tmp[['D_63', 'D_64']])\n",
        "      df_tmp.fillna(0, inplace=True)\n",
        "\n",
        "      X= X.append(df_tmp.loc[:, ~df_tmp.columns.isin(['target'])])\n",
        "      X = X[X.groupby('customer_ID')['customer_ID'].transform('count') == 13]\n",
        "      X_Cust = pd.DataFrame(X['customer_ID'].unique(), columns=['customer_ID'])\n",
        "      Y = pd.merge(left=X_Cust, right=train_labels, how='inner')\n",
        "\n",
        "      X_Agg = pd.merge(left=X_Cust, right=agg_dataset, how ='inner')\n",
        "      \n",
        "      X.drop(axis=1, columns=['customer_ID', 'S_2'], inplace=True)\n",
        "      X = X.values.reshape(X_Cust.shape[0], 13, 188)\n",
        "      Y.drop(axis=1, columns='customer_ID', inplace=True)\n",
        "\n",
        "      X_Agg.drop(axis=1, columns='customer_ID', inplace=True)\n",
        "\n",
        "      print(f'X shape = {X.shape}')\n",
        "      yield {\"input_1\": X, \"input_2\": X_Agg.to_numpy()}, Y.to_numpy()\n",
        "      \n",
        "\n",
        "\n"
      ],
      "metadata": {
        "id": "Ivmf5DcQc6tP"
      },
      "execution_count": 14,
      "outputs": []
    },
    {
      "cell_type": "code",
      "source": [
        "def my_input_fn(epochs):\n",
        "    dataset = tf.data.Dataset.from_generator(lambda: my_generator(),\n",
        "                                             output_types=({\"input_1\": tf.float64, \"input_2\": tf.float64}, tf.int64),\n",
        "                                            output_shapes=({\"input_1\": tf.TensorShape([None, 13, 188]), \"input_2\" : tf.TensorShape([None, 918])},\n",
        "                                                           tf.TensorShape([None, 1])))\n",
        "\n",
        "    dataset = dataset.repeat(epochs)\n",
        "    # dataset = dataset.batch(32)\n",
        "    return dataset\n"
      ],
      "metadata": {
        "id": "PFq3dCPWXIGR"
      },
      "execution_count": 15,
      "outputs": []
    },
    {
      "cell_type": "code",
      "source": [
        "f1_metric = tfa.metrics.F1Score(num_classes=1, threshold=0.5)\n",
        "\n",
        "first_input = tf.keras.Input(shape=(13, 188))\n",
        "first_dense_1 = GRU(64, dropout=0.1, recurrent_dropout=0.5)(first_input)\n",
        "first_dense_2 = Dense(64, activation='sigmoid')(first_dense_1)\n",
        "\n",
        "second_input = tf.keras.Input(shape=(918))\n",
        "second_dense_1 = Dense(128, activation='relu')(second_input)\n",
        "second_dense_2 = Dense(64, activation='sigmoid')(second_dense_1)\n",
        "\n",
        "\n",
        "merge_one = tf.keras.layers.concatenate([first_dense_2, second_dense_2])\n",
        "\n",
        "output_layer = Dense(1, activation='sigmoid')(merge_one)\n",
        "\n",
        "nn_model = tf.keras.models.Model(inputs=[first_input, second_input], outputs=output_layer)\n",
        "nn_model.compile(optimizer='adam', loss='binary_crossentropy', metrics=['accuracy'])\n",
        "\n",
        "\n",
        "nn_without_head = tf.keras.Model(inputs=[first_input, second_input], outputs=merge_one)\n",
        "df_and_nn_model = tfdf.keras.GradientBoostedTreesModel(preprocessing=nn_without_head, check_dataset=False)\n",
        "\n"
      ],
      "metadata": {
        "id": "0IFBQUUiQBqS",
        "colab": {
          "base_uri": "https://localhost:8080/"
        },
        "outputId": "884d0193-ae75-43e7-fa45-1e0d1fea8e33"
      },
      "execution_count": 16,
      "outputs": [
        {
          "output_type": "stream",
          "name": "stdout",
          "text": [
            "Use /tmp/tmpcx_1b7q7 as temporary training directory\n"
          ]
        }
      ]
    },
    {
      "cell_type": "code",
      "source": [
        "from keras.utils.vis_utils import plot_model\n",
        "\n",
        "plot_model(nn_model, to_file=\"/tmp/model.png\", show_shapes=True)"
      ],
      "metadata": {
        "colab": {
          "base_uri": "https://localhost:8080/",
          "height": 533
        },
        "id": "KkBVt16UhS8i",
        "outputId": "06b3b321-b069-4cd1-b2be-ec4a7a64a4b1"
      },
      "execution_count": 17,
      "outputs": [
        {
          "output_type": "execute_result",
          "data": {
            "image/png": "[encoded data removed]",
            "text/plain": [
              "<IPython.core.display.Image object>"
            ]
          },
          "metadata": {},
          "execution_count": 17
        }
      ]
    },
    {
      "cell_type": "code",
      "source": [
        "\n",
        "dataset = my_input_fn(1)\n",
        "\n"
      ],
      "metadata": {
        "id": "gSTkuOjzR4Tn"
      },
      "execution_count": 18,
      "outputs": []
    },
    {
      "cell_type": "code",
      "source": [
        "nn_model.summary()"
      ],
      "metadata": {
        "colab": {
          "base_uri": "https://localhost:8080/"
        },
        "id": "nyo0dP4jW301",
        "outputId": "380cc884-3776-4473-e3dd-e13b4f17f48f"
      },
      "execution_count": 19,
      "outputs": [
        {
          "output_type": "stream",
          "name": "stdout",
          "text": [
            "Model: \"model\"\n",
            "__________________________________________________________________________________________________\n",
            " Layer (type)                   Output Shape         Param #     Connected to                     \n",
            "==================================================================================================\n",
            " input_1 (InputLayer)           [(None, 13, 188)]    0           []                               \n",
            "                                                                                                  \n",
            " input_2 (InputLayer)           [(None, 918)]        0           []                               \n",
            "                                                                                                  \n",
            " gru (GRU)                      (None, 64)           48768       ['input_1[0][0]']                \n",
            "                                                                                                  \n",
            " dense_1 (Dense)                (None, 128)          117632      ['input_2[0][0]']                \n",
            "                                                                                                  \n",
            " dense (Dense)                  (None, 64)           4160        ['gru[0][0]']                    \n",
            "                                                                                                  \n",
            " dense_2 (Dense)                (None, 64)           8256        ['dense_1[0][0]']                \n",
            "                                                                                                  \n",
            " concatenate (Concatenate)      (None, 128)          0           ['dense[0][0]',                  \n",
            "                                                                  'dense_2[0][0]']                \n",
            "                                                                                                  \n",
            " dense_3 (Dense)                (None, 1)            129         ['concatenate[0][0]']            \n",
            "                                                                                                  \n",
            "==================================================================================================\n",
            "Total params: 178,945\n",
            "Trainable params: 178,945\n",
            "Non-trainable params: 0\n",
            "__________________________________________________________________________________________________\n"
          ]
        }
      ]
    },
    {
      "cell_type": "code",
      "source": [
        "weight_for_0 = (1 / 75) * (100 / 2.0)\n",
        "weight_for_1 = (1 / 25) * (100 / 2.0)\n",
        "print('Weight for class 0: {:.2f}'.format(weight_for_0))\n",
        "print('Weight for class 1: {:.2f}'.format(weight_for_1))\n",
        "\n",
        "class_weight = {0: weight_for_0, 1: weight_for_1}\n",
        "\n",
        "nn_model.fit(dataset, epochs=10,  class_weight=class_weight)"
      ],
      "metadata": {
        "colab": {
          "base_uri": "https://localhost:8080/"
        },
        "id": "3jN_19AzU96I",
        "outputId": "00a3cc2a-0981-464a-8bca-521cf8a78db5"
      },
      "execution_count": 21,
      "outputs": [
        {
          "output_type": "stream",
          "name": "stdout",
          "text": [
            "Weight for class 0: 0.67\n",
            "Weight for class 1: 2.00\n",
            "Epoch 1/10\n",
            "X shape = (7508, 13, 188)\n",
            "      1/Unknown - 11s 11s/step - loss: 0.7461 - accuracy: 0.7698X shape = (41994, 13, 188)\n",
            "      2/Unknown - 34s 23s/step - loss: 0.6819 - accuracy: 0.7682X shape = (42089, 13, 188)\n",
            "      3/Unknown - 59s 24s/step - loss: 0.6639 - accuracy: 0.7237X shape = (41911, 13, 188)\n",
            "      4/Unknown - 79s 23s/step - loss: 0.6517 - accuracy: 0.6281X shape = (42029, 13, 188)\n",
            "      5/Unknown - 100s 22s/step - loss: 0.6391 - accuracy: 0.6215X shape = (42098, 13, 188)\n",
            "      6/Unknown - 121s 22s/step - loss: 0.6239 - accuracy: 0.6481X shape = (42038, 13, 188)\n",
            "      7/Unknown - 143s 22s/step - loss: 0.6081 - accuracy: 0.6785X shape = (42037, 13, 188)\n",
            "8/8 [==============================] - 161s 21s/step - loss: 0.5922 - accuracy: 0.7053\n",
            "Epoch 2/10\n",
            "X shape = (7508, 13, 188)\n",
            "1/8 [==>...........................] - ETA: 49s - loss: 0.4732 - accuracy: 0.8784X shape = (41994, 13, 188)\n",
            "2/8 [======>.......................] - ETA: 2:14 - loss: 0.4524 - accuracy: 0.8776X shape = (42089, 13, 188)\n",
            "3/8 [==========>...................] - ETA: 1:41 - loss: 0.4392 - accuracy: 0.8770X shape = (41911, 13, 188)\n",
            "4/8 [==============>...............] - ETA: 1:18 - loss: 0.4260 - accuracy: 0.8759X shape = (42029, 13, 188)\n",
            "5/8 [=================>............] - ETA: 59s - loss: 0.4147 - accuracy: 0.8728 X shape = (42098, 13, 188)\n",
            "6/8 [=====================>........] - ETA: 39s - loss: 0.4036 - accuracy: 0.8698X shape = (42038, 13, 188)\n",
            "7/8 [=========================>....] - ETA: 19s - loss: 0.3939 - accuracy: 0.8669X shape = (42037, 13, 188)\n",
            "8/8 [==============================] - 158s 22s/step - loss: 0.3846 - accuracy: 0.8649\n",
            "Epoch 3/10\n",
            "X shape = (7508, 13, 188)\n",
            "1/8 [==>...........................] - ETA: 56s - loss: 0.3211 - accuracy: 0.8635X shape = (41994, 13, 188)\n",
            "2/8 [======>.......................] - ETA: 2:21 - loss: 0.3142 - accuracy: 0.8622X shape = (42089, 13, 188)\n",
            "3/8 [==========>...................] - ETA: 1:48 - loss: 0.3103 - accuracy: 0.8645X shape = (41911, 13, 188)\n",
            "4/8 [==============>...............] - ETA: 1:23 - loss: 0.3065 - accuracy: 0.8666X shape = (42029, 13, 188)\n",
            "5/8 [=================>............] - ETA: 1:00 - loss: 0.3053 - accuracy: 0.8674X shape = (42098, 13, 188)\n",
            "6/8 [=====================>........] - ETA: 39s - loss: 0.3023 - accuracy: 0.8685 X shape = (42038, 13, 188)\n",
            "7/8 [=========================>....] - ETA: 19s - loss: 0.2997 - accuracy: 0.8688X shape = (42037, 13, 188)\n",
            "8/8 [==============================] - 143s 19s/step - loss: 0.2971 - accuracy: 0.8690\n",
            "Epoch 4/10\n",
            "X shape = (7508, 13, 188)\n",
            "1/8 [==>...........................] - ETA: 49s - loss: 0.2864 - accuracy: 0.8725X shape = (41994, 13, 188)\n",
            "2/8 [======>.......................] - ETA: 2:19 - loss: 0.2887 - accuracy: 0.8674X shape = (42089, 13, 188)\n",
            "3/8 [==========>...................] - ETA: 1:46 - loss: 0.2876 - accuracy: 0.8679X shape = (41911, 13, 188)\n",
            "4/8 [==============>...............] - ETA: 1:20 - loss: 0.2856 - accuracy: 0.8689X shape = (42029, 13, 188)\n",
            "5/8 [=================>............] - ETA: 59s - loss: 0.2861 - accuracy: 0.8695 X shape = (42098, 13, 188)\n",
            "6/8 [=====================>........] - ETA: 39s - loss: 0.2846 - accuracy: 0.8708X shape = (42038, 13, 188)\n",
            "7/8 [=========================>....] - ETA: 19s - loss: 0.2831 - accuracy: 0.8716X shape = (42037, 13, 188)\n",
            "8/8 [==============================] - 142s 19s/step - loss: 0.2813 - accuracy: 0.8724\n",
            "Epoch 5/10\n",
            "X shape = (7508, 13, 188)\n",
            "1/8 [==>...........................] - ETA: 48s - loss: 0.2757 - accuracy: 0.8815X shape = (41994, 13, 188)\n",
            "2/8 [======>.......................] - ETA: 2:28 - loss: 0.2776 - accuracy: 0.8753X shape = (42089, 13, 188)\n",
            "3/8 [==========>...................] - ETA: 1:47 - loss: 0.2764 - accuracy: 0.8750X shape = (41911, 13, 188)\n",
            "4/8 [==============>...............] - ETA: 1:22 - loss: 0.2742 - accuracy: 0.8751X shape = (42029, 13, 188)\n",
            "5/8 [=================>............] - ETA: 1:00 - loss: 0.2744 - accuracy: 0.8750X shape = (42098, 13, 188)\n",
            "6/8 [=====================>........] - ETA: 39s - loss: 0.2729 - accuracy: 0.8755 X shape = (42038, 13, 188)\n",
            "7/8 [=========================>....] - ETA: 19s - loss: 0.2714 - accuracy: 0.8758X shape = (42037, 13, 188)\n",
            "8/8 [==============================] - 142s 19s/step - loss: 0.2699 - accuracy: 0.8766\n",
            "Epoch 6/10\n",
            "X shape = (7508, 13, 188)\n",
            "1/8 [==>...........................] - ETA: 50s - loss: 0.2659 - accuracy: 0.8868X shape = (41994, 13, 188)\n",
            "2/8 [======>.......................] - ETA: 2:21 - loss: 0.2680 - accuracy: 0.8799X shape = (42089, 13, 188)\n",
            "3/8 [==========>...................] - ETA: 2:02 - loss: 0.2668 - accuracy: 0.8791X shape = (41911, 13, 188)\n",
            "4/8 [==============>...............] - ETA: 1:40 - loss: 0.2649 - accuracy: 0.8790X shape = (42029, 13, 188)\n",
            "5/8 [=================>............] - ETA: 1:11 - loss: 0.2652 - accuracy: 0.8785X shape = (42098, 13, 188)\n",
            "6/8 [=====================>........] - ETA: 45s - loss: 0.2644 - accuracy: 0.8785 X shape = (42038, 13, 188)\n",
            "7/8 [=========================>....] - ETA: 22s - loss: 0.2632 - accuracy: 0.8787X shape = (42037, 13, 188)\n",
            "8/8 [==============================] - 157s 21s/step - loss: 0.2621 - accuracy: 0.8793\n",
            "Epoch 7/10\n",
            "X shape = (7508, 13, 188)\n",
            "1/8 [==>...........................] - ETA: 54s - loss: 0.2600 - accuracy: 0.8884X shape = (41994, 13, 188)\n",
            "2/8 [======>.......................] - ETA: 2:16 - loss: 0.2624 - accuracy: 0.8834X shape = (42089, 13, 188)\n",
            "3/8 [==========>...................] - ETA: 1:43 - loss: 0.2613 - accuracy: 0.8820X shape = (41911, 13, 188)\n",
            "4/8 [==============>...............] - ETA: 1:22 - loss: 0.2595 - accuracy: 0.8815X shape = (42029, 13, 188)\n",
            "5/8 [=================>............] - ETA: 1:00 - loss: 0.2598 - accuracy: 0.8811X shape = (42098, 13, 188)\n",
            "6/8 [=====================>........] - ETA: 39s - loss: 0.2590 - accuracy: 0.8811 X shape = (42038, 13, 188)\n",
            "7/8 [=========================>....] - ETA: 19s - loss: 0.2578 - accuracy: 0.8814X shape = (42037, 13, 188)\n",
            "8/8 [==============================] - 142s 19s/step - loss: 0.2568 - accuracy: 0.8821\n",
            "Epoch 8/10\n",
            "X shape = (7508, 13, 188)\n",
            "1/8 [==>...........................] - ETA: 49s - loss: 0.2542 - accuracy: 0.8930X shape = (41994, 13, 188)\n",
            "2/8 [======>.......................] - ETA: 2:23 - loss: 0.2582 - accuracy: 0.8845X shape = (42089, 13, 188)\n",
            "3/8 [==========>...................] - ETA: 1:49 - loss: 0.2573 - accuracy: 0.8825X shape = (41911, 13, 188)\n",
            "4/8 [==============>...............] - ETA: 1:22 - loss: 0.2556 - accuracy: 0.8814X shape = (42029, 13, 188)\n",
            "5/8 [=================>............] - ETA: 1:00 - loss: 0.2558 - accuracy: 0.8812X shape = (42098, 13, 188)\n",
            "6/8 [=====================>........] - ETA: 40s - loss: 0.2552 - accuracy: 0.8818 X shape = (42038, 13, 188)\n",
            "7/8 [=========================>....] - ETA: 19s - loss: 0.2540 - accuracy: 0.8826X shape = (42037, 13, 188)\n",
            "8/8 [==============================] - 142s 19s/step - loss: 0.2530 - accuracy: 0.8836\n",
            "Epoch 9/10\n",
            "X shape = (7508, 13, 188)\n",
            "1/8 [==>...........................] - ETA: 58s - loss: 0.2499 - accuracy: 0.8937X shape = (41994, 13, 188)\n",
            "2/8 [======>.......................] - ETA: 2:10 - loss: 0.2544 - accuracy: 0.8845X shape = (42089, 13, 188)\n",
            "3/8 [==========>...................] - ETA: 1:43 - loss: 0.2538 - accuracy: 0.8819X shape = (41911, 13, 188)\n",
            "4/8 [==============>...............] - ETA: 1:20 - loss: 0.2522 - accuracy: 0.8812X shape = (42029, 13, 188)\n",
            "5/8 [=================>............] - ETA: 58s - loss: 0.2523 - accuracy: 0.8818 X shape = (42098, 13, 188)\n",
            "6/8 [=====================>........] - ETA: 40s - loss: 0.2517 - accuracy: 0.8832X shape = (42038, 13, 188)\n",
            "7/8 [=========================>....] - ETA: 21s - loss: 0.2506 - accuracy: 0.8842X shape = (42037, 13, 188)\n",
            "8/8 [==============================] - 157s 21s/step - loss: 0.2496 - accuracy: 0.8850\n",
            "Epoch 10/10\n",
            "X shape = (7508, 13, 188)\n",
            "1/8 [==>...........................] - ETA: 42s - loss: 0.2450 - accuracy: 0.8937X shape = (41994, 13, 188)\n",
            "2/8 [======>.......................] - ETA: 2:11 - loss: 0.2516 - accuracy: 0.8831X shape = (42089, 13, 188)\n",
            "3/8 [==========>...................] - ETA: 1:45 - loss: 0.2510 - accuracy: 0.8821X shape = (41911, 13, 188)\n",
            "4/8 [==============>...............] - ETA: 1:19 - loss: 0.2492 - accuracy: 0.8827X shape = (42029, 13, 188)\n",
            "5/8 [=================>............] - ETA: 59s - loss: 0.2495 - accuracy: 0.8840 X shape = (42098, 13, 188)\n",
            "6/8 [=====================>........] - ETA: 38s - loss: 0.2490 - accuracy: 0.8854X shape = (42038, 13, 188)\n",
            "7/8 [=========================>....] - ETA: 19s - loss: 0.2479 - accuracy: 0.8860X shape = (42037, 13, 188)\n",
            "8/8 [==============================] - 138s 19s/step - loss: 0.2469 - accuracy: 0.8863\n"
          ]
        },
        {
          "output_type": "execute_result",
          "data": {
            "text/plain": [
              "<keras.callbacks.History at 0x7fa63de70790>"
            ]
          },
          "metadata": {},
          "execution_count": 21
        }
      ]
    },
    {
      "cell_type": "code",
      "source": [
        "df_and_nn_model.fit(dataset, verbose=1, class_weight=class_weight)"
      ],
      "metadata": {
        "colab": {
          "base_uri": "https://localhost:8080/"
        },
        "id": "P613Lb9xiRxc",
        "outputId": "6020b3fe-23cb-4a5e-f1f4-6ee17efb1114"
      },
      "execution_count": 22,
      "outputs": [
        {
          "output_type": "stream",
          "name": "stdout",
          "text": [
            "Reading training dataset...\n",
            "X shape = (7508, 13, 188)\n",
            "X shape = (41994, 13, 188)\n",
            "X shape = (42089, 13, 188)\n",
            "X shape = (41911, 13, 188)\n",
            "X shape = (42029, 13, 188)\n",
            "X shape = (42098, 13, 188)\n",
            "X shape = (42038, 13, 188)\n",
            "X shape = (42037, 13, 188)\n",
            "Training dataset read in 0:02:15.861929. Found 301704 examples.\n",
            "Training model...\n",
            "Model trained in 0:14:15.077731\n",
            "Compiling model...\n"
          ]
        },
        {
          "output_type": "stream",
          "name": "stderr",
          "text": [
            "WARNING:tensorflow:AutoGraph could not transform <function simple_ml_inference_op_with_handle at 0x7fa5cc66a0e0> and will run it as-is.\n",
            "Please report this to the TensorFlow team. When filing the bug, set the verbosity to 10 (on Linux, `export AUTOGRAPH_VERBOSITY=10`) and attach the full output.\n",
            "Cause: could not get source code\n",
            "To silence this warning, decorate the function with @tf.autograph.experimental.do_not_convert\n"
          ]
        },
        {
          "output_type": "stream",
          "name": "stdout",
          "text": [
            "WARNING: AutoGraph could not transform <function simple_ml_inference_op_with_handle at 0x7fa5cc66a0e0> and will run it as-is.\n",
            "Please report this to the TensorFlow team. When filing the bug, set the verbosity to 10 (on Linux, `export AUTOGRAPH_VERBOSITY=10`) and attach the full output.\n",
            "Cause: could not get source code\n",
            "To silence this warning, decorate the function with @tf.autograph.experimental.do_not_convert\n",
            "X shape = (7508, 13, 188)\n",
            "Model compiled.\n"
          ]
        },
        {
          "output_type": "execute_result",
          "data": {
            "text/plain": [
              "<keras.callbacks.History at 0x7fa24e379d10>"
            ]
          },
          "metadata": {},
          "execution_count": 22
        }
      ]
    },
    {
      "cell_type": "code",
      "source": [
        "val_files = listdir('/content/drive/MyDrive/amex-default-prediction/data/customer_val/')"
      ],
      "metadata": {
        "id": "ld4z-43avLyZ"
      },
      "execution_count": 23,
      "outputs": []
    },
    {
      "cell_type": "code",
      "source": [
        "def my_val_generator():\n",
        "    for f in val_files:      \n",
        "      X = pd.DataFrame()\n",
        "      Y = pd.DataFrame()\n",
        "      df_tmp = pd.read_parquet('/content/drive/MyDrive/amex-default-prediction/data/customer_val/' + f)\n",
        "      df_tmp = append_label(df_tmp)\n",
        "      enc = OrdinalEncoder(handle_unknown='use_encoded_value', unknown_value=-1)\n",
        "      df_tmp[['D_63', 'D_64']]=enc.fit(df_tmp[['D_63', 'D_64']])\n",
        "\n",
        "      df_tmp[['D_63', 'D_64']]=enc.transform(df_tmp[['D_63', 'D_64']])\n",
        "      df_tmp.fillna(0, inplace=True)\n",
        "\n",
        "      X= X.append(df_tmp.loc[:, ~df_tmp.columns.isin(['target'])])\n",
        "      X = X[X.groupby('customer_ID')['customer_ID'].transform('count') == 13]\n",
        "      X_Cust = pd.DataFrame(X['customer_ID'].unique(), columns=['customer_ID'])\n",
        "      Y = pd.merge(left=X_Cust, right=train_labels, how='inner')\n",
        "\n",
        "      X_Agg = pd.merge(left=X_Cust, right=agg_dataset, how ='inner')\n",
        "      \n",
        "      X.drop(axis=1, columns=['customer_ID', 'S_2'], inplace=True)\n",
        "      X = X.values.reshape(X_Cust.shape[0], 13, 188)\n",
        "      Y.drop(axis=1, columns='customer_ID', inplace=True)\n",
        "\n",
        "      X_Agg.drop(axis=1, columns='customer_ID', inplace=True)\n",
        "\n",
        "      print(f'X shape = {X.shape}')\n",
        "      yield {\"input_1\": X, \"input_2\": X_Agg.to_numpy()}, Y.to_numpy()"
      ],
      "metadata": {
        "id": "fE0DAIxmxX21"
      },
      "execution_count": 24,
      "outputs": []
    },
    {
      "cell_type": "code",
      "source": [
        "def my_val_input_fn():\n",
        "    dataset = tf.data.Dataset.from_generator(lambda: my_val_generator(),\n",
        "                                              output_types=({\"input_1\": tf.float64, \"input_2\": tf.float64}, tf.int64),\n",
        "                                            output_shapes=({\"input_1\": tf.TensorShape([None, 13, 188]), \"input_2\" : tf.TensorShape([None, 918])},\n",
        "                                                            tf.TensorShape([None, 1])))\n",
        "\n",
        "    # dataset = dataset.repeat(epochs)\n",
        "    # dataset = dataset.batch(32)\n",
        "    return dataset"
      ],
      "metadata": {
        "id": "Dl99Wtsqxeez"
      },
      "execution_count": 25,
      "outputs": []
    },
    {
      "cell_type": "code",
      "source": [
        "val_dataset = my_val_input_fn()\n",
        "df_and_nn_model.compile(metrics=[\"accuracy\"])\n",
        "print(\"Evaluation:\", df_and_nn_model.evaluate(val_dataset))"
      ],
      "metadata": {
        "colab": {
          "base_uri": "https://localhost:8080/"
        },
        "id": "ILKHw4zBxqMP",
        "outputId": "c1d31db9-39b1-4e35-a681-608476ff3e68"
      },
      "execution_count": 26,
      "outputs": [
        {
          "output_type": "stream",
          "name": "stdout",
          "text": [
            "X shape = (42194, 13, 188)\n",
            "1/1 [==============================] - 26s 26s/step - loss: 0.0000e+00 - accuracy: 0.8893\n",
            "Evaluation: [0.0, 0.8893444538116455]\n"
          ]
        }
      ]
    },
    {
      "cell_type": "code",
      "source": [
        "print(\"Evaluation:\", nn_model.evaluate(val_dataset))"
      ],
      "metadata": {
        "colab": {
          "base_uri": "https://localhost:8080/"
        },
        "id": "aCd4DJ7ys03p",
        "outputId": "9ce7fbd9-965b-49cd-fe12-4e688d7ba67e"
      },
      "execution_count": null,
      "outputs": [
        {
          "output_type": "stream",
          "name": "stdout",
          "text": [
            "X shape = (42194, 13, 188)\n",
            "1/1 [==============================] - 11s 11s/step - loss: 0.2122 - accuracy: 0.9070\n",
            "Evaluation: [0.21218036115169525, 0.9069535732269287]\n"
          ]
        }
      ]
    }
  ]
}