{
  "nbformat": 4,
  "nbformat_minor": 0,
  "metadata": {
    "colab": {
      "provenance": [],
      "collapsed_sections": [],
      "machine_shape": "hm",
      "mount_file_id": "1apXWazJo-DMYKQQ1sUJGIjT04QYGIC8-",
      "authorship_tag": "ABX9TyOMzCAukfeO4mRTD7tAXWGG",
      "include_colab_link": true
    },
    "kernelspec": {
      "name": "python3",
      "display_name": "Python 3"
    },
    "language_info": {
      "name": "python"
    },
    "gpuClass": "standard"
  },
  "cells": [
    {
      "cell_type": "markdown",
      "metadata": {
        "id": "view-in-github",
        "colab_type": "text"
      },
      "source": [
        "<a href=\"https://colab.research.google.com/github/sankardevisharath/amex-default-prediction/blob/master/notebooks/GRU_With_Complete_Dataset.ipynb\" target=\"_parent\"><img src=\"https://colab.research.google.com/assets/colab-badge.svg\" alt=\"Open In Colab\"/></a>"
      ]
    },
    {
      "cell_type": "code",
      "source": [
        "from os import listdir\n",
        "\n",
        "files = listdir('/content/drive/MyDrive/amex-default-prediction/data/customer_train/')"
      ],
      "metadata": {
        "id": "qDhpXsRkbY7g"
      },
      "execution_count": 1,
      "outputs": []
    },
    {
      "cell_type": "code",
      "source": [
        "pip install tensorflow-addons"
      ],
      "metadata": {
        "colab": {
          "base_uri": "https://localhost:8080/"
        },
        "id": "DHNGFYGOgX21",
        "outputId": "5e64112c-01e4-425b-ba0c-650013af1e78"
      },
      "execution_count": 2,
      "outputs": [
        {
          "output_type": "stream",
          "name": "stdout",
          "text": [
            "Looking in indexes: https://pypi.org/simple, https://us-python.pkg.dev/colab-wheels/public/simple/\n",
            "Collecting tensorflow-addons\n",
            "  Downloading tensorflow_addons-0.17.1-cp37-cp37m-manylinux_2_17_x86_64.manylinux2014_x86_64.whl (1.1 MB)\n",
            "\u001b[K     |████████████████████████████████| 1.1 MB 13.7 MB/s \n",
            "\u001b[?25hRequirement already satisfied: packaging in /usr/local/lib/python3.7/dist-packages (from tensorflow-addons) (21.3)\n",
            "Requirement already satisfied: typeguard>=2.7 in /usr/local/lib/python3.7/dist-packages (from tensorflow-addons) (2.7.1)\n",
            "Requirement already satisfied: pyparsing!=3.0.5,>=2.0.2 in /usr/local/lib/python3.7/dist-packages (from packaging->tensorflow-addons) (3.0.9)\n",
            "Installing collected packages: tensorflow-addons\n",
            "Successfully installed tensorflow-addons-0.17.1\n"
          ]
        }
      ]
    },
    {
      "cell_type": "code",
      "source": [
        "import gc \n",
        "\n",
        "import numpy as np\n",
        "import pandas as pd\n",
        "from sklearn.preprocessing import OrdinalEncoder\n",
        "from sklearn.model_selection import train_test_split\n",
        "from sklearn.linear_model import SGDClassifier\n",
        "from sklearn.metrics import confusion_matrix\n",
        "from sklearn.metrics import f1_score\n",
        "\n",
        "import tensorflow as tf\n",
        "from keras.layers import GRU, Dense\n",
        "import tensorflow_addons as tfa\n",
        "from sklearn.metrics import classification_report"
      ],
      "metadata": {
        "id": "nx_k17C4dJpj"
      },
      "execution_count": 3,
      "outputs": []
    },
    {
      "cell_type": "code",
      "source": [
        "cat_cols = ['D_63', 'D_64','B_30', 'B_38', 'D_114', 'D_116', 'D_117', 'D_120', 'D_126', 'D_66', 'D_68']\n",
        "TRAIN_LABELS_PATH = '/content/train_labels.csv'"
      ],
      "metadata": {
        "id": "IdDL1GU3gPxH"
      },
      "execution_count": 4,
      "outputs": []
    },
    {
      "cell_type": "code",
      "source": [
        "!unzip -o /content/drive/MyDrive/amex-default-prediction/data/amex-default-prediction.zip \\\n",
        " train_labels.csv"
      ],
      "metadata": {
        "colab": {
          "base_uri": "https://localhost:8080/"
        },
        "id": "tOb-N7dCiaDi",
        "outputId": "e2b356aa-1c7a-4b9c-b4aa-117b1c091f80"
      },
      "execution_count": 5,
      "outputs": [
        {
          "output_type": "stream",
          "name": "stdout",
          "text": [
            "Archive:  /content/drive/MyDrive/amex-default-prediction/data/amex-default-prediction.zip\n",
            "  inflating: train_labels.csv        \n"
          ]
        }
      ]
    },
    {
      "cell_type": "code",
      "source": [
        "train_labels = pd.read_csv(TRAIN_LABELS_PATH)"
      ],
      "metadata": {
        "id": "0cIgqjH2hMML"
      },
      "execution_count": 6,
      "outputs": []
    },
    {
      "cell_type": "code",
      "source": [
        "train_labels.shape"
      ],
      "metadata": {
        "colab": {
          "base_uri": "https://localhost:8080/"
        },
        "id": "P9BzLmxkCEtg",
        "outputId": "3e0ccdfc-5116-45e8-b6de-cbb7ecbab714"
      },
      "execution_count": 7,
      "outputs": [
        {
          "output_type": "execute_result",
          "data": {
            "text/plain": [
              "(458913, 2)"
            ]
          },
          "metadata": {},
          "execution_count": 7
        }
      ]
    },
    {
      "cell_type": "code",
      "source": [
        "def append_label(source_df):\n",
        "  return pd.merge(left=source_df, right=train_labels, how='inner')"
      ],
      "metadata": {
        "id": "eAEoVByIgU-W"
      },
      "execution_count": 8,
      "outputs": []
    },
    {
      "cell_type": "code",
      "source": [
        "def my_generator():\n",
        "    for f in files:      \n",
        "      X = pd.DataFrame()\n",
        "      Y = pd.DataFrame()\n",
        "      df_tmp = pd.read_parquet('/content/drive/MyDrive/amex-default-prediction/data/customer_train/' + f)\n",
        "      df_tmp = append_label(df_tmp)\n",
        "      enc = OrdinalEncoder(handle_unknown='use_encoded_value', unknown_value=-1)\n",
        "      df_tmp[['D_63', 'D_64']]=enc.fit(df_tmp[['D_63', 'D_64']])\n",
        "\n",
        "      df_tmp[['D_63', 'D_64']]=enc.transform(df_tmp[['D_63', 'D_64']])\n",
        "      df_tmp.fillna(0, inplace=True)\n",
        "\n",
        "      X= X.append(df_tmp.loc[:, ~df_tmp.columns.isin(['target'])])\n",
        "      X = X[X.groupby('customer_ID')['customer_ID'].transform('count') == 13]\n",
        "      X_Cust = pd.DataFrame(X['customer_ID'].unique(), columns=['customer_ID'])\n",
        "      Y = pd.merge(left=X_Cust, right=train_labels, how='inner')\n",
        "      X.drop(axis=1, columns=['customer_ID', 'S_2'], inplace=True)\n",
        "      X = X.values.reshape(X_Cust.shape[0], 13, 188)\n",
        "      Y.drop(axis=1, columns='customer_ID', inplace=True)\n",
        "      print(f'X shape = {X.shape}')\n",
        "      yield X, Y.to_numpy()\n",
        "      \n",
        "\n",
        "\n"
      ],
      "metadata": {
        "id": "Ivmf5DcQc6tP"
      },
      "execution_count": 9,
      "outputs": []
    },
    {
      "cell_type": "code",
      "source": [
        "def my_input_fn(epochs):\n",
        "    dataset = tf.data.Dataset.from_generator(lambda: my_generator(),\n",
        "                                             output_types=(tf.float64, tf.int64),\n",
        "                                            output_shapes=(tf.TensorShape([None, 13, 188]), tf.TensorShape([None, 1])))\n",
        "\n",
        "    dataset = dataset.repeat(epochs)\n",
        "    # dataset = dataset.batch(32)\n",
        "    return dataset\n"
      ],
      "metadata": {
        "id": "PFq3dCPWXIGR"
      },
      "execution_count": 10,
      "outputs": []
    },
    {
      "cell_type": "code",
      "source": [
        "f1_metric = tfa.metrics.F1Score(num_classes=1, threshold=0.5)\n",
        "\n",
        "model = tf.keras.Sequential()\n",
        "model.add(tf.keras.Input(shape=(13, 188)))\n",
        "model.add(GRU(64, dropout=0.1, recurrent_dropout=0.5))\n",
        "model.add(Dense(6, activation='sigmoid'))\n",
        "model.add(Dense(1, activation='sigmoid'))\n",
        "model.compile(optimizer='adam', loss='binary_crossentropy', metrics=['accuracy', f1_metric])\n",
        "\n"
      ],
      "metadata": {
        "id": "Hd3XRKU7XQPk"
      },
      "execution_count": 11,
      "outputs": []
    },
    {
      "cell_type": "code",
      "source": [
        "model.summary()"
      ],
      "metadata": {
        "colab": {
          "base_uri": "https://localhost:8080/"
        },
        "id": "Zszg5O4VpRUT",
        "outputId": "9ce09ab0-bac5-40d5-f452-28e7d7345599"
      },
      "execution_count": 12,
      "outputs": [
        {
          "output_type": "stream",
          "name": "stdout",
          "text": [
            "Model: \"sequential\"\n",
            "_________________________________________________________________\n",
            " Layer (type)                Output Shape              Param #   \n",
            "=================================================================\n",
            " gru (GRU)                   (None, 64)                48768     \n",
            "                                                                 \n",
            " dense (Dense)               (None, 6)                 390       \n",
            "                                                                 \n",
            " dense_1 (Dense)             (None, 1)                 7         \n",
            "                                                                 \n",
            "=================================================================\n",
            "Total params: 49,165\n",
            "Trainable params: 49,165\n",
            "Non-trainable params: 0\n",
            "_________________________________________________________________\n"
          ]
        }
      ]
    },
    {
      "cell_type": "code",
      "source": [
        "epochs = 5\n",
        "dataset = my_input_fn(epochs)\n",
        "model.fit(dataset, epochs=epochs)\n"
      ],
      "metadata": {
        "colab": {
          "base_uri": "https://localhost:8080/"
        },
        "id": "HyQTIKlmpP0l",
        "outputId": "8179dc19-9a3b-4e07-8d5e-0e46b9c1c1a2"
      },
      "execution_count": 13,
      "outputs": [
        {
          "output_type": "stream",
          "name": "stdout",
          "text": [
            "Epoch 1/5\n",
            "X shape = (7508, 13, 188)\n",
            "      1/Unknown - 7s 7s/step - loss: 1.3037 - accuracy: 0.2302 - f1_score: 0.3742X shape = (41994, 13, 188)\n",
            "      2/Unknown - 22s 15s/step - loss: 1.2426 - accuracy: 0.2322 - f1_score: 0.3769X shape = (42089, 13, 188)\n",
            "      3/Unknown - 45s 19s/step - loss: 1.2051 - accuracy: 0.2329 - f1_score: 0.3778X shape = (41911, 13, 188)\n",
            "      4/Unknown - 59s 17s/step - loss: 1.1707 - accuracy: 0.2328 - f1_score: 0.3777X shape = (42029, 13, 188)\n",
            "      5/Unknown - 76s 17s/step - loss: 1.1375 - accuracy: 0.2331 - f1_score: 0.3781X shape = (42098, 13, 188)\n",
            "      6/Unknown - 91s 17s/step - loss: 1.1070 - accuracy: 0.2325 - f1_score: 0.3773X shape = (42038, 13, 188)\n",
            "      7/Unknown - 107s 17s/step - loss: 1.0778 - accuracy: 0.2322 - f1_score: 0.3769X shape = (42037, 13, 188)\n",
            "      8/Unknown - 121s 16s/step - loss: 1.0501 - accuracy: 0.2319 - f1_score: 0.3765X shape = (7508, 13, 188)\n",
            "      9/Unknown - 124s 15s/step - loss: 1.0450 - accuracy: 0.2319 - f1_score: 0.3765X shape = (41994, 13, 188)\n",
            "     10/Unknown - 136s 14s/step - loss: 1.0156 - accuracy: 0.2320 - f1_score: 0.3766X shape = (42089, 13, 188)\n",
            "     11/Unknown - 146s 14s/step - loss: 0.9890 - accuracy: 0.2323 - f1_score: 0.3768X shape = (41911, 13, 188)\n",
            "     12/Unknown - 155s 13s/step - loss: 0.9649 - accuracy: 0.2333 - f1_score: 0.3767X shape = (42029, 13, 188)\n",
            "     13/Unknown - 164s 13s/step - loss: 0.9429 - accuracy: 0.2389 - f1_score: 0.3767X shape = (42098, 13, 188)\n",
            "     14/Unknown - 173s 13s/step - loss: 0.9229 - accuracy: 0.2549 - f1_score: 0.3771X shape = (42038, 13, 188)\n",
            "     15/Unknown - 182s 12s/step - loss: 0.9046 - accuracy: 0.2839 - f1_score: 0.3786X shape = (42037, 13, 188)\n",
            "     16/Unknown - 190s 12s/step - loss: 0.8879 - accuracy: 0.3172 - f1_score: 0.3796X shape = (7508, 13, 188)\n",
            "     17/Unknown - 193s 12s/step - loss: 0.8850 - accuracy: 0.3231 - f1_score: 0.3794X shape = (41994, 13, 188)\n",
            "     18/Unknown - 201s 11s/step - loss: 0.8694 - accuracy: 0.3537 - f1_score: 0.3778X shape = (42089, 13, 188)\n",
            "     19/Unknown - 210s 11s/step - loss: 0.8551 - accuracy: 0.3803 - f1_score: 0.3757X shape = (41911, 13, 188)\n",
            "     20/Unknown - 219s 11s/step - loss: 0.8421 - accuracy: 0.4037 - f1_score: 0.3730X shape = (42029, 13, 188)\n",
            "     21/Unknown - 230s 11s/step - loss: 0.8301 - accuracy: 0.4244 - f1_score: 0.3702X shape = (42098, 13, 188)\n",
            "     22/Unknown - 239s 11s/step - loss: 0.8190 - accuracy: 0.4431 - f1_score: 0.3672X shape = (42038, 13, 188)\n",
            "     23/Unknown - 248s 11s/step - loss: 0.8087 - accuracy: 0.4599 - f1_score: 0.3642X shape = (42037, 13, 188)\n",
            "     24/Unknown - 257s 11s/step - loss: 0.7992 - accuracy: 0.4751 - f1_score: 0.3613X shape = (7508, 13, 188)\n",
            "     25/Unknown - 259s 11s/step - loss: 0.7975 - accuracy: 0.4777 - f1_score: 0.3607X shape = (41994, 13, 188)\n",
            "     26/Unknown - 268s 10s/step - loss: 0.7887 - accuracy: 0.4912 - f1_score: 0.3578X shape = (42089, 13, 188)\n",
            "     27/Unknown - 277s 10s/step - loss: 0.7805 - accuracy: 0.5035 - f1_score: 0.3549X shape = (41911, 13, 188)\n",
            "     28/Unknown - 286s 10s/step - loss: 0.7728 - accuracy: 0.5148 - f1_score: 0.3520X shape = (42029, 13, 188)\n",
            "     29/Unknown - 295s 10s/step - loss: 0.7656 - accuracy: 0.5253 - f1_score: 0.3492X shape = (42098, 13, 188)\n",
            "     30/Unknown - 304s 10s/step - loss: 0.7589 - accuracy: 0.5351 - f1_score: 0.3466X shape = (42038, 13, 188)\n",
            "     31/Unknown - 313s 10s/step - loss: 0.7525 - accuracy: 0.5442 - f1_score: 0.3441X shape = (42037, 13, 188)\n",
            "     32/Unknown - 322s 10s/step - loss: 0.7465 - accuracy: 0.5527 - f1_score: 0.3417X shape = (7508, 13, 188)\n",
            "     33/Unknown - 324s 10s/step - loss: 0.7455 - accuracy: 0.5541 - f1_score: 0.3412X shape = (41994, 13, 188)\n",
            "     34/Unknown - 333s 10s/step - loss: 0.7398 - accuracy: 0.5619 - f1_score: 0.3389X shape = (42089, 13, 188)\n",
            "     35/Unknown - 342s 10s/step - loss: 0.7345 - accuracy: 0.5691 - f1_score: 0.3368X shape = (41911, 13, 188)\n",
            "     36/Unknown - 350s 10s/step - loss: 0.7295 - accuracy: 0.5759 - f1_score: 0.3346X shape = (42029, 13, 188)\n",
            "     37/Unknown - 360s 10s/step - loss: 0.7247 - accuracy: 0.5824 - f1_score: 0.3327X shape = (42098, 13, 188)\n",
            "     38/Unknown - 368s 10s/step - loss: 0.7201 - accuracy: 0.5885 - f1_score: 0.3308X shape = (42038, 13, 188)\n",
            "     39/Unknown - 377s 10s/step - loss: 0.7158 - accuracy: 0.5944 - f1_score: 0.3290X shape = (42037, 13, 188)\n",
            "40/40 [==============================] - 386s 10s/step - loss: 0.7116 - accuracy: 0.5999 - f1_score: 0.3275\n",
            "Epoch 2/5\n",
            "X shape = (7508, 13, 188)\n",
            " 1/40 [..............................] - ETA: 1:21 - loss: 0.5660 - accuracy: 0.7934 - f1_score: 0.1951X shape = (41994, 13, 188)\n",
            " 2/40 [>.............................] - ETA: 5:45 - loss: 0.5638 - accuracy: 0.7942 - f1_score: 0.2164X shape = (42089, 13, 188)\n",
            " 3/40 [=>............................] - ETA: 5:30 - loss: 0.5632 - accuracy: 0.7940 - f1_score: 0.2205X shape = (41911, 13, 188)\n",
            " 4/40 [==>...........................] - ETA: 5:20 - loss: 0.5624 - accuracy: 0.7943 - f1_score: 0.2219X shape = (42029, 13, 188)\n",
            " 5/40 [==>...........................] - ETA: 5:08 - loss: 0.5616 - accuracy: 0.7948 - f1_score: 0.2271X shape = (42098, 13, 188)\n",
            " 6/40 [===>..........................] - ETA: 4:57 - loss: 0.5605 - accuracy: 0.7960 - f1_score: 0.2324X shape = (42038, 13, 188)\n",
            " 7/40 [====>.........................] - ETA: 4:49 - loss: 0.5596 - accuracy: 0.7969 - f1_score: 0.2363X shape = (42037, 13, 188)\n",
            " 8/40 [=====>........................] - ETA: 4:39 - loss: 0.5584 - accuracy: 0.7981 - f1_score: 0.2431X shape = (7508, 13, 188)\n",
            " 9/40 [=====>........................] - ETA: 4:05 - loss: 0.5583 - accuracy: 0.7982 - f1_score: 0.2438X shape = (41994, 13, 188)\n",
            "10/40 [======>.......................] - ETA: 3:59 - loss: 0.5571 - accuracy: 0.7993 - f1_score: 0.2518X shape = (42089, 13, 188)\n",
            "11/40 [=======>......................] - ETA: 3:52 - loss: 0.5560 - accuracy: 0.8002 - f1_score: 0.2594X shape = (41911, 13, 188)\n",
            "12/40 [========>.....................] - ETA: 3:45 - loss: 0.5550 - accuracy: 0.8012 - f1_score: 0.2664X shape = (42029, 13, 188)\n",
            "13/40 [========>.....................] - ETA: 3:38 - loss: 0.5539 - accuracy: 0.8023 - f1_score: 0.2743X shape = (42098, 13, 188)\n",
            "14/40 [=========>....................] - ETA: 3:31 - loss: 0.5527 - accuracy: 0.8036 - f1_score: 0.2820X shape = (42038, 13, 188)\n",
            "15/40 [==========>...................] - ETA: 3:24 - loss: 0.5516 - accuracy: 0.8048 - f1_score: 0.2897X shape = (42037, 13, 188)\n",
            "16/40 [===========>..................] - ETA: 3:16 - loss: 0.5503 - accuracy: 0.8062 - f1_score: 0.2987X shape = (7508, 13, 188)\n",
            "17/40 [===========>..................] - ETA: 3:00 - loss: 0.5501 - accuracy: 0.8064 - f1_score: 0.2998X shape = (41994, 13, 188)\n",
            "18/40 [============>.................] - ETA: 2:53 - loss: 0.5489 - accuracy: 0.8078 - f1_score: 0.3095X shape = (42089, 13, 188)\n",
            "19/40 [=============>................] - ETA: 2:46 - loss: 0.5476 - accuracy: 0.8093 - f1_score: 0.3203X shape = (41911, 13, 188)\n",
            "20/40 [==============>...............] - ETA: 2:39 - loss: 0.5463 - accuracy: 0.8109 - f1_score: 0.3311X shape = (42029, 13, 188)\n",
            "21/40 [==============>...............] - ETA: 2:31 - loss: 0.5450 - accuracy: 0.8125 - f1_score: 0.3426X shape = (42098, 13, 188)\n",
            "22/40 [===============>..............] - ETA: 2:24 - loss: 0.5437 - accuracy: 0.8143 - f1_score: 0.3543X shape = (42038, 13, 188)\n",
            "23/40 [================>.............] - ETA: 2:16 - loss: 0.5424 - accuracy: 0.8163 - f1_score: 0.3668X shape = (42037, 13, 188)\n",
            "24/40 [=================>............] - ETA: 2:09 - loss: 0.5410 - accuracy: 0.8183 - f1_score: 0.3798X shape = (7508, 13, 188)\n",
            "25/40 [=================>............] - ETA: 1:57 - loss: 0.5408 - accuracy: 0.8186 - f1_score: 0.3820X shape = (41994, 13, 188)\n",
            "26/40 [==================>...........] - ETA: 1:50 - loss: 0.5395 - accuracy: 0.8207 - f1_score: 0.3964X shape = (42089, 13, 188)\n",
            "27/40 [===================>..........] - ETA: 1:47 - loss: 0.5382 - accuracy: 0.8228 - f1_score: 0.4113X shape = (41911, 13, 188)\n",
            "28/40 [====================>.........] - ETA: 1:41 - loss: 0.5368 - accuracy: 0.8249 - f1_score: 0.4254X shape = (42029, 13, 188)\n",
            "29/40 [====================>.........] - ETA: 1:33 - loss: 0.5355 - accuracy: 0.8269 - f1_score: 0.4397X shape = (42098, 13, 188)\n",
            "30/40 [=====================>........] - ETA: 1:25 - loss: 0.5342 - accuracy: 0.8289 - f1_score: 0.4530X shape = (42038, 13, 188)\n",
            "31/40 [======================>.......] - ETA: 1:17 - loss: 0.5330 - accuracy: 0.8309 - f1_score: 0.4660X shape = (42037, 13, 188)\n",
            "32/40 [=======================>......] - ETA: 1:08 - loss: 0.5317 - accuracy: 0.8328 - f1_score: 0.4786X shape = (7508, 13, 188)\n",
            "33/40 [=======================>......] - ETA: 58s - loss: 0.5315 - accuracy: 0.8331 - f1_score: 0.4806 X shape = (41994, 13, 188)\n",
            "34/40 [========================>.....] - ETA: 50s - loss: 0.5302 - accuracy: 0.8347 - f1_score: 0.4923X shape = (42089, 13, 188)\n",
            "35/40 [=========================>....] - ETA: 42s - loss: 0.5290 - accuracy: 0.8363 - f1_score: 0.5036X shape = (41911, 13, 188)\n",
            "36/40 [==========================>...] - ETA: 34s - loss: 0.5278 - accuracy: 0.8378 - f1_score: 0.5139X shape = (42029, 13, 188)\n",
            "37/40 [==========================>...] - ETA: 25s - loss: 0.5266 - accuracy: 0.8392 - f1_score: 0.5236X shape = (42098, 13, 188)\n",
            "38/40 [===========================>..] - ETA: 17s - loss: 0.5254 - accuracy: 0.8406 - f1_score: 0.5326X shape = (42038, 13, 188)\n",
            "39/40 [============================>.] - ETA: 8s - loss: 0.5243 - accuracy: 0.8419 - f1_score: 0.5410 X shape = (42037, 13, 188)\n",
            "40/40 [==============================] - 335s 9s/step - loss: 0.5231 - accuracy: 0.8432 - f1_score: 0.5491\n",
            "Epoch 3/5\n",
            "X shape = (7508, 13, 188)\n",
            " 1/40 [..............................] - ETA: 1:21 - loss: 0.4834 - accuracy: 0.8845 - f1_score: 0.7479X shape = (41994, 13, 188)\n",
            " 2/40 [>.............................] - ETA: 5:35 - loss: 0.4827 - accuracy: 0.8823 - f1_score: 0.7476X shape = (42089, 13, 188)\n",
            " 3/40 [=>............................] - ETA: 5:24 - loss: 0.4817 - accuracy: 0.8831 - f1_score: 0.7504X shape = (41911, 13, 188)\n",
            " 4/40 [==>...........................] - ETA: 5:15 - loss: 0.4807 - accuracy: 0.8835 - f1_score: 0.7511X shape = (42029, 13, 188)\n",
            " 5/40 [==>...........................] - ETA: 5:04 - loss: 0.4799 - accuracy: 0.8839 - f1_score: 0.7520X shape = (42098, 13, 188)\n",
            " 6/40 [===>..........................] - ETA: 4:54 - loss: 0.4792 - accuracy: 0.8844 - f1_score: 0.7522X shape = (42038, 13, 188)\n",
            " 7/40 [====>.........................] - ETA: 4:46 - loss: 0.4784 - accuracy: 0.8849 - f1_score: 0.7528X shape = (42037, 13, 188)\n",
            " 8/40 [=====>........................] - ETA: 4:37 - loss: 0.4775 - accuracy: 0.8855 - f1_score: 0.7536X shape = (7508, 13, 188)\n",
            " 9/40 [=====>........................] - ETA: 4:02 - loss: 0.4774 - accuracy: 0.8855 - f1_score: 0.7535X shape = (41994, 13, 188)\n",
            "10/40 [======>.......................] - ETA: 3:58 - loss: 0.4770 - accuracy: 0.8853 - f1_score: 0.7528X shape = (42089, 13, 188)\n",
            "11/40 [=======>......................] - ETA: 3:52 - loss: 0.4764 - accuracy: 0.8853 - f1_score: 0.7524X shape = (41911, 13, 188)\n",
            "12/40 [========>.....................] - ETA: 3:45 - loss: 0.4758 - accuracy: 0.8853 - f1_score: 0.7521X shape = (42029, 13, 188)\n",
            "13/40 [========>.....................] - ETA: 3:38 - loss: 0.4752 - accuracy: 0.8853 - f1_score: 0.7518X shape = (42098, 13, 188)\n",
            "14/40 [=========>....................] - ETA: 3:31 - loss: 0.4746 - accuracy: 0.8855 - f1_score: 0.7516X shape = (42038, 13, 188)\n",
            "15/40 [==========>...................] - ETA: 3:24 - loss: 0.4741 - accuracy: 0.8857 - f1_score: 0.7515X shape = (42037, 13, 188)\n",
            "16/40 [===========>..................] - ETA: 3:17 - loss: 0.4734 - accuracy: 0.8860 - f1_score: 0.7517X shape = (7508, 13, 188)\n",
            "17/40 [===========>..................] - ETA: 3:00 - loss: 0.4733 - accuracy: 0.8860 - f1_score: 0.7516X shape = (41994, 13, 188)\n",
            "18/40 [============>.................] - ETA: 2:53 - loss: 0.4729 - accuracy: 0.8860 - f1_score: 0.7512X shape = (42089, 13, 188)\n",
            "19/40 [=============>................] - ETA: 2:47 - loss: 0.4724 - accuracy: 0.8860 - f1_score: 0.7510X shape = (41911, 13, 188)\n",
            "20/40 [==============>...............] - ETA: 2:40 - loss: 0.4719 - accuracy: 0.8860 - f1_score: 0.7508X shape = (42029, 13, 188)\n",
            "21/40 [==============>...............] - ETA: 2:32 - loss: 0.4714 - accuracy: 0.8860 - f1_score: 0.7507X shape = (42098, 13, 188)\n",
            "22/40 [===============>..............] - ETA: 2:25 - loss: 0.4709 - accuracy: 0.8862 - f1_score: 0.7507X shape = (42038, 13, 188)\n",
            "23/40 [================>.............] - ETA: 2:17 - loss: 0.4704 - accuracy: 0.8863 - f1_score: 0.7507X shape = (42037, 13, 188)\n",
            "24/40 [=================>............] - ETA: 2:11 - loss: 0.4699 - accuracy: 0.8866 - f1_score: 0.7510X shape = (7508, 13, 188)\n",
            "25/40 [=================>............] - ETA: 1:59 - loss: 0.4698 - accuracy: 0.8866 - f1_score: 0.7510X shape = (41994, 13, 188)\n",
            "26/40 [==================>...........] - ETA: 1:52 - loss: 0.4694 - accuracy: 0.8866 - f1_score: 0.7510X shape = (42089, 13, 188)\n",
            "27/40 [===================>..........] - ETA: 1:45 - loss: 0.4690 - accuracy: 0.8867 - f1_score: 0.7511X shape = (41911, 13, 188)\n",
            "28/40 [====================>.........] - ETA: 1:37 - loss: 0.4685 - accuracy: 0.8868 - f1_score: 0.7513X shape = (42029, 13, 188)\n",
            "29/40 [====================>.........] - ETA: 1:29 - loss: 0.4681 - accuracy: 0.8869 - f1_score: 0.7515X shape = (42098, 13, 188)\n",
            "30/40 [=====================>........] - ETA: 1:21 - loss: 0.4676 - accuracy: 0.8871 - f1_score: 0.7517X shape = (42038, 13, 188)\n",
            "31/40 [======================>.......] - ETA: 1:13 - loss: 0.4671 - accuracy: 0.8873 - f1_score: 0.7520X shape = (42037, 13, 188)\n",
            "32/40 [=======================>......] - ETA: 1:05 - loss: 0.4666 - accuracy: 0.8875 - f1_score: 0.7524X shape = (7508, 13, 188)\n",
            "33/40 [=======================>......] - ETA: 56s - loss: 0.4665 - accuracy: 0.8875 - f1_score: 0.7524 X shape = (41994, 13, 188)\n",
            "34/40 [========================>.....] - ETA: 48s - loss: 0.4662 - accuracy: 0.8876 - f1_score: 0.7526X shape = (42089, 13, 188)\n",
            "35/40 [=========================>....] - ETA: 40s - loss: 0.4657 - accuracy: 0.8877 - f1_score: 0.7529X shape = (41911, 13, 188)\n",
            "36/40 [==========================>...] - ETA: 32s - loss: 0.4653 - accuracy: 0.8879 - f1_score: 0.7532X shape = (42029, 13, 188)\n",
            "37/40 [==========================>...] - ETA: 24s - loss: 0.4649 - accuracy: 0.8880 - f1_score: 0.7536X shape = (42098, 13, 188)\n",
            "38/40 [===========================>..] - ETA: 16s - loss: 0.4645 - accuracy: 0.8881 - f1_score: 0.7537X shape = (42038, 13, 188)\n",
            "39/40 [============================>.] - ETA: 8s - loss: 0.4640 - accuracy: 0.8883 - f1_score: 0.7541 X shape = (42037, 13, 188)\n",
            "40/40 [==============================] - 321s 8s/step - loss: 0.4636 - accuracy: 0.8885 - f1_score: 0.7545\n",
            "Epoch 4/5\n",
            "X shape = (7508, 13, 188)\n",
            " 1/40 [..............................] - ETA: 1:22 - loss: 0.4503 - accuracy: 0.8934 - f1_score: 0.7605X shape = (41994, 13, 188)\n",
            " 2/40 [>.............................] - ETA: 5:38 - loss: 0.4503 - accuracy: 0.8915 - f1_score: 0.7602X shape = (42089, 13, 188)\n",
            " 3/40 [=>............................] - ETA: 5:25 - loss: 0.4493 - accuracy: 0.8920 - f1_score: 0.7626X shape = (41911, 13, 188)\n",
            " 4/40 [==>...........................] - ETA: 5:16 - loss: 0.4484 - accuracy: 0.8925 - f1_score: 0.7633X shape = (42029, 13, 188)\n",
            " 5/40 [==>...........................] - ETA: 5:09 - loss: 0.4480 - accuracy: 0.8926 - f1_score: 0.7636X shape = (42098, 13, 188)\n",
            " 6/40 [===>..........................] - ETA: 4:59 - loss: 0.4475 - accuracy: 0.8931 - f1_score: 0.7642X shape = (42038, 13, 188)\n",
            " 7/40 [====>.........................] - ETA: 4:51 - loss: 0.4469 - accuracy: 0.8936 - f1_score: 0.7649X shape = (42037, 13, 188)\n",
            " 8/40 [=====>........................] - ETA: 4:42 - loss: 0.4463 - accuracy: 0.8941 - f1_score: 0.7658X shape = (7508, 13, 188)\n",
            " 9/40 [=====>........................] - ETA: 4:07 - loss: 0.4462 - accuracy: 0.8941 - f1_score: 0.7657X shape = (41994, 13, 188)\n",
            "10/40 [======>.......................] - ETA: 4:02 - loss: 0.4462 - accuracy: 0.8940 - f1_score: 0.7654X shape = (42089, 13, 188)\n",
            "11/40 [=======>......................] - ETA: 3:57 - loss: 0.4459 - accuracy: 0.8939 - f1_score: 0.7656X shape = (41911, 13, 188)\n",
            "12/40 [========>.....................] - ETA: 3:50 - loss: 0.4456 - accuracy: 0.8941 - f1_score: 0.7660X shape = (42029, 13, 188)\n",
            "13/40 [========>.....................] - ETA: 3:44 - loss: 0.4453 - accuracy: 0.8940 - f1_score: 0.7660X shape = (42098, 13, 188)\n",
            "14/40 [=========>....................] - ETA: 3:37 - loss: 0.4449 - accuracy: 0.8942 - f1_score: 0.7661X shape = (42038, 13, 188)\n",
            "15/40 [==========>...................] - ETA: 3:32 - loss: 0.4445 - accuracy: 0.8944 - f1_score: 0.7666X shape = (42037, 13, 188)\n",
            "16/40 [===========>..................] - ETA: 3:44 - loss: 0.4441 - accuracy: 0.8947 - f1_score: 0.7671X shape = (7508, 13, 188)\n",
            "17/40 [===========>..................] - ETA: 3:26 - loss: 0.4440 - accuracy: 0.8947 - f1_score: 0.7671X shape = (41994, 13, 188)\n",
            "18/40 [============>.................] - ETA: 3:20 - loss: 0.4438 - accuracy: 0.8947 - f1_score: 0.7671X shape = (42089, 13, 188)\n",
            "19/40 [=============>................] - ETA: 3:12 - loss: 0.4436 - accuracy: 0.8947 - f1_score: 0.7674X shape = (41911, 13, 188)\n",
            "20/40 [==============>...............] - ETA: 3:03 - loss: 0.4432 - accuracy: 0.8948 - f1_score: 0.7677X shape = (42029, 13, 188)\n",
            "21/40 [==============>...............] - ETA: 2:54 - loss: 0.4429 - accuracy: 0.8948 - f1_score: 0.7678X shape = (42098, 13, 188)\n",
            "22/40 [===============>..............] - ETA: 2:45 - loss: 0.4426 - accuracy: 0.8949 - f1_score: 0.7678X shape = (42038, 13, 188)\n",
            "23/40 [================>.............] - ETA: 2:35 - loss: 0.4423 - accuracy: 0.8950 - f1_score: 0.7681X shape = (42037, 13, 188)\n",
            "24/40 [=================>............] - ETA: 2:26 - loss: 0.4419 - accuracy: 0.8952 - f1_score: 0.7685X shape = (7508, 13, 188)\n",
            "25/40 [=================>............] - ETA: 2:12 - loss: 0.4418 - accuracy: 0.8952 - f1_score: 0.7685X shape = (41994, 13, 188)\n",
            "26/40 [==================>...........] - ETA: 2:04 - loss: 0.4416 - accuracy: 0.8952 - f1_score: 0.7685X shape = (42089, 13, 188)\n",
            "27/40 [===================>..........] - ETA: 1:55 - loss: 0.4414 - accuracy: 0.8953 - f1_score: 0.7687X shape = (41911, 13, 188)\n",
            "28/40 [====================>.........] - ETA: 1:46 - loss: 0.4410 - accuracy: 0.8953 - f1_score: 0.7689X shape = (42029, 13, 188)\n",
            "29/40 [====================>.........] - ETA: 1:37 - loss: 0.4408 - accuracy: 0.8953 - f1_score: 0.7690X shape = (42098, 13, 188)\n",
            "30/40 [=====================>........] - ETA: 1:28 - loss: 0.4405 - accuracy: 0.8954 - f1_score: 0.7691X shape = (42038, 13, 188)\n",
            "31/40 [======================>.......] - ETA: 1:19 - loss: 0.4401 - accuracy: 0.8956 - f1_score: 0.7694X shape = (42037, 13, 188)\n",
            "32/40 [=======================>......] - ETA: 1:10 - loss: 0.4398 - accuracy: 0.8957 - f1_score: 0.7696X shape = (7508, 13, 188)\n",
            "33/40 [=======================>......] - ETA: 1:00 - loss: 0.4397 - accuracy: 0.8957 - f1_score: 0.7696X shape = (41994, 13, 188)\n",
            "34/40 [========================>.....] - ETA: 52s - loss: 0.4395 - accuracy: 0.8957 - f1_score: 0.7696 X shape = (42089, 13, 188)\n",
            "35/40 [=========================>....] - ETA: 43s - loss: 0.4393 - accuracy: 0.8957 - f1_score: 0.7697X shape = (41911, 13, 188)\n",
            "36/40 [==========================>...] - ETA: 34s - loss: 0.4389 - accuracy: 0.8958 - f1_score: 0.7699X shape = (42029, 13, 188)\n",
            "37/40 [==========================>...] - ETA: 26s - loss: 0.4387 - accuracy: 0.8958 - f1_score: 0.7700X shape = (42098, 13, 188)\n",
            "38/40 [===========================>..] - ETA: 17s - loss: 0.4384 - accuracy: 0.8959 - f1_score: 0.7700X shape = (42038, 13, 188)\n",
            "39/40 [============================>.] - ETA: 8s - loss: 0.4381 - accuracy: 0.8960 - f1_score: 0.7703 X shape = (42037, 13, 188)\n",
            "40/40 [==============================] - 342s 9s/step - loss: 0.4378 - accuracy: 0.8961 - f1_score: 0.7704\n",
            "Epoch 5/5\n",
            "X shape = (7508, 13, 188)\n",
            " 1/40 [..............................] - ETA: 1:21 - loss: 0.4264 - accuracy: 0.8993 - f1_score: 0.7724X shape = (41994, 13, 188)\n",
            " 2/40 [>.............................] - ETA: 5:45 - loss: 0.4288 - accuracy: 0.8974 - f1_score: 0.7727X shape = (42089, 13, 188)\n",
            " 3/40 [=>............................] - ETA: 5:33 - loss: 0.4285 - accuracy: 0.8975 - f1_score: 0.7743X shape = (41911, 13, 188)\n",
            " 4/40 [==>...........................] - ETA: 5:25 - loss: 0.4276 - accuracy: 0.8980 - f1_score: 0.7753X shape = (42029, 13, 188)\n",
            " 5/40 [==>...........................] - ETA: 5:15 - loss: 0.4274 - accuracy: 0.8977 - f1_score: 0.7752X shape = (42098, 13, 188)\n",
            " 6/40 [===>..........................] - ETA: 5:05 - loss: 0.4271 - accuracy: 0.8978 - f1_score: 0.7748X shape = (42038, 13, 188)\n",
            " 7/40 [====>.........................] - ETA: 4:56 - loss: 0.4266 - accuracy: 0.8983 - f1_score: 0.7756X shape = (42037, 13, 188)\n",
            " 8/40 [=====>........................] - ETA: 4:47 - loss: 0.4261 - accuracy: 0.8986 - f1_score: 0.7761X shape = (7508, 13, 188)\n",
            " 9/40 [=====>........................] - ETA: 4:12 - loss: 0.4260 - accuracy: 0.8987 - f1_score: 0.7762X shape = (41994, 13, 188)\n",
            "10/40 [======>.......................] - ETA: 4:09 - loss: 0.4260 - accuracy: 0.8984 - f1_score: 0.7757X shape = (42089, 13, 188)\n",
            "11/40 [=======>......................] - ETA: 4:02 - loss: 0.4258 - accuracy: 0.8984 - f1_score: 0.7758X shape = (41911, 13, 188)\n",
            "12/40 [========>.....................] - ETA: 3:55 - loss: 0.4255 - accuracy: 0.8985 - f1_score: 0.7762X shape = (42029, 13, 188)\n",
            "13/40 [========>.....................] - ETA: 3:48 - loss: 0.4253 - accuracy: 0.8985 - f1_score: 0.7763X shape = (42098, 13, 188)\n",
            "14/40 [=========>....................] - ETA: 3:39 - loss: 0.4250 - accuracy: 0.8985 - f1_score: 0.7761X shape = (42038, 13, 188)\n",
            "15/40 [==========>...................] - ETA: 3:31 - loss: 0.4247 - accuracy: 0.8987 - f1_score: 0.7764X shape = (42037, 13, 188)\n",
            "16/40 [===========>..................] - ETA: 3:24 - loss: 0.4243 - accuracy: 0.8988 - f1_score: 0.7765X shape = (7508, 13, 188)\n",
            "17/40 [===========>..................] - ETA: 3:06 - loss: 0.4243 - accuracy: 0.8988 - f1_score: 0.7766X shape = (41994, 13, 188)\n",
            "18/40 [============>.................] - ETA: 2:59 - loss: 0.4241 - accuracy: 0.8988 - f1_score: 0.7765X shape = (42089, 13, 188)\n",
            "19/40 [=============>................] - ETA: 2:52 - loss: 0.4239 - accuracy: 0.8988 - f1_score: 0.7767X shape = (41911, 13, 188)\n",
            "20/40 [==============>...............] - ETA: 2:44 - loss: 0.4236 - accuracy: 0.8989 - f1_score: 0.7769X shape = (42029, 13, 188)\n",
            "21/40 [==============>...............] - ETA: 2:36 - loss: 0.4234 - accuracy: 0.8988 - f1_score: 0.7770X shape = (42098, 13, 188)\n",
            "22/40 [===============>..............] - ETA: 2:29 - loss: 0.4232 - accuracy: 0.8989 - f1_score: 0.7770X shape = (42038, 13, 188)\n",
            "23/40 [================>.............] - ETA: 2:21 - loss: 0.4229 - accuracy: 0.8991 - f1_score: 0.7774X shape = (42037, 13, 188)\n",
            "24/40 [=================>............] - ETA: 2:13 - loss: 0.4225 - accuracy: 0.8992 - f1_score: 0.7776X shape = (7508, 13, 188)\n",
            "25/40 [=================>............] - ETA: 2:01 - loss: 0.4225 - accuracy: 0.8992 - f1_score: 0.7776X shape = (41994, 13, 188)\n",
            "26/40 [==================>...........] - ETA: 1:53 - loss: 0.4223 - accuracy: 0.8992 - f1_score: 0.7775X shape = (42089, 13, 188)\n",
            "27/40 [===================>..........] - ETA: 1:45 - loss: 0.4221 - accuracy: 0.8992 - f1_score: 0.7776X shape = (41911, 13, 188)\n",
            "28/40 [====================>.........] - ETA: 1:37 - loss: 0.4219 - accuracy: 0.8993 - f1_score: 0.7778X shape = (42029, 13, 188)\n",
            "29/40 [====================>.........] - ETA: 1:29 - loss: 0.4217 - accuracy: 0.8992 - f1_score: 0.7779X shape = (42098, 13, 188)\n",
            "30/40 [=====================>........] - ETA: 1:22 - loss: 0.4215 - accuracy: 0.8993 - f1_score: 0.7779X shape = (42038, 13, 188)\n",
            "31/40 [======================>.......] - ETA: 1:14 - loss: 0.4212 - accuracy: 0.8994 - f1_score: 0.7781X shape = (42037, 13, 188)\n",
            "32/40 [=======================>......] - ETA: 1:05 - loss: 0.4209 - accuracy: 0.8995 - f1_score: 0.7782X shape = (7508, 13, 188)\n",
            "33/40 [=======================>......] - ETA: 56s - loss: 0.4208 - accuracy: 0.8995 - f1_score: 0.7783 X shape = (41994, 13, 188)\n",
            "34/40 [========================>.....] - ETA: 48s - loss: 0.4207 - accuracy: 0.8995 - f1_score: 0.7782X shape = (42089, 13, 188)\n",
            "35/40 [=========================>....] - ETA: 40s - loss: 0.4205 - accuracy: 0.8995 - f1_score: 0.7782X shape = (41911, 13, 188)\n",
            "36/40 [==========================>...] - ETA: 32s - loss: 0.4202 - accuracy: 0.8995 - f1_score: 0.7784X shape = (42029, 13, 188)\n",
            "37/40 [==========================>...] - ETA: 24s - loss: 0.4200 - accuracy: 0.8995 - f1_score: 0.7783X shape = (42098, 13, 188)\n",
            "38/40 [===========================>..] - ETA: 16s - loss: 0.4198 - accuracy: 0.8995 - f1_score: 0.7783X shape = (42038, 13, 188)\n",
            "39/40 [============================>.] - ETA: 8s - loss: 0.4195 - accuracy: 0.8996 - f1_score: 0.7785 X shape = (42037, 13, 188)\n",
            "40/40 [==============================] - 322s 8s/step - loss: 0.4193 - accuracy: 0.8997 - f1_score: 0.7787\n"
          ]
        },
        {
          "output_type": "execute_result",
          "data": {
            "text/plain": [
              "<keras.callbacks.History at 0x7f17c22bab50>"
            ]
          },
          "metadata": {},
          "execution_count": 13
        }
      ]
    },
    {
      "cell_type": "code",
      "source": [
        "val_files = listdir('/content/drive/MyDrive/amex-default-prediction/data/customer_val/')"
      ],
      "metadata": {
        "id": "ld4z-43avLyZ"
      },
      "execution_count": 14,
      "outputs": []
    },
    {
      "cell_type": "code",
      "source": [
        "def my_val_generator():\n",
        "    for f in val_files:      \n",
        "      X = pd.DataFrame()\n",
        "      Y = pd.DataFrame()\n",
        "      df_tmp = pd.read_parquet('/content/drive/MyDrive/amex-default-prediction/data/customer_val/' + f)\n",
        "      df_tmp = append_label(df_tmp)\n",
        "      enc = OrdinalEncoder(handle_unknown='use_encoded_value', unknown_value=-1)\n",
        "      df_tmp[['D_63', 'D_64']]=enc.fit(df_tmp[['D_63', 'D_64']])\n",
        "\n",
        "      df_tmp[['D_63', 'D_64']]=enc.transform(df_tmp[['D_63', 'D_64']])\n",
        "      df_tmp.fillna(0, inplace=True)\n",
        "\n",
        "      X= X.append(df_tmp.loc[:, ~df_tmp.columns.isin(['target'])])\n",
        "      X = X[X.groupby('customer_ID')['customer_ID'].transform('count') == 13]\n",
        "      X_Cust = pd.DataFrame(X['customer_ID'].unique(), columns=['customer_ID'])\n",
        "      Y = pd.merge(left=X_Cust, right=train_labels, how='inner')\n",
        "      X.drop(axis=1, columns=['customer_ID', 'S_2'], inplace=True)\n",
        "      X = X.values.reshape(X_Cust.shape[0], 13, 188)\n",
        "      Y.drop(axis=1, columns='customer_ID', inplace=True)\n",
        "      print(f'X shape = {X.shape}')\n",
        "      yield X, Y.to_numpy()"
      ],
      "metadata": {
        "id": "fE0DAIxmxX21"
      },
      "execution_count": 15,
      "outputs": []
    },
    {
      "cell_type": "code",
      "source": [
        "def my_val_input_fn():\n",
        "    dataset = tf.data.Dataset.from_generator(lambda: my_val_generator(),\n",
        "                                             output_types=(tf.float64, tf.int64),\n",
        "                                            output_shapes=(tf.TensorShape([None, 13, 188]), tf.TensorShape([None, 1])))\n",
        "\n",
        "    # dataset = dataset.repeat(epochs)\n",
        "    # dataset = dataset.batch(32)\n",
        "    return dataset"
      ],
      "metadata": {
        "id": "Dl99Wtsqxeez"
      },
      "execution_count": 16,
      "outputs": []
    },
    {
      "cell_type": "code",
      "source": [
        "val_dataset = my_val_input_fn()\n",
        "model.evaluate(val_dataset)"
      ],
      "metadata": {
        "colab": {
          "base_uri": "https://localhost:8080/"
        },
        "id": "ILKHw4zBxqMP",
        "outputId": "4702ff8c-86bc-4bd0-d06f-ed80215194b6"
      },
      "execution_count": 17,
      "outputs": [
        {
          "output_type": "stream",
          "name": "stdout",
          "text": [
            "X shape = (42194, 13, 188)\n",
            "1/1 [==============================] - 17s 17s/step - loss: 0.4088 - accuracy: 0.9022 - f1_score: 0.7834\n"
          ]
        },
        {
          "output_type": "execute_result",
          "data": {
            "text/plain": [
              "[0.4087599813938141, 0.9022135734558105, array([0.7834121], dtype=float32)]"
            ]
          },
          "metadata": {},
          "execution_count": 17
        }
      ]
    },
    {
      "cell_type": "code",
      "source": [
        "y_pred = (model.predict(val_dataset) > 0.5).astype(\"int32\")"
      ],
      "metadata": {
        "id": "M8HXFr2AyA6E",
        "colab": {
          "base_uri": "https://localhost:8080/"
        },
        "outputId": "40fcb91e-fde5-4754-a05f-121648e68327"
      },
      "execution_count": 18,
      "outputs": [
        {
          "output_type": "stream",
          "name": "stdout",
          "text": [
            "X shape = (42194, 13, 188)\n"
          ]
        }
      ]
    },
    {
      "cell_type": "code",
      "source": [
        "for x, y in val_dataset:\n",
        "  y_test=y"
      ],
      "metadata": {
        "colab": {
          "base_uri": "https://localhost:8080/"
        },
        "id": "sURWV-TKKaRP",
        "outputId": "ff411fd4-f48d-4c03-ac24-64e299ff5a8e"
      },
      "execution_count": 23,
      "outputs": [
        {
          "output_type": "stream",
          "name": "stdout",
          "text": [
            "X shape = (42194, 13, 188)\n"
          ]
        }
      ]
    },
    {
      "cell_type": "code",
      "source": [
        "y_test.shape"
      ],
      "metadata": {
        "colab": {
          "base_uri": "https://localhost:8080/"
        },
        "id": "9rQahoOtM4BB",
        "outputId": "cd14e9a6-dc2c-4f60-f4a6-3f40cba8f75b"
      },
      "execution_count": 24,
      "outputs": [
        {
          "output_type": "execute_result",
          "data": {
            "text/plain": [
              "TensorShape([42194, 1])"
            ]
          },
          "metadata": {},
          "execution_count": 24
        }
      ]
    },
    {
      "cell_type": "code",
      "source": [
        "y_pred.shape"
      ],
      "metadata": {
        "colab": {
          "base_uri": "https://localhost:8080/"
        },
        "id": "M0FuM5thM7Td",
        "outputId": "97a02d66-c38a-43f1-f60c-8329f4740d15"
      },
      "execution_count": 25,
      "outputs": [
        {
          "output_type": "execute_result",
          "data": {
            "text/plain": [
              "(42194, 1)"
            ]
          },
          "metadata": {},
          "execution_count": 25
        }
      ]
    },
    {
      "cell_type": "code",
      "source": [
        "f1_score(y_test, y_pred)"
      ],
      "metadata": {
        "id": "SEesOLQpdXb6",
        "colab": {
          "base_uri": "https://localhost:8080/"
        },
        "outputId": "1b0c26bc-8991-4907-dfe8-4d599b049476"
      },
      "execution_count": 26,
      "outputs": [
        {
          "output_type": "execute_result",
          "data": {
            "text/plain": [
              "0.7834120734908135"
            ]
          },
          "metadata": {},
          "execution_count": 26
        }
      ]
    },
    {
      "cell_type": "code",
      "source": [
        "print(classification_report(y_test, y_pred, digits=4))"
      ],
      "metadata": {
        "colab": {
          "base_uri": "https://localhost:8080/"
        },
        "id": "MaezxedO_5bM",
        "outputId": "ff36da7c-7343-4c32-bd17-66eacb47332c"
      },
      "execution_count": 27,
      "outputs": [
        {
          "output_type": "stream",
          "name": "stdout",
          "text": [
            "              precision    recall  f1-score   support\n",
            "\n",
            "           0     0.9312    0.9426    0.9369     32470\n",
            "           1     0.8001    0.7674    0.7834      9724\n",
            "\n",
            "    accuracy                         0.9022     42194\n",
            "   macro avg     0.8657    0.8550    0.8601     42194\n",
            "weighted avg     0.9010    0.9022    0.9015     42194\n",
            "\n"
          ]
        }
      ]
    },
    {
      "cell_type": "code",
      "source": [],
      "metadata": {
        "id": "KQZ4NyUZNBCD"
      },
      "execution_count": null,
      "outputs": []
    }
  ]
}