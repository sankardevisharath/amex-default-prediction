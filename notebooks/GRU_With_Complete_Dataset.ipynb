{
  "nbformat": 4,
  "nbformat_minor": 0,
  "metadata": {
    "colab": {
      "name": "GRU_With_Complete_Dataset.ipynb",
      "provenance": [],
      "collapsed_sections": [],
      "machine_shape": "hm",
      "mount_file_id": "1apXWazJo-DMYKQQ1sUJGIjT04QYGIC8-",
      "authorship_tag": "ABX9TyMnZ1iqkiyU0VAsBmLvRv1+",
      "include_colab_link": true
    },
    "kernelspec": {
      "name": "python3",
      "display_name": "Python 3"
    },
    "language_info": {
      "name": "python"
    },
    "gpuClass": "standard"
  },
  "cells": [
    {
      "cell_type": "markdown",
      "metadata": {
        "id": "view-in-github",
        "colab_type": "text"
      },
      "source": [
        "<a href=\"https://colab.research.google.com/github/sankardevisharath/amex-default-prediction/blob/master/notebooks/GRU_With_Complete_Dataset.ipynb\" target=\"_parent\"><img src=\"https://colab.research.google.com/assets/colab-badge.svg\" alt=\"Open In Colab\"/></a>"
      ]
    },
    {
      "cell_type": "code",
      "source": [
        "from os import listdir\n",
        "\n",
        "files = listdir('/content/drive/MyDrive/amex-default-prediction/data/customer_train/')"
      ],
      "metadata": {
        "id": "qDhpXsRkbY7g"
      },
      "execution_count": 1,
      "outputs": []
    },
    {
      "cell_type": "code",
      "source": [
        "pip install tensorflow-addons"
      ],
      "metadata": {
        "colab": {
          "base_uri": "https://localhost:8080/"
        },
        "id": "DHNGFYGOgX21",
        "outputId": "b26426ab-1369-4eab-b7c8-c216bcb5b7d1"
      },
      "execution_count": 15,
      "outputs": [
        {
          "output_type": "stream",
          "name": "stdout",
          "text": [
            "Looking in indexes: https://pypi.org/simple, https://us-python.pkg.dev/colab-wheels/public/simple/\n",
            "Collecting tensorflow-addons\n",
            "  Downloading tensorflow_addons-0.17.1-cp37-cp37m-manylinux_2_17_x86_64.manylinux2014_x86_64.whl (1.1 MB)\n",
            "\u001b[K     |████████████████████████████████| 1.1 MB 13.8 MB/s \n",
            "\u001b[?25hRequirement already satisfied: packaging in /usr/local/lib/python3.7/dist-packages (from tensorflow-addons) (21.3)\n",
            "Requirement already satisfied: typeguard>=2.7 in /usr/local/lib/python3.7/dist-packages (from tensorflow-addons) (2.7.1)\n",
            "Requirement already satisfied: pyparsing!=3.0.5,>=2.0.2 in /usr/local/lib/python3.7/dist-packages (from packaging->tensorflow-addons) (3.0.9)\n",
            "Installing collected packages: tensorflow-addons\n",
            "Successfully installed tensorflow-addons-0.17.1\n"
          ]
        }
      ]
    },
    {
      "cell_type": "code",
      "source": [
        "import gc \n",
        "\n",
        "import numpy as np\n",
        "import pandas as pd\n",
        "from sklearn.preprocessing import OrdinalEncoder\n",
        "from sklearn.model_selection import train_test_split\n",
        "from sklearn.linear_model import SGDClassifier\n",
        "from sklearn.metrics import confusion_matrix\n",
        "from sklearn.metrics import f1_score\n",
        "\n",
        "import tensorflow as tf\n",
        "from keras.layers import GRU, Dense\n",
        "import tensorflow_addons as tfa\n"
      ],
      "metadata": {
        "id": "nx_k17C4dJpj"
      },
      "execution_count": 16,
      "outputs": []
    },
    {
      "cell_type": "code",
      "source": [
        "cat_cols = ['D_63', 'D_64','B_30', 'B_38', 'D_114', 'D_116', 'D_117', 'D_120', 'D_126', 'D_66', 'D_68']\n",
        "TRAIN_LABELS_PATH = '/content/train_labels.csv'"
      ],
      "metadata": {
        "id": "IdDL1GU3gPxH"
      },
      "execution_count": 3,
      "outputs": []
    },
    {
      "cell_type": "code",
      "source": [
        "!unzip -o /content/drive/MyDrive/amex-default-prediction/data/amex-default-prediction.zip \\\n",
        " train_labels.csv"
      ],
      "metadata": {
        "colab": {
          "base_uri": "https://localhost:8080/"
        },
        "id": "tOb-N7dCiaDi",
        "outputId": "daf4162e-f4b3-49ff-8bb8-209151812bfd"
      },
      "execution_count": 4,
      "outputs": [
        {
          "output_type": "stream",
          "name": "stdout",
          "text": [
            "Archive:  /content/drive/MyDrive/amex-default-prediction/data/amex-default-prediction.zip\n",
            "  inflating: train_labels.csv        \n"
          ]
        }
      ]
    },
    {
      "cell_type": "code",
      "source": [
        "train_labels = pd.read_csv(TRAIN_LABELS_PATH)"
      ],
      "metadata": {
        "id": "0cIgqjH2hMML"
      },
      "execution_count": 5,
      "outputs": []
    },
    {
      "cell_type": "code",
      "source": [
        "train_labels.shape"
      ],
      "metadata": {
        "colab": {
          "base_uri": "https://localhost:8080/"
        },
        "id": "P9BzLmxkCEtg",
        "outputId": "de66e17b-5974-455d-b952-dc50c4526eb2"
      },
      "execution_count": 6,
      "outputs": [
        {
          "output_type": "execute_result",
          "data": {
            "text/plain": [
              "(458913, 2)"
            ]
          },
          "metadata": {},
          "execution_count": 6
        }
      ]
    },
    {
      "cell_type": "code",
      "source": [
        "def append_label(source_df):\n",
        "  return pd.merge(left=source_df, right=train_labels, how='inner')"
      ],
      "metadata": {
        "id": "eAEoVByIgU-W"
      },
      "execution_count": 7,
      "outputs": []
    },
    {
      "cell_type": "code",
      "source": [
        "def my_generator():\n",
        "    for f in files:      \n",
        "      X = pd.DataFrame()\n",
        "      Y = pd.DataFrame()\n",
        "      df_tmp = pd.read_parquet('/content/drive/MyDrive/amex-default-prediction/data/customer_train/' + f)\n",
        "      df_tmp = append_label(df_tmp)\n",
        "      enc = OrdinalEncoder(handle_unknown='use_encoded_value', unknown_value=-1)\n",
        "      df_tmp[['D_63', 'D_64']]=enc.fit(df_tmp[['D_63', 'D_64']])\n",
        "\n",
        "      df_tmp[['D_63', 'D_64']]=enc.transform(df_tmp[['D_63', 'D_64']])\n",
        "      df_tmp.fillna(0, inplace=True)\n",
        "\n",
        "      X= X.append(df_tmp.loc[:, ~df_tmp.columns.isin(['target'])])\n",
        "      X = X[X.groupby('customer_ID')['customer_ID'].transform('count') == 13]\n",
        "      X_Cust = pd.DataFrame(X['customer_ID'].unique(), columns=['customer_ID'])\n",
        "      Y = pd.merge(left=X_Cust, right=train_labels, how='inner')\n",
        "      X.drop(axis=1, columns=['customer_ID', 'S_2'], inplace=True)\n",
        "      X = X.values.reshape(X_Cust.shape[0], 13, 188)\n",
        "      Y.drop(axis=1, columns='customer_ID', inplace=True)\n",
        "      print(f'X shape = {X.shape}')\n",
        "      yield X, Y.to_numpy()\n",
        "      \n",
        "\n",
        "\n"
      ],
      "metadata": {
        "id": "Ivmf5DcQc6tP"
      },
      "execution_count": 8,
      "outputs": []
    },
    {
      "cell_type": "code",
      "source": [
        "def my_input_fn(epochs):\n",
        "    dataset = tf.data.Dataset.from_generator(lambda: my_generator(),\n",
        "                                             output_types=(tf.float64, tf.int64),\n",
        "                                            output_shapes=(tf.TensorShape([None, 13, 188]), tf.TensorShape([None, 1])))\n",
        "\n",
        "    dataset = dataset.repeat(epochs)\n",
        "    # dataset = dataset.batch(32)\n",
        "    return dataset\n"
      ],
      "metadata": {
        "id": "PFq3dCPWXIGR"
      },
      "execution_count": 9,
      "outputs": []
    },
    {
      "cell_type": "code",
      "source": [
        "f1_metric = tfa.metrics.F1Score(num_classes=1, threshold=0.5)\n",
        "\n",
        "model = tf.keras.Sequential()\n",
        "model.add(tf.keras.Input(shape=(13, 188)))\n",
        "model.add(GRU(64, dropout=0.1, recurrent_dropout=0.5))\n",
        "model.add(Dense(6, activation='sigmoid'))\n",
        "model.add(Dense(1, activation='sigmoid'))\n",
        "model.compile(optimizer='adam', loss='binary_crossentropy', metrics=['accuracy', f1_metric])\n",
        "\n"
      ],
      "metadata": {
        "id": "Hd3XRKU7XQPk"
      },
      "execution_count": 22,
      "outputs": []
    },
    {
      "cell_type": "code",
      "source": [
        "model.summary()"
      ],
      "metadata": {
        "colab": {
          "base_uri": "https://localhost:8080/"
        },
        "id": "Zszg5O4VpRUT",
        "outputId": "f6e04d9b-4e0c-4b06-9a30-aa971fc82656"
      },
      "execution_count": 23,
      "outputs": [
        {
          "output_type": "stream",
          "name": "stdout",
          "text": [
            "Model: \"sequential_3\"\n",
            "_________________________________________________________________\n",
            " Layer (type)                Output Shape              Param #   \n",
            "=================================================================\n",
            " gru_3 (GRU)                 (None, 64)                48768     \n",
            "                                                                 \n",
            " dense_6 (Dense)             (None, 6)                 390       \n",
            "                                                                 \n",
            " dense_7 (Dense)             (None, 1)                 7         \n",
            "                                                                 \n",
            "=================================================================\n",
            "Total params: 49,165\n",
            "Trainable params: 49,165\n",
            "Non-trainable params: 0\n",
            "_________________________________________________________________\n"
          ]
        }
      ]
    },
    {
      "cell_type": "code",
      "source": [
        "epochs = 5\n",
        "dataset = my_input_fn(epochs)\n",
        "model.fit(dataset, epochs=epochs)\n"
      ],
      "metadata": {
        "colab": {
          "base_uri": "https://localhost:8080/"
        },
        "id": "HyQTIKlmpP0l",
        "outputId": "9c933cb2-4686-492c-ae11-acd8b7b0222b"
      },
      "execution_count": 24,
      "outputs": [
        {
          "output_type": "stream",
          "name": "stdout",
          "text": [
            "Epoch 1/5\n",
            "X shape = (7508, 13, 188)\n",
            "      1/Unknown - 7s 7s/step - loss: 0.9183 - accuracy: 0.2302 - f1_score: 0.3742X shape = (41994, 13, 188)\n",
            "      2/Unknown - 23s 16s/step - loss: 0.8774 - accuracy: 0.2322 - f1_score: 0.3769X shape = (42037, 13, 188)\n",
            "      3/Unknown - 43s 18s/step - loss: 0.8546 - accuracy: 0.2314 - f1_score: 0.3758X shape = (42038, 13, 188)\n",
            "      4/Unknown - 61s 18s/step - loss: 0.8340 - accuracy: 0.2311 - f1_score: 0.3754X shape = (42098, 13, 188)\n",
            "      5/Unknown - 79s 18s/step - loss: 0.8151 - accuracy: 0.2310 - f1_score: 0.3751X shape = (42029, 13, 188)\n",
            "      6/Unknown - 99s 18s/step - loss: 0.7976 - accuracy: 0.2337 - f1_score: 0.3763X shape = (41911, 13, 188)\n",
            "      7/Unknown - 117s 18s/step - loss: 0.7819 - accuracy: 0.2533 - f1_score: 0.3808X shape = (42089, 13, 188)\n",
            "      8/Unknown - 136s 18s/step - loss: 0.7675 - accuracy: 0.3090 - f1_score: 0.3917X shape = (7508, 13, 188)\n",
            "      9/Unknown - 139s 16s/step - loss: 0.7649 - accuracy: 0.3208 - f1_score: 0.3928X shape = (41994, 13, 188)\n",
            "     10/Unknown - 154s 16s/step - loss: 0.7504 - accuracy: 0.3796 - f1_score: 0.3942X shape = (42037, 13, 188)\n",
            "     11/Unknown - 168s 16s/step - loss: 0.7375 - accuracy: 0.4252 - f1_score: 0.3921X shape = (42038, 13, 188)\n",
            "     12/Unknown - 182s 16s/step - loss: 0.7259 - accuracy: 0.4611 - f1_score: 0.3878X shape = (42098, 13, 188)\n",
            "     13/Unknown - 197s 16s/step - loss: 0.7154 - accuracy: 0.4904 - f1_score: 0.3828X shape = (42029, 13, 188)\n",
            "     14/Unknown - 210s 16s/step - loss: 0.7060 - accuracy: 0.5144 - f1_score: 0.3775X shape = (41911, 13, 188)\n",
            "     15/Unknown - 224s 16s/step - loss: 0.6973 - accuracy: 0.5347 - f1_score: 0.3720X shape = (42089, 13, 188)\n",
            "     16/Unknown - 239s 15s/step - loss: 0.6893 - accuracy: 0.5522 - f1_score: 0.3667X shape = (7508, 13, 188)\n",
            "     17/Unknown - 241s 15s/step - loss: 0.6879 - accuracy: 0.5550 - f1_score: 0.3657X shape = (41994, 13, 188)\n",
            "     18/Unknown - 255s 15s/step - loss: 0.6804 - accuracy: 0.5699 - f1_score: 0.3606X shape = (42037, 13, 188)\n",
            "     19/Unknown - 269s 15s/step - loss: 0.6734 - accuracy: 0.5831 - f1_score: 0.3558X shape = (42038, 13, 188)\n",
            "     20/Unknown - 283s 15s/step - loss: 0.6669 - accuracy: 0.5948 - f1_score: 0.3513X shape = (42098, 13, 188)\n",
            "     21/Unknown - 298s 15s/step - loss: 0.6609 - accuracy: 0.6053 - f1_score: 0.3472X shape = (42029, 13, 188)\n",
            "     22/Unknown - 311s 14s/step - loss: 0.6554 - accuracy: 0.6146 - f1_score: 0.3433X shape = (41911, 13, 188)\n",
            "     23/Unknown - 325s 14s/step - loss: 0.6502 - accuracy: 0.6231 - f1_score: 0.3398X shape = (42089, 13, 188)\n",
            "     24/Unknown - 338s 14s/step - loss: 0.6453 - accuracy: 0.6308 - f1_score: 0.3367X shape = (7508, 13, 188)\n",
            "     25/Unknown - 341s 14s/step - loss: 0.6444 - accuracy: 0.6322 - f1_score: 0.3362X shape = (41994, 13, 188)\n",
            "     26/Unknown - 355s 14s/step - loss: 0.6397 - accuracy: 0.6394 - f1_score: 0.3341X shape = (42037, 13, 188)\n",
            "     27/Unknown - 369s 14s/step - loss: 0.6351 - accuracy: 0.6463 - f1_score: 0.3325X shape = (42038, 13, 188)\n",
            "     28/Unknown - 383s 14s/step - loss: 0.6308 - accuracy: 0.6526 - f1_score: 0.3312X shape = (42098, 13, 188)\n",
            "     29/Unknown - 397s 14s/step - loss: 0.6266 - accuracy: 0.6587 - f1_score: 0.3306X shape = (42029, 13, 188)\n",
            "     30/Unknown - 411s 14s/step - loss: 0.6226 - accuracy: 0.6643 - f1_score: 0.3306X shape = (41911, 13, 188)\n",
            "     31/Unknown - 425s 14s/step - loss: 0.6188 - accuracy: 0.6698 - f1_score: 0.3311X shape = (42089, 13, 188)\n",
            "     32/Unknown - 439s 14s/step - loss: 0.6151 - accuracy: 0.6750 - f1_score: 0.3325X shape = (7508, 13, 188)\n",
            "     33/Unknown - 442s 14s/step - loss: 0.6145 - accuracy: 0.6759 - f1_score: 0.3328X shape = (41994, 13, 188)\n",
            "     34/Unknown - 455s 14s/step - loss: 0.6108 - accuracy: 0.6811 - f1_score: 0.3355X shape = (42037, 13, 188)\n",
            "     35/Unknown - 469s 14s/step - loss: 0.6071 - accuracy: 0.6863 - f1_score: 0.3394X shape = (42038, 13, 188)\n",
            "     36/Unknown - 483s 14s/step - loss: 0.6036 - accuracy: 0.6914 - f1_score: 0.3437X shape = (42098, 13, 188)\n",
            "     37/Unknown - 497s 14s/step - loss: 0.6002 - accuracy: 0.6963 - f1_score: 0.3487X shape = (42029, 13, 188)\n",
            "     38/Unknown - 510s 14s/step - loss: 0.5969 - accuracy: 0.7011 - f1_score: 0.3547X shape = (41911, 13, 188)\n",
            "     39/Unknown - 524s 14s/step - loss: 0.5937 - accuracy: 0.7057 - f1_score: 0.3611X shape = (42089, 13, 188)\n",
            "40/40 [==============================] - 537s 14s/step - loss: 0.5906 - accuracy: 0.7102 - f1_score: 0.3680\n",
            "Epoch 2/5\n",
            "X shape = (7508, 13, 188)\n",
            " 1/40 [..............................] - ETA: 1:54 - loss: 0.4790 - accuracy: 0.8712 - f1_score: 0.6653X shape = (41994, 13, 188)\n",
            " 2/40 [>.............................] - ETA: 8:40 - loss: 0.4764 - accuracy: 0.8733 - f1_score: 0.6844X shape = (42037, 13, 188)\n",
            " 3/40 [=>............................] - ETA: 8:21 - loss: 0.4732 - accuracy: 0.8770 - f1_score: 0.6972X shape = (42038, 13, 188)\n",
            " 4/40 [==>...........................] - ETA: 8:07 - loss: 0.4714 - accuracy: 0.8781 - f1_score: 0.7024X shape = (42098, 13, 188)\n",
            " 5/40 [==>...........................] - ETA: 9:48 - loss: 0.4696 - accuracy: 0.8791 - f1_score: 0.7070X shape = (42029, 13, 188)\n",
            " 6/40 [===>..........................] - ETA: 9:32 - loss: 0.4682 - accuracy: 0.8792 - f1_score: 0.7105X shape = (41911, 13, 188)\n",
            " 7/40 [====>.........................] - ETA: 9:02 - loss: 0.4666 - accuracy: 0.8795 - f1_score: 0.7137X shape = (42089, 13, 188)\n",
            " 8/40 [=====>........................] - ETA: 8:35 - loss: 0.4653 - accuracy: 0.8797 - f1_score: 0.7167X shape = (7508, 13, 188)\n",
            " 9/40 [=====>........................] - ETA: 7:28 - loss: 0.4650 - accuracy: 0.8798 - f1_score: 0.7171X shape = (41994, 13, 188)\n",
            "10/40 [======>.......................] - ETA: 7:12 - loss: 0.4634 - accuracy: 0.8801 - f1_score: 0.7199X shape = (42037, 13, 188)\n",
            "11/40 [=======>......................] - ETA: 6:55 - loss: 0.4615 - accuracy: 0.8808 - f1_score: 0.7232X shape = (42038, 13, 188)\n",
            "12/40 [========>.....................] - ETA: 6:40 - loss: 0.4599 - accuracy: 0.8812 - f1_score: 0.7255X shape = (42098, 13, 188)\n",
            "13/40 [========>.....................] - ETA: 6:24 - loss: 0.4584 - accuracy: 0.8816 - f1_score: 0.7275X shape = (42029, 13, 188)\n",
            "14/40 [=========>....................] - ETA: 6:09 - loss: 0.4572 - accuracy: 0.8815 - f1_score: 0.7287X shape = (41911, 13, 188)\n",
            "15/40 [==========>...................] - ETA: 5:54 - loss: 0.4559 - accuracy: 0.8817 - f1_score: 0.7300X shape = (42089, 13, 188)\n",
            "16/40 [===========>..................] - ETA: 5:40 - loss: 0.4547 - accuracy: 0.8817 - f1_score: 0.7311X shape = (7508, 13, 188)\n",
            "17/40 [===========>..................] - ETA: 5:10 - loss: 0.4545 - accuracy: 0.8817 - f1_score: 0.7312X shape = (41994, 13, 188)\n",
            "18/40 [============>.................] - ETA: 4:57 - loss: 0.4534 - accuracy: 0.8817 - f1_score: 0.7321X shape = (42037, 13, 188)\n",
            "19/40 [=============>................] - ETA: 4:44 - loss: 0.4520 - accuracy: 0.8821 - f1_score: 0.7335X shape = (42038, 13, 188)\n",
            "20/40 [==============>...............] - ETA: 4:31 - loss: 0.4508 - accuracy: 0.8823 - f1_score: 0.7344X shape = (42098, 13, 188)\n",
            "21/40 [==============>...............] - ETA: 4:17 - loss: 0.4497 - accuracy: 0.8825 - f1_score: 0.7353X shape = (42029, 13, 188)\n",
            "22/40 [===============>..............] - ETA: 4:04 - loss: 0.4487 - accuracy: 0.8826 - f1_score: 0.7359X shape = (41911, 13, 188)\n",
            "23/40 [================>.............] - ETA: 3:50 - loss: 0.4477 - accuracy: 0.8827 - f1_score: 0.7365X shape = (42089, 13, 188)\n",
            "24/40 [=================>............] - ETA: 3:37 - loss: 0.4468 - accuracy: 0.8828 - f1_score: 0.7371X shape = (7508, 13, 188)\n",
            "25/40 [=================>............] - ETA: 3:17 - loss: 0.4466 - accuracy: 0.8828 - f1_score: 0.7371X shape = (41994, 13, 188)\n",
            "26/40 [==================>...........] - ETA: 3:04 - loss: 0.4457 - accuracy: 0.8829 - f1_score: 0.7374X shape = (42037, 13, 188)\n",
            "27/40 [===================>..........] - ETA: 2:51 - loss: 0.4446 - accuracy: 0.8831 - f1_score: 0.7382X shape = (42038, 13, 188)\n",
            "28/40 [====================>.........] - ETA: 2:38 - loss: 0.4436 - accuracy: 0.8833 - f1_score: 0.7388X shape = (42098, 13, 188)\n",
            "29/40 [====================>.........] - ETA: 2:25 - loss: 0.4427 - accuracy: 0.8835 - f1_score: 0.7392X shape = (42029, 13, 188)\n",
            "30/40 [=====================>........] - ETA: 2:12 - loss: 0.4418 - accuracy: 0.8836 - f1_score: 0.7396X shape = (41911, 13, 188)\n",
            "31/40 [======================>.......] - ETA: 1:59 - loss: 0.4410 - accuracy: 0.8838 - f1_score: 0.7401X shape = (42089, 13, 188)\n",
            "32/40 [=======================>......] - ETA: 1:46 - loss: 0.4402 - accuracy: 0.8839 - f1_score: 0.7405X shape = (7508, 13, 188)\n",
            "33/40 [=======================>......] - ETA: 1:30 - loss: 0.4400 - accuracy: 0.8839 - f1_score: 0.7406X shape = (41994, 13, 188)\n",
            "34/40 [========================>.....] - ETA: 1:17 - loss: 0.4392 - accuracy: 0.8841 - f1_score: 0.7411X shape = (42037, 13, 188)\n",
            "35/40 [=========================>....] - ETA: 1:05 - loss: 0.4383 - accuracy: 0.8844 - f1_score: 0.7418X shape = (42038, 13, 188)\n",
            "36/40 [==========================>...] - ETA: 53s - loss: 0.4374 - accuracy: 0.8846 - f1_score: 0.7424 X shape = (42098, 13, 188)\n",
            "37/40 [==========================>...] - ETA: 39s - loss: 0.4366 - accuracy: 0.8848 - f1_score: 0.7429X shape = (42029, 13, 188)\n",
            "38/40 [===========================>..] - ETA: 26s - loss: 0.4358 - accuracy: 0.8850 - f1_score: 0.7435X shape = (41911, 13, 188)\n",
            "39/40 [============================>.] - ETA: 13s - loss: 0.4350 - accuracy: 0.8852 - f1_score: 0.7441X shape = (42089, 13, 188)\n",
            "40/40 [==============================] - 523s 13s/step - loss: 0.4343 - accuracy: 0.8854 - f1_score: 0.7446\n",
            "Epoch 3/5\n",
            "X shape = (7508, 13, 188)\n",
            " 1/40 [..............................] - ETA: 1:52 - loss: 0.4076 - accuracy: 0.8921 - f1_score: 0.7592X shape = (41994, 13, 188)\n",
            " 2/40 [>.............................] - ETA: 8:32 - loss: 0.4073 - accuracy: 0.8917 - f1_score: 0.7621X shape = (42037, 13, 188)\n",
            " 3/40 [=>............................] - ETA: 9:44 - loss: 0.4049 - accuracy: 0.8935 - f1_score: 0.7658X shape = (42038, 13, 188)\n",
            " 4/40 [==>...........................] - ETA: 11:08 - loss: 0.4041 - accuracy: 0.8939 - f1_score: 0.7665X shape = (42098, 13, 188)\n",
            " 5/40 [==>...........................] - ETA: 10:36 - loss: 0.4036 - accuracy: 0.8939 - f1_score: 0.7659X shape = (42029, 13, 188)\n",
            " 6/40 [===>..........................] - ETA: 9:52 - loss: 0.4035 - accuracy: 0.8936 - f1_score: 0.7658 X shape = (41911, 13, 188)\n",
            " 7/40 [====>.........................] - ETA: 9:14 - loss: 0.4030 - accuracy: 0.8937 - f1_score: 0.7661X shape = (42089, 13, 188)\n",
            " 8/40 [=====>........................] - ETA: 8:44 - loss: 0.4027 - accuracy: 0.8938 - f1_score: 0.7666X shape = (7508, 13, 188)\n",
            " 9/40 [=====>........................] - ETA: 7:36 - loss: 0.4026 - accuracy: 0.8938 - f1_score: 0.7665X shape = (41994, 13, 188)\n",
            "10/40 [======>.......................] - ETA: 7:18 - loss: 0.4023 - accuracy: 0.8936 - f1_score: 0.7662X shape = (42037, 13, 188)\n",
            "11/40 [=======>......................] - ETA: 7:04 - loss: 0.4014 - accuracy: 0.8940 - f1_score: 0.7669X shape = (42038, 13, 188)\n",
            "12/40 [========>.....................] - ETA: 7:22 - loss: 0.4008 - accuracy: 0.8943 - f1_score: 0.7673X shape = (42098, 13, 188)\n",
            "13/40 [========>.....................] - ETA: 7:07 - loss: 0.4003 - accuracy: 0.8944 - f1_score: 0.7673X shape = (42029, 13, 188)\n",
            "14/40 [=========>....................] - ETA: 6:48 - loss: 0.3999 - accuracy: 0.8944 - f1_score: 0.7674X shape = (41911, 13, 188)\n",
            "15/40 [==========>...................] - ETA: 6:29 - loss: 0.3995 - accuracy: 0.8945 - f1_score: 0.7677X shape = (42089, 13, 188)\n",
            "16/40 [===========>..................] - ETA: 6:11 - loss: 0.3991 - accuracy: 0.8945 - f1_score: 0.7679X shape = (7508, 13, 188)\n",
            "17/40 [===========>..................] - ETA: 5:37 - loss: 0.3990 - accuracy: 0.8945 - f1_score: 0.7679X shape = (41994, 13, 188)\n",
            "18/40 [============>.................] - ETA: 5:21 - loss: 0.3986 - accuracy: 0.8945 - f1_score: 0.7680X shape = (42037, 13, 188)\n",
            "19/40 [=============>................] - ETA: 5:06 - loss: 0.3980 - accuracy: 0.8947 - f1_score: 0.7685X shape = (42038, 13, 188)\n",
            "20/40 [==============>...............] - ETA: 4:50 - loss: 0.3974 - accuracy: 0.8949 - f1_score: 0.7690X shape = (42098, 13, 188)\n",
            "21/40 [==============>...............] - ETA: 4:35 - loss: 0.3969 - accuracy: 0.8950 - f1_score: 0.7691X shape = (42029, 13, 188)\n",
            "22/40 [===============>..............] - ETA: 4:19 - loss: 0.3965 - accuracy: 0.8950 - f1_score: 0.7693X shape = (41911, 13, 188)\n",
            "23/40 [================>.............] - ETA: 4:04 - loss: 0.3961 - accuracy: 0.8951 - f1_score: 0.7696X shape = (42089, 13, 188)\n",
            "24/40 [=================>............] - ETA: 3:50 - loss: 0.3957 - accuracy: 0.8952 - f1_score: 0.7698X shape = (7508, 13, 188)\n",
            "25/40 [=================>............] - ETA: 3:28 - loss: 0.3956 - accuracy: 0.8952 - f1_score: 0.7698X shape = (41994, 13, 188)\n",
            "26/40 [==================>...........] - ETA: 3:14 - loss: 0.3952 - accuracy: 0.8952 - f1_score: 0.7700X shape = (42037, 13, 188)\n",
            "27/40 [===================>..........] - ETA: 3:00 - loss: 0.3946 - accuracy: 0.8954 - f1_score: 0.7704X shape = (42038, 13, 188)\n",
            "28/40 [====================>.........] - ETA: 2:46 - loss: 0.3941 - accuracy: 0.8956 - f1_score: 0.7707X shape = (42098, 13, 188)\n",
            "29/40 [====================>.........] - ETA: 2:32 - loss: 0.3937 - accuracy: 0.8957 - f1_score: 0.7709X shape = (42029, 13, 188)\n",
            "30/40 [=====================>........] - ETA: 2:18 - loss: 0.3933 - accuracy: 0.8958 - f1_score: 0.7711X shape = (41911, 13, 188)\n",
            "31/40 [======================>.......] - ETA: 2:04 - loss: 0.3928 - accuracy: 0.8959 - f1_score: 0.7713X shape = (42089, 13, 188)\n",
            "32/40 [=======================>......] - ETA: 1:51 - loss: 0.3924 - accuracy: 0.8959 - f1_score: 0.7715X shape = (7508, 13, 188)\n",
            "33/40 [=======================>......] - ETA: 1:34 - loss: 0.3924 - accuracy: 0.8959 - f1_score: 0.7715X shape = (41994, 13, 188)\n",
            "34/40 [========================>.....] - ETA: 1:21 - loss: 0.3920 - accuracy: 0.8959 - f1_score: 0.7716X shape = (42037, 13, 188)\n",
            "35/40 [=========================>....] - ETA: 1:07 - loss: 0.3915 - accuracy: 0.8961 - f1_score: 0.7720X shape = (42038, 13, 188)\n",
            "36/40 [==========================>...] - ETA: 54s - loss: 0.3910 - accuracy: 0.8962 - f1_score: 0.7722 X shape = (42098, 13, 188)\n",
            "37/40 [==========================>...] - ETA: 40s - loss: 0.3905 - accuracy: 0.8963 - f1_score: 0.7724X shape = (42029, 13, 188)\n",
            "38/40 [===========================>..] - ETA: 27s - loss: 0.3902 - accuracy: 0.8963 - f1_score: 0.7725X shape = (41911, 13, 188)\n",
            "39/40 [============================>.] - ETA: 13s - loss: 0.3897 - accuracy: 0.8964 - f1_score: 0.7727X shape = (42089, 13, 188)\n",
            "40/40 [==============================] - 532s 14s/step - loss: 0.3894 - accuracy: 0.8964 - f1_score: 0.7729\n",
            "Epoch 4/5\n",
            "X shape = (7508, 13, 188)\n",
            " 1/40 [..............................] - ETA: 1:54 - loss: 0.3718 - accuracy: 0.9010 - f1_score: 0.7797X shape = (41994, 13, 188)\n",
            " 2/40 [>.............................] - ETA: 8:45 - loss: 0.3753 - accuracy: 0.8978 - f1_score: 0.7764X shape = (42037, 13, 188)\n",
            " 3/40 [=>............................] - ETA: 8:28 - loss: 0.3733 - accuracy: 0.8994 - f1_score: 0.7799X shape = (42038, 13, 188)\n",
            " 4/40 [==>...........................] - ETA: 8:14 - loss: 0.3725 - accuracy: 0.9001 - f1_score: 0.7812X shape = (42098, 13, 188)\n",
            " 5/40 [==>...........................] - ETA: 8:00 - loss: 0.3722 - accuracy: 0.8999 - f1_score: 0.7804X shape = (42029, 13, 188)\n",
            " 6/40 [===>..........................] - ETA: 7:50 - loss: 0.3723 - accuracy: 0.8995 - f1_score: 0.7800X shape = (41911, 13, 188)\n",
            " 7/40 [====>.........................] - ETA: 7:35 - loss: 0.3718 - accuracy: 0.8997 - f1_score: 0.7807X shape = (42089, 13, 188)\n",
            " 8/40 [=====>........................] - ETA: 7:20 - loss: 0.3717 - accuracy: 0.8997 - f1_score: 0.7810X shape = (7508, 13, 188)\n",
            " 9/40 [=====>........................] - ETA: 6:24 - loss: 0.3716 - accuracy: 0.8998 - f1_score: 0.7811X shape = (41994, 13, 188)\n",
            "10/40 [======>.......................] - ETA: 6:15 - loss: 0.3716 - accuracy: 0.8994 - f1_score: 0.7804X shape = (42037, 13, 188)\n",
            "11/40 [=======>......................] - ETA: 6:07 - loss: 0.3709 - accuracy: 0.8997 - f1_score: 0.7809X shape = (42038, 13, 188)\n",
            "12/40 [========>.....................] - ETA: 5:57 - loss: 0.3704 - accuracy: 0.8999 - f1_score: 0.7812X shape = (42098, 13, 188)\n",
            "13/40 [========>.....................] - ETA: 5:46 - loss: 0.3700 - accuracy: 0.9000 - f1_score: 0.7811X shape = (42029, 13, 188)\n",
            "14/40 [=========>....................] - ETA: 5:35 - loss: 0.3698 - accuracy: 0.8999 - f1_score: 0.7810X shape = (41911, 13, 188)\n",
            "15/40 [==========>...................] - ETA: 5:23 - loss: 0.3694 - accuracy: 0.9000 - f1_score: 0.7814X shape = (42089, 13, 188)\n",
            "16/40 [===========>..................] - ETA: 5:11 - loss: 0.3692 - accuracy: 0.9000 - f1_score: 0.7816X shape = (7508, 13, 188)\n",
            "17/40 [===========>..................] - ETA: 4:45 - loss: 0.3691 - accuracy: 0.9001 - f1_score: 0.7817X shape = (41994, 13, 188)\n",
            "18/40 [============>.................] - ETA: 4:34 - loss: 0.3689 - accuracy: 0.9000 - f1_score: 0.7815X shape = (42037, 13, 188)\n",
            "19/40 [=============>................] - ETA: 4:23 - loss: 0.3684 - accuracy: 0.9002 - f1_score: 0.7819X shape = (42038, 13, 188)\n",
            "20/40 [==============>...............] - ETA: 4:15 - loss: 0.3680 - accuracy: 0.9003 - f1_score: 0.7823X shape = (42098, 13, 188)\n",
            "21/40 [==============>...............] - ETA: 4:15 - loss: 0.3676 - accuracy: 0.9004 - f1_score: 0.7824X shape = (42029, 13, 188)\n",
            "22/40 [===============>..............] - ETA: 4:04 - loss: 0.3674 - accuracy: 0.9004 - f1_score: 0.7825X shape = (41911, 13, 188)\n",
            "23/40 [================>.............] - ETA: 3:51 - loss: 0.3670 - accuracy: 0.9005 - f1_score: 0.7827X shape = (42089, 13, 188)\n",
            "24/40 [=================>............] - ETA: 3:37 - loss: 0.3668 - accuracy: 0.9005 - f1_score: 0.7828X shape = (7508, 13, 188)\n",
            "25/40 [=================>............] - ETA: 3:17 - loss: 0.3667 - accuracy: 0.9005 - f1_score: 0.7828X shape = (41994, 13, 188)\n",
            "26/40 [==================>...........] - ETA: 3:04 - loss: 0.3665 - accuracy: 0.9005 - f1_score: 0.7827X shape = (42037, 13, 188)\n",
            "27/40 [===================>..........] - ETA: 2:51 - loss: 0.3661 - accuracy: 0.9006 - f1_score: 0.7830X shape = (42038, 13, 188)\n",
            "28/40 [====================>.........] - ETA: 2:38 - loss: 0.3657 - accuracy: 0.9007 - f1_score: 0.7832X shape = (42098, 13, 188)\n",
            "29/40 [====================>.........] - ETA: 2:25 - loss: 0.3653 - accuracy: 0.9007 - f1_score: 0.7832X shape = (42029, 13, 188)\n",
            "30/40 [=====================>........] - ETA: 2:12 - loss: 0.3651 - accuracy: 0.9007 - f1_score: 0.7832X shape = (41911, 13, 188)\n",
            "31/40 [======================>.......] - ETA: 1:59 - loss: 0.3647 - accuracy: 0.9008 - f1_score: 0.7834X shape = (42089, 13, 188)\n",
            "32/40 [=======================>......] - ETA: 1:46 - loss: 0.3645 - accuracy: 0.9007 - f1_score: 0.7834X shape = (7508, 13, 188)\n",
            "33/40 [=======================>......] - ETA: 1:30 - loss: 0.3644 - accuracy: 0.9008 - f1_score: 0.7834X shape = (41994, 13, 188)\n",
            "34/40 [========================>.....] - ETA: 1:18 - loss: 0.3642 - accuracy: 0.9007 - f1_score: 0.7833X shape = (42037, 13, 188)\n",
            "35/40 [=========================>....] - ETA: 1:05 - loss: 0.3638 - accuracy: 0.9008 - f1_score: 0.7837X shape = (42038, 13, 188)\n",
            "36/40 [==========================>...] - ETA: 52s - loss: 0.3634 - accuracy: 0.9009 - f1_score: 0.7839 X shape = (42098, 13, 188)\n",
            "37/40 [==========================>...] - ETA: 39s - loss: 0.3631 - accuracy: 0.9009 - f1_score: 0.7839X shape = (42029, 13, 188)\n",
            "38/40 [===========================>..] - ETA: 26s - loss: 0.3628 - accuracy: 0.9010 - f1_score: 0.7840X shape = (41911, 13, 188)\n",
            "39/40 [============================>.] - ETA: 13s - loss: 0.3625 - accuracy: 0.9010 - f1_score: 0.7841X shape = (42089, 13, 188)\n",
            "40/40 [==============================] - 516s 13s/step - loss: 0.3622 - accuracy: 0.9010 - f1_score: 0.7842\n",
            "Epoch 5/5\n",
            "X shape = (7508, 13, 188)\n",
            " 1/40 [..............................] - ETA: 1:53 - loss: 0.3480 - accuracy: 0.9074 - f1_score: 0.7943X shape = (41994, 13, 188)\n",
            " 2/40 [>.............................] - ETA: 8:32 - loss: 0.3520 - accuracy: 0.9014 - f1_score: 0.7843X shape = (42037, 13, 188)\n",
            " 3/40 [=>............................] - ETA: 8:18 - loss: 0.3500 - accuracy: 0.9028 - f1_score: 0.7875X shape = (42038, 13, 188)\n",
            " 4/40 [==>...........................] - ETA: 8:06 - loss: 0.3494 - accuracy: 0.9033 - f1_score: 0.7883X shape = (42098, 13, 188)\n",
            " 5/40 [==>...........................] - ETA: 7:54 - loss: 0.3493 - accuracy: 0.9031 - f1_score: 0.7877X shape = (42029, 13, 188)\n",
            " 6/40 [===>..........................] - ETA: 7:42 - loss: 0.3495 - accuracy: 0.9026 - f1_score: 0.7872X shape = (41911, 13, 188)\n",
            " 7/40 [====>.........................] - ETA: 7:29 - loss: 0.3490 - accuracy: 0.9028 - f1_score: 0.7878X shape = (42089, 13, 188)\n",
            " 8/40 [=====>........................] - ETA: 7:16 - loss: 0.3491 - accuracy: 0.9027 - f1_score: 0.7878X shape = (7508, 13, 188)\n",
            " 9/40 [=====>........................] - ETA: 6:22 - loss: 0.3490 - accuracy: 0.9027 - f1_score: 0.7879X shape = (41994, 13, 188)\n",
            "10/40 [======>.......................] - ETA: 6:14 - loss: 0.3490 - accuracy: 0.9024 - f1_score: 0.7873X shape = (42037, 13, 188)\n",
            "11/40 [=======>......................] - ETA: 6:04 - loss: 0.3485 - accuracy: 0.9027 - f1_score: 0.7880X shape = (42038, 13, 188)\n",
            "12/40 [========>.....................] - ETA: 5:54 - loss: 0.3480 - accuracy: 0.9029 - f1_score: 0.7884X shape = (42098, 13, 188)\n",
            "13/40 [========>.....................] - ETA: 5:42 - loss: 0.3477 - accuracy: 0.9029 - f1_score: 0.7883X shape = (42029, 13, 188)\n",
            "14/40 [=========>....................] - ETA: 5:31 - loss: 0.3476 - accuracy: 0.9028 - f1_score: 0.7883X shape = (41911, 13, 188)\n",
            "15/40 [==========>...................] - ETA: 5:20 - loss: 0.3473 - accuracy: 0.9029 - f1_score: 0.7886X shape = (42089, 13, 188)\n",
            "16/40 [===========>..................] - ETA: 5:08 - loss: 0.3472 - accuracy: 0.9028 - f1_score: 0.7885X shape = (7508, 13, 188)\n",
            "17/40 [===========>..................] - ETA: 4:41 - loss: 0.3471 - accuracy: 0.9029 - f1_score: 0.7885X shape = (41994, 13, 188)\n",
            "18/40 [============>.................] - ETA: 4:31 - loss: 0.3470 - accuracy: 0.9028 - f1_score: 0.7883X shape = (42037, 13, 188)\n",
            "19/40 [=============>................] - ETA: 4:20 - loss: 0.3466 - accuracy: 0.9029 - f1_score: 0.7886X shape = (42038, 13, 188)\n",
            "20/40 [==============>...............] - ETA: 4:09 - loss: 0.3462 - accuracy: 0.9031 - f1_score: 0.7889X shape = (42098, 13, 188)\n",
            "21/40 [==============>...............] - ETA: 3:57 - loss: 0.3460 - accuracy: 0.9031 - f1_score: 0.7888X shape = (42029, 13, 188)\n",
            "22/40 [===============>..............] - ETA: 3:45 - loss: 0.3458 - accuracy: 0.9030 - f1_score: 0.7889X shape = (41911, 13, 188)\n",
            "23/40 [================>.............] - ETA: 3:33 - loss: 0.3455 - accuracy: 0.9031 - f1_score: 0.7891X shape = (42089, 13, 188)\n",
            "24/40 [=================>............] - ETA: 3:21 - loss: 0.3453 - accuracy: 0.9031 - f1_score: 0.7891X shape = (7508, 13, 188)\n",
            "25/40 [=================>............] - ETA: 3:03 - loss: 0.3452 - accuracy: 0.9031 - f1_score: 0.7891X shape = (41994, 13, 188)\n",
            "26/40 [==================>...........] - ETA: 2:51 - loss: 0.3451 - accuracy: 0.9030 - f1_score: 0.7889X shape = (42037, 13, 188)\n",
            "27/40 [===================>..........] - ETA: 2:39 - loss: 0.3447 - accuracy: 0.9031 - f1_score: 0.7891X shape = (42038, 13, 188)\n",
            "28/40 [====================>.........] - ETA: 2:27 - loss: 0.3444 - accuracy: 0.9031 - f1_score: 0.7893X shape = (42098, 13, 188)\n",
            "29/40 [====================>.........] - ETA: 2:15 - loss: 0.3441 - accuracy: 0.9031 - f1_score: 0.7892X shape = (42029, 13, 188)\n",
            "30/40 [=====================>........] - ETA: 2:08 - loss: 0.3439 - accuracy: 0.9031 - f1_score: 0.7893X shape = (41911, 13, 188)\n",
            "31/40 [======================>.......] - ETA: 1:56 - loss: 0.3436 - accuracy: 0.9032 - f1_score: 0.7895X shape = (42089, 13, 188)\n",
            "32/40 [=======================>......] - ETA: 1:43 - loss: 0.3435 - accuracy: 0.9032 - f1_score: 0.7895X shape = (7508, 13, 188)\n",
            "33/40 [=======================>......] - ETA: 1:28 - loss: 0.3434 - accuracy: 0.9032 - f1_score: 0.7895X shape = (41994, 13, 188)\n",
            "34/40 [========================>.....] - ETA: 1:16 - loss: 0.3432 - accuracy: 0.9031 - f1_score: 0.7894X shape = (42037, 13, 188)\n",
            "35/40 [=========================>....] - ETA: 1:03 - loss: 0.3429 - accuracy: 0.9032 - f1_score: 0.7896X shape = (42038, 13, 188)\n",
            "36/40 [==========================>...] - ETA: 51s - loss: 0.3426 - accuracy: 0.9033 - f1_score: 0.7898 X shape = (42098, 13, 188)\n",
            "37/40 [==========================>...] - ETA: 38s - loss: 0.3423 - accuracy: 0.9033 - f1_score: 0.7897X shape = (42029, 13, 188)\n",
            "38/40 [===========================>..] - ETA: 25s - loss: 0.3421 - accuracy: 0.9033 - f1_score: 0.7898X shape = (41911, 13, 188)\n",
            "39/40 [============================>.] - ETA: 12s - loss: 0.3419 - accuracy: 0.9034 - f1_score: 0.7900X shape = (42089, 13, 188)\n",
            "40/40 [==============================] - 504s 13s/step - loss: 0.3417 - accuracy: 0.9034 - f1_score: 0.7900\n"
          ]
        },
        {
          "output_type": "execute_result",
          "data": {
            "text/plain": [
              "<keras.callbacks.History at 0x7f94f207ae90>"
            ]
          },
          "metadata": {},
          "execution_count": 24
        }
      ]
    },
    {
      "cell_type": "code",
      "source": [
        "val_files = listdir('/content/drive/MyDrive/amex-default-prediction/data/customer_val/')"
      ],
      "metadata": {
        "id": "ld4z-43avLyZ"
      },
      "execution_count": 25,
      "outputs": []
    },
    {
      "cell_type": "code",
      "source": [
        "def my_val_generator():\n",
        "    for f in val_files:      \n",
        "      X = pd.DataFrame()\n",
        "      Y = pd.DataFrame()\n",
        "      df_tmp = pd.read_parquet('/content/drive/MyDrive/amex-default-prediction/data/customer_val/' + f)\n",
        "      df_tmp = append_label(df_tmp)\n",
        "      enc = OrdinalEncoder(handle_unknown='use_encoded_value', unknown_value=-1)\n",
        "      df_tmp[['D_63', 'D_64']]=enc.fit(df_tmp[['D_63', 'D_64']])\n",
        "\n",
        "      df_tmp[['D_63', 'D_64']]=enc.transform(df_tmp[['D_63', 'D_64']])\n",
        "      df_tmp.fillna(0, inplace=True)\n",
        "\n",
        "      X= X.append(df_tmp.loc[:, ~df_tmp.columns.isin(['target'])])\n",
        "      X = X[X.groupby('customer_ID')['customer_ID'].transform('count') == 13]\n",
        "      X_Cust = pd.DataFrame(X['customer_ID'].unique(), columns=['customer_ID'])\n",
        "      Y = pd.merge(left=X_Cust, right=train_labels, how='inner')\n",
        "      X.drop(axis=1, columns=['customer_ID', 'S_2'], inplace=True)\n",
        "      X = X.values.reshape(X_Cust.shape[0], 13, 188)\n",
        "      Y.drop(axis=1, columns='customer_ID', inplace=True)\n",
        "      print(f'X shape = {X.shape}')\n",
        "      yield X, Y.to_numpy()"
      ],
      "metadata": {
        "id": "fE0DAIxmxX21"
      },
      "execution_count": 26,
      "outputs": []
    },
    {
      "cell_type": "code",
      "source": [
        "def my_val_input_fn():\n",
        "    dataset = tf.data.Dataset.from_generator(lambda: my_val_generator(),\n",
        "                                             output_types=(tf.float64, tf.int64),\n",
        "                                            output_shapes=(tf.TensorShape([None, 13, 188]), tf.TensorShape([None, 1])))\n",
        "\n",
        "    # dataset = dataset.repeat(epochs)\n",
        "    # dataset = dataset.batch(32)\n",
        "    return dataset"
      ],
      "metadata": {
        "id": "Dl99Wtsqxeez"
      },
      "execution_count": 27,
      "outputs": []
    },
    {
      "cell_type": "code",
      "source": [
        "val_dataset = my_val_input_fn()\n",
        "model.evaluate(val_dataset)"
      ],
      "metadata": {
        "colab": {
          "base_uri": "https://localhost:8080/"
        },
        "id": "ILKHw4zBxqMP",
        "outputId": "2171ce45-dbad-46d3-8cc0-47cdcf723cd0"
      },
      "execution_count": 28,
      "outputs": [
        {
          "output_type": "stream",
          "name": "stdout",
          "text": [
            "X shape = (42194, 13, 188)\n",
            "1/1 [==============================] - 15s 15s/step - loss: 0.3305 - accuracy: 0.9054 - f1_score: 0.7941\n"
          ]
        },
        {
          "output_type": "execute_result",
          "data": {
            "text/plain": [
              "[0.33052611351013184, 0.9054368138313293, array([0.7940964], dtype=float32)]"
            ]
          },
          "metadata": {},
          "execution_count": 28
        }
      ]
    },
    {
      "cell_type": "code",
      "source": [
        "y_pred = (model.predict(val_dataset) > 0.5).astype(\"int32\")"
      ],
      "metadata": {
        "id": "M8HXFr2AyA6E"
      },
      "execution_count": null,
      "outputs": []
    },
    {
      "cell_type": "code",
      "source": [
        "f1_score(val_dataset[1], y_pred)"
      ],
      "metadata": {
        "id": "SEesOLQpdXb6"
      },
      "execution_count": null,
      "outputs": []
    }
  ]
}