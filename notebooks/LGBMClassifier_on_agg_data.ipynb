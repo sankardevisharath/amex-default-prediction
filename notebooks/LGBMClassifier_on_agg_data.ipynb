{
  "cells": [
    {
      "cell_type": "markdown",
      "metadata": {
        "id": "view-in-github",
        "colab_type": "text"
      },
      "source": [
        "<a href=\"https://colab.research.google.com/github/sankardevisharath/amex-default-prediction/blob/master/notebooks/LGBMClassifier_on_agg_data.ipynb\" target=\"_parent\"><img src=\"https://colab.research.google.com/assets/colab-badge.svg\" alt=\"Open In Colab\"/></a>"
      ]
    },
    {
      "cell_type": "code",
      "execution_count": 1,
      "metadata": {
        "id": "nx_k17C4dJpj"
      },
      "outputs": [],
      "source": [
        "import gc \n",
        "\n",
        "import numpy as np\n",
        "import pandas as pd\n",
        "import lightgbm as gbm\n",
        "from sklearn.preprocessing import OrdinalEncoder\n",
        "from sklearn.model_selection import train_test_split\n",
        "from sklearn.metrics import confusion_matrix\n",
        "from sklearn.metrics import f1_score"
      ]
    },
    {
      "cell_type": "code",
      "execution_count": 2,
      "metadata": {
        "id": "AUrNOiSyZ3NT"
      },
      "outputs": [],
      "source": [
        "df = pd.read_parquet(path='/content/drive/MyDrive/amex-default-prediction/data/aggr/customer-agg.parquet')"
      ]
    },
    {
      "cell_type": "code",
      "execution_count": 3,
      "metadata": {
        "colab": {
          "base_uri": "https://localhost:8080/"
        },
        "id": "X4fUCrbFaZdc",
        "outputId": "e8c7e1e2-67e5-445c-ee46-8cbdfc62e4c5"
      },
      "outputs": [
        {
          "output_type": "stream",
          "name": "stdout",
          "text": [
            "<class 'pandas.core.frame.DataFrame'>\n",
            "Int64Index: 458913 entries, 0 to 458912\n",
            "Columns: 920 entries, customer_ID to target\n",
            "dtypes: float64(891), int64(26), object(3)\n",
            "memory usage: 3.1+ GB\n"
          ]
        }
      ],
      "source": [
        "df.info()"
      ]
    },
    {
      "cell_type": "code",
      "execution_count": 4,
      "metadata": {
        "colab": {
          "base_uri": "https://localhost:8080/"
        },
        "id": "PIDBW09DahOq",
        "outputId": "d23f92dd-5da2-476a-cfef-4d36e2f8d0e6"
      },
      "outputs": [
        {
          "output_type": "execute_result",
          "data": {
            "text/plain": [
              "customer_ID    object\n",
              "D_63_last      object\n",
              "D_64_last      object\n",
              "dtype: object"
            ]
          },
          "metadata": {},
          "execution_count": 4
        }
      ],
      "source": [
        "columns = df.head().dtypes\n",
        "columns[columns==object]\n"
      ]
    },
    {
      "cell_type": "code",
      "execution_count": 5,
      "metadata": {
        "id": "IdDL1GU3gPxH"
      },
      "outputs": [],
      "source": [
        "cat_cols = ['D_63', 'D_64','B_30', 'B_38', 'D_114', 'D_116', 'D_117', 'D_120', 'D_126', 'D_66', 'D_68']\n",
        "TRAIN_LABELS_PATH = '/content/train_labels.csv'"
      ]
    },
    {
      "cell_type": "code",
      "execution_count": 6,
      "metadata": {
        "id": "Ivmf5DcQc6tP"
      },
      "outputs": [],
      "source": [
        "X = pd.DataFrame()\n",
        "Y = pd.DataFrame()\n",
        "\n",
        "enc = OrdinalEncoder(handle_unknown='use_encoded_value', unknown_value=-1)\n",
        "df[['D_63_last', 'D_64_last']]=enc.fit(df[['D_63_last', 'D_64_last']])\n",
        "df[['D_63_last', 'D_64_last']]=enc.transform(df[['D_63_last', 'D_64_last']])\n",
        "df.fillna(0, inplace=True)\n",
        "X= X.append(df.loc[:, ~df.columns.isin(['customer_ID', 'target'])])\n",
        "Y = Y.append(df.loc[:, df.columns == 'target'])"
      ]
    },
    {
      "cell_type": "code",
      "execution_count": 7,
      "metadata": {
        "id": "1R7fzQ4ueFRI"
      },
      "outputs": [],
      "source": [
        " X_train, X_test, y_train, y_test = train_test_split(X, Y, test_size=0.2)"
      ]
    },
    {
      "cell_type": "code",
      "execution_count": 8,
      "metadata": {
        "colab": {
          "base_uri": "https://localhost:8080/"
        },
        "id": "-T0WHRL6qP6j",
        "outputId": "3929c1ea-cf6d-4d5d-d97c-f2a1e3fa3200"
      },
      "outputs": [
        {
          "output_type": "execute_result",
          "data": {
            "text/plain": [
              "202"
            ]
          },
          "metadata": {},
          "execution_count": 8
        }
      ],
      "source": [
        "gc.collect()"
      ]
    },
    {
      "cell_type": "code",
      "execution_count": 9,
      "metadata": {
        "id": "OFhJ34_GqSXX"
      },
      "outputs": [],
      "source": [
        "del X, Y"
      ]
    },
    {
      "cell_type": "code",
      "execution_count": 10,
      "metadata": {
        "colab": {
          "base_uri": "https://localhost:8080/"
        },
        "id": "xfMZBQqUqVd3",
        "outputId": "787ef09f-40b9-4b4b-9356-3e777dc269b7"
      },
      "outputs": [
        {
          "output_type": "execute_result",
          "data": {
            "text/plain": [
              "100"
            ]
          },
          "metadata": {},
          "execution_count": 10
        }
      ],
      "source": [
        "gc.collect()"
      ]
    },
    {
      "cell_type": "code",
      "execution_count": 19,
      "metadata": {
        "id": "nvz7kcD8frrt"
      },
      "outputs": [],
      "source": [
        "#clf = gbm.LGBMClassifier(subsample=0.8, colsample_bytree=0.6)\n",
        "clf = gbm.LGBMClassifier()"
      ]
    },
    {
      "cell_type": "code",
      "execution_count": 20,
      "metadata": {
        "colab": {
          "base_uri": "https://localhost:8080/"
        },
        "id": "d-Ho-fcIf3vw",
        "outputId": "edbbbf11-7a89-4e0f-99e1-4aa53dd72fb5"
      },
      "outputs": [
        {
          "output_type": "execute_result",
          "data": {
            "text/plain": [
              "LGBMClassifier()"
            ]
          },
          "metadata": {},
          "execution_count": 20
        }
      ],
      "source": [
        "clf.fit(X_train, y_train.values.ravel())"
      ]
    },
    {
      "cell_type": "code",
      "execution_count": 21,
      "metadata": {
        "colab": {
          "base_uri": "https://localhost:8080/"
        },
        "id": "ibJJW5MSTYwU",
        "outputId": "d7841419-94aa-4306-e46f-a8361fbc8c9b"
      },
      "outputs": [
        {
          "output_type": "execute_result",
          "data": {
            "text/plain": [
              "0.9011581665450029"
            ]
          },
          "metadata": {},
          "execution_count": 21
        }
      ],
      "source": [
        "clf.score(X_test, y_test)"
      ]
    },
    {
      "cell_type": "code",
      "execution_count": 22,
      "metadata": {
        "colab": {
          "base_uri": "https://localhost:8080/"
        },
        "id": "NGMAsrrtTcWy",
        "outputId": "1030faad-fd16-42a5-d13b-7bd58a5d52d0"
      },
      "outputs": [
        {
          "output_type": "execute_result",
          "data": {
            "text/plain": [
              "{'boosting_type': 'gbdt',\n",
              " 'class_weight': None,\n",
              " 'colsample_bytree': 1.0,\n",
              " 'importance_type': 'split',\n",
              " 'learning_rate': 0.1,\n",
              " 'max_depth': -1,\n",
              " 'min_child_samples': 20,\n",
              " 'min_child_weight': 0.001,\n",
              " 'min_split_gain': 0.0,\n",
              " 'n_estimators': 100,\n",
              " 'n_jobs': -1,\n",
              " 'num_leaves': 31,\n",
              " 'objective': None,\n",
              " 'random_state': None,\n",
              " 'reg_alpha': 0.0,\n",
              " 'reg_lambda': 0.0,\n",
              " 'silent': True,\n",
              " 'subsample': 1.0,\n",
              " 'subsample_for_bin': 200000,\n",
              " 'subsample_freq': 0}"
            ]
          },
          "metadata": {},
          "execution_count": 22
        }
      ],
      "source": [
        "clf.get_params()"
      ]
    },
    {
      "cell_type": "code",
      "execution_count": 23,
      "metadata": {
        "id": "rEZ7WJg-ri_c"
      },
      "outputs": [],
      "source": [
        "y_pred = clf.predict(X_test)"
      ]
    },
    {
      "cell_type": "code",
      "execution_count": 24,
      "metadata": {
        "id": "VpDuIcwcr-rn"
      },
      "outputs": [],
      "source": [
        "tn, fp, fn, tp = confusion_matrix(y_test, y_pred).ravel()"
      ]
    },
    {
      "cell_type": "code",
      "execution_count": 25,
      "metadata": {
        "colab": {
          "base_uri": "https://localhost:8080/"
        },
        "id": "EegTKc03sL4F",
        "outputId": "bfcbaafc-68e9-421a-e2a2-4f188250d260"
      },
      "outputs": [
        {
          "output_type": "execute_result",
          "data": {
            "text/plain": [
              "(63517, 4603, 4469, 19194)"
            ]
          },
          "metadata": {},
          "execution_count": 25
        }
      ],
      "source": [
        "tn, fp, fn, tp"
      ]
    },
    {
      "cell_type": "code",
      "execution_count": 26,
      "metadata": {
        "colab": {
          "base_uri": "https://localhost:8080/"
        },
        "id": "0h4Ph6YMsi_L",
        "outputId": "7933c95e-7a24-40ef-b27e-9085d0e8d7ae"
      },
      "outputs": [
        {
          "output_type": "execute_result",
          "data": {
            "text/plain": [
              "0.808849557522124"
            ]
          },
          "metadata": {},
          "execution_count": 26
        }
      ],
      "source": [
        "f1_score(y_test, y_pred)"
      ]
    },
    {
      "cell_type": "code",
      "source": [
        ""
      ],
      "metadata": {
        "id": "8oP9Zx1kNZjY"
      },
      "execution_count": null,
      "outputs": []
    }
  ],
  "metadata": {
    "colab": {
      "collapsed_sections": [],
      "machine_shape": "hm",
      "name": "LGBMClassifier_on_agg_data.ipynb",
      "provenance": [],
      "mount_file_id": "1UZ5hG65FSTMeSvw3_tXPhXy0DfdK9gA-",
      "authorship_tag": "ABX9TyPpih/rb5u4oph0A1JLyRPq",
      "include_colab_link": true
    },
    "gpuClass": "standard",
    "kernelspec": {
      "display_name": "Python 3",
      "name": "python3"
    },
    "language_info": {
      "name": "python"
    }
  },
  "nbformat": 4,
  "nbformat_minor": 0
}