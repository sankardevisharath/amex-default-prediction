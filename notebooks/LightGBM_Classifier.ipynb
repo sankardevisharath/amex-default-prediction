{
  "nbformat": 4,
  "nbformat_minor": 0,
  "metadata": {
    "colab": {
      "name": "LightGBM_Classifier.ipynb",
      "provenance": [],
      "collapsed_sections": [],
      "mount_file_id": "1Pn19jrIeJHh2T1XkbkmN_6yYXB5hClU9",
      "authorship_tag": "ABX9TyOUnunEioxTbfu+5Uh809lD",
      "include_colab_link": true
    },
    "kernelspec": {
      "name": "python3",
      "display_name": "Python 3"
    },
    "language_info": {
      "name": "python"
    },
    "gpuClass": "standard"
  },
  "cells": [
    {
      "cell_type": "markdown",
      "metadata": {
        "id": "view-in-github",
        "colab_type": "text"
      },
      "source": [
        "<a href=\"https://colab.research.google.com/github/sankardevisharath/amex-default-prediction/blob/master/notebooks/LightGBM_Classifier.ipynb\" target=\"_parent\"><img src=\"https://colab.research.google.com/assets/colab-badge.svg\" alt=\"Open In Colab\"/></a>"
      ]
    },
    {
      "cell_type": "code",
      "source": [
        "%mkdir data\n",
        "%cd data\n",
        "%mkdir raw\n",
        "%cd raw"
      ],
      "metadata": {
        "colab": {
          "base_uri": "https://localhost:8080/"
        },
        "id": "W0Rc30dzaoDG",
        "outputId": "24ada6f2-7b75-4f84-92a8-ad4cb0e39a2e"
      },
      "execution_count": 1,
      "outputs": [
        {
          "output_type": "stream",
          "name": "stdout",
          "text": [
            "/content/data\n",
            "/content/data/raw\n"
          ]
        }
      ]
    },
    {
      "cell_type": "code",
      "source": [
        "!cp /content/drive/MyDrive/amex-default-prediction/data/raw/data_2017-03.parquet /content/data/raw/"
      ],
      "metadata": {
        "id": "b7JL1oqtbITI"
      },
      "execution_count": 2,
      "outputs": []
    },
    {
      "cell_type": "code",
      "source": [
        "!unzip /content/drive/MyDrive/amex-default-prediction/data/amex-default-prediction.zip train_labels.csv"
      ],
      "metadata": {
        "colab": {
          "base_uri": "https://localhost:8080/"
        },
        "id": "AUujDoaqb9WE",
        "outputId": "12cecdad-2723-49bf-cc7b-a76891a5f88a"
      },
      "execution_count": 3,
      "outputs": [
        {
          "output_type": "stream",
          "name": "stdout",
          "text": [
            "Archive:  /content/drive/MyDrive/amex-default-prediction/data/amex-default-prediction.zip\n",
            "  inflating: train_labels.csv        \n"
          ]
        }
      ]
    },
    {
      "cell_type": "code",
      "source": [
        "import numpy as np\n",
        "import pandas as pd"
      ],
      "metadata": {
        "id": "Y8fWbGijay2g"
      },
      "execution_count": 4,
      "outputs": []
    },
    {
      "cell_type": "code",
      "source": [
        "TRAIN_DATA_PATH = '/content/data/raw/data_2017-03.parquet'\n",
        "TRAIN_LABELS_PATH = '/content/data/raw/train_labels.csv'"
      ],
      "metadata": {
        "id": "byaEihizbSBF"
      },
      "execution_count": 5,
      "outputs": []
    },
    {
      "cell_type": "code",
      "source": [
        "df = pd.read_parquet(TRAIN_DATA_PATH)"
      ],
      "metadata": {
        "id": "Zgh2JRu1a-Wa"
      },
      "execution_count": 6,
      "outputs": []
    },
    {
      "cell_type": "code",
      "source": [
        "df.info()"
      ],
      "metadata": {
        "colab": {
          "base_uri": "https://localhost:8080/"
        },
        "id": "8OYA3JufbaoU",
        "outputId": "0dd550ee-18de-4a9a-d5ce-473b27ce462c"
      },
      "execution_count": 7,
      "outputs": [
        {
          "output_type": "stream",
          "name": "stdout",
          "text": [
            "<class 'pandas.core.frame.DataFrame'>\n",
            "RangeIndex: 395630 entries, 0 to 395629\n",
            "Columns: 190 entries, customer_ID to D_145\n",
            "dtypes: datetime64[ns](1), float64(185), int64(1), object(3)\n",
            "memory usage: 573.5+ MB\n"
          ]
        }
      ]
    },
    {
      "cell_type": "code",
      "source": [
        "df['customer_ID'].nunique()"
      ],
      "metadata": {
        "colab": {
          "base_uri": "https://localhost:8080/"
        },
        "id": "9_FnjzUlbelH",
        "outputId": "a9f039ff-44c5-4f6c-d85f-4e3d44353312"
      },
      "execution_count": 8,
      "outputs": [
        {
          "output_type": "execute_result",
          "data": {
            "text/plain": [
              "395630"
            ]
          },
          "metadata": {},
          "execution_count": 8
        }
      ]
    },
    {
      "cell_type": "code",
      "source": [
        "def read_cols(cols):\n",
        "  df = pd.read_csv(TRAIN_DATA_PATH, usecols=cols)\n",
        "  df = append_label(df)\n",
        "  return df\n",
        "\n",
        "def append_label(source_df):\n",
        "  return pd.merge(left=source_df, right=train_labels, how='inner')"
      ],
      "metadata": {
        "id": "2ME4Pv_WcbH9"
      },
      "execution_count": 9,
      "outputs": []
    },
    {
      "cell_type": "code",
      "source": [
        "train_labels = pd.read_csv(TRAIN_LABELS_PATH)"
      ],
      "metadata": {
        "id": "BWZfLXUSbg48"
      },
      "execution_count": 10,
      "outputs": []
    },
    {
      "cell_type": "code",
      "source": [
        "df = append_label(df)"
      ],
      "metadata": {
        "id": "Ac0WZqH6cYWV"
      },
      "execution_count": 11,
      "outputs": []
    },
    {
      "cell_type": "code",
      "source": [
        "df.info()"
      ],
      "metadata": {
        "colab": {
          "base_uri": "https://localhost:8080/"
        },
        "id": "u_JAawL8chcu",
        "outputId": "759bc692-b528-468a-e910-13c467a230fc"
      },
      "execution_count": 12,
      "outputs": [
        {
          "output_type": "stream",
          "name": "stdout",
          "text": [
            "<class 'pandas.core.frame.DataFrame'>\n",
            "Int64Index: 395630 entries, 0 to 395629\n",
            "Columns: 191 entries, customer_ID to target\n",
            "dtypes: datetime64[ns](1), float64(185), int64(2), object(3)\n",
            "memory usage: 579.5+ MB\n"
          ]
        }
      ]
    },
    {
      "cell_type": "code",
      "source": [
        "cat_cols = ['D_63', 'D_64','B_30', 'B_38', 'D_114', 'D_116', 'D_117', 'D_120', 'D_126', 'D_66', 'D_68']"
      ],
      "metadata": {
        "id": "AZ4bNcHvwzUj"
      },
      "execution_count": 13,
      "outputs": []
    },
    {
      "cell_type": "code",
      "source": [
        "df[cat_cols].isnull().sum() "
      ],
      "metadata": {
        "colab": {
          "base_uri": "https://localhost:8080/"
        },
        "id": "_sCtItsou-lC",
        "outputId": "954c577d-8439-4668-cf7b-ff35e669fdf8"
      },
      "execution_count": 14,
      "outputs": [
        {
          "output_type": "execute_result",
          "data": {
            "text/plain": [
              "D_63          0\n",
              "D_64      24578\n",
              "B_30        199\n",
              "B_38        199\n",
              "D_114     14105\n",
              "D_116     14105\n",
              "D_117     14105\n",
              "D_120     14105\n",
              "D_126     14105\n",
              "D_66     352773\n",
              "D_68      24578\n",
              "dtype: int64"
            ]
          },
          "metadata": {},
          "execution_count": 14
        }
      ]
    },
    {
      "cell_type": "code",
      "source": [
        "df[cat_cols].info()"
      ],
      "metadata": {
        "colab": {
          "base_uri": "https://localhost:8080/"
        },
        "id": "nEsCYkkRxFkE",
        "outputId": "8768394a-6fc7-4cad-ea04-0582f153f24e"
      },
      "execution_count": 15,
      "outputs": [
        {
          "output_type": "stream",
          "name": "stdout",
          "text": [
            "<class 'pandas.core.frame.DataFrame'>\n",
            "Int64Index: 395630 entries, 0 to 395629\n",
            "Data columns (total 11 columns):\n",
            " #   Column  Non-Null Count   Dtype  \n",
            "---  ------  --------------   -----  \n",
            " 0   D_63    395630 non-null  object \n",
            " 1   D_64    371052 non-null  object \n",
            " 2   B_30    395431 non-null  float64\n",
            " 3   B_38    395431 non-null  float64\n",
            " 4   D_114   381525 non-null  float64\n",
            " 5   D_116   381525 non-null  float64\n",
            " 6   D_117   381525 non-null  float64\n",
            " 7   D_120   381525 non-null  float64\n",
            " 8   D_126   381525 non-null  float64\n",
            " 9   D_66    42857 non-null   float64\n",
            " 10  D_68    371052 non-null  float64\n",
            "dtypes: float64(9), object(2)\n",
            "memory usage: 36.2+ MB\n"
          ]
        }
      ]
    },
    {
      "cell_type": "code",
      "source": [
        "from sklearn.preprocessing import OrdinalEncoder"
      ],
      "metadata": {
        "id": "ag13WsKHxY71"
      },
      "execution_count": 16,
      "outputs": []
    },
    {
      "cell_type": "code",
      "source": [
        " enc = OrdinalEncoder(handle_unknown='use_encoded_value', unknown_value=-1)"
      ],
      "metadata": {
        "id": "wDLy4ijTzteZ"
      },
      "execution_count": 17,
      "outputs": []
    },
    {
      "cell_type": "code",
      "source": [
        "df[['D_63', 'D_64']]=enc.fit_transform(df[['D_63', 'D_64']])"
      ],
      "metadata": {
        "id": "mMkHgCJexZ9g"
      },
      "execution_count": 18,
      "outputs": []
    },
    {
      "cell_type": "code",
      "source": [
        "enc.categories_"
      ],
      "metadata": {
        "colab": {
          "base_uri": "https://localhost:8080/"
        },
        "id": "njmYRGbu4NZ9",
        "outputId": "b9e2fb13-fbdd-4c2f-861c-6f4aacb29191"
      },
      "execution_count": 19,
      "outputs": [
        {
          "output_type": "execute_result",
          "data": {
            "text/plain": [
              "[array(['CL', 'CO', 'CR', 'XL', 'XM', 'XZ'], dtype=object),\n",
              " array(['-1', 'O', 'R', 'U', None], dtype=object)]"
            ]
          },
          "metadata": {},
          "execution_count": 19
        }
      ]
    },
    {
      "cell_type": "code",
      "source": [
        "df[cat_cols].info()"
      ],
      "metadata": {
        "colab": {
          "base_uri": "https://localhost:8080/"
        },
        "id": "B0ZGlVFI59o9",
        "outputId": "2b82e70b-2258-443d-9e62-4cab3f0ee498"
      },
      "execution_count": 20,
      "outputs": [
        {
          "output_type": "stream",
          "name": "stdout",
          "text": [
            "<class 'pandas.core.frame.DataFrame'>\n",
            "Int64Index: 395630 entries, 0 to 395629\n",
            "Data columns (total 11 columns):\n",
            " #   Column  Non-Null Count   Dtype  \n",
            "---  ------  --------------   -----  \n",
            " 0   D_63    395630 non-null  float64\n",
            " 1   D_64    395630 non-null  float64\n",
            " 2   B_30    395431 non-null  float64\n",
            " 3   B_38    395431 non-null  float64\n",
            " 4   D_114   381525 non-null  float64\n",
            " 5   D_116   381525 non-null  float64\n",
            " 6   D_117   381525 non-null  float64\n",
            " 7   D_120   381525 non-null  float64\n",
            " 8   D_126   381525 non-null  float64\n",
            " 9   D_66    42857 non-null   float64\n",
            " 10  D_68    371052 non-null  float64\n",
            "dtypes: float64(11)\n",
            "memory usage: 36.2 MB\n"
          ]
        }
      ]
    },
    {
      "cell_type": "code",
      "source": [
        "df.info()"
      ],
      "metadata": {
        "colab": {
          "base_uri": "https://localhost:8080/"
        },
        "id": "FudO8S9-6JVx",
        "outputId": "8fe65924-a011-4f92-bac5-acfd59e500b7"
      },
      "execution_count": 21,
      "outputs": [
        {
          "output_type": "stream",
          "name": "stdout",
          "text": [
            "<class 'pandas.core.frame.DataFrame'>\n",
            "Int64Index: 395630 entries, 0 to 395629\n",
            "Columns: 191 entries, customer_ID to target\n",
            "dtypes: datetime64[ns](1), float64(187), int64(2), object(1)\n",
            "memory usage: 579.5+ MB\n"
          ]
        }
      ]
    },
    {
      "cell_type": "code",
      "source": [
        "df.fillna(0, inplace=True)"
      ],
      "metadata": {
        "id": "rBzLbGkpvgUF"
      },
      "execution_count": 22,
      "outputs": []
    },
    {
      "cell_type": "code",
      "source": [
        "df[cat_cols].info()"
      ],
      "metadata": {
        "colab": {
          "base_uri": "https://localhost:8080/"
        },
        "id": "ZtgsdKgf6DiT",
        "outputId": "9d0d7145-5c71-44cc-b7dc-c030730457be"
      },
      "execution_count": 23,
      "outputs": [
        {
          "output_type": "stream",
          "name": "stdout",
          "text": [
            "<class 'pandas.core.frame.DataFrame'>\n",
            "Int64Index: 395630 entries, 0 to 395629\n",
            "Data columns (total 11 columns):\n",
            " #   Column  Non-Null Count   Dtype  \n",
            "---  ------  --------------   -----  \n",
            " 0   D_63    395630 non-null  float64\n",
            " 1   D_64    395630 non-null  float64\n",
            " 2   B_30    395630 non-null  float64\n",
            " 3   B_38    395630 non-null  float64\n",
            " 4   D_114   395630 non-null  float64\n",
            " 5   D_116   395630 non-null  float64\n",
            " 6   D_117   395630 non-null  float64\n",
            " 7   D_120   395630 non-null  float64\n",
            " 8   D_126   395630 non-null  float64\n",
            " 9   D_66    395630 non-null  float64\n",
            " 10  D_68    395630 non-null  float64\n",
            "dtypes: float64(11)\n",
            "memory usage: 36.2 MB\n"
          ]
        }
      ]
    },
    {
      "cell_type": "code",
      "source": [
        "from sklearn.model_selection import train_test_split\n"
      ],
      "metadata": {
        "id": "-iju3vb6dlxb"
      },
      "execution_count": 24,
      "outputs": []
    },
    {
      "cell_type": "code",
      "source": [
        "X = df.loc[:, ~df.columns.isin(['customer_ID', 'S_2', 'target'])]\n",
        "X.info()"
      ],
      "metadata": {
        "colab": {
          "base_uri": "https://localhost:8080/"
        },
        "id": "Ob3EnpsyebHH",
        "outputId": "4f923875-0b05-4a8c-8be4-356b8b157d44"
      },
      "execution_count": 25,
      "outputs": [
        {
          "output_type": "stream",
          "name": "stdout",
          "text": [
            "<class 'pandas.core.frame.DataFrame'>\n",
            "Int64Index: 395630 entries, 0 to 395629\n",
            "Columns: 188 entries, P_2 to D_145\n",
            "dtypes: float64(187), int64(1)\n",
            "memory usage: 570.5 MB\n"
          ]
        }
      ]
    },
    {
      "cell_type": "code",
      "source": [
        "Y = df.loc[:, df.columns == 'target']\n",
        "Y.info()"
      ],
      "metadata": {
        "colab": {
          "base_uri": "https://localhost:8080/"
        },
        "id": "OONywPXBfKJ9",
        "outputId": "ab029dbb-a8a2-4503-8b37-380af9fa7b5a"
      },
      "execution_count": 26,
      "outputs": [
        {
          "output_type": "stream",
          "name": "stdout",
          "text": [
            "<class 'pandas.core.frame.DataFrame'>\n",
            "Int64Index: 395630 entries, 0 to 395629\n",
            "Data columns (total 1 columns):\n",
            " #   Column  Non-Null Count   Dtype\n",
            "---  ------  --------------   -----\n",
            " 0   target  395630 non-null  int64\n",
            "dtypes: int64(1)\n",
            "memory usage: 6.0 MB\n"
          ]
        }
      ]
    },
    {
      "cell_type": "code",
      "source": [
        " X_train, X_test, y_train, y_test = train_test_split(X, Y, test_size=0.2)"
      ],
      "metadata": {
        "id": "1R7fzQ4ueFRI"
      },
      "execution_count": 27,
      "outputs": []
    },
    {
      "cell_type": "code",
      "source": [
        "X_train.shape"
      ],
      "metadata": {
        "colab": {
          "base_uri": "https://localhost:8080/"
        },
        "id": "l511GD9nfefW",
        "outputId": "9418f1fb-7799-4684-80f4-03d93b27fbe6"
      },
      "execution_count": 28,
      "outputs": [
        {
          "output_type": "execute_result",
          "data": {
            "text/plain": [
              "(316504, 188)"
            ]
          },
          "metadata": {},
          "execution_count": 28
        }
      ]
    },
    {
      "cell_type": "code",
      "source": [
        "X_test.shape"
      ],
      "metadata": {
        "colab": {
          "base_uri": "https://localhost:8080/"
        },
        "id": "EIIRyKBMfg9K",
        "outputId": "53b69b2f-4ca9-43f8-905a-75acebabcea7"
      },
      "execution_count": 29,
      "outputs": [
        {
          "output_type": "execute_result",
          "data": {
            "text/plain": [
              "(79126, 188)"
            ]
          },
          "metadata": {},
          "execution_count": 29
        }
      ]
    },
    {
      "cell_type": "code",
      "source": [
        "import lightgbm as gbm"
      ],
      "metadata": {
        "id": "1YRRtDnSfi_q"
      },
      "execution_count": 30,
      "outputs": []
    },
    {
      "cell_type": "code",
      "source": [
        "gbc = gbm.LGBMClassifier()"
      ],
      "metadata": {
        "id": "nvz7kcD8frrt"
      },
      "execution_count": 32,
      "outputs": []
    },
    {
      "cell_type": "code",
      "source": [
        "gbc.fit(X_train, y_train.values.ravel())"
      ],
      "metadata": {
        "id": "d-Ho-fcIf3vw",
        "colab": {
          "base_uri": "https://localhost:8080/"
        },
        "outputId": "f20036bc-7b89-4b4d-891b-502c3eb1e690"
      },
      "execution_count": 33,
      "outputs": [
        {
          "output_type": "execute_result",
          "data": {
            "text/plain": [
              "LGBMClassifier()"
            ]
          },
          "metadata": {},
          "execution_count": 33
        }
      ]
    },
    {
      "cell_type": "code",
      "source": [
        "y_pred = gbc.predict(X_test)"
      ],
      "metadata": {
        "id": "2k1ZXCnMIRgg"
      },
      "execution_count": 34,
      "outputs": []
    },
    {
      "cell_type": "code",
      "source": [
        "gbc.score(X_test, y_test)"
      ],
      "metadata": {
        "colab": {
          "base_uri": "https://localhost:8080/"
        },
        "id": "aTUufbahrMZ8",
        "outputId": "5e61dd80-3740-4b2c-e5ad-acbfc98cb826"
      },
      "execution_count": 35,
      "outputs": [
        {
          "output_type": "execute_result",
          "data": {
            "text/plain": [
              "0.8640522710613452"
            ]
          },
          "metadata": {},
          "execution_count": 35
        }
      ]
    },
    {
      "cell_type": "code",
      "source": [
        "from sklearn.metrics import confusion_matrix\n",
        "from sklearn.metrics import f1_score"
      ],
      "metadata": {
        "id": "k4T1CCM9rUZZ"
      },
      "execution_count": 36,
      "outputs": []
    },
    {
      "cell_type": "code",
      "source": [
        "f1_score(y_test, y_pred)"
      ],
      "metadata": {
        "colab": {
          "base_uri": "https://localhost:8080/"
        },
        "id": "uwmHdH9GrvLl",
        "outputId": "5cd8542f-7f6d-4dcd-ab24-1738a79e45db"
      },
      "execution_count": 37,
      "outputs": [
        {
          "output_type": "execute_result",
          "data": {
            "text/plain": [
              "0.7033615530981993"
            ]
          },
          "metadata": {},
          "execution_count": 37
        }
      ]
    }
  ]
}