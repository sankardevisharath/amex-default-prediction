{
  "nbformat": 4,
  "nbformat_minor": 0,
  "metadata": {
    "colab": {
      "provenance": [],
      "collapsed_sections": [],
      "machine_shape": "hm",
      "mount_file_id": "1h2QR00bOimK7zBB6ZkGj77jULHRCUBkC",
      "authorship_tag": "ABX9TyM97Kv3+8Omf5iXJ9rgGKs+",
      "include_colab_link": true
    },
    "kernelspec": {
      "name": "python3",
      "display_name": "Python 3"
    },
    "language_info": {
      "name": "python"
    },
    "gpuClass": "standard"
  },
  "cells": [
    {
      "cell_type": "markdown",
      "metadata": {
        "id": "view-in-github",
        "colab_type": "text"
      },
      "source": [
        "<a href=\"https://colab.research.google.com/github/sankardevisharath/amex-default-prediction/blob/master/notebooks/My_Custom_Ensemble_MAX_With_Complete_Dataset.ipynb\" target=\"_parent\"><img src=\"https://colab.research.google.com/assets/colab-badge.svg\" alt=\"Open In Colab\"/></a>"
      ]
    },
    {
      "cell_type": "code",
      "source": [
        "from os import listdir\n",
        "\n",
        "files = listdir('/content/drive/MyDrive/amex-default-prediction/data/customer_train/')\n"
      ],
      "metadata": {
        "id": "qDhpXsRkbY7g"
      },
      "execution_count": 2,
      "outputs": []
    },
    {
      "cell_type": "code",
      "source": [
        "pip install tensorflow-addons"
      ],
      "metadata": {
        "colab": {
          "base_uri": "https://localhost:8080/"
        },
        "id": "DHNGFYGOgX21",
        "outputId": "479b6e7b-97ec-4894-9281-198139cf7bae"
      },
      "execution_count": 3,
      "outputs": [
        {
          "output_type": "stream",
          "name": "stdout",
          "text": [
            "Looking in indexes: https://pypi.org/simple, https://us-python.pkg.dev/colab-wheels/public/simple/\n",
            "Collecting tensorflow-addons\n",
            "  Downloading tensorflow_addons-0.17.1-cp37-cp37m-manylinux_2_17_x86_64.manylinux2014_x86_64.whl (1.1 MB)\n",
            "\u001b[K     |████████████████████████████████| 1.1 MB 4.0 MB/s \n",
            "\u001b[?25hRequirement already satisfied: packaging in /usr/local/lib/python3.7/dist-packages (from tensorflow-addons) (21.3)\n",
            "Requirement already satisfied: typeguard>=2.7 in /usr/local/lib/python3.7/dist-packages (from tensorflow-addons) (2.7.1)\n",
            "Requirement already satisfied: pyparsing!=3.0.5,>=2.0.2 in /usr/local/lib/python3.7/dist-packages (from packaging->tensorflow-addons) (3.0.9)\n",
            "Installing collected packages: tensorflow-addons\n",
            "Successfully installed tensorflow-addons-0.17.1\n"
          ]
        }
      ]
    },
    {
      "cell_type": "code",
      "source": [
        "pip install tensorflow_decision_forests\n"
      ],
      "metadata": {
        "colab": {
          "base_uri": "https://localhost:8080/"
        },
        "id": "f_hzav9ddhNP",
        "outputId": "ba8a115d-4065-4f2e-db38-b9fe29a47e83"
      },
      "execution_count": 4,
      "outputs": [
        {
          "output_type": "stream",
          "name": "stdout",
          "text": [
            "Looking in indexes: https://pypi.org/simple, https://us-python.pkg.dev/colab-wheels/public/simple/\n",
            "Collecting tensorflow_decision_forests\n",
            "  Downloading tensorflow_decision_forests-0.2.7-cp37-cp37m-manylinux_2_17_x86_64.manylinux2014_x86_64.whl (16.0 MB)\n",
            "\u001b[K     |████████████████████████████████| 16.0 MB 4.3 MB/s \n",
            "\u001b[?25hRequirement already satisfied: numpy in /usr/local/lib/python3.7/dist-packages (from tensorflow_decision_forests) (1.21.6)\n",
            "Requirement already satisfied: pandas in /usr/local/lib/python3.7/dist-packages (from tensorflow_decision_forests) (1.3.5)\n",
            "Requirement already satisfied: wheel in /usr/local/lib/python3.7/dist-packages (from tensorflow_decision_forests) (0.37.1)\n",
            "Requirement already satisfied: six in /usr/local/lib/python3.7/dist-packages (from tensorflow_decision_forests) (1.15.0)\n",
            "Collecting tensorflow~=2.9.1\n",
            "  Downloading tensorflow-2.9.1-cp37-cp37m-manylinux_2_17_x86_64.manylinux2014_x86_64.whl (511.7 MB)\n",
            "\u001b[K     |████████████████████████████████| 511.7 MB 4.7 kB/s \n",
            "\u001b[?25hRequirement already satisfied: absl-py in /usr/local/lib/python3.7/dist-packages (from tensorflow_decision_forests) (1.2.0)\n",
            "Collecting wurlitzer\n",
            "  Downloading wurlitzer-3.0.2-py3-none-any.whl (7.3 kB)\n",
            "Collecting gast<=0.4.0,>=0.2.1\n",
            "  Downloading gast-0.4.0-py3-none-any.whl (9.8 kB)\n",
            "Collecting flatbuffers<2,>=1.12\n",
            "  Downloading flatbuffers-1.12-py2.py3-none-any.whl (15 kB)\n",
            "Requirement already satisfied: h5py>=2.9.0 in /usr/local/lib/python3.7/dist-packages (from tensorflow~=2.9.1->tensorflow_decision_forests) (3.1.0)\n",
            "Requirement already satisfied: typing-extensions>=3.6.6 in /usr/local/lib/python3.7/dist-packages (from tensorflow~=2.9.1->tensorflow_decision_forests) (4.1.1)\n",
            "Requirement already satisfied: termcolor>=1.1.0 in /usr/local/lib/python3.7/dist-packages (from tensorflow~=2.9.1->tensorflow_decision_forests) (1.1.0)\n",
            "Requirement already satisfied: tensorflow-io-gcs-filesystem>=0.23.1 in /usr/local/lib/python3.7/dist-packages (from tensorflow~=2.9.1->tensorflow_decision_forests) (0.26.0)\n",
            "Requirement already satisfied: wrapt>=1.11.0 in /usr/local/lib/python3.7/dist-packages (from tensorflow~=2.9.1->tensorflow_decision_forests) (1.14.1)\n",
            "Requirement already satisfied: protobuf<3.20,>=3.9.2 in /usr/local/lib/python3.7/dist-packages (from tensorflow~=2.9.1->tensorflow_decision_forests) (3.17.3)\n",
            "Requirement already satisfied: grpcio<2.0,>=1.24.3 in /usr/local/lib/python3.7/dist-packages (from tensorflow~=2.9.1->tensorflow_decision_forests) (1.47.0)\n",
            "Requirement already satisfied: astunparse>=1.6.0 in /usr/local/lib/python3.7/dist-packages (from tensorflow~=2.9.1->tensorflow_decision_forests) (1.6.3)\n",
            "Requirement already satisfied: google-pasta>=0.1.1 in /usr/local/lib/python3.7/dist-packages (from tensorflow~=2.9.1->tensorflow_decision_forests) (0.2.0)\n",
            "Collecting keras<2.10.0,>=2.9.0rc0\n",
            "  Downloading keras-2.9.0-py2.py3-none-any.whl (1.6 MB)\n",
            "\u001b[K     |████████████████████████████████| 1.6 MB 52.4 MB/s \n",
            "\u001b[?25hRequirement already satisfied: opt-einsum>=2.3.2 in /usr/local/lib/python3.7/dist-packages (from tensorflow~=2.9.1->tensorflow_decision_forests) (3.3.0)\n",
            "Collecting tensorflow-estimator<2.10.0,>=2.9.0rc0\n",
            "  Downloading tensorflow_estimator-2.9.0-py2.py3-none-any.whl (438 kB)\n",
            "\u001b[K     |████████████████████████████████| 438 kB 56.4 MB/s \n",
            "\u001b[?25hRequirement already satisfied: libclang>=13.0.0 in /usr/local/lib/python3.7/dist-packages (from tensorflow~=2.9.1->tensorflow_decision_forests) (14.0.6)\n",
            "Requirement already satisfied: setuptools in /usr/local/lib/python3.7/dist-packages (from tensorflow~=2.9.1->tensorflow_decision_forests) (57.4.0)\n",
            "Requirement already satisfied: packaging in /usr/local/lib/python3.7/dist-packages (from tensorflow~=2.9.1->tensorflow_decision_forests) (21.3)\n",
            "Requirement already satisfied: keras-preprocessing>=1.1.1 in /usr/local/lib/python3.7/dist-packages (from tensorflow~=2.9.1->tensorflow_decision_forests) (1.1.2)\n",
            "Collecting tensorboard<2.10,>=2.9\n",
            "  Downloading tensorboard-2.9.1-py3-none-any.whl (5.8 MB)\n",
            "\u001b[K     |████████████████████████████████| 5.8 MB 38.6 MB/s \n",
            "\u001b[?25hRequirement already satisfied: cached-property in /usr/local/lib/python3.7/dist-packages (from h5py>=2.9.0->tensorflow~=2.9.1->tensorflow_decision_forests) (1.5.2)\n",
            "Requirement already satisfied: markdown>=2.6.8 in /usr/local/lib/python3.7/dist-packages (from tensorboard<2.10,>=2.9->tensorflow~=2.9.1->tensorflow_decision_forests) (3.4.1)\n",
            "Requirement already satisfied: werkzeug>=1.0.1 in /usr/local/lib/python3.7/dist-packages (from tensorboard<2.10,>=2.9->tensorflow~=2.9.1->tensorflow_decision_forests) (1.0.1)\n",
            "Requirement already satisfied: google-auth<3,>=1.6.3 in /usr/local/lib/python3.7/dist-packages (from tensorboard<2.10,>=2.9->tensorflow~=2.9.1->tensorflow_decision_forests) (1.35.0)\n",
            "Requirement already satisfied: requests<3,>=2.21.0 in /usr/local/lib/python3.7/dist-packages (from tensorboard<2.10,>=2.9->tensorflow~=2.9.1->tensorflow_decision_forests) (2.23.0)\n",
            "Requirement already satisfied: tensorboard-data-server<0.7.0,>=0.6.0 in /usr/local/lib/python3.7/dist-packages (from tensorboard<2.10,>=2.9->tensorflow~=2.9.1->tensorflow_decision_forests) (0.6.1)\n",
            "Requirement already satisfied: tensorboard-plugin-wit>=1.6.0 in /usr/local/lib/python3.7/dist-packages (from tensorboard<2.10,>=2.9->tensorflow~=2.9.1->tensorflow_decision_forests) (1.8.1)\n",
            "Requirement already satisfied: google-auth-oauthlib<0.5,>=0.4.1 in /usr/local/lib/python3.7/dist-packages (from tensorboard<2.10,>=2.9->tensorflow~=2.9.1->tensorflow_decision_forests) (0.4.6)\n",
            "Requirement already satisfied: pyasn1-modules>=0.2.1 in /usr/local/lib/python3.7/dist-packages (from google-auth<3,>=1.6.3->tensorboard<2.10,>=2.9->tensorflow~=2.9.1->tensorflow_decision_forests) (0.2.8)\n",
            "Requirement already satisfied: rsa<5,>=3.1.4 in /usr/local/lib/python3.7/dist-packages (from google-auth<3,>=1.6.3->tensorboard<2.10,>=2.9->tensorflow~=2.9.1->tensorflow_decision_forests) (4.9)\n",
            "Requirement already satisfied: cachetools<5.0,>=2.0.0 in /usr/local/lib/python3.7/dist-packages (from google-auth<3,>=1.6.3->tensorboard<2.10,>=2.9->tensorflow~=2.9.1->tensorflow_decision_forests) (4.2.4)\n",
            "Requirement already satisfied: requests-oauthlib>=0.7.0 in /usr/local/lib/python3.7/dist-packages (from google-auth-oauthlib<0.5,>=0.4.1->tensorboard<2.10,>=2.9->tensorflow~=2.9.1->tensorflow_decision_forests) (1.3.1)\n",
            "Requirement already satisfied: importlib-metadata>=4.4 in /usr/local/lib/python3.7/dist-packages (from markdown>=2.6.8->tensorboard<2.10,>=2.9->tensorflow~=2.9.1->tensorflow_decision_forests) (4.12.0)\n",
            "Requirement already satisfied: zipp>=0.5 in /usr/local/lib/python3.7/dist-packages (from importlib-metadata>=4.4->markdown>=2.6.8->tensorboard<2.10,>=2.9->tensorflow~=2.9.1->tensorflow_decision_forests) (3.8.1)\n",
            "Requirement already satisfied: pyasn1<0.5.0,>=0.4.6 in /usr/local/lib/python3.7/dist-packages (from pyasn1-modules>=0.2.1->google-auth<3,>=1.6.3->tensorboard<2.10,>=2.9->tensorflow~=2.9.1->tensorflow_decision_forests) (0.4.8)\n",
            "Requirement already satisfied: chardet<4,>=3.0.2 in /usr/local/lib/python3.7/dist-packages (from requests<3,>=2.21.0->tensorboard<2.10,>=2.9->tensorflow~=2.9.1->tensorflow_decision_forests) (3.0.4)\n",
            "Requirement already satisfied: idna<3,>=2.5 in /usr/local/lib/python3.7/dist-packages (from requests<3,>=2.21.0->tensorboard<2.10,>=2.9->tensorflow~=2.9.1->tensorflow_decision_forests) (2.10)\n",
            "Requirement already satisfied: certifi>=2017.4.17 in /usr/local/lib/python3.7/dist-packages (from requests<3,>=2.21.0->tensorboard<2.10,>=2.9->tensorflow~=2.9.1->tensorflow_decision_forests) (2022.6.15)\n",
            "Requirement already satisfied: urllib3!=1.25.0,!=1.25.1,<1.26,>=1.21.1 in /usr/local/lib/python3.7/dist-packages (from requests<3,>=2.21.0->tensorboard<2.10,>=2.9->tensorflow~=2.9.1->tensorflow_decision_forests) (1.24.3)\n",
            "Requirement already satisfied: oauthlib>=3.0.0 in /usr/local/lib/python3.7/dist-packages (from requests-oauthlib>=0.7.0->google-auth-oauthlib<0.5,>=0.4.1->tensorboard<2.10,>=2.9->tensorflow~=2.9.1->tensorflow_decision_forests) (3.2.0)\n",
            "Requirement already satisfied: pyparsing!=3.0.5,>=2.0.2 in /usr/local/lib/python3.7/dist-packages (from packaging->tensorflow~=2.9.1->tensorflow_decision_forests) (3.0.9)\n",
            "Requirement already satisfied: pytz>=2017.3 in /usr/local/lib/python3.7/dist-packages (from pandas->tensorflow_decision_forests) (2022.2.1)\n",
            "Requirement already satisfied: python-dateutil>=2.7.3 in /usr/local/lib/python3.7/dist-packages (from pandas->tensorflow_decision_forests) (2.8.2)\n",
            "Installing collected packages: tensorflow-estimator, tensorboard, keras, gast, flatbuffers, wurlitzer, tensorflow, tensorflow-decision-forests\n",
            "  Attempting uninstall: tensorflow-estimator\n",
            "    Found existing installation: tensorflow-estimator 2.8.0\n",
            "    Uninstalling tensorflow-estimator-2.8.0:\n",
            "      Successfully uninstalled tensorflow-estimator-2.8.0\n",
            "  Attempting uninstall: tensorboard\n",
            "    Found existing installation: tensorboard 2.8.0\n",
            "    Uninstalling tensorboard-2.8.0:\n",
            "      Successfully uninstalled tensorboard-2.8.0\n",
            "  Attempting uninstall: keras\n",
            "    Found existing installation: keras 2.8.0\n",
            "    Uninstalling keras-2.8.0:\n",
            "      Successfully uninstalled keras-2.8.0\n",
            "  Attempting uninstall: gast\n",
            "    Found existing installation: gast 0.5.3\n",
            "    Uninstalling gast-0.5.3:\n",
            "      Successfully uninstalled gast-0.5.3\n",
            "  Attempting uninstall: flatbuffers\n",
            "    Found existing installation: flatbuffers 2.0.7\n",
            "    Uninstalling flatbuffers-2.0.7:\n",
            "      Successfully uninstalled flatbuffers-2.0.7\n",
            "  Attempting uninstall: tensorflow\n",
            "    Found existing installation: tensorflow 2.8.2+zzzcolab20220719082949\n",
            "    Uninstalling tensorflow-2.8.2+zzzcolab20220719082949:\n",
            "      Successfully uninstalled tensorflow-2.8.2+zzzcolab20220719082949\n",
            "Successfully installed flatbuffers-1.12 gast-0.4.0 keras-2.9.0 tensorboard-2.9.1 tensorflow-2.9.1 tensorflow-decision-forests-0.2.7 tensorflow-estimator-2.9.0 wurlitzer-3.0.2\n"
          ]
        }
      ]
    },
    {
      "cell_type": "code",
      "source": [
        "import gc \n",
        "\n",
        "import numpy as np\n",
        "import pandas as pd\n",
        "from sklearn.preprocessing import OrdinalEncoder\n",
        "from sklearn.model_selection import train_test_split\n",
        "from sklearn.linear_model import SGDClassifier\n",
        "from sklearn.metrics import confusion_matrix\n",
        "from sklearn.metrics import f1_score\n",
        "\n",
        "import tensorflow as tf\n",
        "from keras.layers import GRU, Dense\n",
        "import tensorflow_addons as tfa\n",
        "import tensorflow_decision_forests as tfdf\n",
        "\n"
      ],
      "metadata": {
        "id": "nx_k17C4dJpj"
      },
      "execution_count": 5,
      "outputs": []
    },
    {
      "cell_type": "code",
      "source": [
        "cat_cols = ['D_63', 'D_64','B_30', 'B_38', 'D_114', 'D_116', 'D_117', 'D_120', 'D_126', 'D_66', 'D_68']\n",
        "TRAIN_LABELS_PATH = '/content/train_labels.csv'\n",
        "AGG_DATA_ABS_PATH = '/content/drive/MyDrive/amex-default-prediction/data/aggr/customer-agg.parquet'"
      ],
      "metadata": {
        "id": "IdDL1GU3gPxH"
      },
      "execution_count": 6,
      "outputs": []
    },
    {
      "cell_type": "code",
      "source": [
        "!unzip -o /content/drive/MyDrive/amex-default-prediction/data/amex-default-prediction.zip \\\n",
        " train_labels.csv"
      ],
      "metadata": {
        "colab": {
          "base_uri": "https://localhost:8080/"
        },
        "id": "tOb-N7dCiaDi",
        "outputId": "5f30c827-20b3-4154-fe24-66956b038526"
      },
      "execution_count": 7,
      "outputs": [
        {
          "output_type": "stream",
          "name": "stdout",
          "text": [
            "Archive:  /content/drive/MyDrive/amex-default-prediction/data/amex-default-prediction.zip\n",
            "  inflating: train_labels.csv        \n"
          ]
        }
      ]
    },
    {
      "cell_type": "code",
      "source": [
        "train_labels = pd.read_csv(TRAIN_LABELS_PATH)"
      ],
      "metadata": {
        "id": "0cIgqjH2hMML"
      },
      "execution_count": 8,
      "outputs": []
    },
    {
      "cell_type": "code",
      "source": [
        "train_labels.shape"
      ],
      "metadata": {
        "colab": {
          "base_uri": "https://localhost:8080/"
        },
        "id": "P9BzLmxkCEtg",
        "outputId": "9ee351ce-efb1-42f2-e477-13e2316212f9"
      },
      "execution_count": 9,
      "outputs": [
        {
          "output_type": "execute_result",
          "data": {
            "text/plain": [
              "(458913, 2)"
            ]
          },
          "metadata": {},
          "execution_count": 9
        }
      ]
    },
    {
      "cell_type": "code",
      "source": [
        "agg_dataset = pd.read_parquet(path=AGG_DATA_ABS_PATH)"
      ],
      "metadata": {
        "id": "LQcKsDcRu6C_"
      },
      "execution_count": 10,
      "outputs": []
    },
    {
      "cell_type": "code",
      "source": [
        "enc_agg = OrdinalEncoder(handle_unknown='use_encoded_value', unknown_value=-1)\n",
        "agg_dataset[['D_63_last', 'D_64_last']]=enc_agg.fit(agg_dataset[['D_63_last', 'D_64_last']])\n",
        "agg_dataset[['D_63_last', 'D_64_last']]=enc_agg.transform(agg_dataset[['D_63_last', 'D_64_last']])\n",
        "agg_dataset.fillna(0, inplace=True)\n",
        "\n"
      ],
      "metadata": {
        "id": "QIOnPpvjBKeb"
      },
      "execution_count": 11,
      "outputs": []
    },
    {
      "cell_type": "code",
      "source": [
        "agg_dataset.drop(axis=1, columns=['target'], inplace=True)"
      ],
      "metadata": {
        "id": "GYjyiV26BmhW"
      },
      "execution_count": 12,
      "outputs": []
    },
    {
      "cell_type": "code",
      "source": [
        "agg_dataset.shape"
      ],
      "metadata": {
        "colab": {
          "base_uri": "https://localhost:8080/"
        },
        "id": "GqvtRSo-AsQ_",
        "outputId": "0e577ec8-b40c-453b-dd0d-1754a618868d"
      },
      "execution_count": 13,
      "outputs": [
        {
          "output_type": "execute_result",
          "data": {
            "text/plain": [
              "(458913, 919)"
            ]
          },
          "metadata": {},
          "execution_count": 13
        }
      ]
    },
    {
      "cell_type": "code",
      "source": [
        "def append_label(source_df):\n",
        "  return pd.merge(left=source_df, right=train_labels, how='inner')"
      ],
      "metadata": {
        "id": "eAEoVByIgU-W"
      },
      "execution_count": 14,
      "outputs": []
    },
    {
      "cell_type": "code",
      "source": [
        "df_tmp = pd.read_parquet('/content/drive/MyDrive/amex-default-prediction/data/customer_train/0_50000.parquet')\n",
        "df_tmp = append_label(df_tmp)"
      ],
      "metadata": {
        "id": "xo6SWG5ag4_3"
      },
      "execution_count": 15,
      "outputs": []
    },
    {
      "cell_type": "code",
      "source": [
        "len(df_tmp.columns)"
      ],
      "metadata": {
        "colab": {
          "base_uri": "https://localhost:8080/"
        },
        "id": "nOw2PM6Miw1H",
        "outputId": "83cad2e5-66f1-47aa-bfca-af9cf79bf8f2"
      },
      "execution_count": 16,
      "outputs": [
        {
          "output_type": "execute_result",
          "data": {
            "text/plain": [
              "191"
            ]
          },
          "metadata": {},
          "execution_count": 16
        }
      ]
    },
    {
      "cell_type": "code",
      "source": [
        "df_tmp.iloc[0:10, -10:]"
      ],
      "metadata": {
        "colab": {
          "base_uri": "https://localhost:8080/",
          "height": 363
        },
        "id": "z3zbFP5jhFx0",
        "outputId": "9ac64304-f429-4933-9186-a792c58edee3"
      },
      "execution_count": 17,
      "outputs": [
        {
          "output_type": "execute_result",
          "data": {
            "text/plain": [
              "   D_137  D_138     D_139     D_140     D_141  D_142     D_143     D_144  \\\n",
              "0    NaN    NaN  0.002427  0.003706  0.003818    NaN  0.000569  0.000610   \n",
              "1    NaN    NaN  0.003954  0.003167  0.005032    NaN  0.009576  0.005492   \n",
              "2    NaN    NaN  0.003269  0.007329  0.000427    NaN  0.003429  0.006986   \n",
              "3    NaN    NaN  0.006117  0.004516  0.003200    NaN  0.008419  0.006527   \n",
              "4    NaN    NaN  0.003671  0.004946  0.008889    NaN  0.001670  0.008126   \n",
              "5    NaN    NaN  0.001924  0.008598  0.004529    NaN  0.000674  0.002223   \n",
              "6    NaN    NaN  0.001336  0.004361  0.009387    NaN  0.007727  0.007661   \n",
              "7    NaN    NaN  0.002397  0.008452  0.005553    NaN  0.001831  0.009616   \n",
              "8    NaN    NaN  0.009742  0.003968  0.007945    NaN  0.008722  0.004369   \n",
              "9    NaN    NaN  0.003611  0.009607  0.007266    NaN  0.008763  0.004753   \n",
              "\n",
              "      D_145  target  \n",
              "0  0.002674       0  \n",
              "1  0.009217       0  \n",
              "2  0.002603       0  \n",
              "3  0.009600       0  \n",
              "4  0.009827       0  \n",
              "5  0.002884       0  \n",
              "6  0.002225       0  \n",
              "7  0.007385       0  \n",
              "8  0.000995       0  \n",
              "9  0.009068       0  "
            ],
            "text/html": [
              "\n",
              "  <div id=\"df-f97e962d-2b9f-4b90-9412-a4fdaa625ecf\">\n",
              "    <div class=\"colab-df-container\">\n",
              "      <div>\n",
              "<style scoped>\n",
              "    .dataframe tbody tr th:only-of-type {\n",
              "        vertical-align: middle;\n",
              "    }\n",
              "\n",
              "    .dataframe tbody tr th {\n",
              "        vertical-align: top;\n",
              "    }\n",
              "\n",
              "    .dataframe thead th {\n",
              "        text-align: right;\n",
              "    }\n",
              "</style>\n",
              "<table border=\"1\" class=\"dataframe\">\n",
              "  <thead>\n",
              "    <tr style=\"text-align: right;\">\n",
              "      <th></th>\n",
              "      <th>D_137</th>\n",
              "      <th>D_138</th>\n",
              "      <th>D_139</th>\n",
              "      <th>D_140</th>\n",
              "      <th>D_141</th>\n",
              "      <th>D_142</th>\n",
              "      <th>D_143</th>\n",
              "      <th>D_144</th>\n",
              "      <th>D_145</th>\n",
              "      <th>target</th>\n",
              "    </tr>\n",
              "  </thead>\n",
              "  <tbody>\n",
              "    <tr>\n",
              "      <th>0</th>\n",
              "      <td>NaN</td>\n",
              "      <td>NaN</td>\n",
              "      <td>0.002427</td>\n",
              "      <td>0.003706</td>\n",
              "      <td>0.003818</td>\n",
              "      <td>NaN</td>\n",
              "      <td>0.000569</td>\n",
              "      <td>0.000610</td>\n",
              "      <td>0.002674</td>\n",
              "      <td>0</td>\n",
              "    </tr>\n",
              "    <tr>\n",
              "      <th>1</th>\n",
              "      <td>NaN</td>\n",
              "      <td>NaN</td>\n",
              "      <td>0.003954</td>\n",
              "      <td>0.003167</td>\n",
              "      <td>0.005032</td>\n",
              "      <td>NaN</td>\n",
              "      <td>0.009576</td>\n",
              "      <td>0.005492</td>\n",
              "      <td>0.009217</td>\n",
              "      <td>0</td>\n",
              "    </tr>\n",
              "    <tr>\n",
              "      <th>2</th>\n",
              "      <td>NaN</td>\n",
              "      <td>NaN</td>\n",
              "      <td>0.003269</td>\n",
              "      <td>0.007329</td>\n",
              "      <td>0.000427</td>\n",
              "      <td>NaN</td>\n",
              "      <td>0.003429</td>\n",
              "      <td>0.006986</td>\n",
              "      <td>0.002603</td>\n",
              "      <td>0</td>\n",
              "    </tr>\n",
              "    <tr>\n",
              "      <th>3</th>\n",
              "      <td>NaN</td>\n",
              "      <td>NaN</td>\n",
              "      <td>0.006117</td>\n",
              "      <td>0.004516</td>\n",
              "      <td>0.003200</td>\n",
              "      <td>NaN</td>\n",
              "      <td>0.008419</td>\n",
              "      <td>0.006527</td>\n",
              "      <td>0.009600</td>\n",
              "      <td>0</td>\n",
              "    </tr>\n",
              "    <tr>\n",
              "      <th>4</th>\n",
              "      <td>NaN</td>\n",
              "      <td>NaN</td>\n",
              "      <td>0.003671</td>\n",
              "      <td>0.004946</td>\n",
              "      <td>0.008889</td>\n",
              "      <td>NaN</td>\n",
              "      <td>0.001670</td>\n",
              "      <td>0.008126</td>\n",
              "      <td>0.009827</td>\n",
              "      <td>0</td>\n",
              "    </tr>\n",
              "    <tr>\n",
              "      <th>5</th>\n",
              "      <td>NaN</td>\n",
              "      <td>NaN</td>\n",
              "      <td>0.001924</td>\n",
              "      <td>0.008598</td>\n",
              "      <td>0.004529</td>\n",
              "      <td>NaN</td>\n",
              "      <td>0.000674</td>\n",
              "      <td>0.002223</td>\n",
              "      <td>0.002884</td>\n",
              "      <td>0</td>\n",
              "    </tr>\n",
              "    <tr>\n",
              "      <th>6</th>\n",
              "      <td>NaN</td>\n",
              "      <td>NaN</td>\n",
              "      <td>0.001336</td>\n",
              "      <td>0.004361</td>\n",
              "      <td>0.009387</td>\n",
              "      <td>NaN</td>\n",
              "      <td>0.007727</td>\n",
              "      <td>0.007661</td>\n",
              "      <td>0.002225</td>\n",
              "      <td>0</td>\n",
              "    </tr>\n",
              "    <tr>\n",
              "      <th>7</th>\n",
              "      <td>NaN</td>\n",
              "      <td>NaN</td>\n",
              "      <td>0.002397</td>\n",
              "      <td>0.008452</td>\n",
              "      <td>0.005553</td>\n",
              "      <td>NaN</td>\n",
              "      <td>0.001831</td>\n",
              "      <td>0.009616</td>\n",
              "      <td>0.007385</td>\n",
              "      <td>0</td>\n",
              "    </tr>\n",
              "    <tr>\n",
              "      <th>8</th>\n",
              "      <td>NaN</td>\n",
              "      <td>NaN</td>\n",
              "      <td>0.009742</td>\n",
              "      <td>0.003968</td>\n",
              "      <td>0.007945</td>\n",
              "      <td>NaN</td>\n",
              "      <td>0.008722</td>\n",
              "      <td>0.004369</td>\n",
              "      <td>0.000995</td>\n",
              "      <td>0</td>\n",
              "    </tr>\n",
              "    <tr>\n",
              "      <th>9</th>\n",
              "      <td>NaN</td>\n",
              "      <td>NaN</td>\n",
              "      <td>0.003611</td>\n",
              "      <td>0.009607</td>\n",
              "      <td>0.007266</td>\n",
              "      <td>NaN</td>\n",
              "      <td>0.008763</td>\n",
              "      <td>0.004753</td>\n",
              "      <td>0.009068</td>\n",
              "      <td>0</td>\n",
              "    </tr>\n",
              "  </tbody>\n",
              "</table>\n",
              "</div>\n",
              "      <button class=\"colab-df-convert\" onclick=\"convertToInteractive('df-f97e962d-2b9f-4b90-9412-a4fdaa625ecf')\"\n",
              "              title=\"Convert this dataframe to an interactive table.\"\n",
              "              style=\"display:none;\">\n",
              "        \n",
              "  <svg xmlns=\"http://www.w3.org/2000/svg\" height=\"24px\"viewBox=\"0 0 24 24\"\n",
              "       width=\"24px\">\n",
              "    <path d=\"M0 0h24v24H0V0z\" fill=\"none\"/>\n",
              "    <path d=\"M18.56 5.44l.94 2.06.94-2.06 2.06-.94-2.06-.94-.94-2.06-.94 2.06-2.06.94zm-11 1L8.5 8.5l.94-2.06 2.06-.94-2.06-.94L8.5 2.5l-.94 2.06-2.06.94zm10 10l.94 2.06.94-2.06 2.06-.94-2.06-.94-.94-2.06-.94 2.06-2.06.94z\"/><path d=\"M17.41 7.96l-1.37-1.37c-.4-.4-.92-.59-1.43-.59-.52 0-1.04.2-1.43.59L10.3 9.45l-7.72 7.72c-.78.78-.78 2.05 0 2.83L4 21.41c.39.39.9.59 1.41.59.51 0 1.02-.2 1.41-.59l7.78-7.78 2.81-2.81c.8-.78.8-2.07 0-2.86zM5.41 20L4 18.59l7.72-7.72 1.47 1.35L5.41 20z\"/>\n",
              "  </svg>\n",
              "      </button>\n",
              "      \n",
              "  <style>\n",
              "    .colab-df-container {\n",
              "      display:flex;\n",
              "      flex-wrap:wrap;\n",
              "      gap: 12px;\n",
              "    }\n",
              "\n",
              "    .colab-df-convert {\n",
              "      background-color: #E8F0FE;\n",
              "      border: none;\n",
              "      border-radius: 50%;\n",
              "      cursor: pointer;\n",
              "      display: none;\n",
              "      fill: #1967D2;\n",
              "      height: 32px;\n",
              "      padding: 0 0 0 0;\n",
              "      width: 32px;\n",
              "    }\n",
              "\n",
              "    .colab-df-convert:hover {\n",
              "      background-color: #E2EBFA;\n",
              "      box-shadow: 0px 1px 2px rgba(60, 64, 67, 0.3), 0px 1px 3px 1px rgba(60, 64, 67, 0.15);\n",
              "      fill: #174EA6;\n",
              "    }\n",
              "\n",
              "    [theme=dark] .colab-df-convert {\n",
              "      background-color: #3B4455;\n",
              "      fill: #D2E3FC;\n",
              "    }\n",
              "\n",
              "    [theme=dark] .colab-df-convert:hover {\n",
              "      background-color: #434B5C;\n",
              "      box-shadow: 0px 1px 3px 1px rgba(0, 0, 0, 0.15);\n",
              "      filter: drop-shadow(0px 1px 2px rgba(0, 0, 0, 0.3));\n",
              "      fill: #FFFFFF;\n",
              "    }\n",
              "  </style>\n",
              "\n",
              "      <script>\n",
              "        const buttonEl =\n",
              "          document.querySelector('#df-f97e962d-2b9f-4b90-9412-a4fdaa625ecf button.colab-df-convert');\n",
              "        buttonEl.style.display =\n",
              "          google.colab.kernel.accessAllowed ? 'block' : 'none';\n",
              "\n",
              "        async function convertToInteractive(key) {\n",
              "          const element = document.querySelector('#df-f97e962d-2b9f-4b90-9412-a4fdaa625ecf');\n",
              "          const dataTable =\n",
              "            await google.colab.kernel.invokeFunction('convertToInteractive',\n",
              "                                                     [key], {});\n",
              "          if (!dataTable) return;\n",
              "\n",
              "          const docLinkHtml = 'Like what you see? Visit the ' +\n",
              "            '<a target=\"_blank\" href=https://colab.research.google.com/notebooks/data_table.ipynb>data table notebook</a>'\n",
              "            + ' to learn more about interactive tables.';\n",
              "          element.innerHTML = '';\n",
              "          dataTable['output_type'] = 'display_data';\n",
              "          await google.colab.output.renderOutput(dataTable, element);\n",
              "          const docLink = document.createElement('div');\n",
              "          docLink.innerHTML = docLinkHtml;\n",
              "          element.appendChild(docLink);\n",
              "        }\n",
              "      </script>\n",
              "    </div>\n",
              "  </div>\n",
              "  "
            ]
          },
          "metadata": {},
          "execution_count": 17
        }
      ]
    },
    {
      "cell_type": "code",
      "source": [
        "df_tmp.tail()"
      ],
      "metadata": {
        "colab": {
          "base_uri": "https://localhost:8080/",
          "height": 386
        },
        "id": "TUQoWsWEk_Ue",
        "outputId": "8942c4c4-6d55-46cd-afd8-e9f82d589cd5"
      },
      "execution_count": 18,
      "outputs": [
        {
          "output_type": "execute_result",
          "data": {
            "text/plain": [
              "                                              customer_ID         S_2  \\\n",
              "602911  1c07145aef6408092ef9f94270699f6f671ec7c9093277...  2017-11-08   \n",
              "602912  1c07145aef6408092ef9f94270699f6f671ec7c9093277...  2017-12-27   \n",
              "602913  1c07145aef6408092ef9f94270699f6f671ec7c9093277...  2018-01-24   \n",
              "602914  1c07145aef6408092ef9f94270699f6f671ec7c9093277...  2018-02-13   \n",
              "602915  1c07145aef6408092ef9f94270699f6f671ec7c9093277...  2018-03-28   \n",
              "\n",
              "             P_2      D_39       B_1       B_2       R_1       S_3      D_41  \\\n",
              "602911  0.837833  0.006710  0.038680  0.097863  0.002265  0.232981  0.152760   \n",
              "602912  0.781706  0.564507  0.039073  1.002404  0.006559  0.161594  0.141727   \n",
              "602913  0.788243  0.833296  0.048927  1.001389  0.008626  0.156342  0.136205   \n",
              "602914  0.842575  0.533355  0.034230  0.867164  0.007749  0.160544  0.133761   \n",
              "602915  0.858625  0.562265  0.020487  1.004100  0.006003  0.153542  0.006859   \n",
              "\n",
              "             B_3  ...  D_137  D_138     D_139     D_140     D_141  D_142  \\\n",
              "602911  0.069115  ...    NaN    NaN  0.003875  0.006231  0.003193    NaN   \n",
              "602912  0.025914  ...    NaN    NaN  0.004343  0.000891  0.006571    NaN   \n",
              "602913  0.023727  ...    NaN    NaN  0.008752  0.000125  0.006323    NaN   \n",
              "602914  0.022605  ...    NaN    NaN  0.005521  0.006413  0.008679    NaN   \n",
              "602915  0.021063  ...    NaN    NaN  0.004774  0.005442  0.003818    NaN   \n",
              "\n",
              "           D_143     D_144     D_145  target  \n",
              "602911  0.005696  0.009711  0.003060       0  \n",
              "602912  0.000498  0.007017  0.008835       0  \n",
              "602913  0.002858  0.002037  0.003747       0  \n",
              "602914  0.006674  0.002432  0.008648       0  \n",
              "602915  0.002680  0.008393  0.002955       0  \n",
              "\n",
              "[5 rows x 191 columns]"
            ],
            "text/html": [
              "\n",
              "  <div id=\"df-736cf67e-1505-4d83-88ff-7e19939a56cb\">\n",
              "    <div class=\"colab-df-container\">\n",
              "      <div>\n",
              "<style scoped>\n",
              "    .dataframe tbody tr th:only-of-type {\n",
              "        vertical-align: middle;\n",
              "    }\n",
              "\n",
              "    .dataframe tbody tr th {\n",
              "        vertical-align: top;\n",
              "    }\n",
              "\n",
              "    .dataframe thead th {\n",
              "        text-align: right;\n",
              "    }\n",
              "</style>\n",
              "<table border=\"1\" class=\"dataframe\">\n",
              "  <thead>\n",
              "    <tr style=\"text-align: right;\">\n",
              "      <th></th>\n",
              "      <th>customer_ID</th>\n",
              "      <th>S_2</th>\n",
              "      <th>P_2</th>\n",
              "      <th>D_39</th>\n",
              "      <th>B_1</th>\n",
              "      <th>B_2</th>\n",
              "      <th>R_1</th>\n",
              "      <th>S_3</th>\n",
              "      <th>D_41</th>\n",
              "      <th>B_3</th>\n",
              "      <th>...</th>\n",
              "      <th>D_137</th>\n",
              "      <th>D_138</th>\n",
              "      <th>D_139</th>\n",
              "      <th>D_140</th>\n",
              "      <th>D_141</th>\n",
              "      <th>D_142</th>\n",
              "      <th>D_143</th>\n",
              "      <th>D_144</th>\n",
              "      <th>D_145</th>\n",
              "      <th>target</th>\n",
              "    </tr>\n",
              "  </thead>\n",
              "  <tbody>\n",
              "    <tr>\n",
              "      <th>602911</th>\n",
              "      <td>1c07145aef6408092ef9f94270699f6f671ec7c9093277...</td>\n",
              "      <td>2017-11-08</td>\n",
              "      <td>0.837833</td>\n",
              "      <td>0.006710</td>\n",
              "      <td>0.038680</td>\n",
              "      <td>0.097863</td>\n",
              "      <td>0.002265</td>\n",
              "      <td>0.232981</td>\n",
              "      <td>0.152760</td>\n",
              "      <td>0.069115</td>\n",
              "      <td>...</td>\n",
              "      <td>NaN</td>\n",
              "      <td>NaN</td>\n",
              "      <td>0.003875</td>\n",
              "      <td>0.006231</td>\n",
              "      <td>0.003193</td>\n",
              "      <td>NaN</td>\n",
              "      <td>0.005696</td>\n",
              "      <td>0.009711</td>\n",
              "      <td>0.003060</td>\n",
              "      <td>0</td>\n",
              "    </tr>\n",
              "    <tr>\n",
              "      <th>602912</th>\n",
              "      <td>1c07145aef6408092ef9f94270699f6f671ec7c9093277...</td>\n",
              "      <td>2017-12-27</td>\n",
              "      <td>0.781706</td>\n",
              "      <td>0.564507</td>\n",
              "      <td>0.039073</td>\n",
              "      <td>1.002404</td>\n",
              "      <td>0.006559</td>\n",
              "      <td>0.161594</td>\n",
              "      <td>0.141727</td>\n",
              "      <td>0.025914</td>\n",
              "      <td>...</td>\n",
              "      <td>NaN</td>\n",
              "      <td>NaN</td>\n",
              "      <td>0.004343</td>\n",
              "      <td>0.000891</td>\n",
              "      <td>0.006571</td>\n",
              "      <td>NaN</td>\n",
              "      <td>0.000498</td>\n",
              "      <td>0.007017</td>\n",
              "      <td>0.008835</td>\n",
              "      <td>0</td>\n",
              "    </tr>\n",
              "    <tr>\n",
              "      <th>602913</th>\n",
              "      <td>1c07145aef6408092ef9f94270699f6f671ec7c9093277...</td>\n",
              "      <td>2018-01-24</td>\n",
              "      <td>0.788243</td>\n",
              "      <td>0.833296</td>\n",
              "      <td>0.048927</td>\n",
              "      <td>1.001389</td>\n",
              "      <td>0.008626</td>\n",
              "      <td>0.156342</td>\n",
              "      <td>0.136205</td>\n",
              "      <td>0.023727</td>\n",
              "      <td>...</td>\n",
              "      <td>NaN</td>\n",
              "      <td>NaN</td>\n",
              "      <td>0.008752</td>\n",
              "      <td>0.000125</td>\n",
              "      <td>0.006323</td>\n",
              "      <td>NaN</td>\n",
              "      <td>0.002858</td>\n",
              "      <td>0.002037</td>\n",
              "      <td>0.003747</td>\n",
              "      <td>0</td>\n",
              "    </tr>\n",
              "    <tr>\n",
              "      <th>602914</th>\n",
              "      <td>1c07145aef6408092ef9f94270699f6f671ec7c9093277...</td>\n",
              "      <td>2018-02-13</td>\n",
              "      <td>0.842575</td>\n",
              "      <td>0.533355</td>\n",
              "      <td>0.034230</td>\n",
              "      <td>0.867164</td>\n",
              "      <td>0.007749</td>\n",
              "      <td>0.160544</td>\n",
              "      <td>0.133761</td>\n",
              "      <td>0.022605</td>\n",
              "      <td>...</td>\n",
              "      <td>NaN</td>\n",
              "      <td>NaN</td>\n",
              "      <td>0.005521</td>\n",
              "      <td>0.006413</td>\n",
              "      <td>0.008679</td>\n",
              "      <td>NaN</td>\n",
              "      <td>0.006674</td>\n",
              "      <td>0.002432</td>\n",
              "      <td>0.008648</td>\n",
              "      <td>0</td>\n",
              "    </tr>\n",
              "    <tr>\n",
              "      <th>602915</th>\n",
              "      <td>1c07145aef6408092ef9f94270699f6f671ec7c9093277...</td>\n",
              "      <td>2018-03-28</td>\n",
              "      <td>0.858625</td>\n",
              "      <td>0.562265</td>\n",
              "      <td>0.020487</td>\n",
              "      <td>1.004100</td>\n",
              "      <td>0.006003</td>\n",
              "      <td>0.153542</td>\n",
              "      <td>0.006859</td>\n",
              "      <td>0.021063</td>\n",
              "      <td>...</td>\n",
              "      <td>NaN</td>\n",
              "      <td>NaN</td>\n",
              "      <td>0.004774</td>\n",
              "      <td>0.005442</td>\n",
              "      <td>0.003818</td>\n",
              "      <td>NaN</td>\n",
              "      <td>0.002680</td>\n",
              "      <td>0.008393</td>\n",
              "      <td>0.002955</td>\n",
              "      <td>0</td>\n",
              "    </tr>\n",
              "  </tbody>\n",
              "</table>\n",
              "<p>5 rows × 191 columns</p>\n",
              "</div>\n",
              "      <button class=\"colab-df-convert\" onclick=\"convertToInteractive('df-736cf67e-1505-4d83-88ff-7e19939a56cb')\"\n",
              "              title=\"Convert this dataframe to an interactive table.\"\n",
              "              style=\"display:none;\">\n",
              "        \n",
              "  <svg xmlns=\"http://www.w3.org/2000/svg\" height=\"24px\"viewBox=\"0 0 24 24\"\n",
              "       width=\"24px\">\n",
              "    <path d=\"M0 0h24v24H0V0z\" fill=\"none\"/>\n",
              "    <path d=\"M18.56 5.44l.94 2.06.94-2.06 2.06-.94-2.06-.94-.94-2.06-.94 2.06-2.06.94zm-11 1L8.5 8.5l.94-2.06 2.06-.94-2.06-.94L8.5 2.5l-.94 2.06-2.06.94zm10 10l.94 2.06.94-2.06 2.06-.94-2.06-.94-.94-2.06-.94 2.06-2.06.94z\"/><path d=\"M17.41 7.96l-1.37-1.37c-.4-.4-.92-.59-1.43-.59-.52 0-1.04.2-1.43.59L10.3 9.45l-7.72 7.72c-.78.78-.78 2.05 0 2.83L4 21.41c.39.39.9.59 1.41.59.51 0 1.02-.2 1.41-.59l7.78-7.78 2.81-2.81c.8-.78.8-2.07 0-2.86zM5.41 20L4 18.59l7.72-7.72 1.47 1.35L5.41 20z\"/>\n",
              "  </svg>\n",
              "      </button>\n",
              "      \n",
              "  <style>\n",
              "    .colab-df-container {\n",
              "      display:flex;\n",
              "      flex-wrap:wrap;\n",
              "      gap: 12px;\n",
              "    }\n",
              "\n",
              "    .colab-df-convert {\n",
              "      background-color: #E8F0FE;\n",
              "      border: none;\n",
              "      border-radius: 50%;\n",
              "      cursor: pointer;\n",
              "      display: none;\n",
              "      fill: #1967D2;\n",
              "      height: 32px;\n",
              "      padding: 0 0 0 0;\n",
              "      width: 32px;\n",
              "    }\n",
              "\n",
              "    .colab-df-convert:hover {\n",
              "      background-color: #E2EBFA;\n",
              "      box-shadow: 0px 1px 2px rgba(60, 64, 67, 0.3), 0px 1px 3px 1px rgba(60, 64, 67, 0.15);\n",
              "      fill: #174EA6;\n",
              "    }\n",
              "\n",
              "    [theme=dark] .colab-df-convert {\n",
              "      background-color: #3B4455;\n",
              "      fill: #D2E3FC;\n",
              "    }\n",
              "\n",
              "    [theme=dark] .colab-df-convert:hover {\n",
              "      background-color: #434B5C;\n",
              "      box-shadow: 0px 1px 3px 1px rgba(0, 0, 0, 0.15);\n",
              "      filter: drop-shadow(0px 1px 2px rgba(0, 0, 0, 0.3));\n",
              "      fill: #FFFFFF;\n",
              "    }\n",
              "  </style>\n",
              "\n",
              "      <script>\n",
              "        const buttonEl =\n",
              "          document.querySelector('#df-736cf67e-1505-4d83-88ff-7e19939a56cb button.colab-df-convert');\n",
              "        buttonEl.style.display =\n",
              "          google.colab.kernel.accessAllowed ? 'block' : 'none';\n",
              "\n",
              "        async function convertToInteractive(key) {\n",
              "          const element = document.querySelector('#df-736cf67e-1505-4d83-88ff-7e19939a56cb');\n",
              "          const dataTable =\n",
              "            await google.colab.kernel.invokeFunction('convertToInteractive',\n",
              "                                                     [key], {});\n",
              "          if (!dataTable) return;\n",
              "\n",
              "          const docLinkHtml = 'Like what you see? Visit the ' +\n",
              "            '<a target=\"_blank\" href=https://colab.research.google.com/notebooks/data_table.ipynb>data table notebook</a>'\n",
              "            + ' to learn more about interactive tables.';\n",
              "          element.innerHTML = '';\n",
              "          dataTable['output_type'] = 'display_data';\n",
              "          await google.colab.output.renderOutput(dataTable, element);\n",
              "          const docLink = document.createElement('div');\n",
              "          docLink.innerHTML = docLinkHtml;\n",
              "          element.appendChild(docLink);\n",
              "        }\n",
              "      </script>\n",
              "    </div>\n",
              "  </div>\n",
              "  "
            ]
          },
          "metadata": {},
          "execution_count": 18
        }
      ]
    },
    {
      "cell_type": "code",
      "source": [
        "print(f'df.columns len = {len(df_tmp.columns)}')\n",
        "print(f'df[:, 0:100] shape = {df_tmp.iloc[:, 0:100].shape}')\n",
        "print(f'df[:, 100:188] = {df_tmp.iloc[:, 100:191].shape}')"
      ],
      "metadata": {
        "colab": {
          "base_uri": "https://localhost:8080/"
        },
        "id": "qnvRt2GDlDb4",
        "outputId": "58675e3e-d43e-4b08-dee1-2bdf0797e8a5"
      },
      "execution_count": 19,
      "outputs": [
        {
          "output_type": "stream",
          "name": "stdout",
          "text": [
            "df.columns len = 191\n",
            "df[:, 0:100] shape = (602916, 100)\n",
            "df[:, 100:188] = (602916, 91)\n"
          ]
        }
      ]
    },
    {
      "cell_type": "code",
      "source": [
        "del df_tmp"
      ],
      "metadata": {
        "id": "9mDZseBqjFHO"
      },
      "execution_count": 20,
      "outputs": []
    },
    {
      "cell_type": "code",
      "source": [
        "def my_generator():\n",
        "    for f in files:      \n",
        "      X = pd.DataFrame()\n",
        "      Y = pd.DataFrame()\n",
        "      df_tmp = pd.read_parquet('/content/drive/MyDrive/amex-default-prediction/data/customer_train/' + f)\n",
        "      df_tmp = append_label(df_tmp)\n",
        "      enc = OrdinalEncoder(handle_unknown='use_encoded_value', unknown_value=-1)\n",
        "      df_tmp[['D_63', 'D_64']]=enc.fit(df_tmp[['D_63', 'D_64']])\n",
        "\n",
        "      df_tmp[['D_63', 'D_64']]=enc.transform(df_tmp[['D_63', 'D_64']])\n",
        "      df_tmp.fillna(0, inplace=True)\n",
        "\n",
        "      X= X.append(df_tmp.loc[:, ~df_tmp.columns.isin(['target'])])\n",
        "      X = X[X.groupby('customer_ID')['customer_ID'].transform('count') == 13]\n",
        "      X_Cust = pd.DataFrame(X['customer_ID'].unique(), columns=['customer_ID'])\n",
        "      Y = pd.merge(left=X_Cust, right=train_labels, how='inner')\n",
        "\n",
        "      X_Agg = pd.merge(left=X_Cust, right=agg_dataset, how ='inner')\n",
        "      \n",
        "      X.drop(axis=1, columns=['customer_ID', 'S_2'], inplace=True)\n",
        "      \n",
        "      X_3D = X.values.reshape(X_Cust.shape[0], 13, 188)\n",
        "      Y.drop(axis=1, columns='customer_ID', inplace=True)\n",
        "\n",
        "      X_Agg.drop(axis=1, columns='customer_ID', inplace=True)\n",
        "      col_count = len(X.columns)\n",
        "      # print(f'X shape = {X.shape}')\n",
        "      # print(f'X_3D shape = {X_3D.shape}')\n",
        "      # print(f'X[:, 0:100] shape = {X_Agg.iloc[:, 0:500].shape}')\n",
        "      # print(f'X[:, 100:188] = {X_Agg.iloc[:, 500:918].shape}')\n",
        "\n",
        "      yield {\"input_1\": X_3D, \"input_2\": X_Agg.to_numpy(), \n",
        "             \"input_3\": X_Agg.iloc[:, 0:500].to_numpy(),\n",
        "             \"input_4\": X_Agg.iloc[:, 500:918].to_numpy()}, Y.to_numpy()\n",
        "      \n",
        "\n",
        "\n"
      ],
      "metadata": {
        "id": "Ivmf5DcQc6tP"
      },
      "execution_count": 21,
      "outputs": []
    },
    {
      "cell_type": "code",
      "source": [
        "def my_input_fn(epochs):\n",
        "    dataset = tf.data.Dataset.from_generator(lambda: my_generator(),\n",
        "                                             output_types=({\"input_1\": tf.float64, \"input_2\": tf.float64, \"input_3\": tf.float64, \"input_4\": tf.float64}, tf.int64),\n",
        "                                            output_shapes=({\"input_1\": tf.TensorShape([None, 13, 188]), \"input_2\" : tf.TensorShape([None, 918]),\n",
        "                                                            \"input_3\" : tf.TensorShape([None, 500]), \"input_4\" : tf.TensorShape([None, 418])},\n",
        "                                                           tf.TensorShape([None, 1])))\n",
        "\n",
        "    dataset = dataset.repeat(epochs)\n",
        "    # dataset = dataset.batch(32)\n",
        "    return dataset\n"
      ],
      "metadata": {
        "id": "PFq3dCPWXIGR"
      },
      "execution_count": 22,
      "outputs": []
    },
    {
      "cell_type": "code",
      "source": [
        "f1_metric = tfa.metrics.F1Score(num_classes=1, threshold=0.5)\n",
        "\n",
        "first_input = tf.keras.Input(shape=(13, 188))\n",
        "first_dense_1 = GRU(64, dropout=0.1, recurrent_dropout=0.5)(first_input)\n",
        "first_dense_2 = Dense(64, activation='sigmoid')(first_dense_1)\n",
        "m1_pred = Dense(1, activation='sigmoid')(first_dense_2)\n",
        "\n",
        "second_input = tf.keras.Input(shape=(918))\n",
        "second_dense_1 = Dense(128, activation='relu')(second_input)\n",
        "second_dense_2 = Dense(64, activation='sigmoid')(second_dense_1)\n",
        "m2_pred = Dense(1, activation='sigmoid')(second_dense_2)\n",
        "\n",
        "\n",
        "third_input = tf.keras.Input(shape=(500))\n",
        "third_dense_1 = Dense(128, activation='relu')(third_input)\n",
        "third_dense_2 = Dense(64, activation='sigmoid')(third_dense_1)\n",
        "m3_pred = Dense(1, activation='sigmoid')(third_dense_2)\n",
        "\n",
        "fourth_input = tf.keras.Input(shape=(418))\n",
        "fourth_dense_1 = Dense(128, activation='relu')(fourth_input)\n",
        "fourth_dense_2 = Dense(64, activation='sigmoid')(fourth_dense_1)\n",
        "m4_pred = Dense(1, activation='sigmoid')(fourth_dense_2)\n",
        "\n",
        "max_of_all_model = tf.reduce_max(tf.stack([m1_pred, m2_pred, m3_pred, m4_pred], axis=0), axis=0)\n",
        "\n",
        "\n",
        "# Keras Models\n",
        "# ============\n",
        "ensemble_max_of_all_model =  tf.keras.models.Model(inputs=[first_input, second_input, third_input, fourth_input], outputs=max_of_all_model)\n",
        "\n",
        "\n",
        "ensemble_max_of_all_model.compile(\n",
        "        optimizer=tf.keras.optimizers.Adam(),\n",
        "        loss=tf.keras.losses.BinaryCrossentropy(),\n",
        "        metrics=[\"accuracy\", f1_metric])\n",
        "\n",
        "\n"
      ],
      "metadata": {
        "id": "0IFBQUUiQBqS"
      },
      "execution_count": 23,
      "outputs": []
    },
    {
      "cell_type": "code",
      "source": [
        "\n",
        "\n",
        "from keras.utils.vis_utils import plot_model\n",
        "\n",
        "plot_model(ensemble_max_of_all_model, to_file=\"/tmp/model.png\", show_shapes=True)"
      ],
      "metadata": {
        "colab": {
          "base_uri": "https://localhost:8080/",
          "height": 605
        },
        "id": "KkBVt16UhS8i",
        "outputId": "2f98ba1c-758f-471f-eeba-3ddde265f5d6"
      },
      "execution_count": 24,
      "outputs": [
        {
          "output_type": "execute_result",
          "data": {
            "image/png": "[encoded data removed]",
            "text/plain": [
              "<IPython.core.display.Image object>"
            ]
          },
          "metadata": {},
          "execution_count": 24
        }
      ]
    },
    {
      "cell_type": "code",
      "source": [
        "\n",
        "dataset = my_input_fn(1)\n",
        "\n"
      ],
      "metadata": {
        "id": "gSTkuOjzR4Tn"
      },
      "execution_count": 25,
      "outputs": []
    },
    {
      "cell_type": "code",
      "source": [
        "ensemble_max_of_all_model.summary()"
      ],
      "metadata": {
        "colab": {
          "base_uri": "https://localhost:8080/"
        },
        "id": "nyo0dP4jW301",
        "outputId": "bee9c2fb-86f5-4137-f59e-20200460e4ce"
      },
      "execution_count": 26,
      "outputs": [
        {
          "output_type": "stream",
          "name": "stdout",
          "text": [
            "Model: \"model\"\n",
            "__________________________________________________________________________________________________\n",
            " Layer (type)                   Output Shape         Param #     Connected to                     \n",
            "==================================================================================================\n",
            " input_1 (InputLayer)           [(None, 13, 188)]    0           []                               \n",
            "                                                                                                  \n",
            " input_2 (InputLayer)           [(None, 918)]        0           []                               \n",
            "                                                                                                  \n",
            " input_3 (InputLayer)           [(None, 500)]        0           []                               \n",
            "                                                                                                  \n",
            " input_4 (InputLayer)           [(None, 418)]        0           []                               \n",
            "                                                                                                  \n",
            " gru (GRU)                      (None, 64)           48768       ['input_1[0][0]']                \n",
            "                                                                                                  \n",
            " dense_2 (Dense)                (None, 128)          117632      ['input_2[0][0]']                \n",
            "                                                                                                  \n",
            " dense_5 (Dense)                (None, 128)          64128       ['input_3[0][0]']                \n",
            "                                                                                                  \n",
            " dense_8 (Dense)                (None, 128)          53632       ['input_4[0][0]']                \n",
            "                                                                                                  \n",
            " dense (Dense)                  (None, 64)           4160        ['gru[0][0]']                    \n",
            "                                                                                                  \n",
            " dense_3 (Dense)                (None, 64)           8256        ['dense_2[0][0]']                \n",
            "                                                                                                  \n",
            " dense_6 (Dense)                (None, 64)           8256        ['dense_5[0][0]']                \n",
            "                                                                                                  \n",
            " dense_9 (Dense)                (None, 64)           8256        ['dense_8[0][0]']                \n",
            "                                                                                                  \n",
            " dense_1 (Dense)                (None, 1)            65          ['dense[0][0]']                  \n",
            "                                                                                                  \n",
            " dense_4 (Dense)                (None, 1)            65          ['dense_3[0][0]']                \n",
            "                                                                                                  \n",
            " dense_7 (Dense)                (None, 1)            65          ['dense_6[0][0]']                \n",
            "                                                                                                  \n",
            " dense_10 (Dense)               (None, 1)            65          ['dense_9[0][0]']                \n",
            "                                                                                                  \n",
            " tf.stack (TFOpLambda)          (4, None, 1)         0           ['dense_1[0][0]',                \n",
            "                                                                  'dense_4[0][0]',                \n",
            "                                                                  'dense_7[0][0]',                \n",
            "                                                                  'dense_10[0][0]']               \n",
            "                                                                                                  \n",
            " tf.math.reduce_max (TFOpLambda  (None, 1)           0           ['tf.stack[0][0]']               \n",
            " )                                                                                                \n",
            "                                                                                                  \n",
            "==================================================================================================\n",
            "Total params: 313,348\n",
            "Trainable params: 313,348\n",
            "Non-trainable params: 0\n",
            "__________________________________________________________________________________________________\n"
          ]
        }
      ]
    },
    {
      "cell_type": "code",
      "source": [
        "ensemble_max_of_all_model.fit(dataset, epochs=2)"
      ],
      "metadata": {
        "colab": {
          "base_uri": "https://localhost:8080/"
        },
        "id": "3jN_19AzU96I",
        "outputId": "f2aaafc6-259c-4f83-a42d-4d63d394d162"
      },
      "execution_count": 27,
      "outputs": [
        {
          "output_type": "stream",
          "name": "stdout",
          "text": [
            "Epoch 1/2\n",
            "8/8 [==============================] - 257s 34s/step - loss: 0.6610 - accuracy: 0.6284 - f1_score: 0.3237\n",
            "Epoch 2/2\n",
            "8/8 [==============================] - 171s 23s/step - loss: 0.4685 - accuracy: 0.7747 - f1_score: 0.0598\n"
          ]
        },
        {
          "output_type": "execute_result",
          "data": {
            "text/plain": [
              "<keras.callbacks.History at 0x7fbe9ef10850>"
            ]
          },
          "metadata": {},
          "execution_count": 27
        }
      ]
    },
    {
      "cell_type": "code",
      "source": [
        "val_files = listdir('/content/drive/MyDrive/amex-default-prediction/data/customer_val/')"
      ],
      "metadata": {
        "id": "ld4z-43avLyZ"
      },
      "execution_count": 28,
      "outputs": []
    },
    {
      "cell_type": "code",
      "source": [
        "def my_val_generator():\n",
        "    for f in val_files:      \n",
        "      X = pd.DataFrame()\n",
        "      Y = pd.DataFrame()\n",
        "      df_tmp = pd.read_parquet('/content/drive/MyDrive/amex-default-prediction/data/customer_val/' + f)\n",
        "      df_tmp = append_label(df_tmp)\n",
        "      enc = OrdinalEncoder(handle_unknown='use_encoded_value', unknown_value=-1)\n",
        "      df_tmp[['D_63', 'D_64']]=enc.fit(df_tmp[['D_63', 'D_64']])\n",
        "\n",
        "      df_tmp[['D_63', 'D_64']]=enc.transform(df_tmp[['D_63', 'D_64']])\n",
        "      df_tmp.fillna(0, inplace=True)\n",
        "\n",
        "      X= X.append(df_tmp.loc[:, ~df_tmp.columns.isin(['target'])])\n",
        "      X = X[X.groupby('customer_ID')['customer_ID'].transform('count') == 13]\n",
        "      X_Cust = pd.DataFrame(X['customer_ID'].unique(), columns=['customer_ID'])\n",
        "      Y = pd.merge(left=X_Cust, right=train_labels, how='inner')\n",
        "\n",
        "      X_Agg = pd.merge(left=X_Cust, right=agg_dataset, how ='inner')\n",
        "      \n",
        "      X.drop(axis=1, columns=['customer_ID', 'S_2'], inplace=True)\n",
        "      \n",
        "      X_3D = X.values.reshape(X_Cust.shape[0], 13, 188)\n",
        "      Y.drop(axis=1, columns='customer_ID', inplace=True)\n",
        "\n",
        "      X_Agg.drop(axis=1, columns='customer_ID', inplace=True)\n",
        "      col_count = len(X.columns)\n",
        "      print(f'X shape = {X.shape}')\n",
        "      print(f'X_3D shape = {X_3D.shape}')\n",
        "      print(f'X[:, 0:100] shape = {X_Agg.iloc[:, 0:500].shape}')\n",
        "      print(f'X[:, 100:188] = {X_Agg.iloc[:, 500:918].shape}')\n",
        "\n",
        "      yield {\"input_1\": X_3D, \"input_2\": X_Agg.to_numpy(), \n",
        "             \"input_3\": X_Agg.iloc[:, 0:500].to_numpy(),\n",
        "             \"input_4\": X_Agg.iloc[:, 500:918].to_numpy()}, Y.to_numpy()\n",
        "\n"
      ],
      "metadata": {
        "id": "fE0DAIxmxX21"
      },
      "execution_count": 29,
      "outputs": []
    },
    {
      "cell_type": "code",
      "source": [
        "def my_val_input_fn():\n",
        "    dataset = tf.data.Dataset.from_generator(lambda: my_val_generator(),\n",
        "                                             output_types=({\"input_1\": tf.float64, \"input_2\": tf.float64, \"input_3\": tf.float64, \"input_4\": tf.float64}, tf.int64),\n",
        "                                            output_shapes=({\"input_1\": tf.TensorShape([None, 13, 188]), \"input_2\" : tf.TensorShape([None, 918]),\n",
        "                                                            \"input_3\" : tf.TensorShape([None, 500]), \"input_4\" : tf.TensorShape([None, 418])},\n",
        "                                                           tf.TensorShape([None, 1])))\n",
        "\n",
        "    # dataset = dataset.repeat(epochs)\n",
        "    # dataset = dataset.batch(32)\n",
        "    return dataset"
      ],
      "metadata": {
        "id": "Dl99Wtsqxeez"
      },
      "execution_count": 30,
      "outputs": []
    },
    {
      "cell_type": "code",
      "source": [
        "val_dataset = my_val_input_fn()\n",
        "f1_metric = tfa.metrics.F1Score(num_classes=1, threshold=0.5)\n",
        "ensemble_max_of_all_model.compile(metrics=[\"accuracy\", f1_metric])\n",
        "print(\"Evaluation:\", ensemble_max_of_all_model.evaluate(val_dataset))"
      ],
      "metadata": {
        "colab": {
          "base_uri": "https://localhost:8080/"
        },
        "id": "ILKHw4zBxqMP",
        "outputId": "0047d846-ebbd-4661-96df-6b0005afa574"
      },
      "execution_count": 31,
      "outputs": [
        {
          "output_type": "stream",
          "name": "stdout",
          "text": [
            "X shape = (548522, 188)\n",
            "X_3D shape = (42194, 13, 188)\n",
            "X[:, 0:100] shape = (42194, 500)\n",
            "X[:, 100:188] = (42194, 418)\n",
            "1/1 [==============================] - 33s 33s/step - loss: 0.0000e+00 - accuracy: 0.7840 - f1_score: 0.1231\n",
            "Evaluation: [0.0, 0.7839503288269043, array([0.12312426], dtype=float32)]\n"
          ]
        }
      ]
    },
    {
      "cell_type": "code",
      "source": [],
      "metadata": {
        "id": "FF9LIjHAw4mC"
      },
      "execution_count": 31,
      "outputs": []
    }
  ]
}