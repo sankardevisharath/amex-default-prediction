{
  "cells": [
    {
      "cell_type": "markdown",
      "metadata": {
        "id": "view-in-github",
        "colab_type": "text"
      },
      "source": [
        "<a href=\"https://colab.research.google.com/github/sankardevisharath/amex-default-prediction/blob/master/notebooks/NN_on_agg_data_with_KMeansSMOTE.ipynb\" target=\"_parent\"><img src=\"https://colab.research.google.com/assets/colab-badge.svg\" alt=\"Open In Colab\"/></a>"
      ]
    },
    {
      "cell_type": "code",
      "execution_count": 1,
      "metadata": {
        "id": "nx_k17C4dJpj"
      },
      "outputs": [],
      "source": [
        "import gc \n",
        "\n",
        "import numpy as np\n",
        "import pandas as pd\n",
        "import lightgbm as gbm\n",
        "from imblearn.over_sampling import KMeansSMOTE\n",
        "from sklearn.preprocessing import OrdinalEncoder\n",
        "from sklearn.model_selection import train_test_split\n",
        "from sklearn.metrics import confusion_matrix\n",
        "from sklearn.metrics import f1_score\n",
        "from sklearn.metrics import roc_auc_score\n",
        "from sklearn.metrics import roc_curve\n",
        "from sklearn.metrics import auc\n",
        "from sklearn.metrics import RocCurveDisplay\n",
        "import matplotlib.pyplot as plt"
      ]
    },
    {
      "cell_type": "code",
      "execution_count": 2,
      "metadata": {
        "id": "AUrNOiSyZ3NT"
      },
      "outputs": [],
      "source": [
        "df = pd.read_parquet(path='/content/drive/MyDrive/amex-default-prediction/data/aggr/customer-agg.parquet')"
      ]
    },
    {
      "cell_type": "code",
      "execution_count": 3,
      "metadata": {
        "colab": {
          "base_uri": "https://localhost:8080/"
        },
        "id": "X4fUCrbFaZdc",
        "outputId": "4fd1776d-a0a6-47a4-c39b-160cc607ac70"
      },
      "outputs": [
        {
          "output_type": "stream",
          "name": "stdout",
          "text": [
            "<class 'pandas.core.frame.DataFrame'>\n",
            "Int64Index: 458913 entries, 0 to 458912\n",
            "Columns: 920 entries, customer_ID to target\n",
            "dtypes: float64(891), int64(26), object(3)\n",
            "memory usage: 3.1+ GB\n"
          ]
        }
      ],
      "source": [
        "df.info()"
      ]
    },
    {
      "cell_type": "code",
      "execution_count": 4,
      "metadata": {
        "colab": {
          "base_uri": "https://localhost:8080/"
        },
        "id": "PIDBW09DahOq",
        "outputId": "d013d65b-5b3e-4893-d911-29d68949a562"
      },
      "outputs": [
        {
          "output_type": "execute_result",
          "data": {
            "text/plain": [
              "customer_ID    object\n",
              "D_63_last      object\n",
              "D_64_last      object\n",
              "dtype: object"
            ]
          },
          "metadata": {},
          "execution_count": 4
        }
      ],
      "source": [
        "columns = df.head().dtypes\n",
        "columns[columns==object]\n"
      ]
    },
    {
      "cell_type": "code",
      "execution_count": 5,
      "metadata": {
        "id": "IdDL1GU3gPxH"
      },
      "outputs": [],
      "source": [
        "cat_cols = ['D_63', 'D_64','B_30', 'B_38', 'D_114', 'D_116', 'D_117', 'D_120', 'D_126', 'D_66', 'D_68']\n",
        "TRAIN_LABELS_PATH = '/content/train_labels.csv'"
      ]
    },
    {
      "cell_type": "code",
      "execution_count": 6,
      "metadata": {
        "id": "Ivmf5DcQc6tP"
      },
      "outputs": [],
      "source": [
        "X = pd.DataFrame()\n",
        "Y = pd.DataFrame()\n",
        "\n",
        "enc = OrdinalEncoder(handle_unknown='use_encoded_value', unknown_value=-1)\n",
        "df[['D_63_last', 'D_64_last']]=enc.fit(df[['D_63_last', 'D_64_last']])\n",
        "df[['D_63_last', 'D_64_last']]=enc.transform(df[['D_63_last', 'D_64_last']])\n",
        "df.fillna(0, inplace=True)\n",
        "X= X.append(df.loc[:, ~df.columns.isin(['customer_ID', 'target'])])\n",
        "Y = Y.append(df.loc[:, df.columns == 'target'])"
      ]
    },
    {
      "cell_type": "code",
      "source": [
        "del df"
      ],
      "metadata": {
        "id": "q_hcvznkzLnY"
      },
      "execution_count": 7,
      "outputs": []
    },
    {
      "cell_type": "code",
      "source": [
        "X_train, X_test, y_train, y_test = train_test_split(X, Y, test_size=0.2)"
      ],
      "metadata": {
        "id": "YQ5yAhWXh0AI"
      },
      "execution_count": 8,
      "outputs": []
    },
    {
      "cell_type": "code",
      "source": [
        "del X, Y\n",
        "gc.collect()"
      ],
      "metadata": {
        "colab": {
          "base_uri": "https://localhost:8080/"
        },
        "id": "itqFCQpeh2-e",
        "outputId": "285f909f-7ff9-4370-d8d9-facb1b8db84f"
      },
      "execution_count": 9,
      "outputs": [
        {
          "output_type": "execute_result",
          "data": {
            "text/plain": [
              "66"
            ]
          },
          "metadata": {},
          "execution_count": 9
        }
      ]
    },
    {
      "cell_type": "code",
      "source": [
        "sm = KMeansSMOTE()\n",
        "X_t, y_t = sm.fit_resample(X_train, y_train)"
      ],
      "metadata": {
        "id": "ozpLrqX2h7N2"
      },
      "execution_count": 10,
      "outputs": []
    },
    {
      "cell_type": "code",
      "source": [
        "gc.collect()"
      ],
      "metadata": {
        "colab": {
          "base_uri": "https://localhost:8080/"
        },
        "id": "IXbxyYkhiBho",
        "outputId": "4c3c6b42-ecb1-4074-ba2f-394601001640"
      },
      "execution_count": 11,
      "outputs": [
        {
          "output_type": "execute_result",
          "data": {
            "text/plain": [
              "22"
            ]
          },
          "metadata": {},
          "execution_count": 11
        }
      ]
    },
    {
      "cell_type": "code",
      "source": [
        "# TensorFlow and tf.keras\n",
        "import tensorflow as tf"
      ],
      "metadata": {
        "id": "otFyRrrXetCN"
      },
      "execution_count": 12,
      "outputs": []
    },
    {
      "cell_type": "code",
      "source": [
        "model = tf.keras.Sequential([\n",
        "    tf.keras.layers.Dense(128, activation='relu'),\n",
        "    tf.keras.layers.Dense(1, activation='sigmoid')\n",
        "])"
      ],
      "metadata": {
        "id": "sCEc-Iuue0RN"
      },
      "execution_count": 13,
      "outputs": []
    },
    {
      "cell_type": "code",
      "source": [
        "model.compile(optimizer='adam',\n",
        "              loss='binary_crossentropy',\n",
        "              metrics=['accuracy', 'AUC', 'FalseNegatives', 'FalsePositives', 'Precision', 'Recall', 'TrueNegatives', 'TruePositives'])"
      ],
      "metadata": {
        "id": "3owJOWpffBL0"
      },
      "execution_count": 14,
      "outputs": []
    },
    {
      "cell_type": "code",
      "source": [
        "model.fit(X_t, y_t, epochs=10)"
      ],
      "metadata": {
        "colab": {
          "base_uri": "https://localhost:8080/"
        },
        "id": "uixT5yejfFCy",
        "outputId": "1412d5e8-92f7-4ae5-c086-02f3c587387e"
      },
      "execution_count": 15,
      "outputs": [
        {
          "output_type": "stream",
          "name": "stdout",
          "text": [
            "Epoch 1/10\n",
            "17008/17008 [==============================] - 67s 4ms/step - loss: 0.1687 - accuracy: 0.9281 - auc: 0.9832 - false_negatives: 20107.0000 - false_positives: 19030.0000 - precision: 0.9298 - recall: 0.9261 - true_negatives: 253097.0000 - true_positives: 252020.0000\n",
            "Epoch 2/10\n",
            "17008/17008 [==============================] - 62s 4ms/step - loss: 0.1597 - accuracy: 0.9310 - auc: 0.9845 - false_negatives: 18984.0000 - false_positives: 18581.0000 - precision: 0.9316 - recall: 0.9302 - true_negatives: 253546.0000 - true_positives: 253143.0000\n",
            "Epoch 3/10\n",
            "17008/17008 [==============================] - 60s 4ms/step - loss: 0.1583 - accuracy: 0.9320 - auc: 0.9849 - false_negatives: 18523.0000 - false_positives: 18463.0000 - precision: 0.9321 - recall: 0.9319 - true_negatives: 253664.0000 - true_positives: 253604.0000\n",
            "Epoch 4/10\n",
            "17008/17008 [==============================] - 62s 4ms/step - loss: 0.1555 - accuracy: 0.9325 - auc: 0.9851 - false_negatives: 18469.0000 - false_positives: 18273.0000 - precision: 0.9328 - recall: 0.9321 - true_negatives: 253854.0000 - true_positives: 253658.0000\n",
            "Epoch 5/10\n",
            "17008/17008 [==============================] - 60s 4ms/step - loss: 0.1556 - accuracy: 0.9332 - auc: 0.9853 - false_negatives: 18256.0000 - false_positives: 18090.0000 - precision: 0.9335 - recall: 0.9329 - true_negatives: 254037.0000 - true_positives: 253871.0000\n",
            "Epoch 6/10\n",
            "17008/17008 [==============================] - 61s 4ms/step - loss: 0.1548 - accuracy: 0.9337 - auc: 0.9855 - false_negatives: 18144.0000 - false_positives: 17928.0000 - precision: 0.9341 - recall: 0.9333 - true_negatives: 254199.0000 - true_positives: 253983.0000\n",
            "Epoch 7/10\n",
            "17008/17008 [==============================] - 59s 3ms/step - loss: 0.1542 - accuracy: 0.9338 - auc: 0.9856 - false_negatives: 18059.0000 - false_positives: 17952.0000 - precision: 0.9340 - recall: 0.9336 - true_negatives: 254175.0000 - true_positives: 254068.0000\n",
            "Epoch 8/10\n",
            "17008/17008 [==============================] - 66s 4ms/step - loss: 0.1525 - accuracy: 0.9340 - auc: 0.9857 - false_negatives: 17983.0000 - false_positives: 17916.0000 - precision: 0.9341 - recall: 0.9339 - true_negatives: 254211.0000 - true_positives: 254144.0000\n",
            "Epoch 9/10\n",
            "17008/17008 [==============================] - 66s 4ms/step - loss: 0.1529 - accuracy: 0.9341 - auc: 0.9857 - false_negatives: 17888.0000 - false_positives: 17982.0000 - precision: 0.9339 - recall: 0.9343 - true_negatives: 254145.0000 - true_positives: 254239.0000\n",
            "Epoch 10/10\n",
            "17008/17008 [==============================] - 62s 4ms/step - loss: 0.1527 - accuracy: 0.9345 - auc: 0.9858 - false_negatives: 17743.0000 - false_positives: 17896.0000 - precision: 0.9343 - recall: 0.9348 - true_negatives: 254231.0000 - true_positives: 254384.0000\n"
          ]
        },
        {
          "output_type": "execute_result",
          "data": {
            "text/plain": [
              "<keras.callbacks.History at 0x7f2375fbaed0>"
            ]
          },
          "metadata": {},
          "execution_count": 15
        }
      ]
    },
    {
      "cell_type": "code",
      "source": [
        "test_loss, test_acc, *is_anything_else_being_returned = model.evaluate(X_test,  y_test, verbose=2)\n",
        "print('\\nTest accuracy:', test_acc)\n",
        "print('\\nTest loss:', test_loss)\n",
        "print('\\n Other Metrics ', is_anything_else_being_returned)\n"
      ],
      "metadata": {
        "colab": {
          "base_uri": "https://localhost:8080/"
        },
        "id": "rJNhQ-aCfddr",
        "outputId": "bbadff14-a001-404e-8972-2c9b6272e6b2"
      },
      "execution_count": 16,
      "outputs": [
        {
          "output_type": "stream",
          "name": "stdout",
          "text": [
            "2869/2869 - 6s - loss: 0.2274 - accuracy: 0.9016 - auc: 0.9600 - false_negatives: 4750.0000 - false_positives: 4279.0000 - precision: 0.8168 - recall: 0.8006 - true_negatives: 63679.0000 - true_positives: 19075.0000 - 6s/epoch - 2ms/step\n",
            "\n",
            "Test accuracy: 0.9016266465187073\n",
            "\n",
            "Test loss: 0.22741350531578064\n",
            "\n",
            " Other Metrics  [0.9599729180335999, 4750.0, 4279.0, 0.8167765736579895, 0.8006296157836914, 63679.0, 19075.0]\n"
          ]
        }
      ]
    },
    {
      "cell_type": "code",
      "source": [
        "y_pred = (model.predict(X_test) > 0.5).astype(\"int32\")"
      ],
      "metadata": {
        "id": "-AHY-scC_sP9"
      },
      "execution_count": 17,
      "outputs": []
    },
    {
      "cell_type": "code",
      "source": [
        "y_pred"
      ],
      "metadata": {
        "colab": {
          "base_uri": "https://localhost:8080/"
        },
        "id": "v47Ru1Cx_12Y",
        "outputId": "6caaf536-21e7-4abe-fad8-e5e2289ff590"
      },
      "execution_count": 18,
      "outputs": [
        {
          "output_type": "execute_result",
          "data": {
            "text/plain": [
              "array([[1],\n",
              "       [0],\n",
              "       [0],\n",
              "       ...,\n",
              "       [0],\n",
              "       [0],\n",
              "       [0]], dtype=int32)"
            ]
          },
          "metadata": {},
          "execution_count": 18
        }
      ]
    },
    {
      "cell_type": "code",
      "execution_count": 19,
      "metadata": {
        "id": "VpDuIcwcr-rn",
        "colab": {
          "base_uri": "https://localhost:8080/"
        },
        "outputId": "89853ab2-78ef-446f-ab28-153a314f5eed"
      },
      "outputs": [
        {
          "output_type": "execute_result",
          "data": {
            "text/plain": [
              "(63679, 4279, 4750, 19075)"
            ]
          },
          "metadata": {},
          "execution_count": 19
        }
      ],
      "source": [
        "tn, fp, fn, tp = confusion_matrix(y_test, y_pred).ravel()\n",
        "tn, fp, fn, tp"
      ]
    },
    {
      "cell_type": "code",
      "execution_count": 20,
      "metadata": {
        "id": "EegTKc03sL4F",
        "colab": {
          "base_uri": "https://localhost:8080/"
        },
        "outputId": "7de80b58-4a5f-4d5e-d4b7-4e9fe8df1ced"
      },
      "outputs": [
        {
          "output_type": "execute_result",
          "data": {
            "text/plain": [
              "(63679, 4279, 4750, 19075)"
            ]
          },
          "metadata": {},
          "execution_count": 20
        }
      ],
      "source": [
        "tn, fp, fn, tp"
      ]
    },
    {
      "cell_type": "code",
      "execution_count": 21,
      "metadata": {
        "id": "0h4Ph6YMsi_L",
        "colab": {
          "base_uri": "https://localhost:8080/"
        },
        "outputId": "e30c2b8b-0a55-4a42-9139-62101482fac3"
      },
      "outputs": [
        {
          "output_type": "execute_result",
          "data": {
            "text/plain": [
              "0.8086224803408296"
            ]
          },
          "metadata": {},
          "execution_count": 21
        }
      ],
      "source": [
        "f1_score(y_test, y_pred)"
      ]
    },
    {
      "cell_type": "code",
      "source": [
        "roc_auc_score(y_test, y_pred)"
      ],
      "metadata": {
        "id": "v2WFOPfcVAwc",
        "colab": {
          "base_uri": "https://localhost:8080/"
        },
        "outputId": "674f8907-92f7-4735-d158-ed0cbbdf14ce"
      },
      "execution_count": 22,
      "outputs": [
        {
          "output_type": "execute_result",
          "data": {
            "text/plain": [
              "0.8688321149038816"
            ]
          },
          "metadata": {},
          "execution_count": 22
        }
      ]
    },
    {
      "cell_type": "code",
      "source": [
        "fpr, tpr, thresholds = roc_curve(y_test, y_pred)\n",
        "roc_auc = auc(fpr, tpr)\n",
        "display = RocCurveDisplay(fpr=fpr, tpr=tpr, roc_auc=roc_auc, estimator_name='example estimator')\n",
        "display.plot()\n",
        "plt.show()"
      ],
      "metadata": {
        "id": "rpEL8ZAsVmr_",
        "colab": {
          "base_uri": "https://localhost:8080/",
          "height": 279
        },
        "outputId": "3170e2f1-4fdc-44eb-c5bd-ec42d132bdd8"
      },
      "execution_count": 23,
      "outputs": [
        {
          "output_type": "display_data",
          "data": {
            "text/plain": [
              "<Figure size 432x288 with 1 Axes>"
            ],
            "image/png": "[encoded data removed]"
          },
          "metadata": {
            "needs_background": "light"
          }
        }
      ]
    },
    {
      "cell_type": "code",
      "source": [],
      "metadata": {
        "id": "2jRjZKeYXCOI"
      },
      "execution_count": 23,
      "outputs": []
    }
  ],
  "metadata": {
    "colab": {
      "collapsed_sections": [],
      "machine_shape": "hm",
      "provenance": [],
      "mount_file_id": "1_83QyyqpFLEn7jFaLF2LcsmtEyUgzaSr",
      "authorship_tag": "ABX9TyPmFeyseKCRcSnSQmANnqkP",
      "include_colab_link": true
    },
    "gpuClass": "standard",
    "kernelspec": {
      "display_name": "Python 3",
      "name": "python3"
    },
    "language_info": {
      "name": "python"
    }
  },
  "nbformat": 4,
  "nbformat_minor": 0
}