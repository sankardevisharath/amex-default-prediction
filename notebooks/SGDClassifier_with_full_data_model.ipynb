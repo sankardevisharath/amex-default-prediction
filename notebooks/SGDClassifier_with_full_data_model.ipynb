{
  "nbformat": 4,
  "nbformat_minor": 0,
  "metadata": {
    "colab": {
      "name": "SGDClassifier_with_full_data_model.ipynb",
      "provenance": [],
      "collapsed_sections": [],
      "machine_shape": "hm",
      "mount_file_id": "16ixhwTBvHd_z7wwH9EGHTQgIXmoHAHSI",
      "authorship_tag": "ABX9TyO00LyJ1edz8d34ixk5Bwva",
      "include_colab_link": true
    },
    "kernelspec": {
      "name": "python3",
      "display_name": "Python 3"
    },
    "language_info": {
      "name": "python"
    },
    "gpuClass": "standard"
  },
  "cells": [
    {
      "cell_type": "markdown",
      "metadata": {
        "id": "view-in-github",
        "colab_type": "text"
      },
      "source": [
        "<a href=\"https://colab.research.google.com/github/sankardevisharath/amex-default-prediction/blob/master/notebooks/SGDClassifier_with_full_data_model.ipynb\" target=\"_parent\"><img src=\"https://colab.research.google.com/assets/colab-badge.svg\" alt=\"Open In Colab\"/></a>"
      ]
    },
    {
      "cell_type": "code",
      "source": [
        "from os import listdir\n",
        "\n",
        "files = listdir('/content/drive/MyDrive/amex-default-prediction/data/raw/')"
      ],
      "metadata": {
        "id": "qDhpXsRkbY7g"
      },
      "execution_count": 1,
      "outputs": []
    },
    {
      "cell_type": "code",
      "source": [
        "import gc \n",
        "\n",
        "import numpy as np\n",
        "import pandas as pd\n",
        "from sklearn.preprocessing import OrdinalEncoder\n",
        "from sklearn.model_selection import train_test_split\n",
        "from sklearn.linear_model import SGDClassifier"
      ],
      "metadata": {
        "id": "nx_k17C4dJpj"
      },
      "execution_count": 2,
      "outputs": []
    },
    {
      "cell_type": "code",
      "source": [
        "cat_cols = ['D_63', 'D_64','B_30', 'B_38', 'D_114', 'D_116', 'D_117', 'D_120', 'D_126', 'D_66', 'D_68']\n",
        "TRAIN_LABELS_PATH = '/content/train_labels.csv'"
      ],
      "metadata": {
        "id": "IdDL1GU3gPxH"
      },
      "execution_count": 3,
      "outputs": []
    },
    {
      "cell_type": "code",
      "source": [
        "!unzip /content/drive/MyDrive/amex-default-prediction/data/amex-default-prediction.zip \\\n",
        " train_labels.csv"
      ],
      "metadata": {
        "colab": {
          "base_uri": "https://localhost:8080/"
        },
        "id": "tOb-N7dCiaDi",
        "outputId": "f18d6657-957d-4a48-f93d-b0546e6aef73"
      },
      "execution_count": 4,
      "outputs": [
        {
          "output_type": "stream",
          "name": "stdout",
          "text": [
            "Archive:  /content/drive/MyDrive/amex-default-prediction/data/amex-default-prediction.zip\n",
            "replace train_labels.csv? [y]es, [n]o, [A]ll, [N]one, [r]ename: y\n",
            "  inflating: train_labels.csv        \n"
          ]
        }
      ]
    },
    {
      "cell_type": "code",
      "source": [
        "train_labels = pd.read_csv(TRAIN_LABELS_PATH)"
      ],
      "metadata": {
        "id": "0cIgqjH2hMML"
      },
      "execution_count": 5,
      "outputs": []
    },
    {
      "cell_type": "code",
      "source": [
        "def append_label(source_df):\n",
        "  return pd.merge(left=source_df, right=train_labels, how='inner')"
      ],
      "metadata": {
        "id": "eAEoVByIgU-W"
      },
      "execution_count": 6,
      "outputs": []
    },
    {
      "cell_type": "code",
      "source": [
        "flag = True\n",
        "X = pd.DataFrame()\n",
        "Y = pd.DataFrame()\n",
        "\n",
        "for f in files:\n",
        "  print(f)\n",
        "  df_tmp = pd.read_parquet('/content/drive/MyDrive/amex-default-prediction/data/raw/' + f)\n",
        "  df_tmp = append_label(df_tmp)\n",
        "\n",
        "\n",
        "  if(flag):\n",
        "     enc = OrdinalEncoder(handle_unknown='use_encoded_value', unknown_value=-1)\n",
        "     df_tmp[['D_63', 'D_64']]=enc.fit(df_tmp[['D_63', 'D_64']])\n",
        "     flag = False\n",
        "\n",
        "  df_tmp[['D_63', 'D_64']]=enc.transform(df_tmp[['D_63', 'D_64']])\n",
        "  df_tmp.fillna(0, inplace=True)\n",
        "\n",
        "  X= X.append(df_tmp.loc[:, ~df_tmp.columns.isin(['customer_ID', 'S_2', 'target'])])\n",
        "\n",
        "  Y = Y.append(df_tmp.loc[:, df_tmp.columns == 'target'])\n",
        "\n",
        "  \n",
        "  del df_tmp\n",
        "  gc.collect()\n"
      ],
      "metadata": {
        "colab": {
          "base_uri": "https://localhost:8080/"
        },
        "id": "Ivmf5DcQc6tP",
        "outputId": "e27b52a2-7335-4f5d-85b6-6dd19440558b"
      },
      "execution_count": 7,
      "outputs": [
        {
          "output_type": "stream",
          "name": "stdout",
          "text": [
            "data_2017-04.parquet\n",
            "data_2017-05.parquet\n",
            "data_2017-06.parquet\n",
            "data_2017-03.parquet\n",
            "data_2017-07.parquet\n",
            "data_2017-08.parquet\n",
            "data_2017-09.parquet\n",
            "data_2017-10.parquet\n",
            "data_2017-11.parquet\n",
            "data_2017-12.parquet\n",
            "data_2018-01.parquet\n",
            "data_2018-02.parquet\n",
            "data_2018-03.parquet\n"
          ]
        }
      ]
    },
    {
      "cell_type": "code",
      "source": [
        " X_train, X_test, y_train, y_test = train_test_split(X, Y, test_size=0.2)"
      ],
      "metadata": {
        "id": "1R7fzQ4ueFRI"
      },
      "execution_count": 8,
      "outputs": []
    },
    {
      "cell_type": "code",
      "source": [
        "gc.collect()"
      ],
      "metadata": {
        "colab": {
          "base_uri": "https://localhost:8080/"
        },
        "id": "-T0WHRL6qP6j",
        "outputId": "0bd45e94-4be0-481a-90b9-6f2034257304"
      },
      "execution_count": 10,
      "outputs": [
        {
          "output_type": "execute_result",
          "data": {
            "text/plain": [
              "328"
            ]
          },
          "metadata": {},
          "execution_count": 10
        }
      ]
    },
    {
      "cell_type": "code",
      "source": [
        "del X, Y"
      ],
      "metadata": {
        "id": "OFhJ34_GqSXX"
      },
      "execution_count": 11,
      "outputs": []
    },
    {
      "cell_type": "code",
      "source": [
        "gc.collect()"
      ],
      "metadata": {
        "colab": {
          "base_uri": "https://localhost:8080/"
        },
        "id": "xfMZBQqUqVd3",
        "outputId": "d471fb10-8962-4c2a-d54f-be1b224cf249"
      },
      "execution_count": 12,
      "outputs": [
        {
          "output_type": "execute_result",
          "data": {
            "text/plain": [
              "252"
            ]
          },
          "metadata": {},
          "execution_count": 12
        }
      ]
    },
    {
      "cell_type": "code",
      "source": [
        "clf = SGDClassifier(verbose=1000)"
      ],
      "metadata": {
        "id": "nvz7kcD8frrt"
      },
      "execution_count": 13,
      "outputs": []
    },
    {
      "cell_type": "code",
      "source": [
        "clf.fit(X_train, y_train.values.ravel())"
      ],
      "metadata": {
        "id": "d-Ho-fcIf3vw",
        "colab": {
          "base_uri": "https://localhost:8080/"
        },
        "outputId": "f0748c15-7ee9-4a2f-dd1b-843cc26874ab"
      },
      "execution_count": 14,
      "outputs": [
        {
          "output_type": "stream",
          "name": "stdout",
          "text": [
            "-- Epoch 1\n",
            "Norm: 4.17, NNZs: 188, Bias: -0.067607, T: 4425160, Avg. loss: 1.144776\n",
            "Total training time: 4.60 seconds.\n",
            "-- Epoch 2\n",
            "Norm: 4.14, NNZs: 188, Bias: -0.034551, T: 8850320, Avg. loss: 0.438999\n",
            "Total training time: 9.21 seconds.\n",
            "-- Epoch 3\n",
            "Norm: 4.08, NNZs: 188, Bias: 0.019951, T: 13275480, Avg. loss: 0.378818\n",
            "Total training time: 14.37 seconds.\n",
            "-- Epoch 4\n",
            "Norm: 3.84, NNZs: 188, Bias: 0.014448, T: 17700640, Avg. loss: 0.375021\n",
            "Total training time: 19.17 seconds.\n",
            "-- Epoch 5\n",
            "Norm: 3.87, NNZs: 188, Bias: 0.012762, T: 22125800, Avg. loss: 0.344313\n",
            "Total training time: 23.87 seconds.\n",
            "-- Epoch 6\n",
            "Norm: 3.77, NNZs: 188, Bias: 0.025896, T: 26550960, Avg. loss: 0.333284\n",
            "Total training time: 28.58 seconds.\n",
            "-- Epoch 7\n",
            "Norm: 3.85, NNZs: 188, Bias: 0.008350, T: 30976120, Avg. loss: 0.334590\n",
            "Total training time: 33.26 seconds.\n",
            "-- Epoch 8\n",
            "Norm: 3.79, NNZs: 188, Bias: 0.021113, T: 35401280, Avg. loss: 0.334738\n",
            "Total training time: 37.92 seconds.\n",
            "-- Epoch 9\n",
            "Norm: 3.71, NNZs: 188, Bias: 0.018697, T: 39826440, Avg. loss: 0.335756\n",
            "Total training time: 42.83 seconds.\n",
            "-- Epoch 10\n",
            "Norm: 3.78, NNZs: 188, Bias: 0.004021, T: 44251600, Avg. loss: 0.332398\n",
            "Total training time: 47.85 seconds.\n",
            "-- Epoch 11\n",
            "Norm: 3.71, NNZs: 188, Bias: 0.014043, T: 48676760, Avg. loss: 0.325806\n",
            "Total training time: 52.55 seconds.\n",
            "-- Epoch 12\n",
            "Norm: 3.71, NNZs: 188, Bias: 0.016803, T: 53101920, Avg. loss: 0.318760\n",
            "Total training time: 57.21 seconds.\n",
            "-- Epoch 13\n",
            "Norm: 3.71, NNZs: 188, Bias: 0.015915, T: 57527080, Avg. loss: 0.321202\n",
            "Total training time: 61.88 seconds.\n",
            "-- Epoch 14\n",
            "Norm: 3.76, NNZs: 188, Bias: 0.019489, T: 61952240, Avg. loss: 0.320185\n",
            "Total training time: 66.85 seconds.\n",
            "-- Epoch 15\n",
            "Norm: 4.10, NNZs: 188, Bias: 0.022349, T: 66377400, Avg. loss: 0.319465\n",
            "Total training time: 71.82 seconds.\n",
            "-- Epoch 16\n",
            "Norm: 3.70, NNZs: 188, Bias: 0.018385, T: 70802560, Avg. loss: 0.317008\n",
            "Total training time: 76.50 seconds.\n",
            "-- Epoch 17\n",
            "Norm: 3.69, NNZs: 188, Bias: 0.023508, T: 75227720, Avg. loss: 0.313357\n",
            "Total training time: 81.17 seconds.\n",
            "-- Epoch 18\n",
            "Norm: 3.70, NNZs: 188, Bias: 0.015604, T: 79652880, Avg. loss: 0.312207\n",
            "Total training time: 85.89 seconds.\n",
            "-- Epoch 19\n",
            "Norm: 3.71, NNZs: 188, Bias: 0.021381, T: 84078040, Avg. loss: 0.314803\n",
            "Total training time: 90.62 seconds.\n",
            "-- Epoch 20\n",
            "Norm: 3.70, NNZs: 188, Bias: 0.019145, T: 88503200, Avg. loss: 0.314711\n",
            "Total training time: 95.22 seconds.\n",
            "-- Epoch 21\n",
            "Norm: 3.79, NNZs: 188, Bias: 0.025549, T: 92928360, Avg. loss: 0.314204\n",
            "Total training time: 99.82 seconds.\n",
            "-- Epoch 22\n",
            "Norm: 3.69, NNZs: 188, Bias: 0.023771, T: 97353520, Avg. loss: 0.309401\n",
            "Total training time: 104.47 seconds.\n",
            "-- Epoch 23\n",
            "Norm: 3.68, NNZs: 188, Bias: 0.024601, T: 101778680, Avg. loss: 0.308526\n",
            "Total training time: 109.11 seconds.\n",
            "-- Epoch 24\n",
            "Norm: 3.68, NNZs: 188, Bias: 0.018906, T: 106203840, Avg. loss: 0.311295\n",
            "Total training time: 113.77 seconds.\n",
            "-- Epoch 25\n",
            "Norm: 3.67, NNZs: 188, Bias: 0.018038, T: 110629000, Avg. loss: 0.309350\n",
            "Total training time: 118.72 seconds.\n",
            "-- Epoch 26\n",
            "Norm: 3.69, NNZs: 188, Bias: 0.018072, T: 115054160, Avg. loss: 0.310211\n",
            "Total training time: 123.60 seconds.\n",
            "-- Epoch 27\n",
            "Norm: 3.68, NNZs: 188, Bias: 0.025564, T: 119479320, Avg. loss: 0.308784\n",
            "Total training time: 128.24 seconds.\n",
            "Convergence after 27 epochs took 128.24 seconds\n"
          ]
        },
        {
          "output_type": "execute_result",
          "data": {
            "text/plain": [
              "SGDClassifier(verbose=1000)"
            ]
          },
          "metadata": {},
          "execution_count": 14
        }
      ]
    },
    {
      "cell_type": "code",
      "source": [
        "clf.score(X_test, y_test)"
      ],
      "metadata": {
        "colab": {
          "base_uri": "https://localhost:8080/"
        },
        "id": "ibJJW5MSTYwU",
        "outputId": "787d4d48-069e-4bbe-d29f-c548a7c83083"
      },
      "execution_count": 15,
      "outputs": [
        {
          "output_type": "execute_result",
          "data": {
            "text/plain": [
              "0.8730487728816378"
            ]
          },
          "metadata": {},
          "execution_count": 15
        }
      ]
    },
    {
      "cell_type": "code",
      "source": [
        "clf.get_params()"
      ],
      "metadata": {
        "colab": {
          "base_uri": "https://localhost:8080/"
        },
        "id": "NGMAsrrtTcWy",
        "outputId": "4efc26f4-4371-42ba-bb60-04191cc5768e"
      },
      "execution_count": 16,
      "outputs": [
        {
          "output_type": "execute_result",
          "data": {
            "text/plain": [
              "{'alpha': 0.0001,\n",
              " 'average': False,\n",
              " 'class_weight': None,\n",
              " 'early_stopping': False,\n",
              " 'epsilon': 0.1,\n",
              " 'eta0': 0.0,\n",
              " 'fit_intercept': True,\n",
              " 'l1_ratio': 0.15,\n",
              " 'learning_rate': 'optimal',\n",
              " 'loss': 'hinge',\n",
              " 'max_iter': 1000,\n",
              " 'n_iter_no_change': 5,\n",
              " 'n_jobs': None,\n",
              " 'penalty': 'l2',\n",
              " 'power_t': 0.5,\n",
              " 'random_state': None,\n",
              " 'shuffle': True,\n",
              " 'tol': 0.001,\n",
              " 'validation_fraction': 0.1,\n",
              " 'verbose': 1000,\n",
              " 'warm_start': False}"
            ]
          },
          "metadata": {},
          "execution_count": 16
        }
      ]
    }
  ]
}