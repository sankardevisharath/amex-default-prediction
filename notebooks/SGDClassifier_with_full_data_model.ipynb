{
  "nbformat": 4,
  "nbformat_minor": 0,
  "metadata": {
    "colab": {
      "provenance": [],
      "collapsed_sections": [],
      "machine_shape": "hm",
      "mount_file_id": "16ixhwTBvHd_z7wwH9EGHTQgIXmoHAHSI",
      "authorship_tag": "ABX9TyMtz2IKD7mN+2VeVOoTJ9pR",
      "include_colab_link": true
    },
    "kernelspec": {
      "name": "python3",
      "display_name": "Python 3"
    },
    "language_info": {
      "name": "python"
    },
    "gpuClass": "standard"
  },
  "cells": [
    {
      "cell_type": "markdown",
      "metadata": {
        "id": "view-in-github",
        "colab_type": "text"
      },
      "source": [
        "<a href=\"https://colab.research.google.com/github/sankardevisharath/amex-default-prediction/blob/master/notebooks/SGDClassifier_with_full_data_model.ipynb\" target=\"_parent\"><img src=\"https://colab.research.google.com/assets/colab-badge.svg\" alt=\"Open In Colab\"/></a>"
      ]
    },
    {
      "cell_type": "code",
      "source": [
        "from os import listdir\n",
        "\n",
        "files = listdir('/content/drive/MyDrive/amex-default-prediction/data/raw/')"
      ],
      "metadata": {
        "id": "qDhpXsRkbY7g"
      },
      "execution_count": 1,
      "outputs": []
    },
    {
      "cell_type": "code",
      "source": [
        "import gc \n",
        "\n",
        "import numpy as np\n",
        "import pandas as pd\n",
        "from sklearn.preprocessing import OrdinalEncoder\n",
        "from sklearn.model_selection import train_test_split\n",
        "from sklearn.linear_model import SGDClassifier\n",
        "from sklearn.metrics import confusion_matrix\n",
        "from sklearn.metrics import f1_score\n",
        "\n",
        "from sklearn.datasets import make_classification\n",
        "from sklearn.metrics import plot_confusion_matrix\n",
        "from sklearn.metrics import classification_report\n",
        "import matplotlib.pyplot as plt"
      ],
      "metadata": {
        "id": "nx_k17C4dJpj"
      },
      "execution_count": 2,
      "outputs": []
    },
    {
      "cell_type": "code",
      "source": [
        "cat_cols = ['D_63', 'D_64','B_30', 'B_38', 'D_114', 'D_116', 'D_117', 'D_120', 'D_126', 'D_66', 'D_68']\n",
        "TRAIN_LABELS_PATH = '/content/train_labels.csv'"
      ],
      "metadata": {
        "id": "IdDL1GU3gPxH"
      },
      "execution_count": 3,
      "outputs": []
    },
    {
      "cell_type": "code",
      "source": [
        "!unzip /content/drive/MyDrive/amex-default-prediction/data/amex-default-prediction.zip \\\n",
        " train_labels.csv"
      ],
      "metadata": {
        "colab": {
          "base_uri": "https://localhost:8080/"
        },
        "id": "tOb-N7dCiaDi",
        "outputId": "2ac9eeb4-6396-437d-bd1b-daaeec06fe6b"
      },
      "execution_count": 4,
      "outputs": [
        {
          "output_type": "stream",
          "name": "stdout",
          "text": [
            "Archive:  /content/drive/MyDrive/amex-default-prediction/data/amex-default-prediction.zip\n",
            "  inflating: train_labels.csv        \n"
          ]
        }
      ]
    },
    {
      "cell_type": "code",
      "source": [
        "train_labels = pd.read_csv(TRAIN_LABELS_PATH)"
      ],
      "metadata": {
        "id": "0cIgqjH2hMML"
      },
      "execution_count": 5,
      "outputs": []
    },
    {
      "cell_type": "code",
      "source": [
        "def append_label(source_df):\n",
        "  return pd.merge(left=source_df, right=train_labels, how='inner')"
      ],
      "metadata": {
        "id": "eAEoVByIgU-W"
      },
      "execution_count": 6,
      "outputs": []
    },
    {
      "cell_type": "code",
      "source": [
        "flag = True\n",
        "X = pd.DataFrame()\n",
        "Y = pd.DataFrame()\n",
        "\n",
        "for f in files:\n",
        "  print(f)\n",
        "  df_tmp = pd.read_parquet('/content/drive/MyDrive/amex-default-prediction/data/raw/' + f)\n",
        "  df_tmp = append_label(df_tmp)\n",
        "\n",
        "\n",
        "  if(flag):\n",
        "     enc = OrdinalEncoder(handle_unknown='use_encoded_value', unknown_value=-1)\n",
        "     df_tmp[['D_63', 'D_64']]=enc.fit(df_tmp[['D_63', 'D_64']])\n",
        "     flag = False\n",
        "\n",
        "  df_tmp[['D_63', 'D_64']]=enc.transform(df_tmp[['D_63', 'D_64']])\n",
        "  df_tmp.fillna(0, inplace=True)\n",
        "\n",
        "  X= X.append(df_tmp.loc[:, ~df_tmp.columns.isin(['customer_ID', 'S_2', 'target'])])\n",
        "\n",
        "  Y = Y.append(df_tmp.loc[:, df_tmp.columns == 'target'])\n",
        "\n",
        "  \n",
        "  del df_tmp\n",
        "  gc.collect()\n"
      ],
      "metadata": {
        "colab": {
          "base_uri": "https://localhost:8080/"
        },
        "id": "Ivmf5DcQc6tP",
        "outputId": "59a90068-271f-4ead-eb15-98bee327105c"
      },
      "execution_count": 7,
      "outputs": [
        {
          "output_type": "stream",
          "name": "stdout",
          "text": [
            "data_2017-04.parquet\n",
            "data_2017-05.parquet\n",
            "data_2017-06.parquet\n",
            "data_2017-03.parquet\n",
            "data_2017-07.parquet\n",
            "data_2017-08.parquet\n",
            "data_2017-09.parquet\n",
            "data_2017-10.parquet\n",
            "data_2017-11.parquet\n",
            "data_2017-12.parquet\n",
            "data_2018-01.parquet\n",
            "data_2018-02.parquet\n",
            "data_2018-03.parquet\n"
          ]
        }
      ]
    },
    {
      "cell_type": "code",
      "source": [
        " X_train, X_test, y_train, y_test = train_test_split(X, Y, test_size=0.2)"
      ],
      "metadata": {
        "id": "1R7fzQ4ueFRI"
      },
      "execution_count": 8,
      "outputs": []
    },
    {
      "cell_type": "code",
      "source": [
        "gc.collect()"
      ],
      "metadata": {
        "colab": {
          "base_uri": "https://localhost:8080/"
        },
        "id": "-T0WHRL6qP6j",
        "outputId": "573d7991-56a7-4f69-eb75-1dcb634cee04"
      },
      "execution_count": 9,
      "outputs": [
        {
          "output_type": "execute_result",
          "data": {
            "text/plain": [
              "44"
            ]
          },
          "metadata": {},
          "execution_count": 9
        }
      ]
    },
    {
      "cell_type": "code",
      "source": [
        "del X, Y"
      ],
      "metadata": {
        "id": "OFhJ34_GqSXX"
      },
      "execution_count": 10,
      "outputs": []
    },
    {
      "cell_type": "code",
      "source": [
        "gc.collect()"
      ],
      "metadata": {
        "colab": {
          "base_uri": "https://localhost:8080/"
        },
        "id": "xfMZBQqUqVd3",
        "outputId": "0afb5014-fb6e-41c8-8a57-c2a56b72d023"
      },
      "execution_count": 11,
      "outputs": [
        {
          "output_type": "execute_result",
          "data": {
            "text/plain": [
              "44"
            ]
          },
          "metadata": {},
          "execution_count": 11
        }
      ]
    },
    {
      "cell_type": "code",
      "source": [
        "clf = SGDClassifier(verbose=1000)"
      ],
      "metadata": {
        "id": "nvz7kcD8frrt"
      },
      "execution_count": 12,
      "outputs": []
    },
    {
      "cell_type": "code",
      "source": [
        "clf.fit(X_train, y_train.values.ravel())"
      ],
      "metadata": {
        "id": "d-Ho-fcIf3vw",
        "colab": {
          "base_uri": "https://localhost:8080/"
        },
        "outputId": "4ed2ff41-70f2-496f-e1a6-ec120318529c"
      },
      "execution_count": 13,
      "outputs": [
        {
          "output_type": "stream",
          "name": "stdout",
          "text": [
            "-- Epoch 1\n",
            "Norm: 4.93, NNZs: 188, Bias: -0.173496, T: 4425160, Avg. loss: 1.831394\n",
            "Total training time: 3.59 seconds.\n",
            "-- Epoch 2\n",
            "Norm: 4.91, NNZs: 188, Bias: -0.031544, T: 8850320, Avg. loss: 0.503377\n",
            "Total training time: 7.03 seconds.\n",
            "-- Epoch 3\n",
            "Norm: 10.44, NNZs: 188, Bias: 0.015538, T: 13275480, Avg. loss: 0.391585\n",
            "Total training time: 10.35 seconds.\n",
            "-- Epoch 4\n",
            "Norm: 3.80, NNZs: 188, Bias: 0.000906, T: 17700640, Avg. loss: 0.400212\n",
            "Total training time: 13.60 seconds.\n",
            "-- Epoch 5\n",
            "Norm: 3.84, NNZs: 188, Bias: -0.006603, T: 22125800, Avg. loss: 0.357378\n",
            "Total training time: 16.87 seconds.\n",
            "-- Epoch 6\n",
            "Norm: 3.75, NNZs: 188, Bias: -0.009702, T: 26550960, Avg. loss: 0.346784\n",
            "Total training time: 20.20 seconds.\n",
            "-- Epoch 7\n",
            "Norm: 3.76, NNZs: 188, Bias: 0.004650, T: 30976120, Avg. loss: 0.339298\n",
            "Total training time: 23.61 seconds.\n",
            "-- Epoch 8\n",
            "Norm: 3.75, NNZs: 188, Bias: 0.000204, T: 35401280, Avg. loss: 0.335067\n",
            "Total training time: 26.96 seconds.\n",
            "-- Epoch 9\n",
            "Norm: 3.76, NNZs: 188, Bias: 0.009120, T: 39826440, Avg. loss: 0.334283\n",
            "Total training time: 30.28 seconds.\n",
            "-- Epoch 10\n",
            "Norm: 3.71, NNZs: 188, Bias: 0.004426, T: 44251600, Avg. loss: 0.322797\n",
            "Total training time: 33.59 seconds.\n",
            "-- Epoch 11\n",
            "Norm: 3.71, NNZs: 188, Bias: 0.007165, T: 48676760, Avg. loss: 0.316032\n",
            "Total training time: 36.98 seconds.\n",
            "-- Epoch 12\n",
            "Norm: 3.72, NNZs: 188, Bias: 0.019126, T: 53101920, Avg. loss: 0.318543\n",
            "Total training time: 40.30 seconds.\n",
            "-- Epoch 13\n",
            "Norm: 3.71, NNZs: 188, Bias: 0.010303, T: 57527080, Avg. loss: 0.319713\n",
            "Total training time: 43.66 seconds.\n",
            "-- Epoch 14\n",
            "Norm: 3.70, NNZs: 188, Bias: 0.009977, T: 61952240, Avg. loss: 0.316095\n",
            "Total training time: 47.01 seconds.\n",
            "-- Epoch 15\n",
            "Norm: 3.68, NNZs: 188, Bias: 0.007176, T: 66377400, Avg. loss: 0.318916\n",
            "Total training time: 50.34 seconds.\n",
            "-- Epoch 16\n",
            "Norm: 3.70, NNZs: 188, Bias: 0.014125, T: 70802560, Avg. loss: 0.313962\n",
            "Total training time: 53.69 seconds.\n",
            "-- Epoch 17\n",
            "Norm: 3.69, NNZs: 188, Bias: 0.018628, T: 75227720, Avg. loss: 0.313016\n",
            "Total training time: 57.07 seconds.\n",
            "-- Epoch 18\n",
            "Norm: 3.70, NNZs: 188, Bias: 0.015575, T: 79652880, Avg. loss: 0.309976\n",
            "Total training time: 60.39 seconds.\n",
            "-- Epoch 19\n",
            "Norm: 3.70, NNZs: 188, Bias: 0.016800, T: 84078040, Avg. loss: 0.311455\n",
            "Total training time: 63.74 seconds.\n",
            "-- Epoch 20\n",
            "Norm: 3.70, NNZs: 188, Bias: 0.014625, T: 88503200, Avg. loss: 0.313179\n",
            "Total training time: 67.10 seconds.\n",
            "-- Epoch 21\n",
            "Norm: 3.70, NNZs: 188, Bias: 0.019307, T: 92928360, Avg. loss: 0.310245\n",
            "Total training time: 70.56 seconds.\n",
            "-- Epoch 22\n",
            "Norm: 3.68, NNZs: 188, Bias: 0.020484, T: 97353520, Avg. loss: 0.311503\n",
            "Total training time: 73.95 seconds.\n",
            "-- Epoch 23\n",
            "Norm: 3.71, NNZs: 188, Bias: 0.016629, T: 101778680, Avg. loss: 0.308113\n",
            "Total training time: 77.30 seconds.\n",
            "-- Epoch 24\n",
            "Norm: 3.70, NNZs: 188, Bias: 0.024154, T: 106203840, Avg. loss: 0.311036\n",
            "Total training time: 80.70 seconds.\n",
            "-- Epoch 25\n",
            "Norm: 3.69, NNZs: 188, Bias: 0.015263, T: 110629000, Avg. loss: 0.310644\n",
            "Total training time: 84.07 seconds.\n",
            "-- Epoch 26\n",
            "Norm: 3.69, NNZs: 188, Bias: 0.021222, T: 115054160, Avg. loss: 0.308307\n",
            "Total training time: 87.37 seconds.\n",
            "-- Epoch 27\n",
            "Norm: 3.69, NNZs: 188, Bias: 0.020478, T: 119479320, Avg. loss: 0.308334\n",
            "Total training time: 90.70 seconds.\n",
            "-- Epoch 28\n",
            "Norm: 3.69, NNZs: 188, Bias: 0.024464, T: 123904480, Avg. loss: 0.308211\n",
            "Total training time: 94.05 seconds.\n",
            "Convergence after 28 epochs took 94.05 seconds\n"
          ]
        },
        {
          "output_type": "execute_result",
          "data": {
            "text/plain": [
              "SGDClassifier(verbose=1000)"
            ]
          },
          "metadata": {},
          "execution_count": 13
        }
      ]
    },
    {
      "cell_type": "code",
      "source": [
        "clf.score(X_test, y_test)"
      ],
      "metadata": {
        "colab": {
          "base_uri": "https://localhost:8080/"
        },
        "id": "ibJJW5MSTYwU",
        "outputId": "924eb8b8-cc35-4e71-f929-d644314a4ba3"
      },
      "execution_count": 14,
      "outputs": [
        {
          "output_type": "execute_result",
          "data": {
            "text/plain": [
              "0.8726709337778216"
            ]
          },
          "metadata": {},
          "execution_count": 14
        }
      ]
    },
    {
      "cell_type": "code",
      "source": [
        "clf.get_params()"
      ],
      "metadata": {
        "colab": {
          "base_uri": "https://localhost:8080/"
        },
        "id": "NGMAsrrtTcWy",
        "outputId": "00cc1026-63be-4b96-ec95-dc2a33f3ec54"
      },
      "execution_count": 15,
      "outputs": [
        {
          "output_type": "execute_result",
          "data": {
            "text/plain": [
              "{'alpha': 0.0001,\n",
              " 'average': False,\n",
              " 'class_weight': None,\n",
              " 'early_stopping': False,\n",
              " 'epsilon': 0.1,\n",
              " 'eta0': 0.0,\n",
              " 'fit_intercept': True,\n",
              " 'l1_ratio': 0.15,\n",
              " 'learning_rate': 'optimal',\n",
              " 'loss': 'hinge',\n",
              " 'max_iter': 1000,\n",
              " 'n_iter_no_change': 5,\n",
              " 'n_jobs': None,\n",
              " 'penalty': 'l2',\n",
              " 'power_t': 0.5,\n",
              " 'random_state': None,\n",
              " 'shuffle': True,\n",
              " 'tol': 0.001,\n",
              " 'validation_fraction': 0.1,\n",
              " 'verbose': 1000,\n",
              " 'warm_start': False}"
            ]
          },
          "metadata": {},
          "execution_count": 15
        }
      ]
    },
    {
      "cell_type": "code",
      "source": [
        "y_pred = clf.predict(X_test)"
      ],
      "metadata": {
        "id": "rEZ7WJg-ri_c"
      },
      "execution_count": 16,
      "outputs": []
    },
    {
      "cell_type": "code",
      "source": [
        "tn, fp, fn, tp = confusion_matrix(y_test, y_pred).ravel()"
      ],
      "metadata": {
        "id": "VpDuIcwcr-rn"
      },
      "execution_count": 17,
      "outputs": []
    },
    {
      "cell_type": "code",
      "source": [
        "tn, fp, fn, tp"
      ],
      "metadata": {
        "colab": {
          "base_uri": "https://localhost:8080/"
        },
        "id": "EegTKc03sL4F",
        "outputId": "6fcb1543-4fa6-4db2-adf2-6b9d449265ff"
      },
      "execution_count": 18,
      "outputs": [
        {
          "output_type": "execute_result",
          "data": {
            "text/plain": [
              "(762305, 68825, 72038, 203123)"
            ]
          },
          "metadata": {},
          "execution_count": 18
        }
      ]
    },
    {
      "cell_type": "code",
      "source": [
        "f1_score(y_test, y_pred)"
      ],
      "metadata": {
        "colab": {
          "base_uri": "https://localhost:8080/"
        },
        "id": "0h4Ph6YMsi_L",
        "outputId": "652ebfb1-514b-4887-aaec-ce2525400571"
      },
      "execution_count": 19,
      "outputs": [
        {
          "output_type": "execute_result",
          "data": {
            "text/plain": [
              "0.7425321096892941"
            ]
          },
          "metadata": {},
          "execution_count": 19
        }
      ]
    },
    {
      "cell_type": "code",
      "source": [
        "print(classification_report(y_test, y_pred, digits=4))"
      ],
      "metadata": {
        "id": "QJr8WVsItVBk",
        "colab": {
          "base_uri": "https://localhost:8080/"
        },
        "outputId": "dd653945-d4cb-43f5-8ace-6b8e9b99c65f"
      },
      "execution_count": 20,
      "outputs": [
        {
          "output_type": "stream",
          "name": "stdout",
          "text": [
            "              precision    recall  f1-score   support\n",
            "\n",
            "           0     0.9137    0.9172    0.9154    831130\n",
            "           1     0.7469    0.7382    0.7425    275161\n",
            "\n",
            "    accuracy                         0.8727   1106291\n",
            "   macro avg     0.8303    0.8277    0.8290   1106291\n",
            "weighted avg     0.8722    0.8727    0.8724   1106291\n",
            "\n"
          ]
        }
      ]
    },
    {
      "cell_type": "code",
      "source": [
        "plot_confusion_matrix(clf, X_test, y_test,display_labels=['Non-Default', 'Default'], values_format='10d')  \n",
        "plt.show()"
      ],
      "metadata": {
        "colab": {
          "base_uri": "https://localhost:8080/",
          "height": 334
        },
        "id": "XHwJrAeYv6bi",
        "outputId": "8ca15b02-1f0c-42f4-eb1d-acd6f2b1fd80"
      },
      "execution_count": 27,
      "outputs": [
        {
          "output_type": "stream",
          "name": "stderr",
          "text": [
            "/usr/local/lib/python3.7/dist-packages/sklearn/utils/deprecation.py:87: FutureWarning: Function plot_confusion_matrix is deprecated; Function `plot_confusion_matrix` is deprecated in 1.0 and will be removed in 1.2. Use one of the class methods: ConfusionMatrixDisplay.from_predictions or ConfusionMatrixDisplay.from_estimator.\n",
            "  warnings.warn(msg, category=FutureWarning)\n"
          ]
        },
        {
          "output_type": "display_data",
          "data": {
            "text/plain": [
              "<Figure size 432x288 with 2 Axes>"
            ],
            "image/png": "[encoded data removed]"
          },
          "metadata": {
            "needs_background": "light"
          }
        }
      ]
    }
  ]
}