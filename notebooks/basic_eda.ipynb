{
 "cells": [
  {
   "cell_type": "code",
   "execution_count": 1,
   "metadata": {
    "collapsed": true,
    "pycharm": {
     "name": "#%%\n"
    }
   },
   "outputs": [],
   "source": [
    "import gc\n",
    "\n",
    "import pandas as pd\n",
    "import matplotlib.pyplot as plt\n",
    "import seaborn as sns"
   ]
  },
  {
   "cell_type": "code",
   "execution_count": 2,
   "outputs": [],
   "source": [
    "train_raw = pd.read_parquet('/home/sarath/uob/git/amex-default-prediction/data/processed/train.parquet')"
   ],
   "metadata": {
    "collapsed": false,
    "pycharm": {
     "name": "#%%\n"
    }
   }
  },
  {
   "cell_type": "code",
   "execution_count": 3,
   "outputs": [
    {
     "name": "stdout",
     "output_type": "stream",
     "text": [
      "<class 'pandas.core.frame.DataFrame'>\n",
      "RangeIndex: 5531451 entries, 0 to 5531450\n",
      "Data columns (total 190 columns):\n",
      " #    Column       Non-Null Count    Dtype  \n",
      "---   ------       --------------    -----  \n",
      " 0    customer_ID  5531451 non-null  object \n",
      " 1    S_2          5531451 non-null  object \n",
      " 2    P_2          5485466 non-null  float32\n",
      " 3    D_39         5531451 non-null  int16  \n",
      " 4    B_1          5531451 non-null  float32\n",
      " 5    B_2          5529435 non-null  float32\n",
      " 6    R_1          5531451 non-null  float32\n",
      " 7    S_3          4510907 non-null  float32\n",
      " 8    D_41         5529435 non-null  float32\n",
      " 9    B_3          5529435 non-null  float32\n",
      " 10   D_42         791314 non-null   float32\n",
      " 11   D_43         3873055 non-null  float32\n",
      " 12   D_44         5531451 non-null  int8   \n",
      " 13   B_4          5531451 non-null  int16  \n",
      " 14   D_45         5529434 non-null  float32\n",
      " 15   B_5          5531451 non-null  float32\n",
      " 16   R_2          5531451 non-null  int8   \n",
      " 17   D_46         4319752 non-null  float32\n",
      " 18   D_47         5531451 non-null  float32\n",
      " 19   D_48         4812726 non-null  float32\n",
      " 20   D_49         5531451 non-null  int16  \n",
      " 21   B_6          5531218 non-null  float32\n",
      " 22   B_7          5531451 non-null  float32\n",
      " 23   B_8          5509183 non-null  float32\n",
      " 24   D_50         2389049 non-null  float32\n",
      " 25   D_51         5531451 non-null  int8   \n",
      " 26   B_9          5531451 non-null  float32\n",
      " 27   R_3          5531451 non-null  int8   \n",
      " 28   D_52         5501888 non-null  float32\n",
      " 29   P_3          5229959 non-null  float32\n",
      " 30   B_10         5531451 non-null  float32\n",
      " 31   D_53         1446866 non-null  float32\n",
      " 32   S_5          5531451 non-null  float32\n",
      " 33   B_11         5531451 non-null  float32\n",
      " 34   S_6          5531451 non-null  int8   \n",
      " 35   D_54         5529435 non-null  float32\n",
      " 36   R_4          5531451 non-null  int8   \n",
      " 37   S_7          4510907 non-null  float32\n",
      " 38   B_12         5531451 non-null  float32\n",
      " 39   S_8          5531451 non-null  int16  \n",
      " 40   D_55         5346648 non-null  float32\n",
      " 41   D_56         2540508 non-null  float32\n",
      " 42   B_13         5481932 non-null  float32\n",
      " 43   R_5          5531451 non-null  int8   \n",
      " 44   D_58         5531451 non-null  float32\n",
      " 45   S_9          2597808 non-null  float32\n",
      " 46   B_14         5531451 non-null  float32\n",
      " 47   D_59         5531451 non-null  int8   \n",
      " 48   D_60         5531451 non-null  float32\n",
      " 49   D_61         4933399 non-null  float32\n",
      " 50   B_15         5524528 non-null  float32\n",
      " 51   S_11         5531451 non-null  int8   \n",
      " 52   D_62         4773290 non-null  float32\n",
      " 53   D_63         5531451 non-null  int8   \n",
      " 54   D_64         5531451 non-null  int8   \n",
      " 55   D_65         5531451 non-null  int16  \n",
      " 56   B_16         5531451 non-null  int8   \n",
      " 57   B_17         2393853 non-null  float32\n",
      " 58   B_18         5531451 non-null  float32\n",
      " 59   B_19         5531451 non-null  int8   \n",
      " 60   D_66         5531451 non-null  int8   \n",
      " 61   B_20         5531451 non-null  int8   \n",
      " 62   D_68         5531451 non-null  int8   \n",
      " 63   S_12         5531451 non-null  float32\n",
      " 64   R_6          5531451 non-null  float32\n",
      " 65   S_13         5531451 non-null  int16  \n",
      " 66   B_21         5531451 non-null  float32\n",
      " 67   D_69         5336978 non-null  float32\n",
      " 68   B_22         5531451 non-null  int8   \n",
      " 69   D_70         5531451 non-null  int8   \n",
      " 70   D_71         5531451 non-null  float32\n",
      " 71   D_72         5531451 non-null  int8   \n",
      " 72   S_15         5531451 non-null  int8   \n",
      " 73   B_23         5531451 non-null  float32\n",
      " 74   D_73         55856 non-null    float32\n",
      " 75   P_4          5531451 non-null  float32\n",
      " 76   D_74         5531451 non-null  int8   \n",
      " 77   D_75         5531451 non-null  int8   \n",
      " 78   D_76         622497 non-null   float32\n",
      " 79   B_24         5531451 non-null  float32\n",
      " 80   R_7          5531450 non-null  float32\n",
      " 81   D_77         3017539 non-null  float32\n",
      " 82   B_25         5524528 non-null  float32\n",
      " 83   B_26         5529435 non-null  float32\n",
      " 84   D_78         5531451 non-null  int8   \n",
      " 85   D_79         5531451 non-null  int8   \n",
      " 86   R_8          5531451 non-null  int8   \n",
      " 87   R_9          5531451 non-null  int8   \n",
      " 88   S_16         5531451 non-null  float32\n",
      " 89   D_80         5531451 non-null  int8   \n",
      " 90   R_10         5531451 non-null  int8   \n",
      " 91   R_11         5531451 non-null  int8   \n",
      " 92   B_27         5529435 non-null  float32\n",
      " 93   D_81         5531451 non-null  int8   \n",
      " 94   D_82         5531451 non-null  int8   \n",
      " 95   S_17         5531451 non-null  float32\n",
      " 96   R_12         5531395 non-null  float32\n",
      " 97   B_28         5531451 non-null  float32\n",
      " 98   R_13         5531451 non-null  int8   \n",
      " 99   D_83         5531451 non-null  int8   \n",
      " 100  R_14         5531450 non-null  float32\n",
      " 101  R_15         5531451 non-null  int8   \n",
      " 102  D_84         5531451 non-null  int8   \n",
      " 103  R_16         5531451 non-null  int8   \n",
      " 104  B_29         381416 non-null   float32\n",
      " 105  B_30         5531451 non-null  int8   \n",
      " 106  S_18         5531451 non-null  int8   \n",
      " 107  D_86         5531451 non-null  int8   \n",
      " 108  D_87         5531451 non-null  int8   \n",
      " 109  R_17         5531451 non-null  int8   \n",
      " 110  R_18         5531451 non-null  int8   \n",
      " 111  D_88         6004 non-null     float32\n",
      " 112  B_31         5531451 non-null  int8   \n",
      " 113  S_19         5531451 non-null  float32\n",
      " 114  R_19         5531451 non-null  int8   \n",
      " 115  B_32         5531451 non-null  int8   \n",
      " 116  S_20         5531451 non-null  int8   \n",
      " 117  R_20         5531451 non-null  int8   \n",
      " 118  R_21         5531451 non-null  int8   \n",
      " 119  B_33         5531451 non-null  int8   \n",
      " 120  D_89         5531451 non-null  int8   \n",
      " 121  R_22         5531451 non-null  int8   \n",
      " 122  R_23         5531451 non-null  int8   \n",
      " 123  D_91         5531451 non-null  int8   \n",
      " 124  D_92         5531451 non-null  int8   \n",
      " 125  D_93         5531451 non-null  int8   \n",
      " 126  D_94         5531451 non-null  int8   \n",
      " 127  R_24         5531451 non-null  int8   \n",
      " 128  R_25         5531451 non-null  int8   \n",
      " 129  D_96         5531451 non-null  int8   \n",
      " 130  S_22         5512427 non-null  float32\n",
      " 131  S_23         5531006 non-null  float32\n",
      " 132  S_24         5512858 non-null  float32\n",
      " 133  S_25         5518604 non-null  float32\n",
      " 134  S_26         5530817 non-null  float32\n",
      " 135  D_102        5490796 non-null  float32\n",
      " 136  D_103        5531451 non-null  int8   \n",
      " 137  D_104        5429903 non-null  float32\n",
      " 138  D_105        2510020 non-null  float32\n",
      " 139  D_106        5531451 non-null  int16  \n",
      " 140  D_107        5531451 non-null  int8   \n",
      " 141  B_36         5531451 non-null  float32\n",
      " 142  B_37         5531395 non-null  float32\n",
      " 143  R_26         5531451 non-null  int16  \n",
      " 144  R_27         5402748 non-null  float32\n",
      " 145  B_38         5531451 non-null  int8   \n",
      " 146  D_108        5531451 non-null  int8   \n",
      " 147  D_109        5531451 non-null  int8   \n",
      " 148  D_110        31334 non-null    float32\n",
      " 149  D_111        5531451 non-null  int8   \n",
      " 150  B_39         33632 non-null    float32\n",
      " 151  D_112        5528801 non-null  float32\n",
      " 152  B_40         5531398 non-null  float32\n",
      " 153  S_27         4130516 non-null  float32\n",
      " 154  D_113        5531451 non-null  int8   \n",
      " 155  D_114        5531451 non-null  int8   \n",
      " 156  D_115        5354735 non-null  float32\n",
      " 157  D_116        5531451 non-null  int8   \n",
      " 158  D_117        5531451 non-null  int8   \n",
      " 159  D_118        5354735 non-null  float32\n",
      " 160  D_119        5354735 non-null  float32\n",
      " 161  D_120        5531451 non-null  int8   \n",
      " 162  D_121        5354735 non-null  float32\n",
      " 163  D_122        5531451 non-null  int8   \n",
      " 164  D_123        5531451 non-null  int8   \n",
      " 165  D_124        5531451 non-null  int16  \n",
      " 166  D_125        5531451 non-null  int8   \n",
      " 167  D_126        5531451 non-null  int8   \n",
      " 168  D_127        5531451 non-null  int8   \n",
      " 169  D_128        5429903 non-null  float32\n",
      " 170  D_129        5531451 non-null  int8   \n",
      " 171  B_41         5531451 non-null  int8   \n",
      " 172  B_42         71478 non-null    float32\n",
      " 173  D_130        5429903 non-null  float32\n",
      " 174  D_131        5429903 non-null  float32\n",
      " 175  D_132        542577 non-null   float32\n",
      " 176  D_133        5488735 non-null  float32\n",
      " 177  R_28         5531451 non-null  int8   \n",
      " 178  D_134        194699 non-null   float32\n",
      " 179  D_135        5531451 non-null  int8   \n",
      " 180  D_136        5531451 non-null  int8   \n",
      " 181  D_137        5531451 non-null  int8   \n",
      " 182  D_138        5531451 non-null  int8   \n",
      " 183  D_139        5531451 non-null  int8   \n",
      " 184  D_140        5531451 non-null  int8   \n",
      " 185  D_141        5429903 non-null  float32\n",
      " 186  D_142        944408 non-null   float32\n",
      " 187  D_143        5531451 non-null  int8   \n",
      " 188  D_144        5490724 non-null  float32\n",
      " 189  D_145        5531451 non-null  int8   \n",
      "dtypes: float32(93), int16(9), int8(86), object(2)\n",
      "memory usage: 2.5+ GB\n"
     ]
    }
   ],
   "source": [
    "train_raw.info(verbose=True, show_counts=True)"
   ],
   "metadata": {
    "collapsed": false,
    "pycharm": {
     "name": "#%%\n"
    }
   }
  },
  {
   "cell_type": "code",
   "execution_count": 4,
   "outputs": [
    {
     "data": {
      "text/plain": "                                         customer_ID         S_2       P_2  \\\n0  0000099d6bd597052cdcda90ffabf56573fe9d7c79be5f...  2017-03-09  0.938469   \n1  0000099d6bd597052cdcda90ffabf56573fe9d7c79be5f...  2017-04-07  0.936665   \n2  0000099d6bd597052cdcda90ffabf56573fe9d7c79be5f...  2017-05-28  0.954180   \n\n   D_39       B_1       B_2       R_1       S_3  D_41       B_3  ...  D_136  \\\n0     0  0.008724  1.006838  0.009228  0.124035   0.0  0.004709  ...     -1   \n1     0  0.004923  1.000653  0.006151  0.126750   0.0  0.002714  ...     -1   \n2     3  0.021655  1.009672  0.006815  0.123977   0.0  0.009423  ...     -1   \n\n   D_137  D_138  D_139  D_140  D_141  D_142  D_143     D_144  D_145  \n0     -1     -1      0      0    0.0    NaN      0  0.000610      0  \n1     -1     -1      0      0    0.0    NaN      0  0.005492      0  \n2     -1     -1      0      0    0.0    NaN      0  0.006986      0  \n\n[3 rows x 190 columns]",
      "text/html": "<div>\n<style scoped>\n    .dataframe tbody tr th:only-of-type {\n        vertical-align: middle;\n    }\n\n    .dataframe tbody tr th {\n        vertical-align: top;\n    }\n\n    .dataframe thead th {\n        text-align: right;\n    }\n</style>\n<table border=\"1\" class=\"dataframe\">\n  <thead>\n    <tr style=\"text-align: right;\">\n      <th></th>\n      <th>customer_ID</th>\n      <th>S_2</th>\n      <th>P_2</th>\n      <th>D_39</th>\n      <th>B_1</th>\n      <th>B_2</th>\n      <th>R_1</th>\n      <th>S_3</th>\n      <th>D_41</th>\n      <th>B_3</th>\n      <th>...</th>\n      <th>D_136</th>\n      <th>D_137</th>\n      <th>D_138</th>\n      <th>D_139</th>\n      <th>D_140</th>\n      <th>D_141</th>\n      <th>D_142</th>\n      <th>D_143</th>\n      <th>D_144</th>\n      <th>D_145</th>\n    </tr>\n  </thead>\n  <tbody>\n    <tr>\n      <th>0</th>\n      <td>0000099d6bd597052cdcda90ffabf56573fe9d7c79be5f...</td>\n      <td>2017-03-09</td>\n      <td>0.938469</td>\n      <td>0</td>\n      <td>0.008724</td>\n      <td>1.006838</td>\n      <td>0.009228</td>\n      <td>0.124035</td>\n      <td>0.0</td>\n      <td>0.004709</td>\n      <td>...</td>\n      <td>-1</td>\n      <td>-1</td>\n      <td>-1</td>\n      <td>0</td>\n      <td>0</td>\n      <td>0.0</td>\n      <td>NaN</td>\n      <td>0</td>\n      <td>0.000610</td>\n      <td>0</td>\n    </tr>\n    <tr>\n      <th>1</th>\n      <td>0000099d6bd597052cdcda90ffabf56573fe9d7c79be5f...</td>\n      <td>2017-04-07</td>\n      <td>0.936665</td>\n      <td>0</td>\n      <td>0.004923</td>\n      <td>1.000653</td>\n      <td>0.006151</td>\n      <td>0.126750</td>\n      <td>0.0</td>\n      <td>0.002714</td>\n      <td>...</td>\n      <td>-1</td>\n      <td>-1</td>\n      <td>-1</td>\n      <td>0</td>\n      <td>0</td>\n      <td>0.0</td>\n      <td>NaN</td>\n      <td>0</td>\n      <td>0.005492</td>\n      <td>0</td>\n    </tr>\n    <tr>\n      <th>2</th>\n      <td>0000099d6bd597052cdcda90ffabf56573fe9d7c79be5f...</td>\n      <td>2017-05-28</td>\n      <td>0.954180</td>\n      <td>3</td>\n      <td>0.021655</td>\n      <td>1.009672</td>\n      <td>0.006815</td>\n      <td>0.123977</td>\n      <td>0.0</td>\n      <td>0.009423</td>\n      <td>...</td>\n      <td>-1</td>\n      <td>-1</td>\n      <td>-1</td>\n      <td>0</td>\n      <td>0</td>\n      <td>0.0</td>\n      <td>NaN</td>\n      <td>0</td>\n      <td>0.006986</td>\n      <td>0</td>\n    </tr>\n  </tbody>\n</table>\n<p>3 rows × 190 columns</p>\n</div>"
     },
     "execution_count": 4,
     "metadata": {},
     "output_type": "execute_result"
    }
   ],
   "source": [
    "train_raw.head(3)"
   ],
   "metadata": {
    "collapsed": false,
    "pycharm": {
     "name": "#%%\n"
    }
   }
  },
  {
   "cell_type": "code",
   "execution_count": 5,
   "outputs": [
    {
     "data": {
      "text/plain": "<AxesSubplot:xlabel='S_2', ylabel='count'>"
     },
     "execution_count": 5,
     "metadata": {},
     "output_type": "execute_result"
    },
    {
     "data": {
      "text/plain": "<Figure size 576x288 with 1 Axes>",
      "image/png": "[encoded data removed]"
     },
     "metadata": {
      "needs_background": "light"
     },
     "output_type": "display_data"
    }
   ],
   "source": [
    "train_raw[\"S_2\"] = pd.to_datetime(train_raw[\"S_2\"])\n",
    "statement_date_group = train_raw.groupby(train_raw.S_2.dt.to_period('M')).size()\n",
    "statement_date_group_df = pd.DataFrame(statement_date_group.to_frame())\n",
    "statement_date_group_df.columns=['count']\n",
    "plt.figure(figsize=(8, 4))\n",
    "plt.xticks(rotation=45)\n",
    "sns.barplot(x = statement_date_group_df.index, y = 'count' , data=statement_date_group_df)"
   ],
   "metadata": {
    "collapsed": false,
    "pycharm": {
     "name": "#%%\n"
    }
   }
  },
  {
   "cell_type": "code",
   "execution_count": 6,
   "outputs": [
    {
     "data": {
      "text/plain": "count    4.510907e+06\nmean     2.258454e-01\nstd      1.933475e-01\nmin     -6.271321e-01\n25%      1.272588e-01\n50%      1.639082e-01\n75%      2.581017e-01\nmax      5.482888e+00\nName: S_3, dtype: float64"
     },
     "execution_count": 6,
     "metadata": {},
     "output_type": "execute_result"
    }
   ],
   "source": [
    "train_raw['S_3'].describe()"
   ],
   "metadata": {
    "collapsed": false,
    "pycharm": {
     "name": "#%%\n"
    }
   }
  },
  {
   "cell_type": "code",
   "execution_count": 7,
   "outputs": [
    {
     "data": {
      "text/plain": "(-0.5, 1.5)"
     },
     "execution_count": 7,
     "metadata": {},
     "output_type": "execute_result"
    },
    {
     "data": {
      "text/plain": "<Figure size 360x360 with 1 Axes>",
      "image/png": "[encoded data removed]"
     },
     "metadata": {
      "needs_background": "light"
     },
     "output_type": "display_data"
    }
   ],
   "source": [
    "sns.displot(x='S_3', data=train_raw)\n",
    "plt.xlim(-0.5, 1.5)"
   ],
   "metadata": {
    "collapsed": false,
    "pycharm": {
     "name": "#%%\n"
    }
   }
  },
  {
   "cell_type": "code",
   "execution_count": null,
   "outputs": [],
   "source": [
    "for i in range(3, 10, 1):\n",
    "    col = 'S_'+ str(i)\n",
    "    if col in train_raw.columns:\n",
    "        print('Preparing distribution chart for %s'.format(col))\n",
    "        sns.displot(x=col, data=train_raw)\n"
   ],
   "metadata": {
    "collapsed": false,
    "pycharm": {
     "name": "#%%\n"
    }
   }
  }
 ],
 "metadata": {
  "kernelspec": {
   "display_name": "Python 3",
   "language": "python",
   "name": "python3"
  },
  "language_info": {
   "codemirror_mode": {
    "name": "ipython",
    "version": 2
   },
   "file_extension": ".py",
   "mimetype": "text/x-python",
   "name": "python",
   "nbconvert_exporter": "python",
   "pygments_lexer": "ipython2",
   "version": "2.7.6"
  }
 },
 "nbformat": 4,
 "nbformat_minor": 0
}