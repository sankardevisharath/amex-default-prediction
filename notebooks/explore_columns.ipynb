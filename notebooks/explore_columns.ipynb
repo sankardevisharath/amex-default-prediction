{
  "nbformat": 4,
  "nbformat_minor": 0,
  "metadata": {
    "colab": {
      "name": "explore_columns.ipynb",
      "provenance": [],
      "machine_shape": "hm",
      "authorship_tag": "ABX9TyNG1oFyTBDJDoWJ2nPmIH3B",
      "include_colab_link": true
    },
    "kernelspec": {
      "name": "python3",
      "display_name": "Python 3"
    },
    "language_info": {
      "name": "python"
    },
    "gpuClass": "standard"
  },
  "cells": [
    {
      "cell_type": "markdown",
      "metadata": {
        "id": "view-in-github",
        "colab_type": "text"
      },
      "source": [
        "<a href=\"https://colab.research.google.com/github/sankardevisharath/amex-default-prediction/blob/master/notebooks/explore_columns.ipynb\" target=\"_parent\"><img src=\"https://colab.research.google.com/assets/colab-badge.svg\" alt=\"Open In Colab\"/></a>"
      ]
    },
    {
      "cell_type": "markdown",
      "source": [
        "# Explore Dataset Column Wise"
      ],
      "metadata": {
        "id": "RqGA4wyYHNoK"
      }
    },
    {
      "cell_type": "markdown",
      "source": [
        "## Load Data From Google Drive"
      ],
      "metadata": {
        "id": "MLzT3WULHdE9"
      }
    },
    {
      "cell_type": "code",
      "execution_count": 1,
      "metadata": {
        "colab": {
          "base_uri": "https://localhost:8080/"
        },
        "id": "yvfeyd0hABGq",
        "outputId": "10c8a588-3d62-467b-b8e8-bcf9f53e919b"
      },
      "outputs": [
        {
          "output_type": "stream",
          "name": "stdout",
          "text": [
            "Mounted at /content/drive\n"
          ]
        }
      ],
      "source": [
        "from google.colab import drive\n",
        "drive.mount('/content/drive')"
      ]
    },
    {
      "cell_type": "code",
      "source": [
        "%mkdir data\n",
        "%cd data\n",
        "%mkdir raw\n",
        "%cd raw"
      ],
      "metadata": {
        "colab": {
          "base_uri": "https://localhost:8080/"
        },
        "id": "og0YOAJeAMAW",
        "outputId": "df24953a-a669-4e30-a3b6-8fc2b067be54"
      },
      "execution_count": 2,
      "outputs": [
        {
          "output_type": "stream",
          "name": "stdout",
          "text": [
            "/content/data\n",
            "/content/data/raw\n"
          ]
        }
      ]
    },
    {
      "cell_type": "code",
      "source": [
        "!cp /content/drive/MyDrive/amex-default-prediction/data/raw/amex-default-prediction.zip ."
      ],
      "metadata": {
        "id": "RVbGGz4kAj3e"
      },
      "execution_count": 3,
      "outputs": []
    },
    {
      "cell_type": "code",
      "source": [
        "!unzip amex-default-prediction.zip train_data.csv"
      ],
      "metadata": {
        "colab": {
          "base_uri": "https://localhost:8080/"
        },
        "id": "rIPZVv6vAzfV",
        "outputId": "ac2c8bb6-7d5d-4868-d0c8-220115ccb088"
      },
      "execution_count": 4,
      "outputs": [
        {
          "output_type": "stream",
          "name": "stdout",
          "text": [
            "Archive:  amex-default-prediction.zip\n",
            "  inflating: train_data.csv          \n"
          ]
        }
      ]
    },
    {
      "cell_type": "code",
      "source": [
        "!unzip amex-default-prediction.zip train_labels.csv"
      ],
      "metadata": {
        "colab": {
          "base_uri": "https://localhost:8080/"
        },
        "id": "Kjbk0awRAzIg",
        "outputId": "2962a4bd-4e46-470e-8df1-8117fc9ffed5"
      },
      "execution_count": 5,
      "outputs": [
        {
          "output_type": "stream",
          "name": "stdout",
          "text": [
            "Archive:  amex-default-prediction.zip\n",
            "  inflating: train_labels.csv        \n"
          ]
        }
      ]
    },
    {
      "cell_type": "markdown",
      "source": [
        "## Setup Environment"
      ],
      "metadata": {
        "id": "EYamfXGCH3F3"
      }
    },
    {
      "cell_type": "code",
      "source": [
        "import gc\n",
        "\n",
        "import pandas as pd\n",
        "import numpy as np \n",
        "import seaborn as sns\n",
        "import matplotlib.pyplot as plt"
      ],
      "metadata": {
        "id": "IkrUD-5OH7Q1"
      },
      "execution_count": 6,
      "outputs": []
    },
    {
      "cell_type": "code",
      "source": [
        "TRAIN_DATA_PATH = '/content/data/raw/train_data.csv'\n",
        "TRAIN_LABELS_PATH = '/content/data/raw/train_labels.csv'"
      ],
      "metadata": {
        "id": "POPeOLcBCtaI"
      },
      "execution_count": 7,
      "outputs": []
    },
    {
      "cell_type": "code",
      "source": [
        "def read_cols(cols):\n",
        "  df = pd.read_csv(TRAIN_DATA_PATH, usecols=cols)\n",
        "  df = append_label(df)\n",
        "  return df"
      ],
      "metadata": {
        "id": "L_IXM4tjwJPD"
      },
      "execution_count": 8,
      "outputs": []
    },
    {
      "cell_type": "markdown",
      "source": [
        "## Explore Column Metadata"
      ],
      "metadata": {
        "id": "lUDXFiWNHlTt"
      }
    },
    {
      "cell_type": "markdown",
      "source": [
        "Load train labels dataframe"
      ],
      "metadata": {
        "id": "ZxLRFgiQKNgy"
      }
    },
    {
      "cell_type": "code",
      "source": [
        "train_labels = pd.read_csv(TRAIN_LABELS_PATH)"
      ],
      "metadata": {
        "id": "aS4pw9sNKSnh"
      },
      "execution_count": 9,
      "outputs": []
    },
    {
      "cell_type": "code",
      "source": [
        "train_labels.info()"
      ],
      "metadata": {
        "id": "X2Iih-ubKbAb",
        "outputId": "52e11ce2-c2e9-4292-8b68-c956c5f1c6d1",
        "colab": {
          "base_uri": "https://localhost:8080/"
        }
      },
      "execution_count": 10,
      "outputs": [
        {
          "output_type": "stream",
          "name": "stdout",
          "text": [
            "<class 'pandas.core.frame.DataFrame'>\n",
            "RangeIndex: 458913 entries, 0 to 458912\n",
            "Data columns (total 2 columns):\n",
            " #   Column       Non-Null Count   Dtype \n",
            "---  ------       --------------   ----- \n",
            " 0   customer_ID  458913 non-null  object\n",
            " 1   target       458913 non-null  int64 \n",
            "dtypes: int64(1), object(1)\n",
            "memory usage: 7.0+ MB\n"
          ]
        }
      ]
    },
    {
      "cell_type": "markdown",
      "source": [
        "There are two columns in the train_labels file, customer_ID of the customer & target variable. Target variable is of type int64.\n",
        "\n",
        "Below utility function can be used to merge target column to another dataframe."
      ],
      "metadata": {
        "id": "vn7kb68cKgFz"
      }
    },
    {
      "cell_type": "code",
      "source": [
        "def append_label(source_df):\n",
        "  return pd.merge(left=source_df, right=train_labels, how='inner')"
      ],
      "metadata": {
        "id": "lu6_Y9OCKz3Q"
      },
      "execution_count": 11,
      "outputs": []
    },
    {
      "cell_type": "markdown",
      "source": [
        "Read 10 rows from the training data to check the object types and column names."
      ],
      "metadata": {
        "id": "_A4vxEwaNW28"
      }
    },
    {
      "cell_type": "code",
      "source": [
        "pd.read_csv(TRAIN_DATA_PATH, nrows=10).info()"
      ],
      "metadata": {
        "id": "52XWM0m5G07c",
        "outputId": "91610800-f33f-4d2a-b690-5e884ffebb41",
        "colab": {
          "base_uri": "https://localhost:8080/"
        }
      },
      "execution_count": 12,
      "outputs": [
        {
          "output_type": "stream",
          "name": "stdout",
          "text": [
            "<class 'pandas.core.frame.DataFrame'>\n",
            "RangeIndex: 10 entries, 0 to 9\n",
            "Columns: 190 entries, customer_ID to D_145\n",
            "dtypes: float64(185), int64(1), object(4)\n",
            "memory usage: 15.0+ KB\n"
          ]
        }
      ]
    },
    {
      "cell_type": "markdown",
      "source": [
        "There are 185 float64, 4 Object, 1 int64 columns. Now let us take all the columns and corresponding dtype into a variable."
      ],
      "metadata": {
        "id": "L5FUuZelG42h"
      }
    },
    {
      "cell_type": "code",
      "source": [
        "columns = pd.read_csv(TRAIN_DATA_PATH, nrows=10).dtypes"
      ],
      "metadata": {
        "id": "jz0KKrJSCvaS"
      },
      "execution_count": 13,
      "outputs": []
    },
    {
      "cell_type": "code",
      "source": [
        "columns[columns==object]"
      ],
      "metadata": {
        "id": "MttCirRXEfmc",
        "outputId": "f35676ae-c723-4d80-b50a-0c21b0ecd425",
        "colab": {
          "base_uri": "https://localhost:8080/"
        }
      },
      "execution_count": null,
      "outputs": [
        {
          "output_type": "execute_result",
          "data": {
            "text/plain": [
              "customer_ID    object\n",
              "S_2            object\n",
              "D_63           object\n",
              "D_64           object\n",
              "dtype: object"
            ]
          },
          "metadata": {},
          "execution_count": 13
        }
      ]
    },
    {
      "cell_type": "markdown",
      "source": [
        "There customer_ID, S_2, D_63, D_64 are the columns with datatype object. Lets check each column. \n",
        "\n",
        "## Customer ID, Statment Date & Label "
      ],
      "metadata": {
        "id": "YfXkqJFTIP2J"
      }
    },
    {
      "cell_type": "markdown",
      "source": [
        "### Customer ID"
      ],
      "metadata": {
        "id": "HsXdBFtKvsh6"
      }
    },
    {
      "cell_type": "code",
      "source": [
        "cust_id_stmt_date_df = pd.read_csv(TRAIN_DATA_PATH, usecols=['customer_ID', 'S_2'])"
      ],
      "metadata": {
        "id": "qxTPinIoIaZK"
      },
      "execution_count": null,
      "outputs": []
    },
    {
      "cell_type": "code",
      "source": [
        "cust_id_stmt_date_df.shape"
      ],
      "metadata": {
        "id": "mLPdT3VtREeJ",
        "outputId": "6b1c4b47-bfa3-4473-cfdf-c6aa36f1754d",
        "colab": {
          "base_uri": "https://localhost:8080/"
        }
      },
      "execution_count": null,
      "outputs": [
        {
          "output_type": "execute_result",
          "data": {
            "text/plain": [
              "(Delayed('int-7c598bdb-9c0f-43ab-8013-e869d979bfa7'), 2)"
            ]
          },
          "metadata": {},
          "execution_count": 6
        }
      ]
    },
    {
      "cell_type": "code",
      "source": [
        "cust_id_stmt_date_df = append_label(cust_id_stmt_date_df)"
      ],
      "metadata": {
        "id": "eUoPo5AkO_o7"
      },
      "execution_count": null,
      "outputs": []
    },
    {
      "cell_type": "code",
      "source": [
        "cust_id_stmt_date_df.shape"
      ],
      "metadata": {
        "id": "P3nIt7V8R8Y1",
        "outputId": "58ee3ba7-c3f4-4b1c-d07f-25d7109e1da9",
        "colab": {
          "base_uri": "https://localhost:8080/"
        }
      },
      "execution_count": null,
      "outputs": [
        {
          "output_type": "execute_result",
          "data": {
            "text/plain": [
              "(5531451, 3)"
            ]
          },
          "metadata": {},
          "execution_count": 17
        }
      ]
    },
    {
      "cell_type": "code",
      "source": [
        "cust_id_stmt_date_df.head(5)"
      ],
      "metadata": {
        "id": "ka8TRPmPaYUG",
        "outputId": "649a4af8-b956-4aff-af26-f95591af053b",
        "colab": {
          "base_uri": "https://localhost:8080/",
          "height": 206
        }
      },
      "execution_count": null,
      "outputs": [
        {
          "output_type": "execute_result",
          "data": {
            "text/plain": [
              "                                         customer_ID         S_2  target\n",
              "0  0000099d6bd597052cdcda90ffabf56573fe9d7c79be5f...  2017-03-09       0\n",
              "1  0000099d6bd597052cdcda90ffabf56573fe9d7c79be5f...  2017-04-07       0\n",
              "2  0000099d6bd597052cdcda90ffabf56573fe9d7c79be5f...  2017-05-28       0\n",
              "3  0000099d6bd597052cdcda90ffabf56573fe9d7c79be5f...  2017-06-13       0\n",
              "4  0000099d6bd597052cdcda90ffabf56573fe9d7c79be5f...  2017-07-16       0"
            ],
            "text/html": [
              "\n",
              "  <div id=\"df-59ebc9cc-9171-4cc5-85e9-92507936d182\">\n",
              "    <div class=\"colab-df-container\">\n",
              "      <div>\n",
              "<style scoped>\n",
              "    .dataframe tbody tr th:only-of-type {\n",
              "        vertical-align: middle;\n",
              "    }\n",
              "\n",
              "    .dataframe tbody tr th {\n",
              "        vertical-align: top;\n",
              "    }\n",
              "\n",
              "    .dataframe thead th {\n",
              "        text-align: right;\n",
              "    }\n",
              "</style>\n",
              "<table border=\"1\" class=\"dataframe\">\n",
              "  <thead>\n",
              "    <tr style=\"text-align: right;\">\n",
              "      <th></th>\n",
              "      <th>customer_ID</th>\n",
              "      <th>S_2</th>\n",
              "      <th>target</th>\n",
              "    </tr>\n",
              "  </thead>\n",
              "  <tbody>\n",
              "    <tr>\n",
              "      <th>0</th>\n",
              "      <td>0000099d6bd597052cdcda90ffabf56573fe9d7c79be5f...</td>\n",
              "      <td>2017-03-09</td>\n",
              "      <td>0</td>\n",
              "    </tr>\n",
              "    <tr>\n",
              "      <th>1</th>\n",
              "      <td>0000099d6bd597052cdcda90ffabf56573fe9d7c79be5f...</td>\n",
              "      <td>2017-04-07</td>\n",
              "      <td>0</td>\n",
              "    </tr>\n",
              "    <tr>\n",
              "      <th>2</th>\n",
              "      <td>0000099d6bd597052cdcda90ffabf56573fe9d7c79be5f...</td>\n",
              "      <td>2017-05-28</td>\n",
              "      <td>0</td>\n",
              "    </tr>\n",
              "    <tr>\n",
              "      <th>3</th>\n",
              "      <td>0000099d6bd597052cdcda90ffabf56573fe9d7c79be5f...</td>\n",
              "      <td>2017-06-13</td>\n",
              "      <td>0</td>\n",
              "    </tr>\n",
              "    <tr>\n",
              "      <th>4</th>\n",
              "      <td>0000099d6bd597052cdcda90ffabf56573fe9d7c79be5f...</td>\n",
              "      <td>2017-07-16</td>\n",
              "      <td>0</td>\n",
              "    </tr>\n",
              "  </tbody>\n",
              "</table>\n",
              "</div>\n",
              "      <button class=\"colab-df-convert\" onclick=\"convertToInteractive('df-59ebc9cc-9171-4cc5-85e9-92507936d182')\"\n",
              "              title=\"Convert this dataframe to an interactive table.\"\n",
              "              style=\"display:none;\">\n",
              "        \n",
              "  <svg xmlns=\"http://www.w3.org/2000/svg\" height=\"24px\"viewBox=\"0 0 24 24\"\n",
              "       width=\"24px\">\n",
              "    <path d=\"M0 0h24v24H0V0z\" fill=\"none\"/>\n",
              "    <path d=\"M18.56 5.44l.94 2.06.94-2.06 2.06-.94-2.06-.94-.94-2.06-.94 2.06-2.06.94zm-11 1L8.5 8.5l.94-2.06 2.06-.94-2.06-.94L8.5 2.5l-.94 2.06-2.06.94zm10 10l.94 2.06.94-2.06 2.06-.94-2.06-.94-.94-2.06-.94 2.06-2.06.94z\"/><path d=\"M17.41 7.96l-1.37-1.37c-.4-.4-.92-.59-1.43-.59-.52 0-1.04.2-1.43.59L10.3 9.45l-7.72 7.72c-.78.78-.78 2.05 0 2.83L4 21.41c.39.39.9.59 1.41.59.51 0 1.02-.2 1.41-.59l7.78-7.78 2.81-2.81c.8-.78.8-2.07 0-2.86zM5.41 20L4 18.59l7.72-7.72 1.47 1.35L5.41 20z\"/>\n",
              "  </svg>\n",
              "      </button>\n",
              "      \n",
              "  <style>\n",
              "    .colab-df-container {\n",
              "      display:flex;\n",
              "      flex-wrap:wrap;\n",
              "      gap: 12px;\n",
              "    }\n",
              "\n",
              "    .colab-df-convert {\n",
              "      background-color: #E8F0FE;\n",
              "      border: none;\n",
              "      border-radius: 50%;\n",
              "      cursor: pointer;\n",
              "      display: none;\n",
              "      fill: #1967D2;\n",
              "      height: 32px;\n",
              "      padding: 0 0 0 0;\n",
              "      width: 32px;\n",
              "    }\n",
              "\n",
              "    .colab-df-convert:hover {\n",
              "      background-color: #E2EBFA;\n",
              "      box-shadow: 0px 1px 2px rgba(60, 64, 67, 0.3), 0px 1px 3px 1px rgba(60, 64, 67, 0.15);\n",
              "      fill: #174EA6;\n",
              "    }\n",
              "\n",
              "    [theme=dark] .colab-df-convert {\n",
              "      background-color: #3B4455;\n",
              "      fill: #D2E3FC;\n",
              "    }\n",
              "\n",
              "    [theme=dark] .colab-df-convert:hover {\n",
              "      background-color: #434B5C;\n",
              "      box-shadow: 0px 1px 3px 1px rgba(0, 0, 0, 0.15);\n",
              "      filter: drop-shadow(0px 1px 2px rgba(0, 0, 0, 0.3));\n",
              "      fill: #FFFFFF;\n",
              "    }\n",
              "  </style>\n",
              "\n",
              "      <script>\n",
              "        const buttonEl =\n",
              "          document.querySelector('#df-59ebc9cc-9171-4cc5-85e9-92507936d182 button.colab-df-convert');\n",
              "        buttonEl.style.display =\n",
              "          google.colab.kernel.accessAllowed ? 'block' : 'none';\n",
              "\n",
              "        async function convertToInteractive(key) {\n",
              "          const element = document.querySelector('#df-59ebc9cc-9171-4cc5-85e9-92507936d182');\n",
              "          const dataTable =\n",
              "            await google.colab.kernel.invokeFunction('convertToInteractive',\n",
              "                                                     [key], {});\n",
              "          if (!dataTable) return;\n",
              "\n",
              "          const docLinkHtml = 'Like what you see? Visit the ' +\n",
              "            '<a target=\"_blank\" href=https://colab.research.google.com/notebooks/data_table.ipynb>data table notebook</a>'\n",
              "            + ' to learn more about interactive tables.';\n",
              "          element.innerHTML = '';\n",
              "          dataTable['output_type'] = 'display_data';\n",
              "          await google.colab.output.renderOutput(dataTable, element);\n",
              "          const docLink = document.createElement('div');\n",
              "          docLink.innerHTML = docLinkHtml;\n",
              "          element.appendChild(docLink);\n",
              "        }\n",
              "      </script>\n",
              "    </div>\n",
              "  </div>\n",
              "  "
            ]
          },
          "metadata": {},
          "execution_count": 18
        }
      ]
    },
    {
      "cell_type": "code",
      "source": [
        "cust_id_stmt_date_df['customer_ID'].nunique()"
      ],
      "metadata": {
        "id": "rIn6TJKRJGlm",
        "outputId": "a2f10eea-37e6-4401-ad81-607a3d8157b4",
        "colab": {
          "base_uri": "https://localhost:8080/"
        }
      },
      "execution_count": null,
      "outputs": [
        {
          "output_type": "execute_result",
          "data": {
            "text/plain": [
              "458913"
            ]
          },
          "metadata": {},
          "execution_count": 19
        }
      ]
    },
    {
      "cell_type": "markdown",
      "source": [
        "There are around half million unique customers in the train data set"
      ],
      "metadata": {
        "id": "SMdUHzo0SICr"
      }
    },
    {
      "cell_type": "code",
      "source": [
        "cust_id_stmt_date_df.isna().sum()"
      ],
      "metadata": {
        "id": "HGNYV9urTGFB",
        "outputId": "afb65215-2d35-4e3f-eddf-1d8c89be8f43",
        "colab": {
          "base_uri": "https://localhost:8080/"
        }
      },
      "execution_count": null,
      "outputs": [
        {
          "output_type": "execute_result",
          "data": {
            "text/plain": [
              "customer_ID    0\n",
              "S_2            0\n",
              "target         0\n",
              "dtype: int64"
            ]
          },
          "metadata": {},
          "execution_count": 20
        }
      ]
    },
    {
      "cell_type": "markdown",
      "source": [
        "None of the columns are NAN in these 3 columns."
      ],
      "metadata": {
        "id": "w5hrpWrvTuB4"
      }
    },
    {
      "cell_type": "code",
      "source": [
        "cust_id_len = cust_id_stmt_date_df.customer_ID.str.len().max()\n",
        "print(f'Maximum size of value in customer_id column is {cust_id_len}')\n",
        "print(f'Total size of column customer_id is {round(cust_id_len * cust_id_stmt_date_df.shape[0]/(1024 * 1024), 2)} MB')"
      ],
      "metadata": {
        "id": "rTS9vXKFT0qG",
        "outputId": "451546aa-0eee-403a-d183-b91012ba6ab4",
        "colab": {
          "base_uri": "https://localhost:8080/"
        }
      },
      "execution_count": null,
      "outputs": [
        {
          "output_type": "stream",
          "name": "stdout",
          "text": [
            "Maximum size of value in customer_id column is 64\n",
            "Total size of column customer_id is 337.61 MB\n"
          ]
        }
      ]
    },
    {
      "cell_type": "code",
      "source": [
        "s_2_len = cust_id_stmt_date_df.S_2.str.len().max()\n",
        "print(f'Maximum size of value in customer_id column is {s_2_len}')\n",
        "print(f'Total size of column S_2 is {round(s_2_len * cust_id_stmt_date_df.shape[0]/(1024 * 1024), 2)} MB')"
      ],
      "metadata": {
        "id": "rdHzK83eZIje",
        "outputId": "d899b534-2d94-494e-b0d3-037b792c1165",
        "colab": {
          "base_uri": "https://localhost:8080/"
        }
      },
      "execution_count": null,
      "outputs": [
        {
          "output_type": "stream",
          "name": "stdout",
          "text": [
            "Maximum size of value in customer_id column is 10\n",
            "Total size of column S_2 is 52.75 MB\n"
          ]
        }
      ]
    },
    {
      "cell_type": "code",
      "source": [
        "print(f'Total size of column target is {round(8 * cust_id_stmt_date_df.shape[0]/(1024 * 1024), 2)} MB')"
      ],
      "metadata": {
        "id": "fKeRqpTGZedF",
        "outputId": "76b9780e-eb8a-4a14-dfde-cea8514f8652",
        "colab": {
          "base_uri": "https://localhost:8080/"
        }
      },
      "execution_count": null,
      "outputs": [
        {
          "output_type": "stream",
          "name": "stdout",
          "text": [
            "Total size of column target is 42.2 MB\n"
          ]
        }
      ]
    },
    {
      "cell_type": "code",
      "source": [
        "cust_id_stmt_date_df[\"S_2\"] = pd.to_datetime(cust_id_stmt_date_df[\"S_2\"])"
      ],
      "metadata": {
        "id": "2Wpn6MSeZtiN"
      },
      "execution_count": null,
      "outputs": []
    },
    {
      "cell_type": "markdown",
      "source": [
        "### Distribution of target variable"
      ],
      "metadata": {
        "id": "34CSR52mASSq"
      }
    },
    {
      "cell_type": "code",
      "source": [
        "target_dist = cust_id_stmt_date_df.target.value_counts()\n",
        "target_dist = target_dist.transform(lambda x: (x/x.sum()).mul(100))"
      ],
      "metadata": {
        "id": "dhgts5f7AWwb"
      },
      "execution_count": null,
      "outputs": []
    },
    {
      "cell_type": "code",
      "source": [
        "ax = sns.barplot(x=target_dist.index, y=target_dist.values)\n",
        "plt.title('Distribution of Target Variable')\n",
        "plt.ylabel('Percentage (%)')"
      ],
      "metadata": {
        "id": "08_W-l4rRRA9",
        "outputId": "3bf9f2f0-b094-495d-d646-44aa70a473a4",
        "colab": {
          "base_uri": "https://localhost:8080/",
          "height": 298
        }
      },
      "execution_count": null,
      "outputs": [
        {
          "output_type": "execute_result",
          "data": {
            "text/plain": [
              "Text(0, 0.5, 'Percentage (%)')"
            ]
          },
          "metadata": {},
          "execution_count": 26
        },
        {
          "output_type": "display_data",
          "data": {
            "text/plain": [
              "<Figure size 432x288 with 1 Axes>"
            ],
            "image/png": "[encoded data removed]"
          },
          "metadata": {
            "needs_background": "light"
          }
        }
      ]
    },
    {
      "cell_type": "markdown",
      "source": [
        "The dataset has 25% positive ( defaults on payment) & 75% negative cases. We might have to consider this imbalance while building the model.\n",
        "### Statment Date Analysis"
      ],
      "metadata": {
        "id": "f08zmnvsQ8DV"
      }
    },
    {
      "cell_type": "code",
      "source": [
        "print(f'Minimum date is {cust_id_stmt_date_df.S_2.min()}')\n",
        "print(f'Maxim date is {cust_id_stmt_date_df.S_2.max()}')"
      ],
      "metadata": {
        "id": "1bLLuLVBVq8w",
        "outputId": "d25b5e4d-7d37-4a5c-b470-0cc1c2a9d12c",
        "colab": {
          "base_uri": "https://localhost:8080/"
        }
      },
      "execution_count": null,
      "outputs": [
        {
          "output_type": "stream",
          "name": "stdout",
          "text": [
            "Minimum date is 2017-03-01 00:00:00\n",
            "Maxim date is 2018-03-31 00:00:00\n"
          ]
        }
      ]
    },
    {
      "cell_type": "markdown",
      "source": [
        "The data contains entries for 13 months. We have data in March from year 2017 & 2018. "
      ],
      "metadata": {
        "id": "_wXOBpY-YOQk"
      }
    },
    {
      "cell_type": "code",
      "source": [
        "stmt_dt_dist = pd.Series(cust_id_stmt_date_df.S_2.dt.to_period('M')).value_counts(sort=True)\n",
        "stmt_dt_dist"
      ],
      "metadata": {
        "id": "nyKzxMidYkNP",
        "outputId": "36e3620e-96b5-494e-ef81-91655f23215a",
        "colab": {
          "base_uri": "https://localhost:8080/"
        }
      },
      "execution_count": null,
      "outputs": [
        {
          "output_type": "execute_result",
          "data": {
            "text/plain": [
              "2018-03    458913\n",
              "2018-02    452781\n",
              "2018-01    446255\n",
              "2017-12    438910\n",
              "2017-11    434268\n",
              "2017-10    430292\n",
              "2017-09    425455\n",
              "2017-08    421099\n",
              "2017-07    415602\n",
              "2017-06    410384\n",
              "2017-04    401556\n",
              "2017-05    400306\n",
              "2017-03    395630\n",
              "Freq: M, Name: S_2, dtype: int64"
            ]
          },
          "metadata": {},
          "execution_count": 28
        }
      ]
    },
    {
      "cell_type": "code",
      "source": [
        "stmt_dt_dist = stmt_dt_dist.transform(lambda x: (x/x.sum()).mul(100))\n",
        "ax = sns.barplot(x=stmt_dt_dist.index, y=stmt_dt_dist.values)\n",
        "plt.title('Distribution of entries month wise')\n",
        "plt.ylabel('Percentage (%)')\n",
        "plt.xticks(rotation=45)"
      ],
      "metadata": {
        "id": "Sqsyfd5QbDpS",
        "outputId": "310e6322-f5cf-45be-db3a-ca31b8ac2b1b",
        "colab": {
          "base_uri": "https://localhost:8080/",
          "height": 343
        }
      },
      "execution_count": null,
      "outputs": [
        {
          "output_type": "execute_result",
          "data": {
            "text/plain": [
              "(array([ 0,  1,  2,  3,  4,  5,  6,  7,  8,  9, 10, 11, 12]),\n",
              " <a list of 13 Text major ticklabel objects>)"
            ]
          },
          "metadata": {},
          "execution_count": 29
        },
        {
          "output_type": "display_data",
          "data": {
            "text/plain": [
              "<Figure size 432x288 with 1 Axes>"
            ],
            "image/png": "[encoded data removed]"
          },
          "metadata": {
            "needs_background": "light"
          }
        }
      ]
    },
    {
      "cell_type": "markdown",
      "source": [
        "Each month contains around 7% to 8% of the complete dataset."
      ],
      "metadata": {
        "id": "GlfppXoCUsmh"
      }
    },
    {
      "cell_type": "code",
      "source": [
        "del stmt_dt_dist\n",
        "stmt_dt_dist = cust_id_stmt_date_df.copy()\n",
        "stmt_dt_dist.head()"
      ],
      "metadata": {
        "id": "VpW31u2AVImc",
        "outputId": "1a00a978-e78b-43e5-ee92-298000aa53d7",
        "colab": {
          "base_uri": "https://localhost:8080/",
          "height": 206
        }
      },
      "execution_count": null,
      "outputs": [
        {
          "output_type": "execute_result",
          "data": {
            "text/plain": [
              "                                         customer_ID        S_2  target\n",
              "0  0000099d6bd597052cdcda90ffabf56573fe9d7c79be5f... 2017-03-09       0\n",
              "1  0000099d6bd597052cdcda90ffabf56573fe9d7c79be5f... 2017-04-07       0\n",
              "2  0000099d6bd597052cdcda90ffabf56573fe9d7c79be5f... 2017-05-28       0\n",
              "3  0000099d6bd597052cdcda90ffabf56573fe9d7c79be5f... 2017-06-13       0\n",
              "4  0000099d6bd597052cdcda90ffabf56573fe9d7c79be5f... 2017-07-16       0"
            ],
            "text/html": [
              "\n",
              "  <div id=\"df-ae83c6cb-7798-474e-bb2a-5e9a8ba99ed4\">\n",
              "    <div class=\"colab-df-container\">\n",
              "      <div>\n",
              "<style scoped>\n",
              "    .dataframe tbody tr th:only-of-type {\n",
              "        vertical-align: middle;\n",
              "    }\n",
              "\n",
              "    .dataframe tbody tr th {\n",
              "        vertical-align: top;\n",
              "    }\n",
              "\n",
              "    .dataframe thead th {\n",
              "        text-align: right;\n",
              "    }\n",
              "</style>\n",
              "<table border=\"1\" class=\"dataframe\">\n",
              "  <thead>\n",
              "    <tr style=\"text-align: right;\">\n",
              "      <th></th>\n",
              "      <th>customer_ID</th>\n",
              "      <th>S_2</th>\n",
              "      <th>target</th>\n",
              "    </tr>\n",
              "  </thead>\n",
              "  <tbody>\n",
              "    <tr>\n",
              "      <th>0</th>\n",
              "      <td>0000099d6bd597052cdcda90ffabf56573fe9d7c79be5f...</td>\n",
              "      <td>2017-03-09</td>\n",
              "      <td>0</td>\n",
              "    </tr>\n",
              "    <tr>\n",
              "      <th>1</th>\n",
              "      <td>0000099d6bd597052cdcda90ffabf56573fe9d7c79be5f...</td>\n",
              "      <td>2017-04-07</td>\n",
              "      <td>0</td>\n",
              "    </tr>\n",
              "    <tr>\n",
              "      <th>2</th>\n",
              "      <td>0000099d6bd597052cdcda90ffabf56573fe9d7c79be5f...</td>\n",
              "      <td>2017-05-28</td>\n",
              "      <td>0</td>\n",
              "    </tr>\n",
              "    <tr>\n",
              "      <th>3</th>\n",
              "      <td>0000099d6bd597052cdcda90ffabf56573fe9d7c79be5f...</td>\n",
              "      <td>2017-06-13</td>\n",
              "      <td>0</td>\n",
              "    </tr>\n",
              "    <tr>\n",
              "      <th>4</th>\n",
              "      <td>0000099d6bd597052cdcda90ffabf56573fe9d7c79be5f...</td>\n",
              "      <td>2017-07-16</td>\n",
              "      <td>0</td>\n",
              "    </tr>\n",
              "  </tbody>\n",
              "</table>\n",
              "</div>\n",
              "      <button class=\"colab-df-convert\" onclick=\"convertToInteractive('df-ae83c6cb-7798-474e-bb2a-5e9a8ba99ed4')\"\n",
              "              title=\"Convert this dataframe to an interactive table.\"\n",
              "              style=\"display:none;\">\n",
              "        \n",
              "  <svg xmlns=\"http://www.w3.org/2000/svg\" height=\"24px\"viewBox=\"0 0 24 24\"\n",
              "       width=\"24px\">\n",
              "    <path d=\"M0 0h24v24H0V0z\" fill=\"none\"/>\n",
              "    <path d=\"M18.56 5.44l.94 2.06.94-2.06 2.06-.94-2.06-.94-.94-2.06-.94 2.06-2.06.94zm-11 1L8.5 8.5l.94-2.06 2.06-.94-2.06-.94L8.5 2.5l-.94 2.06-2.06.94zm10 10l.94 2.06.94-2.06 2.06-.94-2.06-.94-.94-2.06-.94 2.06-2.06.94z\"/><path d=\"M17.41 7.96l-1.37-1.37c-.4-.4-.92-.59-1.43-.59-.52 0-1.04.2-1.43.59L10.3 9.45l-7.72 7.72c-.78.78-.78 2.05 0 2.83L4 21.41c.39.39.9.59 1.41.59.51 0 1.02-.2 1.41-.59l7.78-7.78 2.81-2.81c.8-.78.8-2.07 0-2.86zM5.41 20L4 18.59l7.72-7.72 1.47 1.35L5.41 20z\"/>\n",
              "  </svg>\n",
              "      </button>\n",
              "      \n",
              "  <style>\n",
              "    .colab-df-container {\n",
              "      display:flex;\n",
              "      flex-wrap:wrap;\n",
              "      gap: 12px;\n",
              "    }\n",
              "\n",
              "    .colab-df-convert {\n",
              "      background-color: #E8F0FE;\n",
              "      border: none;\n",
              "      border-radius: 50%;\n",
              "      cursor: pointer;\n",
              "      display: none;\n",
              "      fill: #1967D2;\n",
              "      height: 32px;\n",
              "      padding: 0 0 0 0;\n",
              "      width: 32px;\n",
              "    }\n",
              "\n",
              "    .colab-df-convert:hover {\n",
              "      background-color: #E2EBFA;\n",
              "      box-shadow: 0px 1px 2px rgba(60, 64, 67, 0.3), 0px 1px 3px 1px rgba(60, 64, 67, 0.15);\n",
              "      fill: #174EA6;\n",
              "    }\n",
              "\n",
              "    [theme=dark] .colab-df-convert {\n",
              "      background-color: #3B4455;\n",
              "      fill: #D2E3FC;\n",
              "    }\n",
              "\n",
              "    [theme=dark] .colab-df-convert:hover {\n",
              "      background-color: #434B5C;\n",
              "      box-shadow: 0px 1px 3px 1px rgba(0, 0, 0, 0.15);\n",
              "      filter: drop-shadow(0px 1px 2px rgba(0, 0, 0, 0.3));\n",
              "      fill: #FFFFFF;\n",
              "    }\n",
              "  </style>\n",
              "\n",
              "      <script>\n",
              "        const buttonEl =\n",
              "          document.querySelector('#df-ae83c6cb-7798-474e-bb2a-5e9a8ba99ed4 button.colab-df-convert');\n",
              "        buttonEl.style.display =\n",
              "          google.colab.kernel.accessAllowed ? 'block' : 'none';\n",
              "\n",
              "        async function convertToInteractive(key) {\n",
              "          const element = document.querySelector('#df-ae83c6cb-7798-474e-bb2a-5e9a8ba99ed4');\n",
              "          const dataTable =\n",
              "            await google.colab.kernel.invokeFunction('convertToInteractive',\n",
              "                                                     [key], {});\n",
              "          if (!dataTable) return;\n",
              "\n",
              "          const docLinkHtml = 'Like what you see? Visit the ' +\n",
              "            '<a target=\"_blank\" href=https://colab.research.google.com/notebooks/data_table.ipynb>data table notebook</a>'\n",
              "            + ' to learn more about interactive tables.';\n",
              "          element.innerHTML = '';\n",
              "          dataTable['output_type'] = 'display_data';\n",
              "          await google.colab.output.renderOutput(dataTable, element);\n",
              "          const docLink = document.createElement('div');\n",
              "          docLink.innerHTML = docLinkHtml;\n",
              "          element.appendChild(docLink);\n",
              "        }\n",
              "      </script>\n",
              "    </div>\n",
              "  </div>\n",
              "  "
            ]
          },
          "metadata": {},
          "execution_count": 30
        }
      ]
    },
    {
      "cell_type": "code",
      "source": [
        "stmt_dt_dist['S_2'] = cust_id_stmt_date_df.S_2.dt.to_period('M')\n",
        "stmt_dt_dist.head()"
      ],
      "metadata": {
        "id": "igZ03D-qYPSK",
        "outputId": "402f49e1-8e82-4e88-a034-7ed7e7e9badd",
        "colab": {
          "base_uri": "https://localhost:8080/",
          "height": 206
        }
      },
      "execution_count": null,
      "outputs": [
        {
          "output_type": "execute_result",
          "data": {
            "text/plain": [
              "                                         customer_ID      S_2  target\n",
              "0  0000099d6bd597052cdcda90ffabf56573fe9d7c79be5f...  2017-03       0\n",
              "1  0000099d6bd597052cdcda90ffabf56573fe9d7c79be5f...  2017-04       0\n",
              "2  0000099d6bd597052cdcda90ffabf56573fe9d7c79be5f...  2017-05       0\n",
              "3  0000099d6bd597052cdcda90ffabf56573fe9d7c79be5f...  2017-06       0\n",
              "4  0000099d6bd597052cdcda90ffabf56573fe9d7c79be5f...  2017-07       0"
            ],
            "text/html": [
              "\n",
              "  <div id=\"df-65810d08-9f10-4532-a865-230558e27e13\">\n",
              "    <div class=\"colab-df-container\">\n",
              "      <div>\n",
              "<style scoped>\n",
              "    .dataframe tbody tr th:only-of-type {\n",
              "        vertical-align: middle;\n",
              "    }\n",
              "\n",
              "    .dataframe tbody tr th {\n",
              "        vertical-align: top;\n",
              "    }\n",
              "\n",
              "    .dataframe thead th {\n",
              "        text-align: right;\n",
              "    }\n",
              "</style>\n",
              "<table border=\"1\" class=\"dataframe\">\n",
              "  <thead>\n",
              "    <tr style=\"text-align: right;\">\n",
              "      <th></th>\n",
              "      <th>customer_ID</th>\n",
              "      <th>S_2</th>\n",
              "      <th>target</th>\n",
              "    </tr>\n",
              "  </thead>\n",
              "  <tbody>\n",
              "    <tr>\n",
              "      <th>0</th>\n",
              "      <td>0000099d6bd597052cdcda90ffabf56573fe9d7c79be5f...</td>\n",
              "      <td>2017-03</td>\n",
              "      <td>0</td>\n",
              "    </tr>\n",
              "    <tr>\n",
              "      <th>1</th>\n",
              "      <td>0000099d6bd597052cdcda90ffabf56573fe9d7c79be5f...</td>\n",
              "      <td>2017-04</td>\n",
              "      <td>0</td>\n",
              "    </tr>\n",
              "    <tr>\n",
              "      <th>2</th>\n",
              "      <td>0000099d6bd597052cdcda90ffabf56573fe9d7c79be5f...</td>\n",
              "      <td>2017-05</td>\n",
              "      <td>0</td>\n",
              "    </tr>\n",
              "    <tr>\n",
              "      <th>3</th>\n",
              "      <td>0000099d6bd597052cdcda90ffabf56573fe9d7c79be5f...</td>\n",
              "      <td>2017-06</td>\n",
              "      <td>0</td>\n",
              "    </tr>\n",
              "    <tr>\n",
              "      <th>4</th>\n",
              "      <td>0000099d6bd597052cdcda90ffabf56573fe9d7c79be5f...</td>\n",
              "      <td>2017-07</td>\n",
              "      <td>0</td>\n",
              "    </tr>\n",
              "  </tbody>\n",
              "</table>\n",
              "</div>\n",
              "      <button class=\"colab-df-convert\" onclick=\"convertToInteractive('df-65810d08-9f10-4532-a865-230558e27e13')\"\n",
              "              title=\"Convert this dataframe to an interactive table.\"\n",
              "              style=\"display:none;\">\n",
              "        \n",
              "  <svg xmlns=\"http://www.w3.org/2000/svg\" height=\"24px\"viewBox=\"0 0 24 24\"\n",
              "       width=\"24px\">\n",
              "    <path d=\"M0 0h24v24H0V0z\" fill=\"none\"/>\n",
              "    <path d=\"M18.56 5.44l.94 2.06.94-2.06 2.06-.94-2.06-.94-.94-2.06-.94 2.06-2.06.94zm-11 1L8.5 8.5l.94-2.06 2.06-.94-2.06-.94L8.5 2.5l-.94 2.06-2.06.94zm10 10l.94 2.06.94-2.06 2.06-.94-2.06-.94-.94-2.06-.94 2.06-2.06.94z\"/><path d=\"M17.41 7.96l-1.37-1.37c-.4-.4-.92-.59-1.43-.59-.52 0-1.04.2-1.43.59L10.3 9.45l-7.72 7.72c-.78.78-.78 2.05 0 2.83L4 21.41c.39.39.9.59 1.41.59.51 0 1.02-.2 1.41-.59l7.78-7.78 2.81-2.81c.8-.78.8-2.07 0-2.86zM5.41 20L4 18.59l7.72-7.72 1.47 1.35L5.41 20z\"/>\n",
              "  </svg>\n",
              "      </button>\n",
              "      \n",
              "  <style>\n",
              "    .colab-df-container {\n",
              "      display:flex;\n",
              "      flex-wrap:wrap;\n",
              "      gap: 12px;\n",
              "    }\n",
              "\n",
              "    .colab-df-convert {\n",
              "      background-color: #E8F0FE;\n",
              "      border: none;\n",
              "      border-radius: 50%;\n",
              "      cursor: pointer;\n",
              "      display: none;\n",
              "      fill: #1967D2;\n",
              "      height: 32px;\n",
              "      padding: 0 0 0 0;\n",
              "      width: 32px;\n",
              "    }\n",
              "\n",
              "    .colab-df-convert:hover {\n",
              "      background-color: #E2EBFA;\n",
              "      box-shadow: 0px 1px 2px rgba(60, 64, 67, 0.3), 0px 1px 3px 1px rgba(60, 64, 67, 0.15);\n",
              "      fill: #174EA6;\n",
              "    }\n",
              "\n",
              "    [theme=dark] .colab-df-convert {\n",
              "      background-color: #3B4455;\n",
              "      fill: #D2E3FC;\n",
              "    }\n",
              "\n",
              "    [theme=dark] .colab-df-convert:hover {\n",
              "      background-color: #434B5C;\n",
              "      box-shadow: 0px 1px 3px 1px rgba(0, 0, 0, 0.15);\n",
              "      filter: drop-shadow(0px 1px 2px rgba(0, 0, 0, 0.3));\n",
              "      fill: #FFFFFF;\n",
              "    }\n",
              "  </style>\n",
              "\n",
              "      <script>\n",
              "        const buttonEl =\n",
              "          document.querySelector('#df-65810d08-9f10-4532-a865-230558e27e13 button.colab-df-convert');\n",
              "        buttonEl.style.display =\n",
              "          google.colab.kernel.accessAllowed ? 'block' : 'none';\n",
              "\n",
              "        async function convertToInteractive(key) {\n",
              "          const element = document.querySelector('#df-65810d08-9f10-4532-a865-230558e27e13');\n",
              "          const dataTable =\n",
              "            await google.colab.kernel.invokeFunction('convertToInteractive',\n",
              "                                                     [key], {});\n",
              "          if (!dataTable) return;\n",
              "\n",
              "          const docLinkHtml = 'Like what you see? Visit the ' +\n",
              "            '<a target=\"_blank\" href=https://colab.research.google.com/notebooks/data_table.ipynb>data table notebook</a>'\n",
              "            + ' to learn more about interactive tables.';\n",
              "          element.innerHTML = '';\n",
              "          dataTable['output_type'] = 'display_data';\n",
              "          await google.colab.output.renderOutput(dataTable, element);\n",
              "          const docLink = document.createElement('div');\n",
              "          docLink.innerHTML = docLinkHtml;\n",
              "          element.appendChild(docLink);\n",
              "        }\n",
              "      </script>\n",
              "    </div>\n",
              "  </div>\n",
              "  "
            ]
          },
          "metadata": {},
          "execution_count": 31
        }
      ]
    },
    {
      "cell_type": "code",
      "source": [
        "month_target_grp = stmt_dt_dist.groupby(['S_2', 'target']).count()\n",
        "month_target_grp = month_target_grp.reset_index()\n",
        "month_target_grp.head()"
      ],
      "metadata": {
        "id": "vEk6NmD0ZCP9",
        "outputId": "5e345994-fece-4c74-c895-47e49a7c23cd",
        "colab": {
          "base_uri": "https://localhost:8080/",
          "height": 864
        }
      },
      "execution_count": null,
      "outputs": [
        {
          "output_type": "execute_result",
          "data": {
            "text/plain": [
              "        S_2  target  customer_ID\n",
              "0   2017-03       0       303837\n",
              "1   2017-03       1        91793\n",
              "2   2017-04       0       306650\n",
              "3   2017-04       1        94906\n",
              "4   2017-05       0       304710\n",
              "5   2017-05       1        95596\n",
              "6   2017-06       0       310850\n",
              "7   2017-06       1        99534\n",
              "8   2017-07       0       313413\n",
              "9   2017-07       1       102189\n",
              "10  2017-08       0       316317\n",
              "11  2017-08       1       104782\n",
              "12  2017-09       0       318671\n",
              "13  2017-09       1       106784\n",
              "14  2017-10       0       321497\n",
              "15  2017-10       1       108795\n",
              "16  2017-11       0       323661\n",
              "17  2017-11       1       110607\n",
              "18  2017-12       0       326390\n",
              "19  2017-12       1       112520\n",
              "20  2018-01       0       331489\n",
              "21  2018-01       1       114766\n",
              "22  2018-02       0       336012\n",
              "23  2018-02       1       116769\n",
              "24  2018-03       0       340085\n",
              "25  2018-03       1       118828"
            ],
            "text/html": [
              "\n",
              "  <div id=\"df-7549af3b-2ff4-4df7-9f88-05336acd98dc\">\n",
              "    <div class=\"colab-df-container\">\n",
              "      <div>\n",
              "<style scoped>\n",
              "    .dataframe tbody tr th:only-of-type {\n",
              "        vertical-align: middle;\n",
              "    }\n",
              "\n",
              "    .dataframe tbody tr th {\n",
              "        vertical-align: top;\n",
              "    }\n",
              "\n",
              "    .dataframe thead th {\n",
              "        text-align: right;\n",
              "    }\n",
              "</style>\n",
              "<table border=\"1\" class=\"dataframe\">\n",
              "  <thead>\n",
              "    <tr style=\"text-align: right;\">\n",
              "      <th></th>\n",
              "      <th>S_2</th>\n",
              "      <th>target</th>\n",
              "      <th>customer_ID</th>\n",
              "    </tr>\n",
              "  </thead>\n",
              "  <tbody>\n",
              "    <tr>\n",
              "      <th>0</th>\n",
              "      <td>2017-03</td>\n",
              "      <td>0</td>\n",
              "      <td>303837</td>\n",
              "    </tr>\n",
              "    <tr>\n",
              "      <th>1</th>\n",
              "      <td>2017-03</td>\n",
              "      <td>1</td>\n",
              "      <td>91793</td>\n",
              "    </tr>\n",
              "    <tr>\n",
              "      <th>2</th>\n",
              "      <td>2017-04</td>\n",
              "      <td>0</td>\n",
              "      <td>306650</td>\n",
              "    </tr>\n",
              "    <tr>\n",
              "      <th>3</th>\n",
              "      <td>2017-04</td>\n",
              "      <td>1</td>\n",
              "      <td>94906</td>\n",
              "    </tr>\n",
              "    <tr>\n",
              "      <th>4</th>\n",
              "      <td>2017-05</td>\n",
              "      <td>0</td>\n",
              "      <td>304710</td>\n",
              "    </tr>\n",
              "    <tr>\n",
              "      <th>5</th>\n",
              "      <td>2017-05</td>\n",
              "      <td>1</td>\n",
              "      <td>95596</td>\n",
              "    </tr>\n",
              "    <tr>\n",
              "      <th>6</th>\n",
              "      <td>2017-06</td>\n",
              "      <td>0</td>\n",
              "      <td>310850</td>\n",
              "    </tr>\n",
              "    <tr>\n",
              "      <th>7</th>\n",
              "      <td>2017-06</td>\n",
              "      <td>1</td>\n",
              "      <td>99534</td>\n",
              "    </tr>\n",
              "    <tr>\n",
              "      <th>8</th>\n",
              "      <td>2017-07</td>\n",
              "      <td>0</td>\n",
              "      <td>313413</td>\n",
              "    </tr>\n",
              "    <tr>\n",
              "      <th>9</th>\n",
              "      <td>2017-07</td>\n",
              "      <td>1</td>\n",
              "      <td>102189</td>\n",
              "    </tr>\n",
              "    <tr>\n",
              "      <th>10</th>\n",
              "      <td>2017-08</td>\n",
              "      <td>0</td>\n",
              "      <td>316317</td>\n",
              "    </tr>\n",
              "    <tr>\n",
              "      <th>11</th>\n",
              "      <td>2017-08</td>\n",
              "      <td>1</td>\n",
              "      <td>104782</td>\n",
              "    </tr>\n",
              "    <tr>\n",
              "      <th>12</th>\n",
              "      <td>2017-09</td>\n",
              "      <td>0</td>\n",
              "      <td>318671</td>\n",
              "    </tr>\n",
              "    <tr>\n",
              "      <th>13</th>\n",
              "      <td>2017-09</td>\n",
              "      <td>1</td>\n",
              "      <td>106784</td>\n",
              "    </tr>\n",
              "    <tr>\n",
              "      <th>14</th>\n",
              "      <td>2017-10</td>\n",
              "      <td>0</td>\n",
              "      <td>321497</td>\n",
              "    </tr>\n",
              "    <tr>\n",
              "      <th>15</th>\n",
              "      <td>2017-10</td>\n",
              "      <td>1</td>\n",
              "      <td>108795</td>\n",
              "    </tr>\n",
              "    <tr>\n",
              "      <th>16</th>\n",
              "      <td>2017-11</td>\n",
              "      <td>0</td>\n",
              "      <td>323661</td>\n",
              "    </tr>\n",
              "    <tr>\n",
              "      <th>17</th>\n",
              "      <td>2017-11</td>\n",
              "      <td>1</td>\n",
              "      <td>110607</td>\n",
              "    </tr>\n",
              "    <tr>\n",
              "      <th>18</th>\n",
              "      <td>2017-12</td>\n",
              "      <td>0</td>\n",
              "      <td>326390</td>\n",
              "    </tr>\n",
              "    <tr>\n",
              "      <th>19</th>\n",
              "      <td>2017-12</td>\n",
              "      <td>1</td>\n",
              "      <td>112520</td>\n",
              "    </tr>\n",
              "    <tr>\n",
              "      <th>20</th>\n",
              "      <td>2018-01</td>\n",
              "      <td>0</td>\n",
              "      <td>331489</td>\n",
              "    </tr>\n",
              "    <tr>\n",
              "      <th>21</th>\n",
              "      <td>2018-01</td>\n",
              "      <td>1</td>\n",
              "      <td>114766</td>\n",
              "    </tr>\n",
              "    <tr>\n",
              "      <th>22</th>\n",
              "      <td>2018-02</td>\n",
              "      <td>0</td>\n",
              "      <td>336012</td>\n",
              "    </tr>\n",
              "    <tr>\n",
              "      <th>23</th>\n",
              "      <td>2018-02</td>\n",
              "      <td>1</td>\n",
              "      <td>116769</td>\n",
              "    </tr>\n",
              "    <tr>\n",
              "      <th>24</th>\n",
              "      <td>2018-03</td>\n",
              "      <td>0</td>\n",
              "      <td>340085</td>\n",
              "    </tr>\n",
              "    <tr>\n",
              "      <th>25</th>\n",
              "      <td>2018-03</td>\n",
              "      <td>1</td>\n",
              "      <td>118828</td>\n",
              "    </tr>\n",
              "  </tbody>\n",
              "</table>\n",
              "</div>\n",
              "      <button class=\"colab-df-convert\" onclick=\"convertToInteractive('df-7549af3b-2ff4-4df7-9f88-05336acd98dc')\"\n",
              "              title=\"Convert this dataframe to an interactive table.\"\n",
              "              style=\"display:none;\">\n",
              "        \n",
              "  <svg xmlns=\"http://www.w3.org/2000/svg\" height=\"24px\"viewBox=\"0 0 24 24\"\n",
              "       width=\"24px\">\n",
              "    <path d=\"M0 0h24v24H0V0z\" fill=\"none\"/>\n",
              "    <path d=\"M18.56 5.44l.94 2.06.94-2.06 2.06-.94-2.06-.94-.94-2.06-.94 2.06-2.06.94zm-11 1L8.5 8.5l.94-2.06 2.06-.94-2.06-.94L8.5 2.5l-.94 2.06-2.06.94zm10 10l.94 2.06.94-2.06 2.06-.94-2.06-.94-.94-2.06-.94 2.06-2.06.94z\"/><path d=\"M17.41 7.96l-1.37-1.37c-.4-.4-.92-.59-1.43-.59-.52 0-1.04.2-1.43.59L10.3 9.45l-7.72 7.72c-.78.78-.78 2.05 0 2.83L4 21.41c.39.39.9.59 1.41.59.51 0 1.02-.2 1.41-.59l7.78-7.78 2.81-2.81c.8-.78.8-2.07 0-2.86zM5.41 20L4 18.59l7.72-7.72 1.47 1.35L5.41 20z\"/>\n",
              "  </svg>\n",
              "      </button>\n",
              "      \n",
              "  <style>\n",
              "    .colab-df-container {\n",
              "      display:flex;\n",
              "      flex-wrap:wrap;\n",
              "      gap: 12px;\n",
              "    }\n",
              "\n",
              "    .colab-df-convert {\n",
              "      background-color: #E8F0FE;\n",
              "      border: none;\n",
              "      border-radius: 50%;\n",
              "      cursor: pointer;\n",
              "      display: none;\n",
              "      fill: #1967D2;\n",
              "      height: 32px;\n",
              "      padding: 0 0 0 0;\n",
              "      width: 32px;\n",
              "    }\n",
              "\n",
              "    .colab-df-convert:hover {\n",
              "      background-color: #E2EBFA;\n",
              "      box-shadow: 0px 1px 2px rgba(60, 64, 67, 0.3), 0px 1px 3px 1px rgba(60, 64, 67, 0.15);\n",
              "      fill: #174EA6;\n",
              "    }\n",
              "\n",
              "    [theme=dark] .colab-df-convert {\n",
              "      background-color: #3B4455;\n",
              "      fill: #D2E3FC;\n",
              "    }\n",
              "\n",
              "    [theme=dark] .colab-df-convert:hover {\n",
              "      background-color: #434B5C;\n",
              "      box-shadow: 0px 1px 3px 1px rgba(0, 0, 0, 0.15);\n",
              "      filter: drop-shadow(0px 1px 2px rgba(0, 0, 0, 0.3));\n",
              "      fill: #FFFFFF;\n",
              "    }\n",
              "  </style>\n",
              "\n",
              "      <script>\n",
              "        const buttonEl =\n",
              "          document.querySelector('#df-7549af3b-2ff4-4df7-9f88-05336acd98dc button.colab-df-convert');\n",
              "        buttonEl.style.display =\n",
              "          google.colab.kernel.accessAllowed ? 'block' : 'none';\n",
              "\n",
              "        async function convertToInteractive(key) {\n",
              "          const element = document.querySelector('#df-7549af3b-2ff4-4df7-9f88-05336acd98dc');\n",
              "          const dataTable =\n",
              "            await google.colab.kernel.invokeFunction('convertToInteractive',\n",
              "                                                     [key], {});\n",
              "          if (!dataTable) return;\n",
              "\n",
              "          const docLinkHtml = 'Like what you see? Visit the ' +\n",
              "            '<a target=\"_blank\" href=https://colab.research.google.com/notebooks/data_table.ipynb>data table notebook</a>'\n",
              "            + ' to learn more about interactive tables.';\n",
              "          element.innerHTML = '';\n",
              "          dataTable['output_type'] = 'display_data';\n",
              "          await google.colab.output.renderOutput(dataTable, element);\n",
              "          const docLink = document.createElement('div');\n",
              "          docLink.innerHTML = docLinkHtml;\n",
              "          element.appendChild(docLink);\n",
              "        }\n",
              "      </script>\n",
              "    </div>\n",
              "  </div>\n",
              "  "
            ]
          },
          "metadata": {},
          "execution_count": 50
        }
      ]
    },
    {
      "cell_type": "code",
      "source": [
        "sns.barplot(x=month_target_grp.S_2,y=month_target_grp.customer_ID,\n",
        "                 hue=month_target_grp.target, data=month_target_grp)\n",
        "plt.title('Distribution of Target Variable Month wise')\n",
        "plt.ylabel('Sample Size')\n",
        "plt.xticks(rotation=45)"
      ],
      "metadata": {
        "id": "m5LS_Z3UYtLx",
        "outputId": "b16b5b39-3f34-4fd8-aa1d-166cff1be8f6",
        "colab": {
          "base_uri": "https://localhost:8080/",
          "height": 358
        }
      },
      "execution_count": null,
      "outputs": [
        {
          "output_type": "execute_result",
          "data": {
            "text/plain": [
              "(array([ 0,  1,  2,  3,  4,  5,  6,  7,  8,  9, 10, 11, 12]),\n",
              " <a list of 13 Text major ticklabel objects>)"
            ]
          },
          "metadata": {},
          "execution_count": 52
        },
        {
          "output_type": "display_data",
          "data": {
            "text/plain": [
              "<Figure size 432x288 with 1 Axes>"
            ],
            "image/png": "[encoded data removed]"
          },
          "metadata": {
            "needs_background": "light"
          }
        }
      ]
    },
    {
      "cell_type": "markdown",
      "source": [
        "Each month contains approximately 300,000 customers who are non defaulting and 90,000 customers who defaults on loan. This is approximately in the ratio 3:1 ratio. Also we can see that the number of customers are increasing slightly every month."
      ],
      "metadata": {
        "id": "9ICUqh42jQjA"
      }
    },
    {
      "cell_type": "code",
      "source": [
        "del month_target_grp, stmt_dt_dist"
      ],
      "metadata": {
        "id": "Zux5bkwgmbYv"
      },
      "execution_count": null,
      "outputs": []
    },
    {
      "cell_type": "code",
      "source": [
        "stmt_dt_dist = cust_id_stmt_date_df.copy()\n",
        "stmt_dt_dist['S_2'] = cust_id_stmt_date_df.S_2.dt.dayofweek\n",
        "stmt_dt_dist.head()\n"
      ],
      "metadata": {
        "id": "RBLKUUHEkGe9",
        "outputId": "e2b1e996-dba3-4ec1-c2fa-64297e085661",
        "colab": {
          "base_uri": "https://localhost:8080/",
          "height": 206
        }
      },
      "execution_count": null,
      "outputs": [
        {
          "output_type": "execute_result",
          "data": {
            "text/plain": [
              "                                         customer_ID  S_2  target\n",
              "0  0000099d6bd597052cdcda90ffabf56573fe9d7c79be5f...    3       0\n",
              "1  0000099d6bd597052cdcda90ffabf56573fe9d7c79be5f...    4       0\n",
              "2  0000099d6bd597052cdcda90ffabf56573fe9d7c79be5f...    6       0\n",
              "3  0000099d6bd597052cdcda90ffabf56573fe9d7c79be5f...    1       0\n",
              "4  0000099d6bd597052cdcda90ffabf56573fe9d7c79be5f...    6       0"
            ],
            "text/html": [
              "\n",
              "  <div id=\"df-1ed89959-35e9-4cca-ba12-475a1de8745e\">\n",
              "    <div class=\"colab-df-container\">\n",
              "      <div>\n",
              "<style scoped>\n",
              "    .dataframe tbody tr th:only-of-type {\n",
              "        vertical-align: middle;\n",
              "    }\n",
              "\n",
              "    .dataframe tbody tr th {\n",
              "        vertical-align: top;\n",
              "    }\n",
              "\n",
              "    .dataframe thead th {\n",
              "        text-align: right;\n",
              "    }\n",
              "</style>\n",
              "<table border=\"1\" class=\"dataframe\">\n",
              "  <thead>\n",
              "    <tr style=\"text-align: right;\">\n",
              "      <th></th>\n",
              "      <th>customer_ID</th>\n",
              "      <th>S_2</th>\n",
              "      <th>target</th>\n",
              "    </tr>\n",
              "  </thead>\n",
              "  <tbody>\n",
              "    <tr>\n",
              "      <th>0</th>\n",
              "      <td>0000099d6bd597052cdcda90ffabf56573fe9d7c79be5f...</td>\n",
              "      <td>3</td>\n",
              "      <td>0</td>\n",
              "    </tr>\n",
              "    <tr>\n",
              "      <th>1</th>\n",
              "      <td>0000099d6bd597052cdcda90ffabf56573fe9d7c79be5f...</td>\n",
              "      <td>4</td>\n",
              "      <td>0</td>\n",
              "    </tr>\n",
              "    <tr>\n",
              "      <th>2</th>\n",
              "      <td>0000099d6bd597052cdcda90ffabf56573fe9d7c79be5f...</td>\n",
              "      <td>6</td>\n",
              "      <td>0</td>\n",
              "    </tr>\n",
              "    <tr>\n",
              "      <th>3</th>\n",
              "      <td>0000099d6bd597052cdcda90ffabf56573fe9d7c79be5f...</td>\n",
              "      <td>1</td>\n",
              "      <td>0</td>\n",
              "    </tr>\n",
              "    <tr>\n",
              "      <th>4</th>\n",
              "      <td>0000099d6bd597052cdcda90ffabf56573fe9d7c79be5f...</td>\n",
              "      <td>6</td>\n",
              "      <td>0</td>\n",
              "    </tr>\n",
              "  </tbody>\n",
              "</table>\n",
              "</div>\n",
              "      <button class=\"colab-df-convert\" onclick=\"convertToInteractive('df-1ed89959-35e9-4cca-ba12-475a1de8745e')\"\n",
              "              title=\"Convert this dataframe to an interactive table.\"\n",
              "              style=\"display:none;\">\n",
              "        \n",
              "  <svg xmlns=\"http://www.w3.org/2000/svg\" height=\"24px\"viewBox=\"0 0 24 24\"\n",
              "       width=\"24px\">\n",
              "    <path d=\"M0 0h24v24H0V0z\" fill=\"none\"/>\n",
              "    <path d=\"M18.56 5.44l.94 2.06.94-2.06 2.06-.94-2.06-.94-.94-2.06-.94 2.06-2.06.94zm-11 1L8.5 8.5l.94-2.06 2.06-.94-2.06-.94L8.5 2.5l-.94 2.06-2.06.94zm10 10l.94 2.06.94-2.06 2.06-.94-2.06-.94-.94-2.06-.94 2.06-2.06.94z\"/><path d=\"M17.41 7.96l-1.37-1.37c-.4-.4-.92-.59-1.43-.59-.52 0-1.04.2-1.43.59L10.3 9.45l-7.72 7.72c-.78.78-.78 2.05 0 2.83L4 21.41c.39.39.9.59 1.41.59.51 0 1.02-.2 1.41-.59l7.78-7.78 2.81-2.81c.8-.78.8-2.07 0-2.86zM5.41 20L4 18.59l7.72-7.72 1.47 1.35L5.41 20z\"/>\n",
              "  </svg>\n",
              "      </button>\n",
              "      \n",
              "  <style>\n",
              "    .colab-df-container {\n",
              "      display:flex;\n",
              "      flex-wrap:wrap;\n",
              "      gap: 12px;\n",
              "    }\n",
              "\n",
              "    .colab-df-convert {\n",
              "      background-color: #E8F0FE;\n",
              "      border: none;\n",
              "      border-radius: 50%;\n",
              "      cursor: pointer;\n",
              "      display: none;\n",
              "      fill: #1967D2;\n",
              "      height: 32px;\n",
              "      padding: 0 0 0 0;\n",
              "      width: 32px;\n",
              "    }\n",
              "\n",
              "    .colab-df-convert:hover {\n",
              "      background-color: #E2EBFA;\n",
              "      box-shadow: 0px 1px 2px rgba(60, 64, 67, 0.3), 0px 1px 3px 1px rgba(60, 64, 67, 0.15);\n",
              "      fill: #174EA6;\n",
              "    }\n",
              "\n",
              "    [theme=dark] .colab-df-convert {\n",
              "      background-color: #3B4455;\n",
              "      fill: #D2E3FC;\n",
              "    }\n",
              "\n",
              "    [theme=dark] .colab-df-convert:hover {\n",
              "      background-color: #434B5C;\n",
              "      box-shadow: 0px 1px 3px 1px rgba(0, 0, 0, 0.15);\n",
              "      filter: drop-shadow(0px 1px 2px rgba(0, 0, 0, 0.3));\n",
              "      fill: #FFFFFF;\n",
              "    }\n",
              "  </style>\n",
              "\n",
              "      <script>\n",
              "        const buttonEl =\n",
              "          document.querySelector('#df-1ed89959-35e9-4cca-ba12-475a1de8745e button.colab-df-convert');\n",
              "        buttonEl.style.display =\n",
              "          google.colab.kernel.accessAllowed ? 'block' : 'none';\n",
              "\n",
              "        async function convertToInteractive(key) {\n",
              "          const element = document.querySelector('#df-1ed89959-35e9-4cca-ba12-475a1de8745e');\n",
              "          const dataTable =\n",
              "            await google.colab.kernel.invokeFunction('convertToInteractive',\n",
              "                                                     [key], {});\n",
              "          if (!dataTable) return;\n",
              "\n",
              "          const docLinkHtml = 'Like what you see? Visit the ' +\n",
              "            '<a target=\"_blank\" href=https://colab.research.google.com/notebooks/data_table.ipynb>data table notebook</a>'\n",
              "            + ' to learn more about interactive tables.';\n",
              "          element.innerHTML = '';\n",
              "          dataTable['output_type'] = 'display_data';\n",
              "          await google.colab.output.renderOutput(dataTable, element);\n",
              "          const docLink = document.createElement('div');\n",
              "          docLink.innerHTML = docLinkHtml;\n",
              "          element.appendChild(docLink);\n",
              "        }\n",
              "      </script>\n",
              "    </div>\n",
              "  </div>\n",
              "  "
            ]
          },
          "metadata": {},
          "execution_count": 64
        }
      ]
    },
    {
      "cell_type": "code",
      "source": [
        "month_target_grp = stmt_dt_dist.groupby(['S_2', 'target']).count()\n",
        "month_target_grp = month_target_grp.reset_index()\n",
        "month_target_grp"
      ],
      "metadata": {
        "id": "notfzNf9k7oH",
        "outputId": "7b878f2d-868f-455f-e240-166d21abb1d5",
        "colab": {
          "base_uri": "https://localhost:8080/",
          "height": 488
        }
      },
      "execution_count": null,
      "outputs": [
        {
          "output_type": "execute_result",
          "data": {
            "text/plain": [
              "    S_2  target  customer_ID\n",
              "0     0       0       593291\n",
              "1     0       1       194271\n",
              "2     1       0       592403\n",
              "3     1       1       198204\n",
              "4     2       0       596923\n",
              "5     2       1       198874\n",
              "6     3       0       595929\n",
              "7     3       1       199132\n",
              "8     4       0       614962\n",
              "9     4       1       202729\n",
              "10    5       0       807297\n",
              "11    5       1       257653\n",
              "12    6       0       352777\n",
              "13    6       1       127006"
            ],
            "text/html": [
              "\n",
              "  <div id=\"df-9c888688-8e74-4773-a3b4-4c621344909b\">\n",
              "    <div class=\"colab-df-container\">\n",
              "      <div>\n",
              "<style scoped>\n",
              "    .dataframe tbody tr th:only-of-type {\n",
              "        vertical-align: middle;\n",
              "    }\n",
              "\n",
              "    .dataframe tbody tr th {\n",
              "        vertical-align: top;\n",
              "    }\n",
              "\n",
              "    .dataframe thead th {\n",
              "        text-align: right;\n",
              "    }\n",
              "</style>\n",
              "<table border=\"1\" class=\"dataframe\">\n",
              "  <thead>\n",
              "    <tr style=\"text-align: right;\">\n",
              "      <th></th>\n",
              "      <th>S_2</th>\n",
              "      <th>target</th>\n",
              "      <th>customer_ID</th>\n",
              "    </tr>\n",
              "  </thead>\n",
              "  <tbody>\n",
              "    <tr>\n",
              "      <th>0</th>\n",
              "      <td>0</td>\n",
              "      <td>0</td>\n",
              "      <td>593291</td>\n",
              "    </tr>\n",
              "    <tr>\n",
              "      <th>1</th>\n",
              "      <td>0</td>\n",
              "      <td>1</td>\n",
              "      <td>194271</td>\n",
              "    </tr>\n",
              "    <tr>\n",
              "      <th>2</th>\n",
              "      <td>1</td>\n",
              "      <td>0</td>\n",
              "      <td>592403</td>\n",
              "    </tr>\n",
              "    <tr>\n",
              "      <th>3</th>\n",
              "      <td>1</td>\n",
              "      <td>1</td>\n",
              "      <td>198204</td>\n",
              "    </tr>\n",
              "    <tr>\n",
              "      <th>4</th>\n",
              "      <td>2</td>\n",
              "      <td>0</td>\n",
              "      <td>596923</td>\n",
              "    </tr>\n",
              "    <tr>\n",
              "      <th>5</th>\n",
              "      <td>2</td>\n",
              "      <td>1</td>\n",
              "      <td>198874</td>\n",
              "    </tr>\n",
              "    <tr>\n",
              "      <th>6</th>\n",
              "      <td>3</td>\n",
              "      <td>0</td>\n",
              "      <td>595929</td>\n",
              "    </tr>\n",
              "    <tr>\n",
              "      <th>7</th>\n",
              "      <td>3</td>\n",
              "      <td>1</td>\n",
              "      <td>199132</td>\n",
              "    </tr>\n",
              "    <tr>\n",
              "      <th>8</th>\n",
              "      <td>4</td>\n",
              "      <td>0</td>\n",
              "      <td>614962</td>\n",
              "    </tr>\n",
              "    <tr>\n",
              "      <th>9</th>\n",
              "      <td>4</td>\n",
              "      <td>1</td>\n",
              "      <td>202729</td>\n",
              "    </tr>\n",
              "    <tr>\n",
              "      <th>10</th>\n",
              "      <td>5</td>\n",
              "      <td>0</td>\n",
              "      <td>807297</td>\n",
              "    </tr>\n",
              "    <tr>\n",
              "      <th>11</th>\n",
              "      <td>5</td>\n",
              "      <td>1</td>\n",
              "      <td>257653</td>\n",
              "    </tr>\n",
              "    <tr>\n",
              "      <th>12</th>\n",
              "      <td>6</td>\n",
              "      <td>0</td>\n",
              "      <td>352777</td>\n",
              "    </tr>\n",
              "    <tr>\n",
              "      <th>13</th>\n",
              "      <td>6</td>\n",
              "      <td>1</td>\n",
              "      <td>127006</td>\n",
              "    </tr>\n",
              "  </tbody>\n",
              "</table>\n",
              "</div>\n",
              "      <button class=\"colab-df-convert\" onclick=\"convertToInteractive('df-9c888688-8e74-4773-a3b4-4c621344909b')\"\n",
              "              title=\"Convert this dataframe to an interactive table.\"\n",
              "              style=\"display:none;\">\n",
              "        \n",
              "  <svg xmlns=\"http://www.w3.org/2000/svg\" height=\"24px\"viewBox=\"0 0 24 24\"\n",
              "       width=\"24px\">\n",
              "    <path d=\"M0 0h24v24H0V0z\" fill=\"none\"/>\n",
              "    <path d=\"M18.56 5.44l.94 2.06.94-2.06 2.06-.94-2.06-.94-.94-2.06-.94 2.06-2.06.94zm-11 1L8.5 8.5l.94-2.06 2.06-.94-2.06-.94L8.5 2.5l-.94 2.06-2.06.94zm10 10l.94 2.06.94-2.06 2.06-.94-2.06-.94-.94-2.06-.94 2.06-2.06.94z\"/><path d=\"M17.41 7.96l-1.37-1.37c-.4-.4-.92-.59-1.43-.59-.52 0-1.04.2-1.43.59L10.3 9.45l-7.72 7.72c-.78.78-.78 2.05 0 2.83L4 21.41c.39.39.9.59 1.41.59.51 0 1.02-.2 1.41-.59l7.78-7.78 2.81-2.81c.8-.78.8-2.07 0-2.86zM5.41 20L4 18.59l7.72-7.72 1.47 1.35L5.41 20z\"/>\n",
              "  </svg>\n",
              "      </button>\n",
              "      \n",
              "  <style>\n",
              "    .colab-df-container {\n",
              "      display:flex;\n",
              "      flex-wrap:wrap;\n",
              "      gap: 12px;\n",
              "    }\n",
              "\n",
              "    .colab-df-convert {\n",
              "      background-color: #E8F0FE;\n",
              "      border: none;\n",
              "      border-radius: 50%;\n",
              "      cursor: pointer;\n",
              "      display: none;\n",
              "      fill: #1967D2;\n",
              "      height: 32px;\n",
              "      padding: 0 0 0 0;\n",
              "      width: 32px;\n",
              "    }\n",
              "\n",
              "    .colab-df-convert:hover {\n",
              "      background-color: #E2EBFA;\n",
              "      box-shadow: 0px 1px 2px rgba(60, 64, 67, 0.3), 0px 1px 3px 1px rgba(60, 64, 67, 0.15);\n",
              "      fill: #174EA6;\n",
              "    }\n",
              "\n",
              "    [theme=dark] .colab-df-convert {\n",
              "      background-color: #3B4455;\n",
              "      fill: #D2E3FC;\n",
              "    }\n",
              "\n",
              "    [theme=dark] .colab-df-convert:hover {\n",
              "      background-color: #434B5C;\n",
              "      box-shadow: 0px 1px 3px 1px rgba(0, 0, 0, 0.15);\n",
              "      filter: drop-shadow(0px 1px 2px rgba(0, 0, 0, 0.3));\n",
              "      fill: #FFFFFF;\n",
              "    }\n",
              "  </style>\n",
              "\n",
              "      <script>\n",
              "        const buttonEl =\n",
              "          document.querySelector('#df-9c888688-8e74-4773-a3b4-4c621344909b button.colab-df-convert');\n",
              "        buttonEl.style.display =\n",
              "          google.colab.kernel.accessAllowed ? 'block' : 'none';\n",
              "\n",
              "        async function convertToInteractive(key) {\n",
              "          const element = document.querySelector('#df-9c888688-8e74-4773-a3b4-4c621344909b');\n",
              "          const dataTable =\n",
              "            await google.colab.kernel.invokeFunction('convertToInteractive',\n",
              "                                                     [key], {});\n",
              "          if (!dataTable) return;\n",
              "\n",
              "          const docLinkHtml = 'Like what you see? Visit the ' +\n",
              "            '<a target=\"_blank\" href=https://colab.research.google.com/notebooks/data_table.ipynb>data table notebook</a>'\n",
              "            + ' to learn more about interactive tables.';\n",
              "          element.innerHTML = '';\n",
              "          dataTable['output_type'] = 'display_data';\n",
              "          await google.colab.output.renderOutput(dataTable, element);\n",
              "          const docLink = document.createElement('div');\n",
              "          docLink.innerHTML = docLinkHtml;\n",
              "          element.appendChild(docLink);\n",
              "        }\n",
              "      </script>\n",
              "    </div>\n",
              "  </div>\n",
              "  "
            ]
          },
          "metadata": {},
          "execution_count": 66
        }
      ]
    },
    {
      "cell_type": "code",
      "source": [
        "sns.barplot(x=month_target_grp.S_2,y=month_target_grp.customer_ID,\n",
        "                 hue=month_target_grp.target, data=month_target_grp)\n",
        "plt.title('Distribution of Target Variable Weekday wise')\n",
        "plt.ylabel('Sample Size')\n",
        "plt.xticks(rotation=45)"
      ],
      "metadata": {
        "id": "OaDYz4XCn3kM",
        "outputId": "a79f82b9-1558-4e98-9b90-656aeaa877d8",
        "colab": {
          "base_uri": "https://localhost:8080/",
          "height": 315
        }
      },
      "execution_count": null,
      "outputs": [
        {
          "output_type": "execute_result",
          "data": {
            "text/plain": [
              "(array([0, 1, 2, 3, 4, 5, 6]), <a list of 7 Text major ticklabel objects>)"
            ]
          },
          "metadata": {},
          "execution_count": 67
        },
        {
          "output_type": "display_data",
          "data": {
            "text/plain": [
              "<Figure size 432x288 with 1 Axes>"
            ],
            "image/png": "[encoded data removed]"
          },
          "metadata": {
            "needs_background": "light"
          }
        }
      ]
    },
    {
      "cell_type": "markdown",
      "source": [
        "Highest number of statements are sent on Saturday and Sunday only very few statements are sent."
      ],
      "metadata": {
        "id": "whnOZ2oKoLLh"
      }
    },
    {
      "cell_type": "code",
      "source": [
        "  columns[columns==np.int64]"
      ],
      "metadata": {
        "id": "0ofxLI94GqBs"
      },
      "execution_count": null,
      "outputs": []
    },
    {
      "cell_type": "markdown",
      "source": [
        "## D_63 & D_64 \n",
        "\n",
        "From the description of the problem, these two columns are categorical."
      ],
      "metadata": {
        "id": "62VppfRW5R3a"
      }
    },
    {
      "cell_type": "code",
      "source": [
        "d_63_64_df = pd.read_csv(TRAIN_DATA_PATH, usecols=['customer_ID','D_63', 'D_64', 'S_2'])"
      ],
      "metadata": {
        "id": "YziCYOeq5Upf"
      },
      "execution_count": null,
      "outputs": []
    },
    {
      "cell_type": "code",
      "source": [
        "d_63_64_df = append_label(d_63_64_df)"
      ],
      "metadata": {
        "id": "jaAVIzTf5zGW"
      },
      "execution_count": null,
      "outputs": []
    },
    {
      "cell_type": "code",
      "source": [
        "d_63_64_df.shape"
      ],
      "metadata": {
        "id": "TvUFP7vF-qeO",
        "outputId": "da1d2d2c-8a53-48eb-cdd6-eeddb8bfe136",
        "colab": {
          "base_uri": "https://localhost:8080/"
        }
      },
      "execution_count": null,
      "outputs": [
        {
          "output_type": "execute_result",
          "data": {
            "text/plain": [
              "(5531451, 5)"
            ]
          },
          "metadata": {},
          "execution_count": 30
        }
      ]
    },
    {
      "cell_type": "code",
      "source": [
        "d_63_64_df['D_63'].nunique()"
      ],
      "metadata": {
        "id": "-KiyLQ1160Za",
        "outputId": "d04a6ad5-4bde-45c8-9c6f-241ce30ea30f",
        "colab": {
          "base_uri": "https://localhost:8080/"
        }
      },
      "execution_count": null,
      "outputs": [
        {
          "output_type": "execute_result",
          "data": {
            "text/plain": [
              "6"
            ]
          },
          "metadata": {},
          "execution_count": 23
        }
      ]
    },
    {
      "cell_type": "code",
      "source": [
        "d_63_64_df['D_63'].unique()"
      ],
      "metadata": {
        "id": "KzR4JOKN63t6",
        "outputId": "8366b194-cb7f-4d85-9020-26a9e1f7e9f5",
        "colab": {
          "base_uri": "https://localhost:8080/"
        }
      },
      "execution_count": null,
      "outputs": [
        {
          "output_type": "execute_result",
          "data": {
            "text/plain": [
              "array(['CR', 'CO', 'CL', 'XZ', 'XM', 'XL'], dtype=object)"
            ]
          },
          "metadata": {},
          "execution_count": 24
        }
      ]
    },
    {
      "cell_type": "code",
      "source": [
        "d_63_64_df['D_63'].isnull().sum()"
      ],
      "metadata": {
        "id": "S259XKpf8rxP",
        "outputId": "0fbad360-3760-4469-8f1a-2cd5f818d076",
        "colab": {
          "base_uri": "https://localhost:8080/"
        }
      },
      "execution_count": null,
      "outputs": [
        {
          "output_type": "execute_result",
          "data": {
            "text/plain": [
              "0"
            ]
          },
          "metadata": {},
          "execution_count": 27
        }
      ]
    },
    {
      "cell_type": "code",
      "source": [
        "grp = d_63_64_df.groupby(by=['D_63', 'target']).count()\n",
        "grp = grp.reset_index()\n",
        "grp['Percentage'] = 100 * grp['customer_ID'] / grp['customer_ID'].sum()\n",
        "sns.barplot(x=grp.D_63,y=grp.Percentage,\n",
        "                 hue=grp.target, data=grp)\n",
        "plt.title('Distribution of Target Variable D_63')\n",
        "plt.ylabel('Customer Id')\n",
        "plt.xticks(rotation=45)"
      ],
      "metadata": {
        "id": "i353c2Hb9uDu",
        "outputId": "d09ca9d1-98de-400d-f12f-b853c3cf607c",
        "colab": {
          "base_uri": "https://localhost:8080/",
          "height": 321
        }
      },
      "execution_count": null,
      "outputs": [
        {
          "output_type": "execute_result",
          "data": {
            "text/plain": [
              "(array([0, 1, 2, 3, 4, 5]), <a list of 6 Text major ticklabel objects>)"
            ]
          },
          "metadata": {},
          "execution_count": 40
        },
        {
          "output_type": "display_data",
          "data": {
            "text/plain": [
              "<Figure size 432x288 with 1 Axes>"
            ],
            "image/png": "[encoded data removed]"
          },
          "metadata": {
            "needs_background": "light"
          }
        }
      ]
    },
    {
      "cell_type": "markdown",
      "source": [
        "Most of the variables are of category 'CO'."
      ],
      "metadata": {
        "id": "uLlq2nZzVaQr"
      }
    },
    {
      "cell_type": "code",
      "source": [
        "d_63_64_df['D_64'].nunique()"
      ],
      "metadata": {
        "id": "woeIjG608fHP",
        "outputId": "54f1e8e4-7938-430b-b645-2bdb2341e759",
        "colab": {
          "base_uri": "https://localhost:8080/"
        }
      },
      "execution_count": null,
      "outputs": [
        {
          "output_type": "execute_result",
          "data": {
            "text/plain": [
              "4"
            ]
          },
          "metadata": {},
          "execution_count": 25
        }
      ]
    },
    {
      "cell_type": "code",
      "source": [
        "d_63_64_df['D_64'].unique()"
      ],
      "metadata": {
        "id": "9hoH27CP8jP9",
        "outputId": "85888b84-6374-4940-8942-324133e3f6a3",
        "colab": {
          "base_uri": "https://localhost:8080/"
        }
      },
      "execution_count": null,
      "outputs": [
        {
          "output_type": "execute_result",
          "data": {
            "text/plain": [
              "array(['O', 'R', nan, 'U', '-1'], dtype=object)"
            ]
          },
          "metadata": {},
          "execution_count": 26
        }
      ]
    },
    {
      "cell_type": "code",
      "source": [
        "d_63_64_df['D_64'].isnull().sum()"
      ],
      "metadata": {
        "id": "8TP0oXH78njN",
        "outputId": "21410f3d-e524-4971-fdba-0f317376e1eb",
        "colab": {
          "base_uri": "https://localhost:8080/"
        }
      },
      "execution_count": null,
      "outputs": [
        {
          "output_type": "execute_result",
          "data": {
            "text/plain": [
              "217442"
            ]
          },
          "metadata": {},
          "execution_count": 28
        }
      ]
    },
    {
      "cell_type": "code",
      "source": [
        "del grp \n",
        "grp = d_63_64_df.groupby(by=['D_64', 'target'], dropna=False).count()\n",
        "grp = grp.reset_index()\n",
        "grp['Percentage'] = 100 * grp['customer_ID'] / grp['customer_ID'].sum()\n",
        "sns.barplot(x=grp.D_64,y=grp.Percentage,\n",
        "                 hue=grp.target, data=grp)\n",
        "plt.title('Distribution of Target Variable D_64')\n",
        "plt.ylabel('Customer Id')\n",
        "plt.xticks(rotation=45)"
      ],
      "metadata": {
        "colab": {
          "base_uri": "https://localhost:8080/",
          "height": 317
        },
        "id": "06-lw8_WNPNX",
        "outputId": "dc68ec5c-06a8-42d2-8017-60e686b670f9"
      },
      "execution_count": null,
      "outputs": [
        {
          "output_type": "execute_result",
          "data": {
            "text/plain": [
              "(array([0, 1, 2, 3]), <a list of 4 Text major ticklabel objects>)"
            ]
          },
          "metadata": {},
          "execution_count": 41
        },
        {
          "output_type": "display_data",
          "data": {
            "text/plain": [
              "<Figure size 432x288 with 1 Axes>"
            ],
            "image/png": "[encoded data removed]"
          },
          "metadata": {
            "needs_background": "light"
          }
        }
      ]
    },
    {
      "cell_type": "markdown",
      "source": [
        "## Explore all the categorical columns"
      ],
      "metadata": {
        "id": "dDs2RlSpWqwG"
      }
    },
    {
      "cell_type": "code",
      "source": [
        "cat_cols = ['B_30', 'B_38', 'D_114', 'D_116', 'D_117', 'D_120', 'D_126', 'D_66', 'D_68']\n",
        "base_cols = ['customer_ID', 'S_2']\n"
      ],
      "metadata": {
        "id": "arF6xSuSWuTW"
      },
      "execution_count": null,
      "outputs": []
    },
    {
      "cell_type": "code",
      "source": [
        "def plot_cat(df, col):  \n",
        "  df[col] = df[col].fillna('Missing')\n",
        "  grp = df.groupby(by=[col, 'target'], dropna=False).count()\n",
        "  grp = grp.reset_index()  \n",
        "  grp['Percentage'] = 100 * grp['customer_ID'] / grp['customer_ID'].sum()  \n",
        "  ax = sns.barplot(x=grp[col],y=grp.Percentage,\n",
        "                 hue=grp.target, data=grp)\n",
        "  plt.title('Distribution of Target Variable ' + col)\n",
        "  plt.ylabel('Customer Id')\n",
        "\n",
        "  plt.xticks(rotation=45)\n",
        "  del grp\n",
        "  gc.collect()\n",
        "\n",
        "def print_stat(df, col):\n",
        "  print(f'Number of unique categories for {col} is {df[col].nunique()}');\n",
        "  print(f'Number of unique categories for {col} is {df[col].unique()}');\n",
        "  print(f'Number of entries with NaN value for {col} is {df[col].isnull().sum()}')"
      ],
      "metadata": {
        "id": "9owSDhGs6aAB"
      },
      "execution_count": null,
      "outputs": []
    },
    {
      "cell_type": "code",
      "source": [
        "cat_df = read_cols(['customer_ID', 'S_2', 'B_30'])"
      ],
      "metadata": {
        "id": "b-7Efnp5cm8E"
      },
      "execution_count": null,
      "outputs": []
    },
    {
      "cell_type": "code",
      "source": [
        "print_stat(cat_df, 'B_30')\n",
        "plot_cat(cat_df, 'B_30')\n",
        "del cat_df"
      ],
      "metadata": {
        "colab": {
          "base_uri": "https://localhost:8080/",
          "height": 372
        },
        "id": "9cuvxGHE-DBa",
        "outputId": "1f396acd-e657-4510-dc33-d1c78538b0f4"
      },
      "execution_count": null,
      "outputs": [
        {
          "output_type": "stream",
          "name": "stdout",
          "text": [
            "Number of unique categories for B_30 is 3\n",
            "Number of unique categories for B_30 is [ 0.  2.  1. nan]\n",
            "Number of entries with NaN value for B_30 is 2016\n"
          ]
        },
        {
          "output_type": "display_data",
          "data": {
            "text/plain": [
              "<Figure size 432x288 with 1 Axes>"
            ],
            "image/png": "[encoded data removed]"
          },
          "metadata": {
            "needs_background": "light"
          }
        }
      ]
    },
    {
      "cell_type": "code",
      "source": [
        "cat_df = read_cols(['customer_ID', 'S_2', 'B_38'])\n",
        "print_stat(cat_df, 'B_38')\n",
        "plot_cat(cat_df, 'B_38')\n"
      ],
      "metadata": {
        "colab": {
          "base_uri": "https://localhost:8080/",
          "height": 372
        },
        "id": "lZ8b1B9LG3VZ",
        "outputId": "d1892596-d578-4f72-9c7e-91134d6568da"
      },
      "execution_count": null,
      "outputs": [
        {
          "output_type": "stream",
          "name": "stdout",
          "text": [
            "Number of unique categories for B_38 is 7\n",
            "Number of unique categories for B_38 is [ 2.  1.  3.  5.  6.  7.  4. nan]\n",
            "Number of entries with NaN value for B_38 is 2016\n"
          ]
        },
        {
          "output_type": "display_data",
          "data": {
            "text/plain": [
              "<Figure size 432x288 with 1 Axes>"
            ],
            "image/png": "[encoded data removed]"
          },
          "metadata": {
            "needs_background": "light"
          }
        }
      ]
    },
    {
      "cell_type": "code",
      "source": [
        "cat_df = read_cols(['customer_ID', 'S_2', 'D_114'])\n",
        "print_stat(cat_df, 'D_114')\n",
        "plot_cat(cat_df, 'D_114')"
      ],
      "metadata": {
        "colab": {
          "base_uri": "https://localhost:8080/",
          "height": 372
        },
        "id": "-OsrLMLMHZdD",
        "outputId": "9d9e6435-f7df-4daa-c043-025150a4e2b8"
      },
      "execution_count": null,
      "outputs": [
        {
          "output_type": "stream",
          "name": "stdout",
          "text": [
            "Number of unique categories for D_114 is 2\n",
            "Number of unique categories for D_114 is [ 1.  0. nan]\n",
            "Number of entries with NaN value for D_114 is 176716\n"
          ]
        },
        {
          "output_type": "display_data",
          "data": {
            "text/plain": [
              "<Figure size 432x288 with 1 Axes>"
            ],
            "image/png": "[encoded data removed]"
          },
          "metadata": {
            "needs_background": "light"
          }
        }
      ]
    },
    {
      "cell_type": "code",
      "source": [
        "cat_df = read_cols(['customer_ID', 'S_2', 'D_116'])\n",
        "print_stat(cat_df, 'D_116')\n",
        "plot_cat(cat_df, 'D_116')"
      ],
      "metadata": {
        "colab": {
          "base_uri": "https://localhost:8080/",
          "height": 372
        },
        "id": "9NpaMa1JHkW0",
        "outputId": "b508f1e4-63de-4cbb-d069-1a977911d3d9"
      },
      "execution_count": null,
      "outputs": [
        {
          "output_type": "stream",
          "name": "stdout",
          "text": [
            "Number of unique categories for D_116 is 2\n",
            "Number of unique categories for D_116 is [ 0. nan  1.]\n",
            "Number of entries with NaN value for D_116 is 176716\n"
          ]
        },
        {
          "output_type": "display_data",
          "data": {
            "text/plain": [
              "<Figure size 432x288 with 1 Axes>"
            ],
            "image/png": "[encoded data removed]"
          },
          "metadata": {
            "needs_background": "light"
          }
        }
      ]
    },
    {
      "cell_type": "markdown",
      "source": [
        "The column does not have much data for category 1. Need to check this."
      ],
      "metadata": {
        "id": "xBanEI_jtnVx"
      }
    },
    {
      "cell_type": "code",
      "source": [
        "cat_df = read_cols(['customer_ID', 'S_2', 'D_117'])\n",
        "print_stat(cat_df, 'D_117')\n",
        "plot_cat(cat_df, 'D_117')"
      ],
      "metadata": {
        "colab": {
          "base_uri": "https://localhost:8080/",
          "height": 372
        },
        "id": "t-3hA9D7H0zV",
        "outputId": "b625662a-1aab-47f5-fbd5-c8f6c350cc5d"
      },
      "execution_count": null,
      "outputs": [
        {
          "output_type": "stream",
          "name": "stdout",
          "text": [
            "Number of unique categories for D_117 is 7\n",
            "Number of unique categories for D_117 is [ 4. -1.  6.  2.  1. nan  3.  5.]\n",
            "Number of entries with NaN value for D_117 is 176716\n"
          ]
        },
        {
          "output_type": "display_data",
          "data": {
            "text/plain": [
              "<Figure size 432x288 with 1 Axes>"
            ],
            "image/png": "[encoded data removed]"
          },
          "metadata": {
            "needs_background": "light"
          }
        }
      ]
    },
    {
      "cell_type": "code",
      "source": [
        "cat_df = read_cols(['customer_ID', 'S_2', 'D_120'])\n",
        "print_stat(cat_df, 'D_120')\n",
        "plot_cat(cat_df, 'D_120')"
      ],
      "metadata": {
        "colab": {
          "base_uri": "https://localhost:8080/",
          "height": 372
        },
        "id": "WUwI77T5H6Ez",
        "outputId": "b2abd098-4620-4941-dfe8-21266a0bceac"
      },
      "execution_count": null,
      "outputs": [
        {
          "output_type": "stream",
          "name": "stdout",
          "text": [
            "Number of unique categories for D_120 is 2\n",
            "Number of unique categories for D_120 is [ 0.  1. nan]\n",
            "Number of entries with NaN value for D_120 is 176716\n"
          ]
        },
        {
          "output_type": "display_data",
          "data": {
            "text/plain": [
              "<Figure size 432x288 with 1 Axes>"
            ],
            "image/png": "[encoded data removed]"
          },
          "metadata": {
            "needs_background": "light"
          }
        }
      ]
    },
    {
      "cell_type": "code",
      "source": [
        "cat_df = read_cols(['customer_ID', 'S_2', 'D_126'])\n",
        "print_stat(cat_df, 'D_126')\n",
        "plot_cat(cat_df, 'D_126')"
      ],
      "metadata": {
        "colab": {
          "base_uri": "https://localhost:8080/",
          "height": 372
        },
        "id": "X7H1jpcEH_yH",
        "outputId": "21fa48d6-4e15-4c32-fb1f-cae648dc4f17"
      },
      "execution_count": null,
      "outputs": [
        {
          "output_type": "stream",
          "name": "stdout",
          "text": [
            "Number of unique categories for D_126 is 3\n",
            "Number of unique categories for D_126 is [ 1. nan  0. -1.]\n",
            "Number of entries with NaN value for D_126 is 116816\n"
          ]
        },
        {
          "output_type": "display_data",
          "data": {
            "text/plain": [
              "<Figure size 432x288 with 1 Axes>"
            ],
            "image/png": "[encoded data removed]"
          },
          "metadata": {
            "needs_background": "light"
          }
        }
      ]
    },
    {
      "cell_type": "code",
      "source": [
        "cat_df = read_cols(['customer_ID', 'S_2', 'D_66'])\n",
        "print_stat(cat_df, 'D_66')\n",
        "plot_cat(cat_df, 'D_66')"
      ],
      "metadata": {
        "colab": {
          "base_uri": "https://localhost:8080/",
          "height": 372
        },
        "id": "VSzWdbsRIDSy",
        "outputId": "27954506-58a4-4c9e-a0a3-166b8b4a2f8c"
      },
      "execution_count": null,
      "outputs": [
        {
          "output_type": "stream",
          "name": "stdout",
          "text": [
            "Number of unique categories for D_66 is 2\n",
            "Number of unique categories for D_66 is [nan  1.  0.]\n",
            "Number of entries with NaN value for D_66 is 4908097\n"
          ]
        },
        {
          "output_type": "display_data",
          "data": {
            "text/plain": [
              "<Figure size 432x288 with 1 Axes>"
            ],
            "image/png": "[encoded data removed]"
          },
          "metadata": {
            "needs_background": "light"
          }
        }
      ]
    },
    {
      "cell_type": "markdown",
      "source": [
        "Too much NaN values in column D_66, this column can be dropped."
      ],
      "metadata": {
        "id": "kdQhAwZxqO-H"
      }
    },
    {
      "cell_type": "code",
      "source": [
        "cat_df = read_cols(['customer_ID', 'S_2', 'D_68'])\n",
        "print_stat(cat_df, 'D_68')\n",
        "plot_cat(cat_df, 'D_68')"
      ],
      "metadata": {
        "colab": {
          "base_uri": "https://localhost:8080/",
          "height": 372
        },
        "id": "G6WbYcrOIHdA",
        "outputId": "9f607c35-32bd-4a28-c52a-f345543b392c"
      },
      "execution_count": null,
      "outputs": [
        {
          "output_type": "stream",
          "name": "stdout",
          "text": [
            "Number of unique categories for D_68 is 7\n",
            "Number of unique categories for D_68 is [ 6.  2.  3. nan  5.  4.  0.  1.]\n",
            "Number of entries with NaN value for D_68 is 216503\n"
          ]
        },
        {
          "output_type": "display_data",
          "data": {
            "text/plain": [
              "<Figure size 432x288 with 1 Axes>"
            ],
            "image/png": "[encoded data removed]"
          },
          "metadata": {
            "needs_background": "light"
          }
        }
      ]
    },
    {
      "cell_type": "markdown",
      "source": [
        "## Explore Numerical Columns"
      ],
      "metadata": {
        "id": "dncy0kfhtzyO"
      }
    },
    {
      "cell_type": "code",
      "source": [
        "def print_num_stat(df, col):\n",
        "  print(f'{col} has {df[col].isnull().sum()} null values')\n",
        "  print(num_df[col].describe().map('{:f}'.format))\n",
        "\n",
        "def plot_dist(df, col):\n",
        "  sns.displot(data=df, x=col, hue='target')\n",
        "  plt.title('Distribution of Variable ' + col)\n",
        "  "
      ],
      "metadata": {
        "id": "OzE0jK9ywCNN"
      },
      "execution_count": 27,
      "outputs": []
    },
    {
      "cell_type": "code",
      "source": [
        "num_df = read_cols(['customer_ID', 'S_2', 'P_2'])"
      ],
      "metadata": {
        "id": "kk0uIVgYxNqh"
      },
      "execution_count": null,
      "outputs": []
    },
    {
      "cell_type": "code",
      "source": [
        "print_num_stat(num_df, 'P_2')\n",
        "plot_dist(num_df, 'P_2')"
      ],
      "metadata": {
        "id": "NLfgEclbxdKa",
        "outputId": "cd81a87e-0db4-4ad8-8342-58087baf7caf",
        "colab": {
          "base_uri": "https://localhost:8080/",
          "height": 555
        }
      },
      "execution_count": null,
      "outputs": [
        {
          "output_type": "stream",
          "name": "stdout",
          "text": [
            "P_2 has 45985 null values\n",
            "count    5485466.000000\n",
            "mean           0.656334\n",
            "std            0.244649\n",
            "min           -0.458955\n",
            "25%            0.480331\n",
            "50%            0.694295\n",
            "75%            0.864816\n",
            "max            1.010000\n",
            "Name: P_2, dtype: object\n"
          ]
        },
        {
          "output_type": "display_data",
          "data": {
            "text/plain": [
              "<Figure size 406.6x360 with 1 Axes>"
            ],
            "image/png": "[encoded data removed]"
          },
          "metadata": {}
        }
      ]
    },
    {
      "cell_type": "markdown",
      "source": [
        "### Explore D_* Numerical Columns"
      ],
      "metadata": {
        "id": "ny3HFeDr2Cdo"
      }
    },
    {
      "cell_type": "code",
      "source": [
        "numerical_features = columns[columns==np.number].filter(regex='D_*', axis=0).index.tolist()\n",
        "print(f'There are {len(numerical_features)} numerical features in D_* ' )"
      ],
      "metadata": {
        "id": "D1InQOSbt2AQ",
        "colab": {
          "base_uri": "https://localhost:8080/"
        },
        "outputId": "6b8c845c-36db-40c1-963c-83eaf8d93b57"
      },
      "execution_count": 15,
      "outputs": [
        {
          "output_type": "stream",
          "name": "stdout",
          "text": [
            "There are 94 numerical features in D_* \n"
          ]
        }
      ]
    },
    {
      "cell_type": "markdown",
      "source": [
        "### Explore P_* Numerical Columns"
      ],
      "metadata": {
        "id": "NfFmCHY_2IIw"
      }
    },
    {
      "cell_type": "code",
      "source": [
        "numerical_features = columns[columns==np.number].filter(regex='P_*', axis=0).index.tolist()\n",
        "print(f'There are {len(numerical_features)} numerical features in P_* ' )"
      ],
      "metadata": {
        "id": "P2IuN_Rt2N9g",
        "outputId": "6401a18f-9333-41bc-892b-55a0cedfb1fa",
        "colab": {
          "base_uri": "https://localhost:8080/"
        }
      },
      "execution_count": 20,
      "outputs": [
        {
          "output_type": "stream",
          "name": "stdout",
          "text": [
            "There are 3 numerical features in P_* \n"
          ]
        }
      ]
    },
    {
      "cell_type": "code",
      "source": [
        "for col in numerical_features:\n",
        "  print(f'fetching {col} ')\n",
        "  num_df = read_cols(['customer_ID', 'S_2', col])\n",
        "  print(f'plotting {col}')\n",
        "  print_num_stat(num_df, col)\n",
        "  plot_dist(num_df, col)"
      ],
      "metadata": {
        "colab": {
          "base_uri": "https://localhost:8080/",
          "height": 1000
        },
        "id": "Es3BGHW9fJDl",
        "outputId": "1e82449a-c7fd-4d50-ac79-9e4af382125a"
      },
      "execution_count": 29,
      "outputs": [
        {
          "output_type": "stream",
          "name": "stdout",
          "text": [
            "fetching P_2 \n",
            "plotting P_2\n",
            "P_2 has 45985 null values\n",
            "count    5485466.000000\n",
            "mean           0.656334\n",
            "std            0.244649\n",
            "min           -0.458955\n",
            "25%            0.480331\n",
            "50%            0.694295\n",
            "75%            0.864816\n",
            "max            1.010000\n",
            "Name: P_2, dtype: object\n",
            "fetching P_3 \n",
            "plotting P_3\n",
            "P_3 has 301492 null values\n",
            "count    5229959.000000\n",
            "mean           0.601289\n",
            "std            0.170799\n",
            "min           -1.519690\n",
            "25%            0.540866\n",
            "50%            0.618303\n",
            "75%            0.683826\n",
            "max            2.428051\n",
            "Name: P_3, dtype: object\n",
            "fetching P_4 \n",
            "plotting P_4\n",
            "P_4 has 0 null values\n",
            "count    5531451.000000\n",
            "mean           0.143927\n",
            "std            0.338272\n",
            "min            0.000000\n",
            "25%            0.002924\n",
            "50%            0.005849\n",
            "75%            0.008766\n",
            "max            1.269390\n",
            "Name: P_4, dtype: object\n"
          ]
        },
        {
          "output_type": "display_data",
          "data": {
            "text/plain": [
              "<Figure size 402.375x360 with 1 Axes>"
            ],
            "image/png": "[encoded data removed]"
          },
          "metadata": {
            "needs_background": "light"
          }
        },
        {
          "output_type": "display_data",
          "data": {
            "text/plain": [
              "<Figure size 402.375x360 with 1 Axes>"
            ],
            "image/png": "[encoded data removed]"
          },
          "metadata": {
            "needs_background": "light"
          }
        },
        {
          "output_type": "display_data",
          "data": {
            "text/plain": [
              "<Figure size 402.375x360 with 1 Axes>"
            ],
            "image/png": "[encoded data removed]"
          },
          "metadata": {
            "needs_background": "light"
          }
        }
      ]
    },
    {
      "cell_type": "markdown",
      "source": [
        "### Explore S_* Numerical Columns"
      ],
      "metadata": {
        "id": "zy3cYy-rZ2Kx"
      }
    },
    {
      "cell_type": "code",
      "source": [
        "numerical_features = columns[columns==np.number].filter(regex='S_*', axis=0).index.tolist()\n",
        "print(f'There are {len(numerical_features)} numerical features in S_* ' )\n",
        "for col in numerical_features:\n",
        "  print(f'fetching {col} ')\n",
        "  num_df = read_cols(['customer_ID', 'S_2', col])\n",
        "  print(f'plotting {col}')\n",
        "  print_num_stat(num_df, col)\n",
        "  plot_dist(num_df, col)"
      ],
      "metadata": {
        "outputId": "a76df3f9-f96b-4ba4-fdfd-a2ab6e5a7d34",
        "colab": {
          "base_uri": "https://localhost:8080/"
        },
        "id": "Beld6VC8ZLQU"
      },
      "execution_count": null,
      "outputs": [
        {
          "output_type": "stream",
          "name": "stdout",
          "text": [
            "There are 21 numerical features in S_* \n",
            "fetching S_3 \n",
            "plotting S_3\n",
            "S_3 has 1020544 null values\n",
            "count    4510907.000000\n",
            "mean           0.225845\n",
            "std            0.193347\n",
            "min           -0.627132\n",
            "25%            0.127259\n",
            "50%            0.163908\n",
            "75%            0.258102\n",
            "max            5.482888\n",
            "Name: S_3, dtype: object\n",
            "fetching S_5 \n",
            "plotting S_5\n",
            "S_5 has 0 null values\n",
            "count    5531451.000000\n",
            "mean           0.088105\n",
            "std            0.407405\n",
            "min            0.000000\n",
            "25%            0.005636\n",
            "50%            0.013521\n",
            "75%            0.071321\n",
            "max          206.875280\n",
            "Name: S_5, dtype: object\n",
            "fetching S_6 \n",
            "plotting S_6\n",
            "S_6 has 0 null values\n",
            "count    5531451.000000\n",
            "mean           0.244192\n",
            "std            0.426600\n",
            "min            0.000000\n",
            "25%            0.003285\n",
            "50%            0.006573\n",
            "75%            0.009859\n",
            "max            1.010000\n",
            "Name: S_6, dtype: object\n",
            "fetching S_7 \n",
            "plotting S_7\n",
            "S_7 has 1020544 null values\n",
            "count    4510907.000000\n",
            "mean           0.223138\n",
            "std            0.206303\n",
            "min           -0.470132\n",
            "25%            0.093729\n",
            "50%            0.139701\n",
            "75%            0.295459\n",
            "max            3.948271\n",
            "Name: S_7, dtype: object\n",
            "fetching S_8 \n",
            "plotting S_8\n",
            "S_8 has 0 null values\n",
            "count    5531451.000000\n",
            "mean           0.327600\n",
            "std            0.303089\n",
            "min            0.000000\n",
            "25%            0.007645\n",
            "50%            0.321748\n",
            "75%            0.494937\n",
            "max            1.231413\n",
            "Name: S_8, dtype: object\n",
            "fetching S_9 \n",
            "plotting S_9\n",
            "S_9 has 2933643 null values\n",
            "count    2597808.000000\n",
            "mean           0.074415\n",
            "std            0.195998\n",
            "min            0.000000\n",
            "25%            0.009789\n",
            "50%            0.019494\n",
            "75%            0.053228\n",
            "max            2.839635\n",
            "Name: S_9, dtype: object\n",
            "fetching S_11 \n",
            "plotting S_11\n",
            "S_11 has 0 null values\n",
            "count    5531451.000000\n",
            "mean           0.375333\n",
            "std            0.191010\n",
            "min           -0.199999\n",
            "25%            0.282444\n",
            "50%            0.289731\n",
            "75%            0.448762\n",
            "max            3.801432\n",
            "Name: S_11, dtype: object\n",
            "fetching S_12 \n",
            "plotting S_12\n",
            "S_12 has 0 null values\n",
            "count    5531451.000000\n",
            "mean           0.240463\n",
            "std            0.250719\n",
            "min           -0.404109\n",
            "25%            0.186898\n",
            "50%            0.190826\n",
            "75%            0.208876\n",
            "max          175.331420\n",
            "Name: S_12, dtype: object\n"
          ]
        }
      ]
    },
    {
      "cell_type": "markdown",
      "source": [
        "### Explore B_* Numerical Columns"
      ],
      "metadata": {
        "id": "r0xSWilKZ5wt"
      }
    },
    {
      "cell_type": "code",
      "source": [
        "numerical_features = columns[columns==np.number].filter(regex='B_*', axis=0).index.tolist()\n",
        "print(f'There are {len(numerical_features)} numerical features in B_* ' )"
      ],
      "metadata": {
        "outputId": "d3349fbf-35c1-49da-db65-8ce035dfe669",
        "colab": {
          "base_uri": "https://localhost:8080/"
        },
        "id": "xhwnIVGdZLtA"
      },
      "execution_count": 18,
      "outputs": [
        {
          "output_type": "stream",
          "name": "stdout",
          "text": [
            "There are 39 numerical features in B_* \n"
          ]
        }
      ]
    },
    {
      "cell_type": "markdown",
      "source": [
        "### Explore R_* Numerical Columns"
      ],
      "metadata": {
        "id": "Bp17BX1fZ612"
      }
    },
    {
      "cell_type": "code",
      "source": [
        "numerical_features = columns[columns==np.number].filter(regex='R_*', axis=0).index.tolist()\n",
        "print(f'There are {len(numerical_features)} numerical features in R_* ' )"
      ],
      "metadata": {
        "outputId": "b3a02b8e-eec2-4396-ba63-930166f7811e",
        "colab": {
          "base_uri": "https://localhost:8080/"
        },
        "id": "PydSdAXgZglD"
      },
      "execution_count": 19,
      "outputs": [
        {
          "output_type": "stream",
          "name": "stdout",
          "text": [
            "There are 28 numerical features in R_* \n"
          ]
        }
      ]
    }
  ]
}