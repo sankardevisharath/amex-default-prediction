{
  "nbformat": 4,
  "nbformat_minor": 0,
  "metadata": {
    "colab": {
      "name": "explore_columns.ipynb",
      "provenance": [],
      "authorship_tag": "ABX9TyPGddTAjNnBEHKQYf08MQGi",
      "include_colab_link": true
    },
    "kernelspec": {
      "name": "python3",
      "display_name": "Python 3"
    },
    "language_info": {
      "name": "python"
    },
    "gpuClass": "standard"
  },
  "cells": [
    {
      "cell_type": "markdown",
      "metadata": {
        "id": "view-in-github",
        "colab_type": "text"
      },
      "source": [
        "<a href=\"https://colab.research.google.com/github/sankardevisharath/amex-default-prediction/blob/master/notebooks/explore_columns.ipynb\" target=\"_parent\"><img src=\"https://colab.research.google.com/assets/colab-badge.svg\" alt=\"Open In Colab\"/></a>"
      ]
    },
    {
      "cell_type": "markdown",
      "source": [
        "# Explore Dataset Column Wise"
      ],
      "metadata": {
        "id": "RqGA4wyYHNoK"
      }
    },
    {
      "cell_type": "markdown",
      "source": [
        "## Load Data From Google Drive"
      ],
      "metadata": {
        "id": "MLzT3WULHdE9"
      }
    },
    {
      "cell_type": "code",
      "execution_count": 1,
      "metadata": {
        "colab": {
          "base_uri": "https://localhost:8080/"
        },
        "id": "yvfeyd0hABGq",
        "outputId": "b186e4c5-2ac4-47fd-f578-1f9f1109cabe"
      },
      "outputs": [
        {
          "output_type": "stream",
          "name": "stdout",
          "text": [
            "Mounted at /content/drive\n"
          ]
        }
      ],
      "source": [
        "from google.colab import drive\n",
        "drive.mount('/content/drive')"
      ]
    },
    {
      "cell_type": "code",
      "source": [
        "%mkdir data\n",
        "%cd data\n",
        "%mkdir raw\n",
        "%cd raw"
      ],
      "metadata": {
        "colab": {
          "base_uri": "https://localhost:8080/"
        },
        "id": "og0YOAJeAMAW",
        "outputId": "2cc1f09d-75a2-44b1-a05d-661a8b24a27e"
      },
      "execution_count": 2,
      "outputs": [
        {
          "output_type": "stream",
          "name": "stdout",
          "text": [
            "/content/data\n",
            "/content/data/raw\n"
          ]
        }
      ]
    },
    {
      "cell_type": "code",
      "source": [
        "!cp /content/drive/MyDrive/amex-default-prediction/data/raw/amex-default-prediction.zip ."
      ],
      "metadata": {
        "id": "RVbGGz4kAj3e"
      },
      "execution_count": 3,
      "outputs": []
    },
    {
      "cell_type": "code",
      "source": [
        "!unzip amex-default-prediction.zip train_data.csv"
      ],
      "metadata": {
        "colab": {
          "base_uri": "https://localhost:8080/"
        },
        "id": "rIPZVv6vAzfV",
        "outputId": "af592a8a-104e-483a-fe77-3c2c04ae61c8"
      },
      "execution_count": 4,
      "outputs": [
        {
          "output_type": "stream",
          "name": "stdout",
          "text": [
            "Archive:  amex-default-prediction.zip\n",
            "  inflating: train_data.csv          \n"
          ]
        }
      ]
    },
    {
      "cell_type": "code",
      "source": [
        "!unzip amex-default-prediction.zip train_labels.csv"
      ],
      "metadata": {
        "colab": {
          "base_uri": "https://localhost:8080/"
        },
        "id": "Kjbk0awRAzIg",
        "outputId": "548bfc7c-8bbf-47dd-80c8-5bab8d17a6b0"
      },
      "execution_count": 5,
      "outputs": [
        {
          "output_type": "stream",
          "name": "stdout",
          "text": [
            "Archive:  amex-default-prediction.zip\n",
            "  inflating: train_labels.csv        \n"
          ]
        }
      ]
    },
    {
      "cell_type": "markdown",
      "source": [
        "## Setup Environment"
      ],
      "metadata": {
        "id": "EYamfXGCH3F3"
      }
    },
    {
      "cell_type": "code",
      "source": [
        "import pandas as pd\n",
        "import numpy as np \n",
        "import seaborn as sns\n",
        "import matplotlib.pyplot as plt"
      ],
      "metadata": {
        "id": "IkrUD-5OH7Q1"
      },
      "execution_count": 6,
      "outputs": []
    },
    {
      "cell_type": "code",
      "source": [
        "TRAIN_DATA_PATH = '/content/data/raw/train_data.csv'\n",
        "TRAIN_LABELS_PATH = '/content/data/raw/train_labels.csv'"
      ],
      "metadata": {
        "id": "POPeOLcBCtaI"
      },
      "execution_count": 7,
      "outputs": []
    },
    {
      "cell_type": "markdown",
      "source": [
        "## Explore Column Metadata"
      ],
      "metadata": {
        "id": "lUDXFiWNHlTt"
      }
    },
    {
      "cell_type": "markdown",
      "source": [
        "Load train labels dataframe"
      ],
      "metadata": {
        "id": "ZxLRFgiQKNgy"
      }
    },
    {
      "cell_type": "code",
      "source": [
        "train_labels = pd.read_csv(TRAIN_LABELS_PATH)"
      ],
      "metadata": {
        "id": "aS4pw9sNKSnh"
      },
      "execution_count": 8,
      "outputs": []
    },
    {
      "cell_type": "code",
      "source": [
        "train_labels.info()"
      ],
      "metadata": {
        "id": "X2Iih-ubKbAb",
        "outputId": "39da2b05-028b-46ec-bff4-102e658b9d75",
        "colab": {
          "base_uri": "https://localhost:8080/"
        }
      },
      "execution_count": 9,
      "outputs": [
        {
          "output_type": "stream",
          "name": "stdout",
          "text": [
            "<class 'pandas.core.frame.DataFrame'>\n",
            "RangeIndex: 458913 entries, 0 to 458912\n",
            "Data columns (total 2 columns):\n",
            " #   Column       Non-Null Count   Dtype \n",
            "---  ------       --------------   ----- \n",
            " 0   customer_ID  458913 non-null  object\n",
            " 1   target       458913 non-null  int64 \n",
            "dtypes: int64(1), object(1)\n",
            "memory usage: 7.0+ MB\n"
          ]
        }
      ]
    },
    {
      "cell_type": "markdown",
      "source": [
        "There are two columns in the train_labels file, customer_ID of the customer & target variable. Target variable is of type int64.\n",
        "\n",
        "Below utility function can be used to merge target column to another dataframe."
      ],
      "metadata": {
        "id": "vn7kb68cKgFz"
      }
    },
    {
      "cell_type": "code",
      "source": [
        "def append_label(source_df):\n",
        "  return pd.merge(left=source_df, right=train_labels, how='inner')"
      ],
      "metadata": {
        "id": "lu6_Y9OCKz3Q"
      },
      "execution_count": 10,
      "outputs": []
    },
    {
      "cell_type": "markdown",
      "source": [
        "Read 10 rows from the training data to check the object types and column names."
      ],
      "metadata": {
        "id": "_A4vxEwaNW28"
      }
    },
    {
      "cell_type": "code",
      "source": [
        "pd.read_csv(TRAIN_DATA_PATH, nrows=10).info()"
      ],
      "metadata": {
        "id": "52XWM0m5G07c",
        "outputId": "65319dab-31e2-4cdc-fcc4-fc05f02841c1",
        "colab": {
          "base_uri": "https://localhost:8080/"
        }
      },
      "execution_count": 11,
      "outputs": [
        {
          "output_type": "stream",
          "name": "stdout",
          "text": [
            "<class 'pandas.core.frame.DataFrame'>\n",
            "RangeIndex: 10 entries, 0 to 9\n",
            "Columns: 190 entries, customer_ID to D_145\n",
            "dtypes: float64(185), int64(1), object(4)\n",
            "memory usage: 15.0+ KB\n"
          ]
        }
      ]
    },
    {
      "cell_type": "markdown",
      "source": [
        "There are 185 float64, 4 Object, 1 int64 columns. Now let us take all the columns and corresponding dtype into a variable."
      ],
      "metadata": {
        "id": "L5FUuZelG42h"
      }
    },
    {
      "cell_type": "code",
      "source": [
        "columns = pd.read_csv(TRAIN_DATA_PATH, nrows=10).dtypes"
      ],
      "metadata": {
        "id": "jz0KKrJSCvaS"
      },
      "execution_count": 12,
      "outputs": []
    },
    {
      "cell_type": "code",
      "source": [
        "columns[columns==object]"
      ],
      "metadata": {
        "id": "MttCirRXEfmc",
        "outputId": "eee9ce5c-ebbe-4347-c23d-6b631c17eb4b",
        "colab": {
          "base_uri": "https://localhost:8080/"
        }
      },
      "execution_count": 13,
      "outputs": [
        {
          "output_type": "execute_result",
          "data": {
            "text/plain": [
              "customer_ID    object\n",
              "S_2            object\n",
              "D_63           object\n",
              "D_64           object\n",
              "dtype: object"
            ]
          },
          "metadata": {},
          "execution_count": 13
        }
      ]
    },
    {
      "cell_type": "markdown",
      "source": [
        "There customer_ID, S_2, D_63, D_64 are the columns with datatype object. Lets check each column. \n",
        "\n",
        "## Customer ID, Statment Date & Label \n"
      ],
      "metadata": {
        "id": "YfXkqJFTIP2J"
      }
    },
    {
      "cell_type": "code",
      "source": [
        "cust_id_stmt_date_df = pd.read_csv(TRAIN_DATA_PATH, usecols=['customer_ID', 'S_2'])"
      ],
      "metadata": {
        "id": "qxTPinIoIaZK"
      },
      "execution_count": 53,
      "outputs": []
    },
    {
      "cell_type": "code",
      "source": [
        "cust_id_stmt_date_df.shape"
      ],
      "metadata": {
        "id": "mLPdT3VtREeJ",
        "outputId": "c81c511f-d850-418d-f60e-36fa268ef128",
        "colab": {
          "base_uri": "https://localhost:8080/"
        }
      },
      "execution_count": 54,
      "outputs": [
        {
          "output_type": "execute_result",
          "data": {
            "text/plain": [
              "(5531451, 2)"
            ]
          },
          "metadata": {},
          "execution_count": 54
        }
      ]
    },
    {
      "cell_type": "code",
      "source": [
        "cust_id_stmt_date_df = append_label(cust_id_stmt_date_df)"
      ],
      "metadata": {
        "id": "eUoPo5AkO_o7"
      },
      "execution_count": 55,
      "outputs": []
    },
    {
      "cell_type": "code",
      "source": [
        "cust_id_stmt_date_df.shape"
      ],
      "metadata": {
        "id": "P3nIt7V8R8Y1",
        "outputId": "7d6832cb-3f5b-49ae-8279-8707a25a6f29",
        "colab": {
          "base_uri": "https://localhost:8080/"
        }
      },
      "execution_count": 56,
      "outputs": [
        {
          "output_type": "execute_result",
          "data": {
            "text/plain": [
              "(5531451, 3)"
            ]
          },
          "metadata": {},
          "execution_count": 56
        }
      ]
    },
    {
      "cell_type": "code",
      "source": [
        "cust_id_stmt_date_df.head(5)"
      ],
      "metadata": {
        "id": "ka8TRPmPaYUG",
        "outputId": "648a8faf-63a1-4857-af03-5dd957e53770",
        "colab": {
          "base_uri": "https://localhost:8080/",
          "height": 206
        }
      },
      "execution_count": 57,
      "outputs": [
        {
          "output_type": "execute_result",
          "data": {
            "text/plain": [
              "                                         customer_ID         S_2  target\n",
              "0  0000099d6bd597052cdcda90ffabf56573fe9d7c79be5f...  2017-03-09       0\n",
              "1  0000099d6bd597052cdcda90ffabf56573fe9d7c79be5f...  2017-04-07       0\n",
              "2  0000099d6bd597052cdcda90ffabf56573fe9d7c79be5f...  2017-05-28       0\n",
              "3  0000099d6bd597052cdcda90ffabf56573fe9d7c79be5f...  2017-06-13       0\n",
              "4  0000099d6bd597052cdcda90ffabf56573fe9d7c79be5f...  2017-07-16       0"
            ],
            "text/html": [
              "\n",
              "  <div id=\"df-c07a61da-bf26-4787-9554-8c95a66b9102\">\n",
              "    <div class=\"colab-df-container\">\n",
              "      <div>\n",
              "<style scoped>\n",
              "    .dataframe tbody tr th:only-of-type {\n",
              "        vertical-align: middle;\n",
              "    }\n",
              "\n",
              "    .dataframe tbody tr th {\n",
              "        vertical-align: top;\n",
              "    }\n",
              "\n",
              "    .dataframe thead th {\n",
              "        text-align: right;\n",
              "    }\n",
              "</style>\n",
              "<table border=\"1\" class=\"dataframe\">\n",
              "  <thead>\n",
              "    <tr style=\"text-align: right;\">\n",
              "      <th></th>\n",
              "      <th>customer_ID</th>\n",
              "      <th>S_2</th>\n",
              "      <th>target</th>\n",
              "    </tr>\n",
              "  </thead>\n",
              "  <tbody>\n",
              "    <tr>\n",
              "      <th>0</th>\n",
              "      <td>0000099d6bd597052cdcda90ffabf56573fe9d7c79be5f...</td>\n",
              "      <td>2017-03-09</td>\n",
              "      <td>0</td>\n",
              "    </tr>\n",
              "    <tr>\n",
              "      <th>1</th>\n",
              "      <td>0000099d6bd597052cdcda90ffabf56573fe9d7c79be5f...</td>\n",
              "      <td>2017-04-07</td>\n",
              "      <td>0</td>\n",
              "    </tr>\n",
              "    <tr>\n",
              "      <th>2</th>\n",
              "      <td>0000099d6bd597052cdcda90ffabf56573fe9d7c79be5f...</td>\n",
              "      <td>2017-05-28</td>\n",
              "      <td>0</td>\n",
              "    </tr>\n",
              "    <tr>\n",
              "      <th>3</th>\n",
              "      <td>0000099d6bd597052cdcda90ffabf56573fe9d7c79be5f...</td>\n",
              "      <td>2017-06-13</td>\n",
              "      <td>0</td>\n",
              "    </tr>\n",
              "    <tr>\n",
              "      <th>4</th>\n",
              "      <td>0000099d6bd597052cdcda90ffabf56573fe9d7c79be5f...</td>\n",
              "      <td>2017-07-16</td>\n",
              "      <td>0</td>\n",
              "    </tr>\n",
              "  </tbody>\n",
              "</table>\n",
              "</div>\n",
              "      <button class=\"colab-df-convert\" onclick=\"convertToInteractive('df-c07a61da-bf26-4787-9554-8c95a66b9102')\"\n",
              "              title=\"Convert this dataframe to an interactive table.\"\n",
              "              style=\"display:none;\">\n",
              "        \n",
              "  <svg xmlns=\"http://www.w3.org/2000/svg\" height=\"24px\"viewBox=\"0 0 24 24\"\n",
              "       width=\"24px\">\n",
              "    <path d=\"M0 0h24v24H0V0z\" fill=\"none\"/>\n",
              "    <path d=\"M18.56 5.44l.94 2.06.94-2.06 2.06-.94-2.06-.94-.94-2.06-.94 2.06-2.06.94zm-11 1L8.5 8.5l.94-2.06 2.06-.94-2.06-.94L8.5 2.5l-.94 2.06-2.06.94zm10 10l.94 2.06.94-2.06 2.06-.94-2.06-.94-.94-2.06-.94 2.06-2.06.94z\"/><path d=\"M17.41 7.96l-1.37-1.37c-.4-.4-.92-.59-1.43-.59-.52 0-1.04.2-1.43.59L10.3 9.45l-7.72 7.72c-.78.78-.78 2.05 0 2.83L4 21.41c.39.39.9.59 1.41.59.51 0 1.02-.2 1.41-.59l7.78-7.78 2.81-2.81c.8-.78.8-2.07 0-2.86zM5.41 20L4 18.59l7.72-7.72 1.47 1.35L5.41 20z\"/>\n",
              "  </svg>\n",
              "      </button>\n",
              "      \n",
              "  <style>\n",
              "    .colab-df-container {\n",
              "      display:flex;\n",
              "      flex-wrap:wrap;\n",
              "      gap: 12px;\n",
              "    }\n",
              "\n",
              "    .colab-df-convert {\n",
              "      background-color: #E8F0FE;\n",
              "      border: none;\n",
              "      border-radius: 50%;\n",
              "      cursor: pointer;\n",
              "      display: none;\n",
              "      fill: #1967D2;\n",
              "      height: 32px;\n",
              "      padding: 0 0 0 0;\n",
              "      width: 32px;\n",
              "    }\n",
              "\n",
              "    .colab-df-convert:hover {\n",
              "      background-color: #E2EBFA;\n",
              "      box-shadow: 0px 1px 2px rgba(60, 64, 67, 0.3), 0px 1px 3px 1px rgba(60, 64, 67, 0.15);\n",
              "      fill: #174EA6;\n",
              "    }\n",
              "\n",
              "    [theme=dark] .colab-df-convert {\n",
              "      background-color: #3B4455;\n",
              "      fill: #D2E3FC;\n",
              "    }\n",
              "\n",
              "    [theme=dark] .colab-df-convert:hover {\n",
              "      background-color: #434B5C;\n",
              "      box-shadow: 0px 1px 3px 1px rgba(0, 0, 0, 0.15);\n",
              "      filter: drop-shadow(0px 1px 2px rgba(0, 0, 0, 0.3));\n",
              "      fill: #FFFFFF;\n",
              "    }\n",
              "  </style>\n",
              "\n",
              "      <script>\n",
              "        const buttonEl =\n",
              "          document.querySelector('#df-c07a61da-bf26-4787-9554-8c95a66b9102 button.colab-df-convert');\n",
              "        buttonEl.style.display =\n",
              "          google.colab.kernel.accessAllowed ? 'block' : 'none';\n",
              "\n",
              "        async function convertToInteractive(key) {\n",
              "          const element = document.querySelector('#df-c07a61da-bf26-4787-9554-8c95a66b9102');\n",
              "          const dataTable =\n",
              "            await google.colab.kernel.invokeFunction('convertToInteractive',\n",
              "                                                     [key], {});\n",
              "          if (!dataTable) return;\n",
              "\n",
              "          const docLinkHtml = 'Like what you see? Visit the ' +\n",
              "            '<a target=\"_blank\" href=https://colab.research.google.com/notebooks/data_table.ipynb>data table notebook</a>'\n",
              "            + ' to learn more about interactive tables.';\n",
              "          element.innerHTML = '';\n",
              "          dataTable['output_type'] = 'display_data';\n",
              "          await google.colab.output.renderOutput(dataTable, element);\n",
              "          const docLink = document.createElement('div');\n",
              "          docLink.innerHTML = docLinkHtml;\n",
              "          element.appendChild(docLink);\n",
              "        }\n",
              "      </script>\n",
              "    </div>\n",
              "  </div>\n",
              "  "
            ]
          },
          "metadata": {},
          "execution_count": 57
        }
      ]
    },
    {
      "cell_type": "code",
      "source": [
        "cust_id_stmt_date_df['customer_ID'].nunique()"
      ],
      "metadata": {
        "id": "rIn6TJKRJGlm",
        "outputId": "4adde12a-a1c2-4b32-d3e6-c0d317a2730e",
        "colab": {
          "base_uri": "https://localhost:8080/"
        }
      },
      "execution_count": 58,
      "outputs": [
        {
          "output_type": "execute_result",
          "data": {
            "text/plain": [
              "458913"
            ]
          },
          "metadata": {},
          "execution_count": 58
        }
      ]
    },
    {
      "cell_type": "markdown",
      "source": [
        "There are around half million unique customers in the train data set"
      ],
      "metadata": {
        "id": "SMdUHzo0SICr"
      }
    },
    {
      "cell_type": "code",
      "source": [
        "cust_id_stmt_date_df.isna().sum()"
      ],
      "metadata": {
        "id": "HGNYV9urTGFB",
        "outputId": "a1924c4b-3983-4dbe-8f58-589f76b494c2",
        "colab": {
          "base_uri": "https://localhost:8080/"
        }
      },
      "execution_count": 59,
      "outputs": [
        {
          "output_type": "execute_result",
          "data": {
            "text/plain": [
              "customer_ID    0\n",
              "S_2            0\n",
              "target         0\n",
              "dtype: int64"
            ]
          },
          "metadata": {},
          "execution_count": 59
        }
      ]
    },
    {
      "cell_type": "markdown",
      "source": [
        "None of the columns are NAN in these 3 columns."
      ],
      "metadata": {
        "id": "w5hrpWrvTuB4"
      }
    },
    {
      "cell_type": "code",
      "source": [
        "cust_id_len = cust_id_stmt_date_df.customer_ID.str.len().max()\n",
        "print(f'Maximum size of value in customer_id column is {cust_id_len}')\n",
        "print(f'Total size of column customer_id is {round(cust_id_len * cust_id_stmt_date_df.shape[0]/(1024 * 1024), 2)} MB')"
      ],
      "metadata": {
        "id": "rTS9vXKFT0qG",
        "outputId": "74de841f-d268-4ea1-fd7a-ace38021c6ed",
        "colab": {
          "base_uri": "https://localhost:8080/"
        }
      },
      "execution_count": 60,
      "outputs": [
        {
          "output_type": "stream",
          "name": "stdout",
          "text": [
            "Maximum size of value in customer_id column is 64\n",
            "Total size of column customer_id is 337.61 MB\n"
          ]
        }
      ]
    },
    {
      "cell_type": "code",
      "source": [
        "s_2_len = cust_id_stmt_date_df.S_2.str.len().max()\n",
        "print(f'Maximum size of value in customer_id column is {s_2_len}')\n",
        "print(f'Total size of column S_2 is {round(s_2_len * cust_id_stmt_date_df.shape[0]/(1024 * 1024), 2)} MB')"
      ],
      "metadata": {
        "id": "rdHzK83eZIje",
        "outputId": "06f544cb-f911-403c-8016-f2f082810543",
        "colab": {
          "base_uri": "https://localhost:8080/"
        }
      },
      "execution_count": 61,
      "outputs": [
        {
          "output_type": "stream",
          "name": "stdout",
          "text": [
            "Maximum size of value in customer_id column is 10\n",
            "Total size of column S_2 is 52.75 MB\n"
          ]
        }
      ]
    },
    {
      "cell_type": "code",
      "source": [
        "print(f'Total size of column target is {round(8 * cust_id_stmt_date_df.shape[0]/(1024 * 1024), 2)} MB')"
      ],
      "metadata": {
        "id": "fKeRqpTGZedF",
        "outputId": "0b6e381c-a0c5-44f5-9b38-34527b2750fa",
        "colab": {
          "base_uri": "https://localhost:8080/"
        }
      },
      "execution_count": 62,
      "outputs": [
        {
          "output_type": "stream",
          "name": "stdout",
          "text": [
            "Total size of column target is 42.2 MB\n"
          ]
        }
      ]
    },
    {
      "cell_type": "code",
      "source": [
        "cust_id_stmt_date_df[\"S_2\"] = pd.to_datetime(cust_id_stmt_date_df[\"S_2\"])"
      ],
      "metadata": {
        "id": "2Wpn6MSeZtiN"
      },
      "execution_count": 63,
      "outputs": []
    },
    {
      "cell_type": "markdown",
      "source": [
        "### Distribution of target variable"
      ],
      "metadata": {
        "id": "34CSR52mASSq"
      }
    },
    {
      "cell_type": "code",
      "source": [
        "target_dist = cust_id_stmt_date_df.target.value_counts()\n",
        "target_dist = target_dist.transform(lambda x: (x/x.sum()).mul(100))"
      ],
      "metadata": {
        "id": "dhgts5f7AWwb"
      },
      "execution_count": 64,
      "outputs": []
    },
    {
      "cell_type": "code",
      "source": [
        "ax = sns.barplot(x=target_dist.index, y=target_dist.values)\n",
        "plt.title('Distribution of Target Variable')\n",
        "plt.ylabel('Percentage (%)')"
      ],
      "metadata": {
        "id": "08_W-l4rRRA9",
        "outputId": "64d110a7-8014-4c18-906f-8fb8274b9a82",
        "colab": {
          "base_uri": "https://localhost:8080/",
          "height": 298
        }
      },
      "execution_count": 65,
      "outputs": [
        {
          "output_type": "execute_result",
          "data": {
            "text/plain": [
              "Text(0, 0.5, 'Percentage (%)')"
            ]
          },
          "metadata": {},
          "execution_count": 65
        },
        {
          "output_type": "display_data",
          "data": {
            "text/plain": [
              "<Figure size 432x288 with 1 Axes>"
            ],
            "image/png": "[encoded data removed]"
          },
          "metadata": {
            "needs_background": "light"
          }
        }
      ]
    },
    {
      "cell_type": "markdown",
      "source": [
        "The dataset has 25% positive ( defaults on payment) & 75% negative cases. We might have to consider this imbalance while building the model.\n",
        "### Statment Date Analysis"
      ],
      "metadata": {
        "id": "f08zmnvsQ8DV"
      }
    },
    {
      "cell_type": "code",
      "source": [
        "print(f'Minimum date is {cust_id_stmt_date_df.S_2.min()}')\n",
        "print(f'Maxim date is {cust_id_stmt_date_df.S_2.max()}')"
      ],
      "metadata": {
        "id": "1bLLuLVBVq8w",
        "outputId": "2a0b4b47-64ed-473f-d4d6-437120df9b27",
        "colab": {
          "base_uri": "https://localhost:8080/"
        }
      },
      "execution_count": 68,
      "outputs": [
        {
          "output_type": "stream",
          "name": "stdout",
          "text": [
            "Minimum date is 2017-03-01 00:00:00\n",
            "Minimum date is 2018-03-31 00:00:00\n"
          ]
        }
      ]
    },
    {
      "cell_type": "markdown",
      "source": [
        "The data contains entries for 13 months. We have data in March from year 2017 & 2018. "
      ],
      "metadata": {
        "id": "_wXOBpY-YOQk"
      }
    },
    {
      "cell_type": "code",
      "source": [
        "stmt_dt_dist = pd.Series(cust_id_stmt_date_df.S_2.dt.to_period('M')).value_counts(sort=True)\n",
        "stmt_dt_dist"
      ],
      "metadata": {
        "id": "nyKzxMidYkNP",
        "outputId": "4f90c68f-4286-4072-bd07-2898bab2ba8f",
        "colab": {
          "base_uri": "https://localhost:8080/"
        }
      },
      "execution_count": 88,
      "outputs": [
        {
          "output_type": "execute_result",
          "data": {
            "text/plain": [
              "2018-03    458913\n",
              "2018-02    452781\n",
              "2018-01    446255\n",
              "2017-12    438910\n",
              "2017-11    434268\n",
              "2017-10    430292\n",
              "2017-09    425455\n",
              "2017-08    421099\n",
              "2017-07    415602\n",
              "2017-06    410384\n",
              "2017-04    401556\n",
              "2017-05    400306\n",
              "2017-03    395630\n",
              "Freq: M, Name: S_2, dtype: int64"
            ]
          },
          "metadata": {},
          "execution_count": 88
        }
      ]
    },
    {
      "cell_type": "code",
      "source": [
        "stmt_dt_dist = stmt_dt_dist.transform(lambda x: (x/x.sum()).mul(100))\n",
        "ax = sns.barplot(x=stmt_dt_dist.index, y=stmt_dt_dist.values)\n",
        "plt.title('Distribution of entries month wise')\n",
        "plt.ylabel('Percentage (%)')\n",
        "plt.xticks(rotation=45)"
      ],
      "metadata": {
        "id": "Sqsyfd5QbDpS",
        "outputId": "23d0dd70-38eb-4216-f035-9a348e93467a",
        "colab": {
          "base_uri": "https://localhost:8080/",
          "height": 343
        }
      },
      "execution_count": 89,
      "outputs": [
        {
          "output_type": "execute_result",
          "data": {
            "text/plain": [
              "(array([ 0,  1,  2,  3,  4,  5,  6,  7,  8,  9, 10, 11, 12]),\n",
              " <a list of 13 Text major ticklabel objects>)"
            ]
          },
          "metadata": {},
          "execution_count": 89
        },
        {
          "output_type": "display_data",
          "data": {
            "text/plain": [
              "<Figure size 432x288 with 1 Axes>"
            ],
            "image/png": "[encoded data removed]"
          },
          "metadata": {
            "needs_background": "light"
          }
        }
      ]
    },
    {
      "cell_type": "code",
      "source": [
        "  columns[columns==np.int64]"
      ],
      "metadata": {
        "id": "0ofxLI94GqBs",
        "outputId": "14b69a5d-583f-469d-ceb6-f2b3424835dd",
        "colab": {
          "base_uri": "https://localhost:8080/"
        }
      },
      "execution_count": 67,
      "outputs": [
        {
          "output_type": "execute_result",
          "data": {
            "text/plain": [
              "B_31    int64\n",
              "dtype: object"
            ]
          },
          "metadata": {},
          "execution_count": 67
        }
      ]
    }
  ]
}