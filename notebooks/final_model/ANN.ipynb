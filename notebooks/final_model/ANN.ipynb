{
  "cells": [
    {
      "cell_type": "markdown",
      "metadata": {
        "id": "view-in-github",
        "colab_type": "text"
      },
      "source": [
        "<a href=\"https://colab.research.google.com/github/sankardevisharath/amex-default-prediction/blob/master/notebooks/final_model/ANN.ipynb\" target=\"_parent\"><img src=\"https://colab.research.google.com/assets/colab-badge.svg\" alt=\"Open In Colab\"/></a>"
      ]
    },
    {
      "cell_type": "code",
      "execution_count": null,
      "metadata": {
        "id": "nx_k17C4dJpj"
      },
      "outputs": [],
      "source": [
        "import gc \n",
        "\n",
        "import numpy as np\n",
        "import pandas as pd\n",
        "import lightgbm as gbm\n",
        "from imblearn.over_sampling import KMeansSMOTE\n",
        "from sklearn.preprocessing import OrdinalEncoder\n",
        "from sklearn.model_selection import train_test_split\n",
        "from sklearn.metrics import confusion_matrix\n",
        "from sklearn.metrics import f1_score\n",
        "from sklearn.metrics import roc_auc_score\n",
        "from sklearn.metrics import roc_curve\n",
        "from sklearn.metrics import auc\n",
        "from sklearn.metrics import RocCurveDisplay\n",
        "import matplotlib.pyplot as plt\n",
        "\n",
        "\n",
        "from sklearn.datasets import make_classification\n",
        "from sklearn.metrics import plot_confusion_matrix\n",
        "from sklearn.metrics import classification_report"
      ]
    },
    {
      "cell_type": "code",
      "execution_count": null,
      "metadata": {
        "id": "AUrNOiSyZ3NT"
      },
      "outputs": [],
      "source": [
        "df = pd.read_parquet(path='/content/drive/MyDrive/amex-default-prediction/data/aggr/customer-agg.parquet')"
      ]
    },
    {
      "cell_type": "code",
      "execution_count": null,
      "metadata": {
        "colab": {
          "base_uri": "https://localhost:8080/"
        },
        "id": "X4fUCrbFaZdc",
        "outputId": "9b51b248-d572-461c-d8e7-8e014a9d3f3f"
      },
      "outputs": [
        {
          "output_type": "stream",
          "name": "stdout",
          "text": [
            "<class 'pandas.core.frame.DataFrame'>\n",
            "Int64Index: 458913 entries, 0 to 458912\n",
            "Columns: 920 entries, customer_ID to target\n",
            "dtypes: float64(891), int64(26), object(3)\n",
            "memory usage: 3.1+ GB\n"
          ]
        }
      ],
      "source": [
        "df.info()"
      ]
    },
    {
      "cell_type": "code",
      "execution_count": null,
      "metadata": {
        "colab": {
          "base_uri": "https://localhost:8080/"
        },
        "id": "PIDBW09DahOq",
        "outputId": "0a13188e-5787-49a9-feb3-5941bb76185f"
      },
      "outputs": [
        {
          "output_type": "execute_result",
          "data": {
            "text/plain": [
              "customer_ID    object\n",
              "D_63_last      object\n",
              "D_64_last      object\n",
              "dtype: object"
            ]
          },
          "metadata": {},
          "execution_count": 4
        }
      ],
      "source": [
        "columns = df.head().dtypes\n",
        "columns[columns==object]\n"
      ]
    },
    {
      "cell_type": "code",
      "execution_count": null,
      "metadata": {
        "id": "IdDL1GU3gPxH"
      },
      "outputs": [],
      "source": [
        "cat_cols = ['D_63', 'D_64','B_30', 'B_38', 'D_114', 'D_116', 'D_117', 'D_120', 'D_126', 'D_66', 'D_68']\n",
        "TRAIN_LABELS_PATH = '/content/train_labels.csv'"
      ]
    },
    {
      "cell_type": "code",
      "execution_count": null,
      "metadata": {
        "id": "Ivmf5DcQc6tP"
      },
      "outputs": [],
      "source": [
        "X = pd.DataFrame()\n",
        "Y = pd.DataFrame()\n",
        "\n",
        "enc = OrdinalEncoder(handle_unknown='use_encoded_value', unknown_value=-1)\n",
        "df[['D_63_last', 'D_64_last']]=enc.fit(df[['D_63_last', 'D_64_last']])\n",
        "df[['D_63_last', 'D_64_last']]=enc.transform(df[['D_63_last', 'D_64_last']])\n",
        "df.fillna(0, inplace=True)\n",
        "X= X.append(df.loc[:, ~df.columns.isin(['customer_ID', 'target'])])\n",
        "Y = Y.append(df.loc[:, df.columns == 'target'])"
      ]
    },
    {
      "cell_type": "code",
      "source": [
        "del df"
      ],
      "metadata": {
        "id": "q_hcvznkzLnY"
      },
      "execution_count": null,
      "outputs": []
    },
    {
      "cell_type": "code",
      "source": [
        "X_train, X_test, y_train, y_test = train_test_split(X, Y, test_size=0.2)"
      ],
      "metadata": {
        "id": "YQ5yAhWXh0AI"
      },
      "execution_count": null,
      "outputs": []
    },
    {
      "cell_type": "code",
      "source": [
        "del X, Y\n",
        "gc.collect()"
      ],
      "metadata": {
        "colab": {
          "base_uri": "https://localhost:8080/"
        },
        "id": "itqFCQpeh2-e",
        "outputId": "5fa51501-33f3-438c-c998-db8a5a269fd0"
      },
      "execution_count": null,
      "outputs": [
        {
          "output_type": "execute_result",
          "data": {
            "text/plain": [
              "66"
            ]
          },
          "metadata": {},
          "execution_count": 9
        }
      ]
    },
    {
      "cell_type": "code",
      "source": [
        "sm = KMeansSMOTE()\n",
        "X_t, y_t = sm.fit_resample(X_train, y_train)"
      ],
      "metadata": {
        "id": "ozpLrqX2h7N2"
      },
      "execution_count": null,
      "outputs": []
    },
    {
      "cell_type": "code",
      "source": [
        "gc.collect()"
      ],
      "metadata": {
        "colab": {
          "base_uri": "https://localhost:8080/"
        },
        "id": "IXbxyYkhiBho",
        "outputId": "d9ba4ba9-37b0-4fb1-fbdb-6849dcacbc40"
      },
      "execution_count": null,
      "outputs": [
        {
          "output_type": "execute_result",
          "data": {
            "text/plain": [
              "44"
            ]
          },
          "metadata": {},
          "execution_count": 11
        }
      ]
    },
    {
      "cell_type": "code",
      "source": [
        "# TensorFlow and tf.keras\n",
        "import tensorflow as tf"
      ],
      "metadata": {
        "id": "otFyRrrXetCN"
      },
      "execution_count": null,
      "outputs": []
    },
    {
      "cell_type": "code",
      "source": [
        "model = tf.keras.Sequential([\n",
        "    tf.keras.layers.Dense(128, activation='relu'),\n",
        "    tf.keras.layers.Dense(64, activation='relu'),\n",
        "    tf.keras.layers.Dense(1, activation='sigmoid')\n",
        "])"
      ],
      "metadata": {
        "id": "sCEc-Iuue0RN"
      },
      "execution_count": null,
      "outputs": []
    },
    {
      "cell_type": "code",
      "source": [
        "model.compile(optimizer='adam',\n",
        "              loss='binary_crossentropy',\n",
        "              metrics=['accuracy', 'AUC', 'FalseNegatives', 'FalsePositives', 'Precision', 'Recall', 'TrueNegatives', 'TruePositives'])"
      ],
      "metadata": {
        "id": "3owJOWpffBL0"
      },
      "execution_count": null,
      "outputs": []
    },
    {
      "cell_type": "code",
      "source": [
        "model.fit(X_t, y_t, epochs=10)"
      ],
      "metadata": {
        "colab": {
          "base_uri": "https://localhost:8080/"
        },
        "id": "uixT5yejfFCy",
        "outputId": "d6eb2da6-1130-4f09-ec8e-dd2be4275a27"
      },
      "execution_count": null,
      "outputs": [
        {
          "output_type": "stream",
          "name": "stdout",
          "text": [
            "Epoch 1/10\n",
            "17004/17004 [==============================] - 55s 3ms/step - loss: 0.1724 - accuracy: 0.9280 - auc: 0.9821 - false_negatives: 18967.0000 - false_positives: 20229.0000 - precision: 0.9260 - recall: 0.9303 - true_negatives: 251819.0000 - true_positives: 253082.0000\n",
            "Epoch 2/10\n",
            "17004/17004 [==============================] - 55s 3ms/step - loss: 0.1626 - accuracy: 0.9310 - auc: 0.9837 - false_negatives: 17752.0000 - false_positives: 19772.0000 - precision: 0.9279 - recall: 0.9347 - true_negatives: 252276.0000 - true_positives: 254297.0000\n",
            "Epoch 3/10\n",
            "17004/17004 [==============================] - 55s 3ms/step - loss: 0.1600 - accuracy: 0.9320 - auc: 0.9842 - false_negatives: 17852.0000 - false_positives: 19121.0000 - precision: 0.9300 - recall: 0.9344 - true_negatives: 252927.0000 - true_positives: 254197.0000\n",
            "Epoch 4/10\n",
            "17004/17004 [==============================] - 55s 3ms/step - loss: 0.1588 - accuracy: 0.9326 - auc: 0.9845 - false_negatives: 18049.0000 - false_positives: 18644.0000 - precision: 0.9316 - recall: 0.9337 - true_negatives: 253404.0000 - true_positives: 254000.0000\n",
            "Epoch 5/10\n",
            "17004/17004 [==============================] - 52s 3ms/step - loss: 0.1568 - accuracy: 0.9333 - auc: 0.9848 - false_negatives: 17879.0000 - false_positives: 18426.0000 - precision: 0.9324 - recall: 0.9343 - true_negatives: 253622.0000 - true_positives: 254170.0000\n",
            "Epoch 6/10\n",
            "17004/17004 [==============================] - 54s 3ms/step - loss: 0.1563 - accuracy: 0.9336 - auc: 0.9850 - false_negatives: 17533.0000 - false_positives: 18593.0000 - precision: 0.9319 - recall: 0.9356 - true_negatives: 253455.0000 - true_positives: 254516.0000\n",
            "Epoch 7/10\n",
            "17004/17004 [==============================] - 55s 3ms/step - loss: 0.1550 - accuracy: 0.9338 - auc: 0.9852 - false_negatives: 17248.0000 - false_positives: 18755.0000 - precision: 0.9314 - recall: 0.9366 - true_negatives: 253293.0000 - true_positives: 254801.0000\n",
            "Epoch 8/10\n",
            "17004/17004 [==============================] - 54s 3ms/step - loss: 0.1542 - accuracy: 0.9343 - auc: 0.9853 - false_negatives: 17122.0000 - false_positives: 18633.0000 - precision: 0.9319 - recall: 0.9371 - true_negatives: 253415.0000 - true_positives: 254927.0000\n",
            "Epoch 9/10\n",
            "17004/17004 [==============================] - 62s 4ms/step - loss: 0.1539 - accuracy: 0.9343 - auc: 0.9854 - false_negatives: 16922.0000 - false_positives: 18824.0000 - precision: 0.9313 - recall: 0.9378 - true_negatives: 253224.0000 - true_positives: 255127.0000\n",
            "Epoch 10/10\n",
            "17004/17004 [==============================] - 54s 3ms/step - loss: 0.1529 - accuracy: 0.9348 - auc: 0.9856 - false_negatives: 16729.0000 - false_positives: 18738.0000 - precision: 0.9316 - recall: 0.9385 - true_negatives: 253310.0000 - true_positives: 255320.0000\n"
          ]
        },
        {
          "output_type": "execute_result",
          "data": {
            "text/plain": [
              "<keras.callbacks.History at 0x7fb3d01e3a90>"
            ]
          },
          "metadata": {},
          "execution_count": 15
        }
      ]
    },
    {
      "cell_type": "code",
      "source": [
        "test_loss, test_acc, *is_anything_else_being_returned = model.evaluate(X_test,  y_test, verbose=2)\n",
        "print('\\nTest accuracy:', test_acc)\n",
        "print('\\nTest loss:', test_loss)\n",
        "print('\\n Other Metrics ', is_anything_else_being_returned)\n"
      ],
      "metadata": {
        "colab": {
          "base_uri": "https://localhost:8080/"
        },
        "id": "rJNhQ-aCfddr",
        "outputId": "aa59f3f0-6404-475b-e9cb-07f297e14583"
      },
      "execution_count": null,
      "outputs": [
        {
          "output_type": "stream",
          "name": "stdout",
          "text": [
            "2869/2869 - 6s - loss: 0.2326 - accuracy: 0.9009 - auc: 0.9582 - false_negatives: 4320.0000 - false_positives: 4775.0000 - precision: 0.8027 - recall: 0.8181 - true_negatives: 63262.0000 - true_positives: 19426.0000 - 6s/epoch - 2ms/step\n",
            "\n",
            "Test accuracy: 0.900907576084137\n",
            "\n",
            "Test loss: 0.23261268436908722\n",
            "\n",
            " Other Metrics  [0.9582293033599854, 4320.0, 4775.0, 0.8026940822601318, 0.818074643611908, 63262.0, 19426.0]\n"
          ]
        }
      ]
    },
    {
      "cell_type": "code",
      "source": [
        "from keras.utils.vis_utils import plot_model\n",
        "\n",
        "plot_model(model, to_file=\"/tmp/model.png\", show_shapes=True)"
      ],
      "metadata": {
        "colab": {
          "base_uri": "https://localhost:8080/",
          "height": 422
        },
        "id": "4YN-5c4L36t8",
        "outputId": "860dbb69-8dbb-4952-d4ee-316c3d55b401"
      },
      "execution_count": null,
      "outputs": [
        {
          "output_type": "execute_result",
          "data": {
            "image/png": "[encoded data removed]",
            "text/plain": [
              "<IPython.core.display.Image object>"
            ]
          },
          "metadata": {},
          "execution_count": 17
        }
      ]
    },
    {
      "cell_type": "code",
      "source": [
        "y_pred = (model.predict(X_test) > 0.5).astype(\"int32\")"
      ],
      "metadata": {
        "id": "-AHY-scC_sP9"
      },
      "execution_count": null,
      "outputs": []
    },
    {
      "cell_type": "code",
      "source": [
        "y_pred"
      ],
      "metadata": {
        "colab": {
          "base_uri": "https://localhost:8080/"
        },
        "id": "v47Ru1Cx_12Y",
        "outputId": "af827ad4-338a-4b07-924a-399b584b736d"
      },
      "execution_count": null,
      "outputs": [
        {
          "output_type": "execute_result",
          "data": {
            "text/plain": [
              "array([[0],\n",
              "       [1],\n",
              "       [0],\n",
              "       ...,\n",
              "       [0],\n",
              "       [1],\n",
              "       [1]], dtype=int32)"
            ]
          },
          "metadata": {},
          "execution_count": 19
        }
      ]
    },
    {
      "cell_type": "code",
      "execution_count": null,
      "metadata": {
        "id": "VpDuIcwcr-rn",
        "colab": {
          "base_uri": "https://localhost:8080/"
        },
        "outputId": "a6b2ad1a-3139-4efa-b928-a253db5fb858"
      },
      "outputs": [
        {
          "output_type": "execute_result",
          "data": {
            "text/plain": [
              "(63262, 4775, 4320, 19426)"
            ]
          },
          "metadata": {},
          "execution_count": 20
        }
      ],
      "source": [
        "tn, fp, fn, tp = confusion_matrix(y_test, y_pred).ravel()\n",
        "tn, fp, fn, tp"
      ]
    },
    {
      "cell_type": "code",
      "execution_count": null,
      "metadata": {
        "id": "EegTKc03sL4F",
        "colab": {
          "base_uri": "https://localhost:8080/"
        },
        "outputId": "a93ff18d-ec1a-493b-d5d2-b834399c4f03"
      },
      "outputs": [
        {
          "output_type": "execute_result",
          "data": {
            "text/plain": [
              "(63262, 4775, 4320, 19426)"
            ]
          },
          "metadata": {},
          "execution_count": 21
        }
      ],
      "source": [
        "tn, fp, fn, tp"
      ]
    },
    {
      "cell_type": "code",
      "execution_count": null,
      "metadata": {
        "id": "0h4Ph6YMsi_L",
        "colab": {
          "base_uri": "https://localhost:8080/"
        },
        "outputId": "fa8746dd-1cdc-4e50-922a-de1254085186"
      },
      "outputs": [
        {
          "output_type": "execute_result",
          "data": {
            "text/plain": [
              "0.8103113854881431"
            ]
          },
          "metadata": {},
          "execution_count": 22
        }
      ],
      "source": [
        "f1_score(y_test, y_pred)"
      ]
    },
    {
      "cell_type": "code",
      "source": [
        "roc_auc_score(y_test, y_pred)"
      ],
      "metadata": {
        "id": "v2WFOPfcVAwc",
        "colab": {
          "base_uri": "https://localhost:8080/"
        },
        "outputId": "7249c56e-f72a-4d91-9cb2-8a7201d52dfc"
      },
      "execution_count": null,
      "outputs": [
        {
          "output_type": "execute_result",
          "data": {
            "text/plain": [
              "0.8739461111709421"
            ]
          },
          "metadata": {},
          "execution_count": 23
        }
      ]
    },
    {
      "cell_type": "code",
      "source": [
        "fpr, tpr, thresholds = roc_curve(y_test, y_pred)\n",
        "roc_auc = auc(fpr, tpr)\n",
        "display = RocCurveDisplay(fpr=fpr, tpr=tpr, roc_auc=roc_auc, estimator_name='example estimator')\n",
        "display.plot()\n",
        "plt.show()"
      ],
      "metadata": {
        "id": "rpEL8ZAsVmr_",
        "colab": {
          "base_uri": "https://localhost:8080/",
          "height": 279
        },
        "outputId": "861ab191-875e-4ecf-98e7-054504c6c93b"
      },
      "execution_count": null,
      "outputs": [
        {
          "output_type": "display_data",
          "data": {
            "text/plain": [
              "<Figure size 432x288 with 1 Axes>"
            ],
            "image/png": "[encoded data removed]"
          },
          "metadata": {
            "needs_background": "light"
          }
        }
      ]
    },
    {
      "cell_type": "code",
      "source": [
        "print(classification_report(y_test, y_pred, digits=4))"
      ],
      "metadata": {
        "id": "2jRjZKeYXCOI",
        "colab": {
          "base_uri": "https://localhost:8080/"
        },
        "outputId": "9689a323-3766-4458-d823-8af11b0de2a0"
      },
      "execution_count": null,
      "outputs": [
        {
          "output_type": "stream",
          "name": "stdout",
          "text": [
            "              precision    recall  f1-score   support\n",
            "\n",
            "           0     0.9361    0.9298    0.9329     68037\n",
            "           1     0.8027    0.8181    0.8103     23746\n",
            "\n",
            "    accuracy                         0.9009     91783\n",
            "   macro avg     0.8694    0.8739    0.8716     91783\n",
            "weighted avg     0.9016    0.9009    0.9012     91783\n",
            "\n"
          ]
        }
      ]
    },
    {
      "cell_type": "code",
      "source": [
        "model.summary()"
      ],
      "metadata": {
        "id": "FGYJ7kWj78a0",
        "outputId": "0f00d077-e243-4570-fd71-d6ae298cd758",
        "colab": {
          "base_uri": "https://localhost:8080/"
        }
      },
      "execution_count": null,
      "outputs": [
        {
          "output_type": "stream",
          "name": "stdout",
          "text": [
            "Model: \"sequential\"\n",
            "_________________________________________________________________\n",
            " Layer (type)                Output Shape              Param #   \n",
            "=================================================================\n",
            " dense (Dense)               (None, 128)               117632    \n",
            "                                                                 \n",
            " dense_1 (Dense)             (None, 64)                8256      \n",
            "                                                                 \n",
            " dense_2 (Dense)             (None, 1)                 65        \n",
            "                                                                 \n",
            "=================================================================\n",
            "Total params: 125,953\n",
            "Trainable params: 125,953\n",
            "Non-trainable params: 0\n",
            "_________________________________________________________________\n"
          ]
        }
      ]
    },
    {
      "cell_type": "code",
      "source": [],
      "metadata": {
        "id": "WQnCU5V779Sg"
      },
      "execution_count": null,
      "outputs": []
    }
  ],
  "metadata": {
    "colab": {
      "collapsed_sections": [],
      "machine_shape": "hm",
      "provenance": [],
      "mount_file_id": "1_83QyyqpFLEn7jFaLF2LcsmtEyUgzaSr",
      "authorship_tag": "ABX9TyNiHktzBzY3xPXwGJPrPSU9",
      "include_colab_link": true
    },
    "gpuClass": "standard",
    "kernelspec": {
      "display_name": "Python 3",
      "name": "python3"
    },
    "language_info": {
      "name": "python"
    }
  },
  "nbformat": 4,
  "nbformat_minor": 0
}