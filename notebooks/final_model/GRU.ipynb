{
  "nbformat": 4,
  "nbformat_minor": 0,
  "metadata": {
    "colab": {
      "provenance": [],
      "collapsed_sections": [],
      "machine_shape": "hm",
      "mount_file_id": "1apXWazJo-DMYKQQ1sUJGIjT04QYGIC8-",
      "authorship_tag": "ABX9TyP+LY4ES5lxkqn5nNF1Z8Uh",
      "include_colab_link": true
    },
    "kernelspec": {
      "name": "python3",
      "display_name": "Python 3"
    },
    "language_info": {
      "name": "python"
    },
    "gpuClass": "standard"
  },
  "cells": [
    {
      "cell_type": "markdown",
      "metadata": {
        "id": "view-in-github",
        "colab_type": "text"
      },
      "source": [
        "<a href=\"https://colab.research.google.com/github/sankardevisharath/amex-default-prediction/blob/master/notebooks/final_model/GRU.ipynb\" target=\"_parent\"><img src=\"https://colab.research.google.com/assets/colab-badge.svg\" alt=\"Open In Colab\"/></a>"
      ]
    },
    {
      "cell_type": "code",
      "source": [
        "from os import listdir\n",
        "\n",
        "files = listdir('/content/drive/MyDrive/amex-default-prediction/data/customer_train/')"
      ],
      "metadata": {
        "id": "qDhpXsRkbY7g"
      },
      "execution_count": null,
      "outputs": []
    },
    {
      "cell_type": "code",
      "source": [
        "pip install tensorflow-addons"
      ],
      "metadata": {
        "colab": {
          "base_uri": "https://localhost:8080/"
        },
        "id": "DHNGFYGOgX21",
        "outputId": "28b7c29b-2845-450f-fa0e-553ce45c9317"
      },
      "execution_count": null,
      "outputs": [
        {
          "output_type": "stream",
          "name": "stdout",
          "text": [
            "Looking in indexes: https://pypi.org/simple, https://us-python.pkg.dev/colab-wheels/public/simple/\n",
            "Collecting tensorflow-addons\n",
            "  Downloading tensorflow_addons-0.17.1-cp37-cp37m-manylinux_2_17_x86_64.manylinux2014_x86_64.whl (1.1 MB)\n",
            "\u001b[K     |████████████████████████████████| 1.1 MB 4.1 MB/s \n",
            "\u001b[?25hRequirement already satisfied: typeguard>=2.7 in /usr/local/lib/python3.7/dist-packages (from tensorflow-addons) (2.7.1)\n",
            "Requirement already satisfied: packaging in /usr/local/lib/python3.7/dist-packages (from tensorflow-addons) (21.3)\n",
            "Requirement already satisfied: pyparsing!=3.0.5,>=2.0.2 in /usr/local/lib/python3.7/dist-packages (from packaging->tensorflow-addons) (3.0.9)\n",
            "Installing collected packages: tensorflow-addons\n",
            "Successfully installed tensorflow-addons-0.17.1\n"
          ]
        }
      ]
    },
    {
      "cell_type": "code",
      "source": [
        "import gc \n",
        "\n",
        "import numpy as np\n",
        "import pandas as pd\n",
        "from sklearn.preprocessing import OrdinalEncoder\n",
        "from sklearn.model_selection import train_test_split\n",
        "from sklearn.linear_model import SGDClassifier\n",
        "from sklearn.metrics import confusion_matrix\n",
        "from sklearn.metrics import f1_score\n",
        "\n",
        "import tensorflow as tf\n",
        "from keras.layers import GRU, Dense\n",
        "import tensorflow_addons as tfa\n",
        "from sklearn.metrics import classification_report"
      ],
      "metadata": {
        "id": "nx_k17C4dJpj"
      },
      "execution_count": null,
      "outputs": []
    },
    {
      "cell_type": "code",
      "source": [
        "cat_cols = ['D_63', 'D_64','B_30', 'B_38', 'D_114', 'D_116', 'D_117', 'D_120', 'D_126', 'D_66', 'D_68']\n",
        "TRAIN_LABELS_PATH = '/content/train_labels.csv'"
      ],
      "metadata": {
        "id": "IdDL1GU3gPxH"
      },
      "execution_count": null,
      "outputs": []
    },
    {
      "cell_type": "code",
      "source": [
        "!unzip -o /content/drive/MyDrive/amex-default-prediction/data/amex-default-prediction.zip \\\n",
        " train_labels.csv"
      ],
      "metadata": {
        "colab": {
          "base_uri": "https://localhost:8080/"
        },
        "id": "tOb-N7dCiaDi",
        "outputId": "36e78e91-d4b1-46ef-ecc8-b54777a76121"
      },
      "execution_count": null,
      "outputs": [
        {
          "output_type": "stream",
          "name": "stdout",
          "text": [
            "Archive:  /content/drive/MyDrive/amex-default-prediction/data/amex-default-prediction.zip\n",
            "  inflating: train_labels.csv        \n"
          ]
        }
      ]
    },
    {
      "cell_type": "code",
      "source": [
        "train_labels = pd.read_csv(TRAIN_LABELS_PATH)"
      ],
      "metadata": {
        "id": "0cIgqjH2hMML"
      },
      "execution_count": null,
      "outputs": []
    },
    {
      "cell_type": "code",
      "source": [
        "train_labels.shape"
      ],
      "metadata": {
        "colab": {
          "base_uri": "https://localhost:8080/"
        },
        "id": "P9BzLmxkCEtg",
        "outputId": "914828f0-f654-4a25-aa38-4a8df8165aaf"
      },
      "execution_count": null,
      "outputs": [
        {
          "output_type": "execute_result",
          "data": {
            "text/plain": [
              "(458913, 2)"
            ]
          },
          "metadata": {},
          "execution_count": 7
        }
      ]
    },
    {
      "cell_type": "code",
      "source": [
        "def append_label(source_df):\n",
        "  return pd.merge(left=source_df, right=train_labels, how='inner')"
      ],
      "metadata": {
        "id": "eAEoVByIgU-W"
      },
      "execution_count": null,
      "outputs": []
    },
    {
      "cell_type": "code",
      "source": [
        "def my_generator():\n",
        "    for f in files:      \n",
        "      X = pd.DataFrame()\n",
        "      Y = pd.DataFrame()\n",
        "      df_tmp = pd.read_parquet('/content/drive/MyDrive/amex-default-prediction/data/customer_train/' + f)\n",
        "      df_tmp = append_label(df_tmp)\n",
        "      enc = OrdinalEncoder(handle_unknown='use_encoded_value', unknown_value=-1)\n",
        "      df_tmp[['D_63', 'D_64']]=enc.fit(df_tmp[['D_63', 'D_64']])\n",
        "\n",
        "      df_tmp[['D_63', 'D_64']]=enc.transform(df_tmp[['D_63', 'D_64']])\n",
        "      df_tmp.fillna(0, inplace=True)\n",
        "\n",
        "      X= X.append(df_tmp.loc[:, ~df_tmp.columns.isin(['target'])])\n",
        "      X = X[X.groupby('customer_ID')['customer_ID'].transform('count') == 13]\n",
        "      X_Cust = pd.DataFrame(X['customer_ID'].unique(), columns=['customer_ID'])\n",
        "      Y = pd.merge(left=X_Cust, right=train_labels, how='inner')\n",
        "      X.drop(axis=1, columns=['customer_ID', 'S_2'], inplace=True)\n",
        "      X = X.values.reshape(X_Cust.shape[0], 13, 188)\n",
        "      Y.drop(axis=1, columns='customer_ID', inplace=True)\n",
        "      print(f'X shape = {X.shape}')\n",
        "      yield X, Y.to_numpy()\n",
        "      \n",
        "\n",
        "\n"
      ],
      "metadata": {
        "id": "Ivmf5DcQc6tP"
      },
      "execution_count": null,
      "outputs": []
    },
    {
      "cell_type": "code",
      "source": [
        "def my_input_fn(epochs):\n",
        "    dataset = tf.data.Dataset.from_generator(lambda: my_generator(),\n",
        "                                             output_types=(tf.float64, tf.int64),\n",
        "                                            output_shapes=(tf.TensorShape([None, 13, 188]), tf.TensorShape([None, 1])))\n",
        "\n",
        "    dataset = dataset.repeat(epochs)\n",
        "    # dataset = dataset.batch(32)\n",
        "    return dataset\n"
      ],
      "metadata": {
        "id": "PFq3dCPWXIGR"
      },
      "execution_count": null,
      "outputs": []
    },
    {
      "cell_type": "code",
      "source": [
        "f1_metric = tfa.metrics.F1Score(num_classes=1, threshold=0.5)\n",
        "\n",
        "model = tf.keras.Sequential()\n",
        "model.add(tf.keras.Input(shape=(13, 188)))\n",
        "model.add(GRU(64, dropout=0.1, recurrent_dropout=0.5))\n",
        "model.add(Dense(6, activation='sigmoid'))\n",
        "model.add(Dense(1, activation='sigmoid'))\n",
        "model.compile(optimizer='adam', loss='binary_crossentropy', metrics=['accuracy', f1_metric])\n",
        "\n"
      ],
      "metadata": {
        "id": "Hd3XRKU7XQPk"
      },
      "execution_count": null,
      "outputs": []
    },
    {
      "cell_type": "code",
      "source": [
        "model.summary()"
      ],
      "metadata": {
        "colab": {
          "base_uri": "https://localhost:8080/"
        },
        "id": "Zszg5O4VpRUT",
        "outputId": "6e00230d-f11b-43c4-dcfd-4ee034a02e8b"
      },
      "execution_count": null,
      "outputs": [
        {
          "output_type": "stream",
          "name": "stdout",
          "text": [
            "Model: \"sequential\"\n",
            "_________________________________________________________________\n",
            " Layer (type)                Output Shape              Param #   \n",
            "=================================================================\n",
            " gru (GRU)                   (None, 64)                48768     \n",
            "                                                                 \n",
            " dense (Dense)               (None, 6)                 390       \n",
            "                                                                 \n",
            " dense_1 (Dense)             (None, 1)                 7         \n",
            "                                                                 \n",
            "=================================================================\n",
            "Total params: 49,165\n",
            "Trainable params: 49,165\n",
            "Non-trainable params: 0\n",
            "_________________________________________________________________\n"
          ]
        }
      ]
    },
    {
      "cell_type": "code",
      "source": [
        "epochs = 5\n",
        "dataset = my_input_fn(epochs)\n",
        "model.fit(dataset, epochs=epochs)\n"
      ],
      "metadata": {
        "colab": {
          "base_uri": "https://localhost:8080/"
        },
        "id": "HyQTIKlmpP0l",
        "outputId": "c656fa4d-9468-408d-c41b-d93af68f4658"
      },
      "execution_count": null,
      "outputs": [
        {
          "output_type": "stream",
          "name": "stdout",
          "text": [
            "Epoch 1/5\n",
            "X shape = (7508, 13, 188)\n",
            "      1/Unknown - 11s 11s/step - loss: 0.7077 - accuracy: 0.4201 - f1_score: 0.3268X shape = (41994, 13, 188)\n",
            "      2/Unknown - 32s 21s/step - loss: 0.6708 - accuracy: 0.6592 - f1_score: 0.3136X shape = (42089, 13, 188)\n",
            "      3/Unknown - 50s 19s/step - loss: 0.6512 - accuracy: 0.7123 - f1_score: 0.2749X shape = (41911, 13, 188)\n",
            "      4/Unknown - 71s 20s/step - loss: 0.6342 - accuracy: 0.7328 - f1_score: 0.2382X shape = (42029, 13, 188)\n",
            "      5/Unknown - 93s 20s/step - loss: 0.6197 - accuracy: 0.7428 - f1_score: 0.2103X shape = (42098, 13, 188)\n",
            "      6/Unknown - 112s 20s/step - loss: 0.6064 - accuracy: 0.7495 - f1_score: 0.1904X shape = (42038, 13, 188)\n",
            "      7/Unknown - 130s 20s/step - loss: 0.5949 - accuracy: 0.7539 - f1_score: 0.1750X shape = (42037, 13, 188)\n",
            "      8/Unknown - 147s 19s/step - loss: 0.5847 - accuracy: 0.7572 - f1_score: 0.1635X shape = (7508, 13, 188)\n",
            "      9/Unknown - 150s 17s/step - loss: 0.5830 - accuracy: 0.7577 - f1_score: 0.1617X shape = (41994, 13, 188)\n",
            "     10/Unknown - 164s 17s/step - loss: 0.5735 - accuracy: 0.7600 - f1_score: 0.1541X shape = (42089, 13, 188)\n",
            "     11/Unknown - 176s 16s/step - loss: 0.5653 - accuracy: 0.7619 - f1_score: 0.1490X shape = (41911, 13, 188)\n",
            "     12/Unknown - 189s 16s/step - loss: 0.5579 - accuracy: 0.7637 - f1_score: 0.1460X shape = (42029, 13, 188)\n",
            "     13/Unknown - 202s 16s/step - loss: 0.5513 - accuracy: 0.7653 - f1_score: 0.1451X shape = (42098, 13, 188)\n",
            "     14/Unknown - 216s 16s/step - loss: 0.5449 - accuracy: 0.7672 - f1_score: 0.1461X shape = (42038, 13, 188)\n",
            "     15/Unknown - 228s 15s/step - loss: 0.5391 - accuracy: 0.7690 - f1_score: 0.1485X shape = (42037, 13, 188)\n",
            "     16/Unknown - 240s 15s/step - loss: 0.5335 - accuracy: 0.7709 - f1_score: 0.1534X shape = (7508, 13, 188)\n",
            "     17/Unknown - 243s 15s/step - loss: 0.5325 - accuracy: 0.7712 - f1_score: 0.1543X shape = (41994, 13, 188)\n",
            "     18/Unknown - 256s 14s/step - loss: 0.5272 - accuracy: 0.7733 - f1_score: 0.1629X shape = (42089, 13, 188)\n",
            "     19/Unknown - 268s 14s/step - loss: 0.5221 - accuracy: 0.7756 - f1_score: 0.1739X shape = (41911, 13, 188)\n",
            "     20/Unknown - 280s 14s/step - loss: 0.5172 - accuracy: 0.7780 - f1_score: 0.1865X shape = (42029, 13, 188)\n",
            "     21/Unknown - 293s 14s/step - loss: 0.5126 - accuracy: 0.7807 - f1_score: 0.2016X shape = (42098, 13, 188)\n",
            "     22/Unknown - 305s 14s/step - loss: 0.5080 - accuracy: 0.7836 - f1_score: 0.2182X shape = (42038, 13, 188)\n",
            "     23/Unknown - 319s 14s/step - loss: 0.5036 - accuracy: 0.7868 - f1_score: 0.2374X shape = (42037, 13, 188)\n",
            "     24/Unknown - 332s 14s/step - loss: 0.4993 - accuracy: 0.7902 - f1_score: 0.2584X shape = (7508, 13, 188)\n",
            "     25/Unknown - 335s 13s/step - loss: 0.4985 - accuracy: 0.7907 - f1_score: 0.2621X shape = (41994, 13, 188)\n",
            "     26/Unknown - 348s 13s/step - loss: 0.4944 - accuracy: 0.7941 - f1_score: 0.2855X shape = (42089, 13, 188)\n",
            "     27/Unknown - 361s 13s/step - loss: 0.4903 - accuracy: 0.7975 - f1_score: 0.3090X shape = (41911, 13, 188)\n",
            "     28/Unknown - 373s 13s/step - loss: 0.4864 - accuracy: 0.8007 - f1_score: 0.3313X shape = (42029, 13, 188)\n",
            "     29/Unknown - 386s 13s/step - loss: 0.4827 - accuracy: 0.8038 - f1_score: 0.3528X shape = (42098, 13, 188)\n",
            "     30/Unknown - 398s 13s/step - loss: 0.4790 - accuracy: 0.8067 - f1_score: 0.3728X shape = (42038, 13, 188)\n",
            "     31/Unknown - 411s 13s/step - loss: 0.4754 - accuracy: 0.8095 - f1_score: 0.3916X shape = (42037, 13, 188)\n",
            "     32/Unknown - 424s 13s/step - loss: 0.4719 - accuracy: 0.8122 - f1_score: 0.4092X shape = (7508, 13, 188)\n",
            "     33/Unknown - 426s 13s/step - loss: 0.4713 - accuracy: 0.8126 - f1_score: 0.4121X shape = (41994, 13, 188)\n",
            "     34/Unknown - 439s 13s/step - loss: 0.4680 - accuracy: 0.8149 - f1_score: 0.4280X shape = (42089, 13, 188)\n",
            "     35/Unknown - 451s 13s/step - loss: 0.4649 - accuracy: 0.8171 - f1_score: 0.4431X shape = (41911, 13, 188)\n",
            "     36/Unknown - 465s 13s/step - loss: 0.4618 - accuracy: 0.8192 - f1_score: 0.4565X shape = (42029, 13, 188)\n",
            "     37/Unknown - 477s 13s/step - loss: 0.4589 - accuracy: 0.8211 - f1_score: 0.4690X shape = (42098, 13, 188)\n",
            "     38/Unknown - 490s 13s/step - loss: 0.4560 - accuracy: 0.8230 - f1_score: 0.4803X shape = (42038, 13, 188)\n",
            "     39/Unknown - 503s 13s/step - loss: 0.4532 - accuracy: 0.8248 - f1_score: 0.4908X shape = (42037, 13, 188)\n",
            "40/40 [==============================] - 516s 13s/step - loss: 0.4505 - accuracy: 0.8266 - f1_score: 0.5005\n",
            "Epoch 2/5\n",
            "X shape = (7508, 13, 188)\n",
            " 1/40 [..............................] - ETA: 1:43 - loss: 0.3583 - accuracy: 0.8819 - f1_score: 0.7380X shape = (41994, 13, 188)\n",
            " 2/40 [>.............................] - ETA: 8:02 - loss: 0.3583 - accuracy: 0.8831 - f1_score: 0.7453X shape = (42089, 13, 188)\n",
            " 3/40 [=>............................] - ETA: 7:45 - loss: 0.3574 - accuracy: 0.8835 - f1_score: 0.7467X shape = (41911, 13, 188)\n",
            " 4/40 [==>...........................] - ETA: 7:36 - loss: 0.3564 - accuracy: 0.8835 - f1_score: 0.7461X shape = (42029, 13, 188)\n",
            " 5/40 [==>...........................] - ETA: 7:32 - loss: 0.3560 - accuracy: 0.8838 - f1_score: 0.7468X shape = (42098, 13, 188)\n",
            " 6/40 [===>..........................] - ETA: 7:23 - loss: 0.3549 - accuracy: 0.8845 - f1_score: 0.7473X shape = (42038, 13, 188)\n",
            " 7/40 [====>.........................] - ETA: 7:08 - loss: 0.3540 - accuracy: 0.8849 - f1_score: 0.7480X shape = (42037, 13, 188)\n",
            " 8/40 [=====>........................] - ETA: 7:07 - loss: 0.3529 - accuracy: 0.8855 - f1_score: 0.7491X shape = (7508, 13, 188)\n",
            " 9/40 [=====>........................] - ETA: 6:26 - loss: 0.3528 - accuracy: 0.8854 - f1_score: 0.7488X shape = (41994, 13, 188)\n",
            "10/40 [======>.......................] - ETA: 6:38 - loss: 0.3524 - accuracy: 0.8856 - f1_score: 0.7493X shape = (42089, 13, 188)\n",
            "11/40 [=======>......................] - ETA: 6:28 - loss: 0.3519 - accuracy: 0.8856 - f1_score: 0.7500X shape = (41911, 13, 188)\n",
            "12/40 [========>.....................] - ETA: 6:14 - loss: 0.3513 - accuracy: 0.8858 - f1_score: 0.7507X shape = (42029, 13, 188)\n",
            "13/40 [========>.....................] - ETA: 6:02 - loss: 0.3509 - accuracy: 0.8859 - f1_score: 0.7514X shape = (42098, 13, 188)\n",
            "14/40 [=========>....................] - ETA: 5:49 - loss: 0.3502 - accuracy: 0.8862 - f1_score: 0.7521X shape = (42038, 13, 188)\n",
            "15/40 [==========>...................] - ETA: 5:35 - loss: 0.3495 - accuracy: 0.8866 - f1_score: 0.7530X shape = (42037, 13, 188)\n",
            "16/40 [===========>..................] - ETA: 5:21 - loss: 0.3487 - accuracy: 0.8869 - f1_score: 0.7540X shape = (7508, 13, 188)\n",
            "17/40 [===========>..................] - ETA: 4:53 - loss: 0.3486 - accuracy: 0.8870 - f1_score: 0.7541X shape = (41994, 13, 188)\n",
            "18/40 [============>.................] - ETA: 4:40 - loss: 0.3482 - accuracy: 0.8871 - f1_score: 0.7547X shape = (42089, 13, 188)\n",
            "19/40 [=============>................] - ETA: 4:27 - loss: 0.3476 - accuracy: 0.8873 - f1_score: 0.7555X shape = (41911, 13, 188)\n",
            "20/40 [==============>...............] - ETA: 4:15 - loss: 0.3470 - accuracy: 0.8876 - f1_score: 0.7561X shape = (42029, 13, 188)\n",
            "21/40 [==============>...............] - ETA: 4:02 - loss: 0.3466 - accuracy: 0.8877 - f1_score: 0.7566X shape = (42098, 13, 188)\n",
            "22/40 [===============>..............] - ETA: 3:49 - loss: 0.3460 - accuracy: 0.8880 - f1_score: 0.7571X shape = (42038, 13, 188)\n",
            "23/40 [================>.............] - ETA: 3:36 - loss: 0.3453 - accuracy: 0.8883 - f1_score: 0.7578X shape = (42037, 13, 188)\n",
            "24/40 [=================>............] - ETA: 3:23 - loss: 0.3446 - accuracy: 0.8887 - f1_score: 0.7585X shape = (7508, 13, 188)\n",
            "25/40 [=================>............] - ETA: 3:04 - loss: 0.3445 - accuracy: 0.8887 - f1_score: 0.7586X shape = (41994, 13, 188)\n",
            "26/40 [==================>...........] - ETA: 2:52 - loss: 0.3441 - accuracy: 0.8889 - f1_score: 0.7590X shape = (42089, 13, 188)\n",
            "27/40 [===================>..........] - ETA: 2:40 - loss: 0.3436 - accuracy: 0.8891 - f1_score: 0.7595X shape = (41911, 13, 188)\n",
            "28/40 [====================>.........] - ETA: 2:28 - loss: 0.3431 - accuracy: 0.8893 - f1_score: 0.7600X shape = (42029, 13, 188)\n",
            "29/40 [====================>.........] - ETA: 2:16 - loss: 0.3427 - accuracy: 0.8895 - f1_score: 0.7603X shape = (42098, 13, 188)\n",
            "30/40 [=====================>........] - ETA: 2:03 - loss: 0.3421 - accuracy: 0.8897 - f1_score: 0.7607X shape = (42038, 13, 188)\n",
            "31/40 [======================>.......] - ETA: 1:51 - loss: 0.3416 - accuracy: 0.8899 - f1_score: 0.7612X shape = (42037, 13, 188)\n",
            "32/40 [=======================>......] - ETA: 1:39 - loss: 0.3410 - accuracy: 0.8902 - f1_score: 0.7617X shape = (7508, 13, 188)\n",
            "33/40 [=======================>......] - ETA: 1:24 - loss: 0.3409 - accuracy: 0.8902 - f1_score: 0.7618X shape = (41994, 13, 188)\n",
            "34/40 [========================>.....] - ETA: 1:12 - loss: 0.3405 - accuracy: 0.8904 - f1_score: 0.7621X shape = (42089, 13, 188)\n",
            "35/40 [=========================>....] - ETA: 1:00 - loss: 0.3401 - accuracy: 0.8906 - f1_score: 0.7626X shape = (41911, 13, 188)\n",
            "36/40 [==========================>...] - ETA: 48s - loss: 0.3396 - accuracy: 0.8908 - f1_score: 0.7631 X shape = (42029, 13, 188)\n",
            "37/40 [==========================>...] - ETA: 36s - loss: 0.3392 - accuracy: 0.8909 - f1_score: 0.7634X shape = (42098, 13, 188)\n",
            "38/40 [===========================>..] - ETA: 24s - loss: 0.3387 - accuracy: 0.8911 - f1_score: 0.7638X shape = (42038, 13, 188)\n",
            "39/40 [============================>.] - ETA: 12s - loss: 0.3382 - accuracy: 0.8913 - f1_score: 0.7643X shape = (42037, 13, 188)\n",
            "40/40 [==============================] - 478s 12s/step - loss: 0.3377 - accuracy: 0.8915 - f1_score: 0.7648\n",
            "Epoch 3/5\n",
            "X shape = (7508, 13, 188)\n",
            " 1/40 [..............................] - ETA: 1:45 - loss: 0.3201 - accuracy: 0.8973 - f1_score: 0.7736X shape = (41994, 13, 188)\n",
            " 2/40 [>.............................] - ETA: 8:03 - loss: 0.3237 - accuracy: 0.8954 - f1_score: 0.7730X shape = (42089, 13, 188)\n",
            " 3/40 [=>............................] - ETA: 7:48 - loss: 0.3234 - accuracy: 0.8958 - f1_score: 0.7753X shape = (41911, 13, 188)\n",
            " 4/40 [==>...........................] - ETA: 7:36 - loss: 0.3223 - accuracy: 0.8966 - f1_score: 0.7767X shape = (42029, 13, 188)\n",
            " 5/40 [==>...........................] - ETA: 7:25 - loss: 0.3222 - accuracy: 0.8967 - f1_score: 0.7771X shape = (42098, 13, 188)\n",
            " 6/40 [===>..........................] - ETA: 7:14 - loss: 0.3213 - accuracy: 0.8971 - f1_score: 0.7773X shape = (42038, 13, 188)\n",
            " 7/40 [====>.........................] - ETA: 7:02 - loss: 0.3205 - accuracy: 0.8976 - f1_score: 0.7781X shape = (42037, 13, 188)\n",
            " 8/40 [=====>........................] - ETA: 6:51 - loss: 0.3197 - accuracy: 0.8981 - f1_score: 0.7791X shape = (7508, 13, 188)\n",
            " 9/40 [=====>........................] - ETA: 5:59 - loss: 0.3195 - accuracy: 0.8981 - f1_score: 0.7792X shape = (41994, 13, 188)\n",
            "10/40 [======>.......................] - ETA: 5:57 - loss: 0.3195 - accuracy: 0.8979 - f1_score: 0.7789X shape = (42089, 13, 188)\n",
            "11/40 [=======>......................] - ETA: 5:56 - loss: 0.3193 - accuracy: 0.8980 - f1_score: 0.7794X shape = (41911, 13, 188)\n",
            "12/40 [========>.....................] - ETA: 5:55 - loss: 0.3190 - accuracy: 0.8981 - f1_score: 0.7798X shape = (42029, 13, 188)\n",
            "13/40 [========>.....................] - ETA: 5:49 - loss: 0.3188 - accuracy: 0.8981 - f1_score: 0.7800X shape = (42098, 13, 188)\n",
            "14/40 [=========>....................] - ETA: 5:37 - loss: 0.3184 - accuracy: 0.8982 - f1_score: 0.7800X shape = (42038, 13, 188)\n",
            "15/40 [==========>...................] - ETA: 5:26 - loss: 0.3180 - accuracy: 0.8984 - f1_score: 0.7804X shape = (42037, 13, 188)\n",
            "16/40 [===========>..................] - ETA: 5:17 - loss: 0.3175 - accuracy: 0.8986 - f1_score: 0.7808X shape = (7508, 13, 188)\n",
            "17/40 [===========>..................] - ETA: 4:49 - loss: 0.3174 - accuracy: 0.8986 - f1_score: 0.7809X shape = (41994, 13, 188)\n",
            "18/40 [============>.................] - ETA: 4:55 - loss: 0.3173 - accuracy: 0.8984 - f1_score: 0.7806X shape = (42089, 13, 188)\n",
            "19/40 [=============>................] - ETA: 4:46 - loss: 0.3171 - accuracy: 0.8985 - f1_score: 0.7809X shape = (41911, 13, 188)\n",
            "20/40 [==============>...............] - ETA: 4:33 - loss: 0.3168 - accuracy: 0.8986 - f1_score: 0.7812X shape = (42029, 13, 188)\n",
            "21/40 [==============>...............] - ETA: 4:20 - loss: 0.3166 - accuracy: 0.8986 - f1_score: 0.7812X shape = (42098, 13, 188)\n",
            "22/40 [===============>..............] - ETA: 4:06 - loss: 0.3163 - accuracy: 0.8987 - f1_score: 0.7813X shape = (42038, 13, 188)\n",
            "23/40 [================>.............] - ETA: 3:53 - loss: 0.3159 - accuracy: 0.8988 - f1_score: 0.7815X shape = (42037, 13, 188)\n",
            "24/40 [=================>............] - ETA: 3:39 - loss: 0.3155 - accuracy: 0.8989 - f1_score: 0.7818X shape = (7508, 13, 188)\n",
            "25/40 [=================>............] - ETA: 3:19 - loss: 0.3154 - accuracy: 0.8989 - f1_score: 0.7818X shape = (41994, 13, 188)\n",
            "26/40 [==================>...........] - ETA: 3:06 - loss: 0.3153 - accuracy: 0.8989 - f1_score: 0.7817X shape = (42089, 13, 188)\n",
            "27/40 [===================>..........] - ETA: 2:53 - loss: 0.3150 - accuracy: 0.8989 - f1_score: 0.7819X shape = (41911, 13, 188)\n",
            "28/40 [====================>.........] - ETA: 2:39 - loss: 0.3147 - accuracy: 0.8990 - f1_score: 0.7821X shape = (42029, 13, 188)\n",
            "29/40 [====================>.........] - ETA: 2:26 - loss: 0.3145 - accuracy: 0.8990 - f1_score: 0.7822X shape = (42098, 13, 188)\n",
            "30/40 [=====================>........] - ETA: 2:12 - loss: 0.3142 - accuracy: 0.8990 - f1_score: 0.7823X shape = (42038, 13, 188)\n",
            "31/40 [======================>.......] - ETA: 1:59 - loss: 0.3139 - accuracy: 0.8991 - f1_score: 0.7825X shape = (42037, 13, 188)\n",
            "32/40 [=======================>......] - ETA: 1:47 - loss: 0.3135 - accuracy: 0.8993 - f1_score: 0.7828X shape = (7508, 13, 188)\n",
            "33/40 [=======================>......] - ETA: 1:31 - loss: 0.3135 - accuracy: 0.8993 - f1_score: 0.7829X shape = (41994, 13, 188)\n",
            "34/40 [========================>.....] - ETA: 1:18 - loss: 0.3133 - accuracy: 0.8993 - f1_score: 0.7828X shape = (42089, 13, 188)\n",
            "35/40 [=========================>....] - ETA: 1:06 - loss: 0.3131 - accuracy: 0.8993 - f1_score: 0.7830X shape = (41911, 13, 188)\n",
            "36/40 [==========================>...] - ETA: 53s - loss: 0.3128 - accuracy: 0.8994 - f1_score: 0.7831 X shape = (42029, 13, 188)\n",
            "37/40 [==========================>...] - ETA: 39s - loss: 0.3126 - accuracy: 0.8994 - f1_score: 0.7832X shape = (42098, 13, 188)\n",
            "38/40 [===========================>..] - ETA: 26s - loss: 0.3124 - accuracy: 0.8994 - f1_score: 0.7832X shape = (42038, 13, 188)\n",
            "39/40 [============================>.] - ETA: 13s - loss: 0.3120 - accuracy: 0.8995 - f1_score: 0.7834X shape = (42037, 13, 188)\n",
            "40/40 [==============================] - 522s 13s/step - loss: 0.3117 - accuracy: 0.8996 - f1_score: 0.7836\n",
            "Epoch 4/5\n",
            "X shape = (7508, 13, 188)\n",
            " 1/40 [..............................] - ETA: 1:48 - loss: 0.2975 - accuracy: 0.9058 - f1_score: 0.7930X shape = (41994, 13, 188)\n",
            " 2/40 [>.............................] - ETA: 8:20 - loss: 0.3035 - accuracy: 0.8999 - f1_score: 0.7845X shape = (42089, 13, 188)\n",
            " 3/40 [=>............................] - ETA: 8:16 - loss: 0.3034 - accuracy: 0.9001 - f1_score: 0.7864X shape = (41911, 13, 188)\n",
            " 4/40 [==>...........................] - ETA: 8:12 - loss: 0.3025 - accuracy: 0.9010 - f1_score: 0.7881X shape = (42029, 13, 188)\n",
            " 5/40 [==>...........................] - ETA: 8:21 - loss: 0.3027 - accuracy: 0.9007 - f1_score: 0.7878X shape = (42098, 13, 188)\n",
            " 6/40 [===>..........................] - ETA: 8:33 - loss: 0.3023 - accuracy: 0.9010 - f1_score: 0.7878X shape = (42038, 13, 188)\n",
            " 7/40 [====>.........................] - ETA: 8:25 - loss: 0.3016 - accuracy: 0.9015 - f1_score: 0.7885X shape = (42037, 13, 188)\n",
            " 8/40 [=====>........................] - ETA: 8:11 - loss: 0.3010 - accuracy: 0.9018 - f1_score: 0.7890X shape = (7508, 13, 188)\n",
            " 9/40 [=====>........................] - ETA: 7:08 - loss: 0.3008 - accuracy: 0.9019 - f1_score: 0.7892X shape = (41994, 13, 188)\n",
            "10/40 [======>.......................] - ETA: 7:02 - loss: 0.3009 - accuracy: 0.9017 - f1_score: 0.7886X shape = (42089, 13, 188)\n",
            "11/40 [=======>......................] - ETA: 6:54 - loss: 0.3009 - accuracy: 0.9016 - f1_score: 0.7886X shape = (41911, 13, 188)\n",
            "12/40 [========>.....................] - ETA: 7:00 - loss: 0.3006 - accuracy: 0.9016 - f1_score: 0.7886X shape = (42029, 13, 188)\n",
            "13/40 [========>.....................] - ETA: 7:06 - loss: 0.3006 - accuracy: 0.9015 - f1_score: 0.7886X shape = (42098, 13, 188)\n",
            "14/40 [=========>....................] - ETA: 7:09 - loss: 0.3003 - accuracy: 0.9016 - f1_score: 0.7887X shape = (42038, 13, 188)\n",
            "15/40 [==========>...................] - ETA: 7:10 - loss: 0.2999 - accuracy: 0.9018 - f1_score: 0.7890X shape = (42037, 13, 188)\n",
            "16/40 [===========>..................] - ETA: 6:56 - loss: 0.2995 - accuracy: 0.9020 - f1_score: 0.7894X shape = (7508, 13, 188)\n",
            "17/40 [===========>..................] - ETA: 6:18 - loss: 0.2995 - accuracy: 0.9020 - f1_score: 0.7894X shape = (41994, 13, 188)\n",
            "18/40 [============>.................] - ETA: 6:05 - loss: 0.2994 - accuracy: 0.9020 - f1_score: 0.7893X shape = (42089, 13, 188)\n",
            "19/40 [=============>................] - ETA: 5:52 - loss: 0.2993 - accuracy: 0.9020 - f1_score: 0.7894X shape = (41911, 13, 188)\n",
            "20/40 [==============>...............] - ETA: 5:34 - loss: 0.2990 - accuracy: 0.9021 - f1_score: 0.7897X shape = (42029, 13, 188)\n",
            "21/40 [==============>...............] - ETA: 5:14 - loss: 0.2989 - accuracy: 0.9020 - f1_score: 0.7896X shape = (42098, 13, 188)\n",
            "22/40 [===============>..............] - ETA: 4:55 - loss: 0.2986 - accuracy: 0.9020 - f1_score: 0.7895X shape = (42038, 13, 188)\n",
            "23/40 [================>.............] - ETA: 4:36 - loss: 0.2983 - accuracy: 0.9022 - f1_score: 0.7898X shape = (42037, 13, 188)\n",
            "24/40 [=================>............] - ETA: 4:18 - loss: 0.2980 - accuracy: 0.9023 - f1_score: 0.7901X shape = (7508, 13, 188)\n",
            "25/40 [=================>............] - ETA: 3:54 - loss: 0.2979 - accuracy: 0.9023 - f1_score: 0.7901X shape = (41994, 13, 188)\n",
            "26/40 [==================>...........] - ETA: 3:37 - loss: 0.2978 - accuracy: 0.9023 - f1_score: 0.7899X shape = (42089, 13, 188)\n",
            "27/40 [===================>..........] - ETA: 3:21 - loss: 0.2977 - accuracy: 0.9022 - f1_score: 0.7900X shape = (41911, 13, 188)\n",
            "28/40 [====================>.........] - ETA: 3:05 - loss: 0.2975 - accuracy: 0.9023 - f1_score: 0.7901X shape = (42029, 13, 188)\n",
            "29/40 [====================>.........] - ETA: 2:49 - loss: 0.2974 - accuracy: 0.9023 - f1_score: 0.7901X shape = (42098, 13, 188)\n",
            "30/40 [=====================>........] - ETA: 2:33 - loss: 0.2972 - accuracy: 0.9023 - f1_score: 0.7901X shape = (42038, 13, 188)\n",
            "31/40 [======================>.......] - ETA: 2:17 - loss: 0.2969 - accuracy: 0.9024 - f1_score: 0.7903X shape = (42037, 13, 188)\n",
            "32/40 [=======================>......] - ETA: 2:01 - loss: 0.2966 - accuracy: 0.9025 - f1_score: 0.7905X shape = (7508, 13, 188)\n",
            "33/40 [=======================>......] - ETA: 1:44 - loss: 0.2965 - accuracy: 0.9025 - f1_score: 0.7905X shape = (41994, 13, 188)\n",
            "34/40 [========================>.....] - ETA: 1:28 - loss: 0.2964 - accuracy: 0.9025 - f1_score: 0.7904X shape = (42089, 13, 188)\n",
            "35/40 [=========================>....] - ETA: 1:13 - loss: 0.2963 - accuracy: 0.9025 - f1_score: 0.7905X shape = (41911, 13, 188)\n",
            "36/40 [==========================>...] - ETA: 58s - loss: 0.2961 - accuracy: 0.9025 - f1_score: 0.7906 X shape = (42029, 13, 188)\n",
            "37/40 [==========================>...] - ETA: 43s - loss: 0.2960 - accuracy: 0.9025 - f1_score: 0.7906X shape = (42098, 13, 188)\n",
            "38/40 [===========================>..] - ETA: 29s - loss: 0.2958 - accuracy: 0.9025 - f1_score: 0.7906X shape = (42038, 13, 188)\n",
            "39/40 [============================>.] - ETA: 14s - loss: 0.2955 - accuracy: 0.9026 - f1_score: 0.7907X shape = (42037, 13, 188)\n",
            "40/40 [==============================] - 567s 14s/step - loss: 0.2953 - accuracy: 0.9026 - f1_score: 0.7908\n",
            "Epoch 5/5\n",
            "X shape = (7508, 13, 188)\n",
            " 1/40 [..............................] - ETA: 1:46 - loss: 0.2840 - accuracy: 0.9066 - f1_score: 0.7945X shape = (41994, 13, 188)\n",
            " 2/40 [>.............................] - ETA: 8:00 - loss: 0.2896 - accuracy: 0.9029 - f1_score: 0.7901X shape = (42089, 13, 188)\n",
            " 3/40 [=>............................] - ETA: 7:44 - loss: 0.2898 - accuracy: 0.9026 - f1_score: 0.7910X shape = (41911, 13, 188)\n",
            " 4/40 [==>...........................] - ETA: 7:32 - loss: 0.2890 - accuracy: 0.9031 - f1_score: 0.7922X shape = (42029, 13, 188)\n",
            " 5/40 [==>...........................] - ETA: 7:20 - loss: 0.2891 - accuracy: 0.9029 - f1_score: 0.7922X shape = (42098, 13, 188)\n",
            " 6/40 [===>..........................] - ETA: 7:08 - loss: 0.2886 - accuracy: 0.9030 - f1_score: 0.7921X shape = (42038, 13, 188)\n",
            " 7/40 [====>.........................] - ETA: 6:56 - loss: 0.2879 - accuracy: 0.9034 - f1_score: 0.7927X shape = (42037, 13, 188)\n",
            " 8/40 [=====>........................] - ETA: 6:43 - loss: 0.2873 - accuracy: 0.9037 - f1_score: 0.7933X shape = (7508, 13, 188)\n",
            " 9/40 [=====>........................] - ETA: 5:52 - loss: 0.2871 - accuracy: 0.9039 - f1_score: 0.7936X shape = (41994, 13, 188)\n",
            "10/40 [======>.......................] - ETA: 5:44 - loss: 0.2873 - accuracy: 0.9036 - f1_score: 0.7929X shape = (42089, 13, 188)\n",
            "11/40 [=======>......................] - ETA: 5:36 - loss: 0.2873 - accuracy: 0.9036 - f1_score: 0.7930X shape = (41911, 13, 188)\n",
            "12/40 [========>.....................] - ETA: 5:28 - loss: 0.2870 - accuracy: 0.9037 - f1_score: 0.7932X shape = (42029, 13, 188)\n",
            "13/40 [========>.....................] - ETA: 5:18 - loss: 0.2870 - accuracy: 0.9036 - f1_score: 0.7932X shape = (42098, 13, 188)\n",
            "14/40 [=========>....................] - ETA: 5:08 - loss: 0.2868 - accuracy: 0.9037 - f1_score: 0.7931X shape = (42038, 13, 188)\n",
            "15/40 [==========>...................] - ETA: 4:57 - loss: 0.2864 - accuracy: 0.9039 - f1_score: 0.7935X shape = (42037, 13, 188)\n",
            "16/40 [===========>..................] - ETA: 4:47 - loss: 0.2860 - accuracy: 0.9040 - f1_score: 0.7937X shape = (7508, 13, 188)\n",
            "17/40 [===========>..................] - ETA: 4:21 - loss: 0.2860 - accuracy: 0.9041 - f1_score: 0.7939X shape = (41994, 13, 188)\n",
            "18/40 [============>.................] - ETA: 4:12 - loss: 0.2859 - accuracy: 0.9040 - f1_score: 0.7937X shape = (42089, 13, 188)\n",
            "19/40 [=============>................] - ETA: 4:02 - loss: 0.2859 - accuracy: 0.9039 - f1_score: 0.7937X shape = (41911, 13, 188)\n",
            "20/40 [==============>...............] - ETA: 3:52 - loss: 0.2857 - accuracy: 0.9040 - f1_score: 0.7939X shape = (42029, 13, 188)\n",
            "21/40 [==============>...............] - ETA: 3:41 - loss: 0.2856 - accuracy: 0.9040 - f1_score: 0.7939X shape = (42098, 13, 188)\n",
            "22/40 [===============>..............] - ETA: 3:30 - loss: 0.2855 - accuracy: 0.9040 - f1_score: 0.7938X shape = (42038, 13, 188)\n",
            "23/40 [================>.............] - ETA: 3:19 - loss: 0.2852 - accuracy: 0.9041 - f1_score: 0.7941X shape = (42037, 13, 188)\n",
            "24/40 [=================>............] - ETA: 3:08 - loss: 0.2849 - accuracy: 0.9042 - f1_score: 0.7943X shape = (7508, 13, 188)\n",
            "25/40 [=================>............] - ETA: 2:51 - loss: 0.2848 - accuracy: 0.9043 - f1_score: 0.7944X shape = (41994, 13, 188)\n",
            "26/40 [==================>...........] - ETA: 2:49 - loss: 0.2847 - accuracy: 0.9043 - f1_score: 0.7944X shape = (42089, 13, 188)\n",
            "27/40 [===================>..........] - ETA: 2:38 - loss: 0.2846 - accuracy: 0.9043 - f1_score: 0.7944X shape = (41911, 13, 188)\n",
            "28/40 [====================>.........] - ETA: 2:26 - loss: 0.2844 - accuracy: 0.9043 - f1_score: 0.7946X shape = (42029, 13, 188)\n",
            "29/40 [====================>.........] - ETA: 2:14 - loss: 0.2844 - accuracy: 0.9043 - f1_score: 0.7946X shape = (42098, 13, 188)\n",
            "30/40 [=====================>........] - ETA: 2:02 - loss: 0.2842 - accuracy: 0.9043 - f1_score: 0.7946X shape = (42038, 13, 188)\n",
            "31/40 [======================>.......] - ETA: 1:50 - loss: 0.2839 - accuracy: 0.9044 - f1_score: 0.7948X shape = (42037, 13, 188)\n",
            "32/40 [=======================>......] - ETA: 1:38 - loss: 0.2837 - accuracy: 0.9045 - f1_score: 0.7949X shape = (7508, 13, 188)\n",
            "33/40 [=======================>......] - ETA: 1:23 - loss: 0.2836 - accuracy: 0.9046 - f1_score: 0.7950X shape = (41994, 13, 188)\n",
            "34/40 [========================>.....] - ETA: 1:12 - loss: 0.2835 - accuracy: 0.9045 - f1_score: 0.7949X shape = (42089, 13, 188)\n",
            "35/40 [=========================>....] - ETA: 1:00 - loss: 0.2834 - accuracy: 0.9045 - f1_score: 0.7949X shape = (41911, 13, 188)\n",
            "36/40 [==========================>...] - ETA: 48s - loss: 0.2833 - accuracy: 0.9045 - f1_score: 0.7950 X shape = (42029, 13, 188)\n",
            "37/40 [==========================>...] - ETA: 36s - loss: 0.2832 - accuracy: 0.9045 - f1_score: 0.7950X shape = (42098, 13, 188)\n",
            "38/40 [===========================>..] - ETA: 24s - loss: 0.2830 - accuracy: 0.9045 - f1_score: 0.7951X shape = (42038, 13, 188)\n",
            "39/40 [============================>.] - ETA: 12s - loss: 0.2828 - accuracy: 0.9046 - f1_score: 0.7951X shape = (42037, 13, 188)\n",
            "40/40 [==============================] - 475s 12s/step - loss: 0.2826 - accuracy: 0.9047 - f1_score: 0.7953\n"
          ]
        },
        {
          "output_type": "execute_result",
          "data": {
            "text/plain": [
              "<keras.callbacks.History at 0x7fbc786928d0>"
            ]
          },
          "metadata": {},
          "execution_count": 13
        }
      ]
    },
    {
      "cell_type": "code",
      "source": [
        "from keras.utils.vis_utils import plot_model\n",
        "\n",
        "plot_model(model, to_file=\"/tmp/model.png\", show_shapes=True)"
      ],
      "metadata": {
        "colab": {
          "base_uri": "https://localhost:8080/",
          "height": 422
        },
        "id": "toFTrK-S6QTH",
        "outputId": "11fd1953-0d0b-4760-e9b1-5da4aa70f7a7"
      },
      "execution_count": null,
      "outputs": [
        {
          "output_type": "execute_result",
          "data": {
            "image/png": "[encoded data removed]",
            "text/plain": [
              "<IPython.core.display.Image object>"
            ]
          },
          "metadata": {},
          "execution_count": 14
        }
      ]
    },
    {
      "cell_type": "code",
      "source": [
        "val_files = listdir('/content/drive/MyDrive/amex-default-prediction/data/customer_val/')"
      ],
      "metadata": {
        "id": "ld4z-43avLyZ"
      },
      "execution_count": null,
      "outputs": []
    },
    {
      "cell_type": "code",
      "source": [
        "def my_val_generator():\n",
        "    for f in val_files:      \n",
        "      X = pd.DataFrame()\n",
        "      Y = pd.DataFrame()\n",
        "      df_tmp = pd.read_parquet('/content/drive/MyDrive/amex-default-prediction/data/customer_val/' + f)\n",
        "      df_tmp = append_label(df_tmp)\n",
        "      enc = OrdinalEncoder(handle_unknown='use_encoded_value', unknown_value=-1)\n",
        "      df_tmp[['D_63', 'D_64']]=enc.fit(df_tmp[['D_63', 'D_64']])\n",
        "\n",
        "      df_tmp[['D_63', 'D_64']]=enc.transform(df_tmp[['D_63', 'D_64']])\n",
        "      df_tmp.fillna(0, inplace=True)\n",
        "\n",
        "      X= X.append(df_tmp.loc[:, ~df_tmp.columns.isin(['target'])])\n",
        "      X = X[X.groupby('customer_ID')['customer_ID'].transform('count') == 13]\n",
        "      X_Cust = pd.DataFrame(X['customer_ID'].unique(), columns=['customer_ID'])\n",
        "      Y = pd.merge(left=X_Cust, right=train_labels, how='inner')\n",
        "      X.drop(axis=1, columns=['customer_ID', 'S_2'], inplace=True)\n",
        "      X = X.values.reshape(X_Cust.shape[0], 13, 188)\n",
        "      Y.drop(axis=1, columns='customer_ID', inplace=True)\n",
        "      print(f'X shape = {X.shape}')\n",
        "      yield X, Y.to_numpy()"
      ],
      "metadata": {
        "id": "fE0DAIxmxX21"
      },
      "execution_count": null,
      "outputs": []
    },
    {
      "cell_type": "code",
      "source": [
        "def my_val_input_fn():\n",
        "    dataset = tf.data.Dataset.from_generator(lambda: my_val_generator(),\n",
        "                                             output_types=(tf.float64, tf.int64),\n",
        "                                            output_shapes=(tf.TensorShape([None, 13, 188]), tf.TensorShape([None, 1])))\n",
        "\n",
        "    # dataset = dataset.repeat(epochs)\n",
        "    # dataset = dataset.batch(32)\n",
        "    return dataset"
      ],
      "metadata": {
        "id": "Dl99Wtsqxeez"
      },
      "execution_count": null,
      "outputs": []
    },
    {
      "cell_type": "code",
      "source": [
        "val_dataset = my_val_input_fn()\n",
        "model.evaluate(val_dataset)"
      ],
      "metadata": {
        "colab": {
          "base_uri": "https://localhost:8080/"
        },
        "id": "ILKHw4zBxqMP",
        "outputId": "53c86240-02d4-43ef-909f-6781f1f5b474"
      },
      "execution_count": null,
      "outputs": [
        {
          "output_type": "stream",
          "name": "stdout",
          "text": [
            "X shape = (42194, 13, 188)\n",
            "1/1 [==============================] - 16s 16s/step - loss: 0.2745 - accuracy: 0.9067 - f1_score: 0.7980\n"
          ]
        },
        {
          "output_type": "execute_result",
          "data": {
            "text/plain": [
              "[0.27451565861701965, 0.9067165851593018, array([0.79800886], dtype=float32)]"
            ]
          },
          "metadata": {},
          "execution_count": 18
        }
      ]
    },
    {
      "cell_type": "code",
      "source": [
        "y_pred = (model.predict(val_dataset) > 0.5).astype(\"int32\")"
      ],
      "metadata": {
        "id": "M8HXFr2AyA6E",
        "colab": {
          "base_uri": "https://localhost:8080/"
        },
        "outputId": "c422c355-c570-483c-e108-3dbbbdd4f0d3"
      },
      "execution_count": null,
      "outputs": [
        {
          "output_type": "stream",
          "name": "stdout",
          "text": [
            "X shape = (42194, 13, 188)\n"
          ]
        }
      ]
    },
    {
      "cell_type": "code",
      "source": [
        "for x, y in val_dataset:\n",
        "  y_test=y"
      ],
      "metadata": {
        "colab": {
          "base_uri": "https://localhost:8080/"
        },
        "id": "sURWV-TKKaRP",
        "outputId": "9e5c7fc7-5148-43c8-f830-f3d73a29ead9"
      },
      "execution_count": null,
      "outputs": [
        {
          "output_type": "stream",
          "name": "stdout",
          "text": [
            "X shape = (42194, 13, 188)\n"
          ]
        }
      ]
    },
    {
      "cell_type": "code",
      "source": [
        "y_test.shape"
      ],
      "metadata": {
        "colab": {
          "base_uri": "https://localhost:8080/"
        },
        "id": "9rQahoOtM4BB",
        "outputId": "b1757548-e382-4688-ef3b-2e7496e30019"
      },
      "execution_count": null,
      "outputs": [
        {
          "output_type": "execute_result",
          "data": {
            "text/plain": [
              "TensorShape([42194, 1])"
            ]
          },
          "metadata": {},
          "execution_count": 21
        }
      ]
    },
    {
      "cell_type": "code",
      "source": [
        "y_pred.shape"
      ],
      "metadata": {
        "id": "M0FuM5thM7Td",
        "outputId": "c0dd639d-2bdb-4205-c418-4fcbd08c94c8",
        "colab": {
          "base_uri": "https://localhost:8080/"
        }
      },
      "execution_count": null,
      "outputs": [
        {
          "output_type": "execute_result",
          "data": {
            "text/plain": [
              "(42194, 1)"
            ]
          },
          "metadata": {},
          "execution_count": 22
        }
      ]
    },
    {
      "cell_type": "code",
      "source": [
        "f1_score(y_test, y_pred)"
      ],
      "metadata": {
        "id": "SEesOLQpdXb6",
        "colab": {
          "base_uri": "https://localhost:8080/"
        },
        "outputId": "eb5b1dc1-9356-4ac1-968c-1f448c6dd800"
      },
      "execution_count": null,
      "outputs": [
        {
          "output_type": "execute_result",
          "data": {
            "text/plain": [
              "0.7980088268500461"
            ]
          },
          "metadata": {},
          "execution_count": 23
        }
      ]
    },
    {
      "cell_type": "code",
      "source": [
        "print(classification_report(y_test, y_pred, digits=4))"
      ],
      "metadata": {
        "colab": {
          "base_uri": "https://localhost:8080/"
        },
        "id": "MaezxedO_5bM",
        "outputId": "33f6b779-2708-4b68-d0d6-ff5db1cc51bc"
      },
      "execution_count": null,
      "outputs": [
        {
          "output_type": "stream",
          "name": "stdout",
          "text": [
            "              precision    recall  f1-score   support\n",
            "\n",
            "           0     0.9399    0.9388    0.9394     32470\n",
            "           1     0.7965    0.7996    0.7980      9724\n",
            "\n",
            "    accuracy                         0.9067     42194\n",
            "   macro avg     0.8682    0.8692    0.8687     42194\n",
            "weighted avg     0.9068    0.9067    0.9068     42194\n",
            "\n"
          ]
        }
      ]
    },
    {
      "cell_type": "code",
      "source": [],
      "metadata": {
        "id": "KQZ4NyUZNBCD"
      },
      "execution_count": null,
      "outputs": []
    }
  ]
}