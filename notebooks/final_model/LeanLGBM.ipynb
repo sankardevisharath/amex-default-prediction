{
  "cells": [
    {
      "cell_type": "markdown",
      "metadata": {
        "id": "view-in-github",
        "colab_type": "text"
      },
      "source": [
        "<a href=\"https://colab.research.google.com/github/sankardevisharath/amex-default-prediction/blob/master/notebooks/final_model/LeanLGBM.ipynb\" target=\"_parent\"><img src=\"https://colab.research.google.com/assets/colab-badge.svg\" alt=\"Open In Colab\"/></a>"
      ]
    },
    {
      "cell_type": "code",
      "execution_count": null,
      "metadata": {
        "id": "nx_k17C4dJpj"
      },
      "outputs": [],
      "source": [
        "import gc \n",
        "\n",
        "import numpy as np\n",
        "import pandas as pd\n",
        "import lightgbm as gbm\n",
        "from sklearn.preprocessing import OrdinalEncoder\n",
        "from sklearn.model_selection import train_test_split\n",
        "from sklearn.metrics import confusion_matrix\n",
        "from sklearn.metrics import f1_score\n",
        "from sklearn.feature_selection import SequentialFeatureSelector, SelectFromModel\n",
        "from sklearn.linear_model import SGDClassifier\n",
        "from sklearn.datasets import make_classification\n",
        "from sklearn.metrics import plot_confusion_matrix\n",
        "from sklearn.metrics import classification_report\n",
        "from imblearn.over_sampling import KMeansSMOTE\n",
        "from sklearn.model_selection import cross_val_score, cross_validate\n",
        "from sklearn.model_selection import GridSearchCV\n",
        "\n",
        "\n",
        "import matplotlib.pyplot as plt\n"
      ]
    },
    {
      "cell_type": "code",
      "execution_count": null,
      "metadata": {
        "id": "AUrNOiSyZ3NT"
      },
      "outputs": [],
      "source": [
        "df = pd.read_parquet(path='/content/drive/MyDrive/amex-default-prediction/data/aggr/customer-agg.parquet')"
      ]
    },
    {
      "cell_type": "code",
      "execution_count": null,
      "metadata": {
        "colab": {
          "base_uri": "https://localhost:8080/"
        },
        "id": "X4fUCrbFaZdc",
        "outputId": "a126223d-b8a5-4c78-fd35-808de1facb46"
      },
      "outputs": [
        {
          "output_type": "stream",
          "name": "stdout",
          "text": [
            "<class 'pandas.core.frame.DataFrame'>\n",
            "Int64Index: 458913 entries, 0 to 458912\n",
            "Columns: 920 entries, customer_ID to target\n",
            "dtypes: float64(891), int64(26), object(3)\n",
            "memory usage: 3.1+ GB\n"
          ]
        }
      ],
      "source": [
        "df.info()"
      ]
    },
    {
      "cell_type": "code",
      "execution_count": null,
      "metadata": {
        "colab": {
          "base_uri": "https://localhost:8080/"
        },
        "id": "PIDBW09DahOq",
        "outputId": "d69a5c9f-1bf0-4065-c374-6ffeebcf2ca7"
      },
      "outputs": [
        {
          "output_type": "execute_result",
          "data": {
            "text/plain": [
              "customer_ID    object\n",
              "D_63_last      object\n",
              "D_64_last      object\n",
              "dtype: object"
            ]
          },
          "metadata": {},
          "execution_count": 4
        }
      ],
      "source": [
        "columns = df.head().dtypes\n",
        "columns[columns==object]\n"
      ]
    },
    {
      "cell_type": "code",
      "execution_count": null,
      "metadata": {
        "id": "IdDL1GU3gPxH"
      },
      "outputs": [],
      "source": [
        "cat_cols = ['D_63', 'D_64','B_30', 'B_38', 'D_114', 'D_116', 'D_117', 'D_120', 'D_126', 'D_66', 'D_68']\n",
        "TRAIN_LABELS_PATH = '/content/train_labels.csv'"
      ]
    },
    {
      "cell_type": "code",
      "execution_count": null,
      "metadata": {
        "id": "Ivmf5DcQc6tP"
      },
      "outputs": [],
      "source": [
        "X = pd.DataFrame()\n",
        "Y = pd.DataFrame()\n",
        "\n",
        "enc = OrdinalEncoder(handle_unknown='use_encoded_value', unknown_value=-1)\n",
        "df[['D_63_last', 'D_64_last']]=enc.fit(df[['D_63_last', 'D_64_last']])\n",
        "df[['D_63_last', 'D_64_last']]=enc.transform(df[['D_63_last', 'D_64_last']])\n",
        "df.fillna(0, inplace=True)\n",
        "X= X.append(df.loc[:, ~df.columns.isin(['customer_ID', 'target'])])\n",
        "Y = Y.append(df.loc[:, df.columns == 'target'])"
      ]
    },
    {
      "cell_type": "code",
      "source": [
        "X_train, X_test, y_train, y_test = train_test_split(X, Y, test_size=0.2)"
      ],
      "metadata": {
        "id": "-3uKK-aXUIuh"
      },
      "execution_count": null,
      "outputs": []
    },
    {
      "cell_type": "code",
      "source": [
        "sm = KMeansSMOTE()\n",
        "X_train, y_train = sm.fit_resample(X_train, y_train)"
      ],
      "metadata": {
        "id": "4hol0AUNUWq5"
      },
      "execution_count": null,
      "outputs": []
    },
    {
      "cell_type": "code",
      "execution_count": null,
      "metadata": {
        "id": "nvz7kcD8frrt"
      },
      "outputs": [],
      "source": [
        "sgd = SGDClassifier()"
      ]
    },
    {
      "cell_type": "code",
      "source": [
        "%%time\n",
        "sgd.fit(X_train,y_train.to_numpy().ravel())"
      ],
      "metadata": {
        "colab": {
          "base_uri": "https://localhost:8080/"
        },
        "id": "G7Yai9vCKmgE",
        "outputId": "8420533e-ccd3-479d-9220-63ed2183dd85"
      },
      "execution_count": null,
      "outputs": [
        {
          "output_type": "stream",
          "name": "stdout",
          "text": [
            "CPU times: user 38.8 s, sys: 2.61 s, total: 41.4 s\n",
            "Wall time: 41.3 s\n"
          ]
        },
        {
          "output_type": "execute_result",
          "data": {
            "text/plain": [
              "SGDClassifier()"
            ]
          },
          "metadata": {},
          "execution_count": 10
        }
      ]
    },
    {
      "cell_type": "code",
      "source": [
        "%%time\n",
        "sfs = SelectFromModel(sgd, prefit=True)"
      ],
      "metadata": {
        "id": "SF-jn2kNMwNy",
        "colab": {
          "base_uri": "https://localhost:8080/"
        },
        "outputId": "ec610b29-d8af-46e0-f859-d88696f20cce"
      },
      "execution_count": null,
      "outputs": [
        {
          "output_type": "stream",
          "name": "stdout",
          "text": [
            "CPU times: user 16 µs, sys: 0 ns, total: 16 µs\n",
            "Wall time: 20 µs\n"
          ]
        }
      ]
    },
    {
      "cell_type": "code",
      "source": [
        "sfs.get_support().sum()"
      ],
      "metadata": {
        "colab": {
          "base_uri": "https://localhost:8080/"
        },
        "id": "OxIoVYKoMFje",
        "outputId": "2226a720-8755-4ca6-dc60-16d4ef941cdc"
      },
      "execution_count": null,
      "outputs": [
        {
          "output_type": "execute_result",
          "data": {
            "text/plain": [
              "297"
            ]
          },
          "metadata": {},
          "execution_count": 12
        }
      ]
    },
    {
      "cell_type": "code",
      "source": [
        "X_train = sfs.transform(X_train)\n",
        "X_test = sfs.transform(X_test)"
      ],
      "metadata": {
        "colab": {
          "base_uri": "https://localhost:8080/"
        },
        "id": "UlVh3UpNMdzS",
        "outputId": "5643e72b-c6e9-41d3-dc54-a38ebb2ce756"
      },
      "execution_count": null,
      "outputs": [
        {
          "output_type": "stream",
          "name": "stderr",
          "text": [
            "/usr/local/lib/python3.7/dist-packages/sklearn/base.py:444: UserWarning: X has feature names, but SelectFromModel was fitted without feature names\n",
            "  f\"X has feature names, but {self.__class__.__name__} was fitted without\"\n",
            "/usr/local/lib/python3.7/dist-packages/sklearn/base.py:444: UserWarning: X has feature names, but SelectFromModel was fitted without feature names\n",
            "  f\"X has feature names, but {self.__class__.__name__} was fitted without\"\n"
          ]
        }
      ]
    },
    {
      "cell_type": "code",
      "source": [
        "gc.collect()"
      ],
      "metadata": {
        "colab": {
          "base_uri": "https://localhost:8080/"
        },
        "id": "UdMOTuG0Smuk",
        "outputId": "36fd61c0-ed4f-4a9f-b984-ef19c45e665f"
      },
      "execution_count": null,
      "outputs": [
        {
          "output_type": "execute_result",
          "data": {
            "text/plain": [
              "88"
            ]
          },
          "metadata": {},
          "execution_count": 14
        }
      ]
    },
    {
      "cell_type": "code",
      "source": [
        "num_leaves=[100, 200]\n",
        "max_depth=[8, 9]\n",
        "param_grid = dict(boosting_type=['gbdt', 'dart', 'goss'],num_leaves=num_leaves, max_depth=max_depth)"
      ],
      "metadata": {
        "id": "7J-CSnLCjsSE"
      },
      "execution_count": null,
      "outputs": []
    },
    {
      "cell_type": "code",
      "source": [
        "clf = gbm.LGBMClassifier()"
      ],
      "metadata": {
        "id": "2vL5Qnn4OemW"
      },
      "execution_count": null,
      "outputs": []
    },
    {
      "cell_type": "code",
      "source": [
        "grid=GridSearchCV(clf,param_grid,cv=3,scoring=('f1', 'recall'),refit='recall',return_train_score=True, verbose=10)\n",
        "grid.fit(X_train,y_train.to_numpy().ravel())"
      ],
      "metadata": {
        "colab": {
          "base_uri": "https://localhost:8080/"
        },
        "id": "m17Oi4Y_j6e5",
        "outputId": "23650f95-e0bc-440d-b395-99f0a62a8364"
      },
      "execution_count": null,
      "outputs": [
        {
          "output_type": "stream",
          "name": "stdout",
          "text": [
            "Fitting 3 folds for each of 12 candidates, totalling 36 fits\n",
            "[CV 1/3; 1/12] START boosting_type=gbdt, max_depth=8, num_leaves=100............\n",
            "[CV 1/3; 1/12] END boosting_type=gbdt, max_depth=8, num_leaves=100; f1: (train=0.852, test=0.810) recall: (train=0.851, test=0.812) total time=  39.7s\n",
            "[CV 2/3; 1/12] START boosting_type=gbdt, max_depth=8, num_leaves=100............\n",
            "[CV 2/3; 1/12] END boosting_type=gbdt, max_depth=8, num_leaves=100; f1: (train=0.852, test=0.807) recall: (train=0.852, test=0.806) total time=  36.3s\n",
            "[CV 3/3; 1/12] START boosting_type=gbdt, max_depth=8, num_leaves=100............\n",
            "[CV 3/3; 1/12] END boosting_type=gbdt, max_depth=8, num_leaves=100; f1: (train=0.853, test=0.805) recall: (train=0.853, test=0.800) total time=  36.1s\n",
            "[CV 1/3; 2/12] START boosting_type=gbdt, max_depth=8, num_leaves=200............\n",
            "[CV 1/3; 2/12] END boosting_type=gbdt, max_depth=8, num_leaves=200; f1: (train=0.870, test=0.811) recall: (train=0.868, test=0.810) total time=  43.5s\n",
            "[CV 2/3; 2/12] START boosting_type=gbdt, max_depth=8, num_leaves=200............\n",
            "[CV 2/3; 2/12] END boosting_type=gbdt, max_depth=8, num_leaves=200; f1: (train=0.870, test=0.808) recall: (train=0.869, test=0.805) total time=  41.3s\n",
            "[CV 3/3; 2/12] START boosting_type=gbdt, max_depth=8, num_leaves=200............\n",
            "[CV 3/3; 2/12] END boosting_type=gbdt, max_depth=8, num_leaves=200; f1: (train=0.869, test=0.806) recall: (train=0.870, test=0.801) total time=  45.2s\n",
            "[CV 1/3; 3/12] START boosting_type=gbdt, max_depth=9, num_leaves=100............\n",
            "[CV 1/3; 3/12] END boosting_type=gbdt, max_depth=9, num_leaves=100; f1: (train=0.853, test=0.812) recall: (train=0.852, test=0.815) total time=  39.5s\n",
            "[CV 2/3; 3/12] START boosting_type=gbdt, max_depth=9, num_leaves=100............\n",
            "[CV 2/3; 3/12] END boosting_type=gbdt, max_depth=9, num_leaves=100; f1: (train=0.855, test=0.807) recall: (train=0.855, test=0.806) total time=  44.3s\n",
            "[CV 3/3; 3/12] START boosting_type=gbdt, max_depth=9, num_leaves=100............\n",
            "[CV 3/3; 3/12] END boosting_type=gbdt, max_depth=9, num_leaves=100; f1: (train=0.855, test=0.806) recall: (train=0.856, test=0.803) total time=  42.6s\n",
            "[CV 1/3; 4/12] START boosting_type=gbdt, max_depth=9, num_leaves=200............\n",
            "[CV 1/3; 4/12] END boosting_type=gbdt, max_depth=9, num_leaves=200; f1: (train=0.884, test=0.809) recall: (train=0.881, test=0.810) total time=  47.6s\n",
            "[CV 2/3; 4/12] START boosting_type=gbdt, max_depth=9, num_leaves=200............\n",
            "[CV 2/3; 4/12] END boosting_type=gbdt, max_depth=9, num_leaves=200; f1: (train=0.888, test=0.807) recall: (train=0.888, test=0.806) total time=  49.9s\n",
            "[CV 3/3; 4/12] START boosting_type=gbdt, max_depth=9, num_leaves=200............\n",
            "[CV 3/3; 4/12] END boosting_type=gbdt, max_depth=9, num_leaves=200; f1: (train=0.886, test=0.804) recall: (train=0.886, test=0.800) total time=  47.8s\n",
            "[CV 1/3; 5/12] START boosting_type=dart, max_depth=8, num_leaves=100............\n",
            "[CV 1/3; 5/12] END boosting_type=dart, max_depth=8, num_leaves=100; f1: (train=0.827, test=0.807) recall: (train=0.825, test=0.807) total time=  48.9s\n",
            "[CV 2/3; 5/12] START boosting_type=dart, max_depth=8, num_leaves=100............\n",
            "[CV 2/3; 5/12] END boosting_type=dart, max_depth=8, num_leaves=100; f1: (train=0.830, test=0.804) recall: (train=0.829, test=0.804) total time=  46.2s\n",
            "[CV 3/3; 5/12] START boosting_type=dart, max_depth=8, num_leaves=100............\n",
            "[CV 3/3; 5/12] END boosting_type=dart, max_depth=8, num_leaves=100; f1: (train=0.829, test=0.801) recall: (train=0.829, test=0.796) total time=  46.5s\n",
            "[CV 1/3; 6/12] START boosting_type=dart, max_depth=8, num_leaves=200............\n",
            "[CV 1/3; 6/12] END boosting_type=dart, max_depth=8, num_leaves=200; f1: (train=0.840, test=0.808) recall: (train=0.841, test=0.808) total time=  55.7s\n",
            "[CV 2/3; 6/12] START boosting_type=dart, max_depth=8, num_leaves=200............\n",
            "[CV 2/3; 6/12] END boosting_type=dart, max_depth=8, num_leaves=200; f1: (train=0.842, test=0.804) recall: (train=0.843, test=0.804) total time=  57.6s\n",
            "[CV 3/3; 6/12] START boosting_type=dart, max_depth=8, num_leaves=200............\n",
            "[CV 3/3; 6/12] END boosting_type=dart, max_depth=8, num_leaves=200; f1: (train=0.842, test=0.801) recall: (train=0.843, test=0.796) total time=  59.4s\n",
            "[CV 1/3; 7/12] START boosting_type=dart, max_depth=9, num_leaves=100............\n",
            "[CV 1/3; 7/12] END boosting_type=dart, max_depth=9, num_leaves=100; f1: (train=0.830, test=0.809) recall: (train=0.829, test=0.811) total time=  49.2s\n",
            "[CV 2/3; 7/12] START boosting_type=dart, max_depth=9, num_leaves=100............\n",
            "[CV 2/3; 7/12] END boosting_type=dart, max_depth=9, num_leaves=100; f1: (train=0.832, test=0.805) recall: (train=0.831, test=0.805) total time=  53.9s\n",
            "[CV 3/3; 7/12] START boosting_type=dart, max_depth=9, num_leaves=100............\n",
            "[CV 3/3; 7/12] END boosting_type=dart, max_depth=9, num_leaves=100; f1: (train=0.831, test=0.802) recall: (train=0.832, test=0.799) total time=  51.7s\n",
            "[CV 1/3; 8/12] START boosting_type=dart, max_depth=9, num_leaves=200............\n",
            "[CV 1/3; 8/12] END boosting_type=dart, max_depth=9, num_leaves=200; f1: (train=0.851, test=0.808) recall: (train=0.850, test=0.808) total time= 1.0min\n",
            "[CV 2/3; 8/12] START boosting_type=dart, max_depth=9, num_leaves=200............\n",
            "[CV 2/3; 8/12] END boosting_type=dart, max_depth=9, num_leaves=200; f1: (train=0.853, test=0.806) recall: (train=0.854, test=0.805) total time=  59.4s\n",
            "[CV 3/3; 8/12] START boosting_type=dart, max_depth=9, num_leaves=200............\n",
            "[CV 3/3; 8/12] END boosting_type=dart, max_depth=9, num_leaves=200; f1: (train=0.852, test=0.801) recall: (train=0.852, test=0.797) total time= 1.0min\n",
            "[CV 1/3; 9/12] START boosting_type=goss, max_depth=8, num_leaves=100............\n",
            "[CV 1/3; 9/12] END boosting_type=goss, max_depth=8, num_leaves=100; f1: (train=0.842, test=0.808) recall: (train=0.842, test=0.812) total time=  26.7s\n",
            "[CV 2/3; 9/12] START boosting_type=goss, max_depth=8, num_leaves=100............\n",
            "[CV 2/3; 9/12] END boosting_type=goss, max_depth=8, num_leaves=100; f1: (train=0.844, test=0.805) recall: (train=0.844, test=0.805) total time=  24.3s\n",
            "[CV 3/3; 9/12] START boosting_type=goss, max_depth=8, num_leaves=100............\n",
            "[CV 3/3; 9/12] END boosting_type=goss, max_depth=8, num_leaves=100; f1: (train=0.844, test=0.801) recall: (train=0.846, test=0.801) total time=  24.1s\n",
            "[CV 1/3; 10/12] START boosting_type=goss, max_depth=8, num_leaves=200...........\n",
            "[CV 1/3; 10/12] END boosting_type=goss, max_depth=8, num_leaves=200; f1: (train=0.848, test=0.807) recall: (train=0.848, test=0.812) total time=  25.7s\n",
            "[CV 2/3; 10/12] START boosting_type=goss, max_depth=8, num_leaves=200...........\n",
            "[CV 2/3; 10/12] END boosting_type=goss, max_depth=8, num_leaves=200; f1: (train=0.852, test=0.804) recall: (train=0.854, test=0.805) total time=  25.7s\n",
            "[CV 3/3; 10/12] START boosting_type=goss, max_depth=8, num_leaves=200...........\n",
            "[CV 3/3; 10/12] END boosting_type=goss, max_depth=8, num_leaves=200; f1: (train=0.850, test=0.801) recall: (train=0.851, test=0.799) total time=  25.6s\n",
            "[CV 1/3; 11/12] START boosting_type=goss, max_depth=9, num_leaves=100...........\n",
            "[CV 1/3; 11/12] END boosting_type=goss, max_depth=9, num_leaves=100; f1: (train=0.848, test=0.808) recall: (train=0.848, test=0.812) total time=  28.6s\n",
            "[CV 2/3; 11/12] START boosting_type=goss, max_depth=9, num_leaves=100...........\n",
            "[CV 2/3; 11/12] END boosting_type=goss, max_depth=9, num_leaves=100; f1: (train=0.849, test=0.805) recall: (train=0.852, test=0.808) total time=  28.4s\n",
            "[CV 3/3; 11/12] START boosting_type=goss, max_depth=9, num_leaves=100...........\n",
            "[CV 3/3; 11/12] END boosting_type=goss, max_depth=9, num_leaves=100; f1: (train=0.848, test=0.802) recall: (train=0.850, test=0.801) total time=  26.3s\n",
            "[CV 1/3; 12/12] START boosting_type=goss, max_depth=9, num_leaves=200...........\n",
            "[CV 1/3; 12/12] END boosting_type=goss, max_depth=9, num_leaves=200; f1: (train=0.869, test=0.809) recall: (train=0.869, test=0.812) total time=  30.2s\n",
            "[CV 2/3; 12/12] START boosting_type=goss, max_depth=9, num_leaves=200...........\n",
            "[CV 2/3; 12/12] END boosting_type=goss, max_depth=9, num_leaves=200; f1: (train=0.871, test=0.805) recall: (train=0.873, test=0.808) total time=  30.5s\n",
            "[CV 3/3; 12/12] START boosting_type=goss, max_depth=9, num_leaves=200...........\n",
            "[CV 3/3; 12/12] END boosting_type=goss, max_depth=9, num_leaves=200; f1: (train=0.872, test=0.802) recall: (train=0.872, test=0.801) total time=  30.3s\n"
          ]
        },
        {
          "output_type": "execute_result",
          "data": {
            "text/plain": [
              "GridSearchCV(cv=3, estimator=LGBMClassifier(),\n",
              "             param_grid={'boosting_type': ['gbdt', 'dart', 'goss'],\n",
              "                         'max_depth': [8, 9], 'num_leaves': [100, 200]},\n",
              "             refit='recall', return_train_score=True, scoring=('f1', 'recall'),\n",
              "             verbose=10)"
            ]
          },
          "metadata": {},
          "execution_count": 21
        }
      ]
    },
    {
      "cell_type": "code",
      "source": [
        "print(grid.best_score_)\n",
        "print(grid.best_params_)"
      ],
      "metadata": {
        "colab": {
          "base_uri": "https://localhost:8080/"
        },
        "id": "ZhG4_NGUoDKk",
        "outputId": "2fc04b36-785d-46c4-c4f5-7f2d218d7431"
      },
      "execution_count": null,
      "outputs": [
        {
          "output_type": "stream",
          "name": "stdout",
          "text": [
            "0.808035968308224\n",
            "{'boosting_type': 'gbdt', 'max_depth': 9, 'num_leaves': 100}\n"
          ]
        }
      ]
    },
    {
      "cell_type": "code",
      "source": [
        "clf = gbm.LGBMClassifier(boosting_type='gbdt', max_depth=9, num_leaves=100)"
      ],
      "metadata": {
        "id": "lX9yXOGdzFZu"
      },
      "execution_count": null,
      "outputs": []
    },
    {
      "cell_type": "code",
      "execution_count": null,
      "metadata": {
        "colab": {
          "base_uri": "https://localhost:8080/"
        },
        "id": "d-Ho-fcIf3vw",
        "outputId": "a0cfe456-038b-44c6-8fb6-c04452b9e8e0"
      },
      "outputs": [
        {
          "output_type": "execute_result",
          "data": {
            "text/plain": [
              "LGBMClassifier(max_depth=9, num_leaves=100)"
            ]
          },
          "metadata": {},
          "execution_count": 24
        }
      ],
      "source": [
        "clf.fit(X_train, y_train.values.ravel())"
      ]
    },
    {
      "cell_type": "code",
      "execution_count": null,
      "metadata": {
        "colab": {
          "base_uri": "https://localhost:8080/"
        },
        "id": "ibJJW5MSTYwU",
        "outputId": "d09580d4-22e0-493c-bfb1-bc6cc7ee4065"
      },
      "outputs": [
        {
          "output_type": "execute_result",
          "data": {
            "text/plain": [
              "0.9015177102513537"
            ]
          },
          "metadata": {},
          "execution_count": 25
        }
      ],
      "source": [
        "clf.score(X_test, y_test)"
      ]
    },
    {
      "cell_type": "code",
      "execution_count": null,
      "metadata": {
        "colab": {
          "base_uri": "https://localhost:8080/"
        },
        "id": "NGMAsrrtTcWy",
        "outputId": "3334f559-749b-4184-d762-672cb02d7283"
      },
      "outputs": [
        {
          "output_type": "execute_result",
          "data": {
            "text/plain": [
              "{'boosting_type': 'gbdt',\n",
              " 'class_weight': None,\n",
              " 'colsample_bytree': 1.0,\n",
              " 'importance_type': 'split',\n",
              " 'learning_rate': 0.1,\n",
              " 'max_depth': 9,\n",
              " 'min_child_samples': 20,\n",
              " 'min_child_weight': 0.001,\n",
              " 'min_split_gain': 0.0,\n",
              " 'n_estimators': 100,\n",
              " 'n_jobs': -1,\n",
              " 'num_leaves': 100,\n",
              " 'objective': None,\n",
              " 'random_state': None,\n",
              " 'reg_alpha': 0.0,\n",
              " 'reg_lambda': 0.0,\n",
              " 'silent': True,\n",
              " 'subsample': 1.0,\n",
              " 'subsample_for_bin': 200000,\n",
              " 'subsample_freq': 0}"
            ]
          },
          "metadata": {},
          "execution_count": 26
        }
      ],
      "source": [
        "clf.get_params()"
      ]
    },
    {
      "cell_type": "code",
      "execution_count": null,
      "metadata": {
        "id": "rEZ7WJg-ri_c"
      },
      "outputs": [],
      "source": [
        "y_pred = clf.predict(X_test)"
      ]
    },
    {
      "cell_type": "code",
      "execution_count": null,
      "metadata": {
        "id": "VpDuIcwcr-rn"
      },
      "outputs": [],
      "source": [
        "tn, fp, fn, tp = confusion_matrix(y_test, y_pred).ravel()"
      ]
    },
    {
      "cell_type": "code",
      "execution_count": null,
      "metadata": {
        "colab": {
          "base_uri": "https://localhost:8080/"
        },
        "id": "EegTKc03sL4F",
        "outputId": "72a75c48-2eca-4dd6-926e-790cf7941f20"
      },
      "outputs": [
        {
          "output_type": "execute_result",
          "data": {
            "text/plain": [
              "(63539, 4439, 4600, 19205)"
            ]
          },
          "metadata": {},
          "execution_count": 29
        }
      ],
      "source": [
        "tn, fp, fn, tp"
      ]
    },
    {
      "cell_type": "code",
      "execution_count": null,
      "metadata": {
        "colab": {
          "base_uri": "https://localhost:8080/"
        },
        "id": "0h4Ph6YMsi_L",
        "outputId": "01e5af0d-6b78-4833-ba90-5fd37c7bf40d"
      },
      "outputs": [
        {
          "output_type": "execute_result",
          "data": {
            "text/plain": [
              "0.8095007270964615"
            ]
          },
          "metadata": {},
          "execution_count": 30
        }
      ],
      "source": [
        "f1_score(y_test, y_pred)"
      ]
    },
    {
      "cell_type": "code",
      "source": [
        "print(classification_report(y_test, y_pred, digits=4))"
      ],
      "metadata": {
        "id": "8oP9Zx1kNZjY",
        "colab": {
          "base_uri": "https://localhost:8080/"
        },
        "outputId": "4b9d5e5b-d9cb-4f29-8b59-fabd9f8cbc32"
      },
      "execution_count": null,
      "outputs": [
        {
          "output_type": "stream",
          "name": "stdout",
          "text": [
            "              precision    recall  f1-score   support\n",
            "\n",
            "           0     0.9325    0.9347    0.9336     67978\n",
            "           1     0.8123    0.8068    0.8095     23805\n",
            "\n",
            "    accuracy                         0.9015     91783\n",
            "   macro avg     0.8724    0.8707    0.8715     91783\n",
            "weighted avg     0.9013    0.9015    0.9014     91783\n",
            "\n"
          ]
        }
      ]
    },
    {
      "cell_type": "code",
      "source": [
        "plot_confusion_matrix(clf, X_test, y_test)  \n",
        "plt.show()"
      ],
      "metadata": {
        "colab": {
          "base_uri": "https://localhost:8080/",
          "height": 334
        },
        "id": "80I3JhRpPSS0",
        "outputId": "a3a95448-24db-4e90-863b-f4c4e2d02b2e"
      },
      "execution_count": null,
      "outputs": [
        {
          "output_type": "stream",
          "name": "stderr",
          "text": [
            "/usr/local/lib/python3.7/dist-packages/sklearn/utils/deprecation.py:87: FutureWarning: Function plot_confusion_matrix is deprecated; Function `plot_confusion_matrix` is deprecated in 1.0 and will be removed in 1.2. Use one of the class methods: ConfusionMatrixDisplay.from_predictions or ConfusionMatrixDisplay.from_estimator.\n",
            "  warnings.warn(msg, category=FutureWarning)\n"
          ]
        },
        {
          "output_type": "display_data",
          "data": {
            "text/plain": [
              "<Figure size 432x288 with 2 Axes>"
            ],
            "image/png": "[encoded data removed]"
          },
          "metadata": {
            "needs_background": "light"
          }
        }
      ]
    },
    {
      "cell_type": "code",
      "source": [
        "cols = sgd.feature_names_in_[sfs.get_support()]"
      ],
      "metadata": {
        "id": "vAvezp4TP2u3"
      },
      "execution_count": null,
      "outputs": []
    },
    {
      "cell_type": "code",
      "source": [
        "feature_importance_df = pd.DataFrame(\n",
        "    {'feature': cols ,\n",
        "     'importance': clf.feature_importances_})"
      ],
      "metadata": {
        "id": "q1JV1CkmPW25"
      },
      "execution_count": null,
      "outputs": []
    },
    {
      "cell_type": "code",
      "source": [
        "feature_importance_df.sort_values(by='importance', ascending=False).head(600)"
      ],
      "metadata": {
        "colab": {
          "base_uri": "https://localhost:8080/",
          "height": 423
        },
        "id": "5HSGQSCtPYjU",
        "outputId": "6b529682-3a91-446c-aa0d-0d9c307fd349"
      },
      "execution_count": null,
      "outputs": [
        {
          "output_type": "execute_result",
          "data": {
            "text/plain": [
              "       feature  importance\n",
              "7    D_39_last         226\n",
              "3     P_2_last         214\n",
              "36    B_4_last         191\n",
              "23    B_3_last         162\n",
              "9     B_1_last         144\n",
              "..         ...         ...\n",
              "219   B_31_std           0\n",
              "293  D_63_last           0\n",
              "220   B_31_min           0\n",
              "295  D_64_last           0\n",
              "221   B_31_max           0\n",
              "\n",
              "[297 rows x 2 columns]"
            ],
            "text/html": [
              "\n",
              "  <div id=\"df-f9cf1194-0981-4aae-828e-c8109a222a2d\">\n",
              "    <div class=\"colab-df-container\">\n",
              "      <div>\n",
              "<style scoped>\n",
              "    .dataframe tbody tr th:only-of-type {\n",
              "        vertical-align: middle;\n",
              "    }\n",
              "\n",
              "    .dataframe tbody tr th {\n",
              "        vertical-align: top;\n",
              "    }\n",
              "\n",
              "    .dataframe thead th {\n",
              "        text-align: right;\n",
              "    }\n",
              "</style>\n",
              "<table border=\"1\" class=\"dataframe\">\n",
              "  <thead>\n",
              "    <tr style=\"text-align: right;\">\n",
              "      <th></th>\n",
              "      <th>feature</th>\n",
              "      <th>importance</th>\n",
              "    </tr>\n",
              "  </thead>\n",
              "  <tbody>\n",
              "    <tr>\n",
              "      <th>7</th>\n",
              "      <td>D_39_last</td>\n",
              "      <td>226</td>\n",
              "    </tr>\n",
              "    <tr>\n",
              "      <th>3</th>\n",
              "      <td>P_2_last</td>\n",
              "      <td>214</td>\n",
              "    </tr>\n",
              "    <tr>\n",
              "      <th>36</th>\n",
              "      <td>B_4_last</td>\n",
              "      <td>191</td>\n",
              "    </tr>\n",
              "    <tr>\n",
              "      <th>23</th>\n",
              "      <td>B_3_last</td>\n",
              "      <td>162</td>\n",
              "    </tr>\n",
              "    <tr>\n",
              "      <th>9</th>\n",
              "      <td>B_1_last</td>\n",
              "      <td>144</td>\n",
              "    </tr>\n",
              "    <tr>\n",
              "      <th>...</th>\n",
              "      <td>...</td>\n",
              "      <td>...</td>\n",
              "    </tr>\n",
              "    <tr>\n",
              "      <th>219</th>\n",
              "      <td>B_31_std</td>\n",
              "      <td>0</td>\n",
              "    </tr>\n",
              "    <tr>\n",
              "      <th>293</th>\n",
              "      <td>D_63_last</td>\n",
              "      <td>0</td>\n",
              "    </tr>\n",
              "    <tr>\n",
              "      <th>220</th>\n",
              "      <td>B_31_min</td>\n",
              "      <td>0</td>\n",
              "    </tr>\n",
              "    <tr>\n",
              "      <th>295</th>\n",
              "      <td>D_64_last</td>\n",
              "      <td>0</td>\n",
              "    </tr>\n",
              "    <tr>\n",
              "      <th>221</th>\n",
              "      <td>B_31_max</td>\n",
              "      <td>0</td>\n",
              "    </tr>\n",
              "  </tbody>\n",
              "</table>\n",
              "<p>297 rows × 2 columns</p>\n",
              "</div>\n",
              "      <button class=\"colab-df-convert\" onclick=\"convertToInteractive('df-f9cf1194-0981-4aae-828e-c8109a222a2d')\"\n",
              "              title=\"Convert this dataframe to an interactive table.\"\n",
              "              style=\"display:none;\">\n",
              "        \n",
              "  <svg xmlns=\"http://www.w3.org/2000/svg\" height=\"24px\"viewBox=\"0 0 24 24\"\n",
              "       width=\"24px\">\n",
              "    <path d=\"M0 0h24v24H0V0z\" fill=\"none\"/>\n",
              "    <path d=\"M18.56 5.44l.94 2.06.94-2.06 2.06-.94-2.06-.94-.94-2.06-.94 2.06-2.06.94zm-11 1L8.5 8.5l.94-2.06 2.06-.94-2.06-.94L8.5 2.5l-.94 2.06-2.06.94zm10 10l.94 2.06.94-2.06 2.06-.94-2.06-.94-.94-2.06-.94 2.06-2.06.94z\"/><path d=\"M17.41 7.96l-1.37-1.37c-.4-.4-.92-.59-1.43-.59-.52 0-1.04.2-1.43.59L10.3 9.45l-7.72 7.72c-.78.78-.78 2.05 0 2.83L4 21.41c.39.39.9.59 1.41.59.51 0 1.02-.2 1.41-.59l7.78-7.78 2.81-2.81c.8-.78.8-2.07 0-2.86zM5.41 20L4 18.59l7.72-7.72 1.47 1.35L5.41 20z\"/>\n",
              "  </svg>\n",
              "      </button>\n",
              "      \n",
              "  <style>\n",
              "    .colab-df-container {\n",
              "      display:flex;\n",
              "      flex-wrap:wrap;\n",
              "      gap: 12px;\n",
              "    }\n",
              "\n",
              "    .colab-df-convert {\n",
              "      background-color: #E8F0FE;\n",
              "      border: none;\n",
              "      border-radius: 50%;\n",
              "      cursor: pointer;\n",
              "      display: none;\n",
              "      fill: #1967D2;\n",
              "      height: 32px;\n",
              "      padding: 0 0 0 0;\n",
              "      width: 32px;\n",
              "    }\n",
              "\n",
              "    .colab-df-convert:hover {\n",
              "      background-color: #E2EBFA;\n",
              "      box-shadow: 0px 1px 2px rgba(60, 64, 67, 0.3), 0px 1px 3px 1px rgba(60, 64, 67, 0.15);\n",
              "      fill: #174EA6;\n",
              "    }\n",
              "\n",
              "    [theme=dark] .colab-df-convert {\n",
              "      background-color: #3B4455;\n",
              "      fill: #D2E3FC;\n",
              "    }\n",
              "\n",
              "    [theme=dark] .colab-df-convert:hover {\n",
              "      background-color: #434B5C;\n",
              "      box-shadow: 0px 1px 3px 1px rgba(0, 0, 0, 0.15);\n",
              "      filter: drop-shadow(0px 1px 2px rgba(0, 0, 0, 0.3));\n",
              "      fill: #FFFFFF;\n",
              "    }\n",
              "  </style>\n",
              "\n",
              "      <script>\n",
              "        const buttonEl =\n",
              "          document.querySelector('#df-f9cf1194-0981-4aae-828e-c8109a222a2d button.colab-df-convert');\n",
              "        buttonEl.style.display =\n",
              "          google.colab.kernel.accessAllowed ? 'block' : 'none';\n",
              "\n",
              "        async function convertToInteractive(key) {\n",
              "          const element = document.querySelector('#df-f9cf1194-0981-4aae-828e-c8109a222a2d');\n",
              "          const dataTable =\n",
              "            await google.colab.kernel.invokeFunction('convertToInteractive',\n",
              "                                                     [key], {});\n",
              "          if (!dataTable) return;\n",
              "\n",
              "          const docLinkHtml = 'Like what you see? Visit the ' +\n",
              "            '<a target=\"_blank\" href=https://colab.research.google.com/notebooks/data_table.ipynb>data table notebook</a>'\n",
              "            + ' to learn more about interactive tables.';\n",
              "          element.innerHTML = '';\n",
              "          dataTable['output_type'] = 'display_data';\n",
              "          await google.colab.output.renderOutput(dataTable, element);\n",
              "          const docLink = document.createElement('div');\n",
              "          docLink.innerHTML = docLinkHtml;\n",
              "          element.appendChild(docLink);\n",
              "        }\n",
              "      </script>\n",
              "    </div>\n",
              "  </div>\n",
              "  "
            ]
          },
          "metadata": {},
          "execution_count": 35
        }
      ]
    },
    {
      "cell_type": "code",
      "source": [],
      "metadata": {
        "id": "0JArhtXgQVfO"
      },
      "execution_count": null,
      "outputs": []
    }
  ],
  "metadata": {
    "colab": {
      "collapsed_sections": [],
      "machine_shape": "hm",
      "provenance": [],
      "mount_file_id": "188K2wxnKqts6wUyQgdYCHRpJn-FznkKo",
      "authorship_tag": "ABX9TyNf5TABmhaSUymaczNgrhFJ",
      "include_colab_link": true
    },
    "gpuClass": "standard",
    "kernelspec": {
      "display_name": "Python 3",
      "name": "python3"
    },
    "language_info": {
      "name": "python"
    }
  },
  "nbformat": 4,
  "nbformat_minor": 0
}