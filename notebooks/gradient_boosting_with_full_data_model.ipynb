{
  "nbformat": 4,
  "nbformat_minor": 0,
  "metadata": {
    "colab": {
      "name": "gradient_boosting_with_full_data_model.ipynb",
      "provenance": [],
      "collapsed_sections": [],
      "machine_shape": "hm",
      "mount_file_id": "1zgdWiKsbhbm-B0_w5YpdTriFNIDRv4G_",
      "authorship_tag": "ABX9TyPnGB2hhxHAM+y2kqCSUM3F",
      "include_colab_link": true
    },
    "kernelspec": {
      "name": "python3",
      "display_name": "Python 3"
    },
    "language_info": {
      "name": "python"
    },
    "gpuClass": "standard"
  },
  "cells": [
    {
      "cell_type": "markdown",
      "metadata": {
        "id": "view-in-github",
        "colab_type": "text"
      },
      "source": [
        "<a href=\"https://colab.research.google.com/github/sankardevisharath/amex-default-prediction/blob/master/notebooks/gradient_boosting_with_full_data_model.ipynb\" target=\"_parent\"><img src=\"https://colab.research.google.com/assets/colab-badge.svg\" alt=\"Open In Colab\"/></a>"
      ]
    },
    {
      "cell_type": "code",
      "source": [
        "from os import listdir\n",
        "\n",
        "files = listdir('/content/drive/MyDrive/amex-default-prediction/data/raw/')"
      ],
      "metadata": {
        "id": "qDhpXsRkbY7g"
      },
      "execution_count": 1,
      "outputs": []
    },
    {
      "cell_type": "code",
      "source": [
        "import gc \n",
        "\n",
        "import numpy as np\n",
        "import pandas as pd\n",
        "from sklearn.preprocessing import OrdinalEncoder\n",
        "from sklearn.model_selection import train_test_split\n",
        "from sklearn.ensemble import GradientBoostingClassifier\n",
        "from sklearn.metrics import confusion_matrix\n",
        "from sklearn.metrics import f1_score"
      ],
      "metadata": {
        "id": "nx_k17C4dJpj"
      },
      "execution_count": 2,
      "outputs": []
    },
    {
      "cell_type": "code",
      "source": [
        "cat_cols = ['D_63', 'D_64','B_30', 'B_38', 'D_114', 'D_116', 'D_117', 'D_120', 'D_126', 'D_66', 'D_68']\n",
        "TRAIN_LABELS_PATH = '/content/train_labels.csv'"
      ],
      "metadata": {
        "id": "IdDL1GU3gPxH"
      },
      "execution_count": 3,
      "outputs": []
    },
    {
      "cell_type": "code",
      "source": [
        "!unzip /content/drive/MyDrive/amex-default-prediction/data/amex-default-prediction.zip \\\n",
        " train_labels.csv"
      ],
      "metadata": {
        "colab": {
          "base_uri": "https://localhost:8080/"
        },
        "id": "tOb-N7dCiaDi",
        "outputId": "a6098a02-a2cc-410f-de14-b3a839e15638"
      },
      "execution_count": 4,
      "outputs": [
        {
          "output_type": "stream",
          "name": "stdout",
          "text": [
            "Archive:  /content/drive/MyDrive/amex-default-prediction/data/amex-default-prediction.zip\n",
            "replace train_labels.csv? [y]es, [n]o, [A]ll, [N]one, [r]ename: y\n",
            "  inflating: train_labels.csv        \n"
          ]
        }
      ]
    },
    {
      "cell_type": "code",
      "source": [
        "train_labels = pd.read_csv(TRAIN_LABELS_PATH)"
      ],
      "metadata": {
        "id": "0cIgqjH2hMML"
      },
      "execution_count": 5,
      "outputs": []
    },
    {
      "cell_type": "code",
      "source": [
        "def append_label(source_df):\n",
        "  return pd.merge(left=source_df, right=train_labels, how='inner')"
      ],
      "metadata": {
        "id": "eAEoVByIgU-W"
      },
      "execution_count": 6,
      "outputs": []
    },
    {
      "cell_type": "code",
      "source": [
        "flag = True\n",
        "X = pd.DataFrame()\n",
        "Y = pd.DataFrame()\n",
        "\n",
        "for f in files:\n",
        "  print(f)\n",
        "  df_tmp = pd.read_parquet('/content/drive/MyDrive/amex-default-prediction/data/raw/' + f)\n",
        "  df_tmp = append_label(df_tmp)\n",
        "\n",
        "\n",
        "  if(flag):\n",
        "     enc = OrdinalEncoder(handle_unknown='use_encoded_value', unknown_value=-1)\n",
        "     df_tmp[['D_63', 'D_64']]=enc.fit(df_tmp[['D_63', 'D_64']])\n",
        "     flag = False\n",
        "\n",
        "  df_tmp[['D_63', 'D_64']]=enc.transform(df_tmp[['D_63', 'D_64']])\n",
        "  df_tmp.fillna(0, inplace=True)\n",
        "\n",
        "  X= X.append(df_tmp.loc[:, ~df_tmp.columns.isin(['customer_ID', 'S_2', 'target'])])\n",
        "\n",
        "  Y = Y.append(df_tmp.loc[:, df_tmp.columns == 'target'])\n",
        "\n",
        "  \n",
        "  del df_tmp\n",
        "  gc.collect()\n"
      ],
      "metadata": {
        "colab": {
          "base_uri": "https://localhost:8080/"
        },
        "id": "Ivmf5DcQc6tP",
        "outputId": "46bacc12-c6ec-48d4-9768-0c8e86455f1d"
      },
      "execution_count": 7,
      "outputs": [
        {
          "output_type": "stream",
          "name": "stdout",
          "text": [
            "data_2017-04.parquet\n",
            "data_2017-05.parquet\n",
            "data_2017-06.parquet\n",
            "data_2017-03.parquet\n",
            "data_2017-07.parquet\n",
            "data_2017-08.parquet\n",
            "data_2017-09.parquet\n",
            "data_2017-10.parquet\n",
            "data_2017-11.parquet\n",
            "data_2017-12.parquet\n",
            "data_2018-01.parquet\n",
            "data_2018-02.parquet\n",
            "data_2018-03.parquet\n"
          ]
        }
      ]
    },
    {
      "cell_type": "code",
      "source": [
        "gc.collect()"
      ],
      "metadata": {
        "colab": {
          "base_uri": "https://localhost:8080/"
        },
        "id": "alGrLkRRlkrH",
        "outputId": "f608a5dc-f6da-4cae-e8f4-3de0a862b214"
      },
      "execution_count": 8,
      "outputs": [
        {
          "output_type": "execute_result",
          "data": {
            "text/plain": [
              "58"
            ]
          },
          "metadata": {},
          "execution_count": 8
        }
      ]
    },
    {
      "cell_type": "code",
      "source": [
        " X_train, X_test, y_train, y_test = train_test_split(X, Y, test_size=0.2)"
      ],
      "metadata": {
        "id": "1R7fzQ4ueFRI"
      },
      "execution_count": 9,
      "outputs": []
    },
    {
      "cell_type": "code",
      "source": [
        "gc.collect()"
      ],
      "metadata": {
        "colab": {
          "base_uri": "https://localhost:8080/"
        },
        "id": "-T0WHRL6qP6j",
        "outputId": "edf00172-a4e6-49b3-8a15-e3fc1937fe05"
      },
      "execution_count": 10,
      "outputs": [
        {
          "output_type": "execute_result",
          "data": {
            "text/plain": [
              "310"
            ]
          },
          "metadata": {},
          "execution_count": 10
        }
      ]
    },
    {
      "cell_type": "code",
      "source": [
        "del X, Y"
      ],
      "metadata": {
        "id": "OFhJ34_GqSXX"
      },
      "execution_count": 11,
      "outputs": []
    },
    {
      "cell_type": "code",
      "source": [
        "gc.collect()"
      ],
      "metadata": {
        "colab": {
          "base_uri": "https://localhost:8080/"
        },
        "id": "xfMZBQqUqVd3",
        "outputId": "a1833651-4918-469d-9d49-762169a5a0b4"
      },
      "execution_count": 12,
      "outputs": [
        {
          "output_type": "execute_result",
          "data": {
            "text/plain": [
              "176"
            ]
          },
          "metadata": {},
          "execution_count": 12
        }
      ]
    },
    {
      "cell_type": "code",
      "source": [
        "clf = GradientBoostingClassifier(subsample=0.05, verbose=1)"
      ],
      "metadata": {
        "id": "nvz7kcD8frrt"
      },
      "execution_count": 13,
      "outputs": []
    },
    {
      "cell_type": "code",
      "source": [
        "clf.fit(X_train, y_train.values.ravel())"
      ],
      "metadata": {
        "id": "d-Ho-fcIf3vw",
        "colab": {
          "base_uri": "https://localhost:8080/"
        },
        "outputId": "99ee8b36-cd8f-4ff3-a207-10c2d8fc1905"
      },
      "execution_count": 14,
      "outputs": [
        {
          "output_type": "stream",
          "name": "stdout",
          "text": [
            "      Iter       Train Loss      OOB Improve   Remaining Time \n",
            "         1           1.0434           0.0790           39.61m\n",
            "         2           0.9827           0.0622           39.08m\n",
            "         3           0.9308           0.0499           38.56m\n",
            "         4           0.8911           0.0417           38.13m\n",
            "         5           0.8556           0.0354           37.73m\n",
            "         6           0.8236           0.0293           37.31m\n",
            "         7           0.7985           0.0259           36.90m\n",
            "         8           0.7764           0.0216           36.47m\n",
            "         9           0.7584           0.0192           36.07m\n",
            "        10           0.7411           0.0171           35.70m\n",
            "        20           0.6506           0.0057           31.72m\n",
            "        30           0.6138           0.0024           27.83m\n",
            "        40           0.5946           0.0014           23.82m\n",
            "        50           0.5821           0.0008           19.87m\n",
            "        60           0.5754           0.0006           15.88m\n",
            "        70           0.5697           0.0004           11.88m\n",
            "        80           0.5643           0.0002            7.85m\n",
            "        90           0.5587           0.0003            3.90m\n",
            "       100           0.5615           0.0002            0.00s\n"
          ]
        },
        {
          "output_type": "execute_result",
          "data": {
            "text/plain": [
              "GradientBoostingClassifier(subsample=0.05, verbose=1)"
            ]
          },
          "metadata": {},
          "execution_count": 14
        }
      ]
    },
    {
      "cell_type": "code",
      "source": [
        "clf.score(X_test, y_test)"
      ],
      "metadata": {
        "colab": {
          "base_uri": "https://localhost:8080/"
        },
        "id": "ibJJW5MSTYwU",
        "outputId": "7b7c867a-1e1e-414e-8723-41065e802b32"
      },
      "execution_count": 15,
      "outputs": [
        {
          "output_type": "execute_result",
          "data": {
            "text/plain": [
              "0.8734835590274168"
            ]
          },
          "metadata": {},
          "execution_count": 15
        }
      ]
    },
    {
      "cell_type": "code",
      "source": [
        "clf.get_params()"
      ],
      "metadata": {
        "colab": {
          "base_uri": "https://localhost:8080/"
        },
        "id": "NGMAsrrtTcWy",
        "outputId": "d7ed146c-e0ec-4ee6-e90e-f06687d861ed"
      },
      "execution_count": 16,
      "outputs": [
        {
          "output_type": "execute_result",
          "data": {
            "text/plain": [
              "{'ccp_alpha': 0.0,\n",
              " 'criterion': 'friedman_mse',\n",
              " 'init': None,\n",
              " 'learning_rate': 0.1,\n",
              " 'loss': 'deviance',\n",
              " 'max_depth': 3,\n",
              " 'max_features': None,\n",
              " 'max_leaf_nodes': None,\n",
              " 'min_impurity_decrease': 0.0,\n",
              " 'min_samples_leaf': 1,\n",
              " 'min_samples_split': 2,\n",
              " 'min_weight_fraction_leaf': 0.0,\n",
              " 'n_estimators': 100,\n",
              " 'n_iter_no_change': None,\n",
              " 'random_state': None,\n",
              " 'subsample': 0.05,\n",
              " 'tol': 0.0001,\n",
              " 'validation_fraction': 0.1,\n",
              " 'verbose': 1,\n",
              " 'warm_start': False}"
            ]
          },
          "metadata": {},
          "execution_count": 16
        }
      ]
    },
    {
      "cell_type": "code",
      "source": [
        "y_pred = clf.predict(X_test)"
      ],
      "metadata": {
        "id": "rEZ7WJg-ri_c"
      },
      "execution_count": 17,
      "outputs": []
    },
    {
      "cell_type": "code",
      "source": [
        "tn, fp, fn, tp = confusion_matrix(y_test, y_pred).ravel()"
      ],
      "metadata": {
        "id": "VpDuIcwcr-rn"
      },
      "execution_count": 18,
      "outputs": []
    },
    {
      "cell_type": "code",
      "source": [
        "tn, fp, fn, tp"
      ],
      "metadata": {
        "colab": {
          "base_uri": "https://localhost:8080/"
        },
        "id": "EegTKc03sL4F",
        "outputId": "85449900-03fa-4b9b-a4f0-0e33a2966906"
      },
      "execution_count": 19,
      "outputs": [
        {
          "output_type": "execute_result",
          "data": {
            "text/plain": [
              "(761525, 69600, 70364, 204802)"
            ]
          },
          "metadata": {},
          "execution_count": 19
        }
      ]
    },
    {
      "cell_type": "code",
      "source": [
        "f1_score(y_test, y_pred)"
      ],
      "metadata": {
        "colab": {
          "base_uri": "https://localhost:8080/"
        },
        "id": "0h4Ph6YMsi_L",
        "outputId": "e8df5c8f-6cd7-4986-b5ca-ab912cf1dda3"
      },
      "execution_count": 20,
      "outputs": [
        {
          "output_type": "execute_result",
          "data": {
            "text/plain": [
              "0.7453199604052636"
            ]
          },
          "metadata": {},
          "execution_count": 20
        }
      ]
    },
    {
      "cell_type": "code",
      "source": [
        ""
      ],
      "metadata": {
        "id": "QJr8WVsItVBk"
      },
      "execution_count": null,
      "outputs": []
    }
  ]
}