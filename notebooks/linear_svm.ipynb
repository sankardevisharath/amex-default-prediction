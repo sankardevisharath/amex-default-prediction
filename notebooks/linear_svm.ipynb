{
  "nbformat": 4,
  "nbformat_minor": 0,
  "metadata": {
    "colab": {
      "name": "linear_svm.ipynb",
      "provenance": [],
      "collapsed_sections": [],
      "mount_file_id": "1ZNnoHM88mSOsp1rCmj5GF1jVpNFOhaNm",
      "authorship_tag": "ABX9TyNc6ZGhiQUfQzed2gNefLV0",
      "include_colab_link": true
    },
    "kernelspec": {
      "name": "python3",
      "display_name": "Python 3"
    },
    "language_info": {
      "name": "python"
    },
    "gpuClass": "standard"
  },
  "cells": [
    {
      "cell_type": "markdown",
      "metadata": {
        "id": "view-in-github",
        "colab_type": "text"
      },
      "source": [
        "<a href=\"https://colab.research.google.com/github/sankardevisharath/amex-default-prediction/blob/master/notebooks/linear_svm.ipynb\" target=\"_parent\"><img src=\"https://colab.research.google.com/assets/colab-badge.svg\" alt=\"Open In Colab\"/></a>"
      ]
    },
    {
      "cell_type": "code",
      "source": [
        "%mkdir data\n",
        "%cd data\n",
        "%mkdir raw\n",
        "%cd raw"
      ],
      "metadata": {
        "colab": {
          "base_uri": "https://localhost:8080/"
        },
        "id": "W0Rc30dzaoDG",
        "outputId": "864a1076-0882-4499-ff2b-44f1d71d134d"
      },
      "execution_count": 2,
      "outputs": [
        {
          "output_type": "stream",
          "name": "stdout",
          "text": [
            "/content/data\n",
            "/content/data/raw\n"
          ]
        }
      ]
    },
    {
      "cell_type": "code",
      "source": [
        "!cp /content/drive/MyDrive/amex-default-prediction/data/raw/data_2017-03.parquet /content/data/raw/"
      ],
      "metadata": {
        "id": "b7JL1oqtbITI"
      },
      "execution_count": 3,
      "outputs": []
    },
    {
      "cell_type": "code",
      "source": [
        "!unzip /content/drive/MyDrive/amex-default-prediction/data/raw/amex-default-prediction.zip train_labels.csv"
      ],
      "metadata": {
        "colab": {
          "base_uri": "https://localhost:8080/"
        },
        "id": "AUujDoaqb9WE",
        "outputId": "7a3e478f-f3fc-4567-8b8d-165cb0cd5311"
      },
      "execution_count": 4,
      "outputs": [
        {
          "output_type": "stream",
          "name": "stdout",
          "text": [
            "Archive:  /content/drive/MyDrive/amex-default-prediction/data/raw/amex-default-prediction.zip\n",
            "  inflating: train_labels.csv        \n"
          ]
        }
      ]
    },
    {
      "cell_type": "code",
      "source": [
        "import numpy as np\n",
        "import pandas as pd"
      ],
      "metadata": {
        "id": "Y8fWbGijay2g"
      },
      "execution_count": 5,
      "outputs": []
    },
    {
      "cell_type": "code",
      "source": [
        "TRAIN_DATA_PATH = '/content/data/raw/data_2017-03.parquet'\n",
        "TRAIN_LABELS_PATH = '/content/data/raw/train_labels.csv'"
      ],
      "metadata": {
        "id": "byaEihizbSBF"
      },
      "execution_count": 6,
      "outputs": []
    },
    {
      "cell_type": "code",
      "source": [
        "df = pd.read_parquet(TRAIN_DATA_PATH)"
      ],
      "metadata": {
        "id": "Zgh2JRu1a-Wa"
      },
      "execution_count": 7,
      "outputs": []
    },
    {
      "cell_type": "code",
      "source": [
        "df.info()"
      ],
      "metadata": {
        "colab": {
          "base_uri": "https://localhost:8080/"
        },
        "id": "8OYA3JufbaoU",
        "outputId": "d5e9af9b-ed01-496f-af99-e950028143c7"
      },
      "execution_count": 8,
      "outputs": [
        {
          "output_type": "stream",
          "name": "stdout",
          "text": [
            "<class 'pandas.core.frame.DataFrame'>\n",
            "RangeIndex: 395630 entries, 0 to 395629\n",
            "Columns: 190 entries, customer_ID to D_145\n",
            "dtypes: datetime64[ns](1), float64(185), int64(1), object(3)\n",
            "memory usage: 573.5+ MB\n"
          ]
        }
      ]
    },
    {
      "cell_type": "code",
      "source": [
        "df['customer_ID'].nunique()"
      ],
      "metadata": {
        "colab": {
          "base_uri": "https://localhost:8080/"
        },
        "id": "9_FnjzUlbelH",
        "outputId": "da05e724-4a08-4d89-d9cd-caab3b4d5949"
      },
      "execution_count": 9,
      "outputs": [
        {
          "output_type": "execute_result",
          "data": {
            "text/plain": [
              "395630"
            ]
          },
          "metadata": {},
          "execution_count": 9
        }
      ]
    },
    {
      "cell_type": "code",
      "source": [
        "def read_cols(cols):\n",
        "  df = pd.read_csv(TRAIN_DATA_PATH, usecols=cols)\n",
        "  df = append_label(df)\n",
        "  return df\n",
        "\n",
        "def append_label(source_df):\n",
        "  return pd.merge(left=source_df, right=train_labels, how='inner')"
      ],
      "metadata": {
        "id": "2ME4Pv_WcbH9"
      },
      "execution_count": 10,
      "outputs": []
    },
    {
      "cell_type": "code",
      "source": [
        "train_labels = pd.read_csv(TRAIN_LABELS_PATH)"
      ],
      "metadata": {
        "id": "BWZfLXUSbg48"
      },
      "execution_count": 11,
      "outputs": []
    },
    {
      "cell_type": "code",
      "source": [
        "df = append_label(df)"
      ],
      "metadata": {
        "id": "Ac0WZqH6cYWV"
      },
      "execution_count": 12,
      "outputs": []
    },
    {
      "cell_type": "code",
      "source": [
        "df.info()"
      ],
      "metadata": {
        "colab": {
          "base_uri": "https://localhost:8080/"
        },
        "id": "u_JAawL8chcu",
        "outputId": "17c20d3e-52ba-497d-b69a-3155de4d9ac2"
      },
      "execution_count": 13,
      "outputs": [
        {
          "output_type": "stream",
          "name": "stdout",
          "text": [
            "<class 'pandas.core.frame.DataFrame'>\n",
            "Int64Index: 395630 entries, 0 to 395629\n",
            "Columns: 191 entries, customer_ID to target\n",
            "dtypes: datetime64[ns](1), float64(185), int64(2), object(3)\n",
            "memory usage: 579.5+ MB\n"
          ]
        }
      ]
    },
    {
      "cell_type": "code",
      "source": [
        "cat_cols = ['D_63', 'D_64','B_30', 'B_38', 'D_114', 'D_116', 'D_117', 'D_120', 'D_126', 'D_66', 'D_68']"
      ],
      "metadata": {
        "id": "AZ4bNcHvwzUj"
      },
      "execution_count": 14,
      "outputs": []
    },
    {
      "cell_type": "code",
      "source": [
        "df[cat_cols].isnull().sum() "
      ],
      "metadata": {
        "colab": {
          "base_uri": "https://localhost:8080/"
        },
        "id": "_sCtItsou-lC",
        "outputId": "60c738de-f758-4f22-b08e-cb78807433e2"
      },
      "execution_count": 15,
      "outputs": [
        {
          "output_type": "execute_result",
          "data": {
            "text/plain": [
              "D_63          0\n",
              "D_64      24578\n",
              "B_30        199\n",
              "B_38        199\n",
              "D_114     14105\n",
              "D_116     14105\n",
              "D_117     14105\n",
              "D_120     14105\n",
              "D_126     14105\n",
              "D_66     352773\n",
              "D_68      24578\n",
              "dtype: int64"
            ]
          },
          "metadata": {},
          "execution_count": 15
        }
      ]
    },
    {
      "cell_type": "code",
      "source": [
        "df[cat_cols].info()"
      ],
      "metadata": {
        "colab": {
          "base_uri": "https://localhost:8080/"
        },
        "id": "nEsCYkkRxFkE",
        "outputId": "e06d339c-ac6a-44ce-9fdc-3c41d65ccb7f"
      },
      "execution_count": 16,
      "outputs": [
        {
          "output_type": "stream",
          "name": "stdout",
          "text": [
            "<class 'pandas.core.frame.DataFrame'>\n",
            "Int64Index: 395630 entries, 0 to 395629\n",
            "Data columns (total 11 columns):\n",
            " #   Column  Non-Null Count   Dtype  \n",
            "---  ------  --------------   -----  \n",
            " 0   D_63    395630 non-null  object \n",
            " 1   D_64    371052 non-null  object \n",
            " 2   B_30    395431 non-null  float64\n",
            " 3   B_38    395431 non-null  float64\n",
            " 4   D_114   381525 non-null  float64\n",
            " 5   D_116   381525 non-null  float64\n",
            " 6   D_117   381525 non-null  float64\n",
            " 7   D_120   381525 non-null  float64\n",
            " 8   D_126   381525 non-null  float64\n",
            " 9   D_66    42857 non-null   float64\n",
            " 10  D_68    371052 non-null  float64\n",
            "dtypes: float64(9), object(2)\n",
            "memory usage: 36.2+ MB\n"
          ]
        }
      ]
    },
    {
      "cell_type": "code",
      "source": [
        "from sklearn.preprocessing import OrdinalEncoder"
      ],
      "metadata": {
        "id": "ag13WsKHxY71"
      },
      "execution_count": 17,
      "outputs": []
    },
    {
      "cell_type": "code",
      "source": [
        " enc = OrdinalEncoder(handle_unknown='use_encoded_value', unknown_value=-1)"
      ],
      "metadata": {
        "id": "wDLy4ijTzteZ"
      },
      "execution_count": 18,
      "outputs": []
    },
    {
      "cell_type": "code",
      "source": [
        "df[['D_63', 'D_64']]=enc.fit_transform(df[['D_63', 'D_64']])"
      ],
      "metadata": {
        "id": "mMkHgCJexZ9g"
      },
      "execution_count": 19,
      "outputs": []
    },
    {
      "cell_type": "code",
      "source": [
        "enc.categories_"
      ],
      "metadata": {
        "colab": {
          "base_uri": "https://localhost:8080/"
        },
        "id": "njmYRGbu4NZ9",
        "outputId": "0fcf1e85-d81d-4177-b4ca-3b4574d7e889"
      },
      "execution_count": 20,
      "outputs": [
        {
          "output_type": "execute_result",
          "data": {
            "text/plain": [
              "[array(['CL', 'CO', 'CR', 'XL', 'XM', 'XZ'], dtype=object),\n",
              " array(['-1', 'O', 'R', 'U', None], dtype=object)]"
            ]
          },
          "metadata": {},
          "execution_count": 20
        }
      ]
    },
    {
      "cell_type": "code",
      "source": [
        "df[cat_cols].info()"
      ],
      "metadata": {
        "colab": {
          "base_uri": "https://localhost:8080/"
        },
        "id": "B0ZGlVFI59o9",
        "outputId": "826911f8-0163-48fb-b53f-f92df00340ad"
      },
      "execution_count": 21,
      "outputs": [
        {
          "output_type": "stream",
          "name": "stdout",
          "text": [
            "<class 'pandas.core.frame.DataFrame'>\n",
            "Int64Index: 395630 entries, 0 to 395629\n",
            "Data columns (total 11 columns):\n",
            " #   Column  Non-Null Count   Dtype  \n",
            "---  ------  --------------   -----  \n",
            " 0   D_63    395630 non-null  float64\n",
            " 1   D_64    395630 non-null  float64\n",
            " 2   B_30    395431 non-null  float64\n",
            " 3   B_38    395431 non-null  float64\n",
            " 4   D_114   381525 non-null  float64\n",
            " 5   D_116   381525 non-null  float64\n",
            " 6   D_117   381525 non-null  float64\n",
            " 7   D_120   381525 non-null  float64\n",
            " 8   D_126   381525 non-null  float64\n",
            " 9   D_66    42857 non-null   float64\n",
            " 10  D_68    371052 non-null  float64\n",
            "dtypes: float64(11)\n",
            "memory usage: 36.2 MB\n"
          ]
        }
      ]
    },
    {
      "cell_type": "code",
      "source": [
        "df.info()"
      ],
      "metadata": {
        "colab": {
          "base_uri": "https://localhost:8080/"
        },
        "id": "FudO8S9-6JVx",
        "outputId": "72ca68d0-f428-46b2-df9b-c01b4dbece22"
      },
      "execution_count": 22,
      "outputs": [
        {
          "output_type": "stream",
          "name": "stdout",
          "text": [
            "<class 'pandas.core.frame.DataFrame'>\n",
            "Int64Index: 395630 entries, 0 to 395629\n",
            "Columns: 191 entries, customer_ID to target\n",
            "dtypes: datetime64[ns](1), float64(187), int64(2), object(1)\n",
            "memory usage: 579.5+ MB\n"
          ]
        }
      ]
    },
    {
      "cell_type": "code",
      "source": [
        "df.fillna(0, inplace=True)"
      ],
      "metadata": {
        "id": "rBzLbGkpvgUF"
      },
      "execution_count": 23,
      "outputs": []
    },
    {
      "cell_type": "code",
      "source": [
        "df[cat_cols].info()"
      ],
      "metadata": {
        "colab": {
          "base_uri": "https://localhost:8080/"
        },
        "id": "ZtgsdKgf6DiT",
        "outputId": "5619e99f-ea2b-4e4a-c4d1-ae1e680233f3"
      },
      "execution_count": 24,
      "outputs": [
        {
          "output_type": "stream",
          "name": "stdout",
          "text": [
            "<class 'pandas.core.frame.DataFrame'>\n",
            "Int64Index: 395630 entries, 0 to 395629\n",
            "Data columns (total 11 columns):\n",
            " #   Column  Non-Null Count   Dtype  \n",
            "---  ------  --------------   -----  \n",
            " 0   D_63    395630 non-null  float64\n",
            " 1   D_64    395630 non-null  float64\n",
            " 2   B_30    395630 non-null  float64\n",
            " 3   B_38    395630 non-null  float64\n",
            " 4   D_114   395630 non-null  float64\n",
            " 5   D_116   395630 non-null  float64\n",
            " 6   D_117   395630 non-null  float64\n",
            " 7   D_120   395630 non-null  float64\n",
            " 8   D_126   395630 non-null  float64\n",
            " 9   D_66    395630 non-null  float64\n",
            " 10  D_68    395630 non-null  float64\n",
            "dtypes: float64(11)\n",
            "memory usage: 36.2 MB\n"
          ]
        }
      ]
    },
    {
      "cell_type": "code",
      "source": [
        "from sklearn.model_selection import train_test_split\n"
      ],
      "metadata": {
        "id": "-iju3vb6dlxb"
      },
      "execution_count": 25,
      "outputs": []
    },
    {
      "cell_type": "code",
      "source": [
        "X = df.loc[:, ~df.columns.isin(['customer_ID', 'S_2', 'target'])]\n",
        "X.info()"
      ],
      "metadata": {
        "colab": {
          "base_uri": "https://localhost:8080/"
        },
        "id": "Ob3EnpsyebHH",
        "outputId": "7453918f-dbaa-45ed-ab4c-b264af93f880"
      },
      "execution_count": 26,
      "outputs": [
        {
          "output_type": "stream",
          "name": "stdout",
          "text": [
            "<class 'pandas.core.frame.DataFrame'>\n",
            "Int64Index: 395630 entries, 0 to 395629\n",
            "Columns: 188 entries, P_2 to D_145\n",
            "dtypes: float64(187), int64(1)\n",
            "memory usage: 570.5 MB\n"
          ]
        }
      ]
    },
    {
      "cell_type": "code",
      "source": [
        "Y = df.loc[:, df.columns == 'target']\n",
        "Y.info()"
      ],
      "metadata": {
        "colab": {
          "base_uri": "https://localhost:8080/"
        },
        "id": "OONywPXBfKJ9",
        "outputId": "7684d844-960e-4a84-a294-0ff5219fb8e4"
      },
      "execution_count": 27,
      "outputs": [
        {
          "output_type": "stream",
          "name": "stdout",
          "text": [
            "<class 'pandas.core.frame.DataFrame'>\n",
            "Int64Index: 395630 entries, 0 to 395629\n",
            "Data columns (total 1 columns):\n",
            " #   Column  Non-Null Count   Dtype\n",
            "---  ------  --------------   -----\n",
            " 0   target  395630 non-null  int64\n",
            "dtypes: int64(1)\n",
            "memory usage: 6.0 MB\n"
          ]
        }
      ]
    },
    {
      "cell_type": "code",
      "source": [
        " X_train, X_test, y_train, y_test = train_test_split(X, Y, test_size=0.2)"
      ],
      "metadata": {
        "id": "1R7fzQ4ueFRI"
      },
      "execution_count": 28,
      "outputs": []
    },
    {
      "cell_type": "code",
      "source": [
        "X_train.shape"
      ],
      "metadata": {
        "colab": {
          "base_uri": "https://localhost:8080/"
        },
        "id": "l511GD9nfefW",
        "outputId": "dea560bf-faaa-4438-bebe-85dddf82a0bc"
      },
      "execution_count": 29,
      "outputs": [
        {
          "output_type": "execute_result",
          "data": {
            "text/plain": [
              "(316504, 188)"
            ]
          },
          "metadata": {},
          "execution_count": 29
        }
      ]
    },
    {
      "cell_type": "code",
      "source": [
        "X_test.shape"
      ],
      "metadata": {
        "colab": {
          "base_uri": "https://localhost:8080/"
        },
        "id": "EIIRyKBMfg9K",
        "outputId": "7d2bcee3-25e4-4183-8c12-0178e65ecaff"
      },
      "execution_count": 30,
      "outputs": [
        {
          "output_type": "execute_result",
          "data": {
            "text/plain": [
              "(79126, 188)"
            ]
          },
          "metadata": {},
          "execution_count": 30
        }
      ]
    },
    {
      "cell_type": "code",
      "source": [
        "from sklearn.svm import LinearSVC"
      ],
      "metadata": {
        "id": "1YRRtDnSfi_q"
      },
      "execution_count": 31,
      "outputs": []
    },
    {
      "cell_type": "code",
      "source": [
        "clf = LinearSVC(verbose=1)"
      ],
      "metadata": {
        "id": "nvz7kcD8frrt"
      },
      "execution_count": 32,
      "outputs": []
    },
    {
      "cell_type": "code",
      "source": [
        "clf.fit(X_train, y_train.values.ravel())"
      ],
      "metadata": {
        "id": "d-Ho-fcIf3vw",
        "colab": {
          "base_uri": "https://localhost:8080/"
        },
        "outputId": "f25b17e7-ab50-4b68-b2d2-2164754bde76"
      },
      "execution_count": 33,
      "outputs": [
        {
          "output_type": "stream",
          "name": "stdout",
          "text": [
            "[LibLinear]"
          ]
        },
        {
          "output_type": "stream",
          "name": "stderr",
          "text": [
            "/usr/local/lib/python3.7/dist-packages/sklearn/svm/_base.py:1208: ConvergenceWarning: Liblinear failed to converge, increase the number of iterations.\n",
            "  ConvergenceWarning,\n"
          ]
        },
        {
          "output_type": "execute_result",
          "data": {
            "text/plain": [
              "LinearSVC(verbose=1)"
            ]
          },
          "metadata": {},
          "execution_count": 33
        }
      ]
    },
    {
      "cell_type": "code",
      "source": [
        ""
      ],
      "metadata": {
        "id": "JVnuAoLyMzPU"
      },
      "execution_count": null,
      "outputs": []
    }
  ]
}