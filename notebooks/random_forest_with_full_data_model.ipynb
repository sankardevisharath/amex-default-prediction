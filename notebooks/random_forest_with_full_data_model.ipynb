{
  "nbformat": 4,
  "nbformat_minor": 0,
  "metadata": {
    "colab": {
      "name": "random_forest_with_full_data_model.ipynb",
      "provenance": [],
      "collapsed_sections": [],
      "machine_shape": "hm",
      "mount_file_id": "1R_BcQBEesANKZTUg_HquVU0PxRsYiN3N",
      "authorship_tag": "ABX9TyOWBRfK+/1ZjFnzYV93OvGa",
      "include_colab_link": true
    },
    "kernelspec": {
      "name": "python3",
      "display_name": "Python 3"
    },
    "language_info": {
      "name": "python"
    },
    "gpuClass": "standard"
  },
  "cells": [
    {
      "cell_type": "markdown",
      "metadata": {
        "id": "view-in-github",
        "colab_type": "text"
      },
      "source": [
        "<a href=\"https://colab.research.google.com/github/sankardevisharath/amex-default-prediction/blob/master/notebooks/random_forest_with_full_data_model.ipynb\" target=\"_parent\"><img src=\"https://colab.research.google.com/assets/colab-badge.svg\" alt=\"Open In Colab\"/></a>"
      ]
    },
    {
      "cell_type": "code",
      "source": [
        "from os import listdir\n",
        "\n",
        "files = listdir('/content/drive/MyDrive/amex-default-prediction/data/raw/')"
      ],
      "metadata": {
        "id": "qDhpXsRkbY7g"
      },
      "execution_count": null,
      "outputs": []
    },
    {
      "cell_type": "code",
      "source": [
        "import gc \n",
        "\n",
        "import numpy as np\n",
        "import pandas as pd\n",
        "from sklearn.preprocessing import OrdinalEncoder\n",
        "from sklearn.model_selection import train_test_split\n",
        "from sklearn.ensemble import RandomForestClassifier\n",
        "from sklearn.metrics import confusion_matrix\n",
        "from sklearn.metrics import f1_score"
      ],
      "metadata": {
        "id": "nx_k17C4dJpj"
      },
      "execution_count": null,
      "outputs": []
    },
    {
      "cell_type": "code",
      "source": [
        "cat_cols = ['D_63', 'D_64','B_30', 'B_38', 'D_114', 'D_116', 'D_117', 'D_120', 'D_126', 'D_66', 'D_68']\n",
        "TRAIN_LABELS_PATH = '/content/train_labels.csv'"
      ],
      "metadata": {
        "id": "IdDL1GU3gPxH"
      },
      "execution_count": null,
      "outputs": []
    },
    {
      "cell_type": "code",
      "source": [
        "!unzip /content/drive/MyDrive/amex-default-prediction/data/amex-default-prediction.zip \\\n",
        " train_labels.csv"
      ],
      "metadata": {
        "colab": {
          "base_uri": "https://localhost:8080/"
        },
        "id": "tOb-N7dCiaDi",
        "outputId": "680d4362-9ef2-4be8-edf2-98bb39c92d29"
      },
      "execution_count": null,
      "outputs": [
        {
          "output_type": "stream",
          "name": "stdout",
          "text": [
            "Archive:  /content/drive/MyDrive/amex-default-prediction/data/amex-default-prediction.zip\n",
            "  inflating: train_labels.csv        \n"
          ]
        }
      ]
    },
    {
      "cell_type": "code",
      "source": [
        "train_labels = pd.read_csv(TRAIN_LABELS_PATH)"
      ],
      "metadata": {
        "id": "0cIgqjH2hMML"
      },
      "execution_count": null,
      "outputs": []
    },
    {
      "cell_type": "code",
      "source": [
        "def append_label(source_df):\n",
        "  return pd.merge(left=source_df, right=train_labels, how='inner')"
      ],
      "metadata": {
        "id": "eAEoVByIgU-W"
      },
      "execution_count": null,
      "outputs": []
    },
    {
      "cell_type": "code",
      "source": [
        "flag = True\n",
        "X = pd.DataFrame()\n",
        "Y = pd.DataFrame()\n",
        "\n",
        "for f in files:\n",
        "  print(f)\n",
        "  df_tmp = pd.read_parquet('/content/drive/MyDrive/amex-default-prediction/data/raw/' + f)\n",
        "  df_tmp = append_label(df_tmp)\n",
        "\n",
        "\n",
        "  if(flag):\n",
        "     enc = OrdinalEncoder(handle_unknown='use_encoded_value', unknown_value=-1)\n",
        "     df_tmp[['D_63', 'D_64']]=enc.fit(df_tmp[['D_63', 'D_64']])\n",
        "     flag = False\n",
        "\n",
        "  df_tmp[['D_63', 'D_64']]=enc.transform(df_tmp[['D_63', 'D_64']])\n",
        "  df_tmp.fillna(0, inplace=True)\n",
        "\n",
        "  X= X.append(df_tmp.loc[:, ~df_tmp.columns.isin(['customer_ID', 'S_2', 'target'])])\n",
        "\n",
        "  Y = Y.append(df_tmp.loc[:, df_tmp.columns == 'target'])\n",
        "\n",
        "  \n",
        "  del df_tmp\n",
        "  gc.collect()\n"
      ],
      "metadata": {
        "colab": {
          "base_uri": "https://localhost:8080/"
        },
        "id": "Ivmf5DcQc6tP",
        "outputId": "9ce5908a-feb8-4fba-f594-f663e1995c88"
      },
      "execution_count": null,
      "outputs": [
        {
          "output_type": "stream",
          "name": "stdout",
          "text": [
            "data_2017-04.parquet\n",
            "data_2017-05.parquet\n",
            "data_2017-06.parquet\n",
            "data_2017-03.parquet\n",
            "data_2017-07.parquet\n",
            "data_2017-08.parquet\n",
            "data_2017-09.parquet\n",
            "data_2017-10.parquet\n",
            "data_2017-11.parquet\n",
            "data_2017-12.parquet\n",
            "data_2018-01.parquet\n",
            "data_2018-02.parquet\n",
            "data_2018-03.parquet\n"
          ]
        }
      ]
    },
    {
      "cell_type": "code",
      "source": [
        " X_train, X_test, y_train, y_test = train_test_split(X, Y, test_size=0.2)"
      ],
      "metadata": {
        "id": "1R7fzQ4ueFRI"
      },
      "execution_count": null,
      "outputs": []
    },
    {
      "cell_type": "code",
      "source": [
        "gc.collect()"
      ],
      "metadata": {
        "colab": {
          "base_uri": "https://localhost:8080/"
        },
        "id": "-T0WHRL6qP6j",
        "outputId": "f4a4e6a7-aeb5-4911-8c14-967147638b82"
      },
      "execution_count": null,
      "outputs": [
        {
          "output_type": "execute_result",
          "data": {
            "text/plain": [
              "102"
            ]
          },
          "metadata": {},
          "execution_count": 9
        }
      ]
    },
    {
      "cell_type": "code",
      "source": [
        "del X, Y"
      ],
      "metadata": {
        "id": "OFhJ34_GqSXX"
      },
      "execution_count": null,
      "outputs": []
    },
    {
      "cell_type": "code",
      "source": [
        "gc.collect()"
      ],
      "metadata": {
        "colab": {
          "base_uri": "https://localhost:8080/"
        },
        "id": "xfMZBQqUqVd3",
        "outputId": "0402df66-e940-4164-8457-43c156ea15ed"
      },
      "execution_count": null,
      "outputs": [
        {
          "output_type": "execute_result",
          "data": {
            "text/plain": [
              "100"
            ]
          },
          "metadata": {},
          "execution_count": 11
        }
      ]
    },
    {
      "cell_type": "code",
      "source": [
        "clf = RandomForestClassifier(max_samples = 60000, verbose=1000)"
      ],
      "metadata": {
        "id": "nvz7kcD8frrt"
      },
      "execution_count": null,
      "outputs": []
    },
    {
      "cell_type": "code",
      "source": [
        "clf.fit(X_train, y_train.values.ravel())"
      ],
      "metadata": {
        "id": "d-Ho-fcIf3vw",
        "colab": {
          "base_uri": "https://localhost:8080/"
        },
        "outputId": "903fbac0-914a-4609-9327-c8d49674675e"
      },
      "execution_count": null,
      "outputs": [
        {
          "output_type": "stream",
          "name": "stdout",
          "text": [
            "[Parallel(n_jobs=1)]: Using backend SequentialBackend with 1 concurrent workers.\n",
            "building tree 1 of 100\n",
            "[Parallel(n_jobs=1)]: Done   1 out of   1 | elapsed:    3.8s remaining:    0.0s\n",
            "building tree 2 of 100\n",
            "[Parallel(n_jobs=1)]: Done   2 out of   2 | elapsed:    7.6s remaining:    0.0s\n",
            "building tree 3 of 100\n",
            "[Parallel(n_jobs=1)]: Done   3 out of   3 | elapsed:   11.2s remaining:    0.0s\n",
            "building tree 4 of 100\n",
            "[Parallel(n_jobs=1)]: Done   4 out of   4 | elapsed:   14.9s remaining:    0.0s\n",
            "building tree 5 of 100\n",
            "[Parallel(n_jobs=1)]: Done   5 out of   5 | elapsed:   18.5s remaining:    0.0s\n",
            "building tree 6 of 100\n",
            "[Parallel(n_jobs=1)]: Done   6 out of   6 | elapsed:   21.8s remaining:    0.0s\n",
            "building tree 7 of 100\n",
            "[Parallel(n_jobs=1)]: Done   7 out of   7 | elapsed:   25.2s remaining:    0.0s\n",
            "building tree 8 of 100\n",
            "[Parallel(n_jobs=1)]: Done   8 out of   8 | elapsed:   28.9s remaining:    0.0s\n",
            "building tree 9 of 100\n",
            "[Parallel(n_jobs=1)]: Done   9 out of   9 | elapsed:   32.1s remaining:    0.0s\n",
            "building tree 10 of 100\n",
            "[Parallel(n_jobs=1)]: Done  10 out of  10 | elapsed:   35.6s remaining:    0.0s\n",
            "building tree 11 of 100\n",
            "[Parallel(n_jobs=1)]: Done  11 out of  11 | elapsed:   39.0s remaining:    0.0s\n",
            "building tree 12 of 100\n",
            "[Parallel(n_jobs=1)]: Done  12 out of  12 | elapsed:   42.4s remaining:    0.0s\n",
            "building tree 13 of 100\n",
            "[Parallel(n_jobs=1)]: Done  13 out of  13 | elapsed:   45.9s remaining:    0.0s\n",
            "building tree 14 of 100\n",
            "[Parallel(n_jobs=1)]: Done  14 out of  14 | elapsed:   49.3s remaining:    0.0s\n",
            "building tree 15 of 100\n",
            "[Parallel(n_jobs=1)]: Done  15 out of  15 | elapsed:   52.6s remaining:    0.0s\n",
            "building tree 16 of 100\n",
            "[Parallel(n_jobs=1)]: Done  16 out of  16 | elapsed:   55.9s remaining:    0.0s\n",
            "building tree 17 of 100\n",
            "[Parallel(n_jobs=1)]: Done  17 out of  17 | elapsed:   59.7s remaining:    0.0s\n",
            "building tree 18 of 100\n",
            "[Parallel(n_jobs=1)]: Done  18 out of  18 | elapsed:  1.1min remaining:    0.0s\n",
            "building tree 19 of 100\n",
            "[Parallel(n_jobs=1)]: Done  19 out of  19 | elapsed:  1.1min remaining:    0.0s\n",
            "building tree 20 of 100\n",
            "[Parallel(n_jobs=1)]: Done  20 out of  20 | elapsed:  1.2min remaining:    0.0s\n",
            "building tree 21 of 100\n",
            "[Parallel(n_jobs=1)]: Done  21 out of  21 | elapsed:  1.2min remaining:    0.0s\n",
            "building tree 22 of 100\n",
            "[Parallel(n_jobs=1)]: Done  22 out of  22 | elapsed:  1.3min remaining:    0.0s\n",
            "building tree 23 of 100\n",
            "[Parallel(n_jobs=1)]: Done  23 out of  23 | elapsed:  1.4min remaining:    0.0s\n",
            "building tree 24 of 100\n",
            "[Parallel(n_jobs=1)]: Done  24 out of  24 | elapsed:  1.4min remaining:    0.0s\n",
            "building tree 25 of 100\n",
            "[Parallel(n_jobs=1)]: Done  25 out of  25 | elapsed:  1.5min remaining:    0.0s\n",
            "building tree 26 of 100\n",
            "[Parallel(n_jobs=1)]: Done  26 out of  26 | elapsed:  1.5min remaining:    0.0s\n",
            "building tree 27 of 100\n",
            "[Parallel(n_jobs=1)]: Done  27 out of  27 | elapsed:  1.6min remaining:    0.0s\n",
            "building tree 28 of 100\n",
            "[Parallel(n_jobs=1)]: Done  28 out of  28 | elapsed:  1.7min remaining:    0.0s\n",
            "building tree 29 of 100\n",
            "[Parallel(n_jobs=1)]: Done  29 out of  29 | elapsed:  1.7min remaining:    0.0s\n",
            "building tree 30 of 100\n",
            "[Parallel(n_jobs=1)]: Done  30 out of  30 | elapsed:  1.8min remaining:    0.0s\n",
            "building tree 31 of 100\n",
            "[Parallel(n_jobs=1)]: Done  31 out of  31 | elapsed:  1.9min remaining:    0.0s\n",
            "building tree 32 of 100\n",
            "[Parallel(n_jobs=1)]: Done  32 out of  32 | elapsed:  1.9min remaining:    0.0s\n",
            "building tree 33 of 100\n",
            "[Parallel(n_jobs=1)]: Done  33 out of  33 | elapsed:  2.0min remaining:    0.0s\n",
            "building tree 34 of 100\n",
            "[Parallel(n_jobs=1)]: Done  34 out of  34 | elapsed:  2.0min remaining:    0.0s\n",
            "building tree 35 of 100\n",
            "[Parallel(n_jobs=1)]: Done  35 out of  35 | elapsed:  2.1min remaining:    0.0s\n",
            "building tree 36 of 100\n",
            "[Parallel(n_jobs=1)]: Done  36 out of  36 | elapsed:  2.1min remaining:    0.0s\n",
            "building tree 37 of 100\n",
            "[Parallel(n_jobs=1)]: Done  37 out of  37 | elapsed:  2.2min remaining:    0.0s\n",
            "building tree 38 of 100\n",
            "[Parallel(n_jobs=1)]: Done  38 out of  38 | elapsed:  2.3min remaining:    0.0s\n",
            "building tree 39 of 100\n",
            "[Parallel(n_jobs=1)]: Done  39 out of  39 | elapsed:  2.3min remaining:    0.0s\n",
            "building tree 40 of 100\n",
            "[Parallel(n_jobs=1)]: Done  40 out of  40 | elapsed:  2.4min remaining:    0.0s\n",
            "building tree 41 of 100\n",
            "[Parallel(n_jobs=1)]: Done  41 out of  41 | elapsed:  2.5min remaining:    0.0s\n",
            "building tree 42 of 100\n",
            "[Parallel(n_jobs=1)]: Done  42 out of  42 | elapsed:  2.5min remaining:    0.0s\n",
            "building tree 43 of 100\n",
            "[Parallel(n_jobs=1)]: Done  43 out of  43 | elapsed:  2.6min remaining:    0.0s\n",
            "building tree 44 of 100\n",
            "[Parallel(n_jobs=1)]: Done  44 out of  44 | elapsed:  2.7min remaining:    0.0s\n",
            "building tree 45 of 100\n",
            "[Parallel(n_jobs=1)]: Done  45 out of  45 | elapsed:  2.7min remaining:    0.0s\n",
            "building tree 46 of 100\n",
            "[Parallel(n_jobs=1)]: Done  46 out of  46 | elapsed:  2.8min remaining:    0.0s\n",
            "building tree 47 of 100\n",
            "[Parallel(n_jobs=1)]: Done  47 out of  47 | elapsed:  2.9min remaining:    0.0s\n",
            "building tree 48 of 100\n",
            "[Parallel(n_jobs=1)]: Done  48 out of  48 | elapsed:  2.9min remaining:    0.0s\n",
            "building tree 49 of 100\n",
            "[Parallel(n_jobs=1)]: Done  49 out of  49 | elapsed:  3.0min remaining:    0.0s\n",
            "building tree 50 of 100\n",
            "[Parallel(n_jobs=1)]: Done  50 out of  50 | elapsed:  3.0min remaining:    0.0s\n",
            "building tree 51 of 100\n",
            "[Parallel(n_jobs=1)]: Done  51 out of  51 | elapsed:  3.1min remaining:    0.0s\n",
            "building tree 52 of 100\n",
            "[Parallel(n_jobs=1)]: Done  52 out of  52 | elapsed:  3.2min remaining:    0.0s\n",
            "building tree 53 of 100\n",
            "[Parallel(n_jobs=1)]: Done  53 out of  53 | elapsed:  3.2min remaining:    0.0s\n",
            "building tree 54 of 100\n",
            "[Parallel(n_jobs=1)]: Done  54 out of  54 | elapsed:  3.3min remaining:    0.0s\n",
            "building tree 55 of 100\n",
            "[Parallel(n_jobs=1)]: Done  55 out of  55 | elapsed:  3.3min remaining:    0.0s\n",
            "building tree 56 of 100\n",
            "[Parallel(n_jobs=1)]: Done  56 out of  56 | elapsed:  3.4min remaining:    0.0s\n",
            "building tree 57 of 100\n",
            "[Parallel(n_jobs=1)]: Done  57 out of  57 | elapsed:  3.5min remaining:    0.0s\n",
            "building tree 58 of 100\n",
            "[Parallel(n_jobs=1)]: Done  58 out of  58 | elapsed:  3.5min remaining:    0.0s\n",
            "building tree 59 of 100\n",
            "[Parallel(n_jobs=1)]: Done  59 out of  59 | elapsed:  3.6min remaining:    0.0s\n",
            "building tree 60 of 100\n",
            "[Parallel(n_jobs=1)]: Done  60 out of  60 | elapsed:  3.7min remaining:    0.0s\n",
            "building tree 61 of 100\n",
            "[Parallel(n_jobs=1)]: Done  61 out of  61 | elapsed:  3.7min remaining:    0.0s\n",
            "building tree 62 of 100\n",
            "[Parallel(n_jobs=1)]: Done  62 out of  62 | elapsed:  3.8min remaining:    0.0s\n",
            "building tree 63 of 100\n",
            "[Parallel(n_jobs=1)]: Done  63 out of  63 | elapsed:  3.8min remaining:    0.0s\n",
            "building tree 64 of 100\n",
            "[Parallel(n_jobs=1)]: Done  64 out of  64 | elapsed:  3.9min remaining:    0.0s\n",
            "building tree 65 of 100\n",
            "[Parallel(n_jobs=1)]: Done  65 out of  65 | elapsed:  4.0min remaining:    0.0s\n",
            "building tree 66 of 100\n",
            "[Parallel(n_jobs=1)]: Done  66 out of  66 | elapsed:  4.0min remaining:    0.0s\n",
            "building tree 67 of 100\n",
            "[Parallel(n_jobs=1)]: Done  67 out of  67 | elapsed:  4.1min remaining:    0.0s\n",
            "building tree 68 of 100\n",
            "[Parallel(n_jobs=1)]: Done  68 out of  68 | elapsed:  4.1min remaining:    0.0s\n",
            "building tree 69 of 100\n",
            "[Parallel(n_jobs=1)]: Done  69 out of  69 | elapsed:  4.2min remaining:    0.0s\n",
            "building tree 70 of 100\n",
            "[Parallel(n_jobs=1)]: Done  70 out of  70 | elapsed:  4.3min remaining:    0.0s\n",
            "building tree 71 of 100\n",
            "[Parallel(n_jobs=1)]: Done  71 out of  71 | elapsed:  4.3min remaining:    0.0s\n",
            "building tree 72 of 100\n",
            "[Parallel(n_jobs=1)]: Done  72 out of  72 | elapsed:  4.4min remaining:    0.0s\n",
            "building tree 73 of 100\n",
            "[Parallel(n_jobs=1)]: Done  73 out of  73 | elapsed:  4.4min remaining:    0.0s\n",
            "building tree 74 of 100\n",
            "[Parallel(n_jobs=1)]: Done  74 out of  74 | elapsed:  4.5min remaining:    0.0s\n",
            "building tree 75 of 100\n",
            "[Parallel(n_jobs=1)]: Done  75 out of  75 | elapsed:  4.6min remaining:    0.0s\n",
            "building tree 76 of 100\n",
            "[Parallel(n_jobs=1)]: Done  76 out of  76 | elapsed:  4.6min remaining:    0.0s\n",
            "building tree 77 of 100\n",
            "[Parallel(n_jobs=1)]: Done  77 out of  77 | elapsed:  4.7min remaining:    0.0s\n",
            "building tree 78 of 100\n",
            "[Parallel(n_jobs=1)]: Done  78 out of  78 | elapsed:  4.8min remaining:    0.0s\n",
            "building tree 79 of 100\n",
            "[Parallel(n_jobs=1)]: Done  79 out of  79 | elapsed:  4.8min remaining:    0.0s\n",
            "building tree 80 of 100\n",
            "[Parallel(n_jobs=1)]: Done  80 out of  80 | elapsed:  4.9min remaining:    0.0s\n",
            "building tree 81 of 100\n",
            "[Parallel(n_jobs=1)]: Done  81 out of  81 | elapsed:  4.9min remaining:    0.0s\n",
            "building tree 82 of 100\n",
            "[Parallel(n_jobs=1)]: Done  82 out of  82 | elapsed:  5.0min remaining:    0.0s\n",
            "building tree 83 of 100\n",
            "[Parallel(n_jobs=1)]: Done  83 out of  83 | elapsed:  5.0min remaining:    0.0s\n",
            "building tree 84 of 100\n",
            "[Parallel(n_jobs=1)]: Done  84 out of  84 | elapsed:  5.1min remaining:    0.0s\n",
            "building tree 85 of 100\n",
            "[Parallel(n_jobs=1)]: Done  85 out of  85 | elapsed:  5.2min remaining:    0.0s\n",
            "building tree 86 of 100\n",
            "[Parallel(n_jobs=1)]: Done  86 out of  86 | elapsed:  5.2min remaining:    0.0s\n",
            "building tree 87 of 100\n",
            "[Parallel(n_jobs=1)]: Done  87 out of  87 | elapsed:  5.3min remaining:    0.0s\n",
            "building tree 88 of 100\n",
            "[Parallel(n_jobs=1)]: Done  88 out of  88 | elapsed:  5.4min remaining:    0.0s\n",
            "building tree 89 of 100\n",
            "[Parallel(n_jobs=1)]: Done  89 out of  89 | elapsed:  5.4min remaining:    0.0s\n",
            "building tree 90 of 100\n",
            "[Parallel(n_jobs=1)]: Done  90 out of  90 | elapsed:  5.5min remaining:    0.0s\n",
            "building tree 91 of 100\n",
            "[Parallel(n_jobs=1)]: Done  91 out of  91 | elapsed:  5.5min remaining:    0.0s\n",
            "building tree 92 of 100\n",
            "[Parallel(n_jobs=1)]: Done  92 out of  92 | elapsed:  5.6min remaining:    0.0s\n",
            "building tree 93 of 100\n",
            "[Parallel(n_jobs=1)]: Done  93 out of  93 | elapsed:  5.6min remaining:    0.0s\n",
            "building tree 94 of 100\n",
            "[Parallel(n_jobs=1)]: Done  94 out of  94 | elapsed:  5.7min remaining:    0.0s\n",
            "building tree 95 of 100\n",
            "[Parallel(n_jobs=1)]: Done  95 out of  95 | elapsed:  5.8min remaining:    0.0s\n",
            "building tree 96 of 100\n",
            "[Parallel(n_jobs=1)]: Done  96 out of  96 | elapsed:  5.8min remaining:    0.0s\n",
            "building tree 97 of 100\n",
            "[Parallel(n_jobs=1)]: Done  97 out of  97 | elapsed:  5.9min remaining:    0.0s\n",
            "building tree 98 of 100\n",
            "[Parallel(n_jobs=1)]: Done  98 out of  98 | elapsed:  5.9min remaining:    0.0s\n",
            "building tree 99 of 100\n",
            "[Parallel(n_jobs=1)]: Done  99 out of  99 | elapsed:  6.0min remaining:    0.0s\n",
            "building tree 100 of 100\n",
            "[Parallel(n_jobs=1)]: Done 100 out of 100 | elapsed:  6.1min remaining:    0.0s\n",
            "[Parallel(n_jobs=1)]: Done 100 out of 100 | elapsed:  6.1min finished\n"
          ]
        },
        {
          "output_type": "execute_result",
          "data": {
            "text/plain": [
              "RandomForestClassifier(max_samples=60000, verbose=1000)"
            ]
          },
          "metadata": {},
          "execution_count": 13
        }
      ]
    },
    {
      "cell_type": "code",
      "source": [
        "clf.score(X_test, y_test)"
      ],
      "metadata": {
        "colab": {
          "base_uri": "https://localhost:8080/"
        },
        "id": "ibJJW5MSTYwU",
        "outputId": "8e898ea4-e944-415e-a8f3-d0740d9e6903"
      },
      "execution_count": null,
      "outputs": [
        {
          "output_type": "stream",
          "name": "stdout",
          "text": [
            "[Parallel(n_jobs=1)]: Using backend SequentialBackend with 1 concurrent workers.\n",
            "[Parallel(n_jobs=1)]: Done   1 out of   1 | elapsed:    0.5s remaining:    0.0s\n",
            "[Parallel(n_jobs=1)]: Done   2 out of   2 | elapsed:    0.9s remaining:    0.0s\n",
            "[Parallel(n_jobs=1)]: Done   3 out of   3 | elapsed:    1.4s remaining:    0.0s\n",
            "[Parallel(n_jobs=1)]: Done   4 out of   4 | elapsed:    1.8s remaining:    0.0s\n",
            "[Parallel(n_jobs=1)]: Done   5 out of   5 | elapsed:    2.3s remaining:    0.0s\n",
            "[Parallel(n_jobs=1)]: Done   6 out of   6 | elapsed:    2.7s remaining:    0.0s\n",
            "[Parallel(n_jobs=1)]: Done   7 out of   7 | elapsed:    3.1s remaining:    0.0s\n",
            "[Parallel(n_jobs=1)]: Done   8 out of   8 | elapsed:    3.6s remaining:    0.0s\n",
            "[Parallel(n_jobs=1)]: Done   9 out of   9 | elapsed:    4.0s remaining:    0.0s\n",
            "[Parallel(n_jobs=1)]: Done  10 out of  10 | elapsed:    4.4s remaining:    0.0s\n",
            "[Parallel(n_jobs=1)]: Done  11 out of  11 | elapsed:    4.9s remaining:    0.0s\n",
            "[Parallel(n_jobs=1)]: Done  12 out of  12 | elapsed:    5.3s remaining:    0.0s\n",
            "[Parallel(n_jobs=1)]: Done  13 out of  13 | elapsed:    5.8s remaining:    0.0s\n",
            "[Parallel(n_jobs=1)]: Done  14 out of  14 | elapsed:    6.2s remaining:    0.0s\n",
            "[Parallel(n_jobs=1)]: Done  15 out of  15 | elapsed:    6.7s remaining:    0.0s\n",
            "[Parallel(n_jobs=1)]: Done  16 out of  16 | elapsed:    7.1s remaining:    0.0s\n",
            "[Parallel(n_jobs=1)]: Done  17 out of  17 | elapsed:    7.6s remaining:    0.0s\n",
            "[Parallel(n_jobs=1)]: Done  18 out of  18 | elapsed:    8.0s remaining:    0.0s\n",
            "[Parallel(n_jobs=1)]: Done  19 out of  19 | elapsed:    8.5s remaining:    0.0s\n",
            "[Parallel(n_jobs=1)]: Done  20 out of  20 | elapsed:    8.9s remaining:    0.0s\n",
            "[Parallel(n_jobs=1)]: Done  21 out of  21 | elapsed:    9.4s remaining:    0.0s\n",
            "[Parallel(n_jobs=1)]: Done  22 out of  22 | elapsed:    9.8s remaining:    0.0s\n",
            "[Parallel(n_jobs=1)]: Done  23 out of  23 | elapsed:   10.3s remaining:    0.0s\n",
            "[Parallel(n_jobs=1)]: Done  24 out of  24 | elapsed:   10.7s remaining:    0.0s\n",
            "[Parallel(n_jobs=1)]: Done  25 out of  25 | elapsed:   11.2s remaining:    0.0s\n",
            "[Parallel(n_jobs=1)]: Done  26 out of  26 | elapsed:   11.6s remaining:    0.0s\n",
            "[Parallel(n_jobs=1)]: Done  27 out of  27 | elapsed:   12.1s remaining:    0.0s\n",
            "[Parallel(n_jobs=1)]: Done  28 out of  28 | elapsed:   12.5s remaining:    0.0s\n",
            "[Parallel(n_jobs=1)]: Done  29 out of  29 | elapsed:   13.0s remaining:    0.0s\n",
            "[Parallel(n_jobs=1)]: Done  30 out of  30 | elapsed:   13.4s remaining:    0.0s\n",
            "[Parallel(n_jobs=1)]: Done  31 out of  31 | elapsed:   13.9s remaining:    0.0s\n",
            "[Parallel(n_jobs=1)]: Done  32 out of  32 | elapsed:   14.3s remaining:    0.0s\n",
            "[Parallel(n_jobs=1)]: Done  33 out of  33 | elapsed:   14.8s remaining:    0.0s\n",
            "[Parallel(n_jobs=1)]: Done  34 out of  34 | elapsed:   15.3s remaining:    0.0s\n",
            "[Parallel(n_jobs=1)]: Done  35 out of  35 | elapsed:   15.7s remaining:    0.0s\n",
            "[Parallel(n_jobs=1)]: Done  36 out of  36 | elapsed:   16.2s remaining:    0.0s\n",
            "[Parallel(n_jobs=1)]: Done  37 out of  37 | elapsed:   16.6s remaining:    0.0s\n",
            "[Parallel(n_jobs=1)]: Done  38 out of  38 | elapsed:   17.1s remaining:    0.0s\n",
            "[Parallel(n_jobs=1)]: Done  39 out of  39 | elapsed:   17.5s remaining:    0.0s\n",
            "[Parallel(n_jobs=1)]: Done  40 out of  40 | elapsed:   17.9s remaining:    0.0s\n",
            "[Parallel(n_jobs=1)]: Done  41 out of  41 | elapsed:   18.4s remaining:    0.0s\n",
            "[Parallel(n_jobs=1)]: Done  42 out of  42 | elapsed:   18.8s remaining:    0.0s\n",
            "[Parallel(n_jobs=1)]: Done  43 out of  43 | elapsed:   19.3s remaining:    0.0s\n",
            "[Parallel(n_jobs=1)]: Done  44 out of  44 | elapsed:   19.8s remaining:    0.0s\n",
            "[Parallel(n_jobs=1)]: Done  45 out of  45 | elapsed:   20.2s remaining:    0.0s\n",
            "[Parallel(n_jobs=1)]: Done  46 out of  46 | elapsed:   20.7s remaining:    0.0s\n",
            "[Parallel(n_jobs=1)]: Done  47 out of  47 | elapsed:   21.2s remaining:    0.0s\n",
            "[Parallel(n_jobs=1)]: Done  48 out of  48 | elapsed:   21.6s remaining:    0.0s\n",
            "[Parallel(n_jobs=1)]: Done  49 out of  49 | elapsed:   22.0s remaining:    0.0s\n",
            "[Parallel(n_jobs=1)]: Done  50 out of  50 | elapsed:   22.5s remaining:    0.0s\n",
            "[Parallel(n_jobs=1)]: Done  51 out of  51 | elapsed:   22.9s remaining:    0.0s\n",
            "[Parallel(n_jobs=1)]: Done  52 out of  52 | elapsed:   23.4s remaining:    0.0s\n",
            "[Parallel(n_jobs=1)]: Done  53 out of  53 | elapsed:   23.8s remaining:    0.0s\n",
            "[Parallel(n_jobs=1)]: Done  54 out of  54 | elapsed:   24.3s remaining:    0.0s\n",
            "[Parallel(n_jobs=1)]: Done  55 out of  55 | elapsed:   24.7s remaining:    0.0s\n",
            "[Parallel(n_jobs=1)]: Done  56 out of  56 | elapsed:   25.2s remaining:    0.0s\n",
            "[Parallel(n_jobs=1)]: Done  57 out of  57 | elapsed:   25.7s remaining:    0.0s\n",
            "[Parallel(n_jobs=1)]: Done  58 out of  58 | elapsed:   26.1s remaining:    0.0s\n",
            "[Parallel(n_jobs=1)]: Done  59 out of  59 | elapsed:   26.6s remaining:    0.0s\n",
            "[Parallel(n_jobs=1)]: Done  60 out of  60 | elapsed:   27.0s remaining:    0.0s\n",
            "[Parallel(n_jobs=1)]: Done  61 out of  61 | elapsed:   27.5s remaining:    0.0s\n",
            "[Parallel(n_jobs=1)]: Done  62 out of  62 | elapsed:   27.9s remaining:    0.0s\n",
            "[Parallel(n_jobs=1)]: Done  63 out of  63 | elapsed:   28.4s remaining:    0.0s\n",
            "[Parallel(n_jobs=1)]: Done  64 out of  64 | elapsed:   28.8s remaining:    0.0s\n",
            "[Parallel(n_jobs=1)]: Done  65 out of  65 | elapsed:   29.3s remaining:    0.0s\n",
            "[Parallel(n_jobs=1)]: Done  66 out of  66 | elapsed:   29.7s remaining:    0.0s\n",
            "[Parallel(n_jobs=1)]: Done  67 out of  67 | elapsed:   30.2s remaining:    0.0s\n",
            "[Parallel(n_jobs=1)]: Done  68 out of  68 | elapsed:   30.6s remaining:    0.0s\n",
            "[Parallel(n_jobs=1)]: Done  69 out of  69 | elapsed:   31.1s remaining:    0.0s\n",
            "[Parallel(n_jobs=1)]: Done  70 out of  70 | elapsed:   31.5s remaining:    0.0s\n",
            "[Parallel(n_jobs=1)]: Done  71 out of  71 | elapsed:   32.0s remaining:    0.0s\n",
            "[Parallel(n_jobs=1)]: Done  72 out of  72 | elapsed:   32.5s remaining:    0.0s\n",
            "[Parallel(n_jobs=1)]: Done  73 out of  73 | elapsed:   32.9s remaining:    0.0s\n",
            "[Parallel(n_jobs=1)]: Done  74 out of  74 | elapsed:   33.4s remaining:    0.0s\n",
            "[Parallel(n_jobs=1)]: Done  75 out of  75 | elapsed:   33.8s remaining:    0.0s\n",
            "[Parallel(n_jobs=1)]: Done  76 out of  76 | elapsed:   34.3s remaining:    0.0s\n",
            "[Parallel(n_jobs=1)]: Done  77 out of  77 | elapsed:   34.8s remaining:    0.0s\n",
            "[Parallel(n_jobs=1)]: Done  78 out of  78 | elapsed:   35.2s remaining:    0.0s\n",
            "[Parallel(n_jobs=1)]: Done  79 out of  79 | elapsed:   35.6s remaining:    0.0s\n",
            "[Parallel(n_jobs=1)]: Done  80 out of  80 | elapsed:   36.1s remaining:    0.0s\n",
            "[Parallel(n_jobs=1)]: Done  81 out of  81 | elapsed:   36.5s remaining:    0.0s\n",
            "[Parallel(n_jobs=1)]: Done  82 out of  82 | elapsed:   37.0s remaining:    0.0s\n",
            "[Parallel(n_jobs=1)]: Done  83 out of  83 | elapsed:   37.5s remaining:    0.0s\n",
            "[Parallel(n_jobs=1)]: Done  84 out of  84 | elapsed:   37.9s remaining:    0.0s\n",
            "[Parallel(n_jobs=1)]: Done  85 out of  85 | elapsed:   38.4s remaining:    0.0s\n",
            "[Parallel(n_jobs=1)]: Done  86 out of  86 | elapsed:   38.8s remaining:    0.0s\n",
            "[Parallel(n_jobs=1)]: Done  87 out of  87 | elapsed:   39.2s remaining:    0.0s\n",
            "[Parallel(n_jobs=1)]: Done  88 out of  88 | elapsed:   39.7s remaining:    0.0s\n",
            "[Parallel(n_jobs=1)]: Done  89 out of  89 | elapsed:   40.1s remaining:    0.0s\n",
            "[Parallel(n_jobs=1)]: Done  90 out of  90 | elapsed:   40.6s remaining:    0.0s\n",
            "[Parallel(n_jobs=1)]: Done  91 out of  91 | elapsed:   41.0s remaining:    0.0s\n",
            "[Parallel(n_jobs=1)]: Done  92 out of  92 | elapsed:   41.5s remaining:    0.0s\n",
            "[Parallel(n_jobs=1)]: Done  93 out of  93 | elapsed:   41.9s remaining:    0.0s\n",
            "[Parallel(n_jobs=1)]: Done  94 out of  94 | elapsed:   42.3s remaining:    0.0s\n",
            "[Parallel(n_jobs=1)]: Done  95 out of  95 | elapsed:   42.8s remaining:    0.0s\n",
            "[Parallel(n_jobs=1)]: Done  96 out of  96 | elapsed:   43.3s remaining:    0.0s\n",
            "[Parallel(n_jobs=1)]: Done  97 out of  97 | elapsed:   43.7s remaining:    0.0s\n",
            "[Parallel(n_jobs=1)]: Done  98 out of  98 | elapsed:   44.1s remaining:    0.0s\n",
            "[Parallel(n_jobs=1)]: Done  99 out of  99 | elapsed:   44.6s remaining:    0.0s\n",
            "[Parallel(n_jobs=1)]: Done 100 out of 100 | elapsed:   45.0s remaining:    0.0s\n",
            "[Parallel(n_jobs=1)]: Done 100 out of 100 | elapsed:   45.0s finished\n"
          ]
        },
        {
          "output_type": "execute_result",
          "data": {
            "text/plain": [
              "0.8714226184611463"
            ]
          },
          "metadata": {},
          "execution_count": 14
        }
      ]
    },
    {
      "cell_type": "code",
      "source": [
        "clf.get_params()"
      ],
      "metadata": {
        "colab": {
          "base_uri": "https://localhost:8080/"
        },
        "id": "NGMAsrrtTcWy",
        "outputId": "b0fa8556-7e42-49e2-ff2d-0d20cb72feee"
      },
      "execution_count": null,
      "outputs": [
        {
          "output_type": "execute_result",
          "data": {
            "text/plain": [
              "{'bootstrap': True,\n",
              " 'ccp_alpha': 0.0,\n",
              " 'class_weight': None,\n",
              " 'criterion': 'gini',\n",
              " 'max_depth': None,\n",
              " 'max_features': 'auto',\n",
              " 'max_leaf_nodes': None,\n",
              " 'max_samples': 60000,\n",
              " 'min_impurity_decrease': 0.0,\n",
              " 'min_samples_leaf': 1,\n",
              " 'min_samples_split': 2,\n",
              " 'min_weight_fraction_leaf': 0.0,\n",
              " 'n_estimators': 100,\n",
              " 'n_jobs': None,\n",
              " 'oob_score': False,\n",
              " 'random_state': None,\n",
              " 'verbose': 1000,\n",
              " 'warm_start': False}"
            ]
          },
          "metadata": {},
          "execution_count": 15
        }
      ]
    },
    {
      "cell_type": "code",
      "source": [
        "y_pred = clf.predict(X_test)"
      ],
      "metadata": {
        "id": "rEZ7WJg-ri_c",
        "colab": {
          "base_uri": "https://localhost:8080/"
        },
        "outputId": "f77ca12f-ab83-489e-b9e7-929bb5b06004"
      },
      "execution_count": null,
      "outputs": [
        {
          "output_type": "stream",
          "name": "stdout",
          "text": [
            "[Parallel(n_jobs=1)]: Using backend SequentialBackend with 1 concurrent workers.\n",
            "[Parallel(n_jobs=1)]: Done   1 out of   1 | elapsed:    0.4s remaining:    0.0s\n",
            "[Parallel(n_jobs=1)]: Done   2 out of   2 | elapsed:    0.9s remaining:    0.0s\n",
            "[Parallel(n_jobs=1)]: Done   3 out of   3 | elapsed:    1.4s remaining:    0.0s\n",
            "[Parallel(n_jobs=1)]: Done   4 out of   4 | elapsed:    1.8s remaining:    0.0s\n",
            "[Parallel(n_jobs=1)]: Done   5 out of   5 | elapsed:    2.3s remaining:    0.0s\n",
            "[Parallel(n_jobs=1)]: Done   6 out of   6 | elapsed:    2.7s remaining:    0.0s\n",
            "[Parallel(n_jobs=1)]: Done   7 out of   7 | elapsed:    3.1s remaining:    0.0s\n",
            "[Parallel(n_jobs=1)]: Done   8 out of   8 | elapsed:    3.6s remaining:    0.0s\n",
            "[Parallel(n_jobs=1)]: Done   9 out of   9 | elapsed:    4.0s remaining:    0.0s\n",
            "[Parallel(n_jobs=1)]: Done  10 out of  10 | elapsed:    4.4s remaining:    0.0s\n",
            "[Parallel(n_jobs=1)]: Done  11 out of  11 | elapsed:    4.9s remaining:    0.0s\n",
            "[Parallel(n_jobs=1)]: Done  12 out of  12 | elapsed:    5.3s remaining:    0.0s\n",
            "[Parallel(n_jobs=1)]: Done  13 out of  13 | elapsed:    5.8s remaining:    0.0s\n",
            "[Parallel(n_jobs=1)]: Done  14 out of  14 | elapsed:    6.2s remaining:    0.0s\n",
            "[Parallel(n_jobs=1)]: Done  15 out of  15 | elapsed:    6.7s remaining:    0.0s\n",
            "[Parallel(n_jobs=1)]: Done  16 out of  16 | elapsed:    7.1s remaining:    0.0s\n",
            "[Parallel(n_jobs=1)]: Done  17 out of  17 | elapsed:    7.5s remaining:    0.0s\n",
            "[Parallel(n_jobs=1)]: Done  18 out of  18 | elapsed:    8.0s remaining:    0.0s\n",
            "[Parallel(n_jobs=1)]: Done  19 out of  19 | elapsed:    8.5s remaining:    0.0s\n",
            "[Parallel(n_jobs=1)]: Done  20 out of  20 | elapsed:    8.9s remaining:    0.0s\n",
            "[Parallel(n_jobs=1)]: Done  21 out of  21 | elapsed:    9.4s remaining:    0.0s\n",
            "[Parallel(n_jobs=1)]: Done  22 out of  22 | elapsed:    9.8s remaining:    0.0s\n",
            "[Parallel(n_jobs=1)]: Done  23 out of  23 | elapsed:   10.3s remaining:    0.0s\n",
            "[Parallel(n_jobs=1)]: Done  24 out of  24 | elapsed:   10.7s remaining:    0.0s\n",
            "[Parallel(n_jobs=1)]: Done  25 out of  25 | elapsed:   11.2s remaining:    0.0s\n",
            "[Parallel(n_jobs=1)]: Done  26 out of  26 | elapsed:   11.6s remaining:    0.0s\n",
            "[Parallel(n_jobs=1)]: Done  27 out of  27 | elapsed:   12.1s remaining:    0.0s\n",
            "[Parallel(n_jobs=1)]: Done  28 out of  28 | elapsed:   12.5s remaining:    0.0s\n",
            "[Parallel(n_jobs=1)]: Done  29 out of  29 | elapsed:   13.0s remaining:    0.0s\n",
            "[Parallel(n_jobs=1)]: Done  30 out of  30 | elapsed:   13.4s remaining:    0.0s\n",
            "[Parallel(n_jobs=1)]: Done  31 out of  31 | elapsed:   13.9s remaining:    0.0s\n",
            "[Parallel(n_jobs=1)]: Done  32 out of  32 | elapsed:   14.3s remaining:    0.0s\n",
            "[Parallel(n_jobs=1)]: Done  33 out of  33 | elapsed:   14.8s remaining:    0.0s\n",
            "[Parallel(n_jobs=1)]: Done  34 out of  34 | elapsed:   15.3s remaining:    0.0s\n",
            "[Parallel(n_jobs=1)]: Done  35 out of  35 | elapsed:   15.7s remaining:    0.0s\n",
            "[Parallel(n_jobs=1)]: Done  36 out of  36 | elapsed:   16.2s remaining:    0.0s\n",
            "[Parallel(n_jobs=1)]: Done  37 out of  37 | elapsed:   16.6s remaining:    0.0s\n",
            "[Parallel(n_jobs=1)]: Done  38 out of  38 | elapsed:   17.0s remaining:    0.0s\n",
            "[Parallel(n_jobs=1)]: Done  39 out of  39 | elapsed:   17.5s remaining:    0.0s\n",
            "[Parallel(n_jobs=1)]: Done  40 out of  40 | elapsed:   17.9s remaining:    0.0s\n",
            "[Parallel(n_jobs=1)]: Done  41 out of  41 | elapsed:   18.4s remaining:    0.0s\n",
            "[Parallel(n_jobs=1)]: Done  42 out of  42 | elapsed:   18.8s remaining:    0.0s\n",
            "[Parallel(n_jobs=1)]: Done  43 out of  43 | elapsed:   19.3s remaining:    0.0s\n",
            "[Parallel(n_jobs=1)]: Done  44 out of  44 | elapsed:   19.8s remaining:    0.0s\n",
            "[Parallel(n_jobs=1)]: Done  45 out of  45 | elapsed:   20.2s remaining:    0.0s\n",
            "[Parallel(n_jobs=1)]: Done  46 out of  46 | elapsed:   20.7s remaining:    0.0s\n",
            "[Parallel(n_jobs=1)]: Done  47 out of  47 | elapsed:   21.2s remaining:    0.0s\n",
            "[Parallel(n_jobs=1)]: Done  48 out of  48 | elapsed:   21.6s remaining:    0.0s\n",
            "[Parallel(n_jobs=1)]: Done  49 out of  49 | elapsed:   22.0s remaining:    0.0s\n",
            "[Parallel(n_jobs=1)]: Done  50 out of  50 | elapsed:   22.5s remaining:    0.0s\n",
            "[Parallel(n_jobs=1)]: Done  51 out of  51 | elapsed:   22.9s remaining:    0.0s\n",
            "[Parallel(n_jobs=1)]: Done  52 out of  52 | elapsed:   23.4s remaining:    0.0s\n",
            "[Parallel(n_jobs=1)]: Done  53 out of  53 | elapsed:   23.8s remaining:    0.0s\n",
            "[Parallel(n_jobs=1)]: Done  54 out of  54 | elapsed:   24.3s remaining:    0.0s\n",
            "[Parallel(n_jobs=1)]: Done  55 out of  55 | elapsed:   24.7s remaining:    0.0s\n",
            "[Parallel(n_jobs=1)]: Done  56 out of  56 | elapsed:   25.2s remaining:    0.0s\n",
            "[Parallel(n_jobs=1)]: Done  57 out of  57 | elapsed:   25.6s remaining:    0.0s\n",
            "[Parallel(n_jobs=1)]: Done  58 out of  58 | elapsed:   26.1s remaining:    0.0s\n",
            "[Parallel(n_jobs=1)]: Done  59 out of  59 | elapsed:   26.5s remaining:    0.0s\n",
            "[Parallel(n_jobs=1)]: Done  60 out of  60 | elapsed:   27.0s remaining:    0.0s\n",
            "[Parallel(n_jobs=1)]: Done  61 out of  61 | elapsed:   27.4s remaining:    0.0s\n",
            "[Parallel(n_jobs=1)]: Done  62 out of  62 | elapsed:   27.9s remaining:    0.0s\n",
            "[Parallel(n_jobs=1)]: Done  63 out of  63 | elapsed:   28.3s remaining:    0.0s\n",
            "[Parallel(n_jobs=1)]: Done  64 out of  64 | elapsed:   28.8s remaining:    0.0s\n",
            "[Parallel(n_jobs=1)]: Done  65 out of  65 | elapsed:   29.2s remaining:    0.0s\n",
            "[Parallel(n_jobs=1)]: Done  66 out of  66 | elapsed:   29.7s remaining:    0.0s\n",
            "[Parallel(n_jobs=1)]: Done  67 out of  67 | elapsed:   30.1s remaining:    0.0s\n",
            "[Parallel(n_jobs=1)]: Done  68 out of  68 | elapsed:   30.6s remaining:    0.0s\n",
            "[Parallel(n_jobs=1)]: Done  69 out of  69 | elapsed:   31.0s remaining:    0.0s\n",
            "[Parallel(n_jobs=1)]: Done  70 out of  70 | elapsed:   31.5s remaining:    0.0s\n",
            "[Parallel(n_jobs=1)]: Done  71 out of  71 | elapsed:   32.0s remaining:    0.0s\n",
            "[Parallel(n_jobs=1)]: Done  72 out of  72 | elapsed:   32.4s remaining:    0.0s\n",
            "[Parallel(n_jobs=1)]: Done  73 out of  73 | elapsed:   32.9s remaining:    0.0s\n",
            "[Parallel(n_jobs=1)]: Done  74 out of  74 | elapsed:   33.3s remaining:    0.0s\n",
            "[Parallel(n_jobs=1)]: Done  75 out of  75 | elapsed:   33.8s remaining:    0.0s\n",
            "[Parallel(n_jobs=1)]: Done  76 out of  76 | elapsed:   34.2s remaining:    0.0s\n",
            "[Parallel(n_jobs=1)]: Done  77 out of  77 | elapsed:   34.7s remaining:    0.0s\n",
            "[Parallel(n_jobs=1)]: Done  78 out of  78 | elapsed:   35.1s remaining:    0.0s\n",
            "[Parallel(n_jobs=1)]: Done  79 out of  79 | elapsed:   35.6s remaining:    0.0s\n",
            "[Parallel(n_jobs=1)]: Done  80 out of  80 | elapsed:   36.0s remaining:    0.0s\n",
            "[Parallel(n_jobs=1)]: Done  81 out of  81 | elapsed:   36.5s remaining:    0.0s\n",
            "[Parallel(n_jobs=1)]: Done  82 out of  82 | elapsed:   36.9s remaining:    0.0s\n",
            "[Parallel(n_jobs=1)]: Done  83 out of  83 | elapsed:   37.4s remaining:    0.0s\n",
            "[Parallel(n_jobs=1)]: Done  84 out of  84 | elapsed:   37.8s remaining:    0.0s\n",
            "[Parallel(n_jobs=1)]: Done  85 out of  85 | elapsed:   38.3s remaining:    0.0s\n",
            "[Parallel(n_jobs=1)]: Done  86 out of  86 | elapsed:   38.7s remaining:    0.0s\n",
            "[Parallel(n_jobs=1)]: Done  87 out of  87 | elapsed:   39.2s remaining:    0.0s\n",
            "[Parallel(n_jobs=1)]: Done  88 out of  88 | elapsed:   39.6s remaining:    0.0s\n",
            "[Parallel(n_jobs=1)]: Done  89 out of  89 | elapsed:   40.0s remaining:    0.0s\n",
            "[Parallel(n_jobs=1)]: Done  90 out of  90 | elapsed:   40.5s remaining:    0.0s\n",
            "[Parallel(n_jobs=1)]: Done  91 out of  91 | elapsed:   40.9s remaining:    0.0s\n",
            "[Parallel(n_jobs=1)]: Done  92 out of  92 | elapsed:   41.4s remaining:    0.0s\n",
            "[Parallel(n_jobs=1)]: Done  93 out of  93 | elapsed:   41.8s remaining:    0.0s\n",
            "[Parallel(n_jobs=1)]: Done  94 out of  94 | elapsed:   42.2s remaining:    0.0s\n",
            "[Parallel(n_jobs=1)]: Done  95 out of  95 | elapsed:   42.7s remaining:    0.0s\n",
            "[Parallel(n_jobs=1)]: Done  96 out of  96 | elapsed:   43.2s remaining:    0.0s\n",
            "[Parallel(n_jobs=1)]: Done  97 out of  97 | elapsed:   43.6s remaining:    0.0s\n",
            "[Parallel(n_jobs=1)]: Done  98 out of  98 | elapsed:   44.1s remaining:    0.0s\n",
            "[Parallel(n_jobs=1)]: Done  99 out of  99 | elapsed:   44.5s remaining:    0.0s\n",
            "[Parallel(n_jobs=1)]: Done 100 out of 100 | elapsed:   45.0s remaining:    0.0s\n",
            "[Parallel(n_jobs=1)]: Done 100 out of 100 | elapsed:   45.0s finished\n"
          ]
        }
      ]
    },
    {
      "cell_type": "code",
      "source": [
        "tn, fp, fn, tp = confusion_matrix(y_test, y_pred).ravel()"
      ],
      "metadata": {
        "id": "VpDuIcwcr-rn"
      },
      "execution_count": null,
      "outputs": []
    },
    {
      "cell_type": "code",
      "source": [
        "tn, fp, fn, tp"
      ],
      "metadata": {
        "colab": {
          "base_uri": "https://localhost:8080/"
        },
        "id": "EegTKc03sL4F",
        "outputId": "cd676eda-15d9-44e5-965b-5c3e8a8f63ec"
      },
      "execution_count": null,
      "outputs": [
        {
          "output_type": "execute_result",
          "data": {
            "text/plain": [
              "(763543, 67255, 74989, 200504)"
            ]
          },
          "metadata": {},
          "execution_count": 18
        }
      ]
    },
    {
      "cell_type": "code",
      "source": [
        "f1_score(y_test, y_pred)"
      ],
      "metadata": {
        "colab": {
          "base_uri": "https://localhost:8080/"
        },
        "id": "0h4Ph6YMsi_L",
        "outputId": "85724cf8-5c20-44f8-e8eb-4cee582d155a"
      },
      "execution_count": null,
      "outputs": [
        {
          "output_type": "execute_result",
          "data": {
            "text/plain": [
              "0.7381620316170027"
            ]
          },
          "metadata": {},
          "execution_count": 19
        }
      ]
    },
    {
      "cell_type": "code",
      "source": [
        ""
      ],
      "metadata": {
        "id": "QJr8WVsItVBk"
      },
      "execution_count": null,
      "outputs": []
    }
  ]
}