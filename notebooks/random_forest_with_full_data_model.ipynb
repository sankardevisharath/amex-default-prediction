{
  "nbformat": 4,
  "nbformat_minor": 0,
  "metadata": {
    "colab": {
      "provenance": [],
      "collapsed_sections": [],
      "machine_shape": "hm",
      "mount_file_id": "1R_BcQBEesANKZTUg_HquVU0PxRsYiN3N",
      "authorship_tag": "ABX9TyPVS7nnrmTWhhMf3x1+CaG+",
      "include_colab_link": true
    },
    "kernelspec": {
      "name": "python3",
      "display_name": "Python 3"
    },
    "language_info": {
      "name": "python"
    },
    "gpuClass": "standard"
  },
  "cells": [
    {
      "cell_type": "markdown",
      "metadata": {
        "id": "view-in-github",
        "colab_type": "text"
      },
      "source": [
        "<a href=\"https://colab.research.google.com/github/sankardevisharath/amex-default-prediction/blob/master/notebooks/random_forest_with_full_data_model.ipynb\" target=\"_parent\"><img src=\"https://colab.research.google.com/assets/colab-badge.svg\" alt=\"Open In Colab\"/></a>"
      ]
    },
    {
      "cell_type": "code",
      "source": [
        "from os import listdir\n",
        "\n",
        "files = listdir('/content/drive/MyDrive/amex-default-prediction/data/raw/')"
      ],
      "metadata": {
        "id": "qDhpXsRkbY7g"
      },
      "execution_count": 1,
      "outputs": []
    },
    {
      "cell_type": "code",
      "source": [
        "import gc \n",
        "\n",
        "import numpy as np\n",
        "import pandas as pd\n",
        "from sklearn.preprocessing import OrdinalEncoder\n",
        "from sklearn.model_selection import train_test_split\n",
        "from sklearn.ensemble import RandomForestClassifier\n",
        "from sklearn.metrics import confusion_matrix\n",
        "from sklearn.metrics import f1_score\n",
        "\n",
        "\n",
        "from sklearn.datasets import make_classification\n",
        "from sklearn.metrics import plot_confusion_matrix\n",
        "from sklearn.metrics import classification_report\n",
        "import matplotlib.pyplot as plt"
      ],
      "metadata": {
        "id": "nx_k17C4dJpj"
      },
      "execution_count": 2,
      "outputs": []
    },
    {
      "cell_type": "code",
      "source": [
        "cat_cols = ['D_63', 'D_64','B_30', 'B_38', 'D_114', 'D_116', 'D_117', 'D_120', 'D_126', 'D_66', 'D_68']\n",
        "TRAIN_LABELS_PATH = '/content/train_labels.csv'"
      ],
      "metadata": {
        "id": "IdDL1GU3gPxH"
      },
      "execution_count": 3,
      "outputs": []
    },
    {
      "cell_type": "code",
      "source": [
        "!unzip /content/drive/MyDrive/amex-default-prediction/data/amex-default-prediction.zip \\\n",
        " train_labels.csv"
      ],
      "metadata": {
        "colab": {
          "base_uri": "https://localhost:8080/"
        },
        "id": "tOb-N7dCiaDi",
        "outputId": "940704f6-cea2-4d85-de43-d410e77c69ec"
      },
      "execution_count": 4,
      "outputs": [
        {
          "output_type": "stream",
          "name": "stdout",
          "text": [
            "Archive:  /content/drive/MyDrive/amex-default-prediction/data/amex-default-prediction.zip\n",
            "  inflating: train_labels.csv        \n"
          ]
        }
      ]
    },
    {
      "cell_type": "code",
      "source": [
        "train_labels = pd.read_csv(TRAIN_LABELS_PATH)"
      ],
      "metadata": {
        "id": "0cIgqjH2hMML"
      },
      "execution_count": 5,
      "outputs": []
    },
    {
      "cell_type": "code",
      "source": [
        "def append_label(source_df):\n",
        "  return pd.merge(left=source_df, right=train_labels, how='inner')"
      ],
      "metadata": {
        "id": "eAEoVByIgU-W"
      },
      "execution_count": 6,
      "outputs": []
    },
    {
      "cell_type": "code",
      "source": [
        "flag = True\n",
        "X = pd.DataFrame()\n",
        "Y = pd.DataFrame()\n",
        "\n",
        "for f in files:\n",
        "  print(f)\n",
        "  df_tmp = pd.read_parquet('/content/drive/MyDrive/amex-default-prediction/data/raw/' + f)\n",
        "  df_tmp = append_label(df_tmp)\n",
        "\n",
        "\n",
        "  if(flag):\n",
        "     enc = OrdinalEncoder(handle_unknown='use_encoded_value', unknown_value=-1)\n",
        "     df_tmp[['D_63', 'D_64']]=enc.fit(df_tmp[['D_63', 'D_64']])\n",
        "     flag = False\n",
        "\n",
        "  df_tmp[['D_63', 'D_64']]=enc.transform(df_tmp[['D_63', 'D_64']])\n",
        "  df_tmp.fillna(0, inplace=True)\n",
        "\n",
        "  X= X.append(df_tmp.loc[:, ~df_tmp.columns.isin(['customer_ID', 'S_2', 'target'])])\n",
        "\n",
        "  Y = Y.append(df_tmp.loc[:, df_tmp.columns == 'target'])\n",
        "\n",
        "  \n",
        "  del df_tmp\n",
        "  gc.collect()\n"
      ],
      "metadata": {
        "colab": {
          "base_uri": "https://localhost:8080/"
        },
        "id": "Ivmf5DcQc6tP",
        "outputId": "cfc709f2-e6f9-4315-cbad-d8d7a5793a64"
      },
      "execution_count": 7,
      "outputs": [
        {
          "output_type": "stream",
          "name": "stdout",
          "text": [
            "data_2017-04.parquet\n",
            "data_2017-05.parquet\n",
            "data_2017-06.parquet\n",
            "data_2017-03.parquet\n",
            "data_2017-07.parquet\n",
            "data_2017-08.parquet\n",
            "data_2017-09.parquet\n",
            "data_2017-10.parquet\n",
            "data_2017-11.parquet\n",
            "data_2017-12.parquet\n",
            "data_2018-01.parquet\n",
            "data_2018-02.parquet\n",
            "data_2018-03.parquet\n"
          ]
        }
      ]
    },
    {
      "cell_type": "code",
      "source": [
        " X_train, X_test, y_train, y_test = train_test_split(X, Y, test_size=0.2)"
      ],
      "metadata": {
        "id": "1R7fzQ4ueFRI"
      },
      "execution_count": 8,
      "outputs": []
    },
    {
      "cell_type": "code",
      "source": [
        "gc.collect()"
      ],
      "metadata": {
        "colab": {
          "base_uri": "https://localhost:8080/"
        },
        "id": "-T0WHRL6qP6j",
        "outputId": "b0743cca-4683-44e0-d673-1498177cdf9b"
      },
      "execution_count": 9,
      "outputs": [
        {
          "output_type": "execute_result",
          "data": {
            "text/plain": [
              "44"
            ]
          },
          "metadata": {},
          "execution_count": 9
        }
      ]
    },
    {
      "cell_type": "code",
      "source": [
        "del X, Y"
      ],
      "metadata": {
        "id": "OFhJ34_GqSXX"
      },
      "execution_count": 10,
      "outputs": []
    },
    {
      "cell_type": "code",
      "source": [
        "gc.collect()"
      ],
      "metadata": {
        "colab": {
          "base_uri": "https://localhost:8080/"
        },
        "id": "xfMZBQqUqVd3",
        "outputId": "567b0f8d-463b-4176-8e2c-1fd70724afa5"
      },
      "execution_count": 11,
      "outputs": [
        {
          "output_type": "execute_result",
          "data": {
            "text/plain": [
              "44"
            ]
          },
          "metadata": {},
          "execution_count": 11
        }
      ]
    },
    {
      "cell_type": "code",
      "source": [
        "clf = RandomForestClassifier(max_samples = 60000, verbose=1000)"
      ],
      "metadata": {
        "id": "nvz7kcD8frrt"
      },
      "execution_count": 12,
      "outputs": []
    },
    {
      "cell_type": "code",
      "source": [
        "clf.fit(X_train, y_train.values.ravel())"
      ],
      "metadata": {
        "id": "d-Ho-fcIf3vw",
        "colab": {
          "base_uri": "https://localhost:8080/"
        },
        "outputId": "3741d215-8671-4af7-abce-374d37712d10"
      },
      "execution_count": 13,
      "outputs": [
        {
          "output_type": "stream",
          "name": "stdout",
          "text": [
            "[Parallel(n_jobs=1)]: Using backend SequentialBackend with 1 concurrent workers.\n",
            "building tree 1 of 100\n",
            "[Parallel(n_jobs=1)]: Done   1 out of   1 | elapsed:    6.1s remaining:    0.0s\n",
            "building tree 2 of 100\n",
            "[Parallel(n_jobs=1)]: Done   2 out of   2 | elapsed:   10.7s remaining:    0.0s\n",
            "building tree 3 of 100\n",
            "[Parallel(n_jobs=1)]: Done   3 out of   3 | elapsed:   15.5s remaining:    0.0s\n",
            "building tree 4 of 100\n",
            "[Parallel(n_jobs=1)]: Done   4 out of   4 | elapsed:   19.0s remaining:    0.0s\n",
            "building tree 5 of 100\n",
            "[Parallel(n_jobs=1)]: Done   5 out of   5 | elapsed:   23.0s remaining:    0.0s\n",
            "building tree 6 of 100\n",
            "[Parallel(n_jobs=1)]: Done   6 out of   6 | elapsed:   27.1s remaining:    0.0s\n",
            "building tree 7 of 100\n",
            "[Parallel(n_jobs=1)]: Done   7 out of   7 | elapsed:   30.5s remaining:    0.0s\n",
            "building tree 8 of 100\n",
            "[Parallel(n_jobs=1)]: Done   8 out of   8 | elapsed:   34.0s remaining:    0.0s\n",
            "building tree 9 of 100\n",
            "[Parallel(n_jobs=1)]: Done   9 out of   9 | elapsed:   37.8s remaining:    0.0s\n",
            "building tree 10 of 100\n",
            "[Parallel(n_jobs=1)]: Done  10 out of  10 | elapsed:   42.4s remaining:    0.0s\n",
            "building tree 11 of 100\n",
            "[Parallel(n_jobs=1)]: Done  11 out of  11 | elapsed:   46.0s remaining:    0.0s\n",
            "building tree 12 of 100\n",
            "[Parallel(n_jobs=1)]: Done  12 out of  12 | elapsed:   51.2s remaining:    0.0s\n",
            "building tree 13 of 100\n",
            "[Parallel(n_jobs=1)]: Done  13 out of  13 | elapsed:   56.4s remaining:    0.0s\n",
            "building tree 14 of 100\n",
            "[Parallel(n_jobs=1)]: Done  14 out of  14 | elapsed:  1.0min remaining:    0.0s\n",
            "building tree 15 of 100\n",
            "[Parallel(n_jobs=1)]: Done  15 out of  15 | elapsed:  1.1min remaining:    0.0s\n",
            "building tree 16 of 100\n",
            "[Parallel(n_jobs=1)]: Done  16 out of  16 | elapsed:  1.1min remaining:    0.0s\n",
            "building tree 17 of 100\n",
            "[Parallel(n_jobs=1)]: Done  17 out of  17 | elapsed:  1.2min remaining:    0.0s\n",
            "building tree 18 of 100\n",
            "[Parallel(n_jobs=1)]: Done  18 out of  18 | elapsed:  1.3min remaining:    0.0s\n",
            "building tree 19 of 100\n",
            "[Parallel(n_jobs=1)]: Done  19 out of  19 | elapsed:  1.3min remaining:    0.0s\n",
            "building tree 20 of 100\n",
            "[Parallel(n_jobs=1)]: Done  20 out of  20 | elapsed:  1.4min remaining:    0.0s\n",
            "building tree 21 of 100\n",
            "[Parallel(n_jobs=1)]: Done  21 out of  21 | elapsed:  1.5min remaining:    0.0s\n",
            "building tree 22 of 100\n",
            "[Parallel(n_jobs=1)]: Done  22 out of  22 | elapsed:  1.5min remaining:    0.0s\n",
            "building tree 23 of 100\n",
            "[Parallel(n_jobs=1)]: Done  23 out of  23 | elapsed:  1.6min remaining:    0.0s\n",
            "building tree 24 of 100\n",
            "[Parallel(n_jobs=1)]: Done  24 out of  24 | elapsed:  1.7min remaining:    0.0s\n",
            "building tree 25 of 100\n",
            "[Parallel(n_jobs=1)]: Done  25 out of  25 | elapsed:  1.7min remaining:    0.0s\n",
            "building tree 26 of 100\n",
            "[Parallel(n_jobs=1)]: Done  26 out of  26 | elapsed:  1.8min remaining:    0.0s\n",
            "building tree 27 of 100\n",
            "[Parallel(n_jobs=1)]: Done  27 out of  27 | elapsed:  1.8min remaining:    0.0s\n",
            "building tree 28 of 100\n",
            "[Parallel(n_jobs=1)]: Done  28 out of  28 | elapsed:  1.9min remaining:    0.0s\n",
            "building tree 29 of 100\n",
            "[Parallel(n_jobs=1)]: Done  29 out of  29 | elapsed:  1.9min remaining:    0.0s\n",
            "building tree 30 of 100\n",
            "[Parallel(n_jobs=1)]: Done  30 out of  30 | elapsed:  2.0min remaining:    0.0s\n",
            "building tree 31 of 100\n",
            "[Parallel(n_jobs=1)]: Done  31 out of  31 | elapsed:  2.1min remaining:    0.0s\n",
            "building tree 32 of 100\n",
            "[Parallel(n_jobs=1)]: Done  32 out of  32 | elapsed:  2.1min remaining:    0.0s\n",
            "building tree 33 of 100\n",
            "[Parallel(n_jobs=1)]: Done  33 out of  33 | elapsed:  2.2min remaining:    0.0s\n",
            "building tree 34 of 100\n",
            "[Parallel(n_jobs=1)]: Done  34 out of  34 | elapsed:  2.2min remaining:    0.0s\n",
            "building tree 35 of 100\n",
            "[Parallel(n_jobs=1)]: Done  35 out of  35 | elapsed:  2.3min remaining:    0.0s\n",
            "building tree 36 of 100\n",
            "[Parallel(n_jobs=1)]: Done  36 out of  36 | elapsed:  2.4min remaining:    0.0s\n",
            "building tree 37 of 100\n",
            "[Parallel(n_jobs=1)]: Done  37 out of  37 | elapsed:  2.4min remaining:    0.0s\n",
            "building tree 38 of 100\n",
            "[Parallel(n_jobs=1)]: Done  38 out of  38 | elapsed:  2.5min remaining:    0.0s\n",
            "building tree 39 of 100\n",
            "[Parallel(n_jobs=1)]: Done  39 out of  39 | elapsed:  2.5min remaining:    0.0s\n",
            "building tree 40 of 100\n",
            "[Parallel(n_jobs=1)]: Done  40 out of  40 | elapsed:  2.6min remaining:    0.0s\n",
            "building tree 41 of 100\n",
            "[Parallel(n_jobs=1)]: Done  41 out of  41 | elapsed:  2.7min remaining:    0.0s\n",
            "building tree 42 of 100\n",
            "[Parallel(n_jobs=1)]: Done  42 out of  42 | elapsed:  2.7min remaining:    0.0s\n",
            "building tree 43 of 100\n",
            "[Parallel(n_jobs=1)]: Done  43 out of  43 | elapsed:  2.8min remaining:    0.0s\n",
            "building tree 44 of 100\n",
            "[Parallel(n_jobs=1)]: Done  44 out of  44 | elapsed:  2.8min remaining:    0.0s\n",
            "building tree 45 of 100\n",
            "[Parallel(n_jobs=1)]: Done  45 out of  45 | elapsed:  2.9min remaining:    0.0s\n",
            "building tree 46 of 100\n",
            "[Parallel(n_jobs=1)]: Done  46 out of  46 | elapsed:  2.9min remaining:    0.0s\n",
            "building tree 47 of 100\n",
            "[Parallel(n_jobs=1)]: Done  47 out of  47 | elapsed:  3.0min remaining:    0.0s\n",
            "building tree 48 of 100\n",
            "[Parallel(n_jobs=1)]: Done  48 out of  48 | elapsed:  3.1min remaining:    0.0s\n",
            "building tree 49 of 100\n",
            "[Parallel(n_jobs=1)]: Done  49 out of  49 | elapsed:  3.1min remaining:    0.0s\n",
            "building tree 50 of 100\n",
            "[Parallel(n_jobs=1)]: Done  50 out of  50 | elapsed:  3.2min remaining:    0.0s\n",
            "building tree 51 of 100\n",
            "[Parallel(n_jobs=1)]: Done  51 out of  51 | elapsed:  3.2min remaining:    0.0s\n",
            "building tree 52 of 100\n",
            "[Parallel(n_jobs=1)]: Done  52 out of  52 | elapsed:  3.3min remaining:    0.0s\n",
            "building tree 53 of 100\n",
            "[Parallel(n_jobs=1)]: Done  53 out of  53 | elapsed:  3.3min remaining:    0.0s\n",
            "building tree 54 of 100\n",
            "[Parallel(n_jobs=1)]: Done  54 out of  54 | elapsed:  3.4min remaining:    0.0s\n",
            "building tree 55 of 100\n",
            "[Parallel(n_jobs=1)]: Done  55 out of  55 | elapsed:  3.5min remaining:    0.0s\n",
            "building tree 56 of 100\n",
            "[Parallel(n_jobs=1)]: Done  56 out of  56 | elapsed:  3.5min remaining:    0.0s\n",
            "building tree 57 of 100\n",
            "[Parallel(n_jobs=1)]: Done  57 out of  57 | elapsed:  3.6min remaining:    0.0s\n",
            "building tree 58 of 100\n",
            "[Parallel(n_jobs=1)]: Done  58 out of  58 | elapsed:  3.6min remaining:    0.0s\n",
            "building tree 59 of 100\n",
            "[Parallel(n_jobs=1)]: Done  59 out of  59 | elapsed:  3.7min remaining:    0.0s\n",
            "building tree 60 of 100\n",
            "[Parallel(n_jobs=1)]: Done  60 out of  60 | elapsed:  3.7min remaining:    0.0s\n",
            "building tree 61 of 100\n",
            "[Parallel(n_jobs=1)]: Done  61 out of  61 | elapsed:  3.8min remaining:    0.0s\n",
            "building tree 62 of 100\n",
            "[Parallel(n_jobs=1)]: Done  62 out of  62 | elapsed:  3.8min remaining:    0.0s\n",
            "building tree 63 of 100\n",
            "[Parallel(n_jobs=1)]: Done  63 out of  63 | elapsed:  3.9min remaining:    0.0s\n",
            "building tree 64 of 100\n",
            "[Parallel(n_jobs=1)]: Done  64 out of  64 | elapsed:  3.9min remaining:    0.0s\n",
            "building tree 65 of 100\n",
            "[Parallel(n_jobs=1)]: Done  65 out of  65 | elapsed:  4.0min remaining:    0.0s\n",
            "building tree 66 of 100\n",
            "[Parallel(n_jobs=1)]: Done  66 out of  66 | elapsed:  4.1min remaining:    0.0s\n",
            "building tree 67 of 100\n",
            "[Parallel(n_jobs=1)]: Done  67 out of  67 | elapsed:  4.1min remaining:    0.0s\n",
            "building tree 68 of 100\n",
            "[Parallel(n_jobs=1)]: Done  68 out of  68 | elapsed:  4.2min remaining:    0.0s\n",
            "building tree 69 of 100\n",
            "[Parallel(n_jobs=1)]: Done  69 out of  69 | elapsed:  4.2min remaining:    0.0s\n",
            "building tree 70 of 100\n",
            "[Parallel(n_jobs=1)]: Done  70 out of  70 | elapsed:  4.3min remaining:    0.0s\n",
            "building tree 71 of 100\n",
            "[Parallel(n_jobs=1)]: Done  71 out of  71 | elapsed:  4.4min remaining:    0.0s\n",
            "building tree 72 of 100\n",
            "[Parallel(n_jobs=1)]: Done  72 out of  72 | elapsed:  4.4min remaining:    0.0s\n",
            "building tree 73 of 100\n",
            "[Parallel(n_jobs=1)]: Done  73 out of  73 | elapsed:  4.5min remaining:    0.0s\n",
            "building tree 74 of 100\n",
            "[Parallel(n_jobs=1)]: Done  74 out of  74 | elapsed:  4.6min remaining:    0.0s\n",
            "building tree 75 of 100\n",
            "[Parallel(n_jobs=1)]: Done  75 out of  75 | elapsed:  4.6min remaining:    0.0s\n",
            "building tree 76 of 100\n",
            "[Parallel(n_jobs=1)]: Done  76 out of  76 | elapsed:  4.7min remaining:    0.0s\n",
            "building tree 77 of 100\n",
            "[Parallel(n_jobs=1)]: Done  77 out of  77 | elapsed:  4.8min remaining:    0.0s\n",
            "building tree 78 of 100\n",
            "[Parallel(n_jobs=1)]: Done  78 out of  78 | elapsed:  4.8min remaining:    0.0s\n",
            "building tree 79 of 100\n",
            "[Parallel(n_jobs=1)]: Done  79 out of  79 | elapsed:  4.9min remaining:    0.0s\n",
            "building tree 80 of 100\n",
            "[Parallel(n_jobs=1)]: Done  80 out of  80 | elapsed:  4.9min remaining:    0.0s\n",
            "building tree 81 of 100\n",
            "[Parallel(n_jobs=1)]: Done  81 out of  81 | elapsed:  5.0min remaining:    0.0s\n",
            "building tree 82 of 100\n",
            "[Parallel(n_jobs=1)]: Done  82 out of  82 | elapsed:  5.1min remaining:    0.0s\n",
            "building tree 83 of 100\n",
            "[Parallel(n_jobs=1)]: Done  83 out of  83 | elapsed:  5.1min remaining:    0.0s\n",
            "building tree 84 of 100\n",
            "[Parallel(n_jobs=1)]: Done  84 out of  84 | elapsed:  5.2min remaining:    0.0s\n",
            "building tree 85 of 100\n",
            "[Parallel(n_jobs=1)]: Done  85 out of  85 | elapsed:  5.3min remaining:    0.0s\n",
            "building tree 86 of 100\n",
            "[Parallel(n_jobs=1)]: Done  86 out of  86 | elapsed:  5.4min remaining:    0.0s\n",
            "building tree 87 of 100\n",
            "[Parallel(n_jobs=1)]: Done  87 out of  87 | elapsed:  5.4min remaining:    0.0s\n",
            "building tree 88 of 100\n",
            "[Parallel(n_jobs=1)]: Done  88 out of  88 | elapsed:  5.5min remaining:    0.0s\n",
            "building tree 89 of 100\n",
            "[Parallel(n_jobs=1)]: Done  89 out of  89 | elapsed:  5.6min remaining:    0.0s\n",
            "building tree 90 of 100\n",
            "[Parallel(n_jobs=1)]: Done  90 out of  90 | elapsed:  5.7min remaining:    0.0s\n",
            "building tree 91 of 100\n",
            "[Parallel(n_jobs=1)]: Done  91 out of  91 | elapsed:  5.8min remaining:    0.0s\n",
            "building tree 92 of 100\n",
            "[Parallel(n_jobs=1)]: Done  92 out of  92 | elapsed:  5.8min remaining:    0.0s\n",
            "building tree 93 of 100\n",
            "[Parallel(n_jobs=1)]: Done  93 out of  93 | elapsed:  5.9min remaining:    0.0s\n",
            "building tree 94 of 100\n",
            "[Parallel(n_jobs=1)]: Done  94 out of  94 | elapsed:  6.0min remaining:    0.0s\n",
            "building tree 95 of 100\n",
            "[Parallel(n_jobs=1)]: Done  95 out of  95 | elapsed:  6.1min remaining:    0.0s\n",
            "building tree 96 of 100\n",
            "[Parallel(n_jobs=1)]: Done  96 out of  96 | elapsed:  6.2min remaining:    0.0s\n",
            "building tree 97 of 100\n",
            "[Parallel(n_jobs=1)]: Done  97 out of  97 | elapsed:  6.2min remaining:    0.0s\n",
            "building tree 98 of 100\n",
            "[Parallel(n_jobs=1)]: Done  98 out of  98 | elapsed:  6.3min remaining:    0.0s\n",
            "building tree 99 of 100\n",
            "[Parallel(n_jobs=1)]: Done  99 out of  99 | elapsed:  6.4min remaining:    0.0s\n",
            "building tree 100 of 100\n",
            "[Parallel(n_jobs=1)]: Done 100 out of 100 | elapsed:  6.4min remaining:    0.0s\n",
            "[Parallel(n_jobs=1)]: Done 100 out of 100 | elapsed:  6.4min finished\n"
          ]
        },
        {
          "output_type": "execute_result",
          "data": {
            "text/plain": [
              "RandomForestClassifier(max_samples=60000, verbose=1000)"
            ]
          },
          "metadata": {},
          "execution_count": 13
        }
      ]
    },
    {
      "cell_type": "code",
      "source": [
        "clf.score(X_test, y_test)"
      ],
      "metadata": {
        "colab": {
          "base_uri": "https://localhost:8080/"
        },
        "id": "ibJJW5MSTYwU",
        "outputId": "8e85a7cb-7e95-486c-b1ff-fe8d3a3ae3dc"
      },
      "execution_count": 14,
      "outputs": [
        {
          "output_type": "stream",
          "name": "stdout",
          "text": [
            "[Parallel(n_jobs=1)]: Using backend SequentialBackend with 1 concurrent workers.\n",
            "[Parallel(n_jobs=1)]: Done   1 out of   1 | elapsed:    0.5s remaining:    0.0s\n",
            "[Parallel(n_jobs=1)]: Done   2 out of   2 | elapsed:    0.9s remaining:    0.0s\n",
            "[Parallel(n_jobs=1)]: Done   3 out of   3 | elapsed:    1.4s remaining:    0.0s\n",
            "[Parallel(n_jobs=1)]: Done   4 out of   4 | elapsed:    1.8s remaining:    0.0s\n",
            "[Parallel(n_jobs=1)]: Done   5 out of   5 | elapsed:    2.3s remaining:    0.0s\n",
            "[Parallel(n_jobs=1)]: Done   6 out of   6 | elapsed:    2.7s remaining:    0.0s\n",
            "[Parallel(n_jobs=1)]: Done   7 out of   7 | elapsed:    3.2s remaining:    0.0s\n",
            "[Parallel(n_jobs=1)]: Done   8 out of   8 | elapsed:    3.6s remaining:    0.0s\n",
            "[Parallel(n_jobs=1)]: Done   9 out of   9 | elapsed:    4.0s remaining:    0.0s\n",
            "[Parallel(n_jobs=1)]: Done  10 out of  10 | elapsed:    4.5s remaining:    0.0s\n",
            "[Parallel(n_jobs=1)]: Done  11 out of  11 | elapsed:    5.0s remaining:    0.0s\n",
            "[Parallel(n_jobs=1)]: Done  12 out of  12 | elapsed:    5.4s remaining:    0.0s\n",
            "[Parallel(n_jobs=1)]: Done  13 out of  13 | elapsed:    5.9s remaining:    0.0s\n",
            "[Parallel(n_jobs=1)]: Done  14 out of  14 | elapsed:    6.3s remaining:    0.0s\n",
            "[Parallel(n_jobs=1)]: Done  15 out of  15 | elapsed:    6.8s remaining:    0.0s\n",
            "[Parallel(n_jobs=1)]: Done  16 out of  16 | elapsed:    7.4s remaining:    0.0s\n",
            "[Parallel(n_jobs=1)]: Done  17 out of  17 | elapsed:    7.9s remaining:    0.0s\n",
            "[Parallel(n_jobs=1)]: Done  18 out of  18 | elapsed:    8.4s remaining:    0.0s\n",
            "[Parallel(n_jobs=1)]: Done  19 out of  19 | elapsed:    8.8s remaining:    0.0s\n",
            "[Parallel(n_jobs=1)]: Done  20 out of  20 | elapsed:    9.3s remaining:    0.0s\n",
            "[Parallel(n_jobs=1)]: Done  21 out of  21 | elapsed:    9.8s remaining:    0.0s\n",
            "[Parallel(n_jobs=1)]: Done  22 out of  22 | elapsed:   10.2s remaining:    0.0s\n",
            "[Parallel(n_jobs=1)]: Done  23 out of  23 | elapsed:   10.7s remaining:    0.0s\n",
            "[Parallel(n_jobs=1)]: Done  24 out of  24 | elapsed:   11.1s remaining:    0.0s\n",
            "[Parallel(n_jobs=1)]: Done  25 out of  25 | elapsed:   11.6s remaining:    0.0s\n",
            "[Parallel(n_jobs=1)]: Done  26 out of  26 | elapsed:   12.0s remaining:    0.0s\n",
            "[Parallel(n_jobs=1)]: Done  27 out of  27 | elapsed:   12.5s remaining:    0.0s\n",
            "[Parallel(n_jobs=1)]: Done  28 out of  28 | elapsed:   12.9s remaining:    0.0s\n",
            "[Parallel(n_jobs=1)]: Done  29 out of  29 | elapsed:   13.4s remaining:    0.0s\n",
            "[Parallel(n_jobs=1)]: Done  30 out of  30 | elapsed:   13.8s remaining:    0.0s\n",
            "[Parallel(n_jobs=1)]: Done  31 out of  31 | elapsed:   14.3s remaining:    0.0s\n",
            "[Parallel(n_jobs=1)]: Done  32 out of  32 | elapsed:   14.7s remaining:    0.0s\n",
            "[Parallel(n_jobs=1)]: Done  33 out of  33 | elapsed:   15.2s remaining:    0.0s\n",
            "[Parallel(n_jobs=1)]: Done  34 out of  34 | elapsed:   15.6s remaining:    0.0s\n",
            "[Parallel(n_jobs=1)]: Done  35 out of  35 | elapsed:   16.1s remaining:    0.0s\n",
            "[Parallel(n_jobs=1)]: Done  36 out of  36 | elapsed:   16.6s remaining:    0.0s\n",
            "[Parallel(n_jobs=1)]: Done  37 out of  37 | elapsed:   17.0s remaining:    0.0s\n",
            "[Parallel(n_jobs=1)]: Done  38 out of  38 | elapsed:   17.5s remaining:    0.0s\n",
            "[Parallel(n_jobs=1)]: Done  39 out of  39 | elapsed:   18.0s remaining:    0.0s\n",
            "[Parallel(n_jobs=1)]: Done  40 out of  40 | elapsed:   18.4s remaining:    0.0s\n",
            "[Parallel(n_jobs=1)]: Done  41 out of  41 | elapsed:   18.9s remaining:    0.0s\n",
            "[Parallel(n_jobs=1)]: Done  42 out of  42 | elapsed:   19.3s remaining:    0.0s\n",
            "[Parallel(n_jobs=1)]: Done  43 out of  43 | elapsed:   19.8s remaining:    0.0s\n",
            "[Parallel(n_jobs=1)]: Done  44 out of  44 | elapsed:   20.2s remaining:    0.0s\n",
            "[Parallel(n_jobs=1)]: Done  45 out of  45 | elapsed:   20.7s remaining:    0.0s\n",
            "[Parallel(n_jobs=1)]: Done  46 out of  46 | elapsed:   21.1s remaining:    0.0s\n",
            "[Parallel(n_jobs=1)]: Done  47 out of  47 | elapsed:   21.6s remaining:    0.0s\n",
            "[Parallel(n_jobs=1)]: Done  48 out of  48 | elapsed:   22.0s remaining:    0.0s\n",
            "[Parallel(n_jobs=1)]: Done  49 out of  49 | elapsed:   22.5s remaining:    0.0s\n",
            "[Parallel(n_jobs=1)]: Done  50 out of  50 | elapsed:   22.9s remaining:    0.0s\n",
            "[Parallel(n_jobs=1)]: Done  51 out of  51 | elapsed:   23.4s remaining:    0.0s\n",
            "[Parallel(n_jobs=1)]: Done  52 out of  52 | elapsed:   23.9s remaining:    0.0s\n",
            "[Parallel(n_jobs=1)]: Done  53 out of  53 | elapsed:   24.3s remaining:    0.0s\n",
            "[Parallel(n_jobs=1)]: Done  54 out of  54 | elapsed:   24.8s remaining:    0.0s\n",
            "[Parallel(n_jobs=1)]: Done  55 out of  55 | elapsed:   25.3s remaining:    0.0s\n",
            "[Parallel(n_jobs=1)]: Done  56 out of  56 | elapsed:   25.7s remaining:    0.0s\n",
            "[Parallel(n_jobs=1)]: Done  57 out of  57 | elapsed:   26.2s remaining:    0.0s\n",
            "[Parallel(n_jobs=1)]: Done  58 out of  58 | elapsed:   26.8s remaining:    0.0s\n",
            "[Parallel(n_jobs=1)]: Done  59 out of  59 | elapsed:   27.3s remaining:    0.0s\n",
            "[Parallel(n_jobs=1)]: Done  60 out of  60 | elapsed:   27.8s remaining:    0.0s\n",
            "[Parallel(n_jobs=1)]: Done  61 out of  61 | elapsed:   28.4s remaining:    0.0s\n",
            "[Parallel(n_jobs=1)]: Done  62 out of  62 | elapsed:   28.9s remaining:    0.0s\n",
            "[Parallel(n_jobs=1)]: Done  63 out of  63 | elapsed:   29.5s remaining:    0.0s\n",
            "[Parallel(n_jobs=1)]: Done  64 out of  64 | elapsed:   30.0s remaining:    0.0s\n",
            "[Parallel(n_jobs=1)]: Done  65 out of  65 | elapsed:   30.6s remaining:    0.0s\n",
            "[Parallel(n_jobs=1)]: Done  66 out of  66 | elapsed:   31.2s remaining:    0.0s\n",
            "[Parallel(n_jobs=1)]: Done  67 out of  67 | elapsed:   31.7s remaining:    0.0s\n",
            "[Parallel(n_jobs=1)]: Done  68 out of  68 | elapsed:   32.2s remaining:    0.0s\n",
            "[Parallel(n_jobs=1)]: Done  69 out of  69 | elapsed:   32.7s remaining:    0.0s\n",
            "[Parallel(n_jobs=1)]: Done  70 out of  70 | elapsed:   33.2s remaining:    0.0s\n",
            "[Parallel(n_jobs=1)]: Done  71 out of  71 | elapsed:   33.7s remaining:    0.0s\n",
            "[Parallel(n_jobs=1)]: Done  72 out of  72 | elapsed:   34.2s remaining:    0.0s\n",
            "[Parallel(n_jobs=1)]: Done  73 out of  73 | elapsed:   34.7s remaining:    0.0s\n",
            "[Parallel(n_jobs=1)]: Done  74 out of  74 | elapsed:   35.2s remaining:    0.0s\n",
            "[Parallel(n_jobs=1)]: Done  75 out of  75 | elapsed:   35.7s remaining:    0.0s\n",
            "[Parallel(n_jobs=1)]: Done  76 out of  76 | elapsed:   36.2s remaining:    0.0s\n",
            "[Parallel(n_jobs=1)]: Done  77 out of  77 | elapsed:   36.7s remaining:    0.0s\n",
            "[Parallel(n_jobs=1)]: Done  78 out of  78 | elapsed:   37.2s remaining:    0.0s\n",
            "[Parallel(n_jobs=1)]: Done  79 out of  79 | elapsed:   37.7s remaining:    0.0s\n",
            "[Parallel(n_jobs=1)]: Done  80 out of  80 | elapsed:   38.1s remaining:    0.0s\n",
            "[Parallel(n_jobs=1)]: Done  81 out of  81 | elapsed:   38.6s remaining:    0.0s\n",
            "[Parallel(n_jobs=1)]: Done  82 out of  82 | elapsed:   39.1s remaining:    0.0s\n",
            "[Parallel(n_jobs=1)]: Done  83 out of  83 | elapsed:   39.6s remaining:    0.0s\n",
            "[Parallel(n_jobs=1)]: Done  84 out of  84 | elapsed:   40.0s remaining:    0.0s\n",
            "[Parallel(n_jobs=1)]: Done  85 out of  85 | elapsed:   40.5s remaining:    0.0s\n",
            "[Parallel(n_jobs=1)]: Done  86 out of  86 | elapsed:   40.9s remaining:    0.0s\n",
            "[Parallel(n_jobs=1)]: Done  87 out of  87 | elapsed:   41.4s remaining:    0.0s\n",
            "[Parallel(n_jobs=1)]: Done  88 out of  88 | elapsed:   41.8s remaining:    0.0s\n",
            "[Parallel(n_jobs=1)]: Done  89 out of  89 | elapsed:   42.3s remaining:    0.0s\n",
            "[Parallel(n_jobs=1)]: Done  90 out of  90 | elapsed:   42.8s remaining:    0.0s\n",
            "[Parallel(n_jobs=1)]: Done  91 out of  91 | elapsed:   43.2s remaining:    0.0s\n",
            "[Parallel(n_jobs=1)]: Done  92 out of  92 | elapsed:   43.7s remaining:    0.0s\n",
            "[Parallel(n_jobs=1)]: Done  93 out of  93 | elapsed:   44.2s remaining:    0.0s\n",
            "[Parallel(n_jobs=1)]: Done  94 out of  94 | elapsed:   44.6s remaining:    0.0s\n",
            "[Parallel(n_jobs=1)]: Done  95 out of  95 | elapsed:   45.1s remaining:    0.0s\n",
            "[Parallel(n_jobs=1)]: Done  96 out of  96 | elapsed:   45.6s remaining:    0.0s\n",
            "[Parallel(n_jobs=1)]: Done  97 out of  97 | elapsed:   46.0s remaining:    0.0s\n",
            "[Parallel(n_jobs=1)]: Done  98 out of  98 | elapsed:   46.5s remaining:    0.0s\n",
            "[Parallel(n_jobs=1)]: Done  99 out of  99 | elapsed:   46.9s remaining:    0.0s\n",
            "[Parallel(n_jobs=1)]: Done 100 out of 100 | elapsed:   47.4s remaining:    0.0s\n",
            "[Parallel(n_jobs=1)]: Done 100 out of 100 | elapsed:   47.4s finished\n"
          ]
        },
        {
          "output_type": "execute_result",
          "data": {
            "text/plain": [
              "0.8713258988819398"
            ]
          },
          "metadata": {},
          "execution_count": 14
        }
      ]
    },
    {
      "cell_type": "code",
      "source": [
        "clf.get_params()"
      ],
      "metadata": {
        "colab": {
          "base_uri": "https://localhost:8080/"
        },
        "id": "NGMAsrrtTcWy",
        "outputId": "1d7bd9db-eb68-4913-ac06-43d535c98eb3"
      },
      "execution_count": 15,
      "outputs": [
        {
          "output_type": "execute_result",
          "data": {
            "text/plain": [
              "{'bootstrap': True,\n",
              " 'ccp_alpha': 0.0,\n",
              " 'class_weight': None,\n",
              " 'criterion': 'gini',\n",
              " 'max_depth': None,\n",
              " 'max_features': 'auto',\n",
              " 'max_leaf_nodes': None,\n",
              " 'max_samples': 60000,\n",
              " 'min_impurity_decrease': 0.0,\n",
              " 'min_samples_leaf': 1,\n",
              " 'min_samples_split': 2,\n",
              " 'min_weight_fraction_leaf': 0.0,\n",
              " 'n_estimators': 100,\n",
              " 'n_jobs': None,\n",
              " 'oob_score': False,\n",
              " 'random_state': None,\n",
              " 'verbose': 1000,\n",
              " 'warm_start': False}"
            ]
          },
          "metadata": {},
          "execution_count": 15
        }
      ]
    },
    {
      "cell_type": "code",
      "source": [
        "y_pred = clf.predict(X_test)"
      ],
      "metadata": {
        "id": "rEZ7WJg-ri_c",
        "colab": {
          "base_uri": "https://localhost:8080/"
        },
        "outputId": "e9e57df2-5e4f-41d7-8f4a-142bc4c75eea"
      },
      "execution_count": 16,
      "outputs": [
        {
          "output_type": "stream",
          "name": "stdout",
          "text": [
            "[Parallel(n_jobs=1)]: Using backend SequentialBackend with 1 concurrent workers.\n",
            "[Parallel(n_jobs=1)]: Done   1 out of   1 | elapsed:    0.5s remaining:    0.0s\n",
            "[Parallel(n_jobs=1)]: Done   2 out of   2 | elapsed:    0.9s remaining:    0.0s\n",
            "[Parallel(n_jobs=1)]: Done   3 out of   3 | elapsed:    1.4s remaining:    0.0s\n",
            "[Parallel(n_jobs=1)]: Done   4 out of   4 | elapsed:    1.9s remaining:    0.0s\n",
            "[Parallel(n_jobs=1)]: Done   5 out of   5 | elapsed:    2.3s remaining:    0.0s\n",
            "[Parallel(n_jobs=1)]: Done   6 out of   6 | elapsed:    2.8s remaining:    0.0s\n",
            "[Parallel(n_jobs=1)]: Done   7 out of   7 | elapsed:    3.3s remaining:    0.0s\n",
            "[Parallel(n_jobs=1)]: Done   8 out of   8 | elapsed:    3.8s remaining:    0.0s\n",
            "[Parallel(n_jobs=1)]: Done   9 out of   9 | elapsed:    4.3s remaining:    0.0s\n",
            "[Parallel(n_jobs=1)]: Done  10 out of  10 | elapsed:    4.8s remaining:    0.0s\n",
            "[Parallel(n_jobs=1)]: Done  11 out of  11 | elapsed:    5.2s remaining:    0.0s\n",
            "[Parallel(n_jobs=1)]: Done  12 out of  12 | elapsed:    5.7s remaining:    0.0s\n",
            "[Parallel(n_jobs=1)]: Done  13 out of  13 | elapsed:    6.2s remaining:    0.0s\n",
            "[Parallel(n_jobs=1)]: Done  14 out of  14 | elapsed:    6.6s remaining:    0.0s\n",
            "[Parallel(n_jobs=1)]: Done  15 out of  15 | elapsed:    7.1s remaining:    0.0s\n",
            "[Parallel(n_jobs=1)]: Done  16 out of  16 | elapsed:    7.6s remaining:    0.0s\n",
            "[Parallel(n_jobs=1)]: Done  17 out of  17 | elapsed:    8.0s remaining:    0.0s\n",
            "[Parallel(n_jobs=1)]: Done  18 out of  18 | elapsed:    8.5s remaining:    0.0s\n",
            "[Parallel(n_jobs=1)]: Done  19 out of  19 | elapsed:    9.0s remaining:    0.0s\n",
            "[Parallel(n_jobs=1)]: Done  20 out of  20 | elapsed:    9.5s remaining:    0.0s\n",
            "[Parallel(n_jobs=1)]: Done  21 out of  21 | elapsed:   10.0s remaining:    0.0s\n",
            "[Parallel(n_jobs=1)]: Done  22 out of  22 | elapsed:   10.5s remaining:    0.0s\n",
            "[Parallel(n_jobs=1)]: Done  23 out of  23 | elapsed:   10.9s remaining:    0.0s\n",
            "[Parallel(n_jobs=1)]: Done  24 out of  24 | elapsed:   11.4s remaining:    0.0s\n",
            "[Parallel(n_jobs=1)]: Done  25 out of  25 | elapsed:   11.9s remaining:    0.0s\n",
            "[Parallel(n_jobs=1)]: Done  26 out of  26 | elapsed:   12.3s remaining:    0.0s\n",
            "[Parallel(n_jobs=1)]: Done  27 out of  27 | elapsed:   12.8s remaining:    0.0s\n",
            "[Parallel(n_jobs=1)]: Done  28 out of  28 | elapsed:   13.3s remaining:    0.0s\n",
            "[Parallel(n_jobs=1)]: Done  29 out of  29 | elapsed:   13.7s remaining:    0.0s\n",
            "[Parallel(n_jobs=1)]: Done  30 out of  30 | elapsed:   14.2s remaining:    0.0s\n",
            "[Parallel(n_jobs=1)]: Done  31 out of  31 | elapsed:   14.6s remaining:    0.0s\n",
            "[Parallel(n_jobs=1)]: Done  32 out of  32 | elapsed:   15.1s remaining:    0.0s\n",
            "[Parallel(n_jobs=1)]: Done  33 out of  33 | elapsed:   15.6s remaining:    0.0s\n",
            "[Parallel(n_jobs=1)]: Done  34 out of  34 | elapsed:   16.1s remaining:    0.0s\n",
            "[Parallel(n_jobs=1)]: Done  35 out of  35 | elapsed:   16.5s remaining:    0.0s\n",
            "[Parallel(n_jobs=1)]: Done  36 out of  36 | elapsed:   17.0s remaining:    0.0s\n",
            "[Parallel(n_jobs=1)]: Done  37 out of  37 | elapsed:   17.5s remaining:    0.0s\n",
            "[Parallel(n_jobs=1)]: Done  38 out of  38 | elapsed:   17.9s remaining:    0.0s\n",
            "[Parallel(n_jobs=1)]: Done  39 out of  39 | elapsed:   18.4s remaining:    0.0s\n",
            "[Parallel(n_jobs=1)]: Done  40 out of  40 | elapsed:   18.8s remaining:    0.0s\n",
            "[Parallel(n_jobs=1)]: Done  41 out of  41 | elapsed:   19.3s remaining:    0.0s\n",
            "[Parallel(n_jobs=1)]: Done  42 out of  42 | elapsed:   19.8s remaining:    0.0s\n",
            "[Parallel(n_jobs=1)]: Done  43 out of  43 | elapsed:   20.3s remaining:    0.0s\n",
            "[Parallel(n_jobs=1)]: Done  44 out of  44 | elapsed:   20.7s remaining:    0.0s\n",
            "[Parallel(n_jobs=1)]: Done  45 out of  45 | elapsed:   21.2s remaining:    0.0s\n",
            "[Parallel(n_jobs=1)]: Done  46 out of  46 | elapsed:   21.7s remaining:    0.0s\n",
            "[Parallel(n_jobs=1)]: Done  47 out of  47 | elapsed:   22.2s remaining:    0.0s\n",
            "[Parallel(n_jobs=1)]: Done  48 out of  48 | elapsed:   22.6s remaining:    0.0s\n",
            "[Parallel(n_jobs=1)]: Done  49 out of  49 | elapsed:   23.1s remaining:    0.0s\n",
            "[Parallel(n_jobs=1)]: Done  50 out of  50 | elapsed:   23.6s remaining:    0.0s\n",
            "[Parallel(n_jobs=1)]: Done  51 out of  51 | elapsed:   24.0s remaining:    0.0s\n",
            "[Parallel(n_jobs=1)]: Done  52 out of  52 | elapsed:   24.5s remaining:    0.0s\n",
            "[Parallel(n_jobs=1)]: Done  53 out of  53 | elapsed:   25.0s remaining:    0.0s\n",
            "[Parallel(n_jobs=1)]: Done  54 out of  54 | elapsed:   25.5s remaining:    0.0s\n",
            "[Parallel(n_jobs=1)]: Done  55 out of  55 | elapsed:   26.0s remaining:    0.0s\n",
            "[Parallel(n_jobs=1)]: Done  56 out of  56 | elapsed:   26.5s remaining:    0.0s\n",
            "[Parallel(n_jobs=1)]: Done  57 out of  57 | elapsed:   27.0s remaining:    0.0s\n",
            "[Parallel(n_jobs=1)]: Done  58 out of  58 | elapsed:   27.4s remaining:    0.0s\n",
            "[Parallel(n_jobs=1)]: Done  59 out of  59 | elapsed:   27.9s remaining:    0.0s\n",
            "[Parallel(n_jobs=1)]: Done  60 out of  60 | elapsed:   28.4s remaining:    0.0s\n",
            "[Parallel(n_jobs=1)]: Done  61 out of  61 | elapsed:   28.8s remaining:    0.0s\n",
            "[Parallel(n_jobs=1)]: Done  62 out of  62 | elapsed:   29.3s remaining:    0.0s\n",
            "[Parallel(n_jobs=1)]: Done  63 out of  63 | elapsed:   29.7s remaining:    0.0s\n",
            "[Parallel(n_jobs=1)]: Done  64 out of  64 | elapsed:   30.2s remaining:    0.0s\n",
            "[Parallel(n_jobs=1)]: Done  65 out of  65 | elapsed:   30.7s remaining:    0.0s\n",
            "[Parallel(n_jobs=1)]: Done  66 out of  66 | elapsed:   31.2s remaining:    0.0s\n",
            "[Parallel(n_jobs=1)]: Done  67 out of  67 | elapsed:   31.7s remaining:    0.0s\n",
            "[Parallel(n_jobs=1)]: Done  68 out of  68 | elapsed:   32.2s remaining:    0.0s\n",
            "[Parallel(n_jobs=1)]: Done  69 out of  69 | elapsed:   32.6s remaining:    0.0s\n",
            "[Parallel(n_jobs=1)]: Done  70 out of  70 | elapsed:   33.1s remaining:    0.0s\n",
            "[Parallel(n_jobs=1)]: Done  71 out of  71 | elapsed:   33.6s remaining:    0.0s\n",
            "[Parallel(n_jobs=1)]: Done  72 out of  72 | elapsed:   34.1s remaining:    0.0s\n",
            "[Parallel(n_jobs=1)]: Done  73 out of  73 | elapsed:   34.6s remaining:    0.0s\n",
            "[Parallel(n_jobs=1)]: Done  74 out of  74 | elapsed:   35.0s remaining:    0.0s\n",
            "[Parallel(n_jobs=1)]: Done  75 out of  75 | elapsed:   35.5s remaining:    0.0s\n",
            "[Parallel(n_jobs=1)]: Done  76 out of  76 | elapsed:   36.0s remaining:    0.0s\n",
            "[Parallel(n_jobs=1)]: Done  77 out of  77 | elapsed:   36.5s remaining:    0.0s\n",
            "[Parallel(n_jobs=1)]: Done  78 out of  78 | elapsed:   37.0s remaining:    0.0s\n",
            "[Parallel(n_jobs=1)]: Done  79 out of  79 | elapsed:   37.5s remaining:    0.0s\n",
            "[Parallel(n_jobs=1)]: Done  80 out of  80 | elapsed:   38.0s remaining:    0.0s\n",
            "[Parallel(n_jobs=1)]: Done  81 out of  81 | elapsed:   38.4s remaining:    0.0s\n",
            "[Parallel(n_jobs=1)]: Done  82 out of  82 | elapsed:   38.9s remaining:    0.0s\n",
            "[Parallel(n_jobs=1)]: Done  83 out of  83 | elapsed:   39.4s remaining:    0.0s\n",
            "[Parallel(n_jobs=1)]: Done  84 out of  84 | elapsed:   39.9s remaining:    0.0s\n",
            "[Parallel(n_jobs=1)]: Done  85 out of  85 | elapsed:   40.4s remaining:    0.0s\n",
            "[Parallel(n_jobs=1)]: Done  86 out of  86 | elapsed:   40.9s remaining:    0.0s\n",
            "[Parallel(n_jobs=1)]: Done  87 out of  87 | elapsed:   41.4s remaining:    0.0s\n",
            "[Parallel(n_jobs=1)]: Done  88 out of  88 | elapsed:   41.8s remaining:    0.0s\n",
            "[Parallel(n_jobs=1)]: Done  89 out of  89 | elapsed:   42.3s remaining:    0.0s\n",
            "[Parallel(n_jobs=1)]: Done  90 out of  90 | elapsed:   42.8s remaining:    0.0s\n",
            "[Parallel(n_jobs=1)]: Done  91 out of  91 | elapsed:   43.3s remaining:    0.0s\n",
            "[Parallel(n_jobs=1)]: Done  92 out of  92 | elapsed:   43.8s remaining:    0.0s\n",
            "[Parallel(n_jobs=1)]: Done  93 out of  93 | elapsed:   44.4s remaining:    0.0s\n",
            "[Parallel(n_jobs=1)]: Done  94 out of  94 | elapsed:   44.8s remaining:    0.0s\n",
            "[Parallel(n_jobs=1)]: Done  95 out of  95 | elapsed:   45.3s remaining:    0.0s\n",
            "[Parallel(n_jobs=1)]: Done  96 out of  96 | elapsed:   45.8s remaining:    0.0s\n",
            "[Parallel(n_jobs=1)]: Done  97 out of  97 | elapsed:   46.2s remaining:    0.0s\n",
            "[Parallel(n_jobs=1)]: Done  98 out of  98 | elapsed:   46.7s remaining:    0.0s\n",
            "[Parallel(n_jobs=1)]: Done  99 out of  99 | elapsed:   47.2s remaining:    0.0s\n",
            "[Parallel(n_jobs=1)]: Done 100 out of 100 | elapsed:   47.7s remaining:    0.0s\n",
            "[Parallel(n_jobs=1)]: Done 100 out of 100 | elapsed:   47.7s finished\n"
          ]
        }
      ]
    },
    {
      "cell_type": "code",
      "source": [
        "tn, fp, fn, tp = confusion_matrix(y_test, y_pred).ravel()"
      ],
      "metadata": {
        "id": "VpDuIcwcr-rn"
      },
      "execution_count": 17,
      "outputs": []
    },
    {
      "cell_type": "code",
      "source": [
        "tn, fp, fn, tp"
      ],
      "metadata": {
        "colab": {
          "base_uri": "https://localhost:8080/"
        },
        "id": "EegTKc03sL4F",
        "outputId": "d601f235-b1cc-4561-f514-5c94a06f5a35"
      },
      "execution_count": 18,
      "outputs": [
        {
          "output_type": "execute_result",
          "data": {
            "text/plain": [
              "(763367, 67340, 75011, 200573)"
            ]
          },
          "metadata": {},
          "execution_count": 18
        }
      ]
    },
    {
      "cell_type": "code",
      "source": [
        "f1_score(y_test, y_pred)"
      ],
      "metadata": {
        "colab": {
          "base_uri": "https://localhost:8080/"
        },
        "id": "0h4Ph6YMsi_L",
        "outputId": "cab1bdb3-6bad-42cb-f134-730c1ee63890"
      },
      "execution_count": 19,
      "outputs": [
        {
          "output_type": "execute_result",
          "data": {
            "text/plain": [
              "0.738083190891578"
            ]
          },
          "metadata": {},
          "execution_count": 19
        }
      ]
    },
    {
      "cell_type": "code",
      "source": [
        "print(classification_report(y_test, y_pred, digits=4))"
      ],
      "metadata": {
        "colab": {
          "base_uri": "https://localhost:8080/"
        },
        "id": "27sjT9PhxeDg",
        "outputId": "2f5895c0-90be-4931-aaf0-cacfa40ae9a7"
      },
      "execution_count": 20,
      "outputs": [
        {
          "output_type": "stream",
          "name": "stdout",
          "text": [
            "              precision    recall  f1-score   support\n",
            "\n",
            "           0     0.9105    0.9189    0.9147    830707\n",
            "           1     0.7486    0.7278    0.7381    275584\n",
            "\n",
            "    accuracy                         0.8713   1106291\n",
            "   macro avg     0.8296    0.8234    0.8264   1106291\n",
            "weighted avg     0.8702    0.8713    0.8707   1106291\n",
            "\n"
          ]
        }
      ]
    },
    {
      "cell_type": "code",
      "source": [
        "plot_confusion_matrix(clf, X_test, y_test,display_labels=['Non-Default', 'Default'], values_format='10d')  \n",
        "plt.show()"
      ],
      "metadata": {
        "id": "XHwJrAeYv6bi",
        "colab": {
          "base_uri": "https://localhost:8080/",
          "height": 1000
        },
        "outputId": "ce6d42fc-d5e3-4b1c-849b-2895b7fba8d3"
      },
      "execution_count": 21,
      "outputs": [
        {
          "output_type": "stream",
          "name": "stderr",
          "text": [
            "/usr/local/lib/python3.7/dist-packages/sklearn/utils/deprecation.py:87: FutureWarning: Function plot_confusion_matrix is deprecated; Function `plot_confusion_matrix` is deprecated in 1.0 and will be removed in 1.2. Use one of the class methods: ConfusionMatrixDisplay.from_predictions or ConfusionMatrixDisplay.from_estimator.\n",
            "  warnings.warn(msg, category=FutureWarning)\n"
          ]
        },
        {
          "output_type": "stream",
          "name": "stdout",
          "text": [
            "[Parallel(n_jobs=1)]: Using backend SequentialBackend with 1 concurrent workers.\n",
            "[Parallel(n_jobs=1)]: Done   1 out of   1 | elapsed:    0.5s remaining:    0.0s\n",
            "[Parallel(n_jobs=1)]: Done   2 out of   2 | elapsed:    1.0s remaining:    0.0s\n",
            "[Parallel(n_jobs=1)]: Done   3 out of   3 | elapsed:    1.4s remaining:    0.0s\n",
            "[Parallel(n_jobs=1)]: Done   4 out of   4 | elapsed:    1.9s remaining:    0.0s\n",
            "[Parallel(n_jobs=1)]: Done   5 out of   5 | elapsed:    2.4s remaining:    0.0s\n",
            "[Parallel(n_jobs=1)]: Done   6 out of   6 | elapsed:    2.9s remaining:    0.0s\n",
            "[Parallel(n_jobs=1)]: Done   7 out of   7 | elapsed:    3.3s remaining:    0.0s\n",
            "[Parallel(n_jobs=1)]: Done   8 out of   8 | elapsed:    3.8s remaining:    0.0s\n",
            "[Parallel(n_jobs=1)]: Done   9 out of   9 | elapsed:    4.3s remaining:    0.0s\n",
            "[Parallel(n_jobs=1)]: Done  10 out of  10 | elapsed:    4.8s remaining:    0.0s\n",
            "[Parallel(n_jobs=1)]: Done  11 out of  11 | elapsed:    5.3s remaining:    0.0s\n",
            "[Parallel(n_jobs=1)]: Done  12 out of  12 | elapsed:    5.7s remaining:    0.0s\n",
            "[Parallel(n_jobs=1)]: Done  13 out of  13 | elapsed:    6.2s remaining:    0.0s\n",
            "[Parallel(n_jobs=1)]: Done  14 out of  14 | elapsed:    6.7s remaining:    0.0s\n",
            "[Parallel(n_jobs=1)]: Done  15 out of  15 | elapsed:    7.2s remaining:    0.0s\n",
            "[Parallel(n_jobs=1)]: Done  16 out of  16 | elapsed:    7.7s remaining:    0.0s\n",
            "[Parallel(n_jobs=1)]: Done  17 out of  17 | elapsed:    8.1s remaining:    0.0s\n",
            "[Parallel(n_jobs=1)]: Done  18 out of  18 | elapsed:    8.6s remaining:    0.0s\n",
            "[Parallel(n_jobs=1)]: Done  19 out of  19 | elapsed:    9.1s remaining:    0.0s\n",
            "[Parallel(n_jobs=1)]: Done  20 out of  20 | elapsed:    9.6s remaining:    0.0s\n",
            "[Parallel(n_jobs=1)]: Done  21 out of  21 | elapsed:   10.0s remaining:    0.0s\n",
            "[Parallel(n_jobs=1)]: Done  22 out of  22 | elapsed:   10.5s remaining:    0.0s\n",
            "[Parallel(n_jobs=1)]: Done  23 out of  23 | elapsed:   11.0s remaining:    0.0s\n",
            "[Parallel(n_jobs=1)]: Done  24 out of  24 | elapsed:   11.4s remaining:    0.0s\n",
            "[Parallel(n_jobs=1)]: Done  25 out of  25 | elapsed:   11.9s remaining:    0.0s\n",
            "[Parallel(n_jobs=1)]: Done  26 out of  26 | elapsed:   12.4s remaining:    0.0s\n",
            "[Parallel(n_jobs=1)]: Done  27 out of  27 | elapsed:   12.8s remaining:    0.0s\n",
            "[Parallel(n_jobs=1)]: Done  28 out of  28 | elapsed:   13.3s remaining:    0.0s\n",
            "[Parallel(n_jobs=1)]: Done  29 out of  29 | elapsed:   13.8s remaining:    0.0s\n",
            "[Parallel(n_jobs=1)]: Done  30 out of  30 | elapsed:   14.2s remaining:    0.0s\n",
            "[Parallel(n_jobs=1)]: Done  31 out of  31 | elapsed:   14.7s remaining:    0.0s\n",
            "[Parallel(n_jobs=1)]: Done  32 out of  32 | elapsed:   15.2s remaining:    0.0s\n",
            "[Parallel(n_jobs=1)]: Done  33 out of  33 | elapsed:   15.6s remaining:    0.0s\n",
            "[Parallel(n_jobs=1)]: Done  34 out of  34 | elapsed:   16.1s remaining:    0.0s\n",
            "[Parallel(n_jobs=1)]: Done  35 out of  35 | elapsed:   16.6s remaining:    0.0s\n",
            "[Parallel(n_jobs=1)]: Done  36 out of  36 | elapsed:   17.1s remaining:    0.0s\n",
            "[Parallel(n_jobs=1)]: Done  37 out of  37 | elapsed:   17.5s remaining:    0.0s\n",
            "[Parallel(n_jobs=1)]: Done  38 out of  38 | elapsed:   18.0s remaining:    0.0s\n",
            "[Parallel(n_jobs=1)]: Done  39 out of  39 | elapsed:   18.5s remaining:    0.0s\n",
            "[Parallel(n_jobs=1)]: Done  40 out of  40 | elapsed:   18.9s remaining:    0.0s\n",
            "[Parallel(n_jobs=1)]: Done  41 out of  41 | elapsed:   19.4s remaining:    0.0s\n",
            "[Parallel(n_jobs=1)]: Done  42 out of  42 | elapsed:   19.9s remaining:    0.0s\n",
            "[Parallel(n_jobs=1)]: Done  43 out of  43 | elapsed:   20.3s remaining:    0.0s\n",
            "[Parallel(n_jobs=1)]: Done  44 out of  44 | elapsed:   20.8s remaining:    0.0s\n",
            "[Parallel(n_jobs=1)]: Done  45 out of  45 | elapsed:   21.3s remaining:    0.0s\n",
            "[Parallel(n_jobs=1)]: Done  46 out of  46 | elapsed:   21.7s remaining:    0.0s\n",
            "[Parallel(n_jobs=1)]: Done  47 out of  47 | elapsed:   22.3s remaining:    0.0s\n",
            "[Parallel(n_jobs=1)]: Done  48 out of  48 | elapsed:   22.7s remaining:    0.0s\n",
            "[Parallel(n_jobs=1)]: Done  49 out of  49 | elapsed:   23.2s remaining:    0.0s\n",
            "[Parallel(n_jobs=1)]: Done  50 out of  50 | elapsed:   23.6s remaining:    0.0s\n",
            "[Parallel(n_jobs=1)]: Done  51 out of  51 | elapsed:   24.1s remaining:    0.0s\n",
            "[Parallel(n_jobs=1)]: Done  52 out of  52 | elapsed:   24.6s remaining:    0.0s\n",
            "[Parallel(n_jobs=1)]: Done  53 out of  53 | elapsed:   25.1s remaining:    0.0s\n",
            "[Parallel(n_jobs=1)]: Done  54 out of  54 | elapsed:   25.6s remaining:    0.0s\n",
            "[Parallel(n_jobs=1)]: Done  55 out of  55 | elapsed:   26.1s remaining:    0.0s\n",
            "[Parallel(n_jobs=1)]: Done  56 out of  56 | elapsed:   26.5s remaining:    0.0s\n",
            "[Parallel(n_jobs=1)]: Done  57 out of  57 | elapsed:   27.0s remaining:    0.0s\n",
            "[Parallel(n_jobs=1)]: Done  58 out of  58 | elapsed:   27.5s remaining:    0.0s\n",
            "[Parallel(n_jobs=1)]: Done  59 out of  59 | elapsed:   28.0s remaining:    0.0s\n",
            "[Parallel(n_jobs=1)]: Done  60 out of  60 | elapsed:   28.4s remaining:    0.0s\n",
            "[Parallel(n_jobs=1)]: Done  61 out of  61 | elapsed:   28.9s remaining:    0.0s\n",
            "[Parallel(n_jobs=1)]: Done  62 out of  62 | elapsed:   29.4s remaining:    0.0s\n",
            "[Parallel(n_jobs=1)]: Done  63 out of  63 | elapsed:   29.8s remaining:    0.0s\n",
            "[Parallel(n_jobs=1)]: Done  64 out of  64 | elapsed:   30.3s remaining:    0.0s\n",
            "[Parallel(n_jobs=1)]: Done  65 out of  65 | elapsed:   30.8s remaining:    0.0s\n",
            "[Parallel(n_jobs=1)]: Done  66 out of  66 | elapsed:   31.3s remaining:    0.0s\n",
            "[Parallel(n_jobs=1)]: Done  67 out of  67 | elapsed:   31.8s remaining:    0.0s\n",
            "[Parallel(n_jobs=1)]: Done  68 out of  68 | elapsed:   32.2s remaining:    0.0s\n",
            "[Parallel(n_jobs=1)]: Done  69 out of  69 | elapsed:   32.7s remaining:    0.0s\n",
            "[Parallel(n_jobs=1)]: Done  70 out of  70 | elapsed:   33.2s remaining:    0.0s\n",
            "[Parallel(n_jobs=1)]: Done  71 out of  71 | elapsed:   33.6s remaining:    0.0s\n",
            "[Parallel(n_jobs=1)]: Done  72 out of  72 | elapsed:   34.1s remaining:    0.0s\n",
            "[Parallel(n_jobs=1)]: Done  73 out of  73 | elapsed:   34.6s remaining:    0.0s\n",
            "[Parallel(n_jobs=1)]: Done  74 out of  74 | elapsed:   35.0s remaining:    0.0s\n",
            "[Parallel(n_jobs=1)]: Done  75 out of  75 | elapsed:   35.5s remaining:    0.0s\n",
            "[Parallel(n_jobs=1)]: Done  76 out of  76 | elapsed:   35.9s remaining:    0.0s\n",
            "[Parallel(n_jobs=1)]: Done  77 out of  77 | elapsed:   36.4s remaining:    0.0s\n",
            "[Parallel(n_jobs=1)]: Done  78 out of  78 | elapsed:   36.9s remaining:    0.0s\n",
            "[Parallel(n_jobs=1)]: Done  79 out of  79 | elapsed:   37.3s remaining:    0.0s\n",
            "[Parallel(n_jobs=1)]: Done  80 out of  80 | elapsed:   37.8s remaining:    0.0s\n",
            "[Parallel(n_jobs=1)]: Done  81 out of  81 | elapsed:   38.3s remaining:    0.0s\n",
            "[Parallel(n_jobs=1)]: Done  82 out of  82 | elapsed:   38.7s remaining:    0.0s\n",
            "[Parallel(n_jobs=1)]: Done  83 out of  83 | elapsed:   39.2s remaining:    0.0s\n",
            "[Parallel(n_jobs=1)]: Done  84 out of  84 | elapsed:   39.6s remaining:    0.0s\n",
            "[Parallel(n_jobs=1)]: Done  85 out of  85 | elapsed:   40.1s remaining:    0.0s\n",
            "[Parallel(n_jobs=1)]: Done  86 out of  86 | elapsed:   40.6s remaining:    0.0s\n",
            "[Parallel(n_jobs=1)]: Done  87 out of  87 | elapsed:   41.1s remaining:    0.0s\n",
            "[Parallel(n_jobs=1)]: Done  88 out of  88 | elapsed:   41.6s remaining:    0.0s\n",
            "[Parallel(n_jobs=1)]: Done  89 out of  89 | elapsed:   42.1s remaining:    0.0s\n",
            "[Parallel(n_jobs=1)]: Done  90 out of  90 | elapsed:   42.5s remaining:    0.0s\n",
            "[Parallel(n_jobs=1)]: Done  91 out of  91 | elapsed:   43.0s remaining:    0.0s\n",
            "[Parallel(n_jobs=1)]: Done  92 out of  92 | elapsed:   43.5s remaining:    0.0s\n",
            "[Parallel(n_jobs=1)]: Done  93 out of  93 | elapsed:   44.0s remaining:    0.0s\n",
            "[Parallel(n_jobs=1)]: Done  94 out of  94 | elapsed:   44.5s remaining:    0.0s\n",
            "[Parallel(n_jobs=1)]: Done  95 out of  95 | elapsed:   45.0s remaining:    0.0s\n",
            "[Parallel(n_jobs=1)]: Done  96 out of  96 | elapsed:   45.4s remaining:    0.0s\n",
            "[Parallel(n_jobs=1)]: Done  97 out of  97 | elapsed:   45.9s remaining:    0.0s\n",
            "[Parallel(n_jobs=1)]: Done  98 out of  98 | elapsed:   46.4s remaining:    0.0s\n",
            "[Parallel(n_jobs=1)]: Done  99 out of  99 | elapsed:   46.9s remaining:    0.0s\n",
            "[Parallel(n_jobs=1)]: Done 100 out of 100 | elapsed:   47.5s remaining:    0.0s\n",
            "[Parallel(n_jobs=1)]: Done 100 out of 100 | elapsed:   47.5s finished\n"
          ]
        },
        {
          "output_type": "display_data",
          "data": {
            "text/plain": [
              "<Figure size 432x288 with 2 Axes>"
            ],
            "image/png": "[encoded data removed]"
          },
          "metadata": {
            "needs_background": "light"
          }
        }
      ]
    }
  ]
}