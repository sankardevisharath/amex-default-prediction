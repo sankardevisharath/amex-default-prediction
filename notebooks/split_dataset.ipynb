{
  "nbformat": 4,
  "nbformat_minor": 0,
  "metadata": {
    "colab": {
      "name": "split_dataset.ipynb",
      "provenance": [],
      "authorship_tag": "ABX9TyN/N1HxAH3BVIxt/JKvaQUS",
      "include_colab_link": true
    },
    "kernelspec": {
      "name": "python3",
      "display_name": "Python 3"
    },
    "language_info": {
      "name": "python"
    }
  },
  "cells": [
    {
      "cell_type": "markdown",
      "metadata": {
        "id": "view-in-github",
        "colab_type": "text"
      },
      "source": [
        "<a href=\"https://colab.research.google.com/github/sankardevisharath/amex-default-prediction/blob/master/notebooks/split_dataset.ipynb\" target=\"_parent\"><img src=\"https://colab.research.google.com/assets/colab-badge.svg\" alt=\"Open In Colab\"/></a>"
      ]
    },
    {
      "cell_type": "markdown",
      "source": [
        "# Split Dataset into Multiple Files\n",
        "\n"
      ],
      "metadata": {
        "id": "rBC5Y5rx_wsM"
      }
    },
    {
      "cell_type": "markdown",
      "source": [
        "## Load Data From Google Drive"
      ],
      "metadata": {
        "id": "MLzT3WULHdE9"
      }
    },
    {
      "cell_type": "code",
      "execution_count": 1,
      "metadata": {
        "colab": {
          "base_uri": "https://localhost:8080/"
        },
        "id": "yvfeyd0hABGq",
        "outputId": "8311c414-5a56-4947-d9df-161130748ec2"
      },
      "outputs": [
        {
          "output_type": "stream",
          "name": "stdout",
          "text": [
            "Mounted at /content/drive\n"
          ]
        }
      ],
      "source": [
        "from google.colab import drive\n",
        "drive.mount('/content/drive')"
      ]
    },
    {
      "cell_type": "code",
      "source": [
        "%mkdir data\n",
        "%cd data\n",
        "%mkdir raw\n",
        "%cd raw"
      ],
      "metadata": {
        "colab": {
          "base_uri": "https://localhost:8080/"
        },
        "id": "og0YOAJeAMAW",
        "outputId": "1169bbdb-5109-42d1-ceeb-c4b7395c4269"
      },
      "execution_count": 2,
      "outputs": [
        {
          "output_type": "stream",
          "name": "stdout",
          "text": [
            "/content/data\n",
            "/content/data/raw\n"
          ]
        }
      ]
    },
    {
      "cell_type": "code",
      "source": [
        "!cp /content/drive/MyDrive/amex-default-prediction/data/raw/amex-default-prediction.zip ."
      ],
      "metadata": {
        "id": "RVbGGz4kAj3e"
      },
      "execution_count": 3,
      "outputs": []
    },
    {
      "cell_type": "code",
      "source": [
        "!unzip amex-default-prediction.zip train_data.csv"
      ],
      "metadata": {
        "colab": {
          "base_uri": "https://localhost:8080/"
        },
        "id": "rIPZVv6vAzfV",
        "outputId": "e5231a5d-622b-4468-e1cd-53bcd3bb2fde"
      },
      "execution_count": 4,
      "outputs": [
        {
          "output_type": "stream",
          "name": "stdout",
          "text": [
            "Archive:  amex-default-prediction.zip\n",
            "  inflating: train_data.csv          \n"
          ]
        }
      ]
    },
    {
      "cell_type": "code",
      "source": [
        "!unzip amex-default-prediction.zip train_labels.csv"
      ],
      "metadata": {
        "colab": {
          "base_uri": "https://localhost:8080/"
        },
        "id": "Kjbk0awRAzIg",
        "outputId": "f26c24eb-e68c-47f0-f509-64dd5b80a9b7"
      },
      "execution_count": 5,
      "outputs": [
        {
          "output_type": "stream",
          "name": "stdout",
          "text": [
            "Archive:  amex-default-prediction.zip\n",
            "  inflating: train_labels.csv        \n"
          ]
        }
      ]
    },
    {
      "cell_type": "markdown",
      "source": [
        "## Setup Environment"
      ],
      "metadata": {
        "id": "sdQ2upCKADtu"
      }
    },
    {
      "cell_type": "code",
      "source": [
        "!pip install dask[dataframe]"
      ],
      "metadata": {
        "id": "-VWXkdof_isq",
        "outputId": "4e42f8ff-c662-467f-8025-9b30a80714ec",
        "colab": {
          "base_uri": "https://localhost:8080/"
        }
      },
      "execution_count": 9,
      "outputs": [
        {
          "output_type": "stream",
          "name": "stdout",
          "text": [
            "Looking in indexes: https://pypi.org/simple, https://us-python.pkg.dev/colab-wheels/public/simple/\n",
            "Requirement already satisfied: dask[dataframe] in /usr/local/lib/python3.7/dist-packages (2.12.0)\n",
            "Requirement already satisfied: pandas>=0.23.0 in /usr/local/lib/python3.7/dist-packages (from dask[dataframe]) (1.3.5)\n",
            "Requirement already satisfied: partd>=0.3.10 in /usr/local/lib/python3.7/dist-packages (from dask[dataframe]) (1.2.0)\n",
            "Requirement already satisfied: numpy>=1.13.0 in /usr/local/lib/python3.7/dist-packages (from dask[dataframe]) (1.21.6)\n",
            "Requirement already satisfied: fsspec>=0.6.0 in /usr/local/lib/python3.7/dist-packages (from dask[dataframe]) (2022.5.0)\n",
            "Requirement already satisfied: toolz>=0.7.3 in /usr/local/lib/python3.7/dist-packages (from dask[dataframe]) (0.12.0)\n",
            "Requirement already satisfied: python-dateutil>=2.7.3 in /usr/local/lib/python3.7/dist-packages (from pandas>=0.23.0->dask[dataframe]) (2.8.2)\n",
            "Requirement already satisfied: pytz>=2017.3 in /usr/local/lib/python3.7/dist-packages (from pandas>=0.23.0->dask[dataframe]) (2022.1)\n",
            "Requirement already satisfied: locket in /usr/local/lib/python3.7/dist-packages (from partd>=0.3.10->dask[dataframe]) (1.0.0)\n",
            "Requirement already satisfied: six>=1.5 in /usr/local/lib/python3.7/dist-packages (from python-dateutil>=2.7.3->pandas>=0.23.0->dask[dataframe]) (1.15.0)\n"
          ]
        }
      ]
    },
    {
      "cell_type": "code",
      "source": [
        "import gc\n",
        "\n",
        "import pandas as pd\n",
        "import numpy as np \n",
        "import seaborn as sns\n",
        "import matplotlib.pyplot as plt\n",
        "\n",
        "import dask\n",
        "import dask.dataframe as dd"
      ],
      "metadata": {
        "id": "IkrUD-5OH7Q1"
      },
      "execution_count": 10,
      "outputs": []
    },
    {
      "cell_type": "code",
      "source": [
        "TRAIN_DATA_PATH = '/content/data/raw/train_data.csv'\n",
        "TRAIN_LABELS_PATH = '/content/data/raw/train_labels.csv'"
      ],
      "metadata": {
        "id": "QICb1ZPLpymT"
      },
      "execution_count": 11,
      "outputs": []
    },
    {
      "cell_type": "code",
      "source": [
        "def read_cols(cols):\n",
        "  df = pd.read_csv(TRAIN_DATA_PATH, usecols=cols)\n",
        "  df = append_label(df)\n",
        "  return df\n",
        "\n",
        "def append_label(source_df):\n",
        "  return pd.merge(left=source_df, right=train_labels, how='inner')"
      ],
      "metadata": {
        "id": "L_IXM4tjwJPD"
      },
      "execution_count": 12,
      "outputs": []
    },
    {
      "cell_type": "markdown",
      "source": [
        "## Load Train Label"
      ],
      "metadata": {
        "id": "x-jo3_XmAQ8e"
      }
    },
    {
      "cell_type": "code",
      "source": [
        "train_labels = pd.read_csv(TRAIN_LABELS_PATH)"
      ],
      "metadata": {
        "id": "aS4pw9sNKSnh"
      },
      "execution_count": 13,
      "outputs": []
    },
    {
      "cell_type": "code",
      "source": [
        "train_labels.info()"
      ],
      "metadata": {
        "id": "X2Iih-ubKbAb",
        "outputId": "ea5e1840-c205-45a8-c455-a051bffabe5a",
        "colab": {
          "base_uri": "https://localhost:8080/"
        }
      },
      "execution_count": 14,
      "outputs": [
        {
          "output_type": "stream",
          "name": "stdout",
          "text": [
            "<class 'pandas.core.frame.DataFrame'>\n",
            "RangeIndex: 458913 entries, 0 to 458912\n",
            "Data columns (total 2 columns):\n",
            " #   Column       Non-Null Count   Dtype \n",
            "---  ------       --------------   ----- \n",
            " 0   customer_ID  458913 non-null  object\n",
            " 1   target       458913 non-null  int64 \n",
            "dtypes: int64(1), object(1)\n",
            "memory usage: 7.0+ MB\n"
          ]
        }
      ]
    },
    {
      "cell_type": "markdown",
      "source": [
        "## Load Minimal Columns"
      ],
      "metadata": {
        "id": "y_VHDXbHAiCQ"
      }
    },
    {
      "cell_type": "code",
      "source": [
        "cust_id_stmt_date_df = pd.read_csv(TRAIN_DATA_PATH, usecols=['customer_ID', 'S_2'])\n",
        "print(f'Total number of rows in the dataset is {cust_id_stmt_date_df.shape[0]}')"
      ],
      "metadata": {
        "id": "qxTPinIoIaZK"
      },
      "execution_count": 16,
      "outputs": []
    },
    {
      "cell_type": "code",
      "source": [
        "customers = cust_id_stmt_date_df.customer_ID.unique().tolist()\n",
        "print(f'Total number of unique customers is {len(customers)}')"
      ],
      "metadata": {
        "id": "242NU3-Iud0L",
        "outputId": "a7a8fd10-5402-4169-9451-6a19a2508144",
        "colab": {
          "base_uri": "https://localhost:8080/"
        }
      },
      "execution_count": 18,
      "outputs": [
        {
          "output_type": "stream",
          "name": "stdout",
          "text": [
            "Total number of unique customers is 458913\n"
          ]
        }
      ]
    },
    {
      "cell_type": "code",
      "source": [
        "cust_id_stmt_date_df['S_2'] = pd.to_datetime(cust_id_stmt_date_df[\"S_2\"])"
      ],
      "metadata": {
        "id": "NIWpBHtvCzVK"
      },
      "execution_count": 21,
      "outputs": []
    },
    {
      "cell_type": "markdown",
      "source": [
        "## Split Data Customer Wise\n",
        "\n",
        "Read data customerwise and save the result in `parquet` format to google drive."
      ],
      "metadata": {
        "id": "cLqvwjteBh2b"
      }
    },
    {
      "cell_type": "code",
      "source": [
        "df = dd.read_csv(TRAIN_DATA_PATH)\n",
        "print(f'Total number of partitions in the Dask dataframe is {df.npartitions}')"
      ],
      "metadata": {
        "id": "BxkNxFCaBmsp",
        "outputId": "ea4b411b-13ce-4932-f718-b0f1e43802d5",
        "colab": {
          "base_uri": "https://localhost:8080/"
        }
      },
      "execution_count": 20,
      "outputs": [
        {
          "output_type": "stream",
          "name": "stdout",
          "text": [
            "Total number of partitions in the Dask dataframe is 257\n"
          ]
        }
      ]
    },
    {
      "cell_type": "code",
      "source": [
        ""
      ],
      "metadata": {
        "id": "2tOJ1mfQCSpc"
      },
      "execution_count": null,
      "outputs": []
    },
    {
      "cell_type": "code",
      "source": [
        "rdf = pd.DataFrame()\n",
        "for i in range(df.npartitions):\n",
        "  print(i)\n",
        "  ddf1 = df.partitions[i].compute()\n",
        "  rdf = rdf.append(ddf1[ddf1.customer_ID.isin(customers[0:100000])], ignore_index=True)\n",
        "  print(rdf.shape)"
      ],
      "metadata": {
        "id": "NRbQzLgHB8mo"
      },
      "execution_count": null,
      "outputs": []
    },
    {
      "cell_type": "code",
      "source": [
        "rdf.info()"
      ],
      "metadata": {
        "colab": {
          "base_uri": "https://localhost:8080/"
        },
        "id": "kWv4yLYICfXy",
        "outputId": "ae823272-89d8-497a-897a-aa10f0bbd582"
      },
      "execution_count": null,
      "outputs": [
        {
          "output_type": "stream",
          "name": "stdout",
          "text": [
            "<class 'pandas.core.frame.DataFrame'>\n",
            "RangeIndex: 1326261 entries, 0 to 1326260\n",
            "Columns: 190 entries, customer_ID to D_145\n",
            "dtypes: float64(185), int64(1), object(4)\n",
            "memory usage: 1.9+ GB\n"
          ]
        }
      ]
    },
    {
      "cell_type": "code",
      "source": [
        "rdf.to_parquet(path='data_1.parquet')"
      ],
      "metadata": {
        "id": "jRpi4kchO_30"
      },
      "execution_count": null,
      "outputs": []
    },
    {
      "cell_type": "code",
      "source": [
        "!cp data_1.parquet /content/drive/MyDrive/amex-default-prediction/data/raw/"
      ],
      "metadata": {
        "id": "5EYilNTIQ6Zf"
      },
      "execution_count": null,
      "outputs": []
    },
    {
      "cell_type": "markdown",
      "source": [
        "## Split Data Month Wise"
      ],
      "metadata": {
        "id": "G1OjmR3WCGpn"
      }
    },
    {
      "cell_type": "code",
      "source": [
        "periods = list(cust_id_stmt_date_df.S_2.dt.to_period('M').unique().astype(str))"
      ],
      "metadata": {
        "id": "aSgJUnyGCjDH"
      },
      "execution_count": 30,
      "outputs": []
    },
    {
      "cell_type": "code",
      "source": [
        "for period in periods:\n",
        "  print(period)\n",
        "  rdf = pd.DataFrame()\n",
        "  for i in range(df.npartitions):\n",
        "    ddf1 = df.partitions[i].compute()\n",
        "    ddf1['S_2'] = pd.to_datetime(ddf1[\"S_2\"])\n",
        "    rdf = rdf.append(ddf1[ddf1.S_2.dt.to_period('M')== period], ignore_index=True)\n",
        "    if(i%30 == 0):\n",
        "      print(i)\n",
        "      print(rdf.shape)\n",
        "  rdf.to_parquet(path='data_' + period + '.parquet')\n",
        "  del rdf\n"
      ],
      "metadata": {
        "id": "0QZr92nFRhN6"
      },
      "execution_count": null,
      "outputs": []
    },
    {
      "cell_type": "code",
      "source": [
        "!cp /content/data/raw/data_*.parquet /content/drive/MyDrive/amex-default-prediction/data/raw/"
      ],
      "metadata": {
        "id": "jlVyCqxHTZnv"
      },
      "execution_count": 36,
      "outputs": []
    }
  ]
}